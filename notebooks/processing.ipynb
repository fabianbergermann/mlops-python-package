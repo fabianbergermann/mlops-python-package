{
 "cells": [
  {
   "cell_type": "markdown",
   "metadata": {},
   "source": [
    "0. **Define** a schema for the data.\n",
    "1. **Extract** all data from CSV files.\n",
    "2. **Transform** data into inputs/targets.\n",
    "3. **Split** inputs/targets into train/test sets.\n",
    "4. **Sample** inputs/targets for the testing sets.\n",
    "5. **Load** outputs inputs/targets to parquet files."
   ]
  },
  {
   "cell_type": "markdown",
   "metadata": {},
   "source": [
    "# IMPORTS"
   ]
  },
  {
   "cell_type": "code",
   "execution_count": 1,
   "metadata": {},
   "outputs": [],
   "source": [
    "import polars as pl\n",
    "from sklearn.model_selection import train_test_split"
   ]
  },
  {
   "cell_type": "markdown",
   "metadata": {},
   "source": [
    "# CONFIGS"
   ]
  },
  {
   "cell_type": "markdown",
   "metadata": {},
   "source": [
    "## Schema"
   ]
  },
  {
   "cell_type": "code",
   "execution_count": 2,
   "metadata": {},
   "outputs": [],
   "source": [
    "SCHEMA = {\n",
    "    \"instant\": pl.UInt32,\n",
    "    \"dteday\": pl.Datetime,\n",
    "    \"season\": pl.UInt8,\n",
    "    \"yr\": pl.UInt8,\n",
    "    \"mnth\": pl.UInt8,\n",
    "    \"hr\": pl.UInt8,\n",
    "    \"holiday\": pl.Boolean,\n",
    "    \"weekday\": pl.UInt8,\n",
    "    \"workingday\": pl.Boolean,\n",
    "    \"weathersit\": pl.UInt8,\n",
    "    \"temp\": pl.Float32,\n",
    "    \"atemp\": pl.Float32,\n",
    "    \"hum\": pl.Float32,\n",
    "    \"windspeed\": pl.Float32,\n",
    "    \"casual\": pl.UInt32,\n",
    "    \"registered\": pl.UInt32,\n",
    "    \"cnt\": pl.UInt32,\n",
    "}"
   ]
  },
  {
   "cell_type": "markdown",
   "metadata": {},
   "source": [
    "## Extract"
   ]
  },
  {
   "cell_type": "code",
   "execution_count": 3,
   "metadata": {},
   "outputs": [],
   "source": [
    "HOUR_FILE = \"../data/hour.csv\""
   ]
  },
  {
   "cell_type": "markdown",
   "metadata": {},
   "source": [
    "## Transform"
   ]
  },
  {
   "cell_type": "code",
   "execution_count": 4,
   "metadata": {},
   "outputs": [],
   "source": [
    "INDEX_COL = \"instant\"\n",
    "TARGET_COL = \"cnt\""
   ]
  },
  {
   "cell_type": "markdown",
   "metadata": {},
   "source": [
    "# Split"
   ]
  },
  {
   "cell_type": "code",
   "execution_count": 5,
   "metadata": {},
   "outputs": [],
   "source": [
    "SHUFFLE = False  # time-sensitive\n",
    "TEST_SIZE = 0.2"
   ]
  },
  {
   "cell_type": "markdown",
   "metadata": {},
   "source": [
    "# Sample"
   ]
  },
  {
   "cell_type": "code",
   "execution_count": 6,
   "metadata": {},
   "outputs": [],
   "source": [
    "SAMPLE_SIZE = 2000"
   ]
  },
  {
   "cell_type": "markdown",
   "metadata": {},
   "source": [
    "## Load"
   ]
  },
  {
   "cell_type": "code",
   "execution_count": 7,
   "metadata": {},
   "outputs": [],
   "source": [
    "INPUTS_TRAIN_FILE = \"../data/inputs_train.parquet\"\n",
    "INPUTS_TEST_FILE = \"../data/inputs_test.parquet\"\n",
    "TARGETS_TRAIN_FILE = \"../data/targets_train.parquet\"\n",
    "TARGETS_TEST_FILE = \"../data/targets_test.parquet\"\n",
    "INPUTS_SAMPLE_FILE = \"../tests/data/inputs_sample.parquet\"\n",
    "TARGETS_SAMPLE_FILE = \"../tests/data/targets_sample.parquet\""
   ]
  },
  {
   "cell_type": "markdown",
   "metadata": {},
   "source": [
    "# EXTRACT"
   ]
  },
  {
   "cell_type": "code",
   "execution_count": 8,
   "metadata": {},
   "outputs": [
    {
     "data": {
      "text/html": [
       "<div><style>\n",
       ".dataframe > thead > tr,\n",
       ".dataframe > tbody > tr {\n",
       "  text-align: right;\n",
       "  white-space: pre-wrap;\n",
       "}\n",
       "</style>\n",
       "<small>shape: (17_379, 17)</small><table border=\"1\" class=\"dataframe\"><thead><tr><th>instant</th><th>dteday</th><th>season</th><th>yr</th><th>mnth</th><th>hr</th><th>holiday</th><th>weekday</th><th>workingday</th><th>weathersit</th><th>temp</th><th>atemp</th><th>hum</th><th>windspeed</th><th>casual</th><th>registered</th><th>cnt</th></tr><tr><td>u32</td><td>datetime[μs]</td><td>u8</td><td>u8</td><td>u8</td><td>u8</td><td>bool</td><td>u8</td><td>bool</td><td>u8</td><td>f32</td><td>f32</td><td>f32</td><td>f32</td><td>u32</td><td>u32</td><td>u32</td></tr></thead><tbody><tr><td>1</td><td>2011-01-01 00:00:00</td><td>1</td><td>0</td><td>1</td><td>0</td><td>false</td><td>6</td><td>false</td><td>1</td><td>0.24</td><td>0.2879</td><td>0.81</td><td>0.0</td><td>3</td><td>13</td><td>16</td></tr><tr><td>2</td><td>2011-01-01 00:00:00</td><td>1</td><td>0</td><td>1</td><td>1</td><td>false</td><td>6</td><td>false</td><td>1</td><td>0.22</td><td>0.2727</td><td>0.8</td><td>0.0</td><td>8</td><td>32</td><td>40</td></tr><tr><td>3</td><td>2011-01-01 00:00:00</td><td>1</td><td>0</td><td>1</td><td>2</td><td>false</td><td>6</td><td>false</td><td>1</td><td>0.22</td><td>0.2727</td><td>0.8</td><td>0.0</td><td>5</td><td>27</td><td>32</td></tr><tr><td>4</td><td>2011-01-01 00:00:00</td><td>1</td><td>0</td><td>1</td><td>3</td><td>false</td><td>6</td><td>false</td><td>1</td><td>0.24</td><td>0.2879</td><td>0.75</td><td>0.0</td><td>3</td><td>10</td><td>13</td></tr><tr><td>5</td><td>2011-01-01 00:00:00</td><td>1</td><td>0</td><td>1</td><td>4</td><td>false</td><td>6</td><td>false</td><td>1</td><td>0.24</td><td>0.2879</td><td>0.75</td><td>0.0</td><td>0</td><td>1</td><td>1</td></tr><tr><td>&hellip;</td><td>&hellip;</td><td>&hellip;</td><td>&hellip;</td><td>&hellip;</td><td>&hellip;</td><td>&hellip;</td><td>&hellip;</td><td>&hellip;</td><td>&hellip;</td><td>&hellip;</td><td>&hellip;</td><td>&hellip;</td><td>&hellip;</td><td>&hellip;</td><td>&hellip;</td><td>&hellip;</td></tr><tr><td>17375</td><td>2012-12-31 00:00:00</td><td>1</td><td>1</td><td>12</td><td>19</td><td>false</td><td>1</td><td>true</td><td>2</td><td>0.26</td><td>0.2576</td><td>0.6</td><td>0.1642</td><td>11</td><td>108</td><td>119</td></tr><tr><td>17376</td><td>2012-12-31 00:00:00</td><td>1</td><td>1</td><td>12</td><td>20</td><td>false</td><td>1</td><td>true</td><td>2</td><td>0.26</td><td>0.2576</td><td>0.6</td><td>0.1642</td><td>8</td><td>81</td><td>89</td></tr><tr><td>17377</td><td>2012-12-31 00:00:00</td><td>1</td><td>1</td><td>12</td><td>21</td><td>false</td><td>1</td><td>true</td><td>1</td><td>0.26</td><td>0.2576</td><td>0.6</td><td>0.1642</td><td>7</td><td>83</td><td>90</td></tr><tr><td>17378</td><td>2012-12-31 00:00:00</td><td>1</td><td>1</td><td>12</td><td>22</td><td>false</td><td>1</td><td>true</td><td>1</td><td>0.26</td><td>0.2727</td><td>0.56</td><td>0.1343</td><td>13</td><td>48</td><td>61</td></tr><tr><td>17379</td><td>2012-12-31 00:00:00</td><td>1</td><td>1</td><td>12</td><td>23</td><td>false</td><td>1</td><td>true</td><td>1</td><td>0.26</td><td>0.2727</td><td>0.65</td><td>0.1343</td><td>12</td><td>37</td><td>49</td></tr></tbody></table></div>"
      ],
      "text/plain": [
       "shape: (17_379, 17)\n",
       "┌─────────┬─────────────────────┬────────┬─────┬───┬───────────┬────────┬────────────┬─────┐\n",
       "│ instant ┆ dteday              ┆ season ┆ yr  ┆ … ┆ windspeed ┆ casual ┆ registered ┆ cnt │\n",
       "│ ---     ┆ ---                 ┆ ---    ┆ --- ┆   ┆ ---       ┆ ---    ┆ ---        ┆ --- │\n",
       "│ u32     ┆ datetime[μs]        ┆ u8     ┆ u8  ┆   ┆ f32       ┆ u32    ┆ u32        ┆ u32 │\n",
       "╞═════════╪═════════════════════╪════════╪═════╪═══╪═══════════╪════════╪════════════╪═════╡\n",
       "│ 1       ┆ 2011-01-01 00:00:00 ┆ 1      ┆ 0   ┆ … ┆ 0.0       ┆ 3      ┆ 13         ┆ 16  │\n",
       "│ 2       ┆ 2011-01-01 00:00:00 ┆ 1      ┆ 0   ┆ … ┆ 0.0       ┆ 8      ┆ 32         ┆ 40  │\n",
       "│ 3       ┆ 2011-01-01 00:00:00 ┆ 1      ┆ 0   ┆ … ┆ 0.0       ┆ 5      ┆ 27         ┆ 32  │\n",
       "│ 4       ┆ 2011-01-01 00:00:00 ┆ 1      ┆ 0   ┆ … ┆ 0.0       ┆ 3      ┆ 10         ┆ 13  │\n",
       "│ 5       ┆ 2011-01-01 00:00:00 ┆ 1      ┆ 0   ┆ … ┆ 0.0       ┆ 0      ┆ 1          ┆ 1   │\n",
       "│ …       ┆ …                   ┆ …      ┆ …   ┆ … ┆ …         ┆ …      ┆ …          ┆ …   │\n",
       "│ 17375   ┆ 2012-12-31 00:00:00 ┆ 1      ┆ 1   ┆ … ┆ 0.1642    ┆ 11     ┆ 108        ┆ 119 │\n",
       "│ 17376   ┆ 2012-12-31 00:00:00 ┆ 1      ┆ 1   ┆ … ┆ 0.1642    ┆ 8      ┆ 81         ┆ 89  │\n",
       "│ 17377   ┆ 2012-12-31 00:00:00 ┆ 1      ┆ 1   ┆ … ┆ 0.1642    ┆ 7      ┆ 83         ┆ 90  │\n",
       "│ 17378   ┆ 2012-12-31 00:00:00 ┆ 1      ┆ 1   ┆ … ┆ 0.1343    ┆ 13     ┆ 48         ┆ 61  │\n",
       "│ 17379   ┆ 2012-12-31 00:00:00 ┆ 1      ┆ 1   ┆ … ┆ 0.1343    ┆ 12     ┆ 37         ┆ 49  │\n",
       "└─────────┴─────────────────────┴────────┴─────┴───┴───────────┴────────┴────────────┴─────┘"
      ]
     },
     "execution_count": 8,
     "metadata": {},
     "output_type": "execute_result"
    }
   ],
   "source": [
    "hour = pl.read_csv(HOUR_FILE, try_parse_dates=True).cast(SCHEMA)\n",
    "hour"
   ]
  },
  {
   "cell_type": "markdown",
   "metadata": {},
   "source": [
    "# TRANFORM"
   ]
  },
  {
   "cell_type": "code",
   "execution_count": 9,
   "metadata": {},
   "outputs": [
    {
     "data": {
      "text/html": [
       "<div><style>\n",
       ".dataframe > thead > tr,\n",
       ".dataframe > tbody > tr {\n",
       "  text-align: right;\n",
       "  white-space: pre-wrap;\n",
       "}\n",
       "</style>\n",
       "<small>shape: (17_379, 16)</small><table border=\"1\" class=\"dataframe\"><thead><tr><th>instant</th><th>dteday</th><th>season</th><th>yr</th><th>mnth</th><th>hr</th><th>holiday</th><th>weekday</th><th>workingday</th><th>weathersit</th><th>temp</th><th>atemp</th><th>hum</th><th>windspeed</th><th>casual</th><th>registered</th></tr><tr><td>u32</td><td>datetime[μs]</td><td>u8</td><td>u8</td><td>u8</td><td>u8</td><td>bool</td><td>u8</td><td>bool</td><td>u8</td><td>f32</td><td>f32</td><td>f32</td><td>f32</td><td>u32</td><td>u32</td></tr></thead><tbody><tr><td>1</td><td>2011-01-01 00:00:00</td><td>1</td><td>0</td><td>1</td><td>0</td><td>false</td><td>6</td><td>false</td><td>1</td><td>0.24</td><td>0.2879</td><td>0.81</td><td>0.0</td><td>3</td><td>13</td></tr><tr><td>2</td><td>2011-01-01 00:00:00</td><td>1</td><td>0</td><td>1</td><td>1</td><td>false</td><td>6</td><td>false</td><td>1</td><td>0.22</td><td>0.2727</td><td>0.8</td><td>0.0</td><td>8</td><td>32</td></tr><tr><td>3</td><td>2011-01-01 00:00:00</td><td>1</td><td>0</td><td>1</td><td>2</td><td>false</td><td>6</td><td>false</td><td>1</td><td>0.22</td><td>0.2727</td><td>0.8</td><td>0.0</td><td>5</td><td>27</td></tr><tr><td>4</td><td>2011-01-01 00:00:00</td><td>1</td><td>0</td><td>1</td><td>3</td><td>false</td><td>6</td><td>false</td><td>1</td><td>0.24</td><td>0.2879</td><td>0.75</td><td>0.0</td><td>3</td><td>10</td></tr><tr><td>5</td><td>2011-01-01 00:00:00</td><td>1</td><td>0</td><td>1</td><td>4</td><td>false</td><td>6</td><td>false</td><td>1</td><td>0.24</td><td>0.2879</td><td>0.75</td><td>0.0</td><td>0</td><td>1</td></tr><tr><td>&hellip;</td><td>&hellip;</td><td>&hellip;</td><td>&hellip;</td><td>&hellip;</td><td>&hellip;</td><td>&hellip;</td><td>&hellip;</td><td>&hellip;</td><td>&hellip;</td><td>&hellip;</td><td>&hellip;</td><td>&hellip;</td><td>&hellip;</td><td>&hellip;</td><td>&hellip;</td></tr><tr><td>17375</td><td>2012-12-31 00:00:00</td><td>1</td><td>1</td><td>12</td><td>19</td><td>false</td><td>1</td><td>true</td><td>2</td><td>0.26</td><td>0.2576</td><td>0.6</td><td>0.1642</td><td>11</td><td>108</td></tr><tr><td>17376</td><td>2012-12-31 00:00:00</td><td>1</td><td>1</td><td>12</td><td>20</td><td>false</td><td>1</td><td>true</td><td>2</td><td>0.26</td><td>0.2576</td><td>0.6</td><td>0.1642</td><td>8</td><td>81</td></tr><tr><td>17377</td><td>2012-12-31 00:00:00</td><td>1</td><td>1</td><td>12</td><td>21</td><td>false</td><td>1</td><td>true</td><td>1</td><td>0.26</td><td>0.2576</td><td>0.6</td><td>0.1642</td><td>7</td><td>83</td></tr><tr><td>17378</td><td>2012-12-31 00:00:00</td><td>1</td><td>1</td><td>12</td><td>22</td><td>false</td><td>1</td><td>true</td><td>1</td><td>0.26</td><td>0.2727</td><td>0.56</td><td>0.1343</td><td>13</td><td>48</td></tr><tr><td>17379</td><td>2012-12-31 00:00:00</td><td>1</td><td>1</td><td>12</td><td>23</td><td>false</td><td>1</td><td>true</td><td>1</td><td>0.26</td><td>0.2727</td><td>0.65</td><td>0.1343</td><td>12</td><td>37</td></tr></tbody></table></div>"
      ],
      "text/plain": [
       "shape: (17_379, 16)\n",
       "┌─────────┬─────────────────────┬────────┬─────┬───┬──────┬───────────┬────────┬────────────┐\n",
       "│ instant ┆ dteday              ┆ season ┆ yr  ┆ … ┆ hum  ┆ windspeed ┆ casual ┆ registered │\n",
       "│ ---     ┆ ---                 ┆ ---    ┆ --- ┆   ┆ ---  ┆ ---       ┆ ---    ┆ ---        │\n",
       "│ u32     ┆ datetime[μs]        ┆ u8     ┆ u8  ┆   ┆ f32  ┆ f32       ┆ u32    ┆ u32        │\n",
       "╞═════════╪═════════════════════╪════════╪═════╪═══╪══════╪═══════════╪════════╪════════════╡\n",
       "│ 1       ┆ 2011-01-01 00:00:00 ┆ 1      ┆ 0   ┆ … ┆ 0.81 ┆ 0.0       ┆ 3      ┆ 13         │\n",
       "│ 2       ┆ 2011-01-01 00:00:00 ┆ 1      ┆ 0   ┆ … ┆ 0.8  ┆ 0.0       ┆ 8      ┆ 32         │\n",
       "│ 3       ┆ 2011-01-01 00:00:00 ┆ 1      ┆ 0   ┆ … ┆ 0.8  ┆ 0.0       ┆ 5      ┆ 27         │\n",
       "│ 4       ┆ 2011-01-01 00:00:00 ┆ 1      ┆ 0   ┆ … ┆ 0.75 ┆ 0.0       ┆ 3      ┆ 10         │\n",
       "│ 5       ┆ 2011-01-01 00:00:00 ┆ 1      ┆ 0   ┆ … ┆ 0.75 ┆ 0.0       ┆ 0      ┆ 1          │\n",
       "│ …       ┆ …                   ┆ …      ┆ …   ┆ … ┆ …    ┆ …         ┆ …      ┆ …          │\n",
       "│ 17375   ┆ 2012-12-31 00:00:00 ┆ 1      ┆ 1   ┆ … ┆ 0.6  ┆ 0.1642    ┆ 11     ┆ 108        │\n",
       "│ 17376   ┆ 2012-12-31 00:00:00 ┆ 1      ┆ 1   ┆ … ┆ 0.6  ┆ 0.1642    ┆ 8      ┆ 81         │\n",
       "│ 17377   ┆ 2012-12-31 00:00:00 ┆ 1      ┆ 1   ┆ … ┆ 0.6  ┆ 0.1642    ┆ 7      ┆ 83         │\n",
       "│ 17378   ┆ 2012-12-31 00:00:00 ┆ 1      ┆ 1   ┆ … ┆ 0.56 ┆ 0.1343    ┆ 13     ┆ 48         │\n",
       "│ 17379   ┆ 2012-12-31 00:00:00 ┆ 1      ┆ 1   ┆ … ┆ 0.65 ┆ 0.1343    ┆ 12     ┆ 37         │\n",
       "└─────────┴─────────────────────┴────────┴─────┴───┴──────┴───────────┴────────┴────────────┘"
      ]
     },
     "execution_count": 9,
     "metadata": {},
     "output_type": "execute_result"
    }
   ],
   "source": [
    "inputs = hour.drop(TARGET_COL)\n",
    "inputs"
   ]
  },
  {
   "cell_type": "code",
   "execution_count": 10,
   "metadata": {},
   "outputs": [
    {
     "data": {
      "text/html": [
       "<div><style>\n",
       ".dataframe > thead > tr,\n",
       ".dataframe > tbody > tr {\n",
       "  text-align: right;\n",
       "  white-space: pre-wrap;\n",
       "}\n",
       "</style>\n",
       "<small>shape: (17_379, 1)</small><table border=\"1\" class=\"dataframe\"><thead><tr><th>cnt</th></tr><tr><td>u32</td></tr></thead><tbody><tr><td>16</td></tr><tr><td>40</td></tr><tr><td>32</td></tr><tr><td>13</td></tr><tr><td>1</td></tr><tr><td>&hellip;</td></tr><tr><td>119</td></tr><tr><td>89</td></tr><tr><td>90</td></tr><tr><td>61</td></tr><tr><td>49</td></tr></tbody></table></div>"
      ],
      "text/plain": [
       "shape: (17_379, 1)\n",
       "┌─────┐\n",
       "│ cnt │\n",
       "│ --- │\n",
       "│ u32 │\n",
       "╞═════╡\n",
       "│ 16  │\n",
       "│ 40  │\n",
       "│ 32  │\n",
       "│ 13  │\n",
       "│ 1   │\n",
       "│ …   │\n",
       "│ 119 │\n",
       "│ 89  │\n",
       "│ 90  │\n",
       "│ 61  │\n",
       "│ 49  │\n",
       "└─────┘"
      ]
     },
     "execution_count": 10,
     "metadata": {},
     "output_type": "execute_result"
    }
   ],
   "source": [
    "targets = hour.select(TARGET_COL)\n",
    "targets"
   ]
  },
  {
   "cell_type": "markdown",
   "metadata": {},
   "source": [
    "# SPLIT"
   ]
  },
  {
   "cell_type": "code",
   "execution_count": 11,
   "metadata": {},
   "outputs": [
    {
     "data": {
      "text/plain": [
       "((13903, 16), (3476, 16), (13903, 1), (3476, 1))"
      ]
     },
     "execution_count": 11,
     "metadata": {},
     "output_type": "execute_result"
    }
   ],
   "source": [
    "inputs_train, inputs_test, targets_train, targets_test = train_test_split(\n",
    "    inputs, targets, test_size=TEST_SIZE, shuffle=SHUFFLE\n",
    ")\n",
    "inputs_train.shape, inputs_test.shape, targets_train.shape, targets_test.shape"
   ]
  },
  {
   "cell_type": "markdown",
   "metadata": {},
   "source": [
    "# SAMPLE"
   ]
  },
  {
   "cell_type": "code",
   "execution_count": 12,
   "metadata": {},
   "outputs": [
    {
     "data": {
      "text/plain": [
       "((2000, 16), (2000, 1))"
      ]
     },
     "execution_count": 12,
     "metadata": {},
     "output_type": "execute_result"
    }
   ],
   "source": [
    "inputs_train_sample = inputs_train.tail(SAMPLE_SIZE)\n",
    "targets_train_sample = targets_train.tail(SAMPLE_SIZE)\n",
    "inputs_train_sample.shape, targets_train_sample.shape"
   ]
  },
  {
   "cell_type": "markdown",
   "metadata": {},
   "source": [
    "# LOAD"
   ]
  },
  {
   "cell_type": "code",
   "execution_count": 13,
   "metadata": {},
   "outputs": [],
   "source": [
    "inputs_train.write_parquet(INPUTS_TRAIN_FILE)\n",
    "inputs_test.write_parquet(INPUTS_TEST_FILE)\n",
    "targets_train.write_parquet(TARGETS_TRAIN_FILE)\n",
    "targets_test.write_parquet(TARGETS_TEST_FILE)\n",
    "inputs_train_sample.write_parquet(INPUTS_SAMPLE_FILE)\n",
    "targets_train_sample.write_parquet(TARGETS_SAMPLE_FILE)"
   ]
  }
 ],
 "metadata": {
  "kernelspec": {
   "display_name": ".venv",
   "language": "python",
   "name": "python3"
  },
  "language_info": {
   "codemirror_mode": {
    "name": "ipython",
    "version": 3
   },
   "file_extension": ".py",
   "mimetype": "text/x-python",
   "name": "python",
   "nbconvert_exporter": "python",
   "pygments_lexer": "ipython3",
   "version": "3.12.5"
  }
 },
 "nbformat": 4,
 "nbformat_minor": 2
}
