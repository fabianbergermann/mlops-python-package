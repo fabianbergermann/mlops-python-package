{
 "cells": [
  {
   "cell_type": "markdown",
   "metadata": {},
   "source": [
    "**Compute Key-Performance Indicators (KPIs) from the MLflow server.**"
   ]
  },
  {
   "cell_type": "markdown",
   "metadata": {},
   "source": [
    "# IMPORTS"
   ]
  },
  {
   "cell_type": "code",
   "execution_count": 1,
   "metadata": {},
   "outputs": [],
   "source": [
    "import mlflow\n",
    "import pandas as pd\n",
    "import plotly.express as px"
   ]
  },
  {
   "cell_type": "markdown",
   "metadata": {},
   "source": [
    "# OPTIONS"
   ]
  },
  {
   "cell_type": "code",
   "execution_count": 2,
   "metadata": {},
   "outputs": [],
   "source": [
    "pd.options.display.max_columns = None"
   ]
  },
  {
   "cell_type": "markdown",
   "metadata": {},
   "source": [
    "# CONFIGS"
   ]
  },
  {
   "cell_type": "code",
   "execution_count": 3,
   "metadata": {},
   "outputs": [],
   "source": [
    "MAX_RESULTS = 100\n",
    "TRACKING_URI = \"http://localhost:5000\"\n",
    "REGISTRY_URI = \"http://localhost:5000\""
   ]
  },
  {
   "cell_type": "markdown",
   "metadata": {},
   "source": [
    "# CLIENTS"
   ]
  },
  {
   "cell_type": "code",
   "execution_count": 4,
   "metadata": {},
   "outputs": [],
   "source": [
    "client = mlflow.tracking.MlflowClient(tracking_uri=TRACKING_URI, registry_uri=REGISTRY_URI)"
   ]
  },
  {
   "cell_type": "markdown",
   "metadata": {},
   "source": [
    "# INDICATORS"
   ]
  },
  {
   "cell_type": "code",
   "execution_count": 5,
   "metadata": {},
   "outputs": [
    {
     "name": "stdout",
     "output_type": "stream",
     "text": [
      "(1, 7)\n"
     ]
    },
    {
     "data": {
      "text/html": [
       "<div>\n",
       "<style scoped>\n",
       "    .dataframe tbody tr th:only-of-type {\n",
       "        vertical-align: middle;\n",
       "    }\n",
       "\n",
       "    .dataframe tbody tr th {\n",
       "        vertical-align: top;\n",
       "    }\n",
       "\n",
       "    .dataframe thead th {\n",
       "        text-align: right;\n",
       "    }\n",
       "</style>\n",
       "<table border=\"1\" class=\"dataframe\">\n",
       "  <thead>\n",
       "    <tr style=\"text-align: right;\">\n",
       "      <th></th>\n",
       "      <th>artifact_location</th>\n",
       "      <th>creation_time</th>\n",
       "      <th>experiment_id</th>\n",
       "      <th>last_update_time</th>\n",
       "      <th>lifecycle_stage</th>\n",
       "      <th>name</th>\n",
       "      <th>tags</th>\n",
       "    </tr>\n",
       "  </thead>\n",
       "  <tbody>\n",
       "    <tr>\n",
       "      <th>0</th>\n",
       "      <td>file:///home/fmind/mlops-python-package/mlruns...</td>\n",
       "      <td>2024-12-09 19:31:02.967</td>\n",
       "      <td>892046783494697990</td>\n",
       "      <td>2024-12-09 19:31:02.967</td>\n",
       "      <td>active</td>\n",
       "      <td>bikes</td>\n",
       "      <td>{}</td>\n",
       "    </tr>\n",
       "  </tbody>\n",
       "</table>\n",
       "</div>"
      ],
      "text/plain": [
       "                                   artifact_location           creation_time  \\\n",
       "0  file:///home/fmind/mlops-python-package/mlruns... 2024-12-09 19:31:02.967   \n",
       "\n",
       "        experiment_id        last_update_time lifecycle_stage   name tags  \n",
       "0  892046783494697990 2024-12-09 19:31:02.967          active  bikes   {}  "
      ]
     },
     "execution_count": 5,
     "metadata": {},
     "output_type": "execute_result"
    }
   ],
   "source": [
    "experiments = client.search_experiments(\n",
    "    view_type=mlflow.entities.ViewType.ALL, max_results=MAX_RESULTS, order_by=[\"creation_time DESC\"]\n",
    ")\n",
    "experiments = [dict(experiment) for experiment in experiments]\n",
    "experiments = pd.DataFrame(experiments).assign(\n",
    "    creation_time=lambda data: pd.to_datetime(data[\"creation_time\"], unit=\"ms\"),\n",
    "    last_update_time=lambda data: pd.to_datetime(data[\"last_update_time\"], unit=\"ms\"),\n",
    ")\n",
    "print(experiments.shape)\n",
    "experiments.head()"
   ]
  },
  {
   "cell_type": "code",
   "execution_count": 6,
   "metadata": {},
   "outputs": [
    {
     "name": "stdout",
     "output_type": "stream",
     "text": [
      "(29, 29)\n"
     ]
    },
    {
     "data": {
      "text/html": [
       "<div>\n",
       "<style scoped>\n",
       "    .dataframe tbody tr th:only-of-type {\n",
       "        vertical-align: middle;\n",
       "    }\n",
       "\n",
       "    .dataframe tbody tr th {\n",
       "        vertical-align: top;\n",
       "    }\n",
       "\n",
       "    .dataframe thead th {\n",
       "        text-align: right;\n",
       "    }\n",
       "</style>\n",
       "<table border=\"1\" class=\"dataframe\">\n",
       "  <thead>\n",
       "    <tr style=\"text-align: right;\">\n",
       "      <th></th>\n",
       "      <th>artifact_uri</th>\n",
       "      <th>end_time</th>\n",
       "      <th>experiment_id</th>\n",
       "      <th>lifecycle_stage</th>\n",
       "      <th>run_id</th>\n",
       "      <th>run_name</th>\n",
       "      <th>run_uuid</th>\n",
       "      <th>start_time</th>\n",
       "      <th>status</th>\n",
       "      <th>user_id</th>\n",
       "      <th>metrics</th>\n",
       "      <th>params</th>\n",
       "      <th>tags</th>\n",
       "      <th>run_time_secs</th>\n",
       "      <th>mlflow.user</th>\n",
       "      <th>mlflow.source.name</th>\n",
       "      <th>mlflow.source.type</th>\n",
       "      <th>mlflow.project.entryPoint</th>\n",
       "      <th>mlflow.source.git.commit</th>\n",
       "      <th>mlflow.source.git.repoURL</th>\n",
       "      <th>mlflow.gitRepoURL</th>\n",
       "      <th>mlflow.runName</th>\n",
       "      <th>mlflow.project.env</th>\n",
       "      <th>mlflow.project.backend</th>\n",
       "      <th>estimator_name</th>\n",
       "      <th>estimator_class</th>\n",
       "      <th>mlflow.log-model.history</th>\n",
       "      <th>mlflow.autologging</th>\n",
       "      <th>mlflow.parentRunId</th>\n",
       "    </tr>\n",
       "  </thead>\n",
       "  <tbody>\n",
       "    <tr>\n",
       "      <th>0</th>\n",
       "      <td>file:///home/fmind/mlops-python-package/mlruns...</td>\n",
       "      <td>2024-12-09 21:26:50.094</td>\n",
       "      <td>892046783494697990</td>\n",
       "      <td>active</td>\n",
       "      <td>c21b823a68ba42b2b1ff98b2ae73c424</td>\n",
       "      <td>Explanations</td>\n",
       "      <td>c21b823a68ba42b2b1ff98b2ae73c424</td>\n",
       "      <td>2024-12-09 21:26:19.324</td>\n",
       "      <td>FINISHED</td>\n",
       "      <td>fmind</td>\n",
       "      <td>{}</td>\n",
       "      <td>{'conf_file': 'confs/explanations.yaml'}</td>\n",
       "      <td>{'mlflow.user': 'fmind', 'mlflow.source.name':...</td>\n",
       "      <td>30.770</td>\n",
       "      <td>fmind</td>\n",
       "      <td>file:///home/fmind/mlops-python-package</td>\n",
       "      <td>PROJECT</td>\n",
       "      <td>main</td>\n",
       "      <td>6baa64548d67a5bcf0a7f1422dfc8d45ed229aed</td>\n",
       "      <td>git@github.com:fmind/mlops-python-package</td>\n",
       "      <td>git@github.com:fmind/mlops-python-package</td>\n",
       "      <td>Explanations</td>\n",
       "      <td>virtualenv</td>\n",
       "      <td>local</td>\n",
       "      <td>NaN</td>\n",
       "      <td>NaN</td>\n",
       "      <td>NaN</td>\n",
       "      <td>NaN</td>\n",
       "      <td>NaN</td>\n",
       "    </tr>\n",
       "    <tr>\n",
       "      <th>1</th>\n",
       "      <td>file:///home/fmind/mlops-python-package/mlruns...</td>\n",
       "      <td>2024-12-09 21:26:18.061</td>\n",
       "      <td>892046783494697990</td>\n",
       "      <td>active</td>\n",
       "      <td>9da0f31e36a9413eaab18149ace82c78</td>\n",
       "      <td>Evaluations</td>\n",
       "      <td>9da0f31e36a9413eaab18149ace82c78</td>\n",
       "      <td>2024-12-09 21:26:13.489</td>\n",
       "      <td>FINISHED</td>\n",
       "      <td>fmind</td>\n",
       "      <td>{'example_count': 13903.0, 'mean_absolute_erro...</td>\n",
       "      <td>{'conf_file': 'confs/evaluations.yaml'}</td>\n",
       "      <td>{'mlflow.user': 'fmind', 'mlflow.source.name':...</td>\n",
       "      <td>4.572</td>\n",
       "      <td>fmind</td>\n",
       "      <td>file:///home/fmind/mlops-python-package</td>\n",
       "      <td>PROJECT</td>\n",
       "      <td>main</td>\n",
       "      <td>6baa64548d67a5bcf0a7f1422dfc8d45ed229aed</td>\n",
       "      <td>git@github.com:fmind/mlops-python-package</td>\n",
       "      <td>git@github.com:fmind/mlops-python-package</td>\n",
       "      <td>Evaluations</td>\n",
       "      <td>virtualenv</td>\n",
       "      <td>local</td>\n",
       "      <td>NaN</td>\n",
       "      <td>NaN</td>\n",
       "      <td>NaN</td>\n",
       "      <td>NaN</td>\n",
       "      <td>NaN</td>\n",
       "    </tr>\n",
       "    <tr>\n",
       "      <th>2</th>\n",
       "      <td>file:///home/fmind/mlops-python-package/mlruns...</td>\n",
       "      <td>2024-12-09 21:26:12.215</td>\n",
       "      <td>892046783494697990</td>\n",
       "      <td>active</td>\n",
       "      <td>8316d6855d17401b8358e88a48c159f0</td>\n",
       "      <td>Inference</td>\n",
       "      <td>8316d6855d17401b8358e88a48c159f0</td>\n",
       "      <td>2024-12-09 21:26:08.210</td>\n",
       "      <td>FINISHED</td>\n",
       "      <td>fmind</td>\n",
       "      <td>{}</td>\n",
       "      <td>{'conf_file': 'confs/inference.yaml'}</td>\n",
       "      <td>{'mlflow.user': 'fmind', 'mlflow.source.name':...</td>\n",
       "      <td>4.005</td>\n",
       "      <td>fmind</td>\n",
       "      <td>file:///home/fmind/mlops-python-package</td>\n",
       "      <td>PROJECT</td>\n",
       "      <td>main</td>\n",
       "      <td>6baa64548d67a5bcf0a7f1422dfc8d45ed229aed</td>\n",
       "      <td>git@github.com:fmind/mlops-python-package</td>\n",
       "      <td>git@github.com:fmind/mlops-python-package</td>\n",
       "      <td>Inference</td>\n",
       "      <td>virtualenv</td>\n",
       "      <td>local</td>\n",
       "      <td>NaN</td>\n",
       "      <td>NaN</td>\n",
       "      <td>NaN</td>\n",
       "      <td>NaN</td>\n",
       "      <td>NaN</td>\n",
       "    </tr>\n",
       "    <tr>\n",
       "      <th>3</th>\n",
       "      <td>file:///home/fmind/mlops-python-package/mlruns...</td>\n",
       "      <td>2024-12-09 21:26:06.933</td>\n",
       "      <td>892046783494697990</td>\n",
       "      <td>active</td>\n",
       "      <td>b92f959ab1564eb897e2f66f7089f573</td>\n",
       "      <td>Promotion</td>\n",
       "      <td>b92f959ab1564eb897e2f66f7089f573</td>\n",
       "      <td>2024-12-09 21:26:03.382</td>\n",
       "      <td>FINISHED</td>\n",
       "      <td>fmind</td>\n",
       "      <td>{}</td>\n",
       "      <td>{'conf_file': 'confs/promotion.yaml'}</td>\n",
       "      <td>{'mlflow.user': 'fmind', 'mlflow.source.name':...</td>\n",
       "      <td>3.551</td>\n",
       "      <td>fmind</td>\n",
       "      <td>file:///home/fmind/mlops-python-package</td>\n",
       "      <td>PROJECT</td>\n",
       "      <td>main</td>\n",
       "      <td>6baa64548d67a5bcf0a7f1422dfc8d45ed229aed</td>\n",
       "      <td>git@github.com:fmind/mlops-python-package</td>\n",
       "      <td>git@github.com:fmind/mlops-python-package</td>\n",
       "      <td>Promotion</td>\n",
       "      <td>virtualenv</td>\n",
       "      <td>local</td>\n",
       "      <td>NaN</td>\n",
       "      <td>NaN</td>\n",
       "      <td>NaN</td>\n",
       "      <td>NaN</td>\n",
       "      <td>NaN</td>\n",
       "    </tr>\n",
       "    <tr>\n",
       "      <th>4</th>\n",
       "      <td>file:///home/fmind/mlops-python-package/mlruns...</td>\n",
       "      <td>2024-12-09 21:26:01.071</td>\n",
       "      <td>892046783494697990</td>\n",
       "      <td>active</td>\n",
       "      <td>fc31f5b645204fdd9ef58fbbc0c105eb</td>\n",
       "      <td>Training</td>\n",
       "      <td>fc31f5b645204fdd9ef58fbbc0c105eb</td>\n",
       "      <td>2024-12-09 21:25:39.001</td>\n",
       "      <td>FINISHED</td>\n",
       "      <td>fmind</td>\n",
       "      <td>{'training_mean_squared_error': 124.5105461557...</td>\n",
       "      <td>{'conf_file': 'confs/training.yaml', 'memory':...</td>\n",
       "      <td>{'mlflow.user': 'fmind', 'mlflow.source.name':...</td>\n",
       "      <td>22.070</td>\n",
       "      <td>fmind</td>\n",
       "      <td>file:///home/fmind/mlops-python-package</td>\n",
       "      <td>PROJECT</td>\n",
       "      <td>main</td>\n",
       "      <td>6baa64548d67a5bcf0a7f1422dfc8d45ed229aed</td>\n",
       "      <td>git@github.com:fmind/mlops-python-package</td>\n",
       "      <td>git@github.com:fmind/mlops-python-package</td>\n",
       "      <td>Training</td>\n",
       "      <td>virtualenv</td>\n",
       "      <td>local</td>\n",
       "      <td>Pipeline</td>\n",
       "      <td>sklearn.pipeline.Pipeline</td>\n",
       "      <td>[{\"run_id\": \"fc31f5b645204fdd9ef58fbbc0c105eb\"...</td>\n",
       "      <td>NaN</td>\n",
       "      <td>NaN</td>\n",
       "    </tr>\n",
       "  </tbody>\n",
       "</table>\n",
       "</div>"
      ],
      "text/plain": [
       "                                        artifact_uri                end_time  \\\n",
       "0  file:///home/fmind/mlops-python-package/mlruns... 2024-12-09 21:26:50.094   \n",
       "1  file:///home/fmind/mlops-python-package/mlruns... 2024-12-09 21:26:18.061   \n",
       "2  file:///home/fmind/mlops-python-package/mlruns... 2024-12-09 21:26:12.215   \n",
       "3  file:///home/fmind/mlops-python-package/mlruns... 2024-12-09 21:26:06.933   \n",
       "4  file:///home/fmind/mlops-python-package/mlruns... 2024-12-09 21:26:01.071   \n",
       "\n",
       "        experiment_id lifecycle_stage                            run_id  \\\n",
       "0  892046783494697990          active  c21b823a68ba42b2b1ff98b2ae73c424   \n",
       "1  892046783494697990          active  9da0f31e36a9413eaab18149ace82c78   \n",
       "2  892046783494697990          active  8316d6855d17401b8358e88a48c159f0   \n",
       "3  892046783494697990          active  b92f959ab1564eb897e2f66f7089f573   \n",
       "4  892046783494697990          active  fc31f5b645204fdd9ef58fbbc0c105eb   \n",
       "\n",
       "       run_name                          run_uuid              start_time  \\\n",
       "0  Explanations  c21b823a68ba42b2b1ff98b2ae73c424 2024-12-09 21:26:19.324   \n",
       "1   Evaluations  9da0f31e36a9413eaab18149ace82c78 2024-12-09 21:26:13.489   \n",
       "2     Inference  8316d6855d17401b8358e88a48c159f0 2024-12-09 21:26:08.210   \n",
       "3     Promotion  b92f959ab1564eb897e2f66f7089f573 2024-12-09 21:26:03.382   \n",
       "4      Training  fc31f5b645204fdd9ef58fbbc0c105eb 2024-12-09 21:25:39.001   \n",
       "\n",
       "     status user_id                                            metrics  \\\n",
       "0  FINISHED   fmind                                                 {}   \n",
       "1  FINISHED   fmind  {'example_count': 13903.0, 'mean_absolute_erro...   \n",
       "2  FINISHED   fmind                                                 {}   \n",
       "3  FINISHED   fmind                                                 {}   \n",
       "4  FINISHED   fmind  {'training_mean_squared_error': 124.5105461557...   \n",
       "\n",
       "                                              params  \\\n",
       "0           {'conf_file': 'confs/explanations.yaml'}   \n",
       "1            {'conf_file': 'confs/evaluations.yaml'}   \n",
       "2              {'conf_file': 'confs/inference.yaml'}   \n",
       "3              {'conf_file': 'confs/promotion.yaml'}   \n",
       "4  {'conf_file': 'confs/training.yaml', 'memory':...   \n",
       "\n",
       "                                                tags  run_time_secs  \\\n",
       "0  {'mlflow.user': 'fmind', 'mlflow.source.name':...         30.770   \n",
       "1  {'mlflow.user': 'fmind', 'mlflow.source.name':...          4.572   \n",
       "2  {'mlflow.user': 'fmind', 'mlflow.source.name':...          4.005   \n",
       "3  {'mlflow.user': 'fmind', 'mlflow.source.name':...          3.551   \n",
       "4  {'mlflow.user': 'fmind', 'mlflow.source.name':...         22.070   \n",
       "\n",
       "  mlflow.user                       mlflow.source.name mlflow.source.type  \\\n",
       "0       fmind  file:///home/fmind/mlops-python-package            PROJECT   \n",
       "1       fmind  file:///home/fmind/mlops-python-package            PROJECT   \n",
       "2       fmind  file:///home/fmind/mlops-python-package            PROJECT   \n",
       "3       fmind  file:///home/fmind/mlops-python-package            PROJECT   \n",
       "4       fmind  file:///home/fmind/mlops-python-package            PROJECT   \n",
       "\n",
       "  mlflow.project.entryPoint                  mlflow.source.git.commit  \\\n",
       "0                      main  6baa64548d67a5bcf0a7f1422dfc8d45ed229aed   \n",
       "1                      main  6baa64548d67a5bcf0a7f1422dfc8d45ed229aed   \n",
       "2                      main  6baa64548d67a5bcf0a7f1422dfc8d45ed229aed   \n",
       "3                      main  6baa64548d67a5bcf0a7f1422dfc8d45ed229aed   \n",
       "4                      main  6baa64548d67a5bcf0a7f1422dfc8d45ed229aed   \n",
       "\n",
       "                   mlflow.source.git.repoURL  \\\n",
       "0  git@github.com:fmind/mlops-python-package   \n",
       "1  git@github.com:fmind/mlops-python-package   \n",
       "2  git@github.com:fmind/mlops-python-package   \n",
       "3  git@github.com:fmind/mlops-python-package   \n",
       "4  git@github.com:fmind/mlops-python-package   \n",
       "\n",
       "                           mlflow.gitRepoURL mlflow.runName  \\\n",
       "0  git@github.com:fmind/mlops-python-package   Explanations   \n",
       "1  git@github.com:fmind/mlops-python-package    Evaluations   \n",
       "2  git@github.com:fmind/mlops-python-package      Inference   \n",
       "3  git@github.com:fmind/mlops-python-package      Promotion   \n",
       "4  git@github.com:fmind/mlops-python-package       Training   \n",
       "\n",
       "  mlflow.project.env mlflow.project.backend estimator_name  \\\n",
       "0         virtualenv                  local            NaN   \n",
       "1         virtualenv                  local            NaN   \n",
       "2         virtualenv                  local            NaN   \n",
       "3         virtualenv                  local            NaN   \n",
       "4         virtualenv                  local       Pipeline   \n",
       "\n",
       "             estimator_class  \\\n",
       "0                        NaN   \n",
       "1                        NaN   \n",
       "2                        NaN   \n",
       "3                        NaN   \n",
       "4  sklearn.pipeline.Pipeline   \n",
       "\n",
       "                            mlflow.log-model.history mlflow.autologging  \\\n",
       "0                                                NaN                NaN   \n",
       "1                                                NaN                NaN   \n",
       "2                                                NaN                NaN   \n",
       "3                                                NaN                NaN   \n",
       "4  [{\"run_id\": \"fc31f5b645204fdd9ef58fbbc0c105eb\"...                NaN   \n",
       "\n",
       "  mlflow.parentRunId  \n",
       "0                NaN  \n",
       "1                NaN  \n",
       "2                NaN  \n",
       "3                NaN  \n",
       "4                NaN  "
      ]
     },
     "execution_count": 6,
     "metadata": {},
     "output_type": "execute_result"
    }
   ],
   "source": [
    "runs = client.search_runs(\n",
    "    experiment_ids=experiments[\"experiment_id\"].unique(),\n",
    "    run_view_type=mlflow.entities.ViewType.ALL,\n",
    "    max_results=MAX_RESULTS,\n",
    "    order_by=[\"created DESC\"],\n",
    ")\n",
    "runs = [dict(run.info) | dict(run.data) for run in runs]\n",
    "runs = pd.DataFrame(runs).assign(\n",
    "    end_time=lambda data: pd.to_datetime(data[\"end_time\"], unit=\"ms\"),\n",
    "    start_time=lambda data: pd.to_datetime(data[\"start_time\"], unit=\"ms\"),\n",
    "    run_time_secs=lambda data: (data[\"end_time\"] - data[\"start_time\"]).map(\n",
    "        lambda t: t.total_seconds()\n",
    "    ),\n",
    ")\n",
    "runs = pd.concat([runs, pd.json_normalize(runs[\"tags\"])], axis=\"columns\")\n",
    "print(runs.shape)\n",
    "runs.head()"
   ]
  },
  {
   "cell_type": "code",
   "execution_count": 7,
   "metadata": {},
   "outputs": [
    {
     "name": "stdout",
     "output_type": "stream",
     "text": [
      "(1, 6)\n"
     ]
    },
    {
     "data": {
      "text/html": [
       "<div>\n",
       "<style scoped>\n",
       "    .dataframe tbody tr th:only-of-type {\n",
       "        vertical-align: middle;\n",
       "    }\n",
       "\n",
       "    .dataframe tbody tr th {\n",
       "        vertical-align: top;\n",
       "    }\n",
       "\n",
       "    .dataframe thead th {\n",
       "        text-align: right;\n",
       "    }\n",
       "</style>\n",
       "<table border=\"1\" class=\"dataframe\">\n",
       "  <thead>\n",
       "    <tr style=\"text-align: right;\">\n",
       "      <th></th>\n",
       "      <th>aliases</th>\n",
       "      <th>creation_timestamp</th>\n",
       "      <th>description</th>\n",
       "      <th>last_updated_timestamp</th>\n",
       "      <th>name</th>\n",
       "      <th>tags</th>\n",
       "    </tr>\n",
       "  </thead>\n",
       "  <tbody>\n",
       "    <tr>\n",
       "      <th>0</th>\n",
       "      <td>{'Champion': '3'}</td>\n",
       "      <td>2024-12-09 19:33:09.416</td>\n",
       "      <td></td>\n",
       "      <td>2024-12-09 21:26:06.439</td>\n",
       "      <td>bikes</td>\n",
       "      <td>{}</td>\n",
       "    </tr>\n",
       "  </tbody>\n",
       "</table>\n",
       "</div>"
      ],
      "text/plain": [
       "             aliases      creation_timestamp description  \\\n",
       "0  {'Champion': '3'} 2024-12-09 19:33:09.416               \n",
       "\n",
       "   last_updated_timestamp   name tags  \n",
       "0 2024-12-09 21:26:06.439  bikes   {}  "
      ]
     },
     "execution_count": 7,
     "metadata": {},
     "output_type": "execute_result"
    }
   ],
   "source": [
    "models = client.search_registered_models(\n",
    "    max_results=MAX_RESULTS, order_by=[\"creation_timestamp DESC\"]\n",
    ")\n",
    "models = [dict(model) for model in models]\n",
    "models = (\n",
    "    pd.DataFrame(models)\n",
    "    .assign(\n",
    "        creation_timestamp=lambda data: pd.to_datetime(data[\"creation_timestamp\"], unit=\"ms\"),\n",
    "        last_updated_timestamp=lambda data: pd.to_datetime(\n",
    "            data[\"last_updated_timestamp\"], unit=\"ms\"\n",
    "        ),\n",
    "    )\n",
    "    .drop(columns=[\"latest_versions\"])\n",
    ")\n",
    "print(models.shape)\n",
    "models"
   ]
  },
  {
   "cell_type": "code",
   "execution_count": 8,
   "metadata": {},
   "outputs": [
    {
     "name": "stdout",
     "output_type": "stream",
     "text": [
      "(3, 14)\n"
     ]
    },
    {
     "data": {
      "text/html": [
       "<div>\n",
       "<style scoped>\n",
       "    .dataframe tbody tr th:only-of-type {\n",
       "        vertical-align: middle;\n",
       "    }\n",
       "\n",
       "    .dataframe tbody tr th {\n",
       "        vertical-align: top;\n",
       "    }\n",
       "\n",
       "    .dataframe thead th {\n",
       "        text-align: right;\n",
       "    }\n",
       "</style>\n",
       "<table border=\"1\" class=\"dataframe\">\n",
       "  <thead>\n",
       "    <tr style=\"text-align: right;\">\n",
       "      <th></th>\n",
       "      <th>aliases</th>\n",
       "      <th>creation_timestamp</th>\n",
       "      <th>current_stage</th>\n",
       "      <th>description</th>\n",
       "      <th>last_updated_timestamp</th>\n",
       "      <th>name</th>\n",
       "      <th>run_id</th>\n",
       "      <th>run_link</th>\n",
       "      <th>source</th>\n",
       "      <th>status</th>\n",
       "      <th>status_message</th>\n",
       "      <th>tags</th>\n",
       "      <th>user_id</th>\n",
       "      <th>version</th>\n",
       "    </tr>\n",
       "  </thead>\n",
       "  <tbody>\n",
       "    <tr>\n",
       "      <th>0</th>\n",
       "      <td>Champion</td>\n",
       "      <td>2024-12-09 21:25:59.981</td>\n",
       "      <td>None</td>\n",
       "      <td></td>\n",
       "      <td>2024-12-09 21:25:59.981</td>\n",
       "      <td>bikes</td>\n",
       "      <td>fc31f5b645204fdd9ef58fbbc0c105eb</td>\n",
       "      <td></td>\n",
       "      <td>file:///home/fmind/mlops-python-package/mlruns...</td>\n",
       "      <td>READY</td>\n",
       "      <td></td>\n",
       "      <td>{}</td>\n",
       "      <td></td>\n",
       "      <td>3</td>\n",
       "    </tr>\n",
       "    <tr>\n",
       "      <th>1</th>\n",
       "      <td>None</td>\n",
       "      <td>2024-12-09 20:15:47.252</td>\n",
       "      <td>None</td>\n",
       "      <td></td>\n",
       "      <td>2024-12-09 20:15:47.252</td>\n",
       "      <td>bikes</td>\n",
       "      <td>abad34d51a2a4cffa328136540b455c0</td>\n",
       "      <td></td>\n",
       "      <td>file:///home/fmind/mlops-python-package/mlruns...</td>\n",
       "      <td>READY</td>\n",
       "      <td></td>\n",
       "      <td>{}</td>\n",
       "      <td></td>\n",
       "      <td>2</td>\n",
       "    </tr>\n",
       "    <tr>\n",
       "      <th>2</th>\n",
       "      <td>None</td>\n",
       "      <td>2024-12-09 19:33:09.426</td>\n",
       "      <td>None</td>\n",
       "      <td></td>\n",
       "      <td>2024-12-09 19:33:09.426</td>\n",
       "      <td>bikes</td>\n",
       "      <td>ca4c7550ad354be9a2f10f7eade8d47e</td>\n",
       "      <td></td>\n",
       "      <td>file:///home/fmind/mlops-python-package/mlruns...</td>\n",
       "      <td>READY</td>\n",
       "      <td></td>\n",
       "      <td>{}</td>\n",
       "      <td></td>\n",
       "      <td>1</td>\n",
       "    </tr>\n",
       "  </tbody>\n",
       "</table>\n",
       "</div>"
      ],
      "text/plain": [
       "    aliases      creation_timestamp current_stage description  \\\n",
       "0  Champion 2024-12-09 21:25:59.981          None               \n",
       "1      None 2024-12-09 20:15:47.252          None               \n",
       "2      None 2024-12-09 19:33:09.426          None               \n",
       "\n",
       "   last_updated_timestamp   name                            run_id run_link  \\\n",
       "0 2024-12-09 21:25:59.981  bikes  fc31f5b645204fdd9ef58fbbc0c105eb            \n",
       "1 2024-12-09 20:15:47.252  bikes  abad34d51a2a4cffa328136540b455c0            \n",
       "2 2024-12-09 19:33:09.426  bikes  ca4c7550ad354be9a2f10f7eade8d47e            \n",
       "\n",
       "                                              source status status_message  \\\n",
       "0  file:///home/fmind/mlops-python-package/mlruns...  READY                  \n",
       "1  file:///home/fmind/mlops-python-package/mlruns...  READY                  \n",
       "2  file:///home/fmind/mlops-python-package/mlruns...  READY                  \n",
       "\n",
       "  tags user_id version  \n",
       "0   {}               3  \n",
       "1   {}               2  \n",
       "2   {}               1  "
      ]
     },
     "execution_count": 8,
     "metadata": {},
     "output_type": "execute_result"
    }
   ],
   "source": [
    "versions = client.search_model_versions(\n",
    "    max_results=MAX_RESULTS, order_by=[\"creation_timestamp DESC\"]\n",
    ")\n",
    "versions = [dict(version) for version in versions]\n",
    "versions = pd.DataFrame(versions).assign(\n",
    "    aliases=lambda data: data[\"aliases\"].map(lambda x: x[0] if len(x) else None),\n",
    "    creation_timestamp=lambda data: pd.to_datetime(data[\"creation_timestamp\"], unit=\"ms\"),\n",
    "    last_updated_timestamp=lambda data: pd.to_datetime(data[\"last_updated_timestamp\"], unit=\"ms\"),\n",
    ")\n",
    "print(versions.shape)\n",
    "versions.head()"
   ]
  },
  {
   "cell_type": "markdown",
   "metadata": {},
   "source": [
    "# DASHBOARDS"
   ]
  },
  {
   "cell_type": "code",
   "execution_count": 9,
   "metadata": {},
   "outputs": [
    {
     "data": {
      "application/vnd.plotly.v1+json": {
       "config": {
        "plotlyServerURL": "https://plot.ly"
       },
       "data": [
        {
         "alignmentgroup": "True",
         "boxpoints": "all",
         "customdata": [
          [
           "file:///home/fmind/mlops-python-package/mlruns/892046783494697990",
           "892046783494697990",
           "2024-12-09T19:31:02.967000",
           "active",
           "bikes",
           {}
          ]
         ],
         "fillcolor": "rgba(255,255,255,0)",
         "hoveron": "points",
         "hovertemplate": "<b>%{hovertext}</b><br><br>lifecycle_stage=%{customdata[3]}<br>creation_time=%{x}<br>artifact_location=%{customdata[0]}<br>experiment_id=%{customdata[1]}<br>last_update_time=%{customdata[2]}<br>name=%{customdata[4]}<br>tags=%{customdata[5]}<extra></extra>",
         "hovertext": [
          "bikes"
         ],
         "legendgroup": "active",
         "line": {
          "color": "rgba(255,255,255,0)"
         },
         "marker": {
          "color": "#636efa"
         },
         "name": "active",
         "offsetgroup": "active",
         "orientation": "h",
         "pointpos": 0,
         "showlegend": true,
         "type": "box",
         "x": [
          "2024-12-09T19:31:02.967000"
         ],
         "x0": " ",
         "xaxis": "x",
         "y0": " ",
         "yaxis": "y"
        }
       ],
       "layout": {
        "boxmode": "group",
        "legend": {
         "title": {
          "text": "lifecycle_stage"
         },
         "tracegroupgap": 0
        },
        "template": {
         "data": {
          "bar": [
           {
            "error_x": {
             "color": "#2a3f5f"
            },
            "error_y": {
             "color": "#2a3f5f"
            },
            "marker": {
             "line": {
              "color": "#E5ECF6",
              "width": 0.5
             },
             "pattern": {
              "fillmode": "overlay",
              "size": 10,
              "solidity": 0.2
             }
            },
            "type": "bar"
           }
          ],
          "barpolar": [
           {
            "marker": {
             "line": {
              "color": "#E5ECF6",
              "width": 0.5
             },
             "pattern": {
              "fillmode": "overlay",
              "size": 10,
              "solidity": 0.2
             }
            },
            "type": "barpolar"
           }
          ],
          "carpet": [
           {
            "aaxis": {
             "endlinecolor": "#2a3f5f",
             "gridcolor": "white",
             "linecolor": "white",
             "minorgridcolor": "white",
             "startlinecolor": "#2a3f5f"
            },
            "baxis": {
             "endlinecolor": "#2a3f5f",
             "gridcolor": "white",
             "linecolor": "white",
             "minorgridcolor": "white",
             "startlinecolor": "#2a3f5f"
            },
            "type": "carpet"
           }
          ],
          "choropleth": [
           {
            "colorbar": {
             "outlinewidth": 0,
             "ticks": ""
            },
            "type": "choropleth"
           }
          ],
          "contour": [
           {
            "colorbar": {
             "outlinewidth": 0,
             "ticks": ""
            },
            "colorscale": [
             [
              0,
              "#0d0887"
             ],
             [
              0.1111111111111111,
              "#46039f"
             ],
             [
              0.2222222222222222,
              "#7201a8"
             ],
             [
              0.3333333333333333,
              "#9c179e"
             ],
             [
              0.4444444444444444,
              "#bd3786"
             ],
             [
              0.5555555555555556,
              "#d8576b"
             ],
             [
              0.6666666666666666,
              "#ed7953"
             ],
             [
              0.7777777777777778,
              "#fb9f3a"
             ],
             [
              0.8888888888888888,
              "#fdca26"
             ],
             [
              1,
              "#f0f921"
             ]
            ],
            "type": "contour"
           }
          ],
          "contourcarpet": [
           {
            "colorbar": {
             "outlinewidth": 0,
             "ticks": ""
            },
            "type": "contourcarpet"
           }
          ],
          "heatmap": [
           {
            "colorbar": {
             "outlinewidth": 0,
             "ticks": ""
            },
            "colorscale": [
             [
              0,
              "#0d0887"
             ],
             [
              0.1111111111111111,
              "#46039f"
             ],
             [
              0.2222222222222222,
              "#7201a8"
             ],
             [
              0.3333333333333333,
              "#9c179e"
             ],
             [
              0.4444444444444444,
              "#bd3786"
             ],
             [
              0.5555555555555556,
              "#d8576b"
             ],
             [
              0.6666666666666666,
              "#ed7953"
             ],
             [
              0.7777777777777778,
              "#fb9f3a"
             ],
             [
              0.8888888888888888,
              "#fdca26"
             ],
             [
              1,
              "#f0f921"
             ]
            ],
            "type": "heatmap"
           }
          ],
          "heatmapgl": [
           {
            "colorbar": {
             "outlinewidth": 0,
             "ticks": ""
            },
            "colorscale": [
             [
              0,
              "#0d0887"
             ],
             [
              0.1111111111111111,
              "#46039f"
             ],
             [
              0.2222222222222222,
              "#7201a8"
             ],
             [
              0.3333333333333333,
              "#9c179e"
             ],
             [
              0.4444444444444444,
              "#bd3786"
             ],
             [
              0.5555555555555556,
              "#d8576b"
             ],
             [
              0.6666666666666666,
              "#ed7953"
             ],
             [
              0.7777777777777778,
              "#fb9f3a"
             ],
             [
              0.8888888888888888,
              "#fdca26"
             ],
             [
              1,
              "#f0f921"
             ]
            ],
            "type": "heatmapgl"
           }
          ],
          "histogram": [
           {
            "marker": {
             "pattern": {
              "fillmode": "overlay",
              "size": 10,
              "solidity": 0.2
             }
            },
            "type": "histogram"
           }
          ],
          "histogram2d": [
           {
            "colorbar": {
             "outlinewidth": 0,
             "ticks": ""
            },
            "colorscale": [
             [
              0,
              "#0d0887"
             ],
             [
              0.1111111111111111,
              "#46039f"
             ],
             [
              0.2222222222222222,
              "#7201a8"
             ],
             [
              0.3333333333333333,
              "#9c179e"
             ],
             [
              0.4444444444444444,
              "#bd3786"
             ],
             [
              0.5555555555555556,
              "#d8576b"
             ],
             [
              0.6666666666666666,
              "#ed7953"
             ],
             [
              0.7777777777777778,
              "#fb9f3a"
             ],
             [
              0.8888888888888888,
              "#fdca26"
             ],
             [
              1,
              "#f0f921"
             ]
            ],
            "type": "histogram2d"
           }
          ],
          "histogram2dcontour": [
           {
            "colorbar": {
             "outlinewidth": 0,
             "ticks": ""
            },
            "colorscale": [
             [
              0,
              "#0d0887"
             ],
             [
              0.1111111111111111,
              "#46039f"
             ],
             [
              0.2222222222222222,
              "#7201a8"
             ],
             [
              0.3333333333333333,
              "#9c179e"
             ],
             [
              0.4444444444444444,
              "#bd3786"
             ],
             [
              0.5555555555555556,
              "#d8576b"
             ],
             [
              0.6666666666666666,
              "#ed7953"
             ],
             [
              0.7777777777777778,
              "#fb9f3a"
             ],
             [
              0.8888888888888888,
              "#fdca26"
             ],
             [
              1,
              "#f0f921"
             ]
            ],
            "type": "histogram2dcontour"
           }
          ],
          "mesh3d": [
           {
            "colorbar": {
             "outlinewidth": 0,
             "ticks": ""
            },
            "type": "mesh3d"
           }
          ],
          "parcoords": [
           {
            "line": {
             "colorbar": {
              "outlinewidth": 0,
              "ticks": ""
             }
            },
            "type": "parcoords"
           }
          ],
          "pie": [
           {
            "automargin": true,
            "type": "pie"
           }
          ],
          "scatter": [
           {
            "fillpattern": {
             "fillmode": "overlay",
             "size": 10,
             "solidity": 0.2
            },
            "type": "scatter"
           }
          ],
          "scatter3d": [
           {
            "line": {
             "colorbar": {
              "outlinewidth": 0,
              "ticks": ""
             }
            },
            "marker": {
             "colorbar": {
              "outlinewidth": 0,
              "ticks": ""
             }
            },
            "type": "scatter3d"
           }
          ],
          "scattercarpet": [
           {
            "marker": {
             "colorbar": {
              "outlinewidth": 0,
              "ticks": ""
             }
            },
            "type": "scattercarpet"
           }
          ],
          "scattergeo": [
           {
            "marker": {
             "colorbar": {
              "outlinewidth": 0,
              "ticks": ""
             }
            },
            "type": "scattergeo"
           }
          ],
          "scattergl": [
           {
            "marker": {
             "colorbar": {
              "outlinewidth": 0,
              "ticks": ""
             }
            },
            "type": "scattergl"
           }
          ],
          "scattermapbox": [
           {
            "marker": {
             "colorbar": {
              "outlinewidth": 0,
              "ticks": ""
             }
            },
            "type": "scattermapbox"
           }
          ],
          "scatterpolar": [
           {
            "marker": {
             "colorbar": {
              "outlinewidth": 0,
              "ticks": ""
             }
            },
            "type": "scatterpolar"
           }
          ],
          "scatterpolargl": [
           {
            "marker": {
             "colorbar": {
              "outlinewidth": 0,
              "ticks": ""
             }
            },
            "type": "scatterpolargl"
           }
          ],
          "scatterternary": [
           {
            "marker": {
             "colorbar": {
              "outlinewidth": 0,
              "ticks": ""
             }
            },
            "type": "scatterternary"
           }
          ],
          "surface": [
           {
            "colorbar": {
             "outlinewidth": 0,
             "ticks": ""
            },
            "colorscale": [
             [
              0,
              "#0d0887"
             ],
             [
              0.1111111111111111,
              "#46039f"
             ],
             [
              0.2222222222222222,
              "#7201a8"
             ],
             [
              0.3333333333333333,
              "#9c179e"
             ],
             [
              0.4444444444444444,
              "#bd3786"
             ],
             [
              0.5555555555555556,
              "#d8576b"
             ],
             [
              0.6666666666666666,
              "#ed7953"
             ],
             [
              0.7777777777777778,
              "#fb9f3a"
             ],
             [
              0.8888888888888888,
              "#fdca26"
             ],
             [
              1,
              "#f0f921"
             ]
            ],
            "type": "surface"
           }
          ],
          "table": [
           {
            "cells": {
             "fill": {
              "color": "#EBF0F8"
             },
             "line": {
              "color": "white"
             }
            },
            "header": {
             "fill": {
              "color": "#C8D4E3"
             },
             "line": {
              "color": "white"
             }
            },
            "type": "table"
           }
          ]
         },
         "layout": {
          "annotationdefaults": {
           "arrowcolor": "#2a3f5f",
           "arrowhead": 0,
           "arrowwidth": 1
          },
          "autotypenumbers": "strict",
          "coloraxis": {
           "colorbar": {
            "outlinewidth": 0,
            "ticks": ""
           }
          },
          "colorscale": {
           "diverging": [
            [
             0,
             "#8e0152"
            ],
            [
             0.1,
             "#c51b7d"
            ],
            [
             0.2,
             "#de77ae"
            ],
            [
             0.3,
             "#f1b6da"
            ],
            [
             0.4,
             "#fde0ef"
            ],
            [
             0.5,
             "#f7f7f7"
            ],
            [
             0.6,
             "#e6f5d0"
            ],
            [
             0.7,
             "#b8e186"
            ],
            [
             0.8,
             "#7fbc41"
            ],
            [
             0.9,
             "#4d9221"
            ],
            [
             1,
             "#276419"
            ]
           ],
           "sequential": [
            [
             0,
             "#0d0887"
            ],
            [
             0.1111111111111111,
             "#46039f"
            ],
            [
             0.2222222222222222,
             "#7201a8"
            ],
            [
             0.3333333333333333,
             "#9c179e"
            ],
            [
             0.4444444444444444,
             "#bd3786"
            ],
            [
             0.5555555555555556,
             "#d8576b"
            ],
            [
             0.6666666666666666,
             "#ed7953"
            ],
            [
             0.7777777777777778,
             "#fb9f3a"
            ],
            [
             0.8888888888888888,
             "#fdca26"
            ],
            [
             1,
             "#f0f921"
            ]
           ],
           "sequentialminus": [
            [
             0,
             "#0d0887"
            ],
            [
             0.1111111111111111,
             "#46039f"
            ],
            [
             0.2222222222222222,
             "#7201a8"
            ],
            [
             0.3333333333333333,
             "#9c179e"
            ],
            [
             0.4444444444444444,
             "#bd3786"
            ],
            [
             0.5555555555555556,
             "#d8576b"
            ],
            [
             0.6666666666666666,
             "#ed7953"
            ],
            [
             0.7777777777777778,
             "#fb9f3a"
            ],
            [
             0.8888888888888888,
             "#fdca26"
            ],
            [
             1,
             "#f0f921"
            ]
           ]
          },
          "colorway": [
           "#636efa",
           "#EF553B",
           "#00cc96",
           "#ab63fa",
           "#FFA15A",
           "#19d3f3",
           "#FF6692",
           "#B6E880",
           "#FF97FF",
           "#FECB52"
          ],
          "font": {
           "color": "#2a3f5f"
          },
          "geo": {
           "bgcolor": "white",
           "lakecolor": "white",
           "landcolor": "#E5ECF6",
           "showlakes": true,
           "showland": true,
           "subunitcolor": "white"
          },
          "hoverlabel": {
           "align": "left"
          },
          "hovermode": "closest",
          "mapbox": {
           "style": "light"
          },
          "paper_bgcolor": "white",
          "plot_bgcolor": "#E5ECF6",
          "polar": {
           "angularaxis": {
            "gridcolor": "white",
            "linecolor": "white",
            "ticks": ""
           },
           "bgcolor": "#E5ECF6",
           "radialaxis": {
            "gridcolor": "white",
            "linecolor": "white",
            "ticks": ""
           }
          },
          "scene": {
           "xaxis": {
            "backgroundcolor": "#E5ECF6",
            "gridcolor": "white",
            "gridwidth": 2,
            "linecolor": "white",
            "showbackground": true,
            "ticks": "",
            "zerolinecolor": "white"
           },
           "yaxis": {
            "backgroundcolor": "#E5ECF6",
            "gridcolor": "white",
            "gridwidth": 2,
            "linecolor": "white",
            "showbackground": true,
            "ticks": "",
            "zerolinecolor": "white"
           },
           "zaxis": {
            "backgroundcolor": "#E5ECF6",
            "gridcolor": "white",
            "gridwidth": 2,
            "linecolor": "white",
            "showbackground": true,
            "ticks": "",
            "zerolinecolor": "white"
           }
          },
          "shapedefaults": {
           "line": {
            "color": "#2a3f5f"
           }
          },
          "ternary": {
           "aaxis": {
            "gridcolor": "white",
            "linecolor": "white",
            "ticks": ""
           },
           "baxis": {
            "gridcolor": "white",
            "linecolor": "white",
            "ticks": ""
           },
           "bgcolor": "#E5ECF6",
           "caxis": {
            "gridcolor": "white",
            "linecolor": "white",
            "ticks": ""
           }
          },
          "title": {
           "x": 0.05
          },
          "xaxis": {
           "automargin": true,
           "gridcolor": "white",
           "linecolor": "white",
           "ticks": "",
           "title": {
            "standoff": 15
           },
           "zerolinecolor": "white",
           "zerolinewidth": 2
          },
          "yaxis": {
           "automargin": true,
           "gridcolor": "white",
           "linecolor": "white",
           "ticks": "",
           "title": {
            "standoff": 15
           },
           "zerolinecolor": "white",
           "zerolinewidth": 2
          }
         }
        },
        "title": {
         "text": "Experiment Creation Time"
        },
        "xaxis": {
         "anchor": "y",
         "domain": [
          0,
          1
         ],
         "title": {
          "text": "creation_time"
         }
        },
        "yaxis": {
         "anchor": "x",
         "domain": [
          0,
          1
         ]
        }
       }
      }
     },
     "metadata": {},
     "output_type": "display_data"
    }
   ],
   "source": [
    "px.strip(\n",
    "    experiments,\n",
    "    x=\"creation_time\",\n",
    "    color=\"lifecycle_stage\",\n",
    "    hover_name=\"name\",\n",
    "    hover_data=experiments.columns,\n",
    "    title=\"Experiment Creation Time\",\n",
    ")"
   ]
  },
  {
   "cell_type": "code",
   "execution_count": 10,
   "metadata": {},
   "outputs": [
    {
     "data": {
      "application/vnd.plotly.v1+json": {
       "config": {
        "plotlyServerURL": "https://plot.ly"
       },
       "data": [
        {
         "alignmentgroup": "True",
         "boxpoints": "all",
         "customdata": [
          [
           {
            "Champion": "3"
           },
           "",
           "2024-12-09T21:26:06.439000",
           "bikes",
           {}
          ]
         ],
         "fillcolor": "rgba(255,255,255,0)",
         "hoveron": "points",
         "hovertemplate": "<b>%{hovertext}</b><br><br>creation_timestamp=%{x}<br>aliases=%{customdata[0]}<br>description=%{customdata[1]}<br>last_updated_timestamp=%{customdata[2]}<br>name=%{customdata[3]}<br>tags=%{customdata[4]}<extra></extra>",
         "hovertext": [
          "bikes"
         ],
         "legendgroup": "",
         "line": {
          "color": "rgba(255,255,255,0)"
         },
         "marker": {
          "color": "#636efa"
         },
         "name": "",
         "offsetgroup": "",
         "orientation": "h",
         "pointpos": 0,
         "showlegend": false,
         "type": "box",
         "x": [
          "2024-12-09T19:33:09.416000"
         ],
         "x0": " ",
         "xaxis": "x",
         "y0": " ",
         "yaxis": "y"
        }
       ],
       "layout": {
        "boxmode": "group",
        "legend": {
         "tracegroupgap": 0
        },
        "template": {
         "data": {
          "bar": [
           {
            "error_x": {
             "color": "#2a3f5f"
            },
            "error_y": {
             "color": "#2a3f5f"
            },
            "marker": {
             "line": {
              "color": "#E5ECF6",
              "width": 0.5
             },
             "pattern": {
              "fillmode": "overlay",
              "size": 10,
              "solidity": 0.2
             }
            },
            "type": "bar"
           }
          ],
          "barpolar": [
           {
            "marker": {
             "line": {
              "color": "#E5ECF6",
              "width": 0.5
             },
             "pattern": {
              "fillmode": "overlay",
              "size": 10,
              "solidity": 0.2
             }
            },
            "type": "barpolar"
           }
          ],
          "carpet": [
           {
            "aaxis": {
             "endlinecolor": "#2a3f5f",
             "gridcolor": "white",
             "linecolor": "white",
             "minorgridcolor": "white",
             "startlinecolor": "#2a3f5f"
            },
            "baxis": {
             "endlinecolor": "#2a3f5f",
             "gridcolor": "white",
             "linecolor": "white",
             "minorgridcolor": "white",
             "startlinecolor": "#2a3f5f"
            },
            "type": "carpet"
           }
          ],
          "choropleth": [
           {
            "colorbar": {
             "outlinewidth": 0,
             "ticks": ""
            },
            "type": "choropleth"
           }
          ],
          "contour": [
           {
            "colorbar": {
             "outlinewidth": 0,
             "ticks": ""
            },
            "colorscale": [
             [
              0,
              "#0d0887"
             ],
             [
              0.1111111111111111,
              "#46039f"
             ],
             [
              0.2222222222222222,
              "#7201a8"
             ],
             [
              0.3333333333333333,
              "#9c179e"
             ],
             [
              0.4444444444444444,
              "#bd3786"
             ],
             [
              0.5555555555555556,
              "#d8576b"
             ],
             [
              0.6666666666666666,
              "#ed7953"
             ],
             [
              0.7777777777777778,
              "#fb9f3a"
             ],
             [
              0.8888888888888888,
              "#fdca26"
             ],
             [
              1,
              "#f0f921"
             ]
            ],
            "type": "contour"
           }
          ],
          "contourcarpet": [
           {
            "colorbar": {
             "outlinewidth": 0,
             "ticks": ""
            },
            "type": "contourcarpet"
           }
          ],
          "heatmap": [
           {
            "colorbar": {
             "outlinewidth": 0,
             "ticks": ""
            },
            "colorscale": [
             [
              0,
              "#0d0887"
             ],
             [
              0.1111111111111111,
              "#46039f"
             ],
             [
              0.2222222222222222,
              "#7201a8"
             ],
             [
              0.3333333333333333,
              "#9c179e"
             ],
             [
              0.4444444444444444,
              "#bd3786"
             ],
             [
              0.5555555555555556,
              "#d8576b"
             ],
             [
              0.6666666666666666,
              "#ed7953"
             ],
             [
              0.7777777777777778,
              "#fb9f3a"
             ],
             [
              0.8888888888888888,
              "#fdca26"
             ],
             [
              1,
              "#f0f921"
             ]
            ],
            "type": "heatmap"
           }
          ],
          "heatmapgl": [
           {
            "colorbar": {
             "outlinewidth": 0,
             "ticks": ""
            },
            "colorscale": [
             [
              0,
              "#0d0887"
             ],
             [
              0.1111111111111111,
              "#46039f"
             ],
             [
              0.2222222222222222,
              "#7201a8"
             ],
             [
              0.3333333333333333,
              "#9c179e"
             ],
             [
              0.4444444444444444,
              "#bd3786"
             ],
             [
              0.5555555555555556,
              "#d8576b"
             ],
             [
              0.6666666666666666,
              "#ed7953"
             ],
             [
              0.7777777777777778,
              "#fb9f3a"
             ],
             [
              0.8888888888888888,
              "#fdca26"
             ],
             [
              1,
              "#f0f921"
             ]
            ],
            "type": "heatmapgl"
           }
          ],
          "histogram": [
           {
            "marker": {
             "pattern": {
              "fillmode": "overlay",
              "size": 10,
              "solidity": 0.2
             }
            },
            "type": "histogram"
           }
          ],
          "histogram2d": [
           {
            "colorbar": {
             "outlinewidth": 0,
             "ticks": ""
            },
            "colorscale": [
             [
              0,
              "#0d0887"
             ],
             [
              0.1111111111111111,
              "#46039f"
             ],
             [
              0.2222222222222222,
              "#7201a8"
             ],
             [
              0.3333333333333333,
              "#9c179e"
             ],
             [
              0.4444444444444444,
              "#bd3786"
             ],
             [
              0.5555555555555556,
              "#d8576b"
             ],
             [
              0.6666666666666666,
              "#ed7953"
             ],
             [
              0.7777777777777778,
              "#fb9f3a"
             ],
             [
              0.8888888888888888,
              "#fdca26"
             ],
             [
              1,
              "#f0f921"
             ]
            ],
            "type": "histogram2d"
           }
          ],
          "histogram2dcontour": [
           {
            "colorbar": {
             "outlinewidth": 0,
             "ticks": ""
            },
            "colorscale": [
             [
              0,
              "#0d0887"
             ],
             [
              0.1111111111111111,
              "#46039f"
             ],
             [
              0.2222222222222222,
              "#7201a8"
             ],
             [
              0.3333333333333333,
              "#9c179e"
             ],
             [
              0.4444444444444444,
              "#bd3786"
             ],
             [
              0.5555555555555556,
              "#d8576b"
             ],
             [
              0.6666666666666666,
              "#ed7953"
             ],
             [
              0.7777777777777778,
              "#fb9f3a"
             ],
             [
              0.8888888888888888,
              "#fdca26"
             ],
             [
              1,
              "#f0f921"
             ]
            ],
            "type": "histogram2dcontour"
           }
          ],
          "mesh3d": [
           {
            "colorbar": {
             "outlinewidth": 0,
             "ticks": ""
            },
            "type": "mesh3d"
           }
          ],
          "parcoords": [
           {
            "line": {
             "colorbar": {
              "outlinewidth": 0,
              "ticks": ""
             }
            },
            "type": "parcoords"
           }
          ],
          "pie": [
           {
            "automargin": true,
            "type": "pie"
           }
          ],
          "scatter": [
           {
            "fillpattern": {
             "fillmode": "overlay",
             "size": 10,
             "solidity": 0.2
            },
            "type": "scatter"
           }
          ],
          "scatter3d": [
           {
            "line": {
             "colorbar": {
              "outlinewidth": 0,
              "ticks": ""
             }
            },
            "marker": {
             "colorbar": {
              "outlinewidth": 0,
              "ticks": ""
             }
            },
            "type": "scatter3d"
           }
          ],
          "scattercarpet": [
           {
            "marker": {
             "colorbar": {
              "outlinewidth": 0,
              "ticks": ""
             }
            },
            "type": "scattercarpet"
           }
          ],
          "scattergeo": [
           {
            "marker": {
             "colorbar": {
              "outlinewidth": 0,
              "ticks": ""
             }
            },
            "type": "scattergeo"
           }
          ],
          "scattergl": [
           {
            "marker": {
             "colorbar": {
              "outlinewidth": 0,
              "ticks": ""
             }
            },
            "type": "scattergl"
           }
          ],
          "scattermapbox": [
           {
            "marker": {
             "colorbar": {
              "outlinewidth": 0,
              "ticks": ""
             }
            },
            "type": "scattermapbox"
           }
          ],
          "scatterpolar": [
           {
            "marker": {
             "colorbar": {
              "outlinewidth": 0,
              "ticks": ""
             }
            },
            "type": "scatterpolar"
           }
          ],
          "scatterpolargl": [
           {
            "marker": {
             "colorbar": {
              "outlinewidth": 0,
              "ticks": ""
             }
            },
            "type": "scatterpolargl"
           }
          ],
          "scatterternary": [
           {
            "marker": {
             "colorbar": {
              "outlinewidth": 0,
              "ticks": ""
             }
            },
            "type": "scatterternary"
           }
          ],
          "surface": [
           {
            "colorbar": {
             "outlinewidth": 0,
             "ticks": ""
            },
            "colorscale": [
             [
              0,
              "#0d0887"
             ],
             [
              0.1111111111111111,
              "#46039f"
             ],
             [
              0.2222222222222222,
              "#7201a8"
             ],
             [
              0.3333333333333333,
              "#9c179e"
             ],
             [
              0.4444444444444444,
              "#bd3786"
             ],
             [
              0.5555555555555556,
              "#d8576b"
             ],
             [
              0.6666666666666666,
              "#ed7953"
             ],
             [
              0.7777777777777778,
              "#fb9f3a"
             ],
             [
              0.8888888888888888,
              "#fdca26"
             ],
             [
              1,
              "#f0f921"
             ]
            ],
            "type": "surface"
           }
          ],
          "table": [
           {
            "cells": {
             "fill": {
              "color": "#EBF0F8"
             },
             "line": {
              "color": "white"
             }
            },
            "header": {
             "fill": {
              "color": "#C8D4E3"
             },
             "line": {
              "color": "white"
             }
            },
            "type": "table"
           }
          ]
         },
         "layout": {
          "annotationdefaults": {
           "arrowcolor": "#2a3f5f",
           "arrowhead": 0,
           "arrowwidth": 1
          },
          "autotypenumbers": "strict",
          "coloraxis": {
           "colorbar": {
            "outlinewidth": 0,
            "ticks": ""
           }
          },
          "colorscale": {
           "diverging": [
            [
             0,
             "#8e0152"
            ],
            [
             0.1,
             "#c51b7d"
            ],
            [
             0.2,
             "#de77ae"
            ],
            [
             0.3,
             "#f1b6da"
            ],
            [
             0.4,
             "#fde0ef"
            ],
            [
             0.5,
             "#f7f7f7"
            ],
            [
             0.6,
             "#e6f5d0"
            ],
            [
             0.7,
             "#b8e186"
            ],
            [
             0.8,
             "#7fbc41"
            ],
            [
             0.9,
             "#4d9221"
            ],
            [
             1,
             "#276419"
            ]
           ],
           "sequential": [
            [
             0,
             "#0d0887"
            ],
            [
             0.1111111111111111,
             "#46039f"
            ],
            [
             0.2222222222222222,
             "#7201a8"
            ],
            [
             0.3333333333333333,
             "#9c179e"
            ],
            [
             0.4444444444444444,
             "#bd3786"
            ],
            [
             0.5555555555555556,
             "#d8576b"
            ],
            [
             0.6666666666666666,
             "#ed7953"
            ],
            [
             0.7777777777777778,
             "#fb9f3a"
            ],
            [
             0.8888888888888888,
             "#fdca26"
            ],
            [
             1,
             "#f0f921"
            ]
           ],
           "sequentialminus": [
            [
             0,
             "#0d0887"
            ],
            [
             0.1111111111111111,
             "#46039f"
            ],
            [
             0.2222222222222222,
             "#7201a8"
            ],
            [
             0.3333333333333333,
             "#9c179e"
            ],
            [
             0.4444444444444444,
             "#bd3786"
            ],
            [
             0.5555555555555556,
             "#d8576b"
            ],
            [
             0.6666666666666666,
             "#ed7953"
            ],
            [
             0.7777777777777778,
             "#fb9f3a"
            ],
            [
             0.8888888888888888,
             "#fdca26"
            ],
            [
             1,
             "#f0f921"
            ]
           ]
          },
          "colorway": [
           "#636efa",
           "#EF553B",
           "#00cc96",
           "#ab63fa",
           "#FFA15A",
           "#19d3f3",
           "#FF6692",
           "#B6E880",
           "#FF97FF",
           "#FECB52"
          ],
          "font": {
           "color": "#2a3f5f"
          },
          "geo": {
           "bgcolor": "white",
           "lakecolor": "white",
           "landcolor": "#E5ECF6",
           "showlakes": true,
           "showland": true,
           "subunitcolor": "white"
          },
          "hoverlabel": {
           "align": "left"
          },
          "hovermode": "closest",
          "mapbox": {
           "style": "light"
          },
          "paper_bgcolor": "white",
          "plot_bgcolor": "#E5ECF6",
          "polar": {
           "angularaxis": {
            "gridcolor": "white",
            "linecolor": "white",
            "ticks": ""
           },
           "bgcolor": "#E5ECF6",
           "radialaxis": {
            "gridcolor": "white",
            "linecolor": "white",
            "ticks": ""
           }
          },
          "scene": {
           "xaxis": {
            "backgroundcolor": "#E5ECF6",
            "gridcolor": "white",
            "gridwidth": 2,
            "linecolor": "white",
            "showbackground": true,
            "ticks": "",
            "zerolinecolor": "white"
           },
           "yaxis": {
            "backgroundcolor": "#E5ECF6",
            "gridcolor": "white",
            "gridwidth": 2,
            "linecolor": "white",
            "showbackground": true,
            "ticks": "",
            "zerolinecolor": "white"
           },
           "zaxis": {
            "backgroundcolor": "#E5ECF6",
            "gridcolor": "white",
            "gridwidth": 2,
            "linecolor": "white",
            "showbackground": true,
            "ticks": "",
            "zerolinecolor": "white"
           }
          },
          "shapedefaults": {
           "line": {
            "color": "#2a3f5f"
           }
          },
          "ternary": {
           "aaxis": {
            "gridcolor": "white",
            "linecolor": "white",
            "ticks": ""
           },
           "baxis": {
            "gridcolor": "white",
            "linecolor": "white",
            "ticks": ""
           },
           "bgcolor": "#E5ECF6",
           "caxis": {
            "gridcolor": "white",
            "linecolor": "white",
            "ticks": ""
           }
          },
          "title": {
           "x": 0.05
          },
          "xaxis": {
           "automargin": true,
           "gridcolor": "white",
           "linecolor": "white",
           "ticks": "",
           "title": {
            "standoff": 15
           },
           "zerolinecolor": "white",
           "zerolinewidth": 2
          },
          "yaxis": {
           "automargin": true,
           "gridcolor": "white",
           "linecolor": "white",
           "ticks": "",
           "title": {
            "standoff": 15
           },
           "zerolinecolor": "white",
           "zerolinewidth": 2
          }
         }
        },
        "title": {
         "text": "Model Creation Timestamp"
        },
        "xaxis": {
         "anchor": "y",
         "domain": [
          0,
          1
         ],
         "title": {
          "text": "creation_timestamp"
         }
        },
        "yaxis": {
         "anchor": "x",
         "domain": [
          0,
          1
         ]
        }
       }
      }
     },
     "metadata": {},
     "output_type": "display_data"
    }
   ],
   "source": [
    "px.strip(\n",
    "    models,\n",
    "    x=\"creation_timestamp\",\n",
    "    hover_name=\"name\",\n",
    "    hover_data=models.columns,\n",
    "    title=\"Model Creation Timestamp\",\n",
    ")"
   ]
  },
  {
   "cell_type": "code",
   "execution_count": 11,
   "metadata": {},
   "outputs": [
    {
     "data": {
      "application/vnd.plotly.v1+json": {
       "config": {
        "plotlyServerURL": "https://plot.ly"
       },
       "data": [
        {
         "alignmentgroup": "True",
         "boxpoints": "all",
         "customdata": [
          [
           {
            "Champion": "3"
           },
           "",
           "2024-12-09T21:26:06.439000",
           "bikes",
           {}
          ]
         ],
         "fillcolor": "rgba(255,255,255,0)",
         "hoveron": "points",
         "hovertemplate": "<b>%{hovertext}</b><br><br>creation_timestamp=%{x}<br>aliases=%{customdata[0]}<br>description=%{customdata[1]}<br>last_updated_timestamp=%{customdata[2]}<br>name=%{customdata[3]}<br>tags=%{customdata[4]}<extra></extra>",
         "hovertext": [
          "bikes"
         ],
         "legendgroup": "",
         "line": {
          "color": "rgba(255,255,255,0)"
         },
         "marker": {
          "color": "#636efa"
         },
         "name": "",
         "offsetgroup": "",
         "orientation": "h",
         "pointpos": 0,
         "showlegend": false,
         "type": "box",
         "x": [
          "2024-12-09T19:33:09.416000"
         ],
         "x0": " ",
         "xaxis": "x",
         "y0": " ",
         "yaxis": "y"
        }
       ],
       "layout": {
        "boxmode": "group",
        "legend": {
         "tracegroupgap": 0
        },
        "template": {
         "data": {
          "bar": [
           {
            "error_x": {
             "color": "#2a3f5f"
            },
            "error_y": {
             "color": "#2a3f5f"
            },
            "marker": {
             "line": {
              "color": "#E5ECF6",
              "width": 0.5
             },
             "pattern": {
              "fillmode": "overlay",
              "size": 10,
              "solidity": 0.2
             }
            },
            "type": "bar"
           }
          ],
          "barpolar": [
           {
            "marker": {
             "line": {
              "color": "#E5ECF6",
              "width": 0.5
             },
             "pattern": {
              "fillmode": "overlay",
              "size": 10,
              "solidity": 0.2
             }
            },
            "type": "barpolar"
           }
          ],
          "carpet": [
           {
            "aaxis": {
             "endlinecolor": "#2a3f5f",
             "gridcolor": "white",
             "linecolor": "white",
             "minorgridcolor": "white",
             "startlinecolor": "#2a3f5f"
            },
            "baxis": {
             "endlinecolor": "#2a3f5f",
             "gridcolor": "white",
             "linecolor": "white",
             "minorgridcolor": "white",
             "startlinecolor": "#2a3f5f"
            },
            "type": "carpet"
           }
          ],
          "choropleth": [
           {
            "colorbar": {
             "outlinewidth": 0,
             "ticks": ""
            },
            "type": "choropleth"
           }
          ],
          "contour": [
           {
            "colorbar": {
             "outlinewidth": 0,
             "ticks": ""
            },
            "colorscale": [
             [
              0,
              "#0d0887"
             ],
             [
              0.1111111111111111,
              "#46039f"
             ],
             [
              0.2222222222222222,
              "#7201a8"
             ],
             [
              0.3333333333333333,
              "#9c179e"
             ],
             [
              0.4444444444444444,
              "#bd3786"
             ],
             [
              0.5555555555555556,
              "#d8576b"
             ],
             [
              0.6666666666666666,
              "#ed7953"
             ],
             [
              0.7777777777777778,
              "#fb9f3a"
             ],
             [
              0.8888888888888888,
              "#fdca26"
             ],
             [
              1,
              "#f0f921"
             ]
            ],
            "type": "contour"
           }
          ],
          "contourcarpet": [
           {
            "colorbar": {
             "outlinewidth": 0,
             "ticks": ""
            },
            "type": "contourcarpet"
           }
          ],
          "heatmap": [
           {
            "colorbar": {
             "outlinewidth": 0,
             "ticks": ""
            },
            "colorscale": [
             [
              0,
              "#0d0887"
             ],
             [
              0.1111111111111111,
              "#46039f"
             ],
             [
              0.2222222222222222,
              "#7201a8"
             ],
             [
              0.3333333333333333,
              "#9c179e"
             ],
             [
              0.4444444444444444,
              "#bd3786"
             ],
             [
              0.5555555555555556,
              "#d8576b"
             ],
             [
              0.6666666666666666,
              "#ed7953"
             ],
             [
              0.7777777777777778,
              "#fb9f3a"
             ],
             [
              0.8888888888888888,
              "#fdca26"
             ],
             [
              1,
              "#f0f921"
             ]
            ],
            "type": "heatmap"
           }
          ],
          "heatmapgl": [
           {
            "colorbar": {
             "outlinewidth": 0,
             "ticks": ""
            },
            "colorscale": [
             [
              0,
              "#0d0887"
             ],
             [
              0.1111111111111111,
              "#46039f"
             ],
             [
              0.2222222222222222,
              "#7201a8"
             ],
             [
              0.3333333333333333,
              "#9c179e"
             ],
             [
              0.4444444444444444,
              "#bd3786"
             ],
             [
              0.5555555555555556,
              "#d8576b"
             ],
             [
              0.6666666666666666,
              "#ed7953"
             ],
             [
              0.7777777777777778,
              "#fb9f3a"
             ],
             [
              0.8888888888888888,
              "#fdca26"
             ],
             [
              1,
              "#f0f921"
             ]
            ],
            "type": "heatmapgl"
           }
          ],
          "histogram": [
           {
            "marker": {
             "pattern": {
              "fillmode": "overlay",
              "size": 10,
              "solidity": 0.2
             }
            },
            "type": "histogram"
           }
          ],
          "histogram2d": [
           {
            "colorbar": {
             "outlinewidth": 0,
             "ticks": ""
            },
            "colorscale": [
             [
              0,
              "#0d0887"
             ],
             [
              0.1111111111111111,
              "#46039f"
             ],
             [
              0.2222222222222222,
              "#7201a8"
             ],
             [
              0.3333333333333333,
              "#9c179e"
             ],
             [
              0.4444444444444444,
              "#bd3786"
             ],
             [
              0.5555555555555556,
              "#d8576b"
             ],
             [
              0.6666666666666666,
              "#ed7953"
             ],
             [
              0.7777777777777778,
              "#fb9f3a"
             ],
             [
              0.8888888888888888,
              "#fdca26"
             ],
             [
              1,
              "#f0f921"
             ]
            ],
            "type": "histogram2d"
           }
          ],
          "histogram2dcontour": [
           {
            "colorbar": {
             "outlinewidth": 0,
             "ticks": ""
            },
            "colorscale": [
             [
              0,
              "#0d0887"
             ],
             [
              0.1111111111111111,
              "#46039f"
             ],
             [
              0.2222222222222222,
              "#7201a8"
             ],
             [
              0.3333333333333333,
              "#9c179e"
             ],
             [
              0.4444444444444444,
              "#bd3786"
             ],
             [
              0.5555555555555556,
              "#d8576b"
             ],
             [
              0.6666666666666666,
              "#ed7953"
             ],
             [
              0.7777777777777778,
              "#fb9f3a"
             ],
             [
              0.8888888888888888,
              "#fdca26"
             ],
             [
              1,
              "#f0f921"
             ]
            ],
            "type": "histogram2dcontour"
           }
          ],
          "mesh3d": [
           {
            "colorbar": {
             "outlinewidth": 0,
             "ticks": ""
            },
            "type": "mesh3d"
           }
          ],
          "parcoords": [
           {
            "line": {
             "colorbar": {
              "outlinewidth": 0,
              "ticks": ""
             }
            },
            "type": "parcoords"
           }
          ],
          "pie": [
           {
            "automargin": true,
            "type": "pie"
           }
          ],
          "scatter": [
           {
            "fillpattern": {
             "fillmode": "overlay",
             "size": 10,
             "solidity": 0.2
            },
            "type": "scatter"
           }
          ],
          "scatter3d": [
           {
            "line": {
             "colorbar": {
              "outlinewidth": 0,
              "ticks": ""
             }
            },
            "marker": {
             "colorbar": {
              "outlinewidth": 0,
              "ticks": ""
             }
            },
            "type": "scatter3d"
           }
          ],
          "scattercarpet": [
           {
            "marker": {
             "colorbar": {
              "outlinewidth": 0,
              "ticks": ""
             }
            },
            "type": "scattercarpet"
           }
          ],
          "scattergeo": [
           {
            "marker": {
             "colorbar": {
              "outlinewidth": 0,
              "ticks": ""
             }
            },
            "type": "scattergeo"
           }
          ],
          "scattergl": [
           {
            "marker": {
             "colorbar": {
              "outlinewidth": 0,
              "ticks": ""
             }
            },
            "type": "scattergl"
           }
          ],
          "scattermapbox": [
           {
            "marker": {
             "colorbar": {
              "outlinewidth": 0,
              "ticks": ""
             }
            },
            "type": "scattermapbox"
           }
          ],
          "scatterpolar": [
           {
            "marker": {
             "colorbar": {
              "outlinewidth": 0,
              "ticks": ""
             }
            },
            "type": "scatterpolar"
           }
          ],
          "scatterpolargl": [
           {
            "marker": {
             "colorbar": {
              "outlinewidth": 0,
              "ticks": ""
             }
            },
            "type": "scatterpolargl"
           }
          ],
          "scatterternary": [
           {
            "marker": {
             "colorbar": {
              "outlinewidth": 0,
              "ticks": ""
             }
            },
            "type": "scatterternary"
           }
          ],
          "surface": [
           {
            "colorbar": {
             "outlinewidth": 0,
             "ticks": ""
            },
            "colorscale": [
             [
              0,
              "#0d0887"
             ],
             [
              0.1111111111111111,
              "#46039f"
             ],
             [
              0.2222222222222222,
              "#7201a8"
             ],
             [
              0.3333333333333333,
              "#9c179e"
             ],
             [
              0.4444444444444444,
              "#bd3786"
             ],
             [
              0.5555555555555556,
              "#d8576b"
             ],
             [
              0.6666666666666666,
              "#ed7953"
             ],
             [
              0.7777777777777778,
              "#fb9f3a"
             ],
             [
              0.8888888888888888,
              "#fdca26"
             ],
             [
              1,
              "#f0f921"
             ]
            ],
            "type": "surface"
           }
          ],
          "table": [
           {
            "cells": {
             "fill": {
              "color": "#EBF0F8"
             },
             "line": {
              "color": "white"
             }
            },
            "header": {
             "fill": {
              "color": "#C8D4E3"
             },
             "line": {
              "color": "white"
             }
            },
            "type": "table"
           }
          ]
         },
         "layout": {
          "annotationdefaults": {
           "arrowcolor": "#2a3f5f",
           "arrowhead": 0,
           "arrowwidth": 1
          },
          "autotypenumbers": "strict",
          "coloraxis": {
           "colorbar": {
            "outlinewidth": 0,
            "ticks": ""
           }
          },
          "colorscale": {
           "diverging": [
            [
             0,
             "#8e0152"
            ],
            [
             0.1,
             "#c51b7d"
            ],
            [
             0.2,
             "#de77ae"
            ],
            [
             0.3,
             "#f1b6da"
            ],
            [
             0.4,
             "#fde0ef"
            ],
            [
             0.5,
             "#f7f7f7"
            ],
            [
             0.6,
             "#e6f5d0"
            ],
            [
             0.7,
             "#b8e186"
            ],
            [
             0.8,
             "#7fbc41"
            ],
            [
             0.9,
             "#4d9221"
            ],
            [
             1,
             "#276419"
            ]
           ],
           "sequential": [
            [
             0,
             "#0d0887"
            ],
            [
             0.1111111111111111,
             "#46039f"
            ],
            [
             0.2222222222222222,
             "#7201a8"
            ],
            [
             0.3333333333333333,
             "#9c179e"
            ],
            [
             0.4444444444444444,
             "#bd3786"
            ],
            [
             0.5555555555555556,
             "#d8576b"
            ],
            [
             0.6666666666666666,
             "#ed7953"
            ],
            [
             0.7777777777777778,
             "#fb9f3a"
            ],
            [
             0.8888888888888888,
             "#fdca26"
            ],
            [
             1,
             "#f0f921"
            ]
           ],
           "sequentialminus": [
            [
             0,
             "#0d0887"
            ],
            [
             0.1111111111111111,
             "#46039f"
            ],
            [
             0.2222222222222222,
             "#7201a8"
            ],
            [
             0.3333333333333333,
             "#9c179e"
            ],
            [
             0.4444444444444444,
             "#bd3786"
            ],
            [
             0.5555555555555556,
             "#d8576b"
            ],
            [
             0.6666666666666666,
             "#ed7953"
            ],
            [
             0.7777777777777778,
             "#fb9f3a"
            ],
            [
             0.8888888888888888,
             "#fdca26"
            ],
            [
             1,
             "#f0f921"
            ]
           ]
          },
          "colorway": [
           "#636efa",
           "#EF553B",
           "#00cc96",
           "#ab63fa",
           "#FFA15A",
           "#19d3f3",
           "#FF6692",
           "#B6E880",
           "#FF97FF",
           "#FECB52"
          ],
          "font": {
           "color": "#2a3f5f"
          },
          "geo": {
           "bgcolor": "white",
           "lakecolor": "white",
           "landcolor": "#E5ECF6",
           "showlakes": true,
           "showland": true,
           "subunitcolor": "white"
          },
          "hoverlabel": {
           "align": "left"
          },
          "hovermode": "closest",
          "mapbox": {
           "style": "light"
          },
          "paper_bgcolor": "white",
          "plot_bgcolor": "#E5ECF6",
          "polar": {
           "angularaxis": {
            "gridcolor": "white",
            "linecolor": "white",
            "ticks": ""
           },
           "bgcolor": "#E5ECF6",
           "radialaxis": {
            "gridcolor": "white",
            "linecolor": "white",
            "ticks": ""
           }
          },
          "scene": {
           "xaxis": {
            "backgroundcolor": "#E5ECF6",
            "gridcolor": "white",
            "gridwidth": 2,
            "linecolor": "white",
            "showbackground": true,
            "ticks": "",
            "zerolinecolor": "white"
           },
           "yaxis": {
            "backgroundcolor": "#E5ECF6",
            "gridcolor": "white",
            "gridwidth": 2,
            "linecolor": "white",
            "showbackground": true,
            "ticks": "",
            "zerolinecolor": "white"
           },
           "zaxis": {
            "backgroundcolor": "#E5ECF6",
            "gridcolor": "white",
            "gridwidth": 2,
            "linecolor": "white",
            "showbackground": true,
            "ticks": "",
            "zerolinecolor": "white"
           }
          },
          "shapedefaults": {
           "line": {
            "color": "#2a3f5f"
           }
          },
          "ternary": {
           "aaxis": {
            "gridcolor": "white",
            "linecolor": "white",
            "ticks": ""
           },
           "baxis": {
            "gridcolor": "white",
            "linecolor": "white",
            "ticks": ""
           },
           "bgcolor": "#E5ECF6",
           "caxis": {
            "gridcolor": "white",
            "linecolor": "white",
            "ticks": ""
           }
          },
          "title": {
           "x": 0.05
          },
          "xaxis": {
           "automargin": true,
           "gridcolor": "white",
           "linecolor": "white",
           "ticks": "",
           "title": {
            "standoff": 15
           },
           "zerolinecolor": "white",
           "zerolinewidth": 2
          },
          "yaxis": {
           "automargin": true,
           "gridcolor": "white",
           "linecolor": "white",
           "ticks": "",
           "title": {
            "standoff": 15
           },
           "zerolinecolor": "white",
           "zerolinewidth": 2
          }
         }
        },
        "title": {
         "text": "Model Creation Timestamp"
        },
        "xaxis": {
         "anchor": "y",
         "domain": [
          0,
          1
         ],
         "title": {
          "text": "creation_timestamp"
         }
        },
        "yaxis": {
         "anchor": "x",
         "domain": [
          0,
          1
         ]
        }
       }
      }
     },
     "metadata": {},
     "output_type": "display_data"
    }
   ],
   "source": [
    "px.strip(\n",
    "    models,\n",
    "    x=\"creation_timestamp\",\n",
    "    hover_name=\"name\",\n",
    "    hover_data=models.columns,\n",
    "    title=\"Model Creation Timestamp\",\n",
    ")"
   ]
  },
  {
   "cell_type": "code",
   "execution_count": 12,
   "metadata": {},
   "outputs": [
    {
     "data": {
      "application/vnd.plotly.v1+json": {
       "config": {
        "plotlyServerURL": "https://plot.ly"
       },
       "data": [
        {
         "alignmentgroup": "True",
         "boxpoints": "all",
         "customdata": [
          [
           "Champion",
           "None",
           "",
           "2024-12-09T21:25:59.981000",
           "bikes",
           "fc31f5b645204fdd9ef58fbbc0c105eb",
           "",
           "file:///home/fmind/mlops-python-package/mlruns/892046783494697990/fc31f5b645204fdd9ef58fbbc0c105eb/artifacts/model",
           "READY",
           "",
           {},
           "",
           "3"
          ],
          [
           null,
           "None",
           "",
           "2024-12-09T20:15:47.252000",
           "bikes",
           "abad34d51a2a4cffa328136540b455c0",
           "",
           "file:///home/fmind/mlops-python-package/mlruns/892046783494697990/abad34d51a2a4cffa328136540b455c0/artifacts/model",
           "READY",
           "",
           {},
           "",
           "2"
          ],
          [
           null,
           "None",
           "",
           "2024-12-09T19:33:09.426000",
           "bikes",
           "ca4c7550ad354be9a2f10f7eade8d47e",
           "",
           "file:///home/fmind/mlops-python-package/mlruns/892046783494697990/ca4c7550ad354be9a2f10f7eade8d47e/artifacts/model",
           "READY",
           "",
           {},
           "",
           "1"
          ]
         ],
         "fillcolor": "rgba(255,255,255,0)",
         "hoveron": "points",
         "hovertemplate": "<b>%{hovertext}</b><br><br>name=%{customdata[4]}<br>creation_timestamp=%{x}<br>aliases=%{customdata[0]}<br>current_stage=%{customdata[1]}<br>description=%{customdata[2]}<br>last_updated_timestamp=%{customdata[3]}<br>run_id=%{customdata[5]}<br>run_link=%{customdata[6]}<br>source=%{customdata[7]}<br>status=%{customdata[8]}<br>status_message=%{customdata[9]}<br>tags=%{customdata[10]}<br>user_id=%{customdata[11]}<br>version=%{customdata[12]}<extra></extra>",
         "hovertext": [
          "bikes",
          "bikes",
          "bikes"
         ],
         "legendgroup": "bikes",
         "line": {
          "color": "rgba(255,255,255,0)"
         },
         "marker": {
          "color": "#636efa"
         },
         "name": "bikes",
         "offsetgroup": "bikes",
         "orientation": "h",
         "pointpos": 0,
         "showlegend": true,
         "type": "box",
         "x": [
          "2024-12-09T21:25:59.981000",
          "2024-12-09T20:15:47.252000",
          "2024-12-09T19:33:09.426000"
         ],
         "x0": " ",
         "xaxis": "x",
         "y0": " ",
         "yaxis": "y"
        }
       ],
       "layout": {
        "boxmode": "group",
        "legend": {
         "title": {
          "text": "name"
         },
         "tracegroupgap": 0
        },
        "template": {
         "data": {
          "bar": [
           {
            "error_x": {
             "color": "#2a3f5f"
            },
            "error_y": {
             "color": "#2a3f5f"
            },
            "marker": {
             "line": {
              "color": "#E5ECF6",
              "width": 0.5
             },
             "pattern": {
              "fillmode": "overlay",
              "size": 10,
              "solidity": 0.2
             }
            },
            "type": "bar"
           }
          ],
          "barpolar": [
           {
            "marker": {
             "line": {
              "color": "#E5ECF6",
              "width": 0.5
             },
             "pattern": {
              "fillmode": "overlay",
              "size": 10,
              "solidity": 0.2
             }
            },
            "type": "barpolar"
           }
          ],
          "carpet": [
           {
            "aaxis": {
             "endlinecolor": "#2a3f5f",
             "gridcolor": "white",
             "linecolor": "white",
             "minorgridcolor": "white",
             "startlinecolor": "#2a3f5f"
            },
            "baxis": {
             "endlinecolor": "#2a3f5f",
             "gridcolor": "white",
             "linecolor": "white",
             "minorgridcolor": "white",
             "startlinecolor": "#2a3f5f"
            },
            "type": "carpet"
           }
          ],
          "choropleth": [
           {
            "colorbar": {
             "outlinewidth": 0,
             "ticks": ""
            },
            "type": "choropleth"
           }
          ],
          "contour": [
           {
            "colorbar": {
             "outlinewidth": 0,
             "ticks": ""
            },
            "colorscale": [
             [
              0,
              "#0d0887"
             ],
             [
              0.1111111111111111,
              "#46039f"
             ],
             [
              0.2222222222222222,
              "#7201a8"
             ],
             [
              0.3333333333333333,
              "#9c179e"
             ],
             [
              0.4444444444444444,
              "#bd3786"
             ],
             [
              0.5555555555555556,
              "#d8576b"
             ],
             [
              0.6666666666666666,
              "#ed7953"
             ],
             [
              0.7777777777777778,
              "#fb9f3a"
             ],
             [
              0.8888888888888888,
              "#fdca26"
             ],
             [
              1,
              "#f0f921"
             ]
            ],
            "type": "contour"
           }
          ],
          "contourcarpet": [
           {
            "colorbar": {
             "outlinewidth": 0,
             "ticks": ""
            },
            "type": "contourcarpet"
           }
          ],
          "heatmap": [
           {
            "colorbar": {
             "outlinewidth": 0,
             "ticks": ""
            },
            "colorscale": [
             [
              0,
              "#0d0887"
             ],
             [
              0.1111111111111111,
              "#46039f"
             ],
             [
              0.2222222222222222,
              "#7201a8"
             ],
             [
              0.3333333333333333,
              "#9c179e"
             ],
             [
              0.4444444444444444,
              "#bd3786"
             ],
             [
              0.5555555555555556,
              "#d8576b"
             ],
             [
              0.6666666666666666,
              "#ed7953"
             ],
             [
              0.7777777777777778,
              "#fb9f3a"
             ],
             [
              0.8888888888888888,
              "#fdca26"
             ],
             [
              1,
              "#f0f921"
             ]
            ],
            "type": "heatmap"
           }
          ],
          "heatmapgl": [
           {
            "colorbar": {
             "outlinewidth": 0,
             "ticks": ""
            },
            "colorscale": [
             [
              0,
              "#0d0887"
             ],
             [
              0.1111111111111111,
              "#46039f"
             ],
             [
              0.2222222222222222,
              "#7201a8"
             ],
             [
              0.3333333333333333,
              "#9c179e"
             ],
             [
              0.4444444444444444,
              "#bd3786"
             ],
             [
              0.5555555555555556,
              "#d8576b"
             ],
             [
              0.6666666666666666,
              "#ed7953"
             ],
             [
              0.7777777777777778,
              "#fb9f3a"
             ],
             [
              0.8888888888888888,
              "#fdca26"
             ],
             [
              1,
              "#f0f921"
             ]
            ],
            "type": "heatmapgl"
           }
          ],
          "histogram": [
           {
            "marker": {
             "pattern": {
              "fillmode": "overlay",
              "size": 10,
              "solidity": 0.2
             }
            },
            "type": "histogram"
           }
          ],
          "histogram2d": [
           {
            "colorbar": {
             "outlinewidth": 0,
             "ticks": ""
            },
            "colorscale": [
             [
              0,
              "#0d0887"
             ],
             [
              0.1111111111111111,
              "#46039f"
             ],
             [
              0.2222222222222222,
              "#7201a8"
             ],
             [
              0.3333333333333333,
              "#9c179e"
             ],
             [
              0.4444444444444444,
              "#bd3786"
             ],
             [
              0.5555555555555556,
              "#d8576b"
             ],
             [
              0.6666666666666666,
              "#ed7953"
             ],
             [
              0.7777777777777778,
              "#fb9f3a"
             ],
             [
              0.8888888888888888,
              "#fdca26"
             ],
             [
              1,
              "#f0f921"
             ]
            ],
            "type": "histogram2d"
           }
          ],
          "histogram2dcontour": [
           {
            "colorbar": {
             "outlinewidth": 0,
             "ticks": ""
            },
            "colorscale": [
             [
              0,
              "#0d0887"
             ],
             [
              0.1111111111111111,
              "#46039f"
             ],
             [
              0.2222222222222222,
              "#7201a8"
             ],
             [
              0.3333333333333333,
              "#9c179e"
             ],
             [
              0.4444444444444444,
              "#bd3786"
             ],
             [
              0.5555555555555556,
              "#d8576b"
             ],
             [
              0.6666666666666666,
              "#ed7953"
             ],
             [
              0.7777777777777778,
              "#fb9f3a"
             ],
             [
              0.8888888888888888,
              "#fdca26"
             ],
             [
              1,
              "#f0f921"
             ]
            ],
            "type": "histogram2dcontour"
           }
          ],
          "mesh3d": [
           {
            "colorbar": {
             "outlinewidth": 0,
             "ticks": ""
            },
            "type": "mesh3d"
           }
          ],
          "parcoords": [
           {
            "line": {
             "colorbar": {
              "outlinewidth": 0,
              "ticks": ""
             }
            },
            "type": "parcoords"
           }
          ],
          "pie": [
           {
            "automargin": true,
            "type": "pie"
           }
          ],
          "scatter": [
           {
            "fillpattern": {
             "fillmode": "overlay",
             "size": 10,
             "solidity": 0.2
            },
            "type": "scatter"
           }
          ],
          "scatter3d": [
           {
            "line": {
             "colorbar": {
              "outlinewidth": 0,
              "ticks": ""
             }
            },
            "marker": {
             "colorbar": {
              "outlinewidth": 0,
              "ticks": ""
             }
            },
            "type": "scatter3d"
           }
          ],
          "scattercarpet": [
           {
            "marker": {
             "colorbar": {
              "outlinewidth": 0,
              "ticks": ""
             }
            },
            "type": "scattercarpet"
           }
          ],
          "scattergeo": [
           {
            "marker": {
             "colorbar": {
              "outlinewidth": 0,
              "ticks": ""
             }
            },
            "type": "scattergeo"
           }
          ],
          "scattergl": [
           {
            "marker": {
             "colorbar": {
              "outlinewidth": 0,
              "ticks": ""
             }
            },
            "type": "scattergl"
           }
          ],
          "scattermapbox": [
           {
            "marker": {
             "colorbar": {
              "outlinewidth": 0,
              "ticks": ""
             }
            },
            "type": "scattermapbox"
           }
          ],
          "scatterpolar": [
           {
            "marker": {
             "colorbar": {
              "outlinewidth": 0,
              "ticks": ""
             }
            },
            "type": "scatterpolar"
           }
          ],
          "scatterpolargl": [
           {
            "marker": {
             "colorbar": {
              "outlinewidth": 0,
              "ticks": ""
             }
            },
            "type": "scatterpolargl"
           }
          ],
          "scatterternary": [
           {
            "marker": {
             "colorbar": {
              "outlinewidth": 0,
              "ticks": ""
             }
            },
            "type": "scatterternary"
           }
          ],
          "surface": [
           {
            "colorbar": {
             "outlinewidth": 0,
             "ticks": ""
            },
            "colorscale": [
             [
              0,
              "#0d0887"
             ],
             [
              0.1111111111111111,
              "#46039f"
             ],
             [
              0.2222222222222222,
              "#7201a8"
             ],
             [
              0.3333333333333333,
              "#9c179e"
             ],
             [
              0.4444444444444444,
              "#bd3786"
             ],
             [
              0.5555555555555556,
              "#d8576b"
             ],
             [
              0.6666666666666666,
              "#ed7953"
             ],
             [
              0.7777777777777778,
              "#fb9f3a"
             ],
             [
              0.8888888888888888,
              "#fdca26"
             ],
             [
              1,
              "#f0f921"
             ]
            ],
            "type": "surface"
           }
          ],
          "table": [
           {
            "cells": {
             "fill": {
              "color": "#EBF0F8"
             },
             "line": {
              "color": "white"
             }
            },
            "header": {
             "fill": {
              "color": "#C8D4E3"
             },
             "line": {
              "color": "white"
             }
            },
            "type": "table"
           }
          ]
         },
         "layout": {
          "annotationdefaults": {
           "arrowcolor": "#2a3f5f",
           "arrowhead": 0,
           "arrowwidth": 1
          },
          "autotypenumbers": "strict",
          "coloraxis": {
           "colorbar": {
            "outlinewidth": 0,
            "ticks": ""
           }
          },
          "colorscale": {
           "diverging": [
            [
             0,
             "#8e0152"
            ],
            [
             0.1,
             "#c51b7d"
            ],
            [
             0.2,
             "#de77ae"
            ],
            [
             0.3,
             "#f1b6da"
            ],
            [
             0.4,
             "#fde0ef"
            ],
            [
             0.5,
             "#f7f7f7"
            ],
            [
             0.6,
             "#e6f5d0"
            ],
            [
             0.7,
             "#b8e186"
            ],
            [
             0.8,
             "#7fbc41"
            ],
            [
             0.9,
             "#4d9221"
            ],
            [
             1,
             "#276419"
            ]
           ],
           "sequential": [
            [
             0,
             "#0d0887"
            ],
            [
             0.1111111111111111,
             "#46039f"
            ],
            [
             0.2222222222222222,
             "#7201a8"
            ],
            [
             0.3333333333333333,
             "#9c179e"
            ],
            [
             0.4444444444444444,
             "#bd3786"
            ],
            [
             0.5555555555555556,
             "#d8576b"
            ],
            [
             0.6666666666666666,
             "#ed7953"
            ],
            [
             0.7777777777777778,
             "#fb9f3a"
            ],
            [
             0.8888888888888888,
             "#fdca26"
            ],
            [
             1,
             "#f0f921"
            ]
           ],
           "sequentialminus": [
            [
             0,
             "#0d0887"
            ],
            [
             0.1111111111111111,
             "#46039f"
            ],
            [
             0.2222222222222222,
             "#7201a8"
            ],
            [
             0.3333333333333333,
             "#9c179e"
            ],
            [
             0.4444444444444444,
             "#bd3786"
            ],
            [
             0.5555555555555556,
             "#d8576b"
            ],
            [
             0.6666666666666666,
             "#ed7953"
            ],
            [
             0.7777777777777778,
             "#fb9f3a"
            ],
            [
             0.8888888888888888,
             "#fdca26"
            ],
            [
             1,
             "#f0f921"
            ]
           ]
          },
          "colorway": [
           "#636efa",
           "#EF553B",
           "#00cc96",
           "#ab63fa",
           "#FFA15A",
           "#19d3f3",
           "#FF6692",
           "#B6E880",
           "#FF97FF",
           "#FECB52"
          ],
          "font": {
           "color": "#2a3f5f"
          },
          "geo": {
           "bgcolor": "white",
           "lakecolor": "white",
           "landcolor": "#E5ECF6",
           "showlakes": true,
           "showland": true,
           "subunitcolor": "white"
          },
          "hoverlabel": {
           "align": "left"
          },
          "hovermode": "closest",
          "mapbox": {
           "style": "light"
          },
          "paper_bgcolor": "white",
          "plot_bgcolor": "#E5ECF6",
          "polar": {
           "angularaxis": {
            "gridcolor": "white",
            "linecolor": "white",
            "ticks": ""
           },
           "bgcolor": "#E5ECF6",
           "radialaxis": {
            "gridcolor": "white",
            "linecolor": "white",
            "ticks": ""
           }
          },
          "scene": {
           "xaxis": {
            "backgroundcolor": "#E5ECF6",
            "gridcolor": "white",
            "gridwidth": 2,
            "linecolor": "white",
            "showbackground": true,
            "ticks": "",
            "zerolinecolor": "white"
           },
           "yaxis": {
            "backgroundcolor": "#E5ECF6",
            "gridcolor": "white",
            "gridwidth": 2,
            "linecolor": "white",
            "showbackground": true,
            "ticks": "",
            "zerolinecolor": "white"
           },
           "zaxis": {
            "backgroundcolor": "#E5ECF6",
            "gridcolor": "white",
            "gridwidth": 2,
            "linecolor": "white",
            "showbackground": true,
            "ticks": "",
            "zerolinecolor": "white"
           }
          },
          "shapedefaults": {
           "line": {
            "color": "#2a3f5f"
           }
          },
          "ternary": {
           "aaxis": {
            "gridcolor": "white",
            "linecolor": "white",
            "ticks": ""
           },
           "baxis": {
            "gridcolor": "white",
            "linecolor": "white",
            "ticks": ""
           },
           "bgcolor": "#E5ECF6",
           "caxis": {
            "gridcolor": "white",
            "linecolor": "white",
            "ticks": ""
           }
          },
          "title": {
           "x": 0.05
          },
          "xaxis": {
           "automargin": true,
           "gridcolor": "white",
           "linecolor": "white",
           "ticks": "",
           "title": {
            "standoff": 15
           },
           "zerolinecolor": "white",
           "zerolinewidth": 2
          },
          "yaxis": {
           "automargin": true,
           "gridcolor": "white",
           "linecolor": "white",
           "ticks": "",
           "title": {
            "standoff": 15
           },
           "zerolinecolor": "white",
           "zerolinewidth": 2
          }
         }
        },
        "title": {
         "text": "Version Creation Timestamp"
        },
        "xaxis": {
         "anchor": "y",
         "domain": [
          0,
          1
         ],
         "title": {
          "text": "creation_timestamp"
         }
        },
        "yaxis": {
         "anchor": "x",
         "domain": [
          0,
          1
         ]
        }
       }
      }
     },
     "metadata": {},
     "output_type": "display_data"
    }
   ],
   "source": [
    "px.strip(\n",
    "    versions,\n",
    "    x=\"creation_timestamp\",\n",
    "    color=\"name\",\n",
    "    hover_name=\"name\",\n",
    "    hover_data=versions.columns,\n",
    "    title=\"Version Creation Timestamp\",\n",
    ")"
   ]
  },
  {
   "cell_type": "code",
   "execution_count": 13,
   "metadata": {},
   "outputs": [
    {
     "data": {
      "application/vnd.plotly.v1+json": {
       "config": {
        "plotlyServerURL": "https://plot.ly"
       },
       "data": [
        {
         "alignmentgroup": "True",
         "boxpoints": "all",
         "customdata": [
          [
           "file:///home/fmind/mlops-python-package/mlruns/892046783494697990/c21b823a68ba42b2b1ff98b2ae73c424/artifacts",
           "2024-12-09T21:26:50.094000",
           "892046783494697990",
           "active",
           "c21b823a68ba42b2b1ff98b2ae73c424",
           "Explanations",
           "c21b823a68ba42b2b1ff98b2ae73c424",
           "FINISHED",
           "fmind",
           {},
           {
            "conf_file": "confs/explanations.yaml"
           },
           {
            "mlflow.gitRepoURL": "git@github.com:fmind/mlops-python-package",
            "mlflow.project.backend": "local",
            "mlflow.project.entryPoint": "main",
            "mlflow.project.env": "virtualenv",
            "mlflow.runName": "Explanations",
            "mlflow.source.git.commit": "6baa64548d67a5bcf0a7f1422dfc8d45ed229aed",
            "mlflow.source.git.repoURL": "git@github.com:fmind/mlops-python-package",
            "mlflow.source.name": "file:///home/fmind/mlops-python-package",
            "mlflow.source.type": "PROJECT",
            "mlflow.user": "fmind"
           },
           30.77,
           "fmind",
           "file:///home/fmind/mlops-python-package",
           "PROJECT",
           "main",
           "6baa64548d67a5bcf0a7f1422dfc8d45ed229aed",
           "git@github.com:fmind/mlops-python-package",
           "git@github.com:fmind/mlops-python-package",
           "Explanations",
           "virtualenv",
           "local",
           null,
           null,
           null,
           null,
           null
          ],
          [
           "file:///home/fmind/mlops-python-package/mlruns/892046783494697990/9da0f31e36a9413eaab18149ace82c78/artifacts",
           "2024-12-09T21:26:18.061000",
           "892046783494697990",
           "active",
           "9da0f31e36a9413eaab18149ace82c78",
           "Evaluations",
           "9da0f31e36a9413eaab18149ace82c78",
           "FINISHED",
           "fmind",
           {
            "example_count": 13903,
            "max_error": 4294967295,
            "mean_absolute_error": 2044457567.3205063,
            "mean_absolute_percentage_error": 55189262.03890929,
            "mean_on_target": 174.63914263108683,
            "mean_squared_error": 296.66338200388407,
            "r2_score": 0.9893562621162568,
            "root_mean_squared_error": 17.223918892165166,
            "sum_on_target": 2428008
           },
           {
            "conf_file": "confs/evaluations.yaml"
           },
           {
            "mlflow.gitRepoURL": "git@github.com:fmind/mlops-python-package",
            "mlflow.project.backend": "local",
            "mlflow.project.entryPoint": "main",
            "mlflow.project.env": "virtualenv",
            "mlflow.runName": "Evaluations",
            "mlflow.source.git.commit": "6baa64548d67a5bcf0a7f1422dfc8d45ed229aed",
            "mlflow.source.git.repoURL": "git@github.com:fmind/mlops-python-package",
            "mlflow.source.name": "file:///home/fmind/mlops-python-package",
            "mlflow.source.type": "PROJECT",
            "mlflow.user": "fmind"
           },
           4.572,
           "fmind",
           "file:///home/fmind/mlops-python-package",
           "PROJECT",
           "main",
           "6baa64548d67a5bcf0a7f1422dfc8d45ed229aed",
           "git@github.com:fmind/mlops-python-package",
           "git@github.com:fmind/mlops-python-package",
           "Evaluations",
           "virtualenv",
           "local",
           null,
           null,
           null,
           null,
           null
          ],
          [
           "file:///home/fmind/mlops-python-package/mlruns/892046783494697990/8316d6855d17401b8358e88a48c159f0/artifacts",
           "2024-12-09T21:26:12.215000",
           "892046783494697990",
           "active",
           "8316d6855d17401b8358e88a48c159f0",
           "Inference",
           "8316d6855d17401b8358e88a48c159f0",
           "FINISHED",
           "fmind",
           {},
           {
            "conf_file": "confs/inference.yaml"
           },
           {
            "mlflow.gitRepoURL": "git@github.com:fmind/mlops-python-package",
            "mlflow.project.backend": "local",
            "mlflow.project.entryPoint": "main",
            "mlflow.project.env": "virtualenv",
            "mlflow.runName": "Inference",
            "mlflow.source.git.commit": "6baa64548d67a5bcf0a7f1422dfc8d45ed229aed",
            "mlflow.source.git.repoURL": "git@github.com:fmind/mlops-python-package",
            "mlflow.source.name": "file:///home/fmind/mlops-python-package",
            "mlflow.source.type": "PROJECT",
            "mlflow.user": "fmind"
           },
           4.005,
           "fmind",
           "file:///home/fmind/mlops-python-package",
           "PROJECT",
           "main",
           "6baa64548d67a5bcf0a7f1422dfc8d45ed229aed",
           "git@github.com:fmind/mlops-python-package",
           "git@github.com:fmind/mlops-python-package",
           "Inference",
           "virtualenv",
           "local",
           null,
           null,
           null,
           null,
           null
          ],
          [
           "file:///home/fmind/mlops-python-package/mlruns/892046783494697990/b92f959ab1564eb897e2f66f7089f573/artifacts",
           "2024-12-09T21:26:06.933000",
           "892046783494697990",
           "active",
           "b92f959ab1564eb897e2f66f7089f573",
           "Promotion",
           "b92f959ab1564eb897e2f66f7089f573",
           "FINISHED",
           "fmind",
           {},
           {
            "conf_file": "confs/promotion.yaml"
           },
           {
            "mlflow.gitRepoURL": "git@github.com:fmind/mlops-python-package",
            "mlflow.project.backend": "local",
            "mlflow.project.entryPoint": "main",
            "mlflow.project.env": "virtualenv",
            "mlflow.runName": "Promotion",
            "mlflow.source.git.commit": "6baa64548d67a5bcf0a7f1422dfc8d45ed229aed",
            "mlflow.source.git.repoURL": "git@github.com:fmind/mlops-python-package",
            "mlflow.source.name": "file:///home/fmind/mlops-python-package",
            "mlflow.source.type": "PROJECT",
            "mlflow.user": "fmind"
           },
           3.551,
           "fmind",
           "file:///home/fmind/mlops-python-package",
           "PROJECT",
           "main",
           "6baa64548d67a5bcf0a7f1422dfc8d45ed229aed",
           "git@github.com:fmind/mlops-python-package",
           "git@github.com:fmind/mlops-python-package",
           "Promotion",
           "virtualenv",
           "local",
           null,
           null,
           null,
           null,
           null
          ],
          [
           "file:///home/fmind/mlops-python-package/mlruns/892046783494697990/fc31f5b645204fdd9ef58fbbc0c105eb/artifacts",
           "2024-12-09T21:26:01.071000",
           "892046783494697990",
           "active",
           "fc31f5b645204fdd9ef58fbbc0c105eb",
           "Training",
           "fc31f5b645204fdd9ef58fbbc0c105eb",
           "FINISHED",
           "fmind",
           {
            "mean_squared_error": -1786.7527777777775,
            "system/cpu_utilization_percentage": 25,
            "system/disk_available_megabytes": 11550.6,
            "system/disk_usage_megabytes": 104367.7,
            "system/disk_usage_percentage": 90,
            "system/network_receive_megabytes": 0,
            "system/network_transmit_megabytes": 0,
            "system/system_memory_usage_megabytes": 6226.8,
            "system/system_memory_usage_percentage": 41.3,
            "training_mean_absolute_error": 6.8051192198812736,
            "training_mean_squared_error": 124.51054615575788,
            "training_r2_score": 0.9948851411922456,
            "training_root_mean_squared_error": 11.158429376742852,
            "training_score": 0.9948851411922456
           },
           {
            "conf_file": "confs/training.yaml",
            "memory": "None",
            "regressor": "RandomForestRegressor(max_depth=20, n_estimators=200, random_state=42)",
            "regressor__bootstrap": "True",
            "regressor__ccp_alpha": "0.0",
            "regressor__criterion": "squared_error",
            "regressor__max_depth": "20",
            "regressor__max_features": "1.0",
            "regressor__max_leaf_nodes": "None",
            "regressor__max_samples": "None",
            "regressor__min_impurity_decrease": "0.0",
            "regressor__min_samples_leaf": "1",
            "regressor__min_samples_split": "2",
            "regressor__min_weight_fraction_leaf": "0.0",
            "regressor__monotonic_cst": "None",
            "regressor__n_estimators": "200",
            "regressor__n_jobs": "None",
            "regressor__oob_score": "False",
            "regressor__random_state": "42",
            "regressor__verbose": "0",
            "regressor__warm_start": "False",
            "steps": "[('transformer', ColumnTransformer(transformers=[('categoricals',\n                                 OneHotEncoder(handle_unknown='ignore',\n                                               sparse_output=False),\n                                 ['season', 'weathersit']),\n                                ('numericals', 'passthrough',\n                                 ['yr', 'mnth', 'hr', 'holiday', 'weekday',\n                                  'workingday', 'temp', 'atemp', 'hum',\n                                  'windspeed', 'casual'])])), ('regressor', RandomForestRegressor(max_depth=20, n_estimators=200, random_state=42))]",
            "transformer": "ColumnTransformer(transformers=[('categoricals',\n                                 OneHotEncoder(handle_unknown='ignore',\n                                               sparse_output=False),\n                                 ['season', 'weathersit']),\n                                ('numericals', 'passthrough',\n                                 ['yr', 'mnth', 'hr', 'holiday', 'weekday',\n                                  'workingday', 'temp', 'atemp', 'hum',\n                                  'windspeed', 'casual'])])",
            "transformer__categoricals": "OneHotEncoder(handle_unknown='ignore', sparse_output=False)",
            "transformer__categoricals__categories": "auto",
            "transformer__categoricals__drop": "None",
            "transformer__categoricals__dtype": "<class 'numpy.float64'>",
            "transformer__categoricals__feature_name_combiner": "concat",
            "transformer__categoricals__handle_unknown": "ignore",
            "transformer__categoricals__max_categories": "None",
            "transformer__categoricals__min_frequency": "None",
            "transformer__categoricals__sparse_output": "False",
            "transformer__force_int_remainder_cols": "True",
            "transformer__n_jobs": "None",
            "transformer__numericals": "passthrough",
            "transformer__remainder": "drop",
            "transformer__sparse_threshold": "0.3",
            "transformer__transformer_weights": "None",
            "transformer__transformers": "[('categoricals', OneHotEncoder(handle_unknown='ignore', sparse_output=False), ['season', 'weathersit']), ('numericals', 'passthrough', ['yr', 'mnth', 'hr', 'holiday', 'weekday', 'workingday', 'temp', 'atemp', 'hum', 'windspeed', 'casual'])]",
            "transformer__verbose": "False",
            "transformer__verbose_feature_names_out": "True",
            "verbose": "False"
           },
           {
            "estimator_class": "sklearn.pipeline.Pipeline",
            "estimator_name": "Pipeline",
            "mlflow.gitRepoURL": "git@github.com:fmind/mlops-python-package",
            "mlflow.log-model.history": "[{\"run_id\": \"fc31f5b645204fdd9ef58fbbc0c105eb\", \"artifact_path\": \"model\", \"utc_time_created\": \"2024-12-09 21:25:50.311693\", \"model_uuid\": \"3479cedd4b164da6929b186ac8a40509\", \"flavors\": {\"python_function\": {\"model_path\": \"model.pkl\", \"predict_fn\": \"predict\", \"loader_module\": \"mlflow.sklearn\", \"python_version\": \"3.12.7\", \"env\": {\"conda\": \"conda.yaml\", \"virtualenv\": \"python_env.yaml\"}}, \"sklearn\": {\"pickled_model\": \"model.pkl\", \"sklearn_version\": \"1.5.2\", \"serialization_format\": \"cloudpickle\", \"code\": null}}}, {\"run_id\": \"fc31f5b645204fdd9ef58fbbc0c105eb\", \"artifact_path\": \"model\", \"utc_time_created\": \"2024-12-09 21:25:53.843399\", \"model_uuid\": \"0b50f33451c845acae155bf366ecebf5\", \"flavors\": {\"python_function\": {\"streamable\": false, \"cloudpickle_version\": \"3.1.0\", \"python_model\": \"python_model.pkl\", \"loader_module\": \"mlflow.pyfunc.model\", \"python_version\": \"3.12.7\", \"env\": {\"conda\": \"conda.yaml\", \"virtualenv\": \"python_env.yaml\"}, \"code\": null}}}]",
            "mlflow.project.backend": "local",
            "mlflow.project.entryPoint": "main",
            "mlflow.project.env": "virtualenv",
            "mlflow.runName": "Training",
            "mlflow.source.git.commit": "6baa64548d67a5bcf0a7f1422dfc8d45ed229aed",
            "mlflow.source.git.repoURL": "git@github.com:fmind/mlops-python-package",
            "mlflow.source.name": "file:///home/fmind/mlops-python-package",
            "mlflow.source.type": "PROJECT",
            "mlflow.user": "fmind"
           },
           22.07,
           "fmind",
           "file:///home/fmind/mlops-python-package",
           "PROJECT",
           "main",
           "6baa64548d67a5bcf0a7f1422dfc8d45ed229aed",
           "git@github.com:fmind/mlops-python-package",
           "git@github.com:fmind/mlops-python-package",
           "Training",
           "virtualenv",
           "local",
           "Pipeline",
           "sklearn.pipeline.Pipeline",
           "[{\"run_id\": \"fc31f5b645204fdd9ef58fbbc0c105eb\", \"artifact_path\": \"model\", \"utc_time_created\": \"2024-12-09 21:25:50.311693\", \"model_uuid\": \"3479cedd4b164da6929b186ac8a40509\", \"flavors\": {\"python_function\": {\"model_path\": \"model.pkl\", \"predict_fn\": \"predict\", \"loader_module\": \"mlflow.sklearn\", \"python_version\": \"3.12.7\", \"env\": {\"conda\": \"conda.yaml\", \"virtualenv\": \"python_env.yaml\"}}, \"sklearn\": {\"pickled_model\": \"model.pkl\", \"sklearn_version\": \"1.5.2\", \"serialization_format\": \"cloudpickle\", \"code\": null}}}, {\"run_id\": \"fc31f5b645204fdd9ef58fbbc0c105eb\", \"artifact_path\": \"model\", \"utc_time_created\": \"2024-12-09 21:25:53.843399\", \"model_uuid\": \"0b50f33451c845acae155bf366ecebf5\", \"flavors\": {\"python_function\": {\"streamable\": false, \"cloudpickle_version\": \"3.1.0\", \"python_model\": \"python_model.pkl\", \"loader_module\": \"mlflow.pyfunc.model\", \"python_version\": \"3.12.7\", \"env\": {\"conda\": \"conda.yaml\", \"virtualenv\": \"python_env.yaml\"}, \"code\": null}}}]",
           null,
           null
          ],
          [
           "file:///home/fmind/mlops-python-package/mlruns/892046783494697990/2d2ec19f48a040e4af90b20fdf7e6575/artifacts",
           "2024-12-09T21:25:36.982000",
           "892046783494697990",
           "active",
           "2d2ec19f48a040e4af90b20fdf7e6575",
           "angry-dog-423",
           "2d2ec19f48a040e4af90b20fdf7e6575",
           "FINISHED",
           "fmind",
           {
            "mean_fit_time": 1.0932143330574036,
            "mean_score_time": 0.038968682289123535,
            "mean_test_score": -16644.957118055558,
            "rank_test_score": 3,
            "std_fit_time": 0.15177696215903197,
            "std_score_time": 0.0005394662396354217,
            "std_test_score": 5315.459715152708
           },
           {
            "max_depth": "3",
            "n_estimators": "200",
            "random_state": "42"
           },
           {
            "estimator_class": "bikes.core.models.BaselineSklearnModel",
            "estimator_name": "BaselineSklearnModel",
            "mlflow.autologging": "sklearn",
            "mlflow.parentRunId": "5ded1a1700cc4e0ea786ed96cc15c410",
            "mlflow.runName": "angry-dog-423",
            "mlflow.source.git.commit": "6baa64548d67a5bcf0a7f1422dfc8d45ed229aed",
            "mlflow.source.name": "/home/fmind/mlops-python-package/src/bikes/__main__.py",
            "mlflow.source.type": "LOCAL",
            "mlflow.user": "fmind"
           },
           33.41,
           "fmind",
           "/home/fmind/mlops-python-package/src/bikes/__main__.py",
           "LOCAL",
           null,
           "6baa64548d67a5bcf0a7f1422dfc8d45ed229aed",
           null,
           null,
           "angry-dog-423",
           null,
           null,
           "BaselineSklearnModel",
           "bikes.core.models.BaselineSklearnModel",
           null,
           "sklearn",
           "5ded1a1700cc4e0ea786ed96cc15c410"
          ],
          [
           "file:///home/fmind/mlops-python-package/mlruns/892046783494697990/352518f26eef4fa38bcd37c0e91c9f97/artifacts",
           "2024-12-09T21:25:36.982000",
           "892046783494697990",
           "active",
           "352518f26eef4fa38bcd37c0e91c9f97",
           "lyrical-snail-804",
           "352518f26eef4fa38bcd37c0e91c9f97",
           "FINISHED",
           "fmind",
           {
            "mean_fit_time": 2.202679216861725,
            "mean_score_time": 0.041945457458496094,
            "mean_test_score": -5517.252604166667,
            "rank_test_score": 1,
            "std_fit_time": 0.32352226262719747,
            "std_score_time": 0.0005519371825696691,
            "std_test_score": 1613.520146542553
           },
           {
            "max_depth": "7",
            "n_estimators": "200",
            "random_state": "42"
           },
           {
            "estimator_class": "bikes.core.models.BaselineSklearnModel",
            "estimator_name": "BaselineSklearnModel",
            "mlflow.autologging": "sklearn",
            "mlflow.parentRunId": "5ded1a1700cc4e0ea786ed96cc15c410",
            "mlflow.runName": "lyrical-snail-804",
            "mlflow.source.git.commit": "6baa64548d67a5bcf0a7f1422dfc8d45ed229aed",
            "mlflow.source.name": "/home/fmind/mlops-python-package/src/bikes/__main__.py",
            "mlflow.source.type": "LOCAL",
            "mlflow.user": "fmind"
           },
           33.41,
           "fmind",
           "/home/fmind/mlops-python-package/src/bikes/__main__.py",
           "LOCAL",
           null,
           "6baa64548d67a5bcf0a7f1422dfc8d45ed229aed",
           null,
           null,
           "lyrical-snail-804",
           null,
           null,
           "BaselineSklearnModel",
           "bikes.core.models.BaselineSklearnModel",
           null,
           "sklearn",
           "5ded1a1700cc4e0ea786ed96cc15c410"
          ],
          [
           "file:///home/fmind/mlops-python-package/mlruns/892046783494697990/5ded1a1700cc4e0ea786ed96cc15c410/artifacts",
           "2024-12-09T21:25:37.702000",
           "892046783494697990",
           "active",
           "5ded1a1700cc4e0ea786ed96cc15c410",
           "Tuning",
           "5ded1a1700cc4e0ea786ed96cc15c410",
           "FINISHED",
           "fmind",
           {
            "best_cv_score": -5517.252604166667,
            "system/cpu_utilization_percentage": 9.7,
            "system/disk_available_megabytes": 11550.6,
            "system/disk_usage_megabytes": 104367.7,
            "system/disk_usage_percentage": 90,
            "system/network_receive_megabytes": 0.00699700000041048,
            "system/network_transmit_megabytes": 0.007774000000154047,
            "system/system_memory_usage_megabytes": 6252.9,
            "system/system_memory_usage_percentage": 41.5,
            "training_score": -1951.0630079838884
           },
           {
            "best_max_depth": "7",
            "conf_file": "confs/tuning.yaml",
            "cv": "KIND='TimeSeriesSplitter' gap=0 n_splits=4 test_size=1440",
            "error_score": "raise",
            "estimator": "KIND='BaselineSklearnModel' max_depth=20 n_estimators=200 random_state=42",
            "n_jobs": "None",
            "param_grid": "{'max_depth': [3, 5, 7]}",
            "pre_dispatch": "2*n_jobs",
            "refit": "True",
            "return_train_score": "False",
            "scoring": "<bound method Metric.scorer of SklearnMetric(KIND='SklearnMetric', name='mean_squared_error', greater_is_better=False)>",
            "verbose": "3"
           },
           {
            "estimator_class": "sklearn.model_selection._search.GridSearchCV",
            "estimator_name": "GridSearchCV",
            "mlflow.gitRepoURL": "git@github.com:fmind/mlops-python-package",
            "mlflow.log-model.history": "[{\"run_id\": \"5ded1a1700cc4e0ea786ed96cc15c410\", \"artifact_path\": \"model\", \"utc_time_created\": \"2024-12-09 21:25:30.717827\", \"model_uuid\": \"aa3b9d7746ac436d86292c4c55d3ce29\", \"flavors\": {\"python_function\": {\"model_path\": \"model.pkl\", \"predict_fn\": \"predict\", \"loader_module\": \"mlflow.sklearn\", \"python_version\": \"3.12.7\", \"env\": {\"conda\": \"conda.yaml\", \"virtualenv\": \"python_env.yaml\"}}, \"sklearn\": {\"pickled_model\": \"model.pkl\", \"sklearn_version\": \"1.5.2\", \"serialization_format\": \"cloudpickle\", \"code\": null}}}, {\"run_id\": \"5ded1a1700cc4e0ea786ed96cc15c410\", \"artifact_path\": \"best_estimator\", \"utc_time_created\": \"2024-12-09 21:25:34.349513\", \"model_uuid\": \"0406ff5b9abe4e68b91a8c55af172213\", \"flavors\": {\"python_function\": {\"model_path\": \"model.pkl\", \"predict_fn\": \"predict\", \"loader_module\": \"mlflow.sklearn\", \"python_version\": \"3.12.7\", \"env\": {\"conda\": \"conda.yaml\", \"virtualenv\": \"python_env.yaml\"}}, \"sklearn\": {\"pickled_model\": \"model.pkl\", \"sklearn_version\": \"1.5.2\", \"serialization_format\": \"cloudpickle\", \"code\": null}}}]",
            "mlflow.project.backend": "local",
            "mlflow.project.entryPoint": "main",
            "mlflow.project.env": "virtualenv",
            "mlflow.runName": "Tuning",
            "mlflow.source.git.commit": "6baa64548d67a5bcf0a7f1422dfc8d45ed229aed",
            "mlflow.source.git.repoURL": "git@github.com:fmind/mlops-python-package",
            "mlflow.source.name": "file:///home/fmind/mlops-python-package",
            "mlflow.source.type": "PROJECT",
            "mlflow.user": "fmind"
           },
           34.13,
           "fmind",
           "file:///home/fmind/mlops-python-package",
           "PROJECT",
           "main",
           "6baa64548d67a5bcf0a7f1422dfc8d45ed229aed",
           "git@github.com:fmind/mlops-python-package",
           "git@github.com:fmind/mlops-python-package",
           "Tuning",
           "virtualenv",
           "local",
           "GridSearchCV",
           "sklearn.model_selection._search.GridSearchCV",
           "[{\"run_id\": \"5ded1a1700cc4e0ea786ed96cc15c410\", \"artifact_path\": \"model\", \"utc_time_created\": \"2024-12-09 21:25:30.717827\", \"model_uuid\": \"aa3b9d7746ac436d86292c4c55d3ce29\", \"flavors\": {\"python_function\": {\"model_path\": \"model.pkl\", \"predict_fn\": \"predict\", \"loader_module\": \"mlflow.sklearn\", \"python_version\": \"3.12.7\", \"env\": {\"conda\": \"conda.yaml\", \"virtualenv\": \"python_env.yaml\"}}, \"sklearn\": {\"pickled_model\": \"model.pkl\", \"sklearn_version\": \"1.5.2\", \"serialization_format\": \"cloudpickle\", \"code\": null}}}, {\"run_id\": \"5ded1a1700cc4e0ea786ed96cc15c410\", \"artifact_path\": \"best_estimator\", \"utc_time_created\": \"2024-12-09 21:25:34.349513\", \"model_uuid\": \"0406ff5b9abe4e68b91a8c55af172213\", \"flavors\": {\"python_function\": {\"model_path\": \"model.pkl\", \"predict_fn\": \"predict\", \"loader_module\": \"mlflow.sklearn\", \"python_version\": \"3.12.7\", \"env\": {\"conda\": \"conda.yaml\", \"virtualenv\": \"python_env.yaml\"}}, \"sklearn\": {\"pickled_model\": \"model.pkl\", \"sklearn_version\": \"1.5.2\", \"serialization_format\": \"cloudpickle\", \"code\": null}}}]",
           null,
           null
          ],
          [
           "file:///home/fmind/mlops-python-package/mlruns/892046783494697990/eb21e4c57e3047dd9fbace349ddfc701/artifacts",
           "2024-12-09T21:25:36.982000",
           "892046783494697990",
           "active",
           "eb21e4c57e3047dd9fbace349ddfc701",
           "capable-asp-689",
           "eb21e4c57e3047dd9fbace349ddfc701",
           "FINISHED",
           "fmind",
           {
            "mean_fit_time": 1.6217315793037417,
            "mean_score_time": 0.03804677724838257,
            "mean_test_score": -8287.860416666666,
            "rank_test_score": 2,
            "std_fit_time": 0.19954826138452603,
            "std_score_time": 0.00046356596170521295,
            "std_test_score": 1045.7595024691311
           },
           {
            "max_depth": "5",
            "n_estimators": "200",
            "random_state": "42"
           },
           {
            "estimator_class": "bikes.core.models.BaselineSklearnModel",
            "estimator_name": "BaselineSklearnModel",
            "mlflow.autologging": "sklearn",
            "mlflow.parentRunId": "5ded1a1700cc4e0ea786ed96cc15c410",
            "mlflow.runName": "capable-asp-689",
            "mlflow.source.git.commit": "6baa64548d67a5bcf0a7f1422dfc8d45ed229aed",
            "mlflow.source.name": "/home/fmind/mlops-python-package/src/bikes/__main__.py",
            "mlflow.source.type": "LOCAL",
            "mlflow.user": "fmind"
           },
           33.41,
           "fmind",
           "/home/fmind/mlops-python-package/src/bikes/__main__.py",
           "LOCAL",
           null,
           "6baa64548d67a5bcf0a7f1422dfc8d45ed229aed",
           null,
           null,
           "capable-asp-689",
           null,
           null,
           "BaselineSklearnModel",
           "bikes.core.models.BaselineSklearnModel",
           null,
           "sklearn",
           "5ded1a1700cc4e0ea786ed96cc15c410"
          ],
          [
           "file:///home/fmind/mlops-python-package/mlruns/892046783494697990/f71527e645d24f579e571b6573912f32/artifacts",
           "2024-12-09T20:16:43.066000",
           "892046783494697990",
           "active",
           "f71527e645d24f579e571b6573912f32",
           "Explanations",
           "f71527e645d24f579e571b6573912f32",
           "FINISHED",
           "fmind",
           {},
           {
            "conf_file": "confs/explanations.yaml"
           },
           {
            "mlflow.gitRepoURL": "git@github.com:fmind/mlops-python-package",
            "mlflow.project.backend": "local",
            "mlflow.project.entryPoint": "main",
            "mlflow.project.env": "virtualenv",
            "mlflow.runName": "Explanations",
            "mlflow.source.git.commit": "6baa64548d67a5bcf0a7f1422dfc8d45ed229aed",
            "mlflow.source.git.repoURL": "git@github.com:fmind/mlops-python-package",
            "mlflow.source.name": "file:///home/fmind/mlops-python-package",
            "mlflow.source.type": "PROJECT",
            "mlflow.user": "fmind"
           },
           33.233,
           "fmind",
           "file:///home/fmind/mlops-python-package",
           "PROJECT",
           "main",
           "6baa64548d67a5bcf0a7f1422dfc8d45ed229aed",
           "git@github.com:fmind/mlops-python-package",
           "git@github.com:fmind/mlops-python-package",
           "Explanations",
           "virtualenv",
           "local",
           null,
           null,
           null,
           null,
           null
          ],
          [
           "file:///home/fmind/mlops-python-package/mlruns/892046783494697990/f2823c6d05a545b793545d85b230d467/artifacts",
           "2024-12-09T20:16:08.336000",
           "892046783494697990",
           "active",
           "f2823c6d05a545b793545d85b230d467",
           "Evaluations",
           "f2823c6d05a545b793545d85b230d467",
           "FINISHED",
           "fmind",
           {
            "example_count": 13903,
            "max_error": 4294967295,
            "mean_absolute_error": 2044457567.3205063,
            "mean_absolute_percentage_error": 55189262.03890929,
            "mean_on_target": 174.63914263108683,
            "mean_squared_error": 296.66338200388407,
            "r2_score": 0.9893562621162568,
            "root_mean_squared_error": 17.223918892165166,
            "sum_on_target": 2428008
           },
           {
            "conf_file": "confs/evaluations.yaml"
           },
           {
            "mlflow.gitRepoURL": "git@github.com:fmind/mlops-python-package",
            "mlflow.project.backend": "local",
            "mlflow.project.entryPoint": "main",
            "mlflow.project.env": "virtualenv",
            "mlflow.runName": "Evaluations",
            "mlflow.source.git.commit": "6baa64548d67a5bcf0a7f1422dfc8d45ed229aed",
            "mlflow.source.git.repoURL": "git@github.com:fmind/mlops-python-package",
            "mlflow.source.name": "file:///home/fmind/mlops-python-package",
            "mlflow.source.type": "PROJECT",
            "mlflow.user": "fmind"
           },
           5.407,
           "fmind",
           "file:///home/fmind/mlops-python-package",
           "PROJECT",
           "main",
           "6baa64548d67a5bcf0a7f1422dfc8d45ed229aed",
           "git@github.com:fmind/mlops-python-package",
           "git@github.com:fmind/mlops-python-package",
           "Evaluations",
           "virtualenv",
           "local",
           null,
           null,
           null,
           null,
           null
          ],
          [
           "file:///home/fmind/mlops-python-package/mlruns/892046783494697990/d40bfd6d238b4e999a8b9eac47f9932a/artifacts",
           "2024-12-09T20:16:01.543000",
           "892046783494697990",
           "active",
           "d40bfd6d238b4e999a8b9eac47f9932a",
           "Inference",
           "d40bfd6d238b4e999a8b9eac47f9932a",
           "FINISHED",
           "fmind",
           {},
           {
            "conf_file": "confs/inference.yaml"
           },
           {
            "mlflow.gitRepoURL": "git@github.com:fmind/mlops-python-package",
            "mlflow.project.backend": "local",
            "mlflow.project.entryPoint": "main",
            "mlflow.project.env": "virtualenv",
            "mlflow.runName": "Inference",
            "mlflow.source.git.commit": "6baa64548d67a5bcf0a7f1422dfc8d45ed229aed",
            "mlflow.source.git.repoURL": "git@github.com:fmind/mlops-python-package",
            "mlflow.source.name": "file:///home/fmind/mlops-python-package",
            "mlflow.source.type": "PROJECT",
            "mlflow.user": "fmind"
           },
           4.655,
           "fmind",
           "file:///home/fmind/mlops-python-package",
           "PROJECT",
           "main",
           "6baa64548d67a5bcf0a7f1422dfc8d45ed229aed",
           "git@github.com:fmind/mlops-python-package",
           "git@github.com:fmind/mlops-python-package",
           "Inference",
           "virtualenv",
           "local",
           null,
           null,
           null,
           null,
           null
          ],
          [
           "file:///home/fmind/mlops-python-package/mlruns/892046783494697990/0a425df1a36947cc912cc0abdc4c9fe1/artifacts",
           "2024-12-09T20:15:55.295000",
           "892046783494697990",
           "active",
           "0a425df1a36947cc912cc0abdc4c9fe1",
           "Promotion",
           "0a425df1a36947cc912cc0abdc4c9fe1",
           "FINISHED",
           "fmind",
           {},
           {
            "conf_file": "confs/promotion.yaml"
           },
           {
            "mlflow.gitRepoURL": "git@github.com:fmind/mlops-python-package",
            "mlflow.project.backend": "local",
            "mlflow.project.entryPoint": "main",
            "mlflow.project.env": "virtualenv",
            "mlflow.runName": "Promotion",
            "mlflow.source.git.commit": "6baa64548d67a5bcf0a7f1422dfc8d45ed229aed",
            "mlflow.source.git.repoURL": "git@github.com:fmind/mlops-python-package",
            "mlflow.source.name": "file:///home/fmind/mlops-python-package",
            "mlflow.source.type": "PROJECT",
            "mlflow.user": "fmind"
           },
           4.463,
           "fmind",
           "file:///home/fmind/mlops-python-package",
           "PROJECT",
           "main",
           "6baa64548d67a5bcf0a7f1422dfc8d45ed229aed",
           "git@github.com:fmind/mlops-python-package",
           "git@github.com:fmind/mlops-python-package",
           "Promotion",
           "virtualenv",
           "local",
           null,
           null,
           null,
           null,
           null
          ],
          [
           "file:///home/fmind/mlops-python-package/mlruns/892046783494697990/abad34d51a2a4cffa328136540b455c0/artifacts",
           "2024-12-09T20:15:48.530000",
           "892046783494697990",
           "active",
           "abad34d51a2a4cffa328136540b455c0",
           "Training",
           "abad34d51a2a4cffa328136540b455c0",
           "FINISHED",
           "fmind",
           {
            "mean_squared_error": -1786.7527777777775,
            "system/cpu_utilization_percentage": 8,
            "system/disk_available_megabytes": 11976.9,
            "system/disk_usage_megabytes": 103931.2,
            "system/disk_usage_percentage": 89.7,
            "system/network_receive_megabytes": 0.0021689999994123355,
            "system/network_transmit_megabytes": 0.002279000000044107,
            "system/system_memory_usage_megabytes": 5892.8,
            "system/system_memory_usage_percentage": 39.1,
            "training_mean_absolute_error": 6.8051192198812736,
            "training_mean_squared_error": 124.51054615575788,
            "training_r2_score": 0.9948851411922456,
            "training_root_mean_squared_error": 11.158429376742852,
            "training_score": 0.9948851411922456
           },
           {
            "conf_file": "confs/training.yaml",
            "memory": "None",
            "regressor": "RandomForestRegressor(max_depth=20, n_estimators=200, random_state=42)",
            "regressor__bootstrap": "True",
            "regressor__ccp_alpha": "0.0",
            "regressor__criterion": "squared_error",
            "regressor__max_depth": "20",
            "regressor__max_features": "1.0",
            "regressor__max_leaf_nodes": "None",
            "regressor__max_samples": "None",
            "regressor__min_impurity_decrease": "0.0",
            "regressor__min_samples_leaf": "1",
            "regressor__min_samples_split": "2",
            "regressor__min_weight_fraction_leaf": "0.0",
            "regressor__monotonic_cst": "None",
            "regressor__n_estimators": "200",
            "regressor__n_jobs": "None",
            "regressor__oob_score": "False",
            "regressor__random_state": "42",
            "regressor__verbose": "0",
            "regressor__warm_start": "False",
            "steps": "[('transformer', ColumnTransformer(transformers=[('categoricals',\n                                 OneHotEncoder(handle_unknown='ignore',\n                                               sparse_output=False),\n                                 ['season', 'weathersit']),\n                                ('numericals', 'passthrough',\n                                 ['yr', 'mnth', 'hr', 'holiday', 'weekday',\n                                  'workingday', 'temp', 'atemp', 'hum',\n                                  'windspeed', 'casual'])])), ('regressor', RandomForestRegressor(max_depth=20, n_estimators=200, random_state=42))]",
            "transformer": "ColumnTransformer(transformers=[('categoricals',\n                                 OneHotEncoder(handle_unknown='ignore',\n                                               sparse_output=False),\n                                 ['season', 'weathersit']),\n                                ('numericals', 'passthrough',\n                                 ['yr', 'mnth', 'hr', 'holiday', 'weekday',\n                                  'workingday', 'temp', 'atemp', 'hum',\n                                  'windspeed', 'casual'])])",
            "transformer__categoricals": "OneHotEncoder(handle_unknown='ignore', sparse_output=False)",
            "transformer__categoricals__categories": "auto",
            "transformer__categoricals__drop": "None",
            "transformer__categoricals__dtype": "<class 'numpy.float64'>",
            "transformer__categoricals__feature_name_combiner": "concat",
            "transformer__categoricals__handle_unknown": "ignore",
            "transformer__categoricals__max_categories": "None",
            "transformer__categoricals__min_frequency": "None",
            "transformer__categoricals__sparse_output": "False",
            "transformer__force_int_remainder_cols": "True",
            "transformer__n_jobs": "None",
            "transformer__numericals": "passthrough",
            "transformer__remainder": "drop",
            "transformer__sparse_threshold": "0.3",
            "transformer__transformer_weights": "None",
            "transformer__transformers": "[('categoricals', OneHotEncoder(handle_unknown='ignore', sparse_output=False), ['season', 'weathersit']), ('numericals', 'passthrough', ['yr', 'mnth', 'hr', 'holiday', 'weekday', 'workingday', 'temp', 'atemp', 'hum', 'windspeed', 'casual'])]",
            "transformer__verbose": "False",
            "transformer__verbose_feature_names_out": "True",
            "verbose": "False"
           },
           {
            "estimator_class": "sklearn.pipeline.Pipeline",
            "estimator_name": "Pipeline",
            "mlflow.gitRepoURL": "git@github.com:fmind/mlops-python-package",
            "mlflow.log-model.history": "[{\"run_id\": \"abad34d51a2a4cffa328136540b455c0\", \"artifact_path\": \"model\", \"utc_time_created\": \"2024-12-09 20:15:36.204115\", \"model_uuid\": \"fe2207a51a9e4044908492f3b08b501a\", \"flavors\": {\"python_function\": {\"model_path\": \"model.pkl\", \"predict_fn\": \"predict\", \"loader_module\": \"mlflow.sklearn\", \"python_version\": \"3.12.7\", \"env\": {\"conda\": \"conda.yaml\", \"virtualenv\": \"python_env.yaml\"}}, \"sklearn\": {\"pickled_model\": \"model.pkl\", \"sklearn_version\": \"1.5.2\", \"serialization_format\": \"cloudpickle\", \"code\": null}}}, {\"run_id\": \"abad34d51a2a4cffa328136540b455c0\", \"artifact_path\": \"model\", \"utc_time_created\": \"2024-12-09 20:15:40.634927\", \"model_uuid\": \"f44319bad67247bfbb342d00bb00963e\", \"flavors\": {\"python_function\": {\"streamable\": false, \"cloudpickle_version\": \"3.1.0\", \"python_model\": \"python_model.pkl\", \"loader_module\": \"mlflow.pyfunc.model\", \"python_version\": \"3.12.7\", \"env\": {\"conda\": \"conda.yaml\", \"virtualenv\": \"python_env.yaml\"}, \"code\": null}}}]",
            "mlflow.project.backend": "local",
            "mlflow.project.entryPoint": "main",
            "mlflow.project.env": "virtualenv",
            "mlflow.runName": "Training",
            "mlflow.source.git.commit": "6baa64548d67a5bcf0a7f1422dfc8d45ed229aed",
            "mlflow.source.git.repoURL": "git@github.com:fmind/mlops-python-package",
            "mlflow.source.name": "file:///home/fmind/mlops-python-package",
            "mlflow.source.type": "PROJECT",
            "mlflow.user": "fmind"
           },
           25.301,
           "fmind",
           "file:///home/fmind/mlops-python-package",
           "PROJECT",
           "main",
           "6baa64548d67a5bcf0a7f1422dfc8d45ed229aed",
           "git@github.com:fmind/mlops-python-package",
           "git@github.com:fmind/mlops-python-package",
           "Training",
           "virtualenv",
           "local",
           "Pipeline",
           "sklearn.pipeline.Pipeline",
           "[{\"run_id\": \"abad34d51a2a4cffa328136540b455c0\", \"artifact_path\": \"model\", \"utc_time_created\": \"2024-12-09 20:15:36.204115\", \"model_uuid\": \"fe2207a51a9e4044908492f3b08b501a\", \"flavors\": {\"python_function\": {\"model_path\": \"model.pkl\", \"predict_fn\": \"predict\", \"loader_module\": \"mlflow.sklearn\", \"python_version\": \"3.12.7\", \"env\": {\"conda\": \"conda.yaml\", \"virtualenv\": \"python_env.yaml\"}}, \"sklearn\": {\"pickled_model\": \"model.pkl\", \"sklearn_version\": \"1.5.2\", \"serialization_format\": \"cloudpickle\", \"code\": null}}}, {\"run_id\": \"abad34d51a2a4cffa328136540b455c0\", \"artifact_path\": \"model\", \"utc_time_created\": \"2024-12-09 20:15:40.634927\", \"model_uuid\": \"f44319bad67247bfbb342d00bb00963e\", \"flavors\": {\"python_function\": {\"streamable\": false, \"cloudpickle_version\": \"3.1.0\", \"python_model\": \"python_model.pkl\", \"loader_module\": \"mlflow.pyfunc.model\", \"python_version\": \"3.12.7\", \"env\": {\"conda\": \"conda.yaml\", \"virtualenv\": \"python_env.yaml\"}, \"code\": null}}}]",
           null,
           null
          ],
          [
           "file:///home/fmind/mlops-python-package/mlruns/892046783494697990/0f3fb536c019419ba34c04dfb4357f55/artifacts",
           "2024-12-09T20:15:20.354000",
           "892046783494697990",
           "active",
           "0f3fb536c019419ba34c04dfb4357f55",
           "youthful-carp-377",
           "0f3fb536c019419ba34c04dfb4357f55",
           "FINISHED",
           "fmind",
           {
            "mean_fit_time": 2.5905266404151917,
            "mean_score_time": 0.06293588876724243,
            "mean_test_score": -5517.252604166667,
            "rank_test_score": 1,
            "std_fit_time": 0.3868199607236693,
            "std_score_time": 0.02203671973427432,
            "std_test_score": 1613.520146542553
           },
           {
            "max_depth": "7",
            "n_estimators": "200",
            "random_state": "42"
           },
           {
            "estimator_class": "bikes.core.models.BaselineSklearnModel",
            "estimator_name": "BaselineSklearnModel",
            "mlflow.autologging": "sklearn",
            "mlflow.parentRunId": "2bb5da83357d443eb0346606326770ae",
            "mlflow.runName": "youthful-carp-377",
            "mlflow.source.git.commit": "6baa64548d67a5bcf0a7f1422dfc8d45ed229aed",
            "mlflow.source.name": "/home/fmind/mlops-python-package/src/bikes/__main__.py",
            "mlflow.source.type": "LOCAL",
            "mlflow.user": "fmind"
           },
           225.455,
           "fmind",
           "/home/fmind/mlops-python-package/src/bikes/__main__.py",
           "LOCAL",
           null,
           "6baa64548d67a5bcf0a7f1422dfc8d45ed229aed",
           null,
           null,
           "youthful-carp-377",
           null,
           null,
           "BaselineSklearnModel",
           "bikes.core.models.BaselineSklearnModel",
           null,
           "sklearn",
           "2bb5da83357d443eb0346606326770ae"
          ],
          [
           "file:///home/fmind/mlops-python-package/mlruns/892046783494697990/1460078c4b1a4e9eacc1284ef88fb01d/artifacts",
           "2024-12-09T20:15:20.354000",
           "892046783494697990",
           "active",
           "1460078c4b1a4e9eacc1284ef88fb01d",
           "enchanting-pig-738",
           "1460078c4b1a4e9eacc1284ef88fb01d",
           "FINISHED",
           "fmind",
           {
            "mean_fit_time": 1.890411198139191,
            "mean_score_time": 0.05750620365142822,
            "mean_test_score": -16644.957118055558,
            "rank_test_score": 3,
            "std_fit_time": 0.3518040426866576,
            "std_score_time": 0.007664776865110902,
            "std_test_score": 5315.459715152708
           },
           {
            "max_depth": "3",
            "n_estimators": "200",
            "random_state": "42"
           },
           {
            "estimator_class": "bikes.core.models.BaselineSklearnModel",
            "estimator_name": "BaselineSklearnModel",
            "mlflow.autologging": "sklearn",
            "mlflow.parentRunId": "2bb5da83357d443eb0346606326770ae",
            "mlflow.runName": "enchanting-pig-738",
            "mlflow.source.git.commit": "6baa64548d67a5bcf0a7f1422dfc8d45ed229aed",
            "mlflow.source.name": "/home/fmind/mlops-python-package/src/bikes/__main__.py",
            "mlflow.source.type": "LOCAL",
            "mlflow.user": "fmind"
           },
           225.455,
           "fmind",
           "/home/fmind/mlops-python-package/src/bikes/__main__.py",
           "LOCAL",
           null,
           "6baa64548d67a5bcf0a7f1422dfc8d45ed229aed",
           null,
           null,
           "enchanting-pig-738",
           null,
           null,
           "BaselineSklearnModel",
           "bikes.core.models.BaselineSklearnModel",
           null,
           "sklearn",
           "2bb5da83357d443eb0346606326770ae"
          ],
          [
           "file:///home/fmind/mlops-python-package/mlruns/892046783494697990/2bb5da83357d443eb0346606326770ae/artifacts",
           "2024-12-09T20:15:21.479000",
           "892046783494697990",
           "active",
           "2bb5da83357d443eb0346606326770ae",
           "Tuning",
           "2bb5da83357d443eb0346606326770ae",
           "FINISHED",
           "fmind",
           {
            "best_cv_score": -5517.252604166667,
            "system/cpu_utilization_percentage": 19.1,
            "system/disk_available_megabytes": 12079.1,
            "system/disk_usage_megabytes": 103828.7,
            "system/disk_usage_percentage": 89.6,
            "system/network_receive_megabytes": 0.006941999999980908,
            "system/network_transmit_megabytes": 0.00029599999993479287,
            "system/system_memory_usage_megabytes": 11827.8,
            "system/system_memory_usage_percentage": 78.4,
            "training_score": -1951.0630079838884
           },
           {
            "best_max_depth": "7",
            "conf_file": "confs/tuning.yaml",
            "cv": "KIND='TimeSeriesSplitter' gap=0 n_splits=4 test_size=1440",
            "error_score": "raise",
            "estimator": "KIND='BaselineSklearnModel' max_depth=20 n_estimators=200 random_state=42",
            "n_jobs": "None",
            "param_grid": "{'max_depth': [3, 5, 7]}",
            "pre_dispatch": "2*n_jobs",
            "refit": "True",
            "return_train_score": "False",
            "scoring": "<bound method Metric.scorer of SklearnMetric(KIND='SklearnMetric', name='mean_squared_error', greater_is_better=False)>",
            "verbose": "3"
           },
           {
            "estimator_class": "sklearn.model_selection._search.GridSearchCV",
            "estimator_name": "GridSearchCV",
            "mlflow.gitRepoURL": "git@github.com:fmind/mlops-python-package",
            "mlflow.log-model.history": "[{\"run_id\": \"2bb5da83357d443eb0346606326770ae\", \"artifact_path\": \"model\", \"utc_time_created\": \"2024-12-09 20:15:01.134394\", \"model_uuid\": \"c98c0f4df45649ca8721179a65a45f05\", \"flavors\": {\"python_function\": {\"model_path\": \"model.pkl\", \"predict_fn\": \"predict\", \"loader_module\": \"mlflow.sklearn\", \"python_version\": \"3.12.7\", \"env\": {\"conda\": \"conda.yaml\", \"virtualenv\": \"python_env.yaml\"}}, \"sklearn\": {\"pickled_model\": \"model.pkl\", \"sklearn_version\": \"1.5.2\", \"serialization_format\": \"cloudpickle\", \"code\": null}}}, {\"run_id\": \"2bb5da83357d443eb0346606326770ae\", \"artifact_path\": \"best_estimator\", \"utc_time_created\": \"2024-12-09 20:15:17.229920\", \"model_uuid\": \"ed1ae8f113754da49fd14448fb88d32a\", \"flavors\": {\"python_function\": {\"model_path\": \"model.pkl\", \"predict_fn\": \"predict\", \"loader_module\": \"mlflow.sklearn\", \"python_version\": \"3.12.7\", \"env\": {\"conda\": \"conda.yaml\", \"virtualenv\": \"python_env.yaml\"}}, \"sklearn\": {\"pickled_model\": \"model.pkl\", \"sklearn_version\": \"1.5.2\", \"serialization_format\": \"cloudpickle\", \"code\": null}}}]",
            "mlflow.project.backend": "local",
            "mlflow.project.entryPoint": "main",
            "mlflow.project.env": "virtualenv",
            "mlflow.runName": "Tuning",
            "mlflow.source.git.commit": "6baa64548d67a5bcf0a7f1422dfc8d45ed229aed",
            "mlflow.source.git.repoURL": "git@github.com:fmind/mlops-python-package",
            "mlflow.source.name": "file:///home/fmind/mlops-python-package",
            "mlflow.source.type": "PROJECT",
            "mlflow.user": "fmind"
           },
           226.58,
           "fmind",
           "file:///home/fmind/mlops-python-package",
           "PROJECT",
           "main",
           "6baa64548d67a5bcf0a7f1422dfc8d45ed229aed",
           "git@github.com:fmind/mlops-python-package",
           "git@github.com:fmind/mlops-python-package",
           "Tuning",
           "virtualenv",
           "local",
           "GridSearchCV",
           "sklearn.model_selection._search.GridSearchCV",
           "[{\"run_id\": \"2bb5da83357d443eb0346606326770ae\", \"artifact_path\": \"model\", \"utc_time_created\": \"2024-12-09 20:15:01.134394\", \"model_uuid\": \"c98c0f4df45649ca8721179a65a45f05\", \"flavors\": {\"python_function\": {\"model_path\": \"model.pkl\", \"predict_fn\": \"predict\", \"loader_module\": \"mlflow.sklearn\", \"python_version\": \"3.12.7\", \"env\": {\"conda\": \"conda.yaml\", \"virtualenv\": \"python_env.yaml\"}}, \"sklearn\": {\"pickled_model\": \"model.pkl\", \"sklearn_version\": \"1.5.2\", \"serialization_format\": \"cloudpickle\", \"code\": null}}}, {\"run_id\": \"2bb5da83357d443eb0346606326770ae\", \"artifact_path\": \"best_estimator\", \"utc_time_created\": \"2024-12-09 20:15:17.229920\", \"model_uuid\": \"ed1ae8f113754da49fd14448fb88d32a\", \"flavors\": {\"python_function\": {\"model_path\": \"model.pkl\", \"predict_fn\": \"predict\", \"loader_module\": \"mlflow.sklearn\", \"python_version\": \"3.12.7\", \"env\": {\"conda\": \"conda.yaml\", \"virtualenv\": \"python_env.yaml\"}}, \"sklearn\": {\"pickled_model\": \"model.pkl\", \"sklearn_version\": \"1.5.2\", \"serialization_format\": \"cloudpickle\", \"code\": null}}}]",
           null,
           null
          ],
          [
           "file:///home/fmind/mlops-python-package/mlruns/892046783494697990/fe06e9a76b124cdb8d95a70d0e0807e1/artifacts",
           "2024-12-09T20:15:20.354000",
           "892046783494697990",
           "active",
           "fe06e9a76b124cdb8d95a70d0e0807e1",
           "youthful-shoat-928",
           "fe06e9a76b124cdb8d95a70d0e0807e1",
           "FINISHED",
           "fmind",
           {
            "mean_fit_time": 1.954506516456604,
            "mean_score_time": 0.04336249828338623,
            "mean_test_score": -8287.860416666666,
            "rank_test_score": 2,
            "std_fit_time": 0.1713001550642603,
            "std_score_time": 0.002758689884238117,
            "std_test_score": 1045.7595024691311
           },
           {
            "max_depth": "5",
            "n_estimators": "200",
            "random_state": "42"
           },
           {
            "estimator_class": "bikes.core.models.BaselineSklearnModel",
            "estimator_name": "BaselineSklearnModel",
            "mlflow.autologging": "sklearn",
            "mlflow.parentRunId": "2bb5da83357d443eb0346606326770ae",
            "mlflow.runName": "youthful-shoat-928",
            "mlflow.source.git.commit": "6baa64548d67a5bcf0a7f1422dfc8d45ed229aed",
            "mlflow.source.name": "/home/fmind/mlops-python-package/src/bikes/__main__.py",
            "mlflow.source.type": "LOCAL",
            "mlflow.user": "fmind"
           },
           225.455,
           "fmind",
           "/home/fmind/mlops-python-package/src/bikes/__main__.py",
           "LOCAL",
           null,
           "6baa64548d67a5bcf0a7f1422dfc8d45ed229aed",
           null,
           null,
           "youthful-shoat-928",
           null,
           null,
           "BaselineSklearnModel",
           "bikes.core.models.BaselineSklearnModel",
           null,
           "sklearn",
           "2bb5da83357d443eb0346606326770ae"
          ],
          [
           "file:///home/fmind/mlops-python-package/mlruns/892046783494697990/ecc6bbcc06a14ac4a853f18a85d2aa79/artifacts",
           "2024-12-09T19:41:30.872000",
           "892046783494697990",
           "active",
           "ecc6bbcc06a14ac4a853f18a85d2aa79",
           "Evaluations",
           "ecc6bbcc06a14ac4a853f18a85d2aa79",
           "FAILED",
           "fmind",
           {},
           {
            "conf_file": "confs/evaluations.yaml"
           },
           {
            "mlflow.gitRepoURL": "git@github.com:fmind/mlops-python-package",
            "mlflow.project.backend": "local",
            "mlflow.project.entryPoint": "main",
            "mlflow.project.env": "virtualenv",
            "mlflow.runName": "Evaluations",
            "mlflow.source.git.commit": "6baa64548d67a5bcf0a7f1422dfc8d45ed229aed",
            "mlflow.source.git.repoURL": "git@github.com:fmind/mlops-python-package",
            "mlflow.source.name": "file:///home/fmind/mlops-python-package",
            "mlflow.source.type": "PROJECT",
            "mlflow.user": "fmind"
           },
           4.646,
           "fmind",
           "file:///home/fmind/mlops-python-package",
           "PROJECT",
           "main",
           "6baa64548d67a5bcf0a7f1422dfc8d45ed229aed",
           "git@github.com:fmind/mlops-python-package",
           "git@github.com:fmind/mlops-python-package",
           "Evaluations",
           "virtualenv",
           "local",
           null,
           null,
           null,
           null,
           null
          ],
          [
           "file:///home/fmind/mlops-python-package/mlruns/892046783494697990/ba156f94df9e4c1eb8cb2852e36efeb0/artifacts",
           "2024-12-09T19:40:49.139000",
           "892046783494697990",
           "active",
           "ba156f94df9e4c1eb8cb2852e36efeb0",
           "Explanations",
           "ba156f94df9e4c1eb8cb2852e36efeb0",
           "FINISHED",
           "fmind",
           {},
           {
            "conf_file": "confs/explanations.yaml"
           },
           {
            "mlflow.gitRepoURL": "git@github.com:fmind/mlops-python-package",
            "mlflow.project.backend": "local",
            "mlflow.project.entryPoint": "main",
            "mlflow.project.env": "virtualenv",
            "mlflow.runName": "Explanations",
            "mlflow.source.git.commit": "6baa64548d67a5bcf0a7f1422dfc8d45ed229aed",
            "mlflow.source.git.repoURL": "git@github.com:fmind/mlops-python-package",
            "mlflow.source.name": "file:///home/fmind/mlops-python-package",
            "mlflow.source.type": "PROJECT",
            "mlflow.user": "fmind"
           },
           29.178,
           "fmind",
           "file:///home/fmind/mlops-python-package",
           "PROJECT",
           "main",
           "6baa64548d67a5bcf0a7f1422dfc8d45ed229aed",
           "git@github.com:fmind/mlops-python-package",
           "git@github.com:fmind/mlops-python-package",
           "Explanations",
           "virtualenv",
           "local",
           null,
           null,
           null,
           null,
           null
          ],
          [
           "file:///home/fmind/mlops-python-package/mlruns/892046783494697990/4177ef56fb0e4e4eaa7f7c443c46fc16/artifacts",
           "2024-12-09T19:40:14.417000",
           "892046783494697990",
           "active",
           "4177ef56fb0e4e4eaa7f7c443c46fc16",
           "Evaluations",
           "4177ef56fb0e4e4eaa7f7c443c46fc16",
           "FAILED",
           "fmind",
           {},
           {
            "conf_file": "confs/evaluations.yaml"
           },
           {
            "mlflow.gitRepoURL": "git@github.com:fmind/mlops-python-package",
            "mlflow.project.backend": "local",
            "mlflow.project.entryPoint": "main",
            "mlflow.project.env": "virtualenv",
            "mlflow.runName": "Evaluations",
            "mlflow.source.git.commit": "6baa64548d67a5bcf0a7f1422dfc8d45ed229aed",
            "mlflow.source.git.repoURL": "git@github.com:fmind/mlops-python-package",
            "mlflow.source.name": "file:///home/fmind/mlops-python-package",
            "mlflow.source.type": "PROJECT",
            "mlflow.user": "fmind"
           },
           5.218,
           "fmind",
           "file:///home/fmind/mlops-python-package",
           "PROJECT",
           "main",
           "6baa64548d67a5bcf0a7f1422dfc8d45ed229aed",
           "git@github.com:fmind/mlops-python-package",
           "git@github.com:fmind/mlops-python-package",
           "Evaluations",
           "virtualenv",
           "local",
           null,
           null,
           null,
           null,
           null
          ],
          [
           "file:///home/fmind/mlops-python-package/mlruns/892046783494697990/f11653b8018e42f6825a2ac1c9443937/artifacts",
           "2024-12-09T19:33:26.711000",
           "892046783494697990",
           "active",
           "f11653b8018e42f6825a2ac1c9443937",
           "Evaluations",
           "f11653b8018e42f6825a2ac1c9443937",
           "FAILED",
           "fmind",
           {},
           {
            "conf_file": "confs/evaluations.yaml"
           },
           {
            "mlflow.gitRepoURL": "git@github.com:fmind/mlops-python-package",
            "mlflow.project.backend": "local",
            "mlflow.project.entryPoint": "main",
            "mlflow.project.env": "virtualenv",
            "mlflow.runName": "Evaluations",
            "mlflow.source.git.commit": "6baa64548d67a5bcf0a7f1422dfc8d45ed229aed",
            "mlflow.source.git.repoURL": "git@github.com:fmind/mlops-python-package",
            "mlflow.source.name": "file:///home/fmind/mlops-python-package",
            "mlflow.source.type": "PROJECT",
            "mlflow.user": "fmind"
           },
           4.35,
           "fmind",
           "file:///home/fmind/mlops-python-package",
           "PROJECT",
           "main",
           "6baa64548d67a5bcf0a7f1422dfc8d45ed229aed",
           "git@github.com:fmind/mlops-python-package",
           "git@github.com:fmind/mlops-python-package",
           "Evaluations",
           "virtualenv",
           "local",
           null,
           null,
           null,
           null,
           null
          ],
          [
           "file:///home/fmind/mlops-python-package/mlruns/892046783494697990/92f6f8fe787c4f489024a81181b7ab41/artifacts",
           "2024-12-09T19:33:20.732000",
           "892046783494697990",
           "active",
           "92f6f8fe787c4f489024a81181b7ab41",
           "Inference",
           "92f6f8fe787c4f489024a81181b7ab41",
           "FINISHED",
           "fmind",
           {},
           {
            "conf_file": "confs/inference.yaml"
           },
           {
            "mlflow.gitRepoURL": "git@github.com:fmind/mlops-python-package",
            "mlflow.project.backend": "local",
            "mlflow.project.entryPoint": "main",
            "mlflow.project.env": "virtualenv",
            "mlflow.runName": "Inference",
            "mlflow.source.git.commit": "6baa64548d67a5bcf0a7f1422dfc8d45ed229aed",
            "mlflow.source.git.repoURL": "git@github.com:fmind/mlops-python-package",
            "mlflow.source.name": "file:///home/fmind/mlops-python-package",
            "mlflow.source.type": "PROJECT",
            "mlflow.user": "fmind"
           },
           3.944,
           "fmind",
           "file:///home/fmind/mlops-python-package",
           "PROJECT",
           "main",
           "6baa64548d67a5bcf0a7f1422dfc8d45ed229aed",
           "git@github.com:fmind/mlops-python-package",
           "git@github.com:fmind/mlops-python-package",
           "Inference",
           "virtualenv",
           "local",
           null,
           null,
           null,
           null,
           null
          ],
          [
           "file:///home/fmind/mlops-python-package/mlruns/892046783494697990/88e2b857d3734cfe96ea207be49bba2f/artifacts",
           "2024-12-09T19:33:15.552000",
           "892046783494697990",
           "active",
           "88e2b857d3734cfe96ea207be49bba2f",
           "Promotion",
           "88e2b857d3734cfe96ea207be49bba2f",
           "FINISHED",
           "fmind",
           {},
           {
            "conf_file": "confs/promotion.yaml"
           },
           {
            "mlflow.gitRepoURL": "git@github.com:fmind/mlops-python-package",
            "mlflow.project.backend": "local",
            "mlflow.project.entryPoint": "main",
            "mlflow.project.env": "virtualenv",
            "mlflow.runName": "Promotion",
            "mlflow.source.git.commit": "6baa64548d67a5bcf0a7f1422dfc8d45ed229aed",
            "mlflow.source.git.repoURL": "git@github.com:fmind/mlops-python-package",
            "mlflow.source.name": "file:///home/fmind/mlops-python-package",
            "mlflow.source.type": "PROJECT",
            "mlflow.user": "fmind"
           },
           3.294,
           "fmind",
           "file:///home/fmind/mlops-python-package",
           "PROJECT",
           "main",
           "6baa64548d67a5bcf0a7f1422dfc8d45ed229aed",
           "git@github.com:fmind/mlops-python-package",
           "git@github.com:fmind/mlops-python-package",
           "Promotion",
           "virtualenv",
           "local",
           null,
           null,
           null,
           null,
           null
          ],
          [
           "file:///home/fmind/mlops-python-package/mlruns/892046783494697990/ca4c7550ad354be9a2f10f7eade8d47e/artifacts",
           "2024-12-09T19:33:10.574000",
           "892046783494697990",
           "active",
           "ca4c7550ad354be9a2f10f7eade8d47e",
           "Training",
           "ca4c7550ad354be9a2f10f7eade8d47e",
           "FINISHED",
           "fmind",
           {
            "mean_squared_error": -1786.7527777777775,
            "system/cpu_utilization_percentage": 100,
            "system/disk_available_megabytes": 13904.4,
            "system/disk_usage_megabytes": 101839,
            "system/disk_usage_percentage": 88,
            "system/network_receive_megabytes": 0,
            "system/network_transmit_megabytes": 0,
            "system/system_memory_usage_megabytes": 5196,
            "system/system_memory_usage_percentage": 34.5,
            "training_mean_absolute_error": 6.8051192198812736,
            "training_mean_squared_error": 124.51054615575788,
            "training_r2_score": 0.9948851411922456,
            "training_root_mean_squared_error": 11.158429376742852,
            "training_score": 0.9948851411922456
           },
           {
            "conf_file": "confs/training.yaml",
            "memory": "None",
            "regressor": "RandomForestRegressor(max_depth=20, n_estimators=200, random_state=42)",
            "regressor__bootstrap": "True",
            "regressor__ccp_alpha": "0.0",
            "regressor__criterion": "squared_error",
            "regressor__max_depth": "20",
            "regressor__max_features": "1.0",
            "regressor__max_leaf_nodes": "None",
            "regressor__max_samples": "None",
            "regressor__min_impurity_decrease": "0.0",
            "regressor__min_samples_leaf": "1",
            "regressor__min_samples_split": "2",
            "regressor__min_weight_fraction_leaf": "0.0",
            "regressor__monotonic_cst": "None",
            "regressor__n_estimators": "200",
            "regressor__n_jobs": "None",
            "regressor__oob_score": "False",
            "regressor__random_state": "42",
            "regressor__verbose": "0",
            "regressor__warm_start": "False",
            "steps": "[('transformer', ColumnTransformer(transformers=[('categoricals',\n                                 OneHotEncoder(handle_unknown='ignore',\n                                               sparse_output=False),\n                                 ['season', 'weathersit']),\n                                ('numericals', 'passthrough',\n                                 ['yr', 'mnth', 'hr', 'holiday', 'weekday',\n                                  'workingday', 'temp', 'atemp', 'hum',\n                                  'windspeed', 'casual'])])), ('regressor', RandomForestRegressor(max_depth=20, n_estimators=200, random_state=42))]",
            "transform_input": "None",
            "transformer": "ColumnTransformer(transformers=[('categoricals',\n                                 OneHotEncoder(handle_unknown='ignore',\n                                               sparse_output=False),\n                                 ['season', 'weathersit']),\n                                ('numericals', 'passthrough',\n                                 ['yr', 'mnth', 'hr', 'holiday', 'weekday',\n                                  'workingday', 'temp', 'atemp', 'hum',\n                                  'windspeed', 'casual'])])",
            "transformer__categoricals": "OneHotEncoder(handle_unknown='ignore', sparse_output=False)",
            "transformer__categoricals__categories": "auto",
            "transformer__categoricals__drop": "None",
            "transformer__categoricals__dtype": "<class 'numpy.float64'>",
            "transformer__categoricals__feature_name_combiner": "concat",
            "transformer__categoricals__handle_unknown": "ignore",
            "transformer__categoricals__max_categories": "None",
            "transformer__categoricals__min_frequency": "None",
            "transformer__categoricals__sparse_output": "False",
            "transformer__force_int_remainder_cols": "True",
            "transformer__n_jobs": "None",
            "transformer__numericals": "passthrough",
            "transformer__remainder": "drop",
            "transformer__sparse_threshold": "0.3",
            "transformer__transformer_weights": "None",
            "transformer__transformers": "[('categoricals', OneHotEncoder(handle_unknown='ignore', sparse_output=False), ['season', 'weathersit']), ('numericals', 'passthrough', ['yr', 'mnth', 'hr', 'holiday', 'weekday', 'workingday', 'temp', 'atemp', 'hum', 'windspeed', 'casual'])]",
            "transformer__verbose": "False",
            "transformer__verbose_feature_names_out": "True",
            "verbose": "False"
           },
           {
            "estimator_class": "sklearn.pipeline.Pipeline",
            "estimator_name": "Pipeline",
            "mlflow.gitRepoURL": "git@github.com:fmind/mlops-python-package",
            "mlflow.log-model.history": "[{\"run_id\": \"ca4c7550ad354be9a2f10f7eade8d47e\", \"artifact_path\": \"model\", \"utc_time_created\": \"2024-12-09 19:32:59.722969\", \"model_uuid\": \"d925b66d7b954d01aeee5c19cbdf12cd\", \"flavors\": {\"python_function\": {\"model_path\": \"model.pkl\", \"predict_fn\": \"predict\", \"loader_module\": \"mlflow.sklearn\", \"python_version\": \"3.12.7\", \"env\": {\"conda\": \"conda.yaml\", \"virtualenv\": \"python_env.yaml\"}}, \"sklearn\": {\"pickled_model\": \"model.pkl\", \"sklearn_version\": \"1.6.0\", \"serialization_format\": \"cloudpickle\", \"code\": null}}}, {\"run_id\": \"ca4c7550ad354be9a2f10f7eade8d47e\", \"artifact_path\": \"model\", \"utc_time_created\": \"2024-12-09 19:33:04.014747\", \"model_uuid\": \"31d6dd9554bf41f79dea63dfea57b515\", \"flavors\": {\"python_function\": {\"streamable\": false, \"cloudpickle_version\": \"3.1.0\", \"python_model\": \"python_model.pkl\", \"loader_module\": \"mlflow.pyfunc.model\", \"python_version\": \"3.12.7\", \"env\": {\"conda\": \"conda.yaml\", \"virtualenv\": \"python_env.yaml\"}, \"code\": null}}}]",
            "mlflow.project.backend": "local",
            "mlflow.project.entryPoint": "main",
            "mlflow.project.env": "virtualenv",
            "mlflow.runName": "Training",
            "mlflow.source.git.commit": "6baa64548d67a5bcf0a7f1422dfc8d45ed229aed",
            "mlflow.source.git.repoURL": "git@github.com:fmind/mlops-python-package",
            "mlflow.source.name": "file:///home/fmind/mlops-python-package",
            "mlflow.source.type": "PROJECT",
            "mlflow.user": "fmind"
           },
           23.168,
           "fmind",
           "file:///home/fmind/mlops-python-package",
           "PROJECT",
           "main",
           "6baa64548d67a5bcf0a7f1422dfc8d45ed229aed",
           "git@github.com:fmind/mlops-python-package",
           "git@github.com:fmind/mlops-python-package",
           "Training",
           "virtualenv",
           "local",
           "Pipeline",
           "sklearn.pipeline.Pipeline",
           "[{\"run_id\": \"ca4c7550ad354be9a2f10f7eade8d47e\", \"artifact_path\": \"model\", \"utc_time_created\": \"2024-12-09 19:32:59.722969\", \"model_uuid\": \"d925b66d7b954d01aeee5c19cbdf12cd\", \"flavors\": {\"python_function\": {\"model_path\": \"model.pkl\", \"predict_fn\": \"predict\", \"loader_module\": \"mlflow.sklearn\", \"python_version\": \"3.12.7\", \"env\": {\"conda\": \"conda.yaml\", \"virtualenv\": \"python_env.yaml\"}}, \"sklearn\": {\"pickled_model\": \"model.pkl\", \"sklearn_version\": \"1.6.0\", \"serialization_format\": \"cloudpickle\", \"code\": null}}}, {\"run_id\": \"ca4c7550ad354be9a2f10f7eade8d47e\", \"artifact_path\": \"model\", \"utc_time_created\": \"2024-12-09 19:33:04.014747\", \"model_uuid\": \"31d6dd9554bf41f79dea63dfea57b515\", \"flavors\": {\"python_function\": {\"streamable\": false, \"cloudpickle_version\": \"3.1.0\", \"python_model\": \"python_model.pkl\", \"loader_module\": \"mlflow.pyfunc.model\", \"python_version\": \"3.12.7\", \"env\": {\"conda\": \"conda.yaml\", \"virtualenv\": \"python_env.yaml\"}, \"code\": null}}}]",
           null,
           null
          ],
          [
           "file:///home/fmind/mlops-python-package/mlruns/892046783494697990/3c3f2883be0643b9800e8c161764bb5f/artifacts",
           "2024-12-09T19:32:45.039000",
           "892046783494697990",
           "active",
           "3c3f2883be0643b9800e8c161764bb5f",
           "resilient-doe-203",
           "3c3f2883be0643b9800e8c161764bb5f",
           "FINISHED",
           "fmind",
           {
            "mean_fit_time": 1.1269992589950562,
            "mean_score_time": 0.04589015245437622,
            "mean_test_score": -16644.957118055558,
            "rank_test_score": 3,
            "std_fit_time": 0.1527565842379814,
            "std_score_time": 0.002551598470194752,
            "std_test_score": 5315.459715152708
           },
           {
            "max_depth": "3",
            "n_estimators": "200",
            "random_state": "42"
           },
           {
            "estimator_class": "bikes.core.models.BaselineSklearnModel",
            "estimator_name": "BaselineSklearnModel",
            "mlflow.autologging": "sklearn",
            "mlflow.parentRunId": "d8d365de957c46098b7cf2e251b486fb",
            "mlflow.runName": "resilient-doe-203",
            "mlflow.source.git.commit": "6baa64548d67a5bcf0a7f1422dfc8d45ed229aed",
            "mlflow.source.name": "/home/fmind/mlops-python-package/src/bikes/__main__.py",
            "mlflow.source.type": "LOCAL",
            "mlflow.user": "fmind"
           },
           101.932,
           "fmind",
           "/home/fmind/mlops-python-package/src/bikes/__main__.py",
           "LOCAL",
           null,
           "6baa64548d67a5bcf0a7f1422dfc8d45ed229aed",
           null,
           null,
           "resilient-doe-203",
           null,
           null,
           "BaselineSklearnModel",
           "bikes.core.models.BaselineSklearnModel",
           null,
           "sklearn",
           "d8d365de957c46098b7cf2e251b486fb"
          ],
          [
           "file:///home/fmind/mlops-python-package/mlruns/892046783494697990/846fb4b5ca654800b2cb0592c6c2e999/artifacts",
           "2024-12-09T19:32:45.039000",
           "892046783494697990",
           "active",
           "846fb4b5ca654800b2cb0592c6c2e999",
           "unequaled-conch-92",
           "846fb4b5ca654800b2cb0592c6c2e999",
           "FINISHED",
           "fmind",
           {
            "mean_fit_time": 2.39922958612442,
            "mean_score_time": 0.05329245328903198,
            "mean_test_score": -5517.252604166667,
            "rank_test_score": 1,
            "std_fit_time": 0.36662621678955415,
            "std_score_time": 0.0019089998263635895,
            "std_test_score": 1613.520146542553
           },
           {
            "max_depth": "7",
            "n_estimators": "200",
            "random_state": "42"
           },
           {
            "estimator_class": "bikes.core.models.BaselineSklearnModel",
            "estimator_name": "BaselineSklearnModel",
            "mlflow.autologging": "sklearn",
            "mlflow.parentRunId": "d8d365de957c46098b7cf2e251b486fb",
            "mlflow.runName": "unequaled-conch-92",
            "mlflow.source.git.commit": "6baa64548d67a5bcf0a7f1422dfc8d45ed229aed",
            "mlflow.source.name": "/home/fmind/mlops-python-package/src/bikes/__main__.py",
            "mlflow.source.type": "LOCAL",
            "mlflow.user": "fmind"
           },
           101.932,
           "fmind",
           "/home/fmind/mlops-python-package/src/bikes/__main__.py",
           "LOCAL",
           null,
           "6baa64548d67a5bcf0a7f1422dfc8d45ed229aed",
           null,
           null,
           "unequaled-conch-92",
           null,
           null,
           "BaselineSklearnModel",
           "bikes.core.models.BaselineSklearnModel",
           null,
           "sklearn",
           "d8d365de957c46098b7cf2e251b486fb"
          ],
          [
           "file:///home/fmind/mlops-python-package/mlruns/892046783494697990/d8d365de957c46098b7cf2e251b486fb/artifacts",
           "2024-12-09T19:32:45.822000",
           "892046783494697990",
           "active",
           "d8d365de957c46098b7cf2e251b486fb",
           "Tuning",
           "d8d365de957c46098b7cf2e251b486fb",
           "FINISHED",
           "fmind",
           {
            "best_cv_score": -5517.252604166667,
            "system/cpu_utilization_percentage": 13.7,
            "system/disk_available_megabytes": 13904.4,
            "system/disk_usage_megabytes": 101839,
            "system/disk_usage_percentage": 88,
            "system/network_receive_megabytes": 0.0017000000007101337,
            "system/network_transmit_megabytes": 0.002966000000014901,
            "system/system_memory_usage_megabytes": 5151.2,
            "system/system_memory_usage_percentage": 34.2,
            "training_score": -1951.0630079838884
           },
           {
            "best_max_depth": "7",
            "conf_file": "confs/tuning.yaml",
            "cv": "KIND='TimeSeriesSplitter' gap=0 n_splits=4 test_size=1440",
            "error_score": "raise",
            "estimator": "KIND='BaselineSklearnModel' max_depth=20 n_estimators=200 random_state=42",
            "n_jobs": "None",
            "param_grid": "{'max_depth': [3, 5, 7]}",
            "pre_dispatch": "2*n_jobs",
            "refit": "True",
            "return_train_score": "False",
            "scoring": "<bound method Metric.scorer of SklearnMetric(KIND='SklearnMetric', name='mean_squared_error', greater_is_better=False)>",
            "verbose": "3"
           },
           {
            "estimator_class": "sklearn.model_selection._search.GridSearchCV",
            "estimator_name": "GridSearchCV",
            "mlflow.gitRepoURL": "git@github.com:fmind/mlops-python-package",
            "mlflow.log-model.history": "[{\"run_id\": \"d8d365de957c46098b7cf2e251b486fb\", \"artifact_path\": \"model\", \"utc_time_created\": \"2024-12-09 19:32:38.556552\", \"model_uuid\": \"409d881ce0dd4efc8439d95e9d2fa9f3\", \"flavors\": {\"python_function\": {\"model_path\": \"model.pkl\", \"predict_fn\": \"predict\", \"loader_module\": \"mlflow.sklearn\", \"python_version\": \"3.12.7\", \"env\": {\"conda\": \"conda.yaml\", \"virtualenv\": \"python_env.yaml\"}}, \"sklearn\": {\"pickled_model\": \"model.pkl\", \"sklearn_version\": \"1.6.0\", \"serialization_format\": \"cloudpickle\", \"code\": null}}}, {\"run_id\": \"d8d365de957c46098b7cf2e251b486fb\", \"artifact_path\": \"best_estimator\", \"utc_time_created\": \"2024-12-09 19:32:42.268804\", \"model_uuid\": \"244b00e5d67f40a8876cd3b5eb18a39f\", \"flavors\": {\"python_function\": {\"model_path\": \"model.pkl\", \"predict_fn\": \"predict\", \"loader_module\": \"mlflow.sklearn\", \"python_version\": \"3.12.7\", \"env\": {\"conda\": \"conda.yaml\", \"virtualenv\": \"python_env.yaml\"}}, \"sklearn\": {\"pickled_model\": \"model.pkl\", \"sklearn_version\": \"1.6.0\", \"serialization_format\": \"cloudpickle\", \"code\": null}}}]",
            "mlflow.project.backend": "local",
            "mlflow.project.entryPoint": "main",
            "mlflow.project.env": "virtualenv",
            "mlflow.runName": "Tuning",
            "mlflow.source.git.commit": "6baa64548d67a5bcf0a7f1422dfc8d45ed229aed",
            "mlflow.source.git.repoURL": "git@github.com:fmind/mlops-python-package",
            "mlflow.source.name": "file:///home/fmind/mlops-python-package",
            "mlflow.source.type": "PROJECT",
            "mlflow.user": "fmind"
           },
           102.715,
           "fmind",
           "file:///home/fmind/mlops-python-package",
           "PROJECT",
           "main",
           "6baa64548d67a5bcf0a7f1422dfc8d45ed229aed",
           "git@github.com:fmind/mlops-python-package",
           "git@github.com:fmind/mlops-python-package",
           "Tuning",
           "virtualenv",
           "local",
           "GridSearchCV",
           "sklearn.model_selection._search.GridSearchCV",
           "[{\"run_id\": \"d8d365de957c46098b7cf2e251b486fb\", \"artifact_path\": \"model\", \"utc_time_created\": \"2024-12-09 19:32:38.556552\", \"model_uuid\": \"409d881ce0dd4efc8439d95e9d2fa9f3\", \"flavors\": {\"python_function\": {\"model_path\": \"model.pkl\", \"predict_fn\": \"predict\", \"loader_module\": \"mlflow.sklearn\", \"python_version\": \"3.12.7\", \"env\": {\"conda\": \"conda.yaml\", \"virtualenv\": \"python_env.yaml\"}}, \"sklearn\": {\"pickled_model\": \"model.pkl\", \"sklearn_version\": \"1.6.0\", \"serialization_format\": \"cloudpickle\", \"code\": null}}}, {\"run_id\": \"d8d365de957c46098b7cf2e251b486fb\", \"artifact_path\": \"best_estimator\", \"utc_time_created\": \"2024-12-09 19:32:42.268804\", \"model_uuid\": \"244b00e5d67f40a8876cd3b5eb18a39f\", \"flavors\": {\"python_function\": {\"model_path\": \"model.pkl\", \"predict_fn\": \"predict\", \"loader_module\": \"mlflow.sklearn\", \"python_version\": \"3.12.7\", \"env\": {\"conda\": \"conda.yaml\", \"virtualenv\": \"python_env.yaml\"}}, \"sklearn\": {\"pickled_model\": \"model.pkl\", \"sklearn_version\": \"1.6.0\", \"serialization_format\": \"cloudpickle\", \"code\": null}}}]",
           null,
           null
          ],
          [
           "file:///home/fmind/mlops-python-package/mlruns/892046783494697990/ed9728cf10d74fe6a053231b54e82e16/artifacts",
           "2024-12-09T19:32:45.039000",
           "892046783494697990",
           "active",
           "ed9728cf10d74fe6a053231b54e82e16",
           "adventurous-fowl-590",
           "ed9728cf10d74fe6a053231b54e82e16",
           "FINISHED",
           "fmind",
           {
            "mean_fit_time": 1.6259471774101255,
            "mean_score_time": 0.045266807079315186,
            "mean_test_score": -8287.860416666666,
            "rank_test_score": 2,
            "std_fit_time": 0.24068743297866052,
            "std_score_time": 0.00025423702187683014,
            "std_test_score": 1045.7595024691311
           },
           {
            "max_depth": "5",
            "n_estimators": "200",
            "random_state": "42"
           },
           {
            "estimator_class": "bikes.core.models.BaselineSklearnModel",
            "estimator_name": "BaselineSklearnModel",
            "mlflow.autologging": "sklearn",
            "mlflow.parentRunId": "d8d365de957c46098b7cf2e251b486fb",
            "mlflow.runName": "adventurous-fowl-590",
            "mlflow.source.git.commit": "6baa64548d67a5bcf0a7f1422dfc8d45ed229aed",
            "mlflow.source.name": "/home/fmind/mlops-python-package/src/bikes/__main__.py",
            "mlflow.source.type": "LOCAL",
            "mlflow.user": "fmind"
           },
           101.932,
           "fmind",
           "/home/fmind/mlops-python-package/src/bikes/__main__.py",
           "LOCAL",
           null,
           "6baa64548d67a5bcf0a7f1422dfc8d45ed229aed",
           null,
           null,
           "adventurous-fowl-590",
           null,
           null,
           "BaselineSklearnModel",
           "bikes.core.models.BaselineSklearnModel",
           null,
           "sklearn",
           "d8d365de957c46098b7cf2e251b486fb"
          ]
         ],
         "fillcolor": "rgba(255,255,255,0)",
         "hoveron": "points",
         "hovertemplate": "<b>%{hovertext}</b><br><br>experiment_id=%{customdata[2]}<br>start_time=%{x}<br>artifact_uri=%{customdata[0]}<br>end_time=%{customdata[1]}<br>lifecycle_stage=%{customdata[3]}<br>run_id=%{customdata[4]}<br>run_name=%{customdata[5]}<br>run_uuid=%{customdata[6]}<br>status=%{customdata[7]}<br>user_id=%{customdata[8]}<br>metrics=%{customdata[9]}<br>params=%{customdata[10]}<br>tags=%{customdata[11]}<br>run_time_secs=%{customdata[12]}<br>mlflow.user=%{customdata[13]}<br>mlflow.source.name=%{customdata[14]}<br>mlflow.source.type=%{customdata[15]}<br>mlflow.project.entryPoint=%{customdata[16]}<br>mlflow.source.git.commit=%{customdata[17]}<br>mlflow.source.git.repoURL=%{customdata[18]}<br>mlflow.gitRepoURL=%{customdata[19]}<br>mlflow.runName=%{customdata[20]}<br>mlflow.project.env=%{customdata[21]}<br>mlflow.project.backend=%{customdata[22]}<br>estimator_name=%{customdata[23]}<br>estimator_class=%{customdata[24]}<br>mlflow.log-model.history=%{customdata[25]}<br>mlflow.autologging=%{customdata[26]}<br>mlflow.parentRunId=%{customdata[27]}<extra></extra>",
         "hovertext": [
          "Explanations",
          "Evaluations",
          "Inference",
          "Promotion",
          "Training",
          "angry-dog-423",
          "lyrical-snail-804",
          "Tuning",
          "capable-asp-689",
          "Explanations",
          "Evaluations",
          "Inference",
          "Promotion",
          "Training",
          "youthful-carp-377",
          "enchanting-pig-738",
          "Tuning",
          "youthful-shoat-928",
          "Evaluations",
          "Explanations",
          "Evaluations",
          "Evaluations",
          "Inference",
          "Promotion",
          "Training",
          "resilient-doe-203",
          "unequaled-conch-92",
          "Tuning",
          "adventurous-fowl-590"
         ],
         "legendgroup": "892046783494697990",
         "line": {
          "color": "rgba(255,255,255,0)"
         },
         "marker": {
          "color": "#636efa"
         },
         "name": "892046783494697990",
         "offsetgroup": "892046783494697990",
         "orientation": "h",
         "pointpos": 0,
         "showlegend": true,
         "type": "box",
         "x": [
          "2024-12-09T21:26:19.324000",
          "2024-12-09T21:26:13.489000",
          "2024-12-09T21:26:08.210000",
          "2024-12-09T21:26:03.382000",
          "2024-12-09T21:25:39.001000",
          "2024-12-09T21:25:03.572000",
          "2024-12-09T21:25:03.572000",
          "2024-12-09T21:25:03.572000",
          "2024-12-09T21:25:03.572000",
          "2024-12-09T20:16:09.833000",
          "2024-12-09T20:16:02.929000",
          "2024-12-09T20:15:56.888000",
          "2024-12-09T20:15:50.832000",
          "2024-12-09T20:15:23.229000",
          "2024-12-09T20:11:34.899000",
          "2024-12-09T20:11:34.899000",
          "2024-12-09T20:11:34.899000",
          "2024-12-09T20:11:34.899000",
          "2024-12-09T19:41:26.226000",
          "2024-12-09T19:40:19.961000",
          "2024-12-09T19:40:09.199000",
          "2024-12-09T19:33:22.361000",
          "2024-12-09T19:33:16.788000",
          "2024-12-09T19:33:12.258000",
          "2024-12-09T19:32:47.406000",
          "2024-12-09T19:31:03.107000",
          "2024-12-09T19:31:03.107000",
          "2024-12-09T19:31:03.107000",
          "2024-12-09T19:31:03.107000"
         ],
         "x0": " ",
         "xaxis": "x",
         "y0": " ",
         "yaxis": "y"
        }
       ],
       "layout": {
        "boxmode": "group",
        "legend": {
         "title": {
          "text": "experiment_id"
         },
         "tracegroupgap": 0
        },
        "template": {
         "data": {
          "bar": [
           {
            "error_x": {
             "color": "#2a3f5f"
            },
            "error_y": {
             "color": "#2a3f5f"
            },
            "marker": {
             "line": {
              "color": "#E5ECF6",
              "width": 0.5
             },
             "pattern": {
              "fillmode": "overlay",
              "size": 10,
              "solidity": 0.2
             }
            },
            "type": "bar"
           }
          ],
          "barpolar": [
           {
            "marker": {
             "line": {
              "color": "#E5ECF6",
              "width": 0.5
             },
             "pattern": {
              "fillmode": "overlay",
              "size": 10,
              "solidity": 0.2
             }
            },
            "type": "barpolar"
           }
          ],
          "carpet": [
           {
            "aaxis": {
             "endlinecolor": "#2a3f5f",
             "gridcolor": "white",
             "linecolor": "white",
             "minorgridcolor": "white",
             "startlinecolor": "#2a3f5f"
            },
            "baxis": {
             "endlinecolor": "#2a3f5f",
             "gridcolor": "white",
             "linecolor": "white",
             "minorgridcolor": "white",
             "startlinecolor": "#2a3f5f"
            },
            "type": "carpet"
           }
          ],
          "choropleth": [
           {
            "colorbar": {
             "outlinewidth": 0,
             "ticks": ""
            },
            "type": "choropleth"
           }
          ],
          "contour": [
           {
            "colorbar": {
             "outlinewidth": 0,
             "ticks": ""
            },
            "colorscale": [
             [
              0,
              "#0d0887"
             ],
             [
              0.1111111111111111,
              "#46039f"
             ],
             [
              0.2222222222222222,
              "#7201a8"
             ],
             [
              0.3333333333333333,
              "#9c179e"
             ],
             [
              0.4444444444444444,
              "#bd3786"
             ],
             [
              0.5555555555555556,
              "#d8576b"
             ],
             [
              0.6666666666666666,
              "#ed7953"
             ],
             [
              0.7777777777777778,
              "#fb9f3a"
             ],
             [
              0.8888888888888888,
              "#fdca26"
             ],
             [
              1,
              "#f0f921"
             ]
            ],
            "type": "contour"
           }
          ],
          "contourcarpet": [
           {
            "colorbar": {
             "outlinewidth": 0,
             "ticks": ""
            },
            "type": "contourcarpet"
           }
          ],
          "heatmap": [
           {
            "colorbar": {
             "outlinewidth": 0,
             "ticks": ""
            },
            "colorscale": [
             [
              0,
              "#0d0887"
             ],
             [
              0.1111111111111111,
              "#46039f"
             ],
             [
              0.2222222222222222,
              "#7201a8"
             ],
             [
              0.3333333333333333,
              "#9c179e"
             ],
             [
              0.4444444444444444,
              "#bd3786"
             ],
             [
              0.5555555555555556,
              "#d8576b"
             ],
             [
              0.6666666666666666,
              "#ed7953"
             ],
             [
              0.7777777777777778,
              "#fb9f3a"
             ],
             [
              0.8888888888888888,
              "#fdca26"
             ],
             [
              1,
              "#f0f921"
             ]
            ],
            "type": "heatmap"
           }
          ],
          "heatmapgl": [
           {
            "colorbar": {
             "outlinewidth": 0,
             "ticks": ""
            },
            "colorscale": [
             [
              0,
              "#0d0887"
             ],
             [
              0.1111111111111111,
              "#46039f"
             ],
             [
              0.2222222222222222,
              "#7201a8"
             ],
             [
              0.3333333333333333,
              "#9c179e"
             ],
             [
              0.4444444444444444,
              "#bd3786"
             ],
             [
              0.5555555555555556,
              "#d8576b"
             ],
             [
              0.6666666666666666,
              "#ed7953"
             ],
             [
              0.7777777777777778,
              "#fb9f3a"
             ],
             [
              0.8888888888888888,
              "#fdca26"
             ],
             [
              1,
              "#f0f921"
             ]
            ],
            "type": "heatmapgl"
           }
          ],
          "histogram": [
           {
            "marker": {
             "pattern": {
              "fillmode": "overlay",
              "size": 10,
              "solidity": 0.2
             }
            },
            "type": "histogram"
           }
          ],
          "histogram2d": [
           {
            "colorbar": {
             "outlinewidth": 0,
             "ticks": ""
            },
            "colorscale": [
             [
              0,
              "#0d0887"
             ],
             [
              0.1111111111111111,
              "#46039f"
             ],
             [
              0.2222222222222222,
              "#7201a8"
             ],
             [
              0.3333333333333333,
              "#9c179e"
             ],
             [
              0.4444444444444444,
              "#bd3786"
             ],
             [
              0.5555555555555556,
              "#d8576b"
             ],
             [
              0.6666666666666666,
              "#ed7953"
             ],
             [
              0.7777777777777778,
              "#fb9f3a"
             ],
             [
              0.8888888888888888,
              "#fdca26"
             ],
             [
              1,
              "#f0f921"
             ]
            ],
            "type": "histogram2d"
           }
          ],
          "histogram2dcontour": [
           {
            "colorbar": {
             "outlinewidth": 0,
             "ticks": ""
            },
            "colorscale": [
             [
              0,
              "#0d0887"
             ],
             [
              0.1111111111111111,
              "#46039f"
             ],
             [
              0.2222222222222222,
              "#7201a8"
             ],
             [
              0.3333333333333333,
              "#9c179e"
             ],
             [
              0.4444444444444444,
              "#bd3786"
             ],
             [
              0.5555555555555556,
              "#d8576b"
             ],
             [
              0.6666666666666666,
              "#ed7953"
             ],
             [
              0.7777777777777778,
              "#fb9f3a"
             ],
             [
              0.8888888888888888,
              "#fdca26"
             ],
             [
              1,
              "#f0f921"
             ]
            ],
            "type": "histogram2dcontour"
           }
          ],
          "mesh3d": [
           {
            "colorbar": {
             "outlinewidth": 0,
             "ticks": ""
            },
            "type": "mesh3d"
           }
          ],
          "parcoords": [
           {
            "line": {
             "colorbar": {
              "outlinewidth": 0,
              "ticks": ""
             }
            },
            "type": "parcoords"
           }
          ],
          "pie": [
           {
            "automargin": true,
            "type": "pie"
           }
          ],
          "scatter": [
           {
            "fillpattern": {
             "fillmode": "overlay",
             "size": 10,
             "solidity": 0.2
            },
            "type": "scatter"
           }
          ],
          "scatter3d": [
           {
            "line": {
             "colorbar": {
              "outlinewidth": 0,
              "ticks": ""
             }
            },
            "marker": {
             "colorbar": {
              "outlinewidth": 0,
              "ticks": ""
             }
            },
            "type": "scatter3d"
           }
          ],
          "scattercarpet": [
           {
            "marker": {
             "colorbar": {
              "outlinewidth": 0,
              "ticks": ""
             }
            },
            "type": "scattercarpet"
           }
          ],
          "scattergeo": [
           {
            "marker": {
             "colorbar": {
              "outlinewidth": 0,
              "ticks": ""
             }
            },
            "type": "scattergeo"
           }
          ],
          "scattergl": [
           {
            "marker": {
             "colorbar": {
              "outlinewidth": 0,
              "ticks": ""
             }
            },
            "type": "scattergl"
           }
          ],
          "scattermapbox": [
           {
            "marker": {
             "colorbar": {
              "outlinewidth": 0,
              "ticks": ""
             }
            },
            "type": "scattermapbox"
           }
          ],
          "scatterpolar": [
           {
            "marker": {
             "colorbar": {
              "outlinewidth": 0,
              "ticks": ""
             }
            },
            "type": "scatterpolar"
           }
          ],
          "scatterpolargl": [
           {
            "marker": {
             "colorbar": {
              "outlinewidth": 0,
              "ticks": ""
             }
            },
            "type": "scatterpolargl"
           }
          ],
          "scatterternary": [
           {
            "marker": {
             "colorbar": {
              "outlinewidth": 0,
              "ticks": ""
             }
            },
            "type": "scatterternary"
           }
          ],
          "surface": [
           {
            "colorbar": {
             "outlinewidth": 0,
             "ticks": ""
            },
            "colorscale": [
             [
              0,
              "#0d0887"
             ],
             [
              0.1111111111111111,
              "#46039f"
             ],
             [
              0.2222222222222222,
              "#7201a8"
             ],
             [
              0.3333333333333333,
              "#9c179e"
             ],
             [
              0.4444444444444444,
              "#bd3786"
             ],
             [
              0.5555555555555556,
              "#d8576b"
             ],
             [
              0.6666666666666666,
              "#ed7953"
             ],
             [
              0.7777777777777778,
              "#fb9f3a"
             ],
             [
              0.8888888888888888,
              "#fdca26"
             ],
             [
              1,
              "#f0f921"
             ]
            ],
            "type": "surface"
           }
          ],
          "table": [
           {
            "cells": {
             "fill": {
              "color": "#EBF0F8"
             },
             "line": {
              "color": "white"
             }
            },
            "header": {
             "fill": {
              "color": "#C8D4E3"
             },
             "line": {
              "color": "white"
             }
            },
            "type": "table"
           }
          ]
         },
         "layout": {
          "annotationdefaults": {
           "arrowcolor": "#2a3f5f",
           "arrowhead": 0,
           "arrowwidth": 1
          },
          "autotypenumbers": "strict",
          "coloraxis": {
           "colorbar": {
            "outlinewidth": 0,
            "ticks": ""
           }
          },
          "colorscale": {
           "diverging": [
            [
             0,
             "#8e0152"
            ],
            [
             0.1,
             "#c51b7d"
            ],
            [
             0.2,
             "#de77ae"
            ],
            [
             0.3,
             "#f1b6da"
            ],
            [
             0.4,
             "#fde0ef"
            ],
            [
             0.5,
             "#f7f7f7"
            ],
            [
             0.6,
             "#e6f5d0"
            ],
            [
             0.7,
             "#b8e186"
            ],
            [
             0.8,
             "#7fbc41"
            ],
            [
             0.9,
             "#4d9221"
            ],
            [
             1,
             "#276419"
            ]
           ],
           "sequential": [
            [
             0,
             "#0d0887"
            ],
            [
             0.1111111111111111,
             "#46039f"
            ],
            [
             0.2222222222222222,
             "#7201a8"
            ],
            [
             0.3333333333333333,
             "#9c179e"
            ],
            [
             0.4444444444444444,
             "#bd3786"
            ],
            [
             0.5555555555555556,
             "#d8576b"
            ],
            [
             0.6666666666666666,
             "#ed7953"
            ],
            [
             0.7777777777777778,
             "#fb9f3a"
            ],
            [
             0.8888888888888888,
             "#fdca26"
            ],
            [
             1,
             "#f0f921"
            ]
           ],
           "sequentialminus": [
            [
             0,
             "#0d0887"
            ],
            [
             0.1111111111111111,
             "#46039f"
            ],
            [
             0.2222222222222222,
             "#7201a8"
            ],
            [
             0.3333333333333333,
             "#9c179e"
            ],
            [
             0.4444444444444444,
             "#bd3786"
            ],
            [
             0.5555555555555556,
             "#d8576b"
            ],
            [
             0.6666666666666666,
             "#ed7953"
            ],
            [
             0.7777777777777778,
             "#fb9f3a"
            ],
            [
             0.8888888888888888,
             "#fdca26"
            ],
            [
             1,
             "#f0f921"
            ]
           ]
          },
          "colorway": [
           "#636efa",
           "#EF553B",
           "#00cc96",
           "#ab63fa",
           "#FFA15A",
           "#19d3f3",
           "#FF6692",
           "#B6E880",
           "#FF97FF",
           "#FECB52"
          ],
          "font": {
           "color": "#2a3f5f"
          },
          "geo": {
           "bgcolor": "white",
           "lakecolor": "white",
           "landcolor": "#E5ECF6",
           "showlakes": true,
           "showland": true,
           "subunitcolor": "white"
          },
          "hoverlabel": {
           "align": "left"
          },
          "hovermode": "closest",
          "mapbox": {
           "style": "light"
          },
          "paper_bgcolor": "white",
          "plot_bgcolor": "#E5ECF6",
          "polar": {
           "angularaxis": {
            "gridcolor": "white",
            "linecolor": "white",
            "ticks": ""
           },
           "bgcolor": "#E5ECF6",
           "radialaxis": {
            "gridcolor": "white",
            "linecolor": "white",
            "ticks": ""
           }
          },
          "scene": {
           "xaxis": {
            "backgroundcolor": "#E5ECF6",
            "gridcolor": "white",
            "gridwidth": 2,
            "linecolor": "white",
            "showbackground": true,
            "ticks": "",
            "zerolinecolor": "white"
           },
           "yaxis": {
            "backgroundcolor": "#E5ECF6",
            "gridcolor": "white",
            "gridwidth": 2,
            "linecolor": "white",
            "showbackground": true,
            "ticks": "",
            "zerolinecolor": "white"
           },
           "zaxis": {
            "backgroundcolor": "#E5ECF6",
            "gridcolor": "white",
            "gridwidth": 2,
            "linecolor": "white",
            "showbackground": true,
            "ticks": "",
            "zerolinecolor": "white"
           }
          },
          "shapedefaults": {
           "line": {
            "color": "#2a3f5f"
           }
          },
          "ternary": {
           "aaxis": {
            "gridcolor": "white",
            "linecolor": "white",
            "ticks": ""
           },
           "baxis": {
            "gridcolor": "white",
            "linecolor": "white",
            "ticks": ""
           },
           "bgcolor": "#E5ECF6",
           "caxis": {
            "gridcolor": "white",
            "linecolor": "white",
            "ticks": ""
           }
          },
          "title": {
           "x": 0.05
          },
          "xaxis": {
           "automargin": true,
           "gridcolor": "white",
           "linecolor": "white",
           "ticks": "",
           "title": {
            "standoff": 15
           },
           "zerolinecolor": "white",
           "zerolinewidth": 2
          },
          "yaxis": {
           "automargin": true,
           "gridcolor": "white",
           "linecolor": "white",
           "ticks": "",
           "title": {
            "standoff": 15
           },
           "zerolinecolor": "white",
           "zerolinewidth": 2
          }
         }
        },
        "title": {
         "text": "Run Start Time"
        },
        "xaxis": {
         "anchor": "y",
         "domain": [
          0,
          1
         ],
         "title": {
          "text": "start_time"
         }
        },
        "yaxis": {
         "anchor": "x",
         "domain": [
          0,
          1
         ]
        }
       }
      }
     },
     "metadata": {},
     "output_type": "display_data"
    }
   ],
   "source": [
    "px.strip(\n",
    "    runs,\n",
    "    x=\"start_time\",\n",
    "    color=\"experiment_id\",\n",
    "    hover_name=\"run_name\",\n",
    "    hover_data=runs.columns,\n",
    "    title=\"Run Start Time\",\n",
    ")"
   ]
  },
  {
   "cell_type": "code",
   "execution_count": 14,
   "metadata": {},
   "outputs": [
    {
     "data": {
      "application/vnd.plotly.v1+json": {
       "config": {
        "plotlyServerURL": "https://plot.ly"
       },
       "data": [
        {
         "alignmentgroup": "True",
         "boxpoints": "all",
         "customdata": [
          [
           "file:///home/fmind/mlops-python-package/mlruns/892046783494697990/c21b823a68ba42b2b1ff98b2ae73c424/artifacts",
           "2024-12-09T21:26:50.094000",
           "892046783494697990",
           "active",
           "c21b823a68ba42b2b1ff98b2ae73c424",
           "Explanations",
           "c21b823a68ba42b2b1ff98b2ae73c424",
           "2024-12-09T21:26:19.324000",
           "FINISHED",
           "fmind",
           {},
           {
            "conf_file": "confs/explanations.yaml"
           },
           {
            "mlflow.gitRepoURL": "git@github.com:fmind/mlops-python-package",
            "mlflow.project.backend": "local",
            "mlflow.project.entryPoint": "main",
            "mlflow.project.env": "virtualenv",
            "mlflow.runName": "Explanations",
            "mlflow.source.git.commit": "6baa64548d67a5bcf0a7f1422dfc8d45ed229aed",
            "mlflow.source.git.repoURL": "git@github.com:fmind/mlops-python-package",
            "mlflow.source.name": "file:///home/fmind/mlops-python-package",
            "mlflow.source.type": "PROJECT",
            "mlflow.user": "fmind"
           },
           "fmind",
           "file:///home/fmind/mlops-python-package",
           "PROJECT",
           "main",
           "6baa64548d67a5bcf0a7f1422dfc8d45ed229aed",
           "git@github.com:fmind/mlops-python-package",
           "git@github.com:fmind/mlops-python-package",
           "Explanations",
           "virtualenv",
           "local",
           null,
           null,
           null,
           null,
           null
          ],
          [
           "file:///home/fmind/mlops-python-package/mlruns/892046783494697990/f71527e645d24f579e571b6573912f32/artifacts",
           "2024-12-09T20:16:43.066000",
           "892046783494697990",
           "active",
           "f71527e645d24f579e571b6573912f32",
           "Explanations",
           "f71527e645d24f579e571b6573912f32",
           "2024-12-09T20:16:09.833000",
           "FINISHED",
           "fmind",
           {},
           {
            "conf_file": "confs/explanations.yaml"
           },
           {
            "mlflow.gitRepoURL": "git@github.com:fmind/mlops-python-package",
            "mlflow.project.backend": "local",
            "mlflow.project.entryPoint": "main",
            "mlflow.project.env": "virtualenv",
            "mlflow.runName": "Explanations",
            "mlflow.source.git.commit": "6baa64548d67a5bcf0a7f1422dfc8d45ed229aed",
            "mlflow.source.git.repoURL": "git@github.com:fmind/mlops-python-package",
            "mlflow.source.name": "file:///home/fmind/mlops-python-package",
            "mlflow.source.type": "PROJECT",
            "mlflow.user": "fmind"
           },
           "fmind",
           "file:///home/fmind/mlops-python-package",
           "PROJECT",
           "main",
           "6baa64548d67a5bcf0a7f1422dfc8d45ed229aed",
           "git@github.com:fmind/mlops-python-package",
           "git@github.com:fmind/mlops-python-package",
           "Explanations",
           "virtualenv",
           "local",
           null,
           null,
           null,
           null,
           null
          ],
          [
           "file:///home/fmind/mlops-python-package/mlruns/892046783494697990/ba156f94df9e4c1eb8cb2852e36efeb0/artifacts",
           "2024-12-09T19:40:49.139000",
           "892046783494697990",
           "active",
           "ba156f94df9e4c1eb8cb2852e36efeb0",
           "Explanations",
           "ba156f94df9e4c1eb8cb2852e36efeb0",
           "2024-12-09T19:40:19.961000",
           "FINISHED",
           "fmind",
           {},
           {
            "conf_file": "confs/explanations.yaml"
           },
           {
            "mlflow.gitRepoURL": "git@github.com:fmind/mlops-python-package",
            "mlflow.project.backend": "local",
            "mlflow.project.entryPoint": "main",
            "mlflow.project.env": "virtualenv",
            "mlflow.runName": "Explanations",
            "mlflow.source.git.commit": "6baa64548d67a5bcf0a7f1422dfc8d45ed229aed",
            "mlflow.source.git.repoURL": "git@github.com:fmind/mlops-python-package",
            "mlflow.source.name": "file:///home/fmind/mlops-python-package",
            "mlflow.source.type": "PROJECT",
            "mlflow.user": "fmind"
           },
           "fmind",
           "file:///home/fmind/mlops-python-package",
           "PROJECT",
           "main",
           "6baa64548d67a5bcf0a7f1422dfc8d45ed229aed",
           "git@github.com:fmind/mlops-python-package",
           "git@github.com:fmind/mlops-python-package",
           "Explanations",
           "virtualenv",
           "local",
           null,
           null,
           null,
           null,
           null
          ]
         ],
         "fillcolor": "rgba(255,255,255,0)",
         "hoveron": "points",
         "hovertemplate": "<b>%{hovertext}</b><br><br>run_name=%{customdata[5]}<br>run_time_secs=%{x}<br>artifact_uri=%{customdata[0]}<br>end_time=%{customdata[1]}<br>experiment_id=%{customdata[2]}<br>lifecycle_stage=%{customdata[3]}<br>run_id=%{customdata[4]}<br>run_uuid=%{customdata[6]}<br>start_time=%{customdata[7]}<br>status=%{customdata[8]}<br>user_id=%{customdata[9]}<br>metrics=%{customdata[10]}<br>params=%{customdata[11]}<br>tags=%{customdata[12]}<br>mlflow.user=%{customdata[13]}<br>mlflow.source.name=%{customdata[14]}<br>mlflow.source.type=%{customdata[15]}<br>mlflow.project.entryPoint=%{customdata[16]}<br>mlflow.source.git.commit=%{customdata[17]}<br>mlflow.source.git.repoURL=%{customdata[18]}<br>mlflow.gitRepoURL=%{customdata[19]}<br>mlflow.runName=%{customdata[20]}<br>mlflow.project.env=%{customdata[21]}<br>mlflow.project.backend=%{customdata[22]}<br>estimator_name=%{customdata[23]}<br>estimator_class=%{customdata[24]}<br>mlflow.log-model.history=%{customdata[25]}<br>mlflow.autologging=%{customdata[26]}<br>mlflow.parentRunId=%{customdata[27]}<extra></extra>",
         "hovertext": [
          "c21b823a68ba42b2b1ff98b2ae73c424",
          "f71527e645d24f579e571b6573912f32",
          "ba156f94df9e4c1eb8cb2852e36efeb0"
         ],
         "legendgroup": "Explanations",
         "line": {
          "color": "rgba(255,255,255,0)"
         },
         "marker": {
          "color": "#636efa"
         },
         "name": "Explanations",
         "offsetgroup": "Explanations",
         "orientation": "h",
         "pointpos": 0,
         "showlegend": true,
         "type": "box",
         "x": [
          30.77,
          33.233,
          29.178
         ],
         "x0": " ",
         "xaxis": "x",
         "y0": " ",
         "yaxis": "y"
        },
        {
         "alignmentgroup": "True",
         "boxpoints": "all",
         "customdata": [
          [
           "file:///home/fmind/mlops-python-package/mlruns/892046783494697990/9da0f31e36a9413eaab18149ace82c78/artifacts",
           "2024-12-09T21:26:18.061000",
           "892046783494697990",
           "active",
           "9da0f31e36a9413eaab18149ace82c78",
           "Evaluations",
           "9da0f31e36a9413eaab18149ace82c78",
           "2024-12-09T21:26:13.489000",
           "FINISHED",
           "fmind",
           {
            "example_count": 13903,
            "max_error": 4294967295,
            "mean_absolute_error": 2044457567.3205063,
            "mean_absolute_percentage_error": 55189262.03890929,
            "mean_on_target": 174.63914263108683,
            "mean_squared_error": 296.66338200388407,
            "r2_score": 0.9893562621162568,
            "root_mean_squared_error": 17.223918892165166,
            "sum_on_target": 2428008
           },
           {
            "conf_file": "confs/evaluations.yaml"
           },
           {
            "mlflow.gitRepoURL": "git@github.com:fmind/mlops-python-package",
            "mlflow.project.backend": "local",
            "mlflow.project.entryPoint": "main",
            "mlflow.project.env": "virtualenv",
            "mlflow.runName": "Evaluations",
            "mlflow.source.git.commit": "6baa64548d67a5bcf0a7f1422dfc8d45ed229aed",
            "mlflow.source.git.repoURL": "git@github.com:fmind/mlops-python-package",
            "mlflow.source.name": "file:///home/fmind/mlops-python-package",
            "mlflow.source.type": "PROJECT",
            "mlflow.user": "fmind"
           },
           "fmind",
           "file:///home/fmind/mlops-python-package",
           "PROJECT",
           "main",
           "6baa64548d67a5bcf0a7f1422dfc8d45ed229aed",
           "git@github.com:fmind/mlops-python-package",
           "git@github.com:fmind/mlops-python-package",
           "Evaluations",
           "virtualenv",
           "local",
           null,
           null,
           null,
           null,
           null
          ],
          [
           "file:///home/fmind/mlops-python-package/mlruns/892046783494697990/f2823c6d05a545b793545d85b230d467/artifacts",
           "2024-12-09T20:16:08.336000",
           "892046783494697990",
           "active",
           "f2823c6d05a545b793545d85b230d467",
           "Evaluations",
           "f2823c6d05a545b793545d85b230d467",
           "2024-12-09T20:16:02.929000",
           "FINISHED",
           "fmind",
           {
            "example_count": 13903,
            "max_error": 4294967295,
            "mean_absolute_error": 2044457567.3205063,
            "mean_absolute_percentage_error": 55189262.03890929,
            "mean_on_target": 174.63914263108683,
            "mean_squared_error": 296.66338200388407,
            "r2_score": 0.9893562621162568,
            "root_mean_squared_error": 17.223918892165166,
            "sum_on_target": 2428008
           },
           {
            "conf_file": "confs/evaluations.yaml"
           },
           {
            "mlflow.gitRepoURL": "git@github.com:fmind/mlops-python-package",
            "mlflow.project.backend": "local",
            "mlflow.project.entryPoint": "main",
            "mlflow.project.env": "virtualenv",
            "mlflow.runName": "Evaluations",
            "mlflow.source.git.commit": "6baa64548d67a5bcf0a7f1422dfc8d45ed229aed",
            "mlflow.source.git.repoURL": "git@github.com:fmind/mlops-python-package",
            "mlflow.source.name": "file:///home/fmind/mlops-python-package",
            "mlflow.source.type": "PROJECT",
            "mlflow.user": "fmind"
           },
           "fmind",
           "file:///home/fmind/mlops-python-package",
           "PROJECT",
           "main",
           "6baa64548d67a5bcf0a7f1422dfc8d45ed229aed",
           "git@github.com:fmind/mlops-python-package",
           "git@github.com:fmind/mlops-python-package",
           "Evaluations",
           "virtualenv",
           "local",
           null,
           null,
           null,
           null,
           null
          ],
          [
           "file:///home/fmind/mlops-python-package/mlruns/892046783494697990/ecc6bbcc06a14ac4a853f18a85d2aa79/artifacts",
           "2024-12-09T19:41:30.872000",
           "892046783494697990",
           "active",
           "ecc6bbcc06a14ac4a853f18a85d2aa79",
           "Evaluations",
           "ecc6bbcc06a14ac4a853f18a85d2aa79",
           "2024-12-09T19:41:26.226000",
           "FAILED",
           "fmind",
           {},
           {
            "conf_file": "confs/evaluations.yaml"
           },
           {
            "mlflow.gitRepoURL": "git@github.com:fmind/mlops-python-package",
            "mlflow.project.backend": "local",
            "mlflow.project.entryPoint": "main",
            "mlflow.project.env": "virtualenv",
            "mlflow.runName": "Evaluations",
            "mlflow.source.git.commit": "6baa64548d67a5bcf0a7f1422dfc8d45ed229aed",
            "mlflow.source.git.repoURL": "git@github.com:fmind/mlops-python-package",
            "mlflow.source.name": "file:///home/fmind/mlops-python-package",
            "mlflow.source.type": "PROJECT",
            "mlflow.user": "fmind"
           },
           "fmind",
           "file:///home/fmind/mlops-python-package",
           "PROJECT",
           "main",
           "6baa64548d67a5bcf0a7f1422dfc8d45ed229aed",
           "git@github.com:fmind/mlops-python-package",
           "git@github.com:fmind/mlops-python-package",
           "Evaluations",
           "virtualenv",
           "local",
           null,
           null,
           null,
           null,
           null
          ],
          [
           "file:///home/fmind/mlops-python-package/mlruns/892046783494697990/4177ef56fb0e4e4eaa7f7c443c46fc16/artifacts",
           "2024-12-09T19:40:14.417000",
           "892046783494697990",
           "active",
           "4177ef56fb0e4e4eaa7f7c443c46fc16",
           "Evaluations",
           "4177ef56fb0e4e4eaa7f7c443c46fc16",
           "2024-12-09T19:40:09.199000",
           "FAILED",
           "fmind",
           {},
           {
            "conf_file": "confs/evaluations.yaml"
           },
           {
            "mlflow.gitRepoURL": "git@github.com:fmind/mlops-python-package",
            "mlflow.project.backend": "local",
            "mlflow.project.entryPoint": "main",
            "mlflow.project.env": "virtualenv",
            "mlflow.runName": "Evaluations",
            "mlflow.source.git.commit": "6baa64548d67a5bcf0a7f1422dfc8d45ed229aed",
            "mlflow.source.git.repoURL": "git@github.com:fmind/mlops-python-package",
            "mlflow.source.name": "file:///home/fmind/mlops-python-package",
            "mlflow.source.type": "PROJECT",
            "mlflow.user": "fmind"
           },
           "fmind",
           "file:///home/fmind/mlops-python-package",
           "PROJECT",
           "main",
           "6baa64548d67a5bcf0a7f1422dfc8d45ed229aed",
           "git@github.com:fmind/mlops-python-package",
           "git@github.com:fmind/mlops-python-package",
           "Evaluations",
           "virtualenv",
           "local",
           null,
           null,
           null,
           null,
           null
          ],
          [
           "file:///home/fmind/mlops-python-package/mlruns/892046783494697990/f11653b8018e42f6825a2ac1c9443937/artifacts",
           "2024-12-09T19:33:26.711000",
           "892046783494697990",
           "active",
           "f11653b8018e42f6825a2ac1c9443937",
           "Evaluations",
           "f11653b8018e42f6825a2ac1c9443937",
           "2024-12-09T19:33:22.361000",
           "FAILED",
           "fmind",
           {},
           {
            "conf_file": "confs/evaluations.yaml"
           },
           {
            "mlflow.gitRepoURL": "git@github.com:fmind/mlops-python-package",
            "mlflow.project.backend": "local",
            "mlflow.project.entryPoint": "main",
            "mlflow.project.env": "virtualenv",
            "mlflow.runName": "Evaluations",
            "mlflow.source.git.commit": "6baa64548d67a5bcf0a7f1422dfc8d45ed229aed",
            "mlflow.source.git.repoURL": "git@github.com:fmind/mlops-python-package",
            "mlflow.source.name": "file:///home/fmind/mlops-python-package",
            "mlflow.source.type": "PROJECT",
            "mlflow.user": "fmind"
           },
           "fmind",
           "file:///home/fmind/mlops-python-package",
           "PROJECT",
           "main",
           "6baa64548d67a5bcf0a7f1422dfc8d45ed229aed",
           "git@github.com:fmind/mlops-python-package",
           "git@github.com:fmind/mlops-python-package",
           "Evaluations",
           "virtualenv",
           "local",
           null,
           null,
           null,
           null,
           null
          ]
         ],
         "fillcolor": "rgba(255,255,255,0)",
         "hoveron": "points",
         "hovertemplate": "<b>%{hovertext}</b><br><br>run_name=%{customdata[5]}<br>run_time_secs=%{x}<br>artifact_uri=%{customdata[0]}<br>end_time=%{customdata[1]}<br>experiment_id=%{customdata[2]}<br>lifecycle_stage=%{customdata[3]}<br>run_id=%{customdata[4]}<br>run_uuid=%{customdata[6]}<br>start_time=%{customdata[7]}<br>status=%{customdata[8]}<br>user_id=%{customdata[9]}<br>metrics=%{customdata[10]}<br>params=%{customdata[11]}<br>tags=%{customdata[12]}<br>mlflow.user=%{customdata[13]}<br>mlflow.source.name=%{customdata[14]}<br>mlflow.source.type=%{customdata[15]}<br>mlflow.project.entryPoint=%{customdata[16]}<br>mlflow.source.git.commit=%{customdata[17]}<br>mlflow.source.git.repoURL=%{customdata[18]}<br>mlflow.gitRepoURL=%{customdata[19]}<br>mlflow.runName=%{customdata[20]}<br>mlflow.project.env=%{customdata[21]}<br>mlflow.project.backend=%{customdata[22]}<br>estimator_name=%{customdata[23]}<br>estimator_class=%{customdata[24]}<br>mlflow.log-model.history=%{customdata[25]}<br>mlflow.autologging=%{customdata[26]}<br>mlflow.parentRunId=%{customdata[27]}<extra></extra>",
         "hovertext": [
          "9da0f31e36a9413eaab18149ace82c78",
          "f2823c6d05a545b793545d85b230d467",
          "ecc6bbcc06a14ac4a853f18a85d2aa79",
          "4177ef56fb0e4e4eaa7f7c443c46fc16",
          "f11653b8018e42f6825a2ac1c9443937"
         ],
         "legendgroup": "Evaluations",
         "line": {
          "color": "rgba(255,255,255,0)"
         },
         "marker": {
          "color": "#EF553B"
         },
         "name": "Evaluations",
         "offsetgroup": "Evaluations",
         "orientation": "h",
         "pointpos": 0,
         "showlegend": true,
         "type": "box",
         "x": [
          4.572,
          5.407,
          4.646,
          5.218,
          4.35
         ],
         "x0": " ",
         "xaxis": "x",
         "y0": " ",
         "yaxis": "y"
        },
        {
         "alignmentgroup": "True",
         "boxpoints": "all",
         "customdata": [
          [
           "file:///home/fmind/mlops-python-package/mlruns/892046783494697990/8316d6855d17401b8358e88a48c159f0/artifacts",
           "2024-12-09T21:26:12.215000",
           "892046783494697990",
           "active",
           "8316d6855d17401b8358e88a48c159f0",
           "Inference",
           "8316d6855d17401b8358e88a48c159f0",
           "2024-12-09T21:26:08.210000",
           "FINISHED",
           "fmind",
           {},
           {
            "conf_file": "confs/inference.yaml"
           },
           {
            "mlflow.gitRepoURL": "git@github.com:fmind/mlops-python-package",
            "mlflow.project.backend": "local",
            "mlflow.project.entryPoint": "main",
            "mlflow.project.env": "virtualenv",
            "mlflow.runName": "Inference",
            "mlflow.source.git.commit": "6baa64548d67a5bcf0a7f1422dfc8d45ed229aed",
            "mlflow.source.git.repoURL": "git@github.com:fmind/mlops-python-package",
            "mlflow.source.name": "file:///home/fmind/mlops-python-package",
            "mlflow.source.type": "PROJECT",
            "mlflow.user": "fmind"
           },
           "fmind",
           "file:///home/fmind/mlops-python-package",
           "PROJECT",
           "main",
           "6baa64548d67a5bcf0a7f1422dfc8d45ed229aed",
           "git@github.com:fmind/mlops-python-package",
           "git@github.com:fmind/mlops-python-package",
           "Inference",
           "virtualenv",
           "local",
           null,
           null,
           null,
           null,
           null
          ],
          [
           "file:///home/fmind/mlops-python-package/mlruns/892046783494697990/d40bfd6d238b4e999a8b9eac47f9932a/artifacts",
           "2024-12-09T20:16:01.543000",
           "892046783494697990",
           "active",
           "d40bfd6d238b4e999a8b9eac47f9932a",
           "Inference",
           "d40bfd6d238b4e999a8b9eac47f9932a",
           "2024-12-09T20:15:56.888000",
           "FINISHED",
           "fmind",
           {},
           {
            "conf_file": "confs/inference.yaml"
           },
           {
            "mlflow.gitRepoURL": "git@github.com:fmind/mlops-python-package",
            "mlflow.project.backend": "local",
            "mlflow.project.entryPoint": "main",
            "mlflow.project.env": "virtualenv",
            "mlflow.runName": "Inference",
            "mlflow.source.git.commit": "6baa64548d67a5bcf0a7f1422dfc8d45ed229aed",
            "mlflow.source.git.repoURL": "git@github.com:fmind/mlops-python-package",
            "mlflow.source.name": "file:///home/fmind/mlops-python-package",
            "mlflow.source.type": "PROJECT",
            "mlflow.user": "fmind"
           },
           "fmind",
           "file:///home/fmind/mlops-python-package",
           "PROJECT",
           "main",
           "6baa64548d67a5bcf0a7f1422dfc8d45ed229aed",
           "git@github.com:fmind/mlops-python-package",
           "git@github.com:fmind/mlops-python-package",
           "Inference",
           "virtualenv",
           "local",
           null,
           null,
           null,
           null,
           null
          ],
          [
           "file:///home/fmind/mlops-python-package/mlruns/892046783494697990/92f6f8fe787c4f489024a81181b7ab41/artifacts",
           "2024-12-09T19:33:20.732000",
           "892046783494697990",
           "active",
           "92f6f8fe787c4f489024a81181b7ab41",
           "Inference",
           "92f6f8fe787c4f489024a81181b7ab41",
           "2024-12-09T19:33:16.788000",
           "FINISHED",
           "fmind",
           {},
           {
            "conf_file": "confs/inference.yaml"
           },
           {
            "mlflow.gitRepoURL": "git@github.com:fmind/mlops-python-package",
            "mlflow.project.backend": "local",
            "mlflow.project.entryPoint": "main",
            "mlflow.project.env": "virtualenv",
            "mlflow.runName": "Inference",
            "mlflow.source.git.commit": "6baa64548d67a5bcf0a7f1422dfc8d45ed229aed",
            "mlflow.source.git.repoURL": "git@github.com:fmind/mlops-python-package",
            "mlflow.source.name": "file:///home/fmind/mlops-python-package",
            "mlflow.source.type": "PROJECT",
            "mlflow.user": "fmind"
           },
           "fmind",
           "file:///home/fmind/mlops-python-package",
           "PROJECT",
           "main",
           "6baa64548d67a5bcf0a7f1422dfc8d45ed229aed",
           "git@github.com:fmind/mlops-python-package",
           "git@github.com:fmind/mlops-python-package",
           "Inference",
           "virtualenv",
           "local",
           null,
           null,
           null,
           null,
           null
          ]
         ],
         "fillcolor": "rgba(255,255,255,0)",
         "hoveron": "points",
         "hovertemplate": "<b>%{hovertext}</b><br><br>run_name=%{customdata[5]}<br>run_time_secs=%{x}<br>artifact_uri=%{customdata[0]}<br>end_time=%{customdata[1]}<br>experiment_id=%{customdata[2]}<br>lifecycle_stage=%{customdata[3]}<br>run_id=%{customdata[4]}<br>run_uuid=%{customdata[6]}<br>start_time=%{customdata[7]}<br>status=%{customdata[8]}<br>user_id=%{customdata[9]}<br>metrics=%{customdata[10]}<br>params=%{customdata[11]}<br>tags=%{customdata[12]}<br>mlflow.user=%{customdata[13]}<br>mlflow.source.name=%{customdata[14]}<br>mlflow.source.type=%{customdata[15]}<br>mlflow.project.entryPoint=%{customdata[16]}<br>mlflow.source.git.commit=%{customdata[17]}<br>mlflow.source.git.repoURL=%{customdata[18]}<br>mlflow.gitRepoURL=%{customdata[19]}<br>mlflow.runName=%{customdata[20]}<br>mlflow.project.env=%{customdata[21]}<br>mlflow.project.backend=%{customdata[22]}<br>estimator_name=%{customdata[23]}<br>estimator_class=%{customdata[24]}<br>mlflow.log-model.history=%{customdata[25]}<br>mlflow.autologging=%{customdata[26]}<br>mlflow.parentRunId=%{customdata[27]}<extra></extra>",
         "hovertext": [
          "8316d6855d17401b8358e88a48c159f0",
          "d40bfd6d238b4e999a8b9eac47f9932a",
          "92f6f8fe787c4f489024a81181b7ab41"
         ],
         "legendgroup": "Inference",
         "line": {
          "color": "rgba(255,255,255,0)"
         },
         "marker": {
          "color": "#00cc96"
         },
         "name": "Inference",
         "offsetgroup": "Inference",
         "orientation": "h",
         "pointpos": 0,
         "showlegend": true,
         "type": "box",
         "x": [
          4.005,
          4.655,
          3.944
         ],
         "x0": " ",
         "xaxis": "x",
         "y0": " ",
         "yaxis": "y"
        },
        {
         "alignmentgroup": "True",
         "boxpoints": "all",
         "customdata": [
          [
           "file:///home/fmind/mlops-python-package/mlruns/892046783494697990/b92f959ab1564eb897e2f66f7089f573/artifacts",
           "2024-12-09T21:26:06.933000",
           "892046783494697990",
           "active",
           "b92f959ab1564eb897e2f66f7089f573",
           "Promotion",
           "b92f959ab1564eb897e2f66f7089f573",
           "2024-12-09T21:26:03.382000",
           "FINISHED",
           "fmind",
           {},
           {
            "conf_file": "confs/promotion.yaml"
           },
           {
            "mlflow.gitRepoURL": "git@github.com:fmind/mlops-python-package",
            "mlflow.project.backend": "local",
            "mlflow.project.entryPoint": "main",
            "mlflow.project.env": "virtualenv",
            "mlflow.runName": "Promotion",
            "mlflow.source.git.commit": "6baa64548d67a5bcf0a7f1422dfc8d45ed229aed",
            "mlflow.source.git.repoURL": "git@github.com:fmind/mlops-python-package",
            "mlflow.source.name": "file:///home/fmind/mlops-python-package",
            "mlflow.source.type": "PROJECT",
            "mlflow.user": "fmind"
           },
           "fmind",
           "file:///home/fmind/mlops-python-package",
           "PROJECT",
           "main",
           "6baa64548d67a5bcf0a7f1422dfc8d45ed229aed",
           "git@github.com:fmind/mlops-python-package",
           "git@github.com:fmind/mlops-python-package",
           "Promotion",
           "virtualenv",
           "local",
           null,
           null,
           null,
           null,
           null
          ],
          [
           "file:///home/fmind/mlops-python-package/mlruns/892046783494697990/0a425df1a36947cc912cc0abdc4c9fe1/artifacts",
           "2024-12-09T20:15:55.295000",
           "892046783494697990",
           "active",
           "0a425df1a36947cc912cc0abdc4c9fe1",
           "Promotion",
           "0a425df1a36947cc912cc0abdc4c9fe1",
           "2024-12-09T20:15:50.832000",
           "FINISHED",
           "fmind",
           {},
           {
            "conf_file": "confs/promotion.yaml"
           },
           {
            "mlflow.gitRepoURL": "git@github.com:fmind/mlops-python-package",
            "mlflow.project.backend": "local",
            "mlflow.project.entryPoint": "main",
            "mlflow.project.env": "virtualenv",
            "mlflow.runName": "Promotion",
            "mlflow.source.git.commit": "6baa64548d67a5bcf0a7f1422dfc8d45ed229aed",
            "mlflow.source.git.repoURL": "git@github.com:fmind/mlops-python-package",
            "mlflow.source.name": "file:///home/fmind/mlops-python-package",
            "mlflow.source.type": "PROJECT",
            "mlflow.user": "fmind"
           },
           "fmind",
           "file:///home/fmind/mlops-python-package",
           "PROJECT",
           "main",
           "6baa64548d67a5bcf0a7f1422dfc8d45ed229aed",
           "git@github.com:fmind/mlops-python-package",
           "git@github.com:fmind/mlops-python-package",
           "Promotion",
           "virtualenv",
           "local",
           null,
           null,
           null,
           null,
           null
          ],
          [
           "file:///home/fmind/mlops-python-package/mlruns/892046783494697990/88e2b857d3734cfe96ea207be49bba2f/artifacts",
           "2024-12-09T19:33:15.552000",
           "892046783494697990",
           "active",
           "88e2b857d3734cfe96ea207be49bba2f",
           "Promotion",
           "88e2b857d3734cfe96ea207be49bba2f",
           "2024-12-09T19:33:12.258000",
           "FINISHED",
           "fmind",
           {},
           {
            "conf_file": "confs/promotion.yaml"
           },
           {
            "mlflow.gitRepoURL": "git@github.com:fmind/mlops-python-package",
            "mlflow.project.backend": "local",
            "mlflow.project.entryPoint": "main",
            "mlflow.project.env": "virtualenv",
            "mlflow.runName": "Promotion",
            "mlflow.source.git.commit": "6baa64548d67a5bcf0a7f1422dfc8d45ed229aed",
            "mlflow.source.git.repoURL": "git@github.com:fmind/mlops-python-package",
            "mlflow.source.name": "file:///home/fmind/mlops-python-package",
            "mlflow.source.type": "PROJECT",
            "mlflow.user": "fmind"
           },
           "fmind",
           "file:///home/fmind/mlops-python-package",
           "PROJECT",
           "main",
           "6baa64548d67a5bcf0a7f1422dfc8d45ed229aed",
           "git@github.com:fmind/mlops-python-package",
           "git@github.com:fmind/mlops-python-package",
           "Promotion",
           "virtualenv",
           "local",
           null,
           null,
           null,
           null,
           null
          ]
         ],
         "fillcolor": "rgba(255,255,255,0)",
         "hoveron": "points",
         "hovertemplate": "<b>%{hovertext}</b><br><br>run_name=%{customdata[5]}<br>run_time_secs=%{x}<br>artifact_uri=%{customdata[0]}<br>end_time=%{customdata[1]}<br>experiment_id=%{customdata[2]}<br>lifecycle_stage=%{customdata[3]}<br>run_id=%{customdata[4]}<br>run_uuid=%{customdata[6]}<br>start_time=%{customdata[7]}<br>status=%{customdata[8]}<br>user_id=%{customdata[9]}<br>metrics=%{customdata[10]}<br>params=%{customdata[11]}<br>tags=%{customdata[12]}<br>mlflow.user=%{customdata[13]}<br>mlflow.source.name=%{customdata[14]}<br>mlflow.source.type=%{customdata[15]}<br>mlflow.project.entryPoint=%{customdata[16]}<br>mlflow.source.git.commit=%{customdata[17]}<br>mlflow.source.git.repoURL=%{customdata[18]}<br>mlflow.gitRepoURL=%{customdata[19]}<br>mlflow.runName=%{customdata[20]}<br>mlflow.project.env=%{customdata[21]}<br>mlflow.project.backend=%{customdata[22]}<br>estimator_name=%{customdata[23]}<br>estimator_class=%{customdata[24]}<br>mlflow.log-model.history=%{customdata[25]}<br>mlflow.autologging=%{customdata[26]}<br>mlflow.parentRunId=%{customdata[27]}<extra></extra>",
         "hovertext": [
          "b92f959ab1564eb897e2f66f7089f573",
          "0a425df1a36947cc912cc0abdc4c9fe1",
          "88e2b857d3734cfe96ea207be49bba2f"
         ],
         "legendgroup": "Promotion",
         "line": {
          "color": "rgba(255,255,255,0)"
         },
         "marker": {
          "color": "#ab63fa"
         },
         "name": "Promotion",
         "offsetgroup": "Promotion",
         "orientation": "h",
         "pointpos": 0,
         "showlegend": true,
         "type": "box",
         "x": [
          3.551,
          4.463,
          3.294
         ],
         "x0": " ",
         "xaxis": "x",
         "y0": " ",
         "yaxis": "y"
        },
        {
         "alignmentgroup": "True",
         "boxpoints": "all",
         "customdata": [
          [
           "file:///home/fmind/mlops-python-package/mlruns/892046783494697990/fc31f5b645204fdd9ef58fbbc0c105eb/artifacts",
           "2024-12-09T21:26:01.071000",
           "892046783494697990",
           "active",
           "fc31f5b645204fdd9ef58fbbc0c105eb",
           "Training",
           "fc31f5b645204fdd9ef58fbbc0c105eb",
           "2024-12-09T21:25:39.001000",
           "FINISHED",
           "fmind",
           {
            "mean_squared_error": -1786.7527777777775,
            "system/cpu_utilization_percentage": 25,
            "system/disk_available_megabytes": 11550.6,
            "system/disk_usage_megabytes": 104367.7,
            "system/disk_usage_percentage": 90,
            "system/network_receive_megabytes": 0,
            "system/network_transmit_megabytes": 0,
            "system/system_memory_usage_megabytes": 6226.8,
            "system/system_memory_usage_percentage": 41.3,
            "training_mean_absolute_error": 6.8051192198812736,
            "training_mean_squared_error": 124.51054615575788,
            "training_r2_score": 0.9948851411922456,
            "training_root_mean_squared_error": 11.158429376742852,
            "training_score": 0.9948851411922456
           },
           {
            "conf_file": "confs/training.yaml",
            "memory": "None",
            "regressor": "RandomForestRegressor(max_depth=20, n_estimators=200, random_state=42)",
            "regressor__bootstrap": "True",
            "regressor__ccp_alpha": "0.0",
            "regressor__criterion": "squared_error",
            "regressor__max_depth": "20",
            "regressor__max_features": "1.0",
            "regressor__max_leaf_nodes": "None",
            "regressor__max_samples": "None",
            "regressor__min_impurity_decrease": "0.0",
            "regressor__min_samples_leaf": "1",
            "regressor__min_samples_split": "2",
            "regressor__min_weight_fraction_leaf": "0.0",
            "regressor__monotonic_cst": "None",
            "regressor__n_estimators": "200",
            "regressor__n_jobs": "None",
            "regressor__oob_score": "False",
            "regressor__random_state": "42",
            "regressor__verbose": "0",
            "regressor__warm_start": "False",
            "steps": "[('transformer', ColumnTransformer(transformers=[('categoricals',\n                                 OneHotEncoder(handle_unknown='ignore',\n                                               sparse_output=False),\n                                 ['season', 'weathersit']),\n                                ('numericals', 'passthrough',\n                                 ['yr', 'mnth', 'hr', 'holiday', 'weekday',\n                                  'workingday', 'temp', 'atemp', 'hum',\n                                  'windspeed', 'casual'])])), ('regressor', RandomForestRegressor(max_depth=20, n_estimators=200, random_state=42))]",
            "transformer": "ColumnTransformer(transformers=[('categoricals',\n                                 OneHotEncoder(handle_unknown='ignore',\n                                               sparse_output=False),\n                                 ['season', 'weathersit']),\n                                ('numericals', 'passthrough',\n                                 ['yr', 'mnth', 'hr', 'holiday', 'weekday',\n                                  'workingday', 'temp', 'atemp', 'hum',\n                                  'windspeed', 'casual'])])",
            "transformer__categoricals": "OneHotEncoder(handle_unknown='ignore', sparse_output=False)",
            "transformer__categoricals__categories": "auto",
            "transformer__categoricals__drop": "None",
            "transformer__categoricals__dtype": "<class 'numpy.float64'>",
            "transformer__categoricals__feature_name_combiner": "concat",
            "transformer__categoricals__handle_unknown": "ignore",
            "transformer__categoricals__max_categories": "None",
            "transformer__categoricals__min_frequency": "None",
            "transformer__categoricals__sparse_output": "False",
            "transformer__force_int_remainder_cols": "True",
            "transformer__n_jobs": "None",
            "transformer__numericals": "passthrough",
            "transformer__remainder": "drop",
            "transformer__sparse_threshold": "0.3",
            "transformer__transformer_weights": "None",
            "transformer__transformers": "[('categoricals', OneHotEncoder(handle_unknown='ignore', sparse_output=False), ['season', 'weathersit']), ('numericals', 'passthrough', ['yr', 'mnth', 'hr', 'holiday', 'weekday', 'workingday', 'temp', 'atemp', 'hum', 'windspeed', 'casual'])]",
            "transformer__verbose": "False",
            "transformer__verbose_feature_names_out": "True",
            "verbose": "False"
           },
           {
            "estimator_class": "sklearn.pipeline.Pipeline",
            "estimator_name": "Pipeline",
            "mlflow.gitRepoURL": "git@github.com:fmind/mlops-python-package",
            "mlflow.log-model.history": "[{\"run_id\": \"fc31f5b645204fdd9ef58fbbc0c105eb\", \"artifact_path\": \"model\", \"utc_time_created\": \"2024-12-09 21:25:50.311693\", \"model_uuid\": \"3479cedd4b164da6929b186ac8a40509\", \"flavors\": {\"python_function\": {\"model_path\": \"model.pkl\", \"predict_fn\": \"predict\", \"loader_module\": \"mlflow.sklearn\", \"python_version\": \"3.12.7\", \"env\": {\"conda\": \"conda.yaml\", \"virtualenv\": \"python_env.yaml\"}}, \"sklearn\": {\"pickled_model\": \"model.pkl\", \"sklearn_version\": \"1.5.2\", \"serialization_format\": \"cloudpickle\", \"code\": null}}}, {\"run_id\": \"fc31f5b645204fdd9ef58fbbc0c105eb\", \"artifact_path\": \"model\", \"utc_time_created\": \"2024-12-09 21:25:53.843399\", \"model_uuid\": \"0b50f33451c845acae155bf366ecebf5\", \"flavors\": {\"python_function\": {\"streamable\": false, \"cloudpickle_version\": \"3.1.0\", \"python_model\": \"python_model.pkl\", \"loader_module\": \"mlflow.pyfunc.model\", \"python_version\": \"3.12.7\", \"env\": {\"conda\": \"conda.yaml\", \"virtualenv\": \"python_env.yaml\"}, \"code\": null}}}]",
            "mlflow.project.backend": "local",
            "mlflow.project.entryPoint": "main",
            "mlflow.project.env": "virtualenv",
            "mlflow.runName": "Training",
            "mlflow.source.git.commit": "6baa64548d67a5bcf0a7f1422dfc8d45ed229aed",
            "mlflow.source.git.repoURL": "git@github.com:fmind/mlops-python-package",
            "mlflow.source.name": "file:///home/fmind/mlops-python-package",
            "mlflow.source.type": "PROJECT",
            "mlflow.user": "fmind"
           },
           "fmind",
           "file:///home/fmind/mlops-python-package",
           "PROJECT",
           "main",
           "6baa64548d67a5bcf0a7f1422dfc8d45ed229aed",
           "git@github.com:fmind/mlops-python-package",
           "git@github.com:fmind/mlops-python-package",
           "Training",
           "virtualenv",
           "local",
           "Pipeline",
           "sklearn.pipeline.Pipeline",
           "[{\"run_id\": \"fc31f5b645204fdd9ef58fbbc0c105eb\", \"artifact_path\": \"model\", \"utc_time_created\": \"2024-12-09 21:25:50.311693\", \"model_uuid\": \"3479cedd4b164da6929b186ac8a40509\", \"flavors\": {\"python_function\": {\"model_path\": \"model.pkl\", \"predict_fn\": \"predict\", \"loader_module\": \"mlflow.sklearn\", \"python_version\": \"3.12.7\", \"env\": {\"conda\": \"conda.yaml\", \"virtualenv\": \"python_env.yaml\"}}, \"sklearn\": {\"pickled_model\": \"model.pkl\", \"sklearn_version\": \"1.5.2\", \"serialization_format\": \"cloudpickle\", \"code\": null}}}, {\"run_id\": \"fc31f5b645204fdd9ef58fbbc0c105eb\", \"artifact_path\": \"model\", \"utc_time_created\": \"2024-12-09 21:25:53.843399\", \"model_uuid\": \"0b50f33451c845acae155bf366ecebf5\", \"flavors\": {\"python_function\": {\"streamable\": false, \"cloudpickle_version\": \"3.1.0\", \"python_model\": \"python_model.pkl\", \"loader_module\": \"mlflow.pyfunc.model\", \"python_version\": \"3.12.7\", \"env\": {\"conda\": \"conda.yaml\", \"virtualenv\": \"python_env.yaml\"}, \"code\": null}}}]",
           null,
           null
          ],
          [
           "file:///home/fmind/mlops-python-package/mlruns/892046783494697990/abad34d51a2a4cffa328136540b455c0/artifacts",
           "2024-12-09T20:15:48.530000",
           "892046783494697990",
           "active",
           "abad34d51a2a4cffa328136540b455c0",
           "Training",
           "abad34d51a2a4cffa328136540b455c0",
           "2024-12-09T20:15:23.229000",
           "FINISHED",
           "fmind",
           {
            "mean_squared_error": -1786.7527777777775,
            "system/cpu_utilization_percentage": 8,
            "system/disk_available_megabytes": 11976.9,
            "system/disk_usage_megabytes": 103931.2,
            "system/disk_usage_percentage": 89.7,
            "system/network_receive_megabytes": 0.0021689999994123355,
            "system/network_transmit_megabytes": 0.002279000000044107,
            "system/system_memory_usage_megabytes": 5892.8,
            "system/system_memory_usage_percentage": 39.1,
            "training_mean_absolute_error": 6.8051192198812736,
            "training_mean_squared_error": 124.51054615575788,
            "training_r2_score": 0.9948851411922456,
            "training_root_mean_squared_error": 11.158429376742852,
            "training_score": 0.9948851411922456
           },
           {
            "conf_file": "confs/training.yaml",
            "memory": "None",
            "regressor": "RandomForestRegressor(max_depth=20, n_estimators=200, random_state=42)",
            "regressor__bootstrap": "True",
            "regressor__ccp_alpha": "0.0",
            "regressor__criterion": "squared_error",
            "regressor__max_depth": "20",
            "regressor__max_features": "1.0",
            "regressor__max_leaf_nodes": "None",
            "regressor__max_samples": "None",
            "regressor__min_impurity_decrease": "0.0",
            "regressor__min_samples_leaf": "1",
            "regressor__min_samples_split": "2",
            "regressor__min_weight_fraction_leaf": "0.0",
            "regressor__monotonic_cst": "None",
            "regressor__n_estimators": "200",
            "regressor__n_jobs": "None",
            "regressor__oob_score": "False",
            "regressor__random_state": "42",
            "regressor__verbose": "0",
            "regressor__warm_start": "False",
            "steps": "[('transformer', ColumnTransformer(transformers=[('categoricals',\n                                 OneHotEncoder(handle_unknown='ignore',\n                                               sparse_output=False),\n                                 ['season', 'weathersit']),\n                                ('numericals', 'passthrough',\n                                 ['yr', 'mnth', 'hr', 'holiday', 'weekday',\n                                  'workingday', 'temp', 'atemp', 'hum',\n                                  'windspeed', 'casual'])])), ('regressor', RandomForestRegressor(max_depth=20, n_estimators=200, random_state=42))]",
            "transformer": "ColumnTransformer(transformers=[('categoricals',\n                                 OneHotEncoder(handle_unknown='ignore',\n                                               sparse_output=False),\n                                 ['season', 'weathersit']),\n                                ('numericals', 'passthrough',\n                                 ['yr', 'mnth', 'hr', 'holiday', 'weekday',\n                                  'workingday', 'temp', 'atemp', 'hum',\n                                  'windspeed', 'casual'])])",
            "transformer__categoricals": "OneHotEncoder(handle_unknown='ignore', sparse_output=False)",
            "transformer__categoricals__categories": "auto",
            "transformer__categoricals__drop": "None",
            "transformer__categoricals__dtype": "<class 'numpy.float64'>",
            "transformer__categoricals__feature_name_combiner": "concat",
            "transformer__categoricals__handle_unknown": "ignore",
            "transformer__categoricals__max_categories": "None",
            "transformer__categoricals__min_frequency": "None",
            "transformer__categoricals__sparse_output": "False",
            "transformer__force_int_remainder_cols": "True",
            "transformer__n_jobs": "None",
            "transformer__numericals": "passthrough",
            "transformer__remainder": "drop",
            "transformer__sparse_threshold": "0.3",
            "transformer__transformer_weights": "None",
            "transformer__transformers": "[('categoricals', OneHotEncoder(handle_unknown='ignore', sparse_output=False), ['season', 'weathersit']), ('numericals', 'passthrough', ['yr', 'mnth', 'hr', 'holiday', 'weekday', 'workingday', 'temp', 'atemp', 'hum', 'windspeed', 'casual'])]",
            "transformer__verbose": "False",
            "transformer__verbose_feature_names_out": "True",
            "verbose": "False"
           },
           {
            "estimator_class": "sklearn.pipeline.Pipeline",
            "estimator_name": "Pipeline",
            "mlflow.gitRepoURL": "git@github.com:fmind/mlops-python-package",
            "mlflow.log-model.history": "[{\"run_id\": \"abad34d51a2a4cffa328136540b455c0\", \"artifact_path\": \"model\", \"utc_time_created\": \"2024-12-09 20:15:36.204115\", \"model_uuid\": \"fe2207a51a9e4044908492f3b08b501a\", \"flavors\": {\"python_function\": {\"model_path\": \"model.pkl\", \"predict_fn\": \"predict\", \"loader_module\": \"mlflow.sklearn\", \"python_version\": \"3.12.7\", \"env\": {\"conda\": \"conda.yaml\", \"virtualenv\": \"python_env.yaml\"}}, \"sklearn\": {\"pickled_model\": \"model.pkl\", \"sklearn_version\": \"1.5.2\", \"serialization_format\": \"cloudpickle\", \"code\": null}}}, {\"run_id\": \"abad34d51a2a4cffa328136540b455c0\", \"artifact_path\": \"model\", \"utc_time_created\": \"2024-12-09 20:15:40.634927\", \"model_uuid\": \"f44319bad67247bfbb342d00bb00963e\", \"flavors\": {\"python_function\": {\"streamable\": false, \"cloudpickle_version\": \"3.1.0\", \"python_model\": \"python_model.pkl\", \"loader_module\": \"mlflow.pyfunc.model\", \"python_version\": \"3.12.7\", \"env\": {\"conda\": \"conda.yaml\", \"virtualenv\": \"python_env.yaml\"}, \"code\": null}}}]",
            "mlflow.project.backend": "local",
            "mlflow.project.entryPoint": "main",
            "mlflow.project.env": "virtualenv",
            "mlflow.runName": "Training",
            "mlflow.source.git.commit": "6baa64548d67a5bcf0a7f1422dfc8d45ed229aed",
            "mlflow.source.git.repoURL": "git@github.com:fmind/mlops-python-package",
            "mlflow.source.name": "file:///home/fmind/mlops-python-package",
            "mlflow.source.type": "PROJECT",
            "mlflow.user": "fmind"
           },
           "fmind",
           "file:///home/fmind/mlops-python-package",
           "PROJECT",
           "main",
           "6baa64548d67a5bcf0a7f1422dfc8d45ed229aed",
           "git@github.com:fmind/mlops-python-package",
           "git@github.com:fmind/mlops-python-package",
           "Training",
           "virtualenv",
           "local",
           "Pipeline",
           "sklearn.pipeline.Pipeline",
           "[{\"run_id\": \"abad34d51a2a4cffa328136540b455c0\", \"artifact_path\": \"model\", \"utc_time_created\": \"2024-12-09 20:15:36.204115\", \"model_uuid\": \"fe2207a51a9e4044908492f3b08b501a\", \"flavors\": {\"python_function\": {\"model_path\": \"model.pkl\", \"predict_fn\": \"predict\", \"loader_module\": \"mlflow.sklearn\", \"python_version\": \"3.12.7\", \"env\": {\"conda\": \"conda.yaml\", \"virtualenv\": \"python_env.yaml\"}}, \"sklearn\": {\"pickled_model\": \"model.pkl\", \"sklearn_version\": \"1.5.2\", \"serialization_format\": \"cloudpickle\", \"code\": null}}}, {\"run_id\": \"abad34d51a2a4cffa328136540b455c0\", \"artifact_path\": \"model\", \"utc_time_created\": \"2024-12-09 20:15:40.634927\", \"model_uuid\": \"f44319bad67247bfbb342d00bb00963e\", \"flavors\": {\"python_function\": {\"streamable\": false, \"cloudpickle_version\": \"3.1.0\", \"python_model\": \"python_model.pkl\", \"loader_module\": \"mlflow.pyfunc.model\", \"python_version\": \"3.12.7\", \"env\": {\"conda\": \"conda.yaml\", \"virtualenv\": \"python_env.yaml\"}, \"code\": null}}}]",
           null,
           null
          ],
          [
           "file:///home/fmind/mlops-python-package/mlruns/892046783494697990/ca4c7550ad354be9a2f10f7eade8d47e/artifacts",
           "2024-12-09T19:33:10.574000",
           "892046783494697990",
           "active",
           "ca4c7550ad354be9a2f10f7eade8d47e",
           "Training",
           "ca4c7550ad354be9a2f10f7eade8d47e",
           "2024-12-09T19:32:47.406000",
           "FINISHED",
           "fmind",
           {
            "mean_squared_error": -1786.7527777777775,
            "system/cpu_utilization_percentage": 100,
            "system/disk_available_megabytes": 13904.4,
            "system/disk_usage_megabytes": 101839,
            "system/disk_usage_percentage": 88,
            "system/network_receive_megabytes": 0,
            "system/network_transmit_megabytes": 0,
            "system/system_memory_usage_megabytes": 5196,
            "system/system_memory_usage_percentage": 34.5,
            "training_mean_absolute_error": 6.8051192198812736,
            "training_mean_squared_error": 124.51054615575788,
            "training_r2_score": 0.9948851411922456,
            "training_root_mean_squared_error": 11.158429376742852,
            "training_score": 0.9948851411922456
           },
           {
            "conf_file": "confs/training.yaml",
            "memory": "None",
            "regressor": "RandomForestRegressor(max_depth=20, n_estimators=200, random_state=42)",
            "regressor__bootstrap": "True",
            "regressor__ccp_alpha": "0.0",
            "regressor__criterion": "squared_error",
            "regressor__max_depth": "20",
            "regressor__max_features": "1.0",
            "regressor__max_leaf_nodes": "None",
            "regressor__max_samples": "None",
            "regressor__min_impurity_decrease": "0.0",
            "regressor__min_samples_leaf": "1",
            "regressor__min_samples_split": "2",
            "regressor__min_weight_fraction_leaf": "0.0",
            "regressor__monotonic_cst": "None",
            "regressor__n_estimators": "200",
            "regressor__n_jobs": "None",
            "regressor__oob_score": "False",
            "regressor__random_state": "42",
            "regressor__verbose": "0",
            "regressor__warm_start": "False",
            "steps": "[('transformer', ColumnTransformer(transformers=[('categoricals',\n                                 OneHotEncoder(handle_unknown='ignore',\n                                               sparse_output=False),\n                                 ['season', 'weathersit']),\n                                ('numericals', 'passthrough',\n                                 ['yr', 'mnth', 'hr', 'holiday', 'weekday',\n                                  'workingday', 'temp', 'atemp', 'hum',\n                                  'windspeed', 'casual'])])), ('regressor', RandomForestRegressor(max_depth=20, n_estimators=200, random_state=42))]",
            "transform_input": "None",
            "transformer": "ColumnTransformer(transformers=[('categoricals',\n                                 OneHotEncoder(handle_unknown='ignore',\n                                               sparse_output=False),\n                                 ['season', 'weathersit']),\n                                ('numericals', 'passthrough',\n                                 ['yr', 'mnth', 'hr', 'holiday', 'weekday',\n                                  'workingday', 'temp', 'atemp', 'hum',\n                                  'windspeed', 'casual'])])",
            "transformer__categoricals": "OneHotEncoder(handle_unknown='ignore', sparse_output=False)",
            "transformer__categoricals__categories": "auto",
            "transformer__categoricals__drop": "None",
            "transformer__categoricals__dtype": "<class 'numpy.float64'>",
            "transformer__categoricals__feature_name_combiner": "concat",
            "transformer__categoricals__handle_unknown": "ignore",
            "transformer__categoricals__max_categories": "None",
            "transformer__categoricals__min_frequency": "None",
            "transformer__categoricals__sparse_output": "False",
            "transformer__force_int_remainder_cols": "True",
            "transformer__n_jobs": "None",
            "transformer__numericals": "passthrough",
            "transformer__remainder": "drop",
            "transformer__sparse_threshold": "0.3",
            "transformer__transformer_weights": "None",
            "transformer__transformers": "[('categoricals', OneHotEncoder(handle_unknown='ignore', sparse_output=False), ['season', 'weathersit']), ('numericals', 'passthrough', ['yr', 'mnth', 'hr', 'holiday', 'weekday', 'workingday', 'temp', 'atemp', 'hum', 'windspeed', 'casual'])]",
            "transformer__verbose": "False",
            "transformer__verbose_feature_names_out": "True",
            "verbose": "False"
           },
           {
            "estimator_class": "sklearn.pipeline.Pipeline",
            "estimator_name": "Pipeline",
            "mlflow.gitRepoURL": "git@github.com:fmind/mlops-python-package",
            "mlflow.log-model.history": "[{\"run_id\": \"ca4c7550ad354be9a2f10f7eade8d47e\", \"artifact_path\": \"model\", \"utc_time_created\": \"2024-12-09 19:32:59.722969\", \"model_uuid\": \"d925b66d7b954d01aeee5c19cbdf12cd\", \"flavors\": {\"python_function\": {\"model_path\": \"model.pkl\", \"predict_fn\": \"predict\", \"loader_module\": \"mlflow.sklearn\", \"python_version\": \"3.12.7\", \"env\": {\"conda\": \"conda.yaml\", \"virtualenv\": \"python_env.yaml\"}}, \"sklearn\": {\"pickled_model\": \"model.pkl\", \"sklearn_version\": \"1.6.0\", \"serialization_format\": \"cloudpickle\", \"code\": null}}}, {\"run_id\": \"ca4c7550ad354be9a2f10f7eade8d47e\", \"artifact_path\": \"model\", \"utc_time_created\": \"2024-12-09 19:33:04.014747\", \"model_uuid\": \"31d6dd9554bf41f79dea63dfea57b515\", \"flavors\": {\"python_function\": {\"streamable\": false, \"cloudpickle_version\": \"3.1.0\", \"python_model\": \"python_model.pkl\", \"loader_module\": \"mlflow.pyfunc.model\", \"python_version\": \"3.12.7\", \"env\": {\"conda\": \"conda.yaml\", \"virtualenv\": \"python_env.yaml\"}, \"code\": null}}}]",
            "mlflow.project.backend": "local",
            "mlflow.project.entryPoint": "main",
            "mlflow.project.env": "virtualenv",
            "mlflow.runName": "Training",
            "mlflow.source.git.commit": "6baa64548d67a5bcf0a7f1422dfc8d45ed229aed",
            "mlflow.source.git.repoURL": "git@github.com:fmind/mlops-python-package",
            "mlflow.source.name": "file:///home/fmind/mlops-python-package",
            "mlflow.source.type": "PROJECT",
            "mlflow.user": "fmind"
           },
           "fmind",
           "file:///home/fmind/mlops-python-package",
           "PROJECT",
           "main",
           "6baa64548d67a5bcf0a7f1422dfc8d45ed229aed",
           "git@github.com:fmind/mlops-python-package",
           "git@github.com:fmind/mlops-python-package",
           "Training",
           "virtualenv",
           "local",
           "Pipeline",
           "sklearn.pipeline.Pipeline",
           "[{\"run_id\": \"ca4c7550ad354be9a2f10f7eade8d47e\", \"artifact_path\": \"model\", \"utc_time_created\": \"2024-12-09 19:32:59.722969\", \"model_uuid\": \"d925b66d7b954d01aeee5c19cbdf12cd\", \"flavors\": {\"python_function\": {\"model_path\": \"model.pkl\", \"predict_fn\": \"predict\", \"loader_module\": \"mlflow.sklearn\", \"python_version\": \"3.12.7\", \"env\": {\"conda\": \"conda.yaml\", \"virtualenv\": \"python_env.yaml\"}}, \"sklearn\": {\"pickled_model\": \"model.pkl\", \"sklearn_version\": \"1.6.0\", \"serialization_format\": \"cloudpickle\", \"code\": null}}}, {\"run_id\": \"ca4c7550ad354be9a2f10f7eade8d47e\", \"artifact_path\": \"model\", \"utc_time_created\": \"2024-12-09 19:33:04.014747\", \"model_uuid\": \"31d6dd9554bf41f79dea63dfea57b515\", \"flavors\": {\"python_function\": {\"streamable\": false, \"cloudpickle_version\": \"3.1.0\", \"python_model\": \"python_model.pkl\", \"loader_module\": \"mlflow.pyfunc.model\", \"python_version\": \"3.12.7\", \"env\": {\"conda\": \"conda.yaml\", \"virtualenv\": \"python_env.yaml\"}, \"code\": null}}}]",
           null,
           null
          ]
         ],
         "fillcolor": "rgba(255,255,255,0)",
         "hoveron": "points",
         "hovertemplate": "<b>%{hovertext}</b><br><br>run_name=%{customdata[5]}<br>run_time_secs=%{x}<br>artifact_uri=%{customdata[0]}<br>end_time=%{customdata[1]}<br>experiment_id=%{customdata[2]}<br>lifecycle_stage=%{customdata[3]}<br>run_id=%{customdata[4]}<br>run_uuid=%{customdata[6]}<br>start_time=%{customdata[7]}<br>status=%{customdata[8]}<br>user_id=%{customdata[9]}<br>metrics=%{customdata[10]}<br>params=%{customdata[11]}<br>tags=%{customdata[12]}<br>mlflow.user=%{customdata[13]}<br>mlflow.source.name=%{customdata[14]}<br>mlflow.source.type=%{customdata[15]}<br>mlflow.project.entryPoint=%{customdata[16]}<br>mlflow.source.git.commit=%{customdata[17]}<br>mlflow.source.git.repoURL=%{customdata[18]}<br>mlflow.gitRepoURL=%{customdata[19]}<br>mlflow.runName=%{customdata[20]}<br>mlflow.project.env=%{customdata[21]}<br>mlflow.project.backend=%{customdata[22]}<br>estimator_name=%{customdata[23]}<br>estimator_class=%{customdata[24]}<br>mlflow.log-model.history=%{customdata[25]}<br>mlflow.autologging=%{customdata[26]}<br>mlflow.parentRunId=%{customdata[27]}<extra></extra>",
         "hovertext": [
          "fc31f5b645204fdd9ef58fbbc0c105eb",
          "abad34d51a2a4cffa328136540b455c0",
          "ca4c7550ad354be9a2f10f7eade8d47e"
         ],
         "legendgroup": "Training",
         "line": {
          "color": "rgba(255,255,255,0)"
         },
         "marker": {
          "color": "#FFA15A"
         },
         "name": "Training",
         "offsetgroup": "Training",
         "orientation": "h",
         "pointpos": 0,
         "showlegend": true,
         "type": "box",
         "x": [
          22.07,
          25.301,
          23.168
         ],
         "x0": " ",
         "xaxis": "x",
         "y0": " ",
         "yaxis": "y"
        },
        {
         "alignmentgroup": "True",
         "boxpoints": "all",
         "customdata": [
          [
           "file:///home/fmind/mlops-python-package/mlruns/892046783494697990/2d2ec19f48a040e4af90b20fdf7e6575/artifacts",
           "2024-12-09T21:25:36.982000",
           "892046783494697990",
           "active",
           "2d2ec19f48a040e4af90b20fdf7e6575",
           "angry-dog-423",
           "2d2ec19f48a040e4af90b20fdf7e6575",
           "2024-12-09T21:25:03.572000",
           "FINISHED",
           "fmind",
           {
            "mean_fit_time": 1.0932143330574036,
            "mean_score_time": 0.038968682289123535,
            "mean_test_score": -16644.957118055558,
            "rank_test_score": 3,
            "std_fit_time": 0.15177696215903197,
            "std_score_time": 0.0005394662396354217,
            "std_test_score": 5315.459715152708
           },
           {
            "max_depth": "3",
            "n_estimators": "200",
            "random_state": "42"
           },
           {
            "estimator_class": "bikes.core.models.BaselineSklearnModel",
            "estimator_name": "BaselineSklearnModel",
            "mlflow.autologging": "sklearn",
            "mlflow.parentRunId": "5ded1a1700cc4e0ea786ed96cc15c410",
            "mlflow.runName": "angry-dog-423",
            "mlflow.source.git.commit": "6baa64548d67a5bcf0a7f1422dfc8d45ed229aed",
            "mlflow.source.name": "/home/fmind/mlops-python-package/src/bikes/__main__.py",
            "mlflow.source.type": "LOCAL",
            "mlflow.user": "fmind"
           },
           "fmind",
           "/home/fmind/mlops-python-package/src/bikes/__main__.py",
           "LOCAL",
           null,
           "6baa64548d67a5bcf0a7f1422dfc8d45ed229aed",
           null,
           null,
           "angry-dog-423",
           null,
           null,
           "BaselineSklearnModel",
           "bikes.core.models.BaselineSklearnModel",
           null,
           "sklearn",
           "5ded1a1700cc4e0ea786ed96cc15c410"
          ]
         ],
         "fillcolor": "rgba(255,255,255,0)",
         "hoveron": "points",
         "hovertemplate": "<b>%{hovertext}</b><br><br>run_name=%{customdata[5]}<br>run_time_secs=%{x}<br>artifact_uri=%{customdata[0]}<br>end_time=%{customdata[1]}<br>experiment_id=%{customdata[2]}<br>lifecycle_stage=%{customdata[3]}<br>run_id=%{customdata[4]}<br>run_uuid=%{customdata[6]}<br>start_time=%{customdata[7]}<br>status=%{customdata[8]}<br>user_id=%{customdata[9]}<br>metrics=%{customdata[10]}<br>params=%{customdata[11]}<br>tags=%{customdata[12]}<br>mlflow.user=%{customdata[13]}<br>mlflow.source.name=%{customdata[14]}<br>mlflow.source.type=%{customdata[15]}<br>mlflow.project.entryPoint=%{customdata[16]}<br>mlflow.source.git.commit=%{customdata[17]}<br>mlflow.source.git.repoURL=%{customdata[18]}<br>mlflow.gitRepoURL=%{customdata[19]}<br>mlflow.runName=%{customdata[20]}<br>mlflow.project.env=%{customdata[21]}<br>mlflow.project.backend=%{customdata[22]}<br>estimator_name=%{customdata[23]}<br>estimator_class=%{customdata[24]}<br>mlflow.log-model.history=%{customdata[25]}<br>mlflow.autologging=%{customdata[26]}<br>mlflow.parentRunId=%{customdata[27]}<extra></extra>",
         "hovertext": [
          "2d2ec19f48a040e4af90b20fdf7e6575"
         ],
         "legendgroup": "angry-dog-423",
         "line": {
          "color": "rgba(255,255,255,0)"
         },
         "marker": {
          "color": "#19d3f3"
         },
         "name": "angry-dog-423",
         "offsetgroup": "angry-dog-423",
         "orientation": "h",
         "pointpos": 0,
         "showlegend": true,
         "type": "box",
         "x": [
          33.41
         ],
         "x0": " ",
         "xaxis": "x",
         "y0": " ",
         "yaxis": "y"
        },
        {
         "alignmentgroup": "True",
         "boxpoints": "all",
         "customdata": [
          [
           "file:///home/fmind/mlops-python-package/mlruns/892046783494697990/352518f26eef4fa38bcd37c0e91c9f97/artifacts",
           "2024-12-09T21:25:36.982000",
           "892046783494697990",
           "active",
           "352518f26eef4fa38bcd37c0e91c9f97",
           "lyrical-snail-804",
           "352518f26eef4fa38bcd37c0e91c9f97",
           "2024-12-09T21:25:03.572000",
           "FINISHED",
           "fmind",
           {
            "mean_fit_time": 2.202679216861725,
            "mean_score_time": 0.041945457458496094,
            "mean_test_score": -5517.252604166667,
            "rank_test_score": 1,
            "std_fit_time": 0.32352226262719747,
            "std_score_time": 0.0005519371825696691,
            "std_test_score": 1613.520146542553
           },
           {
            "max_depth": "7",
            "n_estimators": "200",
            "random_state": "42"
           },
           {
            "estimator_class": "bikes.core.models.BaselineSklearnModel",
            "estimator_name": "BaselineSklearnModel",
            "mlflow.autologging": "sklearn",
            "mlflow.parentRunId": "5ded1a1700cc4e0ea786ed96cc15c410",
            "mlflow.runName": "lyrical-snail-804",
            "mlflow.source.git.commit": "6baa64548d67a5bcf0a7f1422dfc8d45ed229aed",
            "mlflow.source.name": "/home/fmind/mlops-python-package/src/bikes/__main__.py",
            "mlflow.source.type": "LOCAL",
            "mlflow.user": "fmind"
           },
           "fmind",
           "/home/fmind/mlops-python-package/src/bikes/__main__.py",
           "LOCAL",
           null,
           "6baa64548d67a5bcf0a7f1422dfc8d45ed229aed",
           null,
           null,
           "lyrical-snail-804",
           null,
           null,
           "BaselineSklearnModel",
           "bikes.core.models.BaselineSklearnModel",
           null,
           "sklearn",
           "5ded1a1700cc4e0ea786ed96cc15c410"
          ]
         ],
         "fillcolor": "rgba(255,255,255,0)",
         "hoveron": "points",
         "hovertemplate": "<b>%{hovertext}</b><br><br>run_name=%{customdata[5]}<br>run_time_secs=%{x}<br>artifact_uri=%{customdata[0]}<br>end_time=%{customdata[1]}<br>experiment_id=%{customdata[2]}<br>lifecycle_stage=%{customdata[3]}<br>run_id=%{customdata[4]}<br>run_uuid=%{customdata[6]}<br>start_time=%{customdata[7]}<br>status=%{customdata[8]}<br>user_id=%{customdata[9]}<br>metrics=%{customdata[10]}<br>params=%{customdata[11]}<br>tags=%{customdata[12]}<br>mlflow.user=%{customdata[13]}<br>mlflow.source.name=%{customdata[14]}<br>mlflow.source.type=%{customdata[15]}<br>mlflow.project.entryPoint=%{customdata[16]}<br>mlflow.source.git.commit=%{customdata[17]}<br>mlflow.source.git.repoURL=%{customdata[18]}<br>mlflow.gitRepoURL=%{customdata[19]}<br>mlflow.runName=%{customdata[20]}<br>mlflow.project.env=%{customdata[21]}<br>mlflow.project.backend=%{customdata[22]}<br>estimator_name=%{customdata[23]}<br>estimator_class=%{customdata[24]}<br>mlflow.log-model.history=%{customdata[25]}<br>mlflow.autologging=%{customdata[26]}<br>mlflow.parentRunId=%{customdata[27]}<extra></extra>",
         "hovertext": [
          "352518f26eef4fa38bcd37c0e91c9f97"
         ],
         "legendgroup": "lyrical-snail-804",
         "line": {
          "color": "rgba(255,255,255,0)"
         },
         "marker": {
          "color": "#FF6692"
         },
         "name": "lyrical-snail-804",
         "offsetgroup": "lyrical-snail-804",
         "orientation": "h",
         "pointpos": 0,
         "showlegend": true,
         "type": "box",
         "x": [
          33.41
         ],
         "x0": " ",
         "xaxis": "x",
         "y0": " ",
         "yaxis": "y"
        },
        {
         "alignmentgroup": "True",
         "boxpoints": "all",
         "customdata": [
          [
           "file:///home/fmind/mlops-python-package/mlruns/892046783494697990/5ded1a1700cc4e0ea786ed96cc15c410/artifacts",
           "2024-12-09T21:25:37.702000",
           "892046783494697990",
           "active",
           "5ded1a1700cc4e0ea786ed96cc15c410",
           "Tuning",
           "5ded1a1700cc4e0ea786ed96cc15c410",
           "2024-12-09T21:25:03.572000",
           "FINISHED",
           "fmind",
           {
            "best_cv_score": -5517.252604166667,
            "system/cpu_utilization_percentage": 9.7,
            "system/disk_available_megabytes": 11550.6,
            "system/disk_usage_megabytes": 104367.7,
            "system/disk_usage_percentage": 90,
            "system/network_receive_megabytes": 0.00699700000041048,
            "system/network_transmit_megabytes": 0.007774000000154047,
            "system/system_memory_usage_megabytes": 6252.9,
            "system/system_memory_usage_percentage": 41.5,
            "training_score": -1951.0630079838884
           },
           {
            "best_max_depth": "7",
            "conf_file": "confs/tuning.yaml",
            "cv": "KIND='TimeSeriesSplitter' gap=0 n_splits=4 test_size=1440",
            "error_score": "raise",
            "estimator": "KIND='BaselineSklearnModel' max_depth=20 n_estimators=200 random_state=42",
            "n_jobs": "None",
            "param_grid": "{'max_depth': [3, 5, 7]}",
            "pre_dispatch": "2*n_jobs",
            "refit": "True",
            "return_train_score": "False",
            "scoring": "<bound method Metric.scorer of SklearnMetric(KIND='SklearnMetric', name='mean_squared_error', greater_is_better=False)>",
            "verbose": "3"
           },
           {
            "estimator_class": "sklearn.model_selection._search.GridSearchCV",
            "estimator_name": "GridSearchCV",
            "mlflow.gitRepoURL": "git@github.com:fmind/mlops-python-package",
            "mlflow.log-model.history": "[{\"run_id\": \"5ded1a1700cc4e0ea786ed96cc15c410\", \"artifact_path\": \"model\", \"utc_time_created\": \"2024-12-09 21:25:30.717827\", \"model_uuid\": \"aa3b9d7746ac436d86292c4c55d3ce29\", \"flavors\": {\"python_function\": {\"model_path\": \"model.pkl\", \"predict_fn\": \"predict\", \"loader_module\": \"mlflow.sklearn\", \"python_version\": \"3.12.7\", \"env\": {\"conda\": \"conda.yaml\", \"virtualenv\": \"python_env.yaml\"}}, \"sklearn\": {\"pickled_model\": \"model.pkl\", \"sklearn_version\": \"1.5.2\", \"serialization_format\": \"cloudpickle\", \"code\": null}}}, {\"run_id\": \"5ded1a1700cc4e0ea786ed96cc15c410\", \"artifact_path\": \"best_estimator\", \"utc_time_created\": \"2024-12-09 21:25:34.349513\", \"model_uuid\": \"0406ff5b9abe4e68b91a8c55af172213\", \"flavors\": {\"python_function\": {\"model_path\": \"model.pkl\", \"predict_fn\": \"predict\", \"loader_module\": \"mlflow.sklearn\", \"python_version\": \"3.12.7\", \"env\": {\"conda\": \"conda.yaml\", \"virtualenv\": \"python_env.yaml\"}}, \"sklearn\": {\"pickled_model\": \"model.pkl\", \"sklearn_version\": \"1.5.2\", \"serialization_format\": \"cloudpickle\", \"code\": null}}}]",
            "mlflow.project.backend": "local",
            "mlflow.project.entryPoint": "main",
            "mlflow.project.env": "virtualenv",
            "mlflow.runName": "Tuning",
            "mlflow.source.git.commit": "6baa64548d67a5bcf0a7f1422dfc8d45ed229aed",
            "mlflow.source.git.repoURL": "git@github.com:fmind/mlops-python-package",
            "mlflow.source.name": "file:///home/fmind/mlops-python-package",
            "mlflow.source.type": "PROJECT",
            "mlflow.user": "fmind"
           },
           "fmind",
           "file:///home/fmind/mlops-python-package",
           "PROJECT",
           "main",
           "6baa64548d67a5bcf0a7f1422dfc8d45ed229aed",
           "git@github.com:fmind/mlops-python-package",
           "git@github.com:fmind/mlops-python-package",
           "Tuning",
           "virtualenv",
           "local",
           "GridSearchCV",
           "sklearn.model_selection._search.GridSearchCV",
           "[{\"run_id\": \"5ded1a1700cc4e0ea786ed96cc15c410\", \"artifact_path\": \"model\", \"utc_time_created\": \"2024-12-09 21:25:30.717827\", \"model_uuid\": \"aa3b9d7746ac436d86292c4c55d3ce29\", \"flavors\": {\"python_function\": {\"model_path\": \"model.pkl\", \"predict_fn\": \"predict\", \"loader_module\": \"mlflow.sklearn\", \"python_version\": \"3.12.7\", \"env\": {\"conda\": \"conda.yaml\", \"virtualenv\": \"python_env.yaml\"}}, \"sklearn\": {\"pickled_model\": \"model.pkl\", \"sklearn_version\": \"1.5.2\", \"serialization_format\": \"cloudpickle\", \"code\": null}}}, {\"run_id\": \"5ded1a1700cc4e0ea786ed96cc15c410\", \"artifact_path\": \"best_estimator\", \"utc_time_created\": \"2024-12-09 21:25:34.349513\", \"model_uuid\": \"0406ff5b9abe4e68b91a8c55af172213\", \"flavors\": {\"python_function\": {\"model_path\": \"model.pkl\", \"predict_fn\": \"predict\", \"loader_module\": \"mlflow.sklearn\", \"python_version\": \"3.12.7\", \"env\": {\"conda\": \"conda.yaml\", \"virtualenv\": \"python_env.yaml\"}}, \"sklearn\": {\"pickled_model\": \"model.pkl\", \"sklearn_version\": \"1.5.2\", \"serialization_format\": \"cloudpickle\", \"code\": null}}}]",
           null,
           null
          ],
          [
           "file:///home/fmind/mlops-python-package/mlruns/892046783494697990/2bb5da83357d443eb0346606326770ae/artifacts",
           "2024-12-09T20:15:21.479000",
           "892046783494697990",
           "active",
           "2bb5da83357d443eb0346606326770ae",
           "Tuning",
           "2bb5da83357d443eb0346606326770ae",
           "2024-12-09T20:11:34.899000",
           "FINISHED",
           "fmind",
           {
            "best_cv_score": -5517.252604166667,
            "system/cpu_utilization_percentage": 19.1,
            "system/disk_available_megabytes": 12079.1,
            "system/disk_usage_megabytes": 103828.7,
            "system/disk_usage_percentage": 89.6,
            "system/network_receive_megabytes": 0.006941999999980908,
            "system/network_transmit_megabytes": 0.00029599999993479287,
            "system/system_memory_usage_megabytes": 11827.8,
            "system/system_memory_usage_percentage": 78.4,
            "training_score": -1951.0630079838884
           },
           {
            "best_max_depth": "7",
            "conf_file": "confs/tuning.yaml",
            "cv": "KIND='TimeSeriesSplitter' gap=0 n_splits=4 test_size=1440",
            "error_score": "raise",
            "estimator": "KIND='BaselineSklearnModel' max_depth=20 n_estimators=200 random_state=42",
            "n_jobs": "None",
            "param_grid": "{'max_depth': [3, 5, 7]}",
            "pre_dispatch": "2*n_jobs",
            "refit": "True",
            "return_train_score": "False",
            "scoring": "<bound method Metric.scorer of SklearnMetric(KIND='SklearnMetric', name='mean_squared_error', greater_is_better=False)>",
            "verbose": "3"
           },
           {
            "estimator_class": "sklearn.model_selection._search.GridSearchCV",
            "estimator_name": "GridSearchCV",
            "mlflow.gitRepoURL": "git@github.com:fmind/mlops-python-package",
            "mlflow.log-model.history": "[{\"run_id\": \"2bb5da83357d443eb0346606326770ae\", \"artifact_path\": \"model\", \"utc_time_created\": \"2024-12-09 20:15:01.134394\", \"model_uuid\": \"c98c0f4df45649ca8721179a65a45f05\", \"flavors\": {\"python_function\": {\"model_path\": \"model.pkl\", \"predict_fn\": \"predict\", \"loader_module\": \"mlflow.sklearn\", \"python_version\": \"3.12.7\", \"env\": {\"conda\": \"conda.yaml\", \"virtualenv\": \"python_env.yaml\"}}, \"sklearn\": {\"pickled_model\": \"model.pkl\", \"sklearn_version\": \"1.5.2\", \"serialization_format\": \"cloudpickle\", \"code\": null}}}, {\"run_id\": \"2bb5da83357d443eb0346606326770ae\", \"artifact_path\": \"best_estimator\", \"utc_time_created\": \"2024-12-09 20:15:17.229920\", \"model_uuid\": \"ed1ae8f113754da49fd14448fb88d32a\", \"flavors\": {\"python_function\": {\"model_path\": \"model.pkl\", \"predict_fn\": \"predict\", \"loader_module\": \"mlflow.sklearn\", \"python_version\": \"3.12.7\", \"env\": {\"conda\": \"conda.yaml\", \"virtualenv\": \"python_env.yaml\"}}, \"sklearn\": {\"pickled_model\": \"model.pkl\", \"sklearn_version\": \"1.5.2\", \"serialization_format\": \"cloudpickle\", \"code\": null}}}]",
            "mlflow.project.backend": "local",
            "mlflow.project.entryPoint": "main",
            "mlflow.project.env": "virtualenv",
            "mlflow.runName": "Tuning",
            "mlflow.source.git.commit": "6baa64548d67a5bcf0a7f1422dfc8d45ed229aed",
            "mlflow.source.git.repoURL": "git@github.com:fmind/mlops-python-package",
            "mlflow.source.name": "file:///home/fmind/mlops-python-package",
            "mlflow.source.type": "PROJECT",
            "mlflow.user": "fmind"
           },
           "fmind",
           "file:///home/fmind/mlops-python-package",
           "PROJECT",
           "main",
           "6baa64548d67a5bcf0a7f1422dfc8d45ed229aed",
           "git@github.com:fmind/mlops-python-package",
           "git@github.com:fmind/mlops-python-package",
           "Tuning",
           "virtualenv",
           "local",
           "GridSearchCV",
           "sklearn.model_selection._search.GridSearchCV",
           "[{\"run_id\": \"2bb5da83357d443eb0346606326770ae\", \"artifact_path\": \"model\", \"utc_time_created\": \"2024-12-09 20:15:01.134394\", \"model_uuid\": \"c98c0f4df45649ca8721179a65a45f05\", \"flavors\": {\"python_function\": {\"model_path\": \"model.pkl\", \"predict_fn\": \"predict\", \"loader_module\": \"mlflow.sklearn\", \"python_version\": \"3.12.7\", \"env\": {\"conda\": \"conda.yaml\", \"virtualenv\": \"python_env.yaml\"}}, \"sklearn\": {\"pickled_model\": \"model.pkl\", \"sklearn_version\": \"1.5.2\", \"serialization_format\": \"cloudpickle\", \"code\": null}}}, {\"run_id\": \"2bb5da83357d443eb0346606326770ae\", \"artifact_path\": \"best_estimator\", \"utc_time_created\": \"2024-12-09 20:15:17.229920\", \"model_uuid\": \"ed1ae8f113754da49fd14448fb88d32a\", \"flavors\": {\"python_function\": {\"model_path\": \"model.pkl\", \"predict_fn\": \"predict\", \"loader_module\": \"mlflow.sklearn\", \"python_version\": \"3.12.7\", \"env\": {\"conda\": \"conda.yaml\", \"virtualenv\": \"python_env.yaml\"}}, \"sklearn\": {\"pickled_model\": \"model.pkl\", \"sklearn_version\": \"1.5.2\", \"serialization_format\": \"cloudpickle\", \"code\": null}}}]",
           null,
           null
          ],
          [
           "file:///home/fmind/mlops-python-package/mlruns/892046783494697990/d8d365de957c46098b7cf2e251b486fb/artifacts",
           "2024-12-09T19:32:45.822000",
           "892046783494697990",
           "active",
           "d8d365de957c46098b7cf2e251b486fb",
           "Tuning",
           "d8d365de957c46098b7cf2e251b486fb",
           "2024-12-09T19:31:03.107000",
           "FINISHED",
           "fmind",
           {
            "best_cv_score": -5517.252604166667,
            "system/cpu_utilization_percentage": 13.7,
            "system/disk_available_megabytes": 13904.4,
            "system/disk_usage_megabytes": 101839,
            "system/disk_usage_percentage": 88,
            "system/network_receive_megabytes": 0.0017000000007101337,
            "system/network_transmit_megabytes": 0.002966000000014901,
            "system/system_memory_usage_megabytes": 5151.2,
            "system/system_memory_usage_percentage": 34.2,
            "training_score": -1951.0630079838884
           },
           {
            "best_max_depth": "7",
            "conf_file": "confs/tuning.yaml",
            "cv": "KIND='TimeSeriesSplitter' gap=0 n_splits=4 test_size=1440",
            "error_score": "raise",
            "estimator": "KIND='BaselineSklearnModel' max_depth=20 n_estimators=200 random_state=42",
            "n_jobs": "None",
            "param_grid": "{'max_depth': [3, 5, 7]}",
            "pre_dispatch": "2*n_jobs",
            "refit": "True",
            "return_train_score": "False",
            "scoring": "<bound method Metric.scorer of SklearnMetric(KIND='SklearnMetric', name='mean_squared_error', greater_is_better=False)>",
            "verbose": "3"
           },
           {
            "estimator_class": "sklearn.model_selection._search.GridSearchCV",
            "estimator_name": "GridSearchCV",
            "mlflow.gitRepoURL": "git@github.com:fmind/mlops-python-package",
            "mlflow.log-model.history": "[{\"run_id\": \"d8d365de957c46098b7cf2e251b486fb\", \"artifact_path\": \"model\", \"utc_time_created\": \"2024-12-09 19:32:38.556552\", \"model_uuid\": \"409d881ce0dd4efc8439d95e9d2fa9f3\", \"flavors\": {\"python_function\": {\"model_path\": \"model.pkl\", \"predict_fn\": \"predict\", \"loader_module\": \"mlflow.sklearn\", \"python_version\": \"3.12.7\", \"env\": {\"conda\": \"conda.yaml\", \"virtualenv\": \"python_env.yaml\"}}, \"sklearn\": {\"pickled_model\": \"model.pkl\", \"sklearn_version\": \"1.6.0\", \"serialization_format\": \"cloudpickle\", \"code\": null}}}, {\"run_id\": \"d8d365de957c46098b7cf2e251b486fb\", \"artifact_path\": \"best_estimator\", \"utc_time_created\": \"2024-12-09 19:32:42.268804\", \"model_uuid\": \"244b00e5d67f40a8876cd3b5eb18a39f\", \"flavors\": {\"python_function\": {\"model_path\": \"model.pkl\", \"predict_fn\": \"predict\", \"loader_module\": \"mlflow.sklearn\", \"python_version\": \"3.12.7\", \"env\": {\"conda\": \"conda.yaml\", \"virtualenv\": \"python_env.yaml\"}}, \"sklearn\": {\"pickled_model\": \"model.pkl\", \"sklearn_version\": \"1.6.0\", \"serialization_format\": \"cloudpickle\", \"code\": null}}}]",
            "mlflow.project.backend": "local",
            "mlflow.project.entryPoint": "main",
            "mlflow.project.env": "virtualenv",
            "mlflow.runName": "Tuning",
            "mlflow.source.git.commit": "6baa64548d67a5bcf0a7f1422dfc8d45ed229aed",
            "mlflow.source.git.repoURL": "git@github.com:fmind/mlops-python-package",
            "mlflow.source.name": "file:///home/fmind/mlops-python-package",
            "mlflow.source.type": "PROJECT",
            "mlflow.user": "fmind"
           },
           "fmind",
           "file:///home/fmind/mlops-python-package",
           "PROJECT",
           "main",
           "6baa64548d67a5bcf0a7f1422dfc8d45ed229aed",
           "git@github.com:fmind/mlops-python-package",
           "git@github.com:fmind/mlops-python-package",
           "Tuning",
           "virtualenv",
           "local",
           "GridSearchCV",
           "sklearn.model_selection._search.GridSearchCV",
           "[{\"run_id\": \"d8d365de957c46098b7cf2e251b486fb\", \"artifact_path\": \"model\", \"utc_time_created\": \"2024-12-09 19:32:38.556552\", \"model_uuid\": \"409d881ce0dd4efc8439d95e9d2fa9f3\", \"flavors\": {\"python_function\": {\"model_path\": \"model.pkl\", \"predict_fn\": \"predict\", \"loader_module\": \"mlflow.sklearn\", \"python_version\": \"3.12.7\", \"env\": {\"conda\": \"conda.yaml\", \"virtualenv\": \"python_env.yaml\"}}, \"sklearn\": {\"pickled_model\": \"model.pkl\", \"sklearn_version\": \"1.6.0\", \"serialization_format\": \"cloudpickle\", \"code\": null}}}, {\"run_id\": \"d8d365de957c46098b7cf2e251b486fb\", \"artifact_path\": \"best_estimator\", \"utc_time_created\": \"2024-12-09 19:32:42.268804\", \"model_uuid\": \"244b00e5d67f40a8876cd3b5eb18a39f\", \"flavors\": {\"python_function\": {\"model_path\": \"model.pkl\", \"predict_fn\": \"predict\", \"loader_module\": \"mlflow.sklearn\", \"python_version\": \"3.12.7\", \"env\": {\"conda\": \"conda.yaml\", \"virtualenv\": \"python_env.yaml\"}}, \"sklearn\": {\"pickled_model\": \"model.pkl\", \"sklearn_version\": \"1.6.0\", \"serialization_format\": \"cloudpickle\", \"code\": null}}}]",
           null,
           null
          ]
         ],
         "fillcolor": "rgba(255,255,255,0)",
         "hoveron": "points",
         "hovertemplate": "<b>%{hovertext}</b><br><br>run_name=%{customdata[5]}<br>run_time_secs=%{x}<br>artifact_uri=%{customdata[0]}<br>end_time=%{customdata[1]}<br>experiment_id=%{customdata[2]}<br>lifecycle_stage=%{customdata[3]}<br>run_id=%{customdata[4]}<br>run_uuid=%{customdata[6]}<br>start_time=%{customdata[7]}<br>status=%{customdata[8]}<br>user_id=%{customdata[9]}<br>metrics=%{customdata[10]}<br>params=%{customdata[11]}<br>tags=%{customdata[12]}<br>mlflow.user=%{customdata[13]}<br>mlflow.source.name=%{customdata[14]}<br>mlflow.source.type=%{customdata[15]}<br>mlflow.project.entryPoint=%{customdata[16]}<br>mlflow.source.git.commit=%{customdata[17]}<br>mlflow.source.git.repoURL=%{customdata[18]}<br>mlflow.gitRepoURL=%{customdata[19]}<br>mlflow.runName=%{customdata[20]}<br>mlflow.project.env=%{customdata[21]}<br>mlflow.project.backend=%{customdata[22]}<br>estimator_name=%{customdata[23]}<br>estimator_class=%{customdata[24]}<br>mlflow.log-model.history=%{customdata[25]}<br>mlflow.autologging=%{customdata[26]}<br>mlflow.parentRunId=%{customdata[27]}<extra></extra>",
         "hovertext": [
          "5ded1a1700cc4e0ea786ed96cc15c410",
          "2bb5da83357d443eb0346606326770ae",
          "d8d365de957c46098b7cf2e251b486fb"
         ],
         "legendgroup": "Tuning",
         "line": {
          "color": "rgba(255,255,255,0)"
         },
         "marker": {
          "color": "#B6E880"
         },
         "name": "Tuning",
         "offsetgroup": "Tuning",
         "orientation": "h",
         "pointpos": 0,
         "showlegend": true,
         "type": "box",
         "x": [
          34.13,
          226.58,
          102.715
         ],
         "x0": " ",
         "xaxis": "x",
         "y0": " ",
         "yaxis": "y"
        },
        {
         "alignmentgroup": "True",
         "boxpoints": "all",
         "customdata": [
          [
           "file:///home/fmind/mlops-python-package/mlruns/892046783494697990/eb21e4c57e3047dd9fbace349ddfc701/artifacts",
           "2024-12-09T21:25:36.982000",
           "892046783494697990",
           "active",
           "eb21e4c57e3047dd9fbace349ddfc701",
           "capable-asp-689",
           "eb21e4c57e3047dd9fbace349ddfc701",
           "2024-12-09T21:25:03.572000",
           "FINISHED",
           "fmind",
           {
            "mean_fit_time": 1.6217315793037417,
            "mean_score_time": 0.03804677724838257,
            "mean_test_score": -8287.860416666666,
            "rank_test_score": 2,
            "std_fit_time": 0.19954826138452603,
            "std_score_time": 0.00046356596170521295,
            "std_test_score": 1045.7595024691311
           },
           {
            "max_depth": "5",
            "n_estimators": "200",
            "random_state": "42"
           },
           {
            "estimator_class": "bikes.core.models.BaselineSklearnModel",
            "estimator_name": "BaselineSklearnModel",
            "mlflow.autologging": "sklearn",
            "mlflow.parentRunId": "5ded1a1700cc4e0ea786ed96cc15c410",
            "mlflow.runName": "capable-asp-689",
            "mlflow.source.git.commit": "6baa64548d67a5bcf0a7f1422dfc8d45ed229aed",
            "mlflow.source.name": "/home/fmind/mlops-python-package/src/bikes/__main__.py",
            "mlflow.source.type": "LOCAL",
            "mlflow.user": "fmind"
           },
           "fmind",
           "/home/fmind/mlops-python-package/src/bikes/__main__.py",
           "LOCAL",
           null,
           "6baa64548d67a5bcf0a7f1422dfc8d45ed229aed",
           null,
           null,
           "capable-asp-689",
           null,
           null,
           "BaselineSklearnModel",
           "bikes.core.models.BaselineSklearnModel",
           null,
           "sklearn",
           "5ded1a1700cc4e0ea786ed96cc15c410"
          ]
         ],
         "fillcolor": "rgba(255,255,255,0)",
         "hoveron": "points",
         "hovertemplate": "<b>%{hovertext}</b><br><br>run_name=%{customdata[5]}<br>run_time_secs=%{x}<br>artifact_uri=%{customdata[0]}<br>end_time=%{customdata[1]}<br>experiment_id=%{customdata[2]}<br>lifecycle_stage=%{customdata[3]}<br>run_id=%{customdata[4]}<br>run_uuid=%{customdata[6]}<br>start_time=%{customdata[7]}<br>status=%{customdata[8]}<br>user_id=%{customdata[9]}<br>metrics=%{customdata[10]}<br>params=%{customdata[11]}<br>tags=%{customdata[12]}<br>mlflow.user=%{customdata[13]}<br>mlflow.source.name=%{customdata[14]}<br>mlflow.source.type=%{customdata[15]}<br>mlflow.project.entryPoint=%{customdata[16]}<br>mlflow.source.git.commit=%{customdata[17]}<br>mlflow.source.git.repoURL=%{customdata[18]}<br>mlflow.gitRepoURL=%{customdata[19]}<br>mlflow.runName=%{customdata[20]}<br>mlflow.project.env=%{customdata[21]}<br>mlflow.project.backend=%{customdata[22]}<br>estimator_name=%{customdata[23]}<br>estimator_class=%{customdata[24]}<br>mlflow.log-model.history=%{customdata[25]}<br>mlflow.autologging=%{customdata[26]}<br>mlflow.parentRunId=%{customdata[27]}<extra></extra>",
         "hovertext": [
          "eb21e4c57e3047dd9fbace349ddfc701"
         ],
         "legendgroup": "capable-asp-689",
         "line": {
          "color": "rgba(255,255,255,0)"
         },
         "marker": {
          "color": "#FF97FF"
         },
         "name": "capable-asp-689",
         "offsetgroup": "capable-asp-689",
         "orientation": "h",
         "pointpos": 0,
         "showlegend": true,
         "type": "box",
         "x": [
          33.41
         ],
         "x0": " ",
         "xaxis": "x",
         "y0": " ",
         "yaxis": "y"
        },
        {
         "alignmentgroup": "True",
         "boxpoints": "all",
         "customdata": [
          [
           "file:///home/fmind/mlops-python-package/mlruns/892046783494697990/0f3fb536c019419ba34c04dfb4357f55/artifacts",
           "2024-12-09T20:15:20.354000",
           "892046783494697990",
           "active",
           "0f3fb536c019419ba34c04dfb4357f55",
           "youthful-carp-377",
           "0f3fb536c019419ba34c04dfb4357f55",
           "2024-12-09T20:11:34.899000",
           "FINISHED",
           "fmind",
           {
            "mean_fit_time": 2.5905266404151917,
            "mean_score_time": 0.06293588876724243,
            "mean_test_score": -5517.252604166667,
            "rank_test_score": 1,
            "std_fit_time": 0.3868199607236693,
            "std_score_time": 0.02203671973427432,
            "std_test_score": 1613.520146542553
           },
           {
            "max_depth": "7",
            "n_estimators": "200",
            "random_state": "42"
           },
           {
            "estimator_class": "bikes.core.models.BaselineSklearnModel",
            "estimator_name": "BaselineSklearnModel",
            "mlflow.autologging": "sklearn",
            "mlflow.parentRunId": "2bb5da83357d443eb0346606326770ae",
            "mlflow.runName": "youthful-carp-377",
            "mlflow.source.git.commit": "6baa64548d67a5bcf0a7f1422dfc8d45ed229aed",
            "mlflow.source.name": "/home/fmind/mlops-python-package/src/bikes/__main__.py",
            "mlflow.source.type": "LOCAL",
            "mlflow.user": "fmind"
           },
           "fmind",
           "/home/fmind/mlops-python-package/src/bikes/__main__.py",
           "LOCAL",
           null,
           "6baa64548d67a5bcf0a7f1422dfc8d45ed229aed",
           null,
           null,
           "youthful-carp-377",
           null,
           null,
           "BaselineSklearnModel",
           "bikes.core.models.BaselineSklearnModel",
           null,
           "sklearn",
           "2bb5da83357d443eb0346606326770ae"
          ]
         ],
         "fillcolor": "rgba(255,255,255,0)",
         "hoveron": "points",
         "hovertemplate": "<b>%{hovertext}</b><br><br>run_name=%{customdata[5]}<br>run_time_secs=%{x}<br>artifact_uri=%{customdata[0]}<br>end_time=%{customdata[1]}<br>experiment_id=%{customdata[2]}<br>lifecycle_stage=%{customdata[3]}<br>run_id=%{customdata[4]}<br>run_uuid=%{customdata[6]}<br>start_time=%{customdata[7]}<br>status=%{customdata[8]}<br>user_id=%{customdata[9]}<br>metrics=%{customdata[10]}<br>params=%{customdata[11]}<br>tags=%{customdata[12]}<br>mlflow.user=%{customdata[13]}<br>mlflow.source.name=%{customdata[14]}<br>mlflow.source.type=%{customdata[15]}<br>mlflow.project.entryPoint=%{customdata[16]}<br>mlflow.source.git.commit=%{customdata[17]}<br>mlflow.source.git.repoURL=%{customdata[18]}<br>mlflow.gitRepoURL=%{customdata[19]}<br>mlflow.runName=%{customdata[20]}<br>mlflow.project.env=%{customdata[21]}<br>mlflow.project.backend=%{customdata[22]}<br>estimator_name=%{customdata[23]}<br>estimator_class=%{customdata[24]}<br>mlflow.log-model.history=%{customdata[25]}<br>mlflow.autologging=%{customdata[26]}<br>mlflow.parentRunId=%{customdata[27]}<extra></extra>",
         "hovertext": [
          "0f3fb536c019419ba34c04dfb4357f55"
         ],
         "legendgroup": "youthful-carp-377",
         "line": {
          "color": "rgba(255,255,255,0)"
         },
         "marker": {
          "color": "#FECB52"
         },
         "name": "youthful-carp-377",
         "offsetgroup": "youthful-carp-377",
         "orientation": "h",
         "pointpos": 0,
         "showlegend": true,
         "type": "box",
         "x": [
          225.455
         ],
         "x0": " ",
         "xaxis": "x",
         "y0": " ",
         "yaxis": "y"
        },
        {
         "alignmentgroup": "True",
         "boxpoints": "all",
         "customdata": [
          [
           "file:///home/fmind/mlops-python-package/mlruns/892046783494697990/1460078c4b1a4e9eacc1284ef88fb01d/artifacts",
           "2024-12-09T20:15:20.354000",
           "892046783494697990",
           "active",
           "1460078c4b1a4e9eacc1284ef88fb01d",
           "enchanting-pig-738",
           "1460078c4b1a4e9eacc1284ef88fb01d",
           "2024-12-09T20:11:34.899000",
           "FINISHED",
           "fmind",
           {
            "mean_fit_time": 1.890411198139191,
            "mean_score_time": 0.05750620365142822,
            "mean_test_score": -16644.957118055558,
            "rank_test_score": 3,
            "std_fit_time": 0.3518040426866576,
            "std_score_time": 0.007664776865110902,
            "std_test_score": 5315.459715152708
           },
           {
            "max_depth": "3",
            "n_estimators": "200",
            "random_state": "42"
           },
           {
            "estimator_class": "bikes.core.models.BaselineSklearnModel",
            "estimator_name": "BaselineSklearnModel",
            "mlflow.autologging": "sklearn",
            "mlflow.parentRunId": "2bb5da83357d443eb0346606326770ae",
            "mlflow.runName": "enchanting-pig-738",
            "mlflow.source.git.commit": "6baa64548d67a5bcf0a7f1422dfc8d45ed229aed",
            "mlflow.source.name": "/home/fmind/mlops-python-package/src/bikes/__main__.py",
            "mlflow.source.type": "LOCAL",
            "mlflow.user": "fmind"
           },
           "fmind",
           "/home/fmind/mlops-python-package/src/bikes/__main__.py",
           "LOCAL",
           null,
           "6baa64548d67a5bcf0a7f1422dfc8d45ed229aed",
           null,
           null,
           "enchanting-pig-738",
           null,
           null,
           "BaselineSklearnModel",
           "bikes.core.models.BaselineSklearnModel",
           null,
           "sklearn",
           "2bb5da83357d443eb0346606326770ae"
          ]
         ],
         "fillcolor": "rgba(255,255,255,0)",
         "hoveron": "points",
         "hovertemplate": "<b>%{hovertext}</b><br><br>run_name=%{customdata[5]}<br>run_time_secs=%{x}<br>artifact_uri=%{customdata[0]}<br>end_time=%{customdata[1]}<br>experiment_id=%{customdata[2]}<br>lifecycle_stage=%{customdata[3]}<br>run_id=%{customdata[4]}<br>run_uuid=%{customdata[6]}<br>start_time=%{customdata[7]}<br>status=%{customdata[8]}<br>user_id=%{customdata[9]}<br>metrics=%{customdata[10]}<br>params=%{customdata[11]}<br>tags=%{customdata[12]}<br>mlflow.user=%{customdata[13]}<br>mlflow.source.name=%{customdata[14]}<br>mlflow.source.type=%{customdata[15]}<br>mlflow.project.entryPoint=%{customdata[16]}<br>mlflow.source.git.commit=%{customdata[17]}<br>mlflow.source.git.repoURL=%{customdata[18]}<br>mlflow.gitRepoURL=%{customdata[19]}<br>mlflow.runName=%{customdata[20]}<br>mlflow.project.env=%{customdata[21]}<br>mlflow.project.backend=%{customdata[22]}<br>estimator_name=%{customdata[23]}<br>estimator_class=%{customdata[24]}<br>mlflow.log-model.history=%{customdata[25]}<br>mlflow.autologging=%{customdata[26]}<br>mlflow.parentRunId=%{customdata[27]}<extra></extra>",
         "hovertext": [
          "1460078c4b1a4e9eacc1284ef88fb01d"
         ],
         "legendgroup": "enchanting-pig-738",
         "line": {
          "color": "rgba(255,255,255,0)"
         },
         "marker": {
          "color": "#636efa"
         },
         "name": "enchanting-pig-738",
         "offsetgroup": "enchanting-pig-738",
         "orientation": "h",
         "pointpos": 0,
         "showlegend": true,
         "type": "box",
         "x": [
          225.455
         ],
         "x0": " ",
         "xaxis": "x",
         "y0": " ",
         "yaxis": "y"
        },
        {
         "alignmentgroup": "True",
         "boxpoints": "all",
         "customdata": [
          [
           "file:///home/fmind/mlops-python-package/mlruns/892046783494697990/fe06e9a76b124cdb8d95a70d0e0807e1/artifacts",
           "2024-12-09T20:15:20.354000",
           "892046783494697990",
           "active",
           "fe06e9a76b124cdb8d95a70d0e0807e1",
           "youthful-shoat-928",
           "fe06e9a76b124cdb8d95a70d0e0807e1",
           "2024-12-09T20:11:34.899000",
           "FINISHED",
           "fmind",
           {
            "mean_fit_time": 1.954506516456604,
            "mean_score_time": 0.04336249828338623,
            "mean_test_score": -8287.860416666666,
            "rank_test_score": 2,
            "std_fit_time": 0.1713001550642603,
            "std_score_time": 0.002758689884238117,
            "std_test_score": 1045.7595024691311
           },
           {
            "max_depth": "5",
            "n_estimators": "200",
            "random_state": "42"
           },
           {
            "estimator_class": "bikes.core.models.BaselineSklearnModel",
            "estimator_name": "BaselineSklearnModel",
            "mlflow.autologging": "sklearn",
            "mlflow.parentRunId": "2bb5da83357d443eb0346606326770ae",
            "mlflow.runName": "youthful-shoat-928",
            "mlflow.source.git.commit": "6baa64548d67a5bcf0a7f1422dfc8d45ed229aed",
            "mlflow.source.name": "/home/fmind/mlops-python-package/src/bikes/__main__.py",
            "mlflow.source.type": "LOCAL",
            "mlflow.user": "fmind"
           },
           "fmind",
           "/home/fmind/mlops-python-package/src/bikes/__main__.py",
           "LOCAL",
           null,
           "6baa64548d67a5bcf0a7f1422dfc8d45ed229aed",
           null,
           null,
           "youthful-shoat-928",
           null,
           null,
           "BaselineSklearnModel",
           "bikes.core.models.BaselineSklearnModel",
           null,
           "sklearn",
           "2bb5da83357d443eb0346606326770ae"
          ]
         ],
         "fillcolor": "rgba(255,255,255,0)",
         "hoveron": "points",
         "hovertemplate": "<b>%{hovertext}</b><br><br>run_name=%{customdata[5]}<br>run_time_secs=%{x}<br>artifact_uri=%{customdata[0]}<br>end_time=%{customdata[1]}<br>experiment_id=%{customdata[2]}<br>lifecycle_stage=%{customdata[3]}<br>run_id=%{customdata[4]}<br>run_uuid=%{customdata[6]}<br>start_time=%{customdata[7]}<br>status=%{customdata[8]}<br>user_id=%{customdata[9]}<br>metrics=%{customdata[10]}<br>params=%{customdata[11]}<br>tags=%{customdata[12]}<br>mlflow.user=%{customdata[13]}<br>mlflow.source.name=%{customdata[14]}<br>mlflow.source.type=%{customdata[15]}<br>mlflow.project.entryPoint=%{customdata[16]}<br>mlflow.source.git.commit=%{customdata[17]}<br>mlflow.source.git.repoURL=%{customdata[18]}<br>mlflow.gitRepoURL=%{customdata[19]}<br>mlflow.runName=%{customdata[20]}<br>mlflow.project.env=%{customdata[21]}<br>mlflow.project.backend=%{customdata[22]}<br>estimator_name=%{customdata[23]}<br>estimator_class=%{customdata[24]}<br>mlflow.log-model.history=%{customdata[25]}<br>mlflow.autologging=%{customdata[26]}<br>mlflow.parentRunId=%{customdata[27]}<extra></extra>",
         "hovertext": [
          "fe06e9a76b124cdb8d95a70d0e0807e1"
         ],
         "legendgroup": "youthful-shoat-928",
         "line": {
          "color": "rgba(255,255,255,0)"
         },
         "marker": {
          "color": "#EF553B"
         },
         "name": "youthful-shoat-928",
         "offsetgroup": "youthful-shoat-928",
         "orientation": "h",
         "pointpos": 0,
         "showlegend": true,
         "type": "box",
         "x": [
          225.455
         ],
         "x0": " ",
         "xaxis": "x",
         "y0": " ",
         "yaxis": "y"
        },
        {
         "alignmentgroup": "True",
         "boxpoints": "all",
         "customdata": [
          [
           "file:///home/fmind/mlops-python-package/mlruns/892046783494697990/3c3f2883be0643b9800e8c161764bb5f/artifacts",
           "2024-12-09T19:32:45.039000",
           "892046783494697990",
           "active",
           "3c3f2883be0643b9800e8c161764bb5f",
           "resilient-doe-203",
           "3c3f2883be0643b9800e8c161764bb5f",
           "2024-12-09T19:31:03.107000",
           "FINISHED",
           "fmind",
           {
            "mean_fit_time": 1.1269992589950562,
            "mean_score_time": 0.04589015245437622,
            "mean_test_score": -16644.957118055558,
            "rank_test_score": 3,
            "std_fit_time": 0.1527565842379814,
            "std_score_time": 0.002551598470194752,
            "std_test_score": 5315.459715152708
           },
           {
            "max_depth": "3",
            "n_estimators": "200",
            "random_state": "42"
           },
           {
            "estimator_class": "bikes.core.models.BaselineSklearnModel",
            "estimator_name": "BaselineSklearnModel",
            "mlflow.autologging": "sklearn",
            "mlflow.parentRunId": "d8d365de957c46098b7cf2e251b486fb",
            "mlflow.runName": "resilient-doe-203",
            "mlflow.source.git.commit": "6baa64548d67a5bcf0a7f1422dfc8d45ed229aed",
            "mlflow.source.name": "/home/fmind/mlops-python-package/src/bikes/__main__.py",
            "mlflow.source.type": "LOCAL",
            "mlflow.user": "fmind"
           },
           "fmind",
           "/home/fmind/mlops-python-package/src/bikes/__main__.py",
           "LOCAL",
           null,
           "6baa64548d67a5bcf0a7f1422dfc8d45ed229aed",
           null,
           null,
           "resilient-doe-203",
           null,
           null,
           "BaselineSklearnModel",
           "bikes.core.models.BaselineSklearnModel",
           null,
           "sklearn",
           "d8d365de957c46098b7cf2e251b486fb"
          ]
         ],
         "fillcolor": "rgba(255,255,255,0)",
         "hoveron": "points",
         "hovertemplate": "<b>%{hovertext}</b><br><br>run_name=%{customdata[5]}<br>run_time_secs=%{x}<br>artifact_uri=%{customdata[0]}<br>end_time=%{customdata[1]}<br>experiment_id=%{customdata[2]}<br>lifecycle_stage=%{customdata[3]}<br>run_id=%{customdata[4]}<br>run_uuid=%{customdata[6]}<br>start_time=%{customdata[7]}<br>status=%{customdata[8]}<br>user_id=%{customdata[9]}<br>metrics=%{customdata[10]}<br>params=%{customdata[11]}<br>tags=%{customdata[12]}<br>mlflow.user=%{customdata[13]}<br>mlflow.source.name=%{customdata[14]}<br>mlflow.source.type=%{customdata[15]}<br>mlflow.project.entryPoint=%{customdata[16]}<br>mlflow.source.git.commit=%{customdata[17]}<br>mlflow.source.git.repoURL=%{customdata[18]}<br>mlflow.gitRepoURL=%{customdata[19]}<br>mlflow.runName=%{customdata[20]}<br>mlflow.project.env=%{customdata[21]}<br>mlflow.project.backend=%{customdata[22]}<br>estimator_name=%{customdata[23]}<br>estimator_class=%{customdata[24]}<br>mlflow.log-model.history=%{customdata[25]}<br>mlflow.autologging=%{customdata[26]}<br>mlflow.parentRunId=%{customdata[27]}<extra></extra>",
         "hovertext": [
          "3c3f2883be0643b9800e8c161764bb5f"
         ],
         "legendgroup": "resilient-doe-203",
         "line": {
          "color": "rgba(255,255,255,0)"
         },
         "marker": {
          "color": "#00cc96"
         },
         "name": "resilient-doe-203",
         "offsetgroup": "resilient-doe-203",
         "orientation": "h",
         "pointpos": 0,
         "showlegend": true,
         "type": "box",
         "x": [
          101.932
         ],
         "x0": " ",
         "xaxis": "x",
         "y0": " ",
         "yaxis": "y"
        },
        {
         "alignmentgroup": "True",
         "boxpoints": "all",
         "customdata": [
          [
           "file:///home/fmind/mlops-python-package/mlruns/892046783494697990/846fb4b5ca654800b2cb0592c6c2e999/artifacts",
           "2024-12-09T19:32:45.039000",
           "892046783494697990",
           "active",
           "846fb4b5ca654800b2cb0592c6c2e999",
           "unequaled-conch-92",
           "846fb4b5ca654800b2cb0592c6c2e999",
           "2024-12-09T19:31:03.107000",
           "FINISHED",
           "fmind",
           {
            "mean_fit_time": 2.39922958612442,
            "mean_score_time": 0.05329245328903198,
            "mean_test_score": -5517.252604166667,
            "rank_test_score": 1,
            "std_fit_time": 0.36662621678955415,
            "std_score_time": 0.0019089998263635895,
            "std_test_score": 1613.520146542553
           },
           {
            "max_depth": "7",
            "n_estimators": "200",
            "random_state": "42"
           },
           {
            "estimator_class": "bikes.core.models.BaselineSklearnModel",
            "estimator_name": "BaselineSklearnModel",
            "mlflow.autologging": "sklearn",
            "mlflow.parentRunId": "d8d365de957c46098b7cf2e251b486fb",
            "mlflow.runName": "unequaled-conch-92",
            "mlflow.source.git.commit": "6baa64548d67a5bcf0a7f1422dfc8d45ed229aed",
            "mlflow.source.name": "/home/fmind/mlops-python-package/src/bikes/__main__.py",
            "mlflow.source.type": "LOCAL",
            "mlflow.user": "fmind"
           },
           "fmind",
           "/home/fmind/mlops-python-package/src/bikes/__main__.py",
           "LOCAL",
           null,
           "6baa64548d67a5bcf0a7f1422dfc8d45ed229aed",
           null,
           null,
           "unequaled-conch-92",
           null,
           null,
           "BaselineSklearnModel",
           "bikes.core.models.BaselineSklearnModel",
           null,
           "sklearn",
           "d8d365de957c46098b7cf2e251b486fb"
          ]
         ],
         "fillcolor": "rgba(255,255,255,0)",
         "hoveron": "points",
         "hovertemplate": "<b>%{hovertext}</b><br><br>run_name=%{customdata[5]}<br>run_time_secs=%{x}<br>artifact_uri=%{customdata[0]}<br>end_time=%{customdata[1]}<br>experiment_id=%{customdata[2]}<br>lifecycle_stage=%{customdata[3]}<br>run_id=%{customdata[4]}<br>run_uuid=%{customdata[6]}<br>start_time=%{customdata[7]}<br>status=%{customdata[8]}<br>user_id=%{customdata[9]}<br>metrics=%{customdata[10]}<br>params=%{customdata[11]}<br>tags=%{customdata[12]}<br>mlflow.user=%{customdata[13]}<br>mlflow.source.name=%{customdata[14]}<br>mlflow.source.type=%{customdata[15]}<br>mlflow.project.entryPoint=%{customdata[16]}<br>mlflow.source.git.commit=%{customdata[17]}<br>mlflow.source.git.repoURL=%{customdata[18]}<br>mlflow.gitRepoURL=%{customdata[19]}<br>mlflow.runName=%{customdata[20]}<br>mlflow.project.env=%{customdata[21]}<br>mlflow.project.backend=%{customdata[22]}<br>estimator_name=%{customdata[23]}<br>estimator_class=%{customdata[24]}<br>mlflow.log-model.history=%{customdata[25]}<br>mlflow.autologging=%{customdata[26]}<br>mlflow.parentRunId=%{customdata[27]}<extra></extra>",
         "hovertext": [
          "846fb4b5ca654800b2cb0592c6c2e999"
         ],
         "legendgroup": "unequaled-conch-92",
         "line": {
          "color": "rgba(255,255,255,0)"
         },
         "marker": {
          "color": "#ab63fa"
         },
         "name": "unequaled-conch-92",
         "offsetgroup": "unequaled-conch-92",
         "orientation": "h",
         "pointpos": 0,
         "showlegend": true,
         "type": "box",
         "x": [
          101.932
         ],
         "x0": " ",
         "xaxis": "x",
         "y0": " ",
         "yaxis": "y"
        },
        {
         "alignmentgroup": "True",
         "boxpoints": "all",
         "customdata": [
          [
           "file:///home/fmind/mlops-python-package/mlruns/892046783494697990/ed9728cf10d74fe6a053231b54e82e16/artifacts",
           "2024-12-09T19:32:45.039000",
           "892046783494697990",
           "active",
           "ed9728cf10d74fe6a053231b54e82e16",
           "adventurous-fowl-590",
           "ed9728cf10d74fe6a053231b54e82e16",
           "2024-12-09T19:31:03.107000",
           "FINISHED",
           "fmind",
           {
            "mean_fit_time": 1.6259471774101255,
            "mean_score_time": 0.045266807079315186,
            "mean_test_score": -8287.860416666666,
            "rank_test_score": 2,
            "std_fit_time": 0.24068743297866052,
            "std_score_time": 0.00025423702187683014,
            "std_test_score": 1045.7595024691311
           },
           {
            "max_depth": "5",
            "n_estimators": "200",
            "random_state": "42"
           },
           {
            "estimator_class": "bikes.core.models.BaselineSklearnModel",
            "estimator_name": "BaselineSklearnModel",
            "mlflow.autologging": "sklearn",
            "mlflow.parentRunId": "d8d365de957c46098b7cf2e251b486fb",
            "mlflow.runName": "adventurous-fowl-590",
            "mlflow.source.git.commit": "6baa64548d67a5bcf0a7f1422dfc8d45ed229aed",
            "mlflow.source.name": "/home/fmind/mlops-python-package/src/bikes/__main__.py",
            "mlflow.source.type": "LOCAL",
            "mlflow.user": "fmind"
           },
           "fmind",
           "/home/fmind/mlops-python-package/src/bikes/__main__.py",
           "LOCAL",
           null,
           "6baa64548d67a5bcf0a7f1422dfc8d45ed229aed",
           null,
           null,
           "adventurous-fowl-590",
           null,
           null,
           "BaselineSklearnModel",
           "bikes.core.models.BaselineSklearnModel",
           null,
           "sklearn",
           "d8d365de957c46098b7cf2e251b486fb"
          ]
         ],
         "fillcolor": "rgba(255,255,255,0)",
         "hoveron": "points",
         "hovertemplate": "<b>%{hovertext}</b><br><br>run_name=%{customdata[5]}<br>run_time_secs=%{x}<br>artifact_uri=%{customdata[0]}<br>end_time=%{customdata[1]}<br>experiment_id=%{customdata[2]}<br>lifecycle_stage=%{customdata[3]}<br>run_id=%{customdata[4]}<br>run_uuid=%{customdata[6]}<br>start_time=%{customdata[7]}<br>status=%{customdata[8]}<br>user_id=%{customdata[9]}<br>metrics=%{customdata[10]}<br>params=%{customdata[11]}<br>tags=%{customdata[12]}<br>mlflow.user=%{customdata[13]}<br>mlflow.source.name=%{customdata[14]}<br>mlflow.source.type=%{customdata[15]}<br>mlflow.project.entryPoint=%{customdata[16]}<br>mlflow.source.git.commit=%{customdata[17]}<br>mlflow.source.git.repoURL=%{customdata[18]}<br>mlflow.gitRepoURL=%{customdata[19]}<br>mlflow.runName=%{customdata[20]}<br>mlflow.project.env=%{customdata[21]}<br>mlflow.project.backend=%{customdata[22]}<br>estimator_name=%{customdata[23]}<br>estimator_class=%{customdata[24]}<br>mlflow.log-model.history=%{customdata[25]}<br>mlflow.autologging=%{customdata[26]}<br>mlflow.parentRunId=%{customdata[27]}<extra></extra>",
         "hovertext": [
          "ed9728cf10d74fe6a053231b54e82e16"
         ],
         "legendgroup": "adventurous-fowl-590",
         "line": {
          "color": "rgba(255,255,255,0)"
         },
         "marker": {
          "color": "#FFA15A"
         },
         "name": "adventurous-fowl-590",
         "offsetgroup": "adventurous-fowl-590",
         "orientation": "h",
         "pointpos": 0,
         "showlegend": true,
         "type": "box",
         "x": [
          101.932
         ],
         "x0": " ",
         "xaxis": "x",
         "y0": " ",
         "yaxis": "y"
        }
       ],
       "layout": {
        "boxmode": "group",
        "legend": {
         "title": {
          "text": "run_name"
         },
         "tracegroupgap": 0
        },
        "template": {
         "data": {
          "bar": [
           {
            "error_x": {
             "color": "#2a3f5f"
            },
            "error_y": {
             "color": "#2a3f5f"
            },
            "marker": {
             "line": {
              "color": "#E5ECF6",
              "width": 0.5
             },
             "pattern": {
              "fillmode": "overlay",
              "size": 10,
              "solidity": 0.2
             }
            },
            "type": "bar"
           }
          ],
          "barpolar": [
           {
            "marker": {
             "line": {
              "color": "#E5ECF6",
              "width": 0.5
             },
             "pattern": {
              "fillmode": "overlay",
              "size": 10,
              "solidity": 0.2
             }
            },
            "type": "barpolar"
           }
          ],
          "carpet": [
           {
            "aaxis": {
             "endlinecolor": "#2a3f5f",
             "gridcolor": "white",
             "linecolor": "white",
             "minorgridcolor": "white",
             "startlinecolor": "#2a3f5f"
            },
            "baxis": {
             "endlinecolor": "#2a3f5f",
             "gridcolor": "white",
             "linecolor": "white",
             "minorgridcolor": "white",
             "startlinecolor": "#2a3f5f"
            },
            "type": "carpet"
           }
          ],
          "choropleth": [
           {
            "colorbar": {
             "outlinewidth": 0,
             "ticks": ""
            },
            "type": "choropleth"
           }
          ],
          "contour": [
           {
            "colorbar": {
             "outlinewidth": 0,
             "ticks": ""
            },
            "colorscale": [
             [
              0,
              "#0d0887"
             ],
             [
              0.1111111111111111,
              "#46039f"
             ],
             [
              0.2222222222222222,
              "#7201a8"
             ],
             [
              0.3333333333333333,
              "#9c179e"
             ],
             [
              0.4444444444444444,
              "#bd3786"
             ],
             [
              0.5555555555555556,
              "#d8576b"
             ],
             [
              0.6666666666666666,
              "#ed7953"
             ],
             [
              0.7777777777777778,
              "#fb9f3a"
             ],
             [
              0.8888888888888888,
              "#fdca26"
             ],
             [
              1,
              "#f0f921"
             ]
            ],
            "type": "contour"
           }
          ],
          "contourcarpet": [
           {
            "colorbar": {
             "outlinewidth": 0,
             "ticks": ""
            },
            "type": "contourcarpet"
           }
          ],
          "heatmap": [
           {
            "colorbar": {
             "outlinewidth": 0,
             "ticks": ""
            },
            "colorscale": [
             [
              0,
              "#0d0887"
             ],
             [
              0.1111111111111111,
              "#46039f"
             ],
             [
              0.2222222222222222,
              "#7201a8"
             ],
             [
              0.3333333333333333,
              "#9c179e"
             ],
             [
              0.4444444444444444,
              "#bd3786"
             ],
             [
              0.5555555555555556,
              "#d8576b"
             ],
             [
              0.6666666666666666,
              "#ed7953"
             ],
             [
              0.7777777777777778,
              "#fb9f3a"
             ],
             [
              0.8888888888888888,
              "#fdca26"
             ],
             [
              1,
              "#f0f921"
             ]
            ],
            "type": "heatmap"
           }
          ],
          "heatmapgl": [
           {
            "colorbar": {
             "outlinewidth": 0,
             "ticks": ""
            },
            "colorscale": [
             [
              0,
              "#0d0887"
             ],
             [
              0.1111111111111111,
              "#46039f"
             ],
             [
              0.2222222222222222,
              "#7201a8"
             ],
             [
              0.3333333333333333,
              "#9c179e"
             ],
             [
              0.4444444444444444,
              "#bd3786"
             ],
             [
              0.5555555555555556,
              "#d8576b"
             ],
             [
              0.6666666666666666,
              "#ed7953"
             ],
             [
              0.7777777777777778,
              "#fb9f3a"
             ],
             [
              0.8888888888888888,
              "#fdca26"
             ],
             [
              1,
              "#f0f921"
             ]
            ],
            "type": "heatmapgl"
           }
          ],
          "histogram": [
           {
            "marker": {
             "pattern": {
              "fillmode": "overlay",
              "size": 10,
              "solidity": 0.2
             }
            },
            "type": "histogram"
           }
          ],
          "histogram2d": [
           {
            "colorbar": {
             "outlinewidth": 0,
             "ticks": ""
            },
            "colorscale": [
             [
              0,
              "#0d0887"
             ],
             [
              0.1111111111111111,
              "#46039f"
             ],
             [
              0.2222222222222222,
              "#7201a8"
             ],
             [
              0.3333333333333333,
              "#9c179e"
             ],
             [
              0.4444444444444444,
              "#bd3786"
             ],
             [
              0.5555555555555556,
              "#d8576b"
             ],
             [
              0.6666666666666666,
              "#ed7953"
             ],
             [
              0.7777777777777778,
              "#fb9f3a"
             ],
             [
              0.8888888888888888,
              "#fdca26"
             ],
             [
              1,
              "#f0f921"
             ]
            ],
            "type": "histogram2d"
           }
          ],
          "histogram2dcontour": [
           {
            "colorbar": {
             "outlinewidth": 0,
             "ticks": ""
            },
            "colorscale": [
             [
              0,
              "#0d0887"
             ],
             [
              0.1111111111111111,
              "#46039f"
             ],
             [
              0.2222222222222222,
              "#7201a8"
             ],
             [
              0.3333333333333333,
              "#9c179e"
             ],
             [
              0.4444444444444444,
              "#bd3786"
             ],
             [
              0.5555555555555556,
              "#d8576b"
             ],
             [
              0.6666666666666666,
              "#ed7953"
             ],
             [
              0.7777777777777778,
              "#fb9f3a"
             ],
             [
              0.8888888888888888,
              "#fdca26"
             ],
             [
              1,
              "#f0f921"
             ]
            ],
            "type": "histogram2dcontour"
           }
          ],
          "mesh3d": [
           {
            "colorbar": {
             "outlinewidth": 0,
             "ticks": ""
            },
            "type": "mesh3d"
           }
          ],
          "parcoords": [
           {
            "line": {
             "colorbar": {
              "outlinewidth": 0,
              "ticks": ""
             }
            },
            "type": "parcoords"
           }
          ],
          "pie": [
           {
            "automargin": true,
            "type": "pie"
           }
          ],
          "scatter": [
           {
            "fillpattern": {
             "fillmode": "overlay",
             "size": 10,
             "solidity": 0.2
            },
            "type": "scatter"
           }
          ],
          "scatter3d": [
           {
            "line": {
             "colorbar": {
              "outlinewidth": 0,
              "ticks": ""
             }
            },
            "marker": {
             "colorbar": {
              "outlinewidth": 0,
              "ticks": ""
             }
            },
            "type": "scatter3d"
           }
          ],
          "scattercarpet": [
           {
            "marker": {
             "colorbar": {
              "outlinewidth": 0,
              "ticks": ""
             }
            },
            "type": "scattercarpet"
           }
          ],
          "scattergeo": [
           {
            "marker": {
             "colorbar": {
              "outlinewidth": 0,
              "ticks": ""
             }
            },
            "type": "scattergeo"
           }
          ],
          "scattergl": [
           {
            "marker": {
             "colorbar": {
              "outlinewidth": 0,
              "ticks": ""
             }
            },
            "type": "scattergl"
           }
          ],
          "scattermapbox": [
           {
            "marker": {
             "colorbar": {
              "outlinewidth": 0,
              "ticks": ""
             }
            },
            "type": "scattermapbox"
           }
          ],
          "scatterpolar": [
           {
            "marker": {
             "colorbar": {
              "outlinewidth": 0,
              "ticks": ""
             }
            },
            "type": "scatterpolar"
           }
          ],
          "scatterpolargl": [
           {
            "marker": {
             "colorbar": {
              "outlinewidth": 0,
              "ticks": ""
             }
            },
            "type": "scatterpolargl"
           }
          ],
          "scatterternary": [
           {
            "marker": {
             "colorbar": {
              "outlinewidth": 0,
              "ticks": ""
             }
            },
            "type": "scatterternary"
           }
          ],
          "surface": [
           {
            "colorbar": {
             "outlinewidth": 0,
             "ticks": ""
            },
            "colorscale": [
             [
              0,
              "#0d0887"
             ],
             [
              0.1111111111111111,
              "#46039f"
             ],
             [
              0.2222222222222222,
              "#7201a8"
             ],
             [
              0.3333333333333333,
              "#9c179e"
             ],
             [
              0.4444444444444444,
              "#bd3786"
             ],
             [
              0.5555555555555556,
              "#d8576b"
             ],
             [
              0.6666666666666666,
              "#ed7953"
             ],
             [
              0.7777777777777778,
              "#fb9f3a"
             ],
             [
              0.8888888888888888,
              "#fdca26"
             ],
             [
              1,
              "#f0f921"
             ]
            ],
            "type": "surface"
           }
          ],
          "table": [
           {
            "cells": {
             "fill": {
              "color": "#EBF0F8"
             },
             "line": {
              "color": "white"
             }
            },
            "header": {
             "fill": {
              "color": "#C8D4E3"
             },
             "line": {
              "color": "white"
             }
            },
            "type": "table"
           }
          ]
         },
         "layout": {
          "annotationdefaults": {
           "arrowcolor": "#2a3f5f",
           "arrowhead": 0,
           "arrowwidth": 1
          },
          "autotypenumbers": "strict",
          "coloraxis": {
           "colorbar": {
            "outlinewidth": 0,
            "ticks": ""
           }
          },
          "colorscale": {
           "diverging": [
            [
             0,
             "#8e0152"
            ],
            [
             0.1,
             "#c51b7d"
            ],
            [
             0.2,
             "#de77ae"
            ],
            [
             0.3,
             "#f1b6da"
            ],
            [
             0.4,
             "#fde0ef"
            ],
            [
             0.5,
             "#f7f7f7"
            ],
            [
             0.6,
             "#e6f5d0"
            ],
            [
             0.7,
             "#b8e186"
            ],
            [
             0.8,
             "#7fbc41"
            ],
            [
             0.9,
             "#4d9221"
            ],
            [
             1,
             "#276419"
            ]
           ],
           "sequential": [
            [
             0,
             "#0d0887"
            ],
            [
             0.1111111111111111,
             "#46039f"
            ],
            [
             0.2222222222222222,
             "#7201a8"
            ],
            [
             0.3333333333333333,
             "#9c179e"
            ],
            [
             0.4444444444444444,
             "#bd3786"
            ],
            [
             0.5555555555555556,
             "#d8576b"
            ],
            [
             0.6666666666666666,
             "#ed7953"
            ],
            [
             0.7777777777777778,
             "#fb9f3a"
            ],
            [
             0.8888888888888888,
             "#fdca26"
            ],
            [
             1,
             "#f0f921"
            ]
           ],
           "sequentialminus": [
            [
             0,
             "#0d0887"
            ],
            [
             0.1111111111111111,
             "#46039f"
            ],
            [
             0.2222222222222222,
             "#7201a8"
            ],
            [
             0.3333333333333333,
             "#9c179e"
            ],
            [
             0.4444444444444444,
             "#bd3786"
            ],
            [
             0.5555555555555556,
             "#d8576b"
            ],
            [
             0.6666666666666666,
             "#ed7953"
            ],
            [
             0.7777777777777778,
             "#fb9f3a"
            ],
            [
             0.8888888888888888,
             "#fdca26"
            ],
            [
             1,
             "#f0f921"
            ]
           ]
          },
          "colorway": [
           "#636efa",
           "#EF553B",
           "#00cc96",
           "#ab63fa",
           "#FFA15A",
           "#19d3f3",
           "#FF6692",
           "#B6E880",
           "#FF97FF",
           "#FECB52"
          ],
          "font": {
           "color": "#2a3f5f"
          },
          "geo": {
           "bgcolor": "white",
           "lakecolor": "white",
           "landcolor": "#E5ECF6",
           "showlakes": true,
           "showland": true,
           "subunitcolor": "white"
          },
          "hoverlabel": {
           "align": "left"
          },
          "hovermode": "closest",
          "mapbox": {
           "style": "light"
          },
          "paper_bgcolor": "white",
          "plot_bgcolor": "#E5ECF6",
          "polar": {
           "angularaxis": {
            "gridcolor": "white",
            "linecolor": "white",
            "ticks": ""
           },
           "bgcolor": "#E5ECF6",
           "radialaxis": {
            "gridcolor": "white",
            "linecolor": "white",
            "ticks": ""
           }
          },
          "scene": {
           "xaxis": {
            "backgroundcolor": "#E5ECF6",
            "gridcolor": "white",
            "gridwidth": 2,
            "linecolor": "white",
            "showbackground": true,
            "ticks": "",
            "zerolinecolor": "white"
           },
           "yaxis": {
            "backgroundcolor": "#E5ECF6",
            "gridcolor": "white",
            "gridwidth": 2,
            "linecolor": "white",
            "showbackground": true,
            "ticks": "",
            "zerolinecolor": "white"
           },
           "zaxis": {
            "backgroundcolor": "#E5ECF6",
            "gridcolor": "white",
            "gridwidth": 2,
            "linecolor": "white",
            "showbackground": true,
            "ticks": "",
            "zerolinecolor": "white"
           }
          },
          "shapedefaults": {
           "line": {
            "color": "#2a3f5f"
           }
          },
          "ternary": {
           "aaxis": {
            "gridcolor": "white",
            "linecolor": "white",
            "ticks": ""
           },
           "baxis": {
            "gridcolor": "white",
            "linecolor": "white",
            "ticks": ""
           },
           "bgcolor": "#E5ECF6",
           "caxis": {
            "gridcolor": "white",
            "linecolor": "white",
            "ticks": ""
           }
          },
          "title": {
           "x": 0.05
          },
          "xaxis": {
           "automargin": true,
           "gridcolor": "white",
           "linecolor": "white",
           "ticks": "",
           "title": {
            "standoff": 15
           },
           "zerolinecolor": "white",
           "zerolinewidth": 2
          },
          "yaxis": {
           "automargin": true,
           "gridcolor": "white",
           "linecolor": "white",
           "ticks": "",
           "title": {
            "standoff": 15
           },
           "zerolinecolor": "white",
           "zerolinewidth": 2
          }
         }
        },
        "title": {
         "text": "Run Time"
        },
        "xaxis": {
         "anchor": "y",
         "domain": [
          0,
          1
         ],
         "title": {
          "text": "run_time_secs"
         }
        },
        "yaxis": {
         "anchor": "x",
         "domain": [
          0,
          1
         ]
        }
       }
      }
     },
     "metadata": {},
     "output_type": "display_data"
    }
   ],
   "source": [
    "px.strip(\n",
    "    runs,\n",
    "    x=\"run_time_secs\",\n",
    "    color=\"run_name\",\n",
    "    hover_name=\"run_id\",\n",
    "    hover_data=runs.columns,\n",
    "    title=\"Run Time\",\n",
    ")"
   ]
  },
  {
   "cell_type": "code",
   "execution_count": 15,
   "metadata": {},
   "outputs": [
    {
     "data": {
      "application/vnd.plotly.v1+json": {
       "config": {
        "plotlyServerURL": "https://plot.ly"
       },
       "data": [
        {
         "alignmentgroup": "True",
         "hovertemplate": "estimator_class=%{x}<br>count=%{y}<extra></extra>",
         "legendgroup": "",
         "marker": {
          "color": "#636efa",
          "pattern": {
           "shape": ""
          }
         },
         "name": "",
         "offsetgroup": "",
         "orientation": "v",
         "showlegend": false,
         "textposition": "auto",
         "type": "bar",
         "x": [
          null,
          null,
          null,
          null,
          "sklearn.pipeline.Pipeline",
          "bikes.core.models.BaselineSklearnModel",
          "bikes.core.models.BaselineSklearnModel",
          "sklearn.model_selection._search.GridSearchCV",
          "bikes.core.models.BaselineSklearnModel",
          null,
          null,
          null,
          null,
          "sklearn.pipeline.Pipeline",
          "bikes.core.models.BaselineSklearnModel",
          "bikes.core.models.BaselineSklearnModel",
          "sklearn.model_selection._search.GridSearchCV",
          "bikes.core.models.BaselineSklearnModel",
          null,
          null,
          null,
          null,
          null,
          null,
          "sklearn.pipeline.Pipeline",
          "bikes.core.models.BaselineSklearnModel",
          "bikes.core.models.BaselineSklearnModel",
          "sklearn.model_selection._search.GridSearchCV",
          "bikes.core.models.BaselineSklearnModel"
         ],
         "xaxis": "x",
         "y": [
          1,
          1,
          1,
          1,
          1,
          1,
          1,
          1,
          1,
          1,
          1,
          1,
          1,
          1,
          1,
          1,
          1,
          1,
          1,
          1,
          1,
          1,
          1,
          1,
          1,
          1,
          1,
          1,
          1
         ],
         "yaxis": "y"
        }
       ],
       "layout": {
        "barmode": "relative",
        "legend": {
         "tracegroupgap": 0
        },
        "template": {
         "data": {
          "bar": [
           {
            "error_x": {
             "color": "#2a3f5f"
            },
            "error_y": {
             "color": "#2a3f5f"
            },
            "marker": {
             "line": {
              "color": "#E5ECF6",
              "width": 0.5
             },
             "pattern": {
              "fillmode": "overlay",
              "size": 10,
              "solidity": 0.2
             }
            },
            "type": "bar"
           }
          ],
          "barpolar": [
           {
            "marker": {
             "line": {
              "color": "#E5ECF6",
              "width": 0.5
             },
             "pattern": {
              "fillmode": "overlay",
              "size": 10,
              "solidity": 0.2
             }
            },
            "type": "barpolar"
           }
          ],
          "carpet": [
           {
            "aaxis": {
             "endlinecolor": "#2a3f5f",
             "gridcolor": "white",
             "linecolor": "white",
             "minorgridcolor": "white",
             "startlinecolor": "#2a3f5f"
            },
            "baxis": {
             "endlinecolor": "#2a3f5f",
             "gridcolor": "white",
             "linecolor": "white",
             "minorgridcolor": "white",
             "startlinecolor": "#2a3f5f"
            },
            "type": "carpet"
           }
          ],
          "choropleth": [
           {
            "colorbar": {
             "outlinewidth": 0,
             "ticks": ""
            },
            "type": "choropleth"
           }
          ],
          "contour": [
           {
            "colorbar": {
             "outlinewidth": 0,
             "ticks": ""
            },
            "colorscale": [
             [
              0,
              "#0d0887"
             ],
             [
              0.1111111111111111,
              "#46039f"
             ],
             [
              0.2222222222222222,
              "#7201a8"
             ],
             [
              0.3333333333333333,
              "#9c179e"
             ],
             [
              0.4444444444444444,
              "#bd3786"
             ],
             [
              0.5555555555555556,
              "#d8576b"
             ],
             [
              0.6666666666666666,
              "#ed7953"
             ],
             [
              0.7777777777777778,
              "#fb9f3a"
             ],
             [
              0.8888888888888888,
              "#fdca26"
             ],
             [
              1,
              "#f0f921"
             ]
            ],
            "type": "contour"
           }
          ],
          "contourcarpet": [
           {
            "colorbar": {
             "outlinewidth": 0,
             "ticks": ""
            },
            "type": "contourcarpet"
           }
          ],
          "heatmap": [
           {
            "colorbar": {
             "outlinewidth": 0,
             "ticks": ""
            },
            "colorscale": [
             [
              0,
              "#0d0887"
             ],
             [
              0.1111111111111111,
              "#46039f"
             ],
             [
              0.2222222222222222,
              "#7201a8"
             ],
             [
              0.3333333333333333,
              "#9c179e"
             ],
             [
              0.4444444444444444,
              "#bd3786"
             ],
             [
              0.5555555555555556,
              "#d8576b"
             ],
             [
              0.6666666666666666,
              "#ed7953"
             ],
             [
              0.7777777777777778,
              "#fb9f3a"
             ],
             [
              0.8888888888888888,
              "#fdca26"
             ],
             [
              1,
              "#f0f921"
             ]
            ],
            "type": "heatmap"
           }
          ],
          "heatmapgl": [
           {
            "colorbar": {
             "outlinewidth": 0,
             "ticks": ""
            },
            "colorscale": [
             [
              0,
              "#0d0887"
             ],
             [
              0.1111111111111111,
              "#46039f"
             ],
             [
              0.2222222222222222,
              "#7201a8"
             ],
             [
              0.3333333333333333,
              "#9c179e"
             ],
             [
              0.4444444444444444,
              "#bd3786"
             ],
             [
              0.5555555555555556,
              "#d8576b"
             ],
             [
              0.6666666666666666,
              "#ed7953"
             ],
             [
              0.7777777777777778,
              "#fb9f3a"
             ],
             [
              0.8888888888888888,
              "#fdca26"
             ],
             [
              1,
              "#f0f921"
             ]
            ],
            "type": "heatmapgl"
           }
          ],
          "histogram": [
           {
            "marker": {
             "pattern": {
              "fillmode": "overlay",
              "size": 10,
              "solidity": 0.2
             }
            },
            "type": "histogram"
           }
          ],
          "histogram2d": [
           {
            "colorbar": {
             "outlinewidth": 0,
             "ticks": ""
            },
            "colorscale": [
             [
              0,
              "#0d0887"
             ],
             [
              0.1111111111111111,
              "#46039f"
             ],
             [
              0.2222222222222222,
              "#7201a8"
             ],
             [
              0.3333333333333333,
              "#9c179e"
             ],
             [
              0.4444444444444444,
              "#bd3786"
             ],
             [
              0.5555555555555556,
              "#d8576b"
             ],
             [
              0.6666666666666666,
              "#ed7953"
             ],
             [
              0.7777777777777778,
              "#fb9f3a"
             ],
             [
              0.8888888888888888,
              "#fdca26"
             ],
             [
              1,
              "#f0f921"
             ]
            ],
            "type": "histogram2d"
           }
          ],
          "histogram2dcontour": [
           {
            "colorbar": {
             "outlinewidth": 0,
             "ticks": ""
            },
            "colorscale": [
             [
              0,
              "#0d0887"
             ],
             [
              0.1111111111111111,
              "#46039f"
             ],
             [
              0.2222222222222222,
              "#7201a8"
             ],
             [
              0.3333333333333333,
              "#9c179e"
             ],
             [
              0.4444444444444444,
              "#bd3786"
             ],
             [
              0.5555555555555556,
              "#d8576b"
             ],
             [
              0.6666666666666666,
              "#ed7953"
             ],
             [
              0.7777777777777778,
              "#fb9f3a"
             ],
             [
              0.8888888888888888,
              "#fdca26"
             ],
             [
              1,
              "#f0f921"
             ]
            ],
            "type": "histogram2dcontour"
           }
          ],
          "mesh3d": [
           {
            "colorbar": {
             "outlinewidth": 0,
             "ticks": ""
            },
            "type": "mesh3d"
           }
          ],
          "parcoords": [
           {
            "line": {
             "colorbar": {
              "outlinewidth": 0,
              "ticks": ""
             }
            },
            "type": "parcoords"
           }
          ],
          "pie": [
           {
            "automargin": true,
            "type": "pie"
           }
          ],
          "scatter": [
           {
            "fillpattern": {
             "fillmode": "overlay",
             "size": 10,
             "solidity": 0.2
            },
            "type": "scatter"
           }
          ],
          "scatter3d": [
           {
            "line": {
             "colorbar": {
              "outlinewidth": 0,
              "ticks": ""
             }
            },
            "marker": {
             "colorbar": {
              "outlinewidth": 0,
              "ticks": ""
             }
            },
            "type": "scatter3d"
           }
          ],
          "scattercarpet": [
           {
            "marker": {
             "colorbar": {
              "outlinewidth": 0,
              "ticks": ""
             }
            },
            "type": "scattercarpet"
           }
          ],
          "scattergeo": [
           {
            "marker": {
             "colorbar": {
              "outlinewidth": 0,
              "ticks": ""
             }
            },
            "type": "scattergeo"
           }
          ],
          "scattergl": [
           {
            "marker": {
             "colorbar": {
              "outlinewidth": 0,
              "ticks": ""
             }
            },
            "type": "scattergl"
           }
          ],
          "scattermapbox": [
           {
            "marker": {
             "colorbar": {
              "outlinewidth": 0,
              "ticks": ""
             }
            },
            "type": "scattermapbox"
           }
          ],
          "scatterpolar": [
           {
            "marker": {
             "colorbar": {
              "outlinewidth": 0,
              "ticks": ""
             }
            },
            "type": "scatterpolar"
           }
          ],
          "scatterpolargl": [
           {
            "marker": {
             "colorbar": {
              "outlinewidth": 0,
              "ticks": ""
             }
            },
            "type": "scatterpolargl"
           }
          ],
          "scatterternary": [
           {
            "marker": {
             "colorbar": {
              "outlinewidth": 0,
              "ticks": ""
             }
            },
            "type": "scatterternary"
           }
          ],
          "surface": [
           {
            "colorbar": {
             "outlinewidth": 0,
             "ticks": ""
            },
            "colorscale": [
             [
              0,
              "#0d0887"
             ],
             [
              0.1111111111111111,
              "#46039f"
             ],
             [
              0.2222222222222222,
              "#7201a8"
             ],
             [
              0.3333333333333333,
              "#9c179e"
             ],
             [
              0.4444444444444444,
              "#bd3786"
             ],
             [
              0.5555555555555556,
              "#d8576b"
             ],
             [
              0.6666666666666666,
              "#ed7953"
             ],
             [
              0.7777777777777778,
              "#fb9f3a"
             ],
             [
              0.8888888888888888,
              "#fdca26"
             ],
             [
              1,
              "#f0f921"
             ]
            ],
            "type": "surface"
           }
          ],
          "table": [
           {
            "cells": {
             "fill": {
              "color": "#EBF0F8"
             },
             "line": {
              "color": "white"
             }
            },
            "header": {
             "fill": {
              "color": "#C8D4E3"
             },
             "line": {
              "color": "white"
             }
            },
            "type": "table"
           }
          ]
         },
         "layout": {
          "annotationdefaults": {
           "arrowcolor": "#2a3f5f",
           "arrowhead": 0,
           "arrowwidth": 1
          },
          "autotypenumbers": "strict",
          "coloraxis": {
           "colorbar": {
            "outlinewidth": 0,
            "ticks": ""
           }
          },
          "colorscale": {
           "diverging": [
            [
             0,
             "#8e0152"
            ],
            [
             0.1,
             "#c51b7d"
            ],
            [
             0.2,
             "#de77ae"
            ],
            [
             0.3,
             "#f1b6da"
            ],
            [
             0.4,
             "#fde0ef"
            ],
            [
             0.5,
             "#f7f7f7"
            ],
            [
             0.6,
             "#e6f5d0"
            ],
            [
             0.7,
             "#b8e186"
            ],
            [
             0.8,
             "#7fbc41"
            ],
            [
             0.9,
             "#4d9221"
            ],
            [
             1,
             "#276419"
            ]
           ],
           "sequential": [
            [
             0,
             "#0d0887"
            ],
            [
             0.1111111111111111,
             "#46039f"
            ],
            [
             0.2222222222222222,
             "#7201a8"
            ],
            [
             0.3333333333333333,
             "#9c179e"
            ],
            [
             0.4444444444444444,
             "#bd3786"
            ],
            [
             0.5555555555555556,
             "#d8576b"
            ],
            [
             0.6666666666666666,
             "#ed7953"
            ],
            [
             0.7777777777777778,
             "#fb9f3a"
            ],
            [
             0.8888888888888888,
             "#fdca26"
            ],
            [
             1,
             "#f0f921"
            ]
           ],
           "sequentialminus": [
            [
             0,
             "#0d0887"
            ],
            [
             0.1111111111111111,
             "#46039f"
            ],
            [
             0.2222222222222222,
             "#7201a8"
            ],
            [
             0.3333333333333333,
             "#9c179e"
            ],
            [
             0.4444444444444444,
             "#bd3786"
            ],
            [
             0.5555555555555556,
             "#d8576b"
            ],
            [
             0.6666666666666666,
             "#ed7953"
            ],
            [
             0.7777777777777778,
             "#fb9f3a"
            ],
            [
             0.8888888888888888,
             "#fdca26"
            ],
            [
             1,
             "#f0f921"
            ]
           ]
          },
          "colorway": [
           "#636efa",
           "#EF553B",
           "#00cc96",
           "#ab63fa",
           "#FFA15A",
           "#19d3f3",
           "#FF6692",
           "#B6E880",
           "#FF97FF",
           "#FECB52"
          ],
          "font": {
           "color": "#2a3f5f"
          },
          "geo": {
           "bgcolor": "white",
           "lakecolor": "white",
           "landcolor": "#E5ECF6",
           "showlakes": true,
           "showland": true,
           "subunitcolor": "white"
          },
          "hoverlabel": {
           "align": "left"
          },
          "hovermode": "closest",
          "mapbox": {
           "style": "light"
          },
          "paper_bgcolor": "white",
          "plot_bgcolor": "#E5ECF6",
          "polar": {
           "angularaxis": {
            "gridcolor": "white",
            "linecolor": "white",
            "ticks": ""
           },
           "bgcolor": "#E5ECF6",
           "radialaxis": {
            "gridcolor": "white",
            "linecolor": "white",
            "ticks": ""
           }
          },
          "scene": {
           "xaxis": {
            "backgroundcolor": "#E5ECF6",
            "gridcolor": "white",
            "gridwidth": 2,
            "linecolor": "white",
            "showbackground": true,
            "ticks": "",
            "zerolinecolor": "white"
           },
           "yaxis": {
            "backgroundcolor": "#E5ECF6",
            "gridcolor": "white",
            "gridwidth": 2,
            "linecolor": "white",
            "showbackground": true,
            "ticks": "",
            "zerolinecolor": "white"
           },
           "zaxis": {
            "backgroundcolor": "#E5ECF6",
            "gridcolor": "white",
            "gridwidth": 2,
            "linecolor": "white",
            "showbackground": true,
            "ticks": "",
            "zerolinecolor": "white"
           }
          },
          "shapedefaults": {
           "line": {
            "color": "#2a3f5f"
           }
          },
          "ternary": {
           "aaxis": {
            "gridcolor": "white",
            "linecolor": "white",
            "ticks": ""
           },
           "baxis": {
            "gridcolor": "white",
            "linecolor": "white",
            "ticks": ""
           },
           "bgcolor": "#E5ECF6",
           "caxis": {
            "gridcolor": "white",
            "linecolor": "white",
            "ticks": ""
           }
          },
          "title": {
           "x": 0.05
          },
          "xaxis": {
           "automargin": true,
           "gridcolor": "white",
           "linecolor": "white",
           "ticks": "",
           "title": {
            "standoff": 15
           },
           "zerolinecolor": "white",
           "zerolinewidth": 2
          },
          "yaxis": {
           "automargin": true,
           "gridcolor": "white",
           "linecolor": "white",
           "ticks": "",
           "title": {
            "standoff": 15
           },
           "zerolinecolor": "white",
           "zerolinewidth": 2
          }
         }
        },
        "title": {
         "text": "Run Estimator Class Distribution"
        },
        "xaxis": {
         "anchor": "y",
         "domain": [
          0,
          1
         ],
         "title": {
          "text": "estimator_class"
         }
        },
        "yaxis": {
         "anchor": "x",
         "domain": [
          0,
          1
         ],
         "title": {
          "text": "count"
         }
        }
       }
      }
     },
     "metadata": {},
     "output_type": "display_data"
    }
   ],
   "source": [
    "px.bar(runs, x=\"estimator_class\", title=\"Run Estimator Class Distribution\")"
   ]
  }
 ],
 "metadata": {
  "kernelspec": {
   "display_name": ".venv",
   "language": "python",
   "name": "python3"
  },
  "language_info": {
   "codemirror_mode": {
    "name": "ipython",
    "version": 3
   },
   "file_extension": ".py",
   "mimetype": "text/x-python",
   "name": "python",
   "nbconvert_exporter": "python",
   "pygments_lexer": "ipython3",
   "version": "3.12.5"
  }
 },
 "nbformat": 4,
 "nbformat_minor": 2
}
