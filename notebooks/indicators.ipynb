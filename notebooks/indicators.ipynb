{
 "cells": [
  {
   "cell_type": "markdown",
   "metadata": {},
   "source": [
    "**Compute Key-Performance Indicators (KPIs) from the MLflow server.**"
   ]
  },
  {
   "cell_type": "markdown",
   "metadata": {},
   "source": [
    "# IMPORTS"
   ]
  },
  {
   "cell_type": "code",
   "execution_count": 1,
   "metadata": {},
   "outputs": [],
   "source": [
    "import mlflow\n",
    "import pandas as pd\n",
    "import plotly.express as px"
   ]
  },
  {
   "cell_type": "markdown",
   "metadata": {},
   "source": [
    "# OPTIONS"
   ]
  },
  {
   "cell_type": "code",
   "execution_count": 2,
   "metadata": {},
   "outputs": [],
   "source": [
    "pd.options.display.max_columns = None"
   ]
  },
  {
   "cell_type": "markdown",
   "metadata": {},
   "source": [
    "# CONFIGS"
   ]
  },
  {
   "cell_type": "code",
   "execution_count": 3,
   "metadata": {},
   "outputs": [],
   "source": [
    "MAX_RESULTS = 100\n",
    "TRACKING_URI = \"http://localhost:5000\"\n",
    "REGISTRY_URI = \"http://localhost:5000\""
   ]
  },
  {
   "cell_type": "markdown",
   "metadata": {},
   "source": [
    "# CLIENTS"
   ]
  },
  {
   "cell_type": "code",
   "execution_count": 4,
   "metadata": {},
   "outputs": [],
   "source": [
    "client = mlflow.tracking.MlflowClient(tracking_uri=TRACKING_URI, registry_uri=REGISTRY_URI)"
   ]
  },
  {
   "cell_type": "markdown",
   "metadata": {},
   "source": [
    "# INDICATORS"
   ]
  },
  {
   "cell_type": "code",
   "execution_count": 5,
   "metadata": {},
   "outputs": [
    {
     "name": "stdout",
     "output_type": "stream",
     "text": [
      "(1, 7)\n"
     ]
    },
    {
     "data": {
      "text/html": [
       "<div>\n",
       "<style scoped>\n",
       "    .dataframe tbody tr th:only-of-type {\n",
       "        vertical-align: middle;\n",
       "    }\n",
       "\n",
       "    .dataframe tbody tr th {\n",
       "        vertical-align: top;\n",
       "    }\n",
       "\n",
       "    .dataframe thead th {\n",
       "        text-align: right;\n",
       "    }\n",
       "</style>\n",
       "<table border=\"1\" class=\"dataframe\">\n",
       "  <thead>\n",
       "    <tr style=\"text-align: right;\">\n",
       "      <th></th>\n",
       "      <th>artifact_location</th>\n",
       "      <th>creation_time</th>\n",
       "      <th>experiment_id</th>\n",
       "      <th>last_update_time</th>\n",
       "      <th>lifecycle_stage</th>\n",
       "      <th>name</th>\n",
       "      <th>tags</th>\n",
       "    </tr>\n",
       "  </thead>\n",
       "  <tbody>\n",
       "    <tr>\n",
       "      <th>0</th>\n",
       "      <td>file:///home/fmind/mlops-python-package/mlruns...</td>\n",
       "      <td>2024-12-12 21:12:58.800</td>\n",
       "      <td>451770521480793486</td>\n",
       "      <td>2024-12-12 21:12:58.800</td>\n",
       "      <td>active</td>\n",
       "      <td>bikes</td>\n",
       "      <td>{}</td>\n",
       "    </tr>\n",
       "  </tbody>\n",
       "</table>\n",
       "</div>"
      ],
      "text/plain": [
       "                                   artifact_location           creation_time  \\\n",
       "0  file:///home/fmind/mlops-python-package/mlruns... 2024-12-12 21:12:58.800   \n",
       "\n",
       "        experiment_id        last_update_time lifecycle_stage   name tags  \n",
       "0  451770521480793486 2024-12-12 21:12:58.800          active  bikes   {}  "
      ]
     },
     "execution_count": 5,
     "metadata": {},
     "output_type": "execute_result"
    }
   ],
   "source": [
    "experiments = client.search_experiments(\n",
    "    view_type=mlflow.entities.ViewType.ALL, max_results=MAX_RESULTS, order_by=[\"creation_time DESC\"]\n",
    ")\n",
    "experiments = [dict(experiment) for experiment in experiments]\n",
    "experiments = pd.DataFrame(experiments).assign(\n",
    "    creation_time=lambda data: pd.to_datetime(data[\"creation_time\"], unit=\"ms\"),\n",
    "    last_update_time=lambda data: pd.to_datetime(data[\"last_update_time\"], unit=\"ms\"),\n",
    ")\n",
    "print(experiments.shape)\n",
    "experiments.head()"
   ]
  },
  {
   "cell_type": "code",
   "execution_count": 6,
   "metadata": {},
   "outputs": [
    {
     "name": "stdout",
     "output_type": "stream",
     "text": [
      "(19, 29)\n"
     ]
    },
    {
     "data": {
      "text/html": [
       "<div>\n",
       "<style scoped>\n",
       "    .dataframe tbody tr th:only-of-type {\n",
       "        vertical-align: middle;\n",
       "    }\n",
       "\n",
       "    .dataframe tbody tr th {\n",
       "        vertical-align: top;\n",
       "    }\n",
       "\n",
       "    .dataframe thead th {\n",
       "        text-align: right;\n",
       "    }\n",
       "</style>\n",
       "<table border=\"1\" class=\"dataframe\">\n",
       "  <thead>\n",
       "    <tr style=\"text-align: right;\">\n",
       "      <th></th>\n",
       "      <th>artifact_uri</th>\n",
       "      <th>end_time</th>\n",
       "      <th>experiment_id</th>\n",
       "      <th>lifecycle_stage</th>\n",
       "      <th>run_id</th>\n",
       "      <th>run_name</th>\n",
       "      <th>run_uuid</th>\n",
       "      <th>start_time</th>\n",
       "      <th>status</th>\n",
       "      <th>user_id</th>\n",
       "      <th>metrics</th>\n",
       "      <th>params</th>\n",
       "      <th>tags</th>\n",
       "      <th>run_time_secs</th>\n",
       "      <th>mlflow.user</th>\n",
       "      <th>mlflow.source.name</th>\n",
       "      <th>mlflow.source.type</th>\n",
       "      <th>mlflow.project.entryPoint</th>\n",
       "      <th>mlflow.source.git.commit</th>\n",
       "      <th>mlflow.source.git.repoURL</th>\n",
       "      <th>mlflow.gitRepoURL</th>\n",
       "      <th>mlflow.runName</th>\n",
       "      <th>mlflow.project.env</th>\n",
       "      <th>mlflow.project.backend</th>\n",
       "      <th>estimator_name</th>\n",
       "      <th>estimator_class</th>\n",
       "      <th>mlflow.log-model.history</th>\n",
       "      <th>mlflow.autologging</th>\n",
       "      <th>mlflow.parentRunId</th>\n",
       "    </tr>\n",
       "  </thead>\n",
       "  <tbody>\n",
       "    <tr>\n",
       "      <th>0</th>\n",
       "      <td>file:///home/fmind/mlops-python-package/mlruns...</td>\n",
       "      <td>2024-12-13 21:30:22.859</td>\n",
       "      <td>451770521480793486</td>\n",
       "      <td>active</td>\n",
       "      <td>92d0973c64dc419cacb89efe2df006a8</td>\n",
       "      <td>Explanations</td>\n",
       "      <td>92d0973c64dc419cacb89efe2df006a8</td>\n",
       "      <td>2024-12-13 21:29:52.698</td>\n",
       "      <td>FINISHED</td>\n",
       "      <td>fmind</td>\n",
       "      <td>{}</td>\n",
       "      <td>{'conf_file': 'confs/explanations.yaml'}</td>\n",
       "      <td>{'mlflow.user': 'fmind', 'mlflow.source.name':...</td>\n",
       "      <td>30.161</td>\n",
       "      <td>fmind</td>\n",
       "      <td>file:///home/fmind/mlops-python-package</td>\n",
       "      <td>PROJECT</td>\n",
       "      <td>main</td>\n",
       "      <td>5e7c0b8c7b49c29802893c9821ae8546e45952b0</td>\n",
       "      <td>git@github.com:fmind/mlops-python-package</td>\n",
       "      <td>git@github.com:fmind/mlops-python-package</td>\n",
       "      <td>Explanations</td>\n",
       "      <td>virtualenv</td>\n",
       "      <td>local</td>\n",
       "      <td>NaN</td>\n",
       "      <td>NaN</td>\n",
       "      <td>NaN</td>\n",
       "      <td>NaN</td>\n",
       "      <td>NaN</td>\n",
       "    </tr>\n",
       "    <tr>\n",
       "      <th>1</th>\n",
       "      <td>file:///home/fmind/mlops-python-package/mlruns...</td>\n",
       "      <td>2024-12-13 21:29:50.751</td>\n",
       "      <td>451770521480793486</td>\n",
       "      <td>active</td>\n",
       "      <td>855a19513f6d4282a217ef920a0d69f5</td>\n",
       "      <td>Evaluations</td>\n",
       "      <td>855a19513f6d4282a217ef920a0d69f5</td>\n",
       "      <td>2024-12-13 21:29:45.813</td>\n",
       "      <td>FINISHED</td>\n",
       "      <td>fmind</td>\n",
       "      <td>{'example_count': 13903.0, 'mean_absolute_erro...</td>\n",
       "      <td>{'conf_file': 'confs/evaluations.yaml'}</td>\n",
       "      <td>{'mlflow.user': 'fmind', 'mlflow.source.name':...</td>\n",
       "      <td>4.938</td>\n",
       "      <td>fmind</td>\n",
       "      <td>file:///home/fmind/mlops-python-package</td>\n",
       "      <td>PROJECT</td>\n",
       "      <td>main</td>\n",
       "      <td>5e7c0b8c7b49c29802893c9821ae8546e45952b0</td>\n",
       "      <td>git@github.com:fmind/mlops-python-package</td>\n",
       "      <td>git@github.com:fmind/mlops-python-package</td>\n",
       "      <td>Evaluations</td>\n",
       "      <td>virtualenv</td>\n",
       "      <td>local</td>\n",
       "      <td>NaN</td>\n",
       "      <td>NaN</td>\n",
       "      <td>NaN</td>\n",
       "      <td>NaN</td>\n",
       "      <td>NaN</td>\n",
       "    </tr>\n",
       "    <tr>\n",
       "      <th>2</th>\n",
       "      <td>file:///home/fmind/mlops-python-package/mlruns...</td>\n",
       "      <td>2024-12-13 21:29:43.951</td>\n",
       "      <td>451770521480793486</td>\n",
       "      <td>active</td>\n",
       "      <td>48f318dd0eed4c05b4bd5823f7d352f6</td>\n",
       "      <td>Inference</td>\n",
       "      <td>48f318dd0eed4c05b4bd5823f7d352f6</td>\n",
       "      <td>2024-12-13 21:29:39.639</td>\n",
       "      <td>FINISHED</td>\n",
       "      <td>fmind</td>\n",
       "      <td>{}</td>\n",
       "      <td>{'conf_file': 'confs/inference.yaml'}</td>\n",
       "      <td>{'mlflow.user': 'fmind', 'mlflow.source.name':...</td>\n",
       "      <td>4.312</td>\n",
       "      <td>fmind</td>\n",
       "      <td>file:///home/fmind/mlops-python-package</td>\n",
       "      <td>PROJECT</td>\n",
       "      <td>main</td>\n",
       "      <td>5e7c0b8c7b49c29802893c9821ae8546e45952b0</td>\n",
       "      <td>git@github.com:fmind/mlops-python-package</td>\n",
       "      <td>git@github.com:fmind/mlops-python-package</td>\n",
       "      <td>Inference</td>\n",
       "      <td>virtualenv</td>\n",
       "      <td>local</td>\n",
       "      <td>NaN</td>\n",
       "      <td>NaN</td>\n",
       "      <td>NaN</td>\n",
       "      <td>NaN</td>\n",
       "      <td>NaN</td>\n",
       "    </tr>\n",
       "    <tr>\n",
       "      <th>3</th>\n",
       "      <td>file:///home/fmind/mlops-python-package/mlruns...</td>\n",
       "      <td>2024-12-13 21:29:37.770</td>\n",
       "      <td>451770521480793486</td>\n",
       "      <td>active</td>\n",
       "      <td>05a8c27ae65a40008ae4962ad13691cf</td>\n",
       "      <td>Promotion</td>\n",
       "      <td>05a8c27ae65a40008ae4962ad13691cf</td>\n",
       "      <td>2024-12-13 21:29:34.124</td>\n",
       "      <td>FINISHED</td>\n",
       "      <td>fmind</td>\n",
       "      <td>{}</td>\n",
       "      <td>{'conf_file': 'confs/promotion.yaml'}</td>\n",
       "      <td>{'mlflow.user': 'fmind', 'mlflow.source.name':...</td>\n",
       "      <td>3.646</td>\n",
       "      <td>fmind</td>\n",
       "      <td>file:///home/fmind/mlops-python-package</td>\n",
       "      <td>PROJECT</td>\n",
       "      <td>main</td>\n",
       "      <td>5e7c0b8c7b49c29802893c9821ae8546e45952b0</td>\n",
       "      <td>git@github.com:fmind/mlops-python-package</td>\n",
       "      <td>git@github.com:fmind/mlops-python-package</td>\n",
       "      <td>Promotion</td>\n",
       "      <td>virtualenv</td>\n",
       "      <td>local</td>\n",
       "      <td>NaN</td>\n",
       "      <td>NaN</td>\n",
       "      <td>NaN</td>\n",
       "      <td>NaN</td>\n",
       "      <td>NaN</td>\n",
       "    </tr>\n",
       "    <tr>\n",
       "      <th>4</th>\n",
       "      <td>file:///home/fmind/mlops-python-package/mlruns...</td>\n",
       "      <td>2024-12-13 21:29:31.698</td>\n",
       "      <td>451770521480793486</td>\n",
       "      <td>active</td>\n",
       "      <td>ac1ad3a71ca1438f930cf61cdaf4dda2</td>\n",
       "      <td>Training</td>\n",
       "      <td>ac1ad3a71ca1438f930cf61cdaf4dda2</td>\n",
       "      <td>2024-12-13 21:29:08.647</td>\n",
       "      <td>FINISHED</td>\n",
       "      <td>fmind</td>\n",
       "      <td>{'training_mean_squared_error': 124.5105461557...</td>\n",
       "      <td>{'conf_file': 'confs/training.yaml', 'memory':...</td>\n",
       "      <td>{'mlflow.user': 'fmind', 'mlflow.source.name':...</td>\n",
       "      <td>23.051</td>\n",
       "      <td>fmind</td>\n",
       "      <td>file:///home/fmind/mlops-python-package</td>\n",
       "      <td>PROJECT</td>\n",
       "      <td>main</td>\n",
       "      <td>5e7c0b8c7b49c29802893c9821ae8546e45952b0</td>\n",
       "      <td>git@github.com:fmind/mlops-python-package</td>\n",
       "      <td>git@github.com:fmind/mlops-python-package</td>\n",
       "      <td>Training</td>\n",
       "      <td>virtualenv</td>\n",
       "      <td>local</td>\n",
       "      <td>Pipeline</td>\n",
       "      <td>sklearn.pipeline.Pipeline</td>\n",
       "      <td>[{\"run_id\": \"ac1ad3a71ca1438f930cf61cdaf4dda2\"...</td>\n",
       "      <td>NaN</td>\n",
       "      <td>NaN</td>\n",
       "    </tr>\n",
       "  </tbody>\n",
       "</table>\n",
       "</div>"
      ],
      "text/plain": [
       "                                        artifact_uri                end_time  \\\n",
       "0  file:///home/fmind/mlops-python-package/mlruns... 2024-12-13 21:30:22.859   \n",
       "1  file:///home/fmind/mlops-python-package/mlruns... 2024-12-13 21:29:50.751   \n",
       "2  file:///home/fmind/mlops-python-package/mlruns... 2024-12-13 21:29:43.951   \n",
       "3  file:///home/fmind/mlops-python-package/mlruns... 2024-12-13 21:29:37.770   \n",
       "4  file:///home/fmind/mlops-python-package/mlruns... 2024-12-13 21:29:31.698   \n",
       "\n",
       "        experiment_id lifecycle_stage                            run_id  \\\n",
       "0  451770521480793486          active  92d0973c64dc419cacb89efe2df006a8   \n",
       "1  451770521480793486          active  855a19513f6d4282a217ef920a0d69f5   \n",
       "2  451770521480793486          active  48f318dd0eed4c05b4bd5823f7d352f6   \n",
       "3  451770521480793486          active  05a8c27ae65a40008ae4962ad13691cf   \n",
       "4  451770521480793486          active  ac1ad3a71ca1438f930cf61cdaf4dda2   \n",
       "\n",
       "       run_name                          run_uuid              start_time  \\\n",
       "0  Explanations  92d0973c64dc419cacb89efe2df006a8 2024-12-13 21:29:52.698   \n",
       "1   Evaluations  855a19513f6d4282a217ef920a0d69f5 2024-12-13 21:29:45.813   \n",
       "2     Inference  48f318dd0eed4c05b4bd5823f7d352f6 2024-12-13 21:29:39.639   \n",
       "3     Promotion  05a8c27ae65a40008ae4962ad13691cf 2024-12-13 21:29:34.124   \n",
       "4      Training  ac1ad3a71ca1438f930cf61cdaf4dda2 2024-12-13 21:29:08.647   \n",
       "\n",
       "     status user_id                                            metrics  \\\n",
       "0  FINISHED   fmind                                                 {}   \n",
       "1  FINISHED   fmind  {'example_count': 13903.0, 'mean_absolute_erro...   \n",
       "2  FINISHED   fmind                                                 {}   \n",
       "3  FINISHED   fmind                                                 {}   \n",
       "4  FINISHED   fmind  {'training_mean_squared_error': 124.5105461557...   \n",
       "\n",
       "                                              params  \\\n",
       "0           {'conf_file': 'confs/explanations.yaml'}   \n",
       "1            {'conf_file': 'confs/evaluations.yaml'}   \n",
       "2              {'conf_file': 'confs/inference.yaml'}   \n",
       "3              {'conf_file': 'confs/promotion.yaml'}   \n",
       "4  {'conf_file': 'confs/training.yaml', 'memory':...   \n",
       "\n",
       "                                                tags  run_time_secs  \\\n",
       "0  {'mlflow.user': 'fmind', 'mlflow.source.name':...         30.161   \n",
       "1  {'mlflow.user': 'fmind', 'mlflow.source.name':...          4.938   \n",
       "2  {'mlflow.user': 'fmind', 'mlflow.source.name':...          4.312   \n",
       "3  {'mlflow.user': 'fmind', 'mlflow.source.name':...          3.646   \n",
       "4  {'mlflow.user': 'fmind', 'mlflow.source.name':...         23.051   \n",
       "\n",
       "  mlflow.user                       mlflow.source.name mlflow.source.type  \\\n",
       "0       fmind  file:///home/fmind/mlops-python-package            PROJECT   \n",
       "1       fmind  file:///home/fmind/mlops-python-package            PROJECT   \n",
       "2       fmind  file:///home/fmind/mlops-python-package            PROJECT   \n",
       "3       fmind  file:///home/fmind/mlops-python-package            PROJECT   \n",
       "4       fmind  file:///home/fmind/mlops-python-package            PROJECT   \n",
       "\n",
       "  mlflow.project.entryPoint                  mlflow.source.git.commit  \\\n",
       "0                      main  5e7c0b8c7b49c29802893c9821ae8546e45952b0   \n",
       "1                      main  5e7c0b8c7b49c29802893c9821ae8546e45952b0   \n",
       "2                      main  5e7c0b8c7b49c29802893c9821ae8546e45952b0   \n",
       "3                      main  5e7c0b8c7b49c29802893c9821ae8546e45952b0   \n",
       "4                      main  5e7c0b8c7b49c29802893c9821ae8546e45952b0   \n",
       "\n",
       "                   mlflow.source.git.repoURL  \\\n",
       "0  git@github.com:fmind/mlops-python-package   \n",
       "1  git@github.com:fmind/mlops-python-package   \n",
       "2  git@github.com:fmind/mlops-python-package   \n",
       "3  git@github.com:fmind/mlops-python-package   \n",
       "4  git@github.com:fmind/mlops-python-package   \n",
       "\n",
       "                           mlflow.gitRepoURL mlflow.runName  \\\n",
       "0  git@github.com:fmind/mlops-python-package   Explanations   \n",
       "1  git@github.com:fmind/mlops-python-package    Evaluations   \n",
       "2  git@github.com:fmind/mlops-python-package      Inference   \n",
       "3  git@github.com:fmind/mlops-python-package      Promotion   \n",
       "4  git@github.com:fmind/mlops-python-package       Training   \n",
       "\n",
       "  mlflow.project.env mlflow.project.backend estimator_name  \\\n",
       "0         virtualenv                  local            NaN   \n",
       "1         virtualenv                  local            NaN   \n",
       "2         virtualenv                  local            NaN   \n",
       "3         virtualenv                  local            NaN   \n",
       "4         virtualenv                  local       Pipeline   \n",
       "\n",
       "             estimator_class  \\\n",
       "0                        NaN   \n",
       "1                        NaN   \n",
       "2                        NaN   \n",
       "3                        NaN   \n",
       "4  sklearn.pipeline.Pipeline   \n",
       "\n",
       "                            mlflow.log-model.history mlflow.autologging  \\\n",
       "0                                                NaN                NaN   \n",
       "1                                                NaN                NaN   \n",
       "2                                                NaN                NaN   \n",
       "3                                                NaN                NaN   \n",
       "4  [{\"run_id\": \"ac1ad3a71ca1438f930cf61cdaf4dda2\"...                NaN   \n",
       "\n",
       "  mlflow.parentRunId  \n",
       "0                NaN  \n",
       "1                NaN  \n",
       "2                NaN  \n",
       "3                NaN  \n",
       "4                NaN  "
      ]
     },
     "execution_count": 6,
     "metadata": {},
     "output_type": "execute_result"
    }
   ],
   "source": [
    "runs = client.search_runs(\n",
    "    experiment_ids=experiments[\"experiment_id\"].unique(),\n",
    "    run_view_type=mlflow.entities.ViewType.ALL,\n",
    "    max_results=MAX_RESULTS,\n",
    "    order_by=[\"created DESC\"],\n",
    ")\n",
    "runs = [dict(run.info) | dict(run.data) for run in runs]\n",
    "runs = pd.DataFrame(runs).assign(\n",
    "    end_time=lambda data: pd.to_datetime(data[\"end_time\"], unit=\"ms\"),\n",
    "    start_time=lambda data: pd.to_datetime(data[\"start_time\"], unit=\"ms\"),\n",
    "    run_time_secs=lambda data: (data[\"end_time\"] - data[\"start_time\"]).map(\n",
    "        lambda t: t.total_seconds()\n",
    "    ),\n",
    ")\n",
    "runs = pd.concat([runs, pd.json_normalize(runs[\"tags\"])], axis=\"columns\")\n",
    "print(runs.shape)\n",
    "runs.head()"
   ]
  },
  {
   "cell_type": "code",
   "execution_count": 7,
   "metadata": {},
   "outputs": [
    {
     "name": "stdout",
     "output_type": "stream",
     "text": [
      "(1, 6)\n"
     ]
    },
    {
     "data": {
      "text/html": [
       "<div>\n",
       "<style scoped>\n",
       "    .dataframe tbody tr th:only-of-type {\n",
       "        vertical-align: middle;\n",
       "    }\n",
       "\n",
       "    .dataframe tbody tr th {\n",
       "        vertical-align: top;\n",
       "    }\n",
       "\n",
       "    .dataframe thead th {\n",
       "        text-align: right;\n",
       "    }\n",
       "</style>\n",
       "<table border=\"1\" class=\"dataframe\">\n",
       "  <thead>\n",
       "    <tr style=\"text-align: right;\">\n",
       "      <th></th>\n",
       "      <th>aliases</th>\n",
       "      <th>creation_timestamp</th>\n",
       "      <th>description</th>\n",
       "      <th>last_updated_timestamp</th>\n",
       "      <th>name</th>\n",
       "      <th>tags</th>\n",
       "    </tr>\n",
       "  </thead>\n",
       "  <tbody>\n",
       "    <tr>\n",
       "      <th>0</th>\n",
       "      <td>{'Champion': '2'}</td>\n",
       "      <td>2024-12-12 21:15:44.102</td>\n",
       "      <td></td>\n",
       "      <td>2024-12-13 21:29:37.314</td>\n",
       "      <td>bikes</td>\n",
       "      <td>{}</td>\n",
       "    </tr>\n",
       "  </tbody>\n",
       "</table>\n",
       "</div>"
      ],
      "text/plain": [
       "             aliases      creation_timestamp description  \\\n",
       "0  {'Champion': '2'} 2024-12-12 21:15:44.102               \n",
       "\n",
       "   last_updated_timestamp   name tags  \n",
       "0 2024-12-13 21:29:37.314  bikes   {}  "
      ]
     },
     "execution_count": 7,
     "metadata": {},
     "output_type": "execute_result"
    }
   ],
   "source": [
    "models = client.search_registered_models(\n",
    "    max_results=MAX_RESULTS, order_by=[\"creation_timestamp DESC\"]\n",
    ")\n",
    "models = [dict(model) for model in models]\n",
    "models = (\n",
    "    pd.DataFrame(models)\n",
    "    .assign(\n",
    "        creation_timestamp=lambda data: pd.to_datetime(data[\"creation_timestamp\"], unit=\"ms\"),\n",
    "        last_updated_timestamp=lambda data: pd.to_datetime(\n",
    "            data[\"last_updated_timestamp\"], unit=\"ms\"\n",
    "        ),\n",
    "    )\n",
    "    .drop(columns=[\"latest_versions\"])\n",
    ")\n",
    "print(models.shape)\n",
    "models"
   ]
  },
  {
   "cell_type": "code",
   "execution_count": 8,
   "metadata": {},
   "outputs": [
    {
     "name": "stdout",
     "output_type": "stream",
     "text": [
      "(2, 14)\n"
     ]
    },
    {
     "data": {
      "text/html": [
       "<div>\n",
       "<style scoped>\n",
       "    .dataframe tbody tr th:only-of-type {\n",
       "        vertical-align: middle;\n",
       "    }\n",
       "\n",
       "    .dataframe tbody tr th {\n",
       "        vertical-align: top;\n",
       "    }\n",
       "\n",
       "    .dataframe thead th {\n",
       "        text-align: right;\n",
       "    }\n",
       "</style>\n",
       "<table border=\"1\" class=\"dataframe\">\n",
       "  <thead>\n",
       "    <tr style=\"text-align: right;\">\n",
       "      <th></th>\n",
       "      <th>aliases</th>\n",
       "      <th>creation_timestamp</th>\n",
       "      <th>current_stage</th>\n",
       "      <th>description</th>\n",
       "      <th>last_updated_timestamp</th>\n",
       "      <th>name</th>\n",
       "      <th>run_id</th>\n",
       "      <th>run_link</th>\n",
       "      <th>source</th>\n",
       "      <th>status</th>\n",
       "      <th>status_message</th>\n",
       "      <th>tags</th>\n",
       "      <th>user_id</th>\n",
       "      <th>version</th>\n",
       "    </tr>\n",
       "  </thead>\n",
       "  <tbody>\n",
       "    <tr>\n",
       "      <th>0</th>\n",
       "      <td>Champion</td>\n",
       "      <td>2024-12-13 21:29:30.793</td>\n",
       "      <td>None</td>\n",
       "      <td></td>\n",
       "      <td>2024-12-13 21:29:30.793</td>\n",
       "      <td>bikes</td>\n",
       "      <td>ac1ad3a71ca1438f930cf61cdaf4dda2</td>\n",
       "      <td></td>\n",
       "      <td>file:///home/fmind/mlops-python-package/mlruns...</td>\n",
       "      <td>READY</td>\n",
       "      <td></td>\n",
       "      <td>{}</td>\n",
       "      <td></td>\n",
       "      <td>2</td>\n",
       "    </tr>\n",
       "    <tr>\n",
       "      <th>1</th>\n",
       "      <td>None</td>\n",
       "      <td>2024-12-12 21:15:44.106</td>\n",
       "      <td>None</td>\n",
       "      <td></td>\n",
       "      <td>2024-12-12 21:15:44.106</td>\n",
       "      <td>bikes</td>\n",
       "      <td>797710899d04491e8b9e91394c59ccd9</td>\n",
       "      <td></td>\n",
       "      <td>file:///home/fmind/mlops-python-package/mlruns...</td>\n",
       "      <td>READY</td>\n",
       "      <td></td>\n",
       "      <td>{}</td>\n",
       "      <td></td>\n",
       "      <td>1</td>\n",
       "    </tr>\n",
       "  </tbody>\n",
       "</table>\n",
       "</div>"
      ],
      "text/plain": [
       "    aliases      creation_timestamp current_stage description  \\\n",
       "0  Champion 2024-12-13 21:29:30.793          None               \n",
       "1      None 2024-12-12 21:15:44.106          None               \n",
       "\n",
       "   last_updated_timestamp   name                            run_id run_link  \\\n",
       "0 2024-12-13 21:29:30.793  bikes  ac1ad3a71ca1438f930cf61cdaf4dda2            \n",
       "1 2024-12-12 21:15:44.106  bikes  797710899d04491e8b9e91394c59ccd9            \n",
       "\n",
       "                                              source status status_message  \\\n",
       "0  file:///home/fmind/mlops-python-package/mlruns...  READY                  \n",
       "1  file:///home/fmind/mlops-python-package/mlruns...  READY                  \n",
       "\n",
       "  tags user_id version  \n",
       "0   {}               2  \n",
       "1   {}               1  "
      ]
     },
     "execution_count": 8,
     "metadata": {},
     "output_type": "execute_result"
    }
   ],
   "source": [
    "versions = client.search_model_versions(\n",
    "    max_results=MAX_RESULTS, order_by=[\"creation_timestamp DESC\"]\n",
    ")\n",
    "versions = [dict(version) for version in versions]\n",
    "versions = pd.DataFrame(versions).assign(\n",
    "    aliases=lambda data: data[\"aliases\"].map(lambda x: x[0] if len(x) else None),\n",
    "    creation_timestamp=lambda data: pd.to_datetime(data[\"creation_timestamp\"], unit=\"ms\"),\n",
    "    last_updated_timestamp=lambda data: pd.to_datetime(data[\"last_updated_timestamp\"], unit=\"ms\"),\n",
    ")\n",
    "print(versions.shape)\n",
    "versions.head()"
   ]
  },
  {
   "cell_type": "markdown",
   "metadata": {},
   "source": [
    "# DASHBOARDS"
   ]
  },
  {
   "cell_type": "code",
   "execution_count": 9,
   "metadata": {},
   "outputs": [
    {
     "data": {
      "application/vnd.plotly.v1+json": {
       "config": {
        "plotlyServerURL": "https://plot.ly"
       },
       "data": [
        {
         "alignmentgroup": "True",
         "boxpoints": "all",
         "customdata": [
          [
           "file:///home/fmind/mlops-python-package/mlruns/451770521480793486",
           "451770521480793486",
           "2024-12-12T21:12:58.800000",
           "active",
           "bikes",
           {}
          ]
         ],
         "fillcolor": "rgba(255,255,255,0)",
         "hoveron": "points",
         "hovertemplate": "<b>%{hovertext}</b><br><br>lifecycle_stage=%{customdata[3]}<br>creation_time=%{x}<br>artifact_location=%{customdata[0]}<br>experiment_id=%{customdata[1]}<br>last_update_time=%{customdata[2]}<br>name=%{customdata[4]}<br>tags=%{customdata[5]}<extra></extra>",
         "hovertext": [
          "bikes"
         ],
         "legendgroup": "active",
         "line": {
          "color": "rgba(255,255,255,0)"
         },
         "marker": {
          "color": "#636efa"
         },
         "name": "active",
         "offsetgroup": "active",
         "orientation": "h",
         "pointpos": 0,
         "showlegend": true,
         "type": "box",
         "x": [
          "2024-12-12T21:12:58.800000"
         ],
         "x0": " ",
         "xaxis": "x",
         "y0": " ",
         "yaxis": "y"
        }
       ],
       "layout": {
        "boxmode": "group",
        "legend": {
         "title": {
          "text": "lifecycle_stage"
         },
         "tracegroupgap": 0
        },
        "template": {
         "data": {
          "bar": [
           {
            "error_x": {
             "color": "#2a3f5f"
            },
            "error_y": {
             "color": "#2a3f5f"
            },
            "marker": {
             "line": {
              "color": "#E5ECF6",
              "width": 0.5
             },
             "pattern": {
              "fillmode": "overlay",
              "size": 10,
              "solidity": 0.2
             }
            },
            "type": "bar"
           }
          ],
          "barpolar": [
           {
            "marker": {
             "line": {
              "color": "#E5ECF6",
              "width": 0.5
             },
             "pattern": {
              "fillmode": "overlay",
              "size": 10,
              "solidity": 0.2
             }
            },
            "type": "barpolar"
           }
          ],
          "carpet": [
           {
            "aaxis": {
             "endlinecolor": "#2a3f5f",
             "gridcolor": "white",
             "linecolor": "white",
             "minorgridcolor": "white",
             "startlinecolor": "#2a3f5f"
            },
            "baxis": {
             "endlinecolor": "#2a3f5f",
             "gridcolor": "white",
             "linecolor": "white",
             "minorgridcolor": "white",
             "startlinecolor": "#2a3f5f"
            },
            "type": "carpet"
           }
          ],
          "choropleth": [
           {
            "colorbar": {
             "outlinewidth": 0,
             "ticks": ""
            },
            "type": "choropleth"
           }
          ],
          "contour": [
           {
            "colorbar": {
             "outlinewidth": 0,
             "ticks": ""
            },
            "colorscale": [
             [
              0,
              "#0d0887"
             ],
             [
              0.1111111111111111,
              "#46039f"
             ],
             [
              0.2222222222222222,
              "#7201a8"
             ],
             [
              0.3333333333333333,
              "#9c179e"
             ],
             [
              0.4444444444444444,
              "#bd3786"
             ],
             [
              0.5555555555555556,
              "#d8576b"
             ],
             [
              0.6666666666666666,
              "#ed7953"
             ],
             [
              0.7777777777777778,
              "#fb9f3a"
             ],
             [
              0.8888888888888888,
              "#fdca26"
             ],
             [
              1,
              "#f0f921"
             ]
            ],
            "type": "contour"
           }
          ],
          "contourcarpet": [
           {
            "colorbar": {
             "outlinewidth": 0,
             "ticks": ""
            },
            "type": "contourcarpet"
           }
          ],
          "heatmap": [
           {
            "colorbar": {
             "outlinewidth": 0,
             "ticks": ""
            },
            "colorscale": [
             [
              0,
              "#0d0887"
             ],
             [
              0.1111111111111111,
              "#46039f"
             ],
             [
              0.2222222222222222,
              "#7201a8"
             ],
             [
              0.3333333333333333,
              "#9c179e"
             ],
             [
              0.4444444444444444,
              "#bd3786"
             ],
             [
              0.5555555555555556,
              "#d8576b"
             ],
             [
              0.6666666666666666,
              "#ed7953"
             ],
             [
              0.7777777777777778,
              "#fb9f3a"
             ],
             [
              0.8888888888888888,
              "#fdca26"
             ],
             [
              1,
              "#f0f921"
             ]
            ],
            "type": "heatmap"
           }
          ],
          "heatmapgl": [
           {
            "colorbar": {
             "outlinewidth": 0,
             "ticks": ""
            },
            "colorscale": [
             [
              0,
              "#0d0887"
             ],
             [
              0.1111111111111111,
              "#46039f"
             ],
             [
              0.2222222222222222,
              "#7201a8"
             ],
             [
              0.3333333333333333,
              "#9c179e"
             ],
             [
              0.4444444444444444,
              "#bd3786"
             ],
             [
              0.5555555555555556,
              "#d8576b"
             ],
             [
              0.6666666666666666,
              "#ed7953"
             ],
             [
              0.7777777777777778,
              "#fb9f3a"
             ],
             [
              0.8888888888888888,
              "#fdca26"
             ],
             [
              1,
              "#f0f921"
             ]
            ],
            "type": "heatmapgl"
           }
          ],
          "histogram": [
           {
            "marker": {
             "pattern": {
              "fillmode": "overlay",
              "size": 10,
              "solidity": 0.2
             }
            },
            "type": "histogram"
           }
          ],
          "histogram2d": [
           {
            "colorbar": {
             "outlinewidth": 0,
             "ticks": ""
            },
            "colorscale": [
             [
              0,
              "#0d0887"
             ],
             [
              0.1111111111111111,
              "#46039f"
             ],
             [
              0.2222222222222222,
              "#7201a8"
             ],
             [
              0.3333333333333333,
              "#9c179e"
             ],
             [
              0.4444444444444444,
              "#bd3786"
             ],
             [
              0.5555555555555556,
              "#d8576b"
             ],
             [
              0.6666666666666666,
              "#ed7953"
             ],
             [
              0.7777777777777778,
              "#fb9f3a"
             ],
             [
              0.8888888888888888,
              "#fdca26"
             ],
             [
              1,
              "#f0f921"
             ]
            ],
            "type": "histogram2d"
           }
          ],
          "histogram2dcontour": [
           {
            "colorbar": {
             "outlinewidth": 0,
             "ticks": ""
            },
            "colorscale": [
             [
              0,
              "#0d0887"
             ],
             [
              0.1111111111111111,
              "#46039f"
             ],
             [
              0.2222222222222222,
              "#7201a8"
             ],
             [
              0.3333333333333333,
              "#9c179e"
             ],
             [
              0.4444444444444444,
              "#bd3786"
             ],
             [
              0.5555555555555556,
              "#d8576b"
             ],
             [
              0.6666666666666666,
              "#ed7953"
             ],
             [
              0.7777777777777778,
              "#fb9f3a"
             ],
             [
              0.8888888888888888,
              "#fdca26"
             ],
             [
              1,
              "#f0f921"
             ]
            ],
            "type": "histogram2dcontour"
           }
          ],
          "mesh3d": [
           {
            "colorbar": {
             "outlinewidth": 0,
             "ticks": ""
            },
            "type": "mesh3d"
           }
          ],
          "parcoords": [
           {
            "line": {
             "colorbar": {
              "outlinewidth": 0,
              "ticks": ""
             }
            },
            "type": "parcoords"
           }
          ],
          "pie": [
           {
            "automargin": true,
            "type": "pie"
           }
          ],
          "scatter": [
           {
            "fillpattern": {
             "fillmode": "overlay",
             "size": 10,
             "solidity": 0.2
            },
            "type": "scatter"
           }
          ],
          "scatter3d": [
           {
            "line": {
             "colorbar": {
              "outlinewidth": 0,
              "ticks": ""
             }
            },
            "marker": {
             "colorbar": {
              "outlinewidth": 0,
              "ticks": ""
             }
            },
            "type": "scatter3d"
           }
          ],
          "scattercarpet": [
           {
            "marker": {
             "colorbar": {
              "outlinewidth": 0,
              "ticks": ""
             }
            },
            "type": "scattercarpet"
           }
          ],
          "scattergeo": [
           {
            "marker": {
             "colorbar": {
              "outlinewidth": 0,
              "ticks": ""
             }
            },
            "type": "scattergeo"
           }
          ],
          "scattergl": [
           {
            "marker": {
             "colorbar": {
              "outlinewidth": 0,
              "ticks": ""
             }
            },
            "type": "scattergl"
           }
          ],
          "scattermapbox": [
           {
            "marker": {
             "colorbar": {
              "outlinewidth": 0,
              "ticks": ""
             }
            },
            "type": "scattermapbox"
           }
          ],
          "scatterpolar": [
           {
            "marker": {
             "colorbar": {
              "outlinewidth": 0,
              "ticks": ""
             }
            },
            "type": "scatterpolar"
           }
          ],
          "scatterpolargl": [
           {
            "marker": {
             "colorbar": {
              "outlinewidth": 0,
              "ticks": ""
             }
            },
            "type": "scatterpolargl"
           }
          ],
          "scatterternary": [
           {
            "marker": {
             "colorbar": {
              "outlinewidth": 0,
              "ticks": ""
             }
            },
            "type": "scatterternary"
           }
          ],
          "surface": [
           {
            "colorbar": {
             "outlinewidth": 0,
             "ticks": ""
            },
            "colorscale": [
             [
              0,
              "#0d0887"
             ],
             [
              0.1111111111111111,
              "#46039f"
             ],
             [
              0.2222222222222222,
              "#7201a8"
             ],
             [
              0.3333333333333333,
              "#9c179e"
             ],
             [
              0.4444444444444444,
              "#bd3786"
             ],
             [
              0.5555555555555556,
              "#d8576b"
             ],
             [
              0.6666666666666666,
              "#ed7953"
             ],
             [
              0.7777777777777778,
              "#fb9f3a"
             ],
             [
              0.8888888888888888,
              "#fdca26"
             ],
             [
              1,
              "#f0f921"
             ]
            ],
            "type": "surface"
           }
          ],
          "table": [
           {
            "cells": {
             "fill": {
              "color": "#EBF0F8"
             },
             "line": {
              "color": "white"
             }
            },
            "header": {
             "fill": {
              "color": "#C8D4E3"
             },
             "line": {
              "color": "white"
             }
            },
            "type": "table"
           }
          ]
         },
         "layout": {
          "annotationdefaults": {
           "arrowcolor": "#2a3f5f",
           "arrowhead": 0,
           "arrowwidth": 1
          },
          "autotypenumbers": "strict",
          "coloraxis": {
           "colorbar": {
            "outlinewidth": 0,
            "ticks": ""
           }
          },
          "colorscale": {
           "diverging": [
            [
             0,
             "#8e0152"
            ],
            [
             0.1,
             "#c51b7d"
            ],
            [
             0.2,
             "#de77ae"
            ],
            [
             0.3,
             "#f1b6da"
            ],
            [
             0.4,
             "#fde0ef"
            ],
            [
             0.5,
             "#f7f7f7"
            ],
            [
             0.6,
             "#e6f5d0"
            ],
            [
             0.7,
             "#b8e186"
            ],
            [
             0.8,
             "#7fbc41"
            ],
            [
             0.9,
             "#4d9221"
            ],
            [
             1,
             "#276419"
            ]
           ],
           "sequential": [
            [
             0,
             "#0d0887"
            ],
            [
             0.1111111111111111,
             "#46039f"
            ],
            [
             0.2222222222222222,
             "#7201a8"
            ],
            [
             0.3333333333333333,
             "#9c179e"
            ],
            [
             0.4444444444444444,
             "#bd3786"
            ],
            [
             0.5555555555555556,
             "#d8576b"
            ],
            [
             0.6666666666666666,
             "#ed7953"
            ],
            [
             0.7777777777777778,
             "#fb9f3a"
            ],
            [
             0.8888888888888888,
             "#fdca26"
            ],
            [
             1,
             "#f0f921"
            ]
           ],
           "sequentialminus": [
            [
             0,
             "#0d0887"
            ],
            [
             0.1111111111111111,
             "#46039f"
            ],
            [
             0.2222222222222222,
             "#7201a8"
            ],
            [
             0.3333333333333333,
             "#9c179e"
            ],
            [
             0.4444444444444444,
             "#bd3786"
            ],
            [
             0.5555555555555556,
             "#d8576b"
            ],
            [
             0.6666666666666666,
             "#ed7953"
            ],
            [
             0.7777777777777778,
             "#fb9f3a"
            ],
            [
             0.8888888888888888,
             "#fdca26"
            ],
            [
             1,
             "#f0f921"
            ]
           ]
          },
          "colorway": [
           "#636efa",
           "#EF553B",
           "#00cc96",
           "#ab63fa",
           "#FFA15A",
           "#19d3f3",
           "#FF6692",
           "#B6E880",
           "#FF97FF",
           "#FECB52"
          ],
          "font": {
           "color": "#2a3f5f"
          },
          "geo": {
           "bgcolor": "white",
           "lakecolor": "white",
           "landcolor": "#E5ECF6",
           "showlakes": true,
           "showland": true,
           "subunitcolor": "white"
          },
          "hoverlabel": {
           "align": "left"
          },
          "hovermode": "closest",
          "mapbox": {
           "style": "light"
          },
          "paper_bgcolor": "white",
          "plot_bgcolor": "#E5ECF6",
          "polar": {
           "angularaxis": {
            "gridcolor": "white",
            "linecolor": "white",
            "ticks": ""
           },
           "bgcolor": "#E5ECF6",
           "radialaxis": {
            "gridcolor": "white",
            "linecolor": "white",
            "ticks": ""
           }
          },
          "scene": {
           "xaxis": {
            "backgroundcolor": "#E5ECF6",
            "gridcolor": "white",
            "gridwidth": 2,
            "linecolor": "white",
            "showbackground": true,
            "ticks": "",
            "zerolinecolor": "white"
           },
           "yaxis": {
            "backgroundcolor": "#E5ECF6",
            "gridcolor": "white",
            "gridwidth": 2,
            "linecolor": "white",
            "showbackground": true,
            "ticks": "",
            "zerolinecolor": "white"
           },
           "zaxis": {
            "backgroundcolor": "#E5ECF6",
            "gridcolor": "white",
            "gridwidth": 2,
            "linecolor": "white",
            "showbackground": true,
            "ticks": "",
            "zerolinecolor": "white"
           }
          },
          "shapedefaults": {
           "line": {
            "color": "#2a3f5f"
           }
          },
          "ternary": {
           "aaxis": {
            "gridcolor": "white",
            "linecolor": "white",
            "ticks": ""
           },
           "baxis": {
            "gridcolor": "white",
            "linecolor": "white",
            "ticks": ""
           },
           "bgcolor": "#E5ECF6",
           "caxis": {
            "gridcolor": "white",
            "linecolor": "white",
            "ticks": ""
           }
          },
          "title": {
           "x": 0.05
          },
          "xaxis": {
           "automargin": true,
           "gridcolor": "white",
           "linecolor": "white",
           "ticks": "",
           "title": {
            "standoff": 15
           },
           "zerolinecolor": "white",
           "zerolinewidth": 2
          },
          "yaxis": {
           "automargin": true,
           "gridcolor": "white",
           "linecolor": "white",
           "ticks": "",
           "title": {
            "standoff": 15
           },
           "zerolinecolor": "white",
           "zerolinewidth": 2
          }
         }
        },
        "title": {
         "text": "Experiment Creation Time"
        },
        "xaxis": {
         "anchor": "y",
         "domain": [
          0,
          1
         ],
         "title": {
          "text": "creation_time"
         }
        },
        "yaxis": {
         "anchor": "x",
         "domain": [
          0,
          1
         ]
        }
       }
      }
     },
     "metadata": {},
     "output_type": "display_data"
    }
   ],
   "source": [
    "px.strip(\n",
    "    experiments,\n",
    "    x=\"creation_time\",\n",
    "    color=\"lifecycle_stage\",\n",
    "    hover_name=\"name\",\n",
    "    hover_data=experiments.columns,\n",
    "    title=\"Experiment Creation Time\",\n",
    ")"
   ]
  },
  {
   "cell_type": "code",
   "execution_count": 10,
   "metadata": {},
   "outputs": [
    {
     "data": {
      "application/vnd.plotly.v1+json": {
       "config": {
        "plotlyServerURL": "https://plot.ly"
       },
       "data": [
        {
         "alignmentgroup": "True",
         "boxpoints": "all",
         "customdata": [
          [
           {
            "Champion": "2"
           },
           "",
           "2024-12-13T21:29:37.314000",
           "bikes",
           {}
          ]
         ],
         "fillcolor": "rgba(255,255,255,0)",
         "hoveron": "points",
         "hovertemplate": "<b>%{hovertext}</b><br><br>creation_timestamp=%{x}<br>aliases=%{customdata[0]}<br>description=%{customdata[1]}<br>last_updated_timestamp=%{customdata[2]}<br>name=%{customdata[3]}<br>tags=%{customdata[4]}<extra></extra>",
         "hovertext": [
          "bikes"
         ],
         "legendgroup": "",
         "line": {
          "color": "rgba(255,255,255,0)"
         },
         "marker": {
          "color": "#636efa"
         },
         "name": "",
         "offsetgroup": "",
         "orientation": "h",
         "pointpos": 0,
         "showlegend": false,
         "type": "box",
         "x": [
          "2024-12-12T21:15:44.102000"
         ],
         "x0": " ",
         "xaxis": "x",
         "y0": " ",
         "yaxis": "y"
        }
       ],
       "layout": {
        "boxmode": "group",
        "legend": {
         "tracegroupgap": 0
        },
        "template": {
         "data": {
          "bar": [
           {
            "error_x": {
             "color": "#2a3f5f"
            },
            "error_y": {
             "color": "#2a3f5f"
            },
            "marker": {
             "line": {
              "color": "#E5ECF6",
              "width": 0.5
             },
             "pattern": {
              "fillmode": "overlay",
              "size": 10,
              "solidity": 0.2
             }
            },
            "type": "bar"
           }
          ],
          "barpolar": [
           {
            "marker": {
             "line": {
              "color": "#E5ECF6",
              "width": 0.5
             },
             "pattern": {
              "fillmode": "overlay",
              "size": 10,
              "solidity": 0.2
             }
            },
            "type": "barpolar"
           }
          ],
          "carpet": [
           {
            "aaxis": {
             "endlinecolor": "#2a3f5f",
             "gridcolor": "white",
             "linecolor": "white",
             "minorgridcolor": "white",
             "startlinecolor": "#2a3f5f"
            },
            "baxis": {
             "endlinecolor": "#2a3f5f",
             "gridcolor": "white",
             "linecolor": "white",
             "minorgridcolor": "white",
             "startlinecolor": "#2a3f5f"
            },
            "type": "carpet"
           }
          ],
          "choropleth": [
           {
            "colorbar": {
             "outlinewidth": 0,
             "ticks": ""
            },
            "type": "choropleth"
           }
          ],
          "contour": [
           {
            "colorbar": {
             "outlinewidth": 0,
             "ticks": ""
            },
            "colorscale": [
             [
              0,
              "#0d0887"
             ],
             [
              0.1111111111111111,
              "#46039f"
             ],
             [
              0.2222222222222222,
              "#7201a8"
             ],
             [
              0.3333333333333333,
              "#9c179e"
             ],
             [
              0.4444444444444444,
              "#bd3786"
             ],
             [
              0.5555555555555556,
              "#d8576b"
             ],
             [
              0.6666666666666666,
              "#ed7953"
             ],
             [
              0.7777777777777778,
              "#fb9f3a"
             ],
             [
              0.8888888888888888,
              "#fdca26"
             ],
             [
              1,
              "#f0f921"
             ]
            ],
            "type": "contour"
           }
          ],
          "contourcarpet": [
           {
            "colorbar": {
             "outlinewidth": 0,
             "ticks": ""
            },
            "type": "contourcarpet"
           }
          ],
          "heatmap": [
           {
            "colorbar": {
             "outlinewidth": 0,
             "ticks": ""
            },
            "colorscale": [
             [
              0,
              "#0d0887"
             ],
             [
              0.1111111111111111,
              "#46039f"
             ],
             [
              0.2222222222222222,
              "#7201a8"
             ],
             [
              0.3333333333333333,
              "#9c179e"
             ],
             [
              0.4444444444444444,
              "#bd3786"
             ],
             [
              0.5555555555555556,
              "#d8576b"
             ],
             [
              0.6666666666666666,
              "#ed7953"
             ],
             [
              0.7777777777777778,
              "#fb9f3a"
             ],
             [
              0.8888888888888888,
              "#fdca26"
             ],
             [
              1,
              "#f0f921"
             ]
            ],
            "type": "heatmap"
           }
          ],
          "heatmapgl": [
           {
            "colorbar": {
             "outlinewidth": 0,
             "ticks": ""
            },
            "colorscale": [
             [
              0,
              "#0d0887"
             ],
             [
              0.1111111111111111,
              "#46039f"
             ],
             [
              0.2222222222222222,
              "#7201a8"
             ],
             [
              0.3333333333333333,
              "#9c179e"
             ],
             [
              0.4444444444444444,
              "#bd3786"
             ],
             [
              0.5555555555555556,
              "#d8576b"
             ],
             [
              0.6666666666666666,
              "#ed7953"
             ],
             [
              0.7777777777777778,
              "#fb9f3a"
             ],
             [
              0.8888888888888888,
              "#fdca26"
             ],
             [
              1,
              "#f0f921"
             ]
            ],
            "type": "heatmapgl"
           }
          ],
          "histogram": [
           {
            "marker": {
             "pattern": {
              "fillmode": "overlay",
              "size": 10,
              "solidity": 0.2
             }
            },
            "type": "histogram"
           }
          ],
          "histogram2d": [
           {
            "colorbar": {
             "outlinewidth": 0,
             "ticks": ""
            },
            "colorscale": [
             [
              0,
              "#0d0887"
             ],
             [
              0.1111111111111111,
              "#46039f"
             ],
             [
              0.2222222222222222,
              "#7201a8"
             ],
             [
              0.3333333333333333,
              "#9c179e"
             ],
             [
              0.4444444444444444,
              "#bd3786"
             ],
             [
              0.5555555555555556,
              "#d8576b"
             ],
             [
              0.6666666666666666,
              "#ed7953"
             ],
             [
              0.7777777777777778,
              "#fb9f3a"
             ],
             [
              0.8888888888888888,
              "#fdca26"
             ],
             [
              1,
              "#f0f921"
             ]
            ],
            "type": "histogram2d"
           }
          ],
          "histogram2dcontour": [
           {
            "colorbar": {
             "outlinewidth": 0,
             "ticks": ""
            },
            "colorscale": [
             [
              0,
              "#0d0887"
             ],
             [
              0.1111111111111111,
              "#46039f"
             ],
             [
              0.2222222222222222,
              "#7201a8"
             ],
             [
              0.3333333333333333,
              "#9c179e"
             ],
             [
              0.4444444444444444,
              "#bd3786"
             ],
             [
              0.5555555555555556,
              "#d8576b"
             ],
             [
              0.6666666666666666,
              "#ed7953"
             ],
             [
              0.7777777777777778,
              "#fb9f3a"
             ],
             [
              0.8888888888888888,
              "#fdca26"
             ],
             [
              1,
              "#f0f921"
             ]
            ],
            "type": "histogram2dcontour"
           }
          ],
          "mesh3d": [
           {
            "colorbar": {
             "outlinewidth": 0,
             "ticks": ""
            },
            "type": "mesh3d"
           }
          ],
          "parcoords": [
           {
            "line": {
             "colorbar": {
              "outlinewidth": 0,
              "ticks": ""
             }
            },
            "type": "parcoords"
           }
          ],
          "pie": [
           {
            "automargin": true,
            "type": "pie"
           }
          ],
          "scatter": [
           {
            "fillpattern": {
             "fillmode": "overlay",
             "size": 10,
             "solidity": 0.2
            },
            "type": "scatter"
           }
          ],
          "scatter3d": [
           {
            "line": {
             "colorbar": {
              "outlinewidth": 0,
              "ticks": ""
             }
            },
            "marker": {
             "colorbar": {
              "outlinewidth": 0,
              "ticks": ""
             }
            },
            "type": "scatter3d"
           }
          ],
          "scattercarpet": [
           {
            "marker": {
             "colorbar": {
              "outlinewidth": 0,
              "ticks": ""
             }
            },
            "type": "scattercarpet"
           }
          ],
          "scattergeo": [
           {
            "marker": {
             "colorbar": {
              "outlinewidth": 0,
              "ticks": ""
             }
            },
            "type": "scattergeo"
           }
          ],
          "scattergl": [
           {
            "marker": {
             "colorbar": {
              "outlinewidth": 0,
              "ticks": ""
             }
            },
            "type": "scattergl"
           }
          ],
          "scattermapbox": [
           {
            "marker": {
             "colorbar": {
              "outlinewidth": 0,
              "ticks": ""
             }
            },
            "type": "scattermapbox"
           }
          ],
          "scatterpolar": [
           {
            "marker": {
             "colorbar": {
              "outlinewidth": 0,
              "ticks": ""
             }
            },
            "type": "scatterpolar"
           }
          ],
          "scatterpolargl": [
           {
            "marker": {
             "colorbar": {
              "outlinewidth": 0,
              "ticks": ""
             }
            },
            "type": "scatterpolargl"
           }
          ],
          "scatterternary": [
           {
            "marker": {
             "colorbar": {
              "outlinewidth": 0,
              "ticks": ""
             }
            },
            "type": "scatterternary"
           }
          ],
          "surface": [
           {
            "colorbar": {
             "outlinewidth": 0,
             "ticks": ""
            },
            "colorscale": [
             [
              0,
              "#0d0887"
             ],
             [
              0.1111111111111111,
              "#46039f"
             ],
             [
              0.2222222222222222,
              "#7201a8"
             ],
             [
              0.3333333333333333,
              "#9c179e"
             ],
             [
              0.4444444444444444,
              "#bd3786"
             ],
             [
              0.5555555555555556,
              "#d8576b"
             ],
             [
              0.6666666666666666,
              "#ed7953"
             ],
             [
              0.7777777777777778,
              "#fb9f3a"
             ],
             [
              0.8888888888888888,
              "#fdca26"
             ],
             [
              1,
              "#f0f921"
             ]
            ],
            "type": "surface"
           }
          ],
          "table": [
           {
            "cells": {
             "fill": {
              "color": "#EBF0F8"
             },
             "line": {
              "color": "white"
             }
            },
            "header": {
             "fill": {
              "color": "#C8D4E3"
             },
             "line": {
              "color": "white"
             }
            },
            "type": "table"
           }
          ]
         },
         "layout": {
          "annotationdefaults": {
           "arrowcolor": "#2a3f5f",
           "arrowhead": 0,
           "arrowwidth": 1
          },
          "autotypenumbers": "strict",
          "coloraxis": {
           "colorbar": {
            "outlinewidth": 0,
            "ticks": ""
           }
          },
          "colorscale": {
           "diverging": [
            [
             0,
             "#8e0152"
            ],
            [
             0.1,
             "#c51b7d"
            ],
            [
             0.2,
             "#de77ae"
            ],
            [
             0.3,
             "#f1b6da"
            ],
            [
             0.4,
             "#fde0ef"
            ],
            [
             0.5,
             "#f7f7f7"
            ],
            [
             0.6,
             "#e6f5d0"
            ],
            [
             0.7,
             "#b8e186"
            ],
            [
             0.8,
             "#7fbc41"
            ],
            [
             0.9,
             "#4d9221"
            ],
            [
             1,
             "#276419"
            ]
           ],
           "sequential": [
            [
             0,
             "#0d0887"
            ],
            [
             0.1111111111111111,
             "#46039f"
            ],
            [
             0.2222222222222222,
             "#7201a8"
            ],
            [
             0.3333333333333333,
             "#9c179e"
            ],
            [
             0.4444444444444444,
             "#bd3786"
            ],
            [
             0.5555555555555556,
             "#d8576b"
            ],
            [
             0.6666666666666666,
             "#ed7953"
            ],
            [
             0.7777777777777778,
             "#fb9f3a"
            ],
            [
             0.8888888888888888,
             "#fdca26"
            ],
            [
             1,
             "#f0f921"
            ]
           ],
           "sequentialminus": [
            [
             0,
             "#0d0887"
            ],
            [
             0.1111111111111111,
             "#46039f"
            ],
            [
             0.2222222222222222,
             "#7201a8"
            ],
            [
             0.3333333333333333,
             "#9c179e"
            ],
            [
             0.4444444444444444,
             "#bd3786"
            ],
            [
             0.5555555555555556,
             "#d8576b"
            ],
            [
             0.6666666666666666,
             "#ed7953"
            ],
            [
             0.7777777777777778,
             "#fb9f3a"
            ],
            [
             0.8888888888888888,
             "#fdca26"
            ],
            [
             1,
             "#f0f921"
            ]
           ]
          },
          "colorway": [
           "#636efa",
           "#EF553B",
           "#00cc96",
           "#ab63fa",
           "#FFA15A",
           "#19d3f3",
           "#FF6692",
           "#B6E880",
           "#FF97FF",
           "#FECB52"
          ],
          "font": {
           "color": "#2a3f5f"
          },
          "geo": {
           "bgcolor": "white",
           "lakecolor": "white",
           "landcolor": "#E5ECF6",
           "showlakes": true,
           "showland": true,
           "subunitcolor": "white"
          },
          "hoverlabel": {
           "align": "left"
          },
          "hovermode": "closest",
          "mapbox": {
           "style": "light"
          },
          "paper_bgcolor": "white",
          "plot_bgcolor": "#E5ECF6",
          "polar": {
           "angularaxis": {
            "gridcolor": "white",
            "linecolor": "white",
            "ticks": ""
           },
           "bgcolor": "#E5ECF6",
           "radialaxis": {
            "gridcolor": "white",
            "linecolor": "white",
            "ticks": ""
           }
          },
          "scene": {
           "xaxis": {
            "backgroundcolor": "#E5ECF6",
            "gridcolor": "white",
            "gridwidth": 2,
            "linecolor": "white",
            "showbackground": true,
            "ticks": "",
            "zerolinecolor": "white"
           },
           "yaxis": {
            "backgroundcolor": "#E5ECF6",
            "gridcolor": "white",
            "gridwidth": 2,
            "linecolor": "white",
            "showbackground": true,
            "ticks": "",
            "zerolinecolor": "white"
           },
           "zaxis": {
            "backgroundcolor": "#E5ECF6",
            "gridcolor": "white",
            "gridwidth": 2,
            "linecolor": "white",
            "showbackground": true,
            "ticks": "",
            "zerolinecolor": "white"
           }
          },
          "shapedefaults": {
           "line": {
            "color": "#2a3f5f"
           }
          },
          "ternary": {
           "aaxis": {
            "gridcolor": "white",
            "linecolor": "white",
            "ticks": ""
           },
           "baxis": {
            "gridcolor": "white",
            "linecolor": "white",
            "ticks": ""
           },
           "bgcolor": "#E5ECF6",
           "caxis": {
            "gridcolor": "white",
            "linecolor": "white",
            "ticks": ""
           }
          },
          "title": {
           "x": 0.05
          },
          "xaxis": {
           "automargin": true,
           "gridcolor": "white",
           "linecolor": "white",
           "ticks": "",
           "title": {
            "standoff": 15
           },
           "zerolinecolor": "white",
           "zerolinewidth": 2
          },
          "yaxis": {
           "automargin": true,
           "gridcolor": "white",
           "linecolor": "white",
           "ticks": "",
           "title": {
            "standoff": 15
           },
           "zerolinecolor": "white",
           "zerolinewidth": 2
          }
         }
        },
        "title": {
         "text": "Model Creation Timestamp"
        },
        "xaxis": {
         "anchor": "y",
         "domain": [
          0,
          1
         ],
         "title": {
          "text": "creation_timestamp"
         }
        },
        "yaxis": {
         "anchor": "x",
         "domain": [
          0,
          1
         ]
        }
       }
      }
     },
     "metadata": {},
     "output_type": "display_data"
    }
   ],
   "source": [
    "px.strip(\n",
    "    models,\n",
    "    x=\"creation_timestamp\",\n",
    "    hover_name=\"name\",\n",
    "    hover_data=models.columns,\n",
    "    title=\"Model Creation Timestamp\",\n",
    ")"
   ]
  },
  {
   "cell_type": "code",
   "execution_count": 11,
   "metadata": {},
   "outputs": [
    {
     "data": {
      "application/vnd.plotly.v1+json": {
       "config": {
        "plotlyServerURL": "https://plot.ly"
       },
       "data": [
        {
         "alignmentgroup": "True",
         "boxpoints": "all",
         "customdata": [
          [
           {
            "Champion": "2"
           },
           "",
           "2024-12-13T21:29:37.314000",
           "bikes",
           {}
          ]
         ],
         "fillcolor": "rgba(255,255,255,0)",
         "hoveron": "points",
         "hovertemplate": "<b>%{hovertext}</b><br><br>creation_timestamp=%{x}<br>aliases=%{customdata[0]}<br>description=%{customdata[1]}<br>last_updated_timestamp=%{customdata[2]}<br>name=%{customdata[3]}<br>tags=%{customdata[4]}<extra></extra>",
         "hovertext": [
          "bikes"
         ],
         "legendgroup": "",
         "line": {
          "color": "rgba(255,255,255,0)"
         },
         "marker": {
          "color": "#636efa"
         },
         "name": "",
         "offsetgroup": "",
         "orientation": "h",
         "pointpos": 0,
         "showlegend": false,
         "type": "box",
         "x": [
          "2024-12-12T21:15:44.102000"
         ],
         "x0": " ",
         "xaxis": "x",
         "y0": " ",
         "yaxis": "y"
        }
       ],
       "layout": {
        "boxmode": "group",
        "legend": {
         "tracegroupgap": 0
        },
        "template": {
         "data": {
          "bar": [
           {
            "error_x": {
             "color": "#2a3f5f"
            },
            "error_y": {
             "color": "#2a3f5f"
            },
            "marker": {
             "line": {
              "color": "#E5ECF6",
              "width": 0.5
             },
             "pattern": {
              "fillmode": "overlay",
              "size": 10,
              "solidity": 0.2
             }
            },
            "type": "bar"
           }
          ],
          "barpolar": [
           {
            "marker": {
             "line": {
              "color": "#E5ECF6",
              "width": 0.5
             },
             "pattern": {
              "fillmode": "overlay",
              "size": 10,
              "solidity": 0.2
             }
            },
            "type": "barpolar"
           }
          ],
          "carpet": [
           {
            "aaxis": {
             "endlinecolor": "#2a3f5f",
             "gridcolor": "white",
             "linecolor": "white",
             "minorgridcolor": "white",
             "startlinecolor": "#2a3f5f"
            },
            "baxis": {
             "endlinecolor": "#2a3f5f",
             "gridcolor": "white",
             "linecolor": "white",
             "minorgridcolor": "white",
             "startlinecolor": "#2a3f5f"
            },
            "type": "carpet"
           }
          ],
          "choropleth": [
           {
            "colorbar": {
             "outlinewidth": 0,
             "ticks": ""
            },
            "type": "choropleth"
           }
          ],
          "contour": [
           {
            "colorbar": {
             "outlinewidth": 0,
             "ticks": ""
            },
            "colorscale": [
             [
              0,
              "#0d0887"
             ],
             [
              0.1111111111111111,
              "#46039f"
             ],
             [
              0.2222222222222222,
              "#7201a8"
             ],
             [
              0.3333333333333333,
              "#9c179e"
             ],
             [
              0.4444444444444444,
              "#bd3786"
             ],
             [
              0.5555555555555556,
              "#d8576b"
             ],
             [
              0.6666666666666666,
              "#ed7953"
             ],
             [
              0.7777777777777778,
              "#fb9f3a"
             ],
             [
              0.8888888888888888,
              "#fdca26"
             ],
             [
              1,
              "#f0f921"
             ]
            ],
            "type": "contour"
           }
          ],
          "contourcarpet": [
           {
            "colorbar": {
             "outlinewidth": 0,
             "ticks": ""
            },
            "type": "contourcarpet"
           }
          ],
          "heatmap": [
           {
            "colorbar": {
             "outlinewidth": 0,
             "ticks": ""
            },
            "colorscale": [
             [
              0,
              "#0d0887"
             ],
             [
              0.1111111111111111,
              "#46039f"
             ],
             [
              0.2222222222222222,
              "#7201a8"
             ],
             [
              0.3333333333333333,
              "#9c179e"
             ],
             [
              0.4444444444444444,
              "#bd3786"
             ],
             [
              0.5555555555555556,
              "#d8576b"
             ],
             [
              0.6666666666666666,
              "#ed7953"
             ],
             [
              0.7777777777777778,
              "#fb9f3a"
             ],
             [
              0.8888888888888888,
              "#fdca26"
             ],
             [
              1,
              "#f0f921"
             ]
            ],
            "type": "heatmap"
           }
          ],
          "heatmapgl": [
           {
            "colorbar": {
             "outlinewidth": 0,
             "ticks": ""
            },
            "colorscale": [
             [
              0,
              "#0d0887"
             ],
             [
              0.1111111111111111,
              "#46039f"
             ],
             [
              0.2222222222222222,
              "#7201a8"
             ],
             [
              0.3333333333333333,
              "#9c179e"
             ],
             [
              0.4444444444444444,
              "#bd3786"
             ],
             [
              0.5555555555555556,
              "#d8576b"
             ],
             [
              0.6666666666666666,
              "#ed7953"
             ],
             [
              0.7777777777777778,
              "#fb9f3a"
             ],
             [
              0.8888888888888888,
              "#fdca26"
             ],
             [
              1,
              "#f0f921"
             ]
            ],
            "type": "heatmapgl"
           }
          ],
          "histogram": [
           {
            "marker": {
             "pattern": {
              "fillmode": "overlay",
              "size": 10,
              "solidity": 0.2
             }
            },
            "type": "histogram"
           }
          ],
          "histogram2d": [
           {
            "colorbar": {
             "outlinewidth": 0,
             "ticks": ""
            },
            "colorscale": [
             [
              0,
              "#0d0887"
             ],
             [
              0.1111111111111111,
              "#46039f"
             ],
             [
              0.2222222222222222,
              "#7201a8"
             ],
             [
              0.3333333333333333,
              "#9c179e"
             ],
             [
              0.4444444444444444,
              "#bd3786"
             ],
             [
              0.5555555555555556,
              "#d8576b"
             ],
             [
              0.6666666666666666,
              "#ed7953"
             ],
             [
              0.7777777777777778,
              "#fb9f3a"
             ],
             [
              0.8888888888888888,
              "#fdca26"
             ],
             [
              1,
              "#f0f921"
             ]
            ],
            "type": "histogram2d"
           }
          ],
          "histogram2dcontour": [
           {
            "colorbar": {
             "outlinewidth": 0,
             "ticks": ""
            },
            "colorscale": [
             [
              0,
              "#0d0887"
             ],
             [
              0.1111111111111111,
              "#46039f"
             ],
             [
              0.2222222222222222,
              "#7201a8"
             ],
             [
              0.3333333333333333,
              "#9c179e"
             ],
             [
              0.4444444444444444,
              "#bd3786"
             ],
             [
              0.5555555555555556,
              "#d8576b"
             ],
             [
              0.6666666666666666,
              "#ed7953"
             ],
             [
              0.7777777777777778,
              "#fb9f3a"
             ],
             [
              0.8888888888888888,
              "#fdca26"
             ],
             [
              1,
              "#f0f921"
             ]
            ],
            "type": "histogram2dcontour"
           }
          ],
          "mesh3d": [
           {
            "colorbar": {
             "outlinewidth": 0,
             "ticks": ""
            },
            "type": "mesh3d"
           }
          ],
          "parcoords": [
           {
            "line": {
             "colorbar": {
              "outlinewidth": 0,
              "ticks": ""
             }
            },
            "type": "parcoords"
           }
          ],
          "pie": [
           {
            "automargin": true,
            "type": "pie"
           }
          ],
          "scatter": [
           {
            "fillpattern": {
             "fillmode": "overlay",
             "size": 10,
             "solidity": 0.2
            },
            "type": "scatter"
           }
          ],
          "scatter3d": [
           {
            "line": {
             "colorbar": {
              "outlinewidth": 0,
              "ticks": ""
             }
            },
            "marker": {
             "colorbar": {
              "outlinewidth": 0,
              "ticks": ""
             }
            },
            "type": "scatter3d"
           }
          ],
          "scattercarpet": [
           {
            "marker": {
             "colorbar": {
              "outlinewidth": 0,
              "ticks": ""
             }
            },
            "type": "scattercarpet"
           }
          ],
          "scattergeo": [
           {
            "marker": {
             "colorbar": {
              "outlinewidth": 0,
              "ticks": ""
             }
            },
            "type": "scattergeo"
           }
          ],
          "scattergl": [
           {
            "marker": {
             "colorbar": {
              "outlinewidth": 0,
              "ticks": ""
             }
            },
            "type": "scattergl"
           }
          ],
          "scattermapbox": [
           {
            "marker": {
             "colorbar": {
              "outlinewidth": 0,
              "ticks": ""
             }
            },
            "type": "scattermapbox"
           }
          ],
          "scatterpolar": [
           {
            "marker": {
             "colorbar": {
              "outlinewidth": 0,
              "ticks": ""
             }
            },
            "type": "scatterpolar"
           }
          ],
          "scatterpolargl": [
           {
            "marker": {
             "colorbar": {
              "outlinewidth": 0,
              "ticks": ""
             }
            },
            "type": "scatterpolargl"
           }
          ],
          "scatterternary": [
           {
            "marker": {
             "colorbar": {
              "outlinewidth": 0,
              "ticks": ""
             }
            },
            "type": "scatterternary"
           }
          ],
          "surface": [
           {
            "colorbar": {
             "outlinewidth": 0,
             "ticks": ""
            },
            "colorscale": [
             [
              0,
              "#0d0887"
             ],
             [
              0.1111111111111111,
              "#46039f"
             ],
             [
              0.2222222222222222,
              "#7201a8"
             ],
             [
              0.3333333333333333,
              "#9c179e"
             ],
             [
              0.4444444444444444,
              "#bd3786"
             ],
             [
              0.5555555555555556,
              "#d8576b"
             ],
             [
              0.6666666666666666,
              "#ed7953"
             ],
             [
              0.7777777777777778,
              "#fb9f3a"
             ],
             [
              0.8888888888888888,
              "#fdca26"
             ],
             [
              1,
              "#f0f921"
             ]
            ],
            "type": "surface"
           }
          ],
          "table": [
           {
            "cells": {
             "fill": {
              "color": "#EBF0F8"
             },
             "line": {
              "color": "white"
             }
            },
            "header": {
             "fill": {
              "color": "#C8D4E3"
             },
             "line": {
              "color": "white"
             }
            },
            "type": "table"
           }
          ]
         },
         "layout": {
          "annotationdefaults": {
           "arrowcolor": "#2a3f5f",
           "arrowhead": 0,
           "arrowwidth": 1
          },
          "autotypenumbers": "strict",
          "coloraxis": {
           "colorbar": {
            "outlinewidth": 0,
            "ticks": ""
           }
          },
          "colorscale": {
           "diverging": [
            [
             0,
             "#8e0152"
            ],
            [
             0.1,
             "#c51b7d"
            ],
            [
             0.2,
             "#de77ae"
            ],
            [
             0.3,
             "#f1b6da"
            ],
            [
             0.4,
             "#fde0ef"
            ],
            [
             0.5,
             "#f7f7f7"
            ],
            [
             0.6,
             "#e6f5d0"
            ],
            [
             0.7,
             "#b8e186"
            ],
            [
             0.8,
             "#7fbc41"
            ],
            [
             0.9,
             "#4d9221"
            ],
            [
             1,
             "#276419"
            ]
           ],
           "sequential": [
            [
             0,
             "#0d0887"
            ],
            [
             0.1111111111111111,
             "#46039f"
            ],
            [
             0.2222222222222222,
             "#7201a8"
            ],
            [
             0.3333333333333333,
             "#9c179e"
            ],
            [
             0.4444444444444444,
             "#bd3786"
            ],
            [
             0.5555555555555556,
             "#d8576b"
            ],
            [
             0.6666666666666666,
             "#ed7953"
            ],
            [
             0.7777777777777778,
             "#fb9f3a"
            ],
            [
             0.8888888888888888,
             "#fdca26"
            ],
            [
             1,
             "#f0f921"
            ]
           ],
           "sequentialminus": [
            [
             0,
             "#0d0887"
            ],
            [
             0.1111111111111111,
             "#46039f"
            ],
            [
             0.2222222222222222,
             "#7201a8"
            ],
            [
             0.3333333333333333,
             "#9c179e"
            ],
            [
             0.4444444444444444,
             "#bd3786"
            ],
            [
             0.5555555555555556,
             "#d8576b"
            ],
            [
             0.6666666666666666,
             "#ed7953"
            ],
            [
             0.7777777777777778,
             "#fb9f3a"
            ],
            [
             0.8888888888888888,
             "#fdca26"
            ],
            [
             1,
             "#f0f921"
            ]
           ]
          },
          "colorway": [
           "#636efa",
           "#EF553B",
           "#00cc96",
           "#ab63fa",
           "#FFA15A",
           "#19d3f3",
           "#FF6692",
           "#B6E880",
           "#FF97FF",
           "#FECB52"
          ],
          "font": {
           "color": "#2a3f5f"
          },
          "geo": {
           "bgcolor": "white",
           "lakecolor": "white",
           "landcolor": "#E5ECF6",
           "showlakes": true,
           "showland": true,
           "subunitcolor": "white"
          },
          "hoverlabel": {
           "align": "left"
          },
          "hovermode": "closest",
          "mapbox": {
           "style": "light"
          },
          "paper_bgcolor": "white",
          "plot_bgcolor": "#E5ECF6",
          "polar": {
           "angularaxis": {
            "gridcolor": "white",
            "linecolor": "white",
            "ticks": ""
           },
           "bgcolor": "#E5ECF6",
           "radialaxis": {
            "gridcolor": "white",
            "linecolor": "white",
            "ticks": ""
           }
          },
          "scene": {
           "xaxis": {
            "backgroundcolor": "#E5ECF6",
            "gridcolor": "white",
            "gridwidth": 2,
            "linecolor": "white",
            "showbackground": true,
            "ticks": "",
            "zerolinecolor": "white"
           },
           "yaxis": {
            "backgroundcolor": "#E5ECF6",
            "gridcolor": "white",
            "gridwidth": 2,
            "linecolor": "white",
            "showbackground": true,
            "ticks": "",
            "zerolinecolor": "white"
           },
           "zaxis": {
            "backgroundcolor": "#E5ECF6",
            "gridcolor": "white",
            "gridwidth": 2,
            "linecolor": "white",
            "showbackground": true,
            "ticks": "",
            "zerolinecolor": "white"
           }
          },
          "shapedefaults": {
           "line": {
            "color": "#2a3f5f"
           }
          },
          "ternary": {
           "aaxis": {
            "gridcolor": "white",
            "linecolor": "white",
            "ticks": ""
           },
           "baxis": {
            "gridcolor": "white",
            "linecolor": "white",
            "ticks": ""
           },
           "bgcolor": "#E5ECF6",
           "caxis": {
            "gridcolor": "white",
            "linecolor": "white",
            "ticks": ""
           }
          },
          "title": {
           "x": 0.05
          },
          "xaxis": {
           "automargin": true,
           "gridcolor": "white",
           "linecolor": "white",
           "ticks": "",
           "title": {
            "standoff": 15
           },
           "zerolinecolor": "white",
           "zerolinewidth": 2
          },
          "yaxis": {
           "automargin": true,
           "gridcolor": "white",
           "linecolor": "white",
           "ticks": "",
           "title": {
            "standoff": 15
           },
           "zerolinecolor": "white",
           "zerolinewidth": 2
          }
         }
        },
        "title": {
         "text": "Model Creation Timestamp"
        },
        "xaxis": {
         "anchor": "y",
         "domain": [
          0,
          1
         ],
         "title": {
          "text": "creation_timestamp"
         }
        },
        "yaxis": {
         "anchor": "x",
         "domain": [
          0,
          1
         ]
        }
       }
      }
     },
     "metadata": {},
     "output_type": "display_data"
    }
   ],
   "source": [
    "px.strip(\n",
    "    models,\n",
    "    x=\"creation_timestamp\",\n",
    "    hover_name=\"name\",\n",
    "    hover_data=models.columns,\n",
    "    title=\"Model Creation Timestamp\",\n",
    ")"
   ]
  },
  {
   "cell_type": "code",
   "execution_count": 12,
   "metadata": {},
   "outputs": [
    {
     "data": {
      "application/vnd.plotly.v1+json": {
       "config": {
        "plotlyServerURL": "https://plot.ly"
       },
       "data": [
        {
         "alignmentgroup": "True",
         "boxpoints": "all",
         "customdata": [
          [
           "Champion",
           "None",
           "",
           "2024-12-13T21:29:30.793000",
           "bikes",
           "ac1ad3a71ca1438f930cf61cdaf4dda2",
           "",
           "file:///home/fmind/mlops-python-package/mlruns/451770521480793486/ac1ad3a71ca1438f930cf61cdaf4dda2/artifacts/model",
           "READY",
           "",
           {},
           "",
           "2"
          ],
          [
           null,
           "None",
           "",
           "2024-12-12T21:15:44.106000",
           "bikes",
           "797710899d04491e8b9e91394c59ccd9",
           "",
           "file:///home/fmind/mlops-python-package/mlruns/451770521480793486/797710899d04491e8b9e91394c59ccd9/artifacts/model",
           "READY",
           "",
           {},
           "",
           "1"
          ]
         ],
         "fillcolor": "rgba(255,255,255,0)",
         "hoveron": "points",
         "hovertemplate": "<b>%{hovertext}</b><br><br>name=%{customdata[4]}<br>creation_timestamp=%{x}<br>aliases=%{customdata[0]}<br>current_stage=%{customdata[1]}<br>description=%{customdata[2]}<br>last_updated_timestamp=%{customdata[3]}<br>run_id=%{customdata[5]}<br>run_link=%{customdata[6]}<br>source=%{customdata[7]}<br>status=%{customdata[8]}<br>status_message=%{customdata[9]}<br>tags=%{customdata[10]}<br>user_id=%{customdata[11]}<br>version=%{customdata[12]}<extra></extra>",
         "hovertext": [
          "bikes",
          "bikes"
         ],
         "legendgroup": "bikes",
         "line": {
          "color": "rgba(255,255,255,0)"
         },
         "marker": {
          "color": "#636efa"
         },
         "name": "bikes",
         "offsetgroup": "bikes",
         "orientation": "h",
         "pointpos": 0,
         "showlegend": true,
         "type": "box",
         "x": [
          "2024-12-13T21:29:30.793000",
          "2024-12-12T21:15:44.106000"
         ],
         "x0": " ",
         "xaxis": "x",
         "y0": " ",
         "yaxis": "y"
        }
       ],
       "layout": {
        "boxmode": "group",
        "legend": {
         "title": {
          "text": "name"
         },
         "tracegroupgap": 0
        },
        "template": {
         "data": {
          "bar": [
           {
            "error_x": {
             "color": "#2a3f5f"
            },
            "error_y": {
             "color": "#2a3f5f"
            },
            "marker": {
             "line": {
              "color": "#E5ECF6",
              "width": 0.5
             },
             "pattern": {
              "fillmode": "overlay",
              "size": 10,
              "solidity": 0.2
             }
            },
            "type": "bar"
           }
          ],
          "barpolar": [
           {
            "marker": {
             "line": {
              "color": "#E5ECF6",
              "width": 0.5
             },
             "pattern": {
              "fillmode": "overlay",
              "size": 10,
              "solidity": 0.2
             }
            },
            "type": "barpolar"
           }
          ],
          "carpet": [
           {
            "aaxis": {
             "endlinecolor": "#2a3f5f",
             "gridcolor": "white",
             "linecolor": "white",
             "minorgridcolor": "white",
             "startlinecolor": "#2a3f5f"
            },
            "baxis": {
             "endlinecolor": "#2a3f5f",
             "gridcolor": "white",
             "linecolor": "white",
             "minorgridcolor": "white",
             "startlinecolor": "#2a3f5f"
            },
            "type": "carpet"
           }
          ],
          "choropleth": [
           {
            "colorbar": {
             "outlinewidth": 0,
             "ticks": ""
            },
            "type": "choropleth"
           }
          ],
          "contour": [
           {
            "colorbar": {
             "outlinewidth": 0,
             "ticks": ""
            },
            "colorscale": [
             [
              0,
              "#0d0887"
             ],
             [
              0.1111111111111111,
              "#46039f"
             ],
             [
              0.2222222222222222,
              "#7201a8"
             ],
             [
              0.3333333333333333,
              "#9c179e"
             ],
             [
              0.4444444444444444,
              "#bd3786"
             ],
             [
              0.5555555555555556,
              "#d8576b"
             ],
             [
              0.6666666666666666,
              "#ed7953"
             ],
             [
              0.7777777777777778,
              "#fb9f3a"
             ],
             [
              0.8888888888888888,
              "#fdca26"
             ],
             [
              1,
              "#f0f921"
             ]
            ],
            "type": "contour"
           }
          ],
          "contourcarpet": [
           {
            "colorbar": {
             "outlinewidth": 0,
             "ticks": ""
            },
            "type": "contourcarpet"
           }
          ],
          "heatmap": [
           {
            "colorbar": {
             "outlinewidth": 0,
             "ticks": ""
            },
            "colorscale": [
             [
              0,
              "#0d0887"
             ],
             [
              0.1111111111111111,
              "#46039f"
             ],
             [
              0.2222222222222222,
              "#7201a8"
             ],
             [
              0.3333333333333333,
              "#9c179e"
             ],
             [
              0.4444444444444444,
              "#bd3786"
             ],
             [
              0.5555555555555556,
              "#d8576b"
             ],
             [
              0.6666666666666666,
              "#ed7953"
             ],
             [
              0.7777777777777778,
              "#fb9f3a"
             ],
             [
              0.8888888888888888,
              "#fdca26"
             ],
             [
              1,
              "#f0f921"
             ]
            ],
            "type": "heatmap"
           }
          ],
          "heatmapgl": [
           {
            "colorbar": {
             "outlinewidth": 0,
             "ticks": ""
            },
            "colorscale": [
             [
              0,
              "#0d0887"
             ],
             [
              0.1111111111111111,
              "#46039f"
             ],
             [
              0.2222222222222222,
              "#7201a8"
             ],
             [
              0.3333333333333333,
              "#9c179e"
             ],
             [
              0.4444444444444444,
              "#bd3786"
             ],
             [
              0.5555555555555556,
              "#d8576b"
             ],
             [
              0.6666666666666666,
              "#ed7953"
             ],
             [
              0.7777777777777778,
              "#fb9f3a"
             ],
             [
              0.8888888888888888,
              "#fdca26"
             ],
             [
              1,
              "#f0f921"
             ]
            ],
            "type": "heatmapgl"
           }
          ],
          "histogram": [
           {
            "marker": {
             "pattern": {
              "fillmode": "overlay",
              "size": 10,
              "solidity": 0.2
             }
            },
            "type": "histogram"
           }
          ],
          "histogram2d": [
           {
            "colorbar": {
             "outlinewidth": 0,
             "ticks": ""
            },
            "colorscale": [
             [
              0,
              "#0d0887"
             ],
             [
              0.1111111111111111,
              "#46039f"
             ],
             [
              0.2222222222222222,
              "#7201a8"
             ],
             [
              0.3333333333333333,
              "#9c179e"
             ],
             [
              0.4444444444444444,
              "#bd3786"
             ],
             [
              0.5555555555555556,
              "#d8576b"
             ],
             [
              0.6666666666666666,
              "#ed7953"
             ],
             [
              0.7777777777777778,
              "#fb9f3a"
             ],
             [
              0.8888888888888888,
              "#fdca26"
             ],
             [
              1,
              "#f0f921"
             ]
            ],
            "type": "histogram2d"
           }
          ],
          "histogram2dcontour": [
           {
            "colorbar": {
             "outlinewidth": 0,
             "ticks": ""
            },
            "colorscale": [
             [
              0,
              "#0d0887"
             ],
             [
              0.1111111111111111,
              "#46039f"
             ],
             [
              0.2222222222222222,
              "#7201a8"
             ],
             [
              0.3333333333333333,
              "#9c179e"
             ],
             [
              0.4444444444444444,
              "#bd3786"
             ],
             [
              0.5555555555555556,
              "#d8576b"
             ],
             [
              0.6666666666666666,
              "#ed7953"
             ],
             [
              0.7777777777777778,
              "#fb9f3a"
             ],
             [
              0.8888888888888888,
              "#fdca26"
             ],
             [
              1,
              "#f0f921"
             ]
            ],
            "type": "histogram2dcontour"
           }
          ],
          "mesh3d": [
           {
            "colorbar": {
             "outlinewidth": 0,
             "ticks": ""
            },
            "type": "mesh3d"
           }
          ],
          "parcoords": [
           {
            "line": {
             "colorbar": {
              "outlinewidth": 0,
              "ticks": ""
             }
            },
            "type": "parcoords"
           }
          ],
          "pie": [
           {
            "automargin": true,
            "type": "pie"
           }
          ],
          "scatter": [
           {
            "fillpattern": {
             "fillmode": "overlay",
             "size": 10,
             "solidity": 0.2
            },
            "type": "scatter"
           }
          ],
          "scatter3d": [
           {
            "line": {
             "colorbar": {
              "outlinewidth": 0,
              "ticks": ""
             }
            },
            "marker": {
             "colorbar": {
              "outlinewidth": 0,
              "ticks": ""
             }
            },
            "type": "scatter3d"
           }
          ],
          "scattercarpet": [
           {
            "marker": {
             "colorbar": {
              "outlinewidth": 0,
              "ticks": ""
             }
            },
            "type": "scattercarpet"
           }
          ],
          "scattergeo": [
           {
            "marker": {
             "colorbar": {
              "outlinewidth": 0,
              "ticks": ""
             }
            },
            "type": "scattergeo"
           }
          ],
          "scattergl": [
           {
            "marker": {
             "colorbar": {
              "outlinewidth": 0,
              "ticks": ""
             }
            },
            "type": "scattergl"
           }
          ],
          "scattermapbox": [
           {
            "marker": {
             "colorbar": {
              "outlinewidth": 0,
              "ticks": ""
             }
            },
            "type": "scattermapbox"
           }
          ],
          "scatterpolar": [
           {
            "marker": {
             "colorbar": {
              "outlinewidth": 0,
              "ticks": ""
             }
            },
            "type": "scatterpolar"
           }
          ],
          "scatterpolargl": [
           {
            "marker": {
             "colorbar": {
              "outlinewidth": 0,
              "ticks": ""
             }
            },
            "type": "scatterpolargl"
           }
          ],
          "scatterternary": [
           {
            "marker": {
             "colorbar": {
              "outlinewidth": 0,
              "ticks": ""
             }
            },
            "type": "scatterternary"
           }
          ],
          "surface": [
           {
            "colorbar": {
             "outlinewidth": 0,
             "ticks": ""
            },
            "colorscale": [
             [
              0,
              "#0d0887"
             ],
             [
              0.1111111111111111,
              "#46039f"
             ],
             [
              0.2222222222222222,
              "#7201a8"
             ],
             [
              0.3333333333333333,
              "#9c179e"
             ],
             [
              0.4444444444444444,
              "#bd3786"
             ],
             [
              0.5555555555555556,
              "#d8576b"
             ],
             [
              0.6666666666666666,
              "#ed7953"
             ],
             [
              0.7777777777777778,
              "#fb9f3a"
             ],
             [
              0.8888888888888888,
              "#fdca26"
             ],
             [
              1,
              "#f0f921"
             ]
            ],
            "type": "surface"
           }
          ],
          "table": [
           {
            "cells": {
             "fill": {
              "color": "#EBF0F8"
             },
             "line": {
              "color": "white"
             }
            },
            "header": {
             "fill": {
              "color": "#C8D4E3"
             },
             "line": {
              "color": "white"
             }
            },
            "type": "table"
           }
          ]
         },
         "layout": {
          "annotationdefaults": {
           "arrowcolor": "#2a3f5f",
           "arrowhead": 0,
           "arrowwidth": 1
          },
          "autotypenumbers": "strict",
          "coloraxis": {
           "colorbar": {
            "outlinewidth": 0,
            "ticks": ""
           }
          },
          "colorscale": {
           "diverging": [
            [
             0,
             "#8e0152"
            ],
            [
             0.1,
             "#c51b7d"
            ],
            [
             0.2,
             "#de77ae"
            ],
            [
             0.3,
             "#f1b6da"
            ],
            [
             0.4,
             "#fde0ef"
            ],
            [
             0.5,
             "#f7f7f7"
            ],
            [
             0.6,
             "#e6f5d0"
            ],
            [
             0.7,
             "#b8e186"
            ],
            [
             0.8,
             "#7fbc41"
            ],
            [
             0.9,
             "#4d9221"
            ],
            [
             1,
             "#276419"
            ]
           ],
           "sequential": [
            [
             0,
             "#0d0887"
            ],
            [
             0.1111111111111111,
             "#46039f"
            ],
            [
             0.2222222222222222,
             "#7201a8"
            ],
            [
             0.3333333333333333,
             "#9c179e"
            ],
            [
             0.4444444444444444,
             "#bd3786"
            ],
            [
             0.5555555555555556,
             "#d8576b"
            ],
            [
             0.6666666666666666,
             "#ed7953"
            ],
            [
             0.7777777777777778,
             "#fb9f3a"
            ],
            [
             0.8888888888888888,
             "#fdca26"
            ],
            [
             1,
             "#f0f921"
            ]
           ],
           "sequentialminus": [
            [
             0,
             "#0d0887"
            ],
            [
             0.1111111111111111,
             "#46039f"
            ],
            [
             0.2222222222222222,
             "#7201a8"
            ],
            [
             0.3333333333333333,
             "#9c179e"
            ],
            [
             0.4444444444444444,
             "#bd3786"
            ],
            [
             0.5555555555555556,
             "#d8576b"
            ],
            [
             0.6666666666666666,
             "#ed7953"
            ],
            [
             0.7777777777777778,
             "#fb9f3a"
            ],
            [
             0.8888888888888888,
             "#fdca26"
            ],
            [
             1,
             "#f0f921"
            ]
           ]
          },
          "colorway": [
           "#636efa",
           "#EF553B",
           "#00cc96",
           "#ab63fa",
           "#FFA15A",
           "#19d3f3",
           "#FF6692",
           "#B6E880",
           "#FF97FF",
           "#FECB52"
          ],
          "font": {
           "color": "#2a3f5f"
          },
          "geo": {
           "bgcolor": "white",
           "lakecolor": "white",
           "landcolor": "#E5ECF6",
           "showlakes": true,
           "showland": true,
           "subunitcolor": "white"
          },
          "hoverlabel": {
           "align": "left"
          },
          "hovermode": "closest",
          "mapbox": {
           "style": "light"
          },
          "paper_bgcolor": "white",
          "plot_bgcolor": "#E5ECF6",
          "polar": {
           "angularaxis": {
            "gridcolor": "white",
            "linecolor": "white",
            "ticks": ""
           },
           "bgcolor": "#E5ECF6",
           "radialaxis": {
            "gridcolor": "white",
            "linecolor": "white",
            "ticks": ""
           }
          },
          "scene": {
           "xaxis": {
            "backgroundcolor": "#E5ECF6",
            "gridcolor": "white",
            "gridwidth": 2,
            "linecolor": "white",
            "showbackground": true,
            "ticks": "",
            "zerolinecolor": "white"
           },
           "yaxis": {
            "backgroundcolor": "#E5ECF6",
            "gridcolor": "white",
            "gridwidth": 2,
            "linecolor": "white",
            "showbackground": true,
            "ticks": "",
            "zerolinecolor": "white"
           },
           "zaxis": {
            "backgroundcolor": "#E5ECF6",
            "gridcolor": "white",
            "gridwidth": 2,
            "linecolor": "white",
            "showbackground": true,
            "ticks": "",
            "zerolinecolor": "white"
           }
          },
          "shapedefaults": {
           "line": {
            "color": "#2a3f5f"
           }
          },
          "ternary": {
           "aaxis": {
            "gridcolor": "white",
            "linecolor": "white",
            "ticks": ""
           },
           "baxis": {
            "gridcolor": "white",
            "linecolor": "white",
            "ticks": ""
           },
           "bgcolor": "#E5ECF6",
           "caxis": {
            "gridcolor": "white",
            "linecolor": "white",
            "ticks": ""
           }
          },
          "title": {
           "x": 0.05
          },
          "xaxis": {
           "automargin": true,
           "gridcolor": "white",
           "linecolor": "white",
           "ticks": "",
           "title": {
            "standoff": 15
           },
           "zerolinecolor": "white",
           "zerolinewidth": 2
          },
          "yaxis": {
           "automargin": true,
           "gridcolor": "white",
           "linecolor": "white",
           "ticks": "",
           "title": {
            "standoff": 15
           },
           "zerolinecolor": "white",
           "zerolinewidth": 2
          }
         }
        },
        "title": {
         "text": "Version Creation Timestamp"
        },
        "xaxis": {
         "anchor": "y",
         "domain": [
          0,
          1
         ],
         "title": {
          "text": "creation_timestamp"
         }
        },
        "yaxis": {
         "anchor": "x",
         "domain": [
          0,
          1
         ]
        }
       }
      }
     },
     "metadata": {},
     "output_type": "display_data"
    }
   ],
   "source": [
    "px.strip(\n",
    "    versions,\n",
    "    x=\"creation_timestamp\",\n",
    "    color=\"name\",\n",
    "    hover_name=\"name\",\n",
    "    hover_data=versions.columns,\n",
    "    title=\"Version Creation Timestamp\",\n",
    ")"
   ]
  },
  {
   "cell_type": "code",
   "execution_count": 13,
   "metadata": {},
   "outputs": [
    {
     "data": {
      "application/vnd.plotly.v1+json": {
       "config": {
        "plotlyServerURL": "https://plot.ly"
       },
       "data": [
        {
         "alignmentgroup": "True",
         "boxpoints": "all",
         "customdata": [
          [
           "file:///home/fmind/mlops-python-package/mlruns/451770521480793486/92d0973c64dc419cacb89efe2df006a8/artifacts",
           "2024-12-13T21:30:22.859000",
           "451770521480793486",
           "active",
           "92d0973c64dc419cacb89efe2df006a8",
           "Explanations",
           "92d0973c64dc419cacb89efe2df006a8",
           "FINISHED",
           "fmind",
           {},
           {
            "conf_file": "confs/explanations.yaml"
           },
           {
            "mlflow.gitRepoURL": "git@github.com:fmind/mlops-python-package",
            "mlflow.project.backend": "local",
            "mlflow.project.entryPoint": "main",
            "mlflow.project.env": "virtualenv",
            "mlflow.runName": "Explanations",
            "mlflow.source.git.commit": "5e7c0b8c7b49c29802893c9821ae8546e45952b0",
            "mlflow.source.git.repoURL": "git@github.com:fmind/mlops-python-package",
            "mlflow.source.name": "file:///home/fmind/mlops-python-package",
            "mlflow.source.type": "PROJECT",
            "mlflow.user": "fmind"
           },
           30.161,
           "fmind",
           "file:///home/fmind/mlops-python-package",
           "PROJECT",
           "main",
           "5e7c0b8c7b49c29802893c9821ae8546e45952b0",
           "git@github.com:fmind/mlops-python-package",
           "git@github.com:fmind/mlops-python-package",
           "Explanations",
           "virtualenv",
           "local",
           null,
           null,
           null,
           null,
           null
          ],
          [
           "file:///home/fmind/mlops-python-package/mlruns/451770521480793486/855a19513f6d4282a217ef920a0d69f5/artifacts",
           "2024-12-13T21:29:50.751000",
           "451770521480793486",
           "active",
           "855a19513f6d4282a217ef920a0d69f5",
           "Evaluations",
           "855a19513f6d4282a217ef920a0d69f5",
           "FINISHED",
           "fmind",
           {
            "example_count": 13903,
            "max_error": 4294967295,
            "mean_absolute_error": 2044457567.3205063,
            "mean_absolute_percentage_error": 55189262.03890929,
            "mean_on_target": 174.63914263108683,
            "mean_squared_error": 296.66338200388407,
            "r2_score": 0.9893562621162568,
            "root_mean_squared_error": 17.223918892165166,
            "sum_on_target": 2428008
           },
           {
            "conf_file": "confs/evaluations.yaml"
           },
           {
            "mlflow.gitRepoURL": "git@github.com:fmind/mlops-python-package",
            "mlflow.project.backend": "local",
            "mlflow.project.entryPoint": "main",
            "mlflow.project.env": "virtualenv",
            "mlflow.runName": "Evaluations",
            "mlflow.source.git.commit": "5e7c0b8c7b49c29802893c9821ae8546e45952b0",
            "mlflow.source.git.repoURL": "git@github.com:fmind/mlops-python-package",
            "mlflow.source.name": "file:///home/fmind/mlops-python-package",
            "mlflow.source.type": "PROJECT",
            "mlflow.user": "fmind"
           },
           4.938,
           "fmind",
           "file:///home/fmind/mlops-python-package",
           "PROJECT",
           "main",
           "5e7c0b8c7b49c29802893c9821ae8546e45952b0",
           "git@github.com:fmind/mlops-python-package",
           "git@github.com:fmind/mlops-python-package",
           "Evaluations",
           "virtualenv",
           "local",
           null,
           null,
           null,
           null,
           null
          ],
          [
           "file:///home/fmind/mlops-python-package/mlruns/451770521480793486/48f318dd0eed4c05b4bd5823f7d352f6/artifacts",
           "2024-12-13T21:29:43.951000",
           "451770521480793486",
           "active",
           "48f318dd0eed4c05b4bd5823f7d352f6",
           "Inference",
           "48f318dd0eed4c05b4bd5823f7d352f6",
           "FINISHED",
           "fmind",
           {},
           {
            "conf_file": "confs/inference.yaml"
           },
           {
            "mlflow.gitRepoURL": "git@github.com:fmind/mlops-python-package",
            "mlflow.project.backend": "local",
            "mlflow.project.entryPoint": "main",
            "mlflow.project.env": "virtualenv",
            "mlflow.runName": "Inference",
            "mlflow.source.git.commit": "5e7c0b8c7b49c29802893c9821ae8546e45952b0",
            "mlflow.source.git.repoURL": "git@github.com:fmind/mlops-python-package",
            "mlflow.source.name": "file:///home/fmind/mlops-python-package",
            "mlflow.source.type": "PROJECT",
            "mlflow.user": "fmind"
           },
           4.312,
           "fmind",
           "file:///home/fmind/mlops-python-package",
           "PROJECT",
           "main",
           "5e7c0b8c7b49c29802893c9821ae8546e45952b0",
           "git@github.com:fmind/mlops-python-package",
           "git@github.com:fmind/mlops-python-package",
           "Inference",
           "virtualenv",
           "local",
           null,
           null,
           null,
           null,
           null
          ],
          [
           "file:///home/fmind/mlops-python-package/mlruns/451770521480793486/05a8c27ae65a40008ae4962ad13691cf/artifacts",
           "2024-12-13T21:29:37.770000",
           "451770521480793486",
           "active",
           "05a8c27ae65a40008ae4962ad13691cf",
           "Promotion",
           "05a8c27ae65a40008ae4962ad13691cf",
           "FINISHED",
           "fmind",
           {},
           {
            "conf_file": "confs/promotion.yaml"
           },
           {
            "mlflow.gitRepoURL": "git@github.com:fmind/mlops-python-package",
            "mlflow.project.backend": "local",
            "mlflow.project.entryPoint": "main",
            "mlflow.project.env": "virtualenv",
            "mlflow.runName": "Promotion",
            "mlflow.source.git.commit": "5e7c0b8c7b49c29802893c9821ae8546e45952b0",
            "mlflow.source.git.repoURL": "git@github.com:fmind/mlops-python-package",
            "mlflow.source.name": "file:///home/fmind/mlops-python-package",
            "mlflow.source.type": "PROJECT",
            "mlflow.user": "fmind"
           },
           3.646,
           "fmind",
           "file:///home/fmind/mlops-python-package",
           "PROJECT",
           "main",
           "5e7c0b8c7b49c29802893c9821ae8546e45952b0",
           "git@github.com:fmind/mlops-python-package",
           "git@github.com:fmind/mlops-python-package",
           "Promotion",
           "virtualenv",
           "local",
           null,
           null,
           null,
           null,
           null
          ],
          [
           "file:///home/fmind/mlops-python-package/mlruns/451770521480793486/ac1ad3a71ca1438f930cf61cdaf4dda2/artifacts",
           "2024-12-13T21:29:31.698000",
           "451770521480793486",
           "active",
           "ac1ad3a71ca1438f930cf61cdaf4dda2",
           "Training",
           "ac1ad3a71ca1438f930cf61cdaf4dda2",
           "FINISHED",
           "fmind",
           {
            "mean_squared_error": -1786.7527777777777,
            "system/cpu_utilization_percentage": 0,
            "system/disk_available_megabytes": 14473.2,
            "system/disk_usage_megabytes": 101021.7,
            "system/disk_usage_percentage": 87.5,
            "system/network_receive_megabytes": 0,
            "system/network_transmit_megabytes": 0,
            "system/system_memory_usage_megabytes": 4633.6,
            "system/system_memory_usage_percentage": 30.7,
            "training_mean_absolute_error": 6.8051192198812736,
            "training_mean_squared_error": 124.51054615575788,
            "training_r2_score": 0.9948851411922456,
            "training_root_mean_squared_error": 11.158429376742852,
            "training_score": 0.9948851411922456
           },
           {
            "conf_file": "confs/training.yaml",
            "memory": "None",
            "regressor": "RandomForestRegressor(max_depth=20, n_estimators=200, random_state=42)",
            "regressor__bootstrap": "True",
            "regressor__ccp_alpha": "0.0",
            "regressor__criterion": "squared_error",
            "regressor__max_depth": "20",
            "regressor__max_features": "1.0",
            "regressor__max_leaf_nodes": "None",
            "regressor__max_samples": "None",
            "regressor__min_impurity_decrease": "0.0",
            "regressor__min_samples_leaf": "1",
            "regressor__min_samples_split": "2",
            "regressor__min_weight_fraction_leaf": "0.0",
            "regressor__monotonic_cst": "None",
            "regressor__n_estimators": "200",
            "regressor__n_jobs": "None",
            "regressor__oob_score": "False",
            "regressor__random_state": "42",
            "regressor__verbose": "0",
            "regressor__warm_start": "False",
            "steps": "[('transformer', ColumnTransformer(transformers=[('categoricals',\n                                 OneHotEncoder(handle_unknown='ignore',\n                                               sparse_output=False),\n                                 ['season', 'weathersit']),\n                                ('numericals', 'passthrough',\n                                 ['yr', 'mnth', 'hr', 'holiday', 'weekday',\n                                  'workingday', 'temp', 'atemp', 'hum',\n                                  'windspeed', 'casual'])])), ('regressor', RandomForestRegressor(max_depth=20, n_estimators=200, random_state=42))]",
            "transformer": "ColumnTransformer(transformers=[('categoricals',\n                                 OneHotEncoder(handle_unknown='ignore',\n                                               sparse_output=False),\n                                 ['season', 'weathersit']),\n                                ('numericals', 'passthrough',\n                                 ['yr', 'mnth', 'hr', 'holiday', 'weekday',\n                                  'workingday', 'temp', 'atemp', 'hum',\n                                  'windspeed', 'casual'])])",
            "transformer__categoricals": "OneHotEncoder(handle_unknown='ignore', sparse_output=False)",
            "transformer__categoricals__categories": "auto",
            "transformer__categoricals__drop": "None",
            "transformer__categoricals__dtype": "<class 'numpy.float64'>",
            "transformer__categoricals__feature_name_combiner": "concat",
            "transformer__categoricals__handle_unknown": "ignore",
            "transformer__categoricals__max_categories": "None",
            "transformer__categoricals__min_frequency": "None",
            "transformer__categoricals__sparse_output": "False",
            "transformer__force_int_remainder_cols": "True",
            "transformer__n_jobs": "None",
            "transformer__numericals": "passthrough",
            "transformer__remainder": "drop",
            "transformer__sparse_threshold": "0.3",
            "transformer__transformer_weights": "None",
            "transformer__transformers": "[('categoricals', OneHotEncoder(handle_unknown='ignore', sparse_output=False), ['season', 'weathersit']), ('numericals', 'passthrough', ['yr', 'mnth', 'hr', 'holiday', 'weekday', 'workingday', 'temp', 'atemp', 'hum', 'windspeed', 'casual'])]",
            "transformer__verbose": "False",
            "transformer__verbose_feature_names_out": "True",
            "verbose": "False"
           },
           {
            "estimator_class": "sklearn.pipeline.Pipeline",
            "estimator_name": "Pipeline",
            "mlflow.gitRepoURL": "git@github.com:fmind/mlops-python-package",
            "mlflow.log-model.history": "[{\"run_id\": \"ac1ad3a71ca1438f930cf61cdaf4dda2\", \"artifact_path\": \"model\", \"utc_time_created\": \"2024-12-13 21:29:20.506337\", \"model_uuid\": \"c5766fb689b4467d801a544963fff164\", \"flavors\": {\"python_function\": {\"model_path\": \"model.pkl\", \"predict_fn\": \"predict\", \"loader_module\": \"mlflow.sklearn\", \"python_version\": \"3.12.7\", \"env\": {\"conda\": \"conda.yaml\", \"virtualenv\": \"python_env.yaml\"}}, \"sklearn\": {\"pickled_model\": \"model.pkl\", \"sklearn_version\": \"1.5.2\", \"serialization_format\": \"cloudpickle\", \"code\": null}}}, {\"run_id\": \"ac1ad3a71ca1438f930cf61cdaf4dda2\", \"artifact_path\": \"model\", \"utc_time_created\": \"2024-12-13 21:29:24.749297\", \"model_uuid\": \"d6869a0c970d4ed09d65cf72c604fe4b\", \"flavors\": {\"python_function\": {\"streamable\": false, \"cloudpickle_version\": \"3.1.0\", \"python_model\": \"python_model.pkl\", \"loader_module\": \"mlflow.pyfunc.model\", \"python_version\": \"3.12.7\", \"env\": {\"conda\": \"conda.yaml\", \"virtualenv\": \"python_env.yaml\"}, \"code\": null}}}]",
            "mlflow.project.backend": "local",
            "mlflow.project.entryPoint": "main",
            "mlflow.project.env": "virtualenv",
            "mlflow.runName": "Training",
            "mlflow.source.git.commit": "5e7c0b8c7b49c29802893c9821ae8546e45952b0",
            "mlflow.source.git.repoURL": "git@github.com:fmind/mlops-python-package",
            "mlflow.source.name": "file:///home/fmind/mlops-python-package",
            "mlflow.source.type": "PROJECT",
            "mlflow.user": "fmind"
           },
           23.051,
           "fmind",
           "file:///home/fmind/mlops-python-package",
           "PROJECT",
           "main",
           "5e7c0b8c7b49c29802893c9821ae8546e45952b0",
           "git@github.com:fmind/mlops-python-package",
           "git@github.com:fmind/mlops-python-package",
           "Training",
           "virtualenv",
           "local",
           "Pipeline",
           "sklearn.pipeline.Pipeline",
           "[{\"run_id\": \"ac1ad3a71ca1438f930cf61cdaf4dda2\", \"artifact_path\": \"model\", \"utc_time_created\": \"2024-12-13 21:29:20.506337\", \"model_uuid\": \"c5766fb689b4467d801a544963fff164\", \"flavors\": {\"python_function\": {\"model_path\": \"model.pkl\", \"predict_fn\": \"predict\", \"loader_module\": \"mlflow.sklearn\", \"python_version\": \"3.12.7\", \"env\": {\"conda\": \"conda.yaml\", \"virtualenv\": \"python_env.yaml\"}}, \"sklearn\": {\"pickled_model\": \"model.pkl\", \"sklearn_version\": \"1.5.2\", \"serialization_format\": \"cloudpickle\", \"code\": null}}}, {\"run_id\": \"ac1ad3a71ca1438f930cf61cdaf4dda2\", \"artifact_path\": \"model\", \"utc_time_created\": \"2024-12-13 21:29:24.749297\", \"model_uuid\": \"d6869a0c970d4ed09d65cf72c604fe4b\", \"flavors\": {\"python_function\": {\"streamable\": false, \"cloudpickle_version\": \"3.1.0\", \"python_model\": \"python_model.pkl\", \"loader_module\": \"mlflow.pyfunc.model\", \"python_version\": \"3.12.7\", \"env\": {\"conda\": \"conda.yaml\", \"virtualenv\": \"python_env.yaml\"}, \"code\": null}}}]",
           null,
           null
          ],
          [
           "file:///home/fmind/mlops-python-package/mlruns/451770521480793486/0dea01ed478c44e094187a66e64d6fd3/artifacts",
           "2024-12-13T21:29:06.705000",
           "451770521480793486",
           "active",
           "0dea01ed478c44e094187a66e64d6fd3",
           "Tuning",
           "0dea01ed478c44e094187a66e64d6fd3",
           "FINISHED",
           "fmind",
           {
            "best_cv_score": -5517.252604166667,
            "system/cpu_utilization_percentage": 32.7,
            "system/disk_available_megabytes": 14477.4,
            "system/disk_usage_megabytes": 101031.6,
            "system/disk_usage_percentage": 87.5,
            "system/network_receive_megabytes": 1.3911820000000148,
            "system/network_transmit_megabytes": 0.5366739999999997,
            "system/system_memory_usage_megabytes": 3524.9,
            "system/system_memory_usage_percentage": 23.4,
            "training_score": -1951.0630079838884
           },
           {
            "best_max_depth": "7",
            "conf_file": "confs/tuning.yaml",
            "cv": "KIND='TimeSeriesSplitter' gap=0 n_splits=4 test_size=1440",
            "error_score": "raise",
            "estimator": "KIND='BaselineSklearnModel' max_depth=20 n_estimators=200 random_state=42",
            "n_jobs": "None",
            "param_grid": "{'max_depth': [3, 5, 7]}",
            "pre_dispatch": "2*n_jobs",
            "refit": "True",
            "return_train_score": "False",
            "scoring": "<bound method Metric.scorer of SklearnMetric(KIND='SklearnMetric', name='mean_squared_error', greater_is_better=False)>",
            "verbose": "3"
           },
           {
            "estimator_class": "sklearn.model_selection._search.GridSearchCV",
            "estimator_name": "GridSearchCV",
            "mlflow.gitRepoURL": "git@github.com:fmind/mlops-python-package",
            "mlflow.log-model.history": "[{\"run_id\": \"0dea01ed478c44e094187a66e64d6fd3\", \"artifact_path\": \"model\", \"utc_time_created\": \"2024-12-13 21:28:51.664691\", \"model_uuid\": \"9be480ca5e234af5988dc10b51520109\", \"flavors\": {\"python_function\": {\"model_path\": \"model.pkl\", \"predict_fn\": \"predict\", \"loader_module\": \"mlflow.sklearn\", \"python_version\": \"3.12.7\", \"env\": {\"conda\": \"conda.yaml\", \"virtualenv\": \"python_env.yaml\"}}, \"sklearn\": {\"pickled_model\": \"model.pkl\", \"sklearn_version\": \"1.5.2\", \"serialization_format\": \"cloudpickle\", \"code\": null}}}, {\"run_id\": \"0dea01ed478c44e094187a66e64d6fd3\", \"artifact_path\": \"best_estimator\", \"utc_time_created\": \"2024-12-13 21:29:01.248602\", \"model_uuid\": \"a30a719a7ca048b5ad5506a1e06b6b2f\", \"flavors\": {\"python_function\": {\"model_path\": \"model.pkl\", \"predict_fn\": \"predict\", \"loader_module\": \"mlflow.sklearn\", \"python_version\": \"3.12.7\", \"env\": {\"conda\": \"conda.yaml\", \"virtualenv\": \"python_env.yaml\"}}, \"sklearn\": {\"pickled_model\": \"model.pkl\", \"sklearn_version\": \"1.5.2\", \"serialization_format\": \"cloudpickle\", \"code\": null}}}]",
            "mlflow.project.backend": "local",
            "mlflow.project.entryPoint": "main",
            "mlflow.project.env": "virtualenv",
            "mlflow.runName": "Tuning",
            "mlflow.source.git.commit": "5e7c0b8c7b49c29802893c9821ae8546e45952b0",
            "mlflow.source.git.repoURL": "git@github.com:fmind/mlops-python-package",
            "mlflow.source.name": "file:///home/fmind/mlops-python-package",
            "mlflow.source.type": "PROJECT",
            "mlflow.user": "fmind"
           },
           46.108,
           "fmind",
           "file:///home/fmind/mlops-python-package",
           "PROJECT",
           "main",
           "5e7c0b8c7b49c29802893c9821ae8546e45952b0",
           "git@github.com:fmind/mlops-python-package",
           "git@github.com:fmind/mlops-python-package",
           "Tuning",
           "virtualenv",
           "local",
           "GridSearchCV",
           "sklearn.model_selection._search.GridSearchCV",
           "[{\"run_id\": \"0dea01ed478c44e094187a66e64d6fd3\", \"artifact_path\": \"model\", \"utc_time_created\": \"2024-12-13 21:28:51.664691\", \"model_uuid\": \"9be480ca5e234af5988dc10b51520109\", \"flavors\": {\"python_function\": {\"model_path\": \"model.pkl\", \"predict_fn\": \"predict\", \"loader_module\": \"mlflow.sklearn\", \"python_version\": \"3.12.7\", \"env\": {\"conda\": \"conda.yaml\", \"virtualenv\": \"python_env.yaml\"}}, \"sklearn\": {\"pickled_model\": \"model.pkl\", \"sklearn_version\": \"1.5.2\", \"serialization_format\": \"cloudpickle\", \"code\": null}}}, {\"run_id\": \"0dea01ed478c44e094187a66e64d6fd3\", \"artifact_path\": \"best_estimator\", \"utc_time_created\": \"2024-12-13 21:29:01.248602\", \"model_uuid\": \"a30a719a7ca048b5ad5506a1e06b6b2f\", \"flavors\": {\"python_function\": {\"model_path\": \"model.pkl\", \"predict_fn\": \"predict\", \"loader_module\": \"mlflow.sklearn\", \"python_version\": \"3.12.7\", \"env\": {\"conda\": \"conda.yaml\", \"virtualenv\": \"python_env.yaml\"}}, \"sklearn\": {\"pickled_model\": \"model.pkl\", \"sklearn_version\": \"1.5.2\", \"serialization_format\": \"cloudpickle\", \"code\": null}}}]",
           null,
           null
          ],
          [
           "file:///home/fmind/mlops-python-package/mlruns/451770521480793486/79124d00e3154ce99b08d7c7ea1cbbe6/artifacts",
           "2024-12-13T21:29:06.057000",
           "451770521480793486",
           "active",
           "79124d00e3154ce99b08d7c7ea1cbbe6",
           "grandiose-ape-36",
           "79124d00e3154ce99b08d7c7ea1cbbe6",
           "FINISHED",
           "fmind",
           {
            "mean_fit_time": 2.5753661394119263,
            "mean_score_time": 0.055255353450775146,
            "mean_test_score": -5517.252604166667,
            "rank_test_score": 1,
            "std_fit_time": 0.6625575564971679,
            "std_score_time": 0.01109660600750438,
            "std_test_score": 1613.520146542553
           },
           {
            "max_depth": "7",
            "n_estimators": "200",
            "random_state": "42"
           },
           {
            "estimator_class": "bikes.core.models.BaselineSklearnModel",
            "estimator_name": "BaselineSklearnModel",
            "mlflow.autologging": "sklearn",
            "mlflow.parentRunId": "0dea01ed478c44e094187a66e64d6fd3",
            "mlflow.runName": "grandiose-ape-36",
            "mlflow.source.git.commit": "5e7c0b8c7b49c29802893c9821ae8546e45952b0",
            "mlflow.source.name": "/home/fmind/mlops-python-package/src/bikes/__main__.py",
            "mlflow.source.type": "LOCAL",
            "mlflow.user": "fmind"
           },
           45.46,
           "fmind",
           "/home/fmind/mlops-python-package/src/bikes/__main__.py",
           "LOCAL",
           null,
           "5e7c0b8c7b49c29802893c9821ae8546e45952b0",
           null,
           null,
           "grandiose-ape-36",
           null,
           null,
           "BaselineSklearnModel",
           "bikes.core.models.BaselineSklearnModel",
           null,
           "sklearn",
           "0dea01ed478c44e094187a66e64d6fd3"
          ],
          [
           "file:///home/fmind/mlops-python-package/mlruns/451770521480793486/9140f254fae3497a9ddaf25d4c037e17/artifacts",
           "2024-12-13T21:29:06.057000",
           "451770521480793486",
           "active",
           "9140f254fae3497a9ddaf25d4c037e17",
           "skillful-trout-792",
           "9140f254fae3497a9ddaf25d4c037e17",
           "FINISHED",
           "fmind",
           {
            "mean_fit_time": 1.020466387271881,
            "mean_score_time": 0.03910714387893677,
            "mean_test_score": -16644.957118055558,
            "rank_test_score": 3,
            "std_fit_time": 0.16778432404695146,
            "std_score_time": 0.00713338602919564,
            "std_test_score": 5315.459715152708
           },
           {
            "max_depth": "3",
            "n_estimators": "200",
            "random_state": "42"
           },
           {
            "estimator_class": "bikes.core.models.BaselineSklearnModel",
            "estimator_name": "BaselineSklearnModel",
            "mlflow.autologging": "sklearn",
            "mlflow.parentRunId": "0dea01ed478c44e094187a66e64d6fd3",
            "mlflow.runName": "skillful-trout-792",
            "mlflow.source.git.commit": "5e7c0b8c7b49c29802893c9821ae8546e45952b0",
            "mlflow.source.name": "/home/fmind/mlops-python-package/src/bikes/__main__.py",
            "mlflow.source.type": "LOCAL",
            "mlflow.user": "fmind"
           },
           45.46,
           "fmind",
           "/home/fmind/mlops-python-package/src/bikes/__main__.py",
           "LOCAL",
           null,
           "5e7c0b8c7b49c29802893c9821ae8546e45952b0",
           null,
           null,
           "skillful-trout-792",
           null,
           null,
           "BaselineSklearnModel",
           "bikes.core.models.BaselineSklearnModel",
           null,
           "sklearn",
           "0dea01ed478c44e094187a66e64d6fd3"
          ],
          [
           "file:///home/fmind/mlops-python-package/mlruns/451770521480793486/ac382f5f1fb84516bbcd6c5183890987/artifacts",
           "2024-12-13T21:29:06.057000",
           "451770521480793486",
           "active",
           "ac382f5f1fb84516bbcd6c5183890987",
           "adorable-crane-156",
           "ac382f5f1fb84516bbcd6c5183890987",
           "FINISHED",
           "fmind",
           {
            "mean_fit_time": 1.9187955260276794,
            "mean_score_time": 0.0433354377746582,
            "mean_test_score": -8287.860416666666,
            "rank_test_score": 2,
            "std_fit_time": 0.34773834085305333,
            "std_score_time": 0.006716265683045477,
            "std_test_score": 1045.7595024691313
           },
           {
            "max_depth": "5",
            "n_estimators": "200",
            "random_state": "42"
           },
           {
            "estimator_class": "bikes.core.models.BaselineSklearnModel",
            "estimator_name": "BaselineSklearnModel",
            "mlflow.autologging": "sklearn",
            "mlflow.parentRunId": "0dea01ed478c44e094187a66e64d6fd3",
            "mlflow.runName": "adorable-crane-156",
            "mlflow.source.git.commit": "5e7c0b8c7b49c29802893c9821ae8546e45952b0",
            "mlflow.source.name": "/home/fmind/mlops-python-package/src/bikes/__main__.py",
            "mlflow.source.type": "LOCAL",
            "mlflow.user": "fmind"
           },
           45.46,
           "fmind",
           "/home/fmind/mlops-python-package/src/bikes/__main__.py",
           "LOCAL",
           null,
           "5e7c0b8c7b49c29802893c9821ae8546e45952b0",
           null,
           null,
           "adorable-crane-156",
           null,
           null,
           "BaselineSklearnModel",
           "bikes.core.models.BaselineSklearnModel",
           null,
           "sklearn",
           "0dea01ed478c44e094187a66e64d6fd3"
          ],
          [
           "file:///home/fmind/mlops-python-package/mlruns/451770521480793486/b93a8935f9844745bec8dd796a0a8a73/artifacts",
           "2024-12-12T21:16:43.849000",
           "451770521480793486",
           "active",
           "b93a8935f9844745bec8dd796a0a8a73",
           "Explanations",
           "b93a8935f9844745bec8dd796a0a8a73",
           "FINISHED",
           "fmind",
           {},
           {
            "conf_file": "confs/explanations.yaml"
           },
           {
            "mlflow.gitRepoURL": "git@github.com:fmind/mlops-python-package",
            "mlflow.project.backend": "local",
            "mlflow.project.entryPoint": "main",
            "mlflow.project.env": "virtualenv",
            "mlflow.runName": "Explanations",
            "mlflow.source.git.commit": "5e7c0b8c7b49c29802893c9821ae8546e45952b0",
            "mlflow.source.git.repoURL": "git@github.com:fmind/mlops-python-package",
            "mlflow.source.name": "file:///home/fmind/mlops-python-package",
            "mlflow.source.type": "PROJECT",
            "mlflow.user": "fmind"
           },
           33.46,
           "fmind",
           "file:///home/fmind/mlops-python-package",
           "PROJECT",
           "main",
           "5e7c0b8c7b49c29802893c9821ae8546e45952b0",
           "git@github.com:fmind/mlops-python-package",
           "git@github.com:fmind/mlops-python-package",
           "Explanations",
           "virtualenv",
           "local",
           null,
           null,
           null,
           null,
           null
          ],
          [
           "file:///home/fmind/mlops-python-package/mlruns/451770521480793486/f2b3bf2f37334c35b362c594f4378f27/artifacts",
           "2024-12-12T21:16:08.320000",
           "451770521480793486",
           "active",
           "f2b3bf2f37334c35b362c594f4378f27",
           "Evaluations",
           "f2b3bf2f37334c35b362c594f4378f27",
           "FINISHED",
           "fmind",
           {
            "example_count": 13903,
            "max_error": 4294967295,
            "mean_absolute_error": 2044457567.3205063,
            "mean_absolute_percentage_error": 55189262.03890929,
            "mean_on_target": 174.63914263108683,
            "mean_squared_error": 296.66338200388407,
            "r2_score": 0.9893562621162568,
            "root_mean_squared_error": 17.223918892165166,
            "sum_on_target": 2428008
           },
           {
            "conf_file": "confs/evaluations.yaml"
           },
           {
            "mlflow.gitRepoURL": "git@github.com:fmind/mlops-python-package",
            "mlflow.project.backend": "local",
            "mlflow.project.entryPoint": "main",
            "mlflow.project.env": "virtualenv",
            "mlflow.runName": "Evaluations",
            "mlflow.source.git.commit": "5e7c0b8c7b49c29802893c9821ae8546e45952b0",
            "mlflow.source.git.repoURL": "git@github.com:fmind/mlops-python-package",
            "mlflow.source.name": "file:///home/fmind/mlops-python-package",
            "mlflow.source.type": "PROJECT",
            "mlflow.user": "fmind"
           },
           5.883,
           "fmind",
           "file:///home/fmind/mlops-python-package",
           "PROJECT",
           "main",
           "5e7c0b8c7b49c29802893c9821ae8546e45952b0",
           "git@github.com:fmind/mlops-python-package",
           "git@github.com:fmind/mlops-python-package",
           "Evaluations",
           "virtualenv",
           "local",
           null,
           null,
           null,
           null,
           null
          ],
          [
           "file:///home/fmind/mlops-python-package/mlruns/451770521480793486/1b6dd4593a654170be21ec38a29c78e7/artifacts",
           "2024-12-12T21:16:00.091000",
           "451770521480793486",
           "active",
           "1b6dd4593a654170be21ec38a29c78e7",
           "Inference",
           "1b6dd4593a654170be21ec38a29c78e7",
           "FINISHED",
           "fmind",
           {},
           {
            "conf_file": "confs/inference.yaml"
           },
           {
            "mlflow.gitRepoURL": "git@github.com:fmind/mlops-python-package",
            "mlflow.project.backend": "local",
            "mlflow.project.entryPoint": "main",
            "mlflow.project.env": "virtualenv",
            "mlflow.runName": "Inference",
            "mlflow.source.git.commit": "5e7c0b8c7b49c29802893c9821ae8546e45952b0",
            "mlflow.source.git.repoURL": "git@github.com:fmind/mlops-python-package",
            "mlflow.source.name": "file:///home/fmind/mlops-python-package",
            "mlflow.source.type": "PROJECT",
            "mlflow.user": "fmind"
           },
           5.035,
           "fmind",
           "file:///home/fmind/mlops-python-package",
           "PROJECT",
           "main",
           "5e7c0b8c7b49c29802893c9821ae8546e45952b0",
           "git@github.com:fmind/mlops-python-package",
           "git@github.com:fmind/mlops-python-package",
           "Inference",
           "virtualenv",
           "local",
           null,
           null,
           null,
           null,
           null
          ],
          [
           "file:///home/fmind/mlops-python-package/mlruns/451770521480793486/cfcc7f0fb7c141b2b4781eefff9a6081/artifacts",
           "2024-12-12T21:15:52.759000",
           "451770521480793486",
           "active",
           "cfcc7f0fb7c141b2b4781eefff9a6081",
           "Promotion",
           "cfcc7f0fb7c141b2b4781eefff9a6081",
           "FINISHED",
           "fmind",
           {},
           {
            "conf_file": "confs/promotion.yaml"
           },
           {
            "mlflow.gitRepoURL": "git@github.com:fmind/mlops-python-package",
            "mlflow.project.backend": "local",
            "mlflow.project.entryPoint": "main",
            "mlflow.project.env": "virtualenv",
            "mlflow.runName": "Promotion",
            "mlflow.source.git.commit": "5e7c0b8c7b49c29802893c9821ae8546e45952b0",
            "mlflow.source.git.repoURL": "git@github.com:fmind/mlops-python-package",
            "mlflow.source.name": "file:///home/fmind/mlops-python-package",
            "mlflow.source.type": "PROJECT",
            "mlflow.user": "fmind"
           },
           4.756,
           "fmind",
           "file:///home/fmind/mlops-python-package",
           "PROJECT",
           "main",
           "5e7c0b8c7b49c29802893c9821ae8546e45952b0",
           "git@github.com:fmind/mlops-python-package",
           "git@github.com:fmind/mlops-python-package",
           "Promotion",
           "virtualenv",
           "local",
           null,
           null,
           null,
           null,
           null
          ],
          [
           "file:///home/fmind/mlops-python-package/mlruns/451770521480793486/797710899d04491e8b9e91394c59ccd9/artifacts",
           "2024-12-12T21:15:45.193000",
           "451770521480793486",
           "active",
           "797710899d04491e8b9e91394c59ccd9",
           "Training",
           "797710899d04491e8b9e91394c59ccd9",
           "FINISHED",
           "fmind",
           {
            "mean_squared_error": -1786.7527777777777,
            "system/cpu_utilization_percentage": 13.9,
            "system/disk_available_megabytes": 15157.1,
            "system/disk_usage_megabytes": 100333.4,
            "system/disk_usage_percentage": 86.9,
            "system/network_receive_megabytes": 0.014109999999999623,
            "system/network_transmit_megabytes": 0,
            "system/system_memory_usage_megabytes": 4962.9,
            "system/system_memory_usage_percentage": 32.9,
            "training_mean_absolute_error": 6.8051192198812736,
            "training_mean_squared_error": 124.51054615575788,
            "training_r2_score": 0.9948851411922456,
            "training_root_mean_squared_error": 11.158429376742852,
            "training_score": 0.9948851411922456
           },
           {
            "conf_file": "confs/training.yaml",
            "memory": "None",
            "regressor": "RandomForestRegressor(max_depth=20, n_estimators=200, random_state=42)",
            "regressor__bootstrap": "True",
            "regressor__ccp_alpha": "0.0",
            "regressor__criterion": "squared_error",
            "regressor__max_depth": "20",
            "regressor__max_features": "1.0",
            "regressor__max_leaf_nodes": "None",
            "regressor__max_samples": "None",
            "regressor__min_impurity_decrease": "0.0",
            "regressor__min_samples_leaf": "1",
            "regressor__min_samples_split": "2",
            "regressor__min_weight_fraction_leaf": "0.0",
            "regressor__monotonic_cst": "None",
            "regressor__n_estimators": "200",
            "regressor__n_jobs": "None",
            "regressor__oob_score": "False",
            "regressor__random_state": "42",
            "regressor__verbose": "0",
            "regressor__warm_start": "False",
            "steps": "[('transformer', ColumnTransformer(transformers=[('categoricals',\n                                 OneHotEncoder(handle_unknown='ignore',\n                                               sparse_output=False),\n                                 ['season', 'weathersit']),\n                                ('numericals', 'passthrough',\n                                 ['yr', 'mnth', 'hr', 'holiday', 'weekday',\n                                  'workingday', 'temp', 'atemp', 'hum',\n                                  'windspeed', 'casual'])])), ('regressor', RandomForestRegressor(max_depth=20, n_estimators=200, random_state=42))]",
            "transformer": "ColumnTransformer(transformers=[('categoricals',\n                                 OneHotEncoder(handle_unknown='ignore',\n                                               sparse_output=False),\n                                 ['season', 'weathersit']),\n                                ('numericals', 'passthrough',\n                                 ['yr', 'mnth', 'hr', 'holiday', 'weekday',\n                                  'workingday', 'temp', 'atemp', 'hum',\n                                  'windspeed', 'casual'])])",
            "transformer__categoricals": "OneHotEncoder(handle_unknown='ignore', sparse_output=False)",
            "transformer__categoricals__categories": "auto",
            "transformer__categoricals__drop": "None",
            "transformer__categoricals__dtype": "<class 'numpy.float64'>",
            "transformer__categoricals__feature_name_combiner": "concat",
            "transformer__categoricals__handle_unknown": "ignore",
            "transformer__categoricals__max_categories": "None",
            "transformer__categoricals__min_frequency": "None",
            "transformer__categoricals__sparse_output": "False",
            "transformer__force_int_remainder_cols": "True",
            "transformer__n_jobs": "None",
            "transformer__numericals": "passthrough",
            "transformer__remainder": "drop",
            "transformer__sparse_threshold": "0.3",
            "transformer__transformer_weights": "None",
            "transformer__transformers": "[('categoricals', OneHotEncoder(handle_unknown='ignore', sparse_output=False), ['season', 'weathersit']), ('numericals', 'passthrough', ['yr', 'mnth', 'hr', 'holiday', 'weekday', 'workingday', 'temp', 'atemp', 'hum', 'windspeed', 'casual'])]",
            "transformer__verbose": "False",
            "transformer__verbose_feature_names_out": "True",
            "verbose": "False"
           },
           {
            "estimator_class": "sklearn.pipeline.Pipeline",
            "estimator_name": "Pipeline",
            "mlflow.gitRepoURL": "git@github.com:fmind/mlops-python-package",
            "mlflow.log-model.history": "[{\"run_id\": \"797710899d04491e8b9e91394c59ccd9\", \"artifact_path\": \"model\", \"utc_time_created\": \"2024-12-12 21:15:29.891094\", \"model_uuid\": \"877c83b49a57483690581eac11e3117b\", \"flavors\": {\"python_function\": {\"model_path\": \"model.pkl\", \"predict_fn\": \"predict\", \"loader_module\": \"mlflow.sklearn\", \"python_version\": \"3.12.7\", \"env\": {\"conda\": \"conda.yaml\", \"virtualenv\": \"python_env.yaml\"}}, \"sklearn\": {\"pickled_model\": \"model.pkl\", \"sklearn_version\": \"1.5.2\", \"serialization_format\": \"cloudpickle\", \"code\": null}}}, {\"run_id\": \"797710899d04491e8b9e91394c59ccd9\", \"artifact_path\": \"model\", \"utc_time_created\": \"2024-12-12 21:15:34.802679\", \"model_uuid\": \"c78c06c609274cb9b0c9123b3456258a\", \"flavors\": {\"python_function\": {\"streamable\": false, \"cloudpickle_version\": \"3.1.0\", \"python_model\": \"python_model.pkl\", \"loader_module\": \"mlflow.pyfunc.model\", \"python_version\": \"3.12.7\", \"env\": {\"conda\": \"conda.yaml\", \"virtualenv\": \"python_env.yaml\"}, \"code\": null}}}]",
            "mlflow.project.backend": "local",
            "mlflow.project.entryPoint": "main",
            "mlflow.project.env": "virtualenv",
            "mlflow.runName": "Training",
            "mlflow.source.git.commit": "5e7c0b8c7b49c29802893c9821ae8546e45952b0",
            "mlflow.source.git.repoURL": "git@github.com:fmind/mlops-python-package",
            "mlflow.source.name": "file:///home/fmind/mlops-python-package",
            "mlflow.source.type": "PROJECT",
            "mlflow.user": "fmind"
           },
           28.807,
           "fmind",
           "file:///home/fmind/mlops-python-package",
           "PROJECT",
           "main",
           "5e7c0b8c7b49c29802893c9821ae8546e45952b0",
           "git@github.com:fmind/mlops-python-package",
           "git@github.com:fmind/mlops-python-package",
           "Training",
           "virtualenv",
           "local",
           "Pipeline",
           "sklearn.pipeline.Pipeline",
           "[{\"run_id\": \"797710899d04491e8b9e91394c59ccd9\", \"artifact_path\": \"model\", \"utc_time_created\": \"2024-12-12 21:15:29.891094\", \"model_uuid\": \"877c83b49a57483690581eac11e3117b\", \"flavors\": {\"python_function\": {\"model_path\": \"model.pkl\", \"predict_fn\": \"predict\", \"loader_module\": \"mlflow.sklearn\", \"python_version\": \"3.12.7\", \"env\": {\"conda\": \"conda.yaml\", \"virtualenv\": \"python_env.yaml\"}}, \"sklearn\": {\"pickled_model\": \"model.pkl\", \"sklearn_version\": \"1.5.2\", \"serialization_format\": \"cloudpickle\", \"code\": null}}}, {\"run_id\": \"797710899d04491e8b9e91394c59ccd9\", \"artifact_path\": \"model\", \"utc_time_created\": \"2024-12-12 21:15:34.802679\", \"model_uuid\": \"c78c06c609274cb9b0c9123b3456258a\", \"flavors\": {\"python_function\": {\"streamable\": false, \"cloudpickle_version\": \"3.1.0\", \"python_model\": \"python_model.pkl\", \"loader_module\": \"mlflow.pyfunc.model\", \"python_version\": \"3.12.7\", \"env\": {\"conda\": \"conda.yaml\", \"virtualenv\": \"python_env.yaml\"}, \"code\": null}}}]",
           null,
           null
          ],
          [
           "file:///home/fmind/mlops-python-package/mlruns/451770521480793486/1c4c425e915346fcbe97f728f378100d/artifacts",
           "2024-12-12T21:15:12.635000",
           "451770521480793486",
           "active",
           "1c4c425e915346fcbe97f728f378100d",
           "bedecked-snake-279",
           "1c4c425e915346fcbe97f728f378100d",
           "FINISHED",
           "fmind",
           {
            "mean_fit_time": 2.3949788212776184,
            "mean_score_time": 0.04650747776031494,
            "mean_test_score": -5517.252604166667,
            "rank_test_score": 1,
            "std_fit_time": 0.3323838231985541,
            "std_score_time": 0.0013898028864495558,
            "std_test_score": 1613.520146542553
           },
           {
            "max_depth": "7",
            "n_estimators": "200",
            "random_state": "42"
           },
           {
            "estimator_class": "bikes.core.models.BaselineSklearnModel",
            "estimator_name": "BaselineSklearnModel",
            "mlflow.autologging": "sklearn",
            "mlflow.parentRunId": "41808f5b32074c5f8dddccdaa4221684",
            "mlflow.runName": "bedecked-snake-279",
            "mlflow.source.git.commit": "5e7c0b8c7b49c29802893c9821ae8546e45952b0",
            "mlflow.source.name": "/home/fmind/mlops-python-package/src/bikes/__main__.py",
            "mlflow.source.type": "LOCAL",
            "mlflow.user": "fmind"
           },
           103.824,
           "fmind",
           "/home/fmind/mlops-python-package/src/bikes/__main__.py",
           "LOCAL",
           null,
           "5e7c0b8c7b49c29802893c9821ae8546e45952b0",
           null,
           null,
           "bedecked-snake-279",
           null,
           null,
           "BaselineSklearnModel",
           "bikes.core.models.BaselineSklearnModel",
           null,
           "sklearn",
           "41808f5b32074c5f8dddccdaa4221684"
          ],
          [
           "file:///home/fmind/mlops-python-package/mlruns/451770521480793486/41808f5b32074c5f8dddccdaa4221684/artifacts",
           "2024-12-12T21:15:13.555000",
           "451770521480793486",
           "active",
           "41808f5b32074c5f8dddccdaa4221684",
           "Tuning",
           "41808f5b32074c5f8dddccdaa4221684",
           "FINISHED",
           "fmind",
           {
            "best_cv_score": -5517.252604166667,
            "system/cpu_utilization_percentage": 13.9,
            "system/disk_available_megabytes": 15172.3,
            "system/disk_usage_megabytes": 100317.7,
            "system/disk_usage_percentage": 86.9,
            "system/network_receive_megabytes": 0.0561379999999998,
            "system/network_transmit_megabytes": 0.005031999999999925,
            "system/system_memory_usage_megabytes": 4646.3,
            "system/system_memory_usage_percentage": 30.8,
            "training_score": -1951.0630079838884
           },
           {
            "best_max_depth": "7",
            "conf_file": "confs/tuning.yaml",
            "cv": "KIND='TimeSeriesSplitter' gap=0 n_splits=4 test_size=1440",
            "error_score": "raise",
            "estimator": "KIND='BaselineSklearnModel' max_depth=20 n_estimators=200 random_state=42",
            "n_jobs": "None",
            "param_grid": "{'max_depth': [3, 5, 7]}",
            "pre_dispatch": "2*n_jobs",
            "refit": "True",
            "return_train_score": "False",
            "scoring": "<bound method Metric.scorer of SklearnMetric(KIND='SklearnMetric', name='mean_squared_error', greater_is_better=False)>",
            "verbose": "3"
           },
           {
            "estimator_class": "sklearn.model_selection._search.GridSearchCV",
            "estimator_name": "GridSearchCV",
            "mlflow.gitRepoURL": "git@github.com:fmind/mlops-python-package",
            "mlflow.log-model.history": "[{\"run_id\": \"41808f5b32074c5f8dddccdaa4221684\", \"artifact_path\": \"model\", \"utc_time_created\": \"2024-12-12 21:15:03.536059\", \"model_uuid\": \"aa1690180a414c58a2c9598fa6099393\", \"flavors\": {\"python_function\": {\"model_path\": \"model.pkl\", \"predict_fn\": \"predict\", \"loader_module\": \"mlflow.sklearn\", \"python_version\": \"3.12.7\", \"env\": {\"conda\": \"conda.yaml\", \"virtualenv\": \"python_env.yaml\"}}, \"sklearn\": {\"pickled_model\": \"model.pkl\", \"sklearn_version\": \"1.5.2\", \"serialization_format\": \"cloudpickle\", \"code\": null}}}, {\"run_id\": \"41808f5b32074c5f8dddccdaa4221684\", \"artifact_path\": \"best_estimator\", \"utc_time_created\": \"2024-12-12 21:15:08.639146\", \"model_uuid\": \"657186289da24155bbdc03abf97c540b\", \"flavors\": {\"python_function\": {\"model_path\": \"model.pkl\", \"predict_fn\": \"predict\", \"loader_module\": \"mlflow.sklearn\", \"python_version\": \"3.12.7\", \"env\": {\"conda\": \"conda.yaml\", \"virtualenv\": \"python_env.yaml\"}}, \"sklearn\": {\"pickled_model\": \"model.pkl\", \"sklearn_version\": \"1.5.2\", \"serialization_format\": \"cloudpickle\", \"code\": null}}}]",
            "mlflow.project.backend": "local",
            "mlflow.project.entryPoint": "main",
            "mlflow.project.env": "virtualenv",
            "mlflow.runName": "Tuning",
            "mlflow.source.git.commit": "5e7c0b8c7b49c29802893c9821ae8546e45952b0",
            "mlflow.source.git.repoURL": "git@github.com:fmind/mlops-python-package",
            "mlflow.source.name": "file:///home/fmind/mlops-python-package",
            "mlflow.source.type": "PROJECT",
            "mlflow.user": "fmind"
           },
           104.744,
           "fmind",
           "file:///home/fmind/mlops-python-package",
           "PROJECT",
           "main",
           "5e7c0b8c7b49c29802893c9821ae8546e45952b0",
           "git@github.com:fmind/mlops-python-package",
           "git@github.com:fmind/mlops-python-package",
           "Tuning",
           "virtualenv",
           "local",
           "GridSearchCV",
           "sklearn.model_selection._search.GridSearchCV",
           "[{\"run_id\": \"41808f5b32074c5f8dddccdaa4221684\", \"artifact_path\": \"model\", \"utc_time_created\": \"2024-12-12 21:15:03.536059\", \"model_uuid\": \"aa1690180a414c58a2c9598fa6099393\", \"flavors\": {\"python_function\": {\"model_path\": \"model.pkl\", \"predict_fn\": \"predict\", \"loader_module\": \"mlflow.sklearn\", \"python_version\": \"3.12.7\", \"env\": {\"conda\": \"conda.yaml\", \"virtualenv\": \"python_env.yaml\"}}, \"sklearn\": {\"pickled_model\": \"model.pkl\", \"sklearn_version\": \"1.5.2\", \"serialization_format\": \"cloudpickle\", \"code\": null}}}, {\"run_id\": \"41808f5b32074c5f8dddccdaa4221684\", \"artifact_path\": \"best_estimator\", \"utc_time_created\": \"2024-12-12 21:15:08.639146\", \"model_uuid\": \"657186289da24155bbdc03abf97c540b\", \"flavors\": {\"python_function\": {\"model_path\": \"model.pkl\", \"predict_fn\": \"predict\", \"loader_module\": \"mlflow.sklearn\", \"python_version\": \"3.12.7\", \"env\": {\"conda\": \"conda.yaml\", \"virtualenv\": \"python_env.yaml\"}}, \"sklearn\": {\"pickled_model\": \"model.pkl\", \"sklearn_version\": \"1.5.2\", \"serialization_format\": \"cloudpickle\", \"code\": null}}}]",
           null,
           null
          ],
          [
           "file:///home/fmind/mlops-python-package/mlruns/451770521480793486/a15819213ad34dd9a6ed09d23d7f1f50/artifacts",
           "2024-12-12T21:15:12.635000",
           "451770521480793486",
           "active",
           "a15819213ad34dd9a6ed09d23d7f1f50",
           "colorful-mule-167",
           "a15819213ad34dd9a6ed09d23d7f1f50",
           "FINISHED",
           "fmind",
           {
            "mean_fit_time": 1.118449330329895,
            "mean_score_time": 0.03912538290023804,
            "mean_test_score": -16644.957118055558,
            "rank_test_score": 3,
            "std_fit_time": 0.15970737568385646,
            "std_score_time": 0.0012380048739150742,
            "std_test_score": 5315.459715152708
           },
           {
            "max_depth": "3",
            "n_estimators": "200",
            "random_state": "42"
           },
           {
            "estimator_class": "bikes.core.models.BaselineSklearnModel",
            "estimator_name": "BaselineSklearnModel",
            "mlflow.autologging": "sklearn",
            "mlflow.parentRunId": "41808f5b32074c5f8dddccdaa4221684",
            "mlflow.runName": "colorful-mule-167",
            "mlflow.source.git.commit": "5e7c0b8c7b49c29802893c9821ae8546e45952b0",
            "mlflow.source.name": "/home/fmind/mlops-python-package/src/bikes/__main__.py",
            "mlflow.source.type": "LOCAL",
            "mlflow.user": "fmind"
           },
           103.824,
           "fmind",
           "/home/fmind/mlops-python-package/src/bikes/__main__.py",
           "LOCAL",
           null,
           "5e7c0b8c7b49c29802893c9821ae8546e45952b0",
           null,
           null,
           "colorful-mule-167",
           null,
           null,
           "BaselineSklearnModel",
           "bikes.core.models.BaselineSklearnModel",
           null,
           "sklearn",
           "41808f5b32074c5f8dddccdaa4221684"
          ],
          [
           "file:///home/fmind/mlops-python-package/mlruns/451770521480793486/cbc1f6a92cdf4a6fb03f60d8cd9fc6e5/artifacts",
           "2024-12-12T21:15:12.635000",
           "451770521480793486",
           "active",
           "cbc1f6a92cdf4a6fb03f60d8cd9fc6e5",
           "righteous-grub-422",
           "cbc1f6a92cdf4a6fb03f60d8cd9fc6e5",
           "FINISHED",
           "fmind",
           {
            "mean_fit_time": 1.7803198099136353,
            "mean_score_time": 0.04240947961807251,
            "mean_test_score": -8287.860416666666,
            "rank_test_score": 2,
            "std_fit_time": 0.2563473143454279,
            "std_score_time": 0.0014697793935521128,
            "std_test_score": 1045.7595024691313
           },
           {
            "max_depth": "5",
            "n_estimators": "200",
            "random_state": "42"
           },
           {
            "estimator_class": "bikes.core.models.BaselineSklearnModel",
            "estimator_name": "BaselineSklearnModel",
            "mlflow.autologging": "sklearn",
            "mlflow.parentRunId": "41808f5b32074c5f8dddccdaa4221684",
            "mlflow.runName": "righteous-grub-422",
            "mlflow.source.git.commit": "5e7c0b8c7b49c29802893c9821ae8546e45952b0",
            "mlflow.source.name": "/home/fmind/mlops-python-package/src/bikes/__main__.py",
            "mlflow.source.type": "LOCAL",
            "mlflow.user": "fmind"
           },
           103.824,
           "fmind",
           "/home/fmind/mlops-python-package/src/bikes/__main__.py",
           "LOCAL",
           null,
           "5e7c0b8c7b49c29802893c9821ae8546e45952b0",
           null,
           null,
           "righteous-grub-422",
           null,
           null,
           "BaselineSklearnModel",
           "bikes.core.models.BaselineSklearnModel",
           null,
           "sklearn",
           "41808f5b32074c5f8dddccdaa4221684"
          ],
          [
           "file:///home/fmind/mlops-python-package/mlruns/451770521480793486/b4d8d557f5d94a24b035d6e77c765857/artifacts",
           "2024-12-12T21:12:59.320000",
           "451770521480793486",
           "active",
           "b4d8d557f5d94a24b035d6e77c765857",
           "Tuning",
           "b4d8d557f5d94a24b035d6e77c765857",
           "FAILED",
           "fmind",
           {},
           {
            "conf_file": "confs/tuning.yaml"
           },
           {
            "mlflow.gitRepoURL": "git@github.com:fmind/mlops-python-package",
            "mlflow.project.backend": "local",
            "mlflow.project.entryPoint": "main",
            "mlflow.project.env": "virtualenv",
            "mlflow.runName": "Tuning",
            "mlflow.source.git.commit": "5e7c0b8c7b49c29802893c9821ae8546e45952b0",
            "mlflow.source.git.repoURL": "git@github.com:fmind/mlops-python-package",
            "mlflow.source.name": "file:///home/fmind/mlops-python-package",
            "mlflow.source.type": "PROJECT",
            "mlflow.user": "fmind"
           },
           0.38,
           "fmind",
           "file:///home/fmind/mlops-python-package",
           "PROJECT",
           "main",
           "5e7c0b8c7b49c29802893c9821ae8546e45952b0",
           "git@github.com:fmind/mlops-python-package",
           "git@github.com:fmind/mlops-python-package",
           "Tuning",
           "virtualenv",
           "local",
           null,
           null,
           null,
           null,
           null
          ]
         ],
         "fillcolor": "rgba(255,255,255,0)",
         "hoveron": "points",
         "hovertemplate": "<b>%{hovertext}</b><br><br>experiment_id=%{customdata[2]}<br>start_time=%{x}<br>artifact_uri=%{customdata[0]}<br>end_time=%{customdata[1]}<br>lifecycle_stage=%{customdata[3]}<br>run_id=%{customdata[4]}<br>run_name=%{customdata[5]}<br>run_uuid=%{customdata[6]}<br>status=%{customdata[7]}<br>user_id=%{customdata[8]}<br>metrics=%{customdata[9]}<br>params=%{customdata[10]}<br>tags=%{customdata[11]}<br>run_time_secs=%{customdata[12]}<br>mlflow.user=%{customdata[13]}<br>mlflow.source.name=%{customdata[14]}<br>mlflow.source.type=%{customdata[15]}<br>mlflow.project.entryPoint=%{customdata[16]}<br>mlflow.source.git.commit=%{customdata[17]}<br>mlflow.source.git.repoURL=%{customdata[18]}<br>mlflow.gitRepoURL=%{customdata[19]}<br>mlflow.runName=%{customdata[20]}<br>mlflow.project.env=%{customdata[21]}<br>mlflow.project.backend=%{customdata[22]}<br>estimator_name=%{customdata[23]}<br>estimator_class=%{customdata[24]}<br>mlflow.log-model.history=%{customdata[25]}<br>mlflow.autologging=%{customdata[26]}<br>mlflow.parentRunId=%{customdata[27]}<extra></extra>",
         "hovertext": [
          "Explanations",
          "Evaluations",
          "Inference",
          "Promotion",
          "Training",
          "Tuning",
          "grandiose-ape-36",
          "skillful-trout-792",
          "adorable-crane-156",
          "Explanations",
          "Evaluations",
          "Inference",
          "Promotion",
          "Training",
          "bedecked-snake-279",
          "Tuning",
          "colorful-mule-167",
          "righteous-grub-422",
          "Tuning"
         ],
         "legendgroup": "451770521480793486",
         "line": {
          "color": "rgba(255,255,255,0)"
         },
         "marker": {
          "color": "#636efa"
         },
         "name": "451770521480793486",
         "offsetgroup": "451770521480793486",
         "orientation": "h",
         "pointpos": 0,
         "showlegend": true,
         "type": "box",
         "x": [
          "2024-12-13T21:29:52.698000",
          "2024-12-13T21:29:45.813000",
          "2024-12-13T21:29:39.639000",
          "2024-12-13T21:29:34.124000",
          "2024-12-13T21:29:08.647000",
          "2024-12-13T21:28:20.597000",
          "2024-12-13T21:28:20.597000",
          "2024-12-13T21:28:20.597000",
          "2024-12-13T21:28:20.597000",
          "2024-12-12T21:16:10.389000",
          "2024-12-12T21:16:02.437000",
          "2024-12-12T21:15:55.056000",
          "2024-12-12T21:15:48.003000",
          "2024-12-12T21:15:16.386000",
          "2024-12-12T21:13:28.811000",
          "2024-12-12T21:13:28.811000",
          "2024-12-12T21:13:28.811000",
          "2024-12-12T21:13:28.811000",
          "2024-12-12T21:12:58.940000"
         ],
         "x0": " ",
         "xaxis": "x",
         "y0": " ",
         "yaxis": "y"
        }
       ],
       "layout": {
        "boxmode": "group",
        "legend": {
         "title": {
          "text": "experiment_id"
         },
         "tracegroupgap": 0
        },
        "template": {
         "data": {
          "bar": [
           {
            "error_x": {
             "color": "#2a3f5f"
            },
            "error_y": {
             "color": "#2a3f5f"
            },
            "marker": {
             "line": {
              "color": "#E5ECF6",
              "width": 0.5
             },
             "pattern": {
              "fillmode": "overlay",
              "size": 10,
              "solidity": 0.2
             }
            },
            "type": "bar"
           }
          ],
          "barpolar": [
           {
            "marker": {
             "line": {
              "color": "#E5ECF6",
              "width": 0.5
             },
             "pattern": {
              "fillmode": "overlay",
              "size": 10,
              "solidity": 0.2
             }
            },
            "type": "barpolar"
           }
          ],
          "carpet": [
           {
            "aaxis": {
             "endlinecolor": "#2a3f5f",
             "gridcolor": "white",
             "linecolor": "white",
             "minorgridcolor": "white",
             "startlinecolor": "#2a3f5f"
            },
            "baxis": {
             "endlinecolor": "#2a3f5f",
             "gridcolor": "white",
             "linecolor": "white",
             "minorgridcolor": "white",
             "startlinecolor": "#2a3f5f"
            },
            "type": "carpet"
           }
          ],
          "choropleth": [
           {
            "colorbar": {
             "outlinewidth": 0,
             "ticks": ""
            },
            "type": "choropleth"
           }
          ],
          "contour": [
           {
            "colorbar": {
             "outlinewidth": 0,
             "ticks": ""
            },
            "colorscale": [
             [
              0,
              "#0d0887"
             ],
             [
              0.1111111111111111,
              "#46039f"
             ],
             [
              0.2222222222222222,
              "#7201a8"
             ],
             [
              0.3333333333333333,
              "#9c179e"
             ],
             [
              0.4444444444444444,
              "#bd3786"
             ],
             [
              0.5555555555555556,
              "#d8576b"
             ],
             [
              0.6666666666666666,
              "#ed7953"
             ],
             [
              0.7777777777777778,
              "#fb9f3a"
             ],
             [
              0.8888888888888888,
              "#fdca26"
             ],
             [
              1,
              "#f0f921"
             ]
            ],
            "type": "contour"
           }
          ],
          "contourcarpet": [
           {
            "colorbar": {
             "outlinewidth": 0,
             "ticks": ""
            },
            "type": "contourcarpet"
           }
          ],
          "heatmap": [
           {
            "colorbar": {
             "outlinewidth": 0,
             "ticks": ""
            },
            "colorscale": [
             [
              0,
              "#0d0887"
             ],
             [
              0.1111111111111111,
              "#46039f"
             ],
             [
              0.2222222222222222,
              "#7201a8"
             ],
             [
              0.3333333333333333,
              "#9c179e"
             ],
             [
              0.4444444444444444,
              "#bd3786"
             ],
             [
              0.5555555555555556,
              "#d8576b"
             ],
             [
              0.6666666666666666,
              "#ed7953"
             ],
             [
              0.7777777777777778,
              "#fb9f3a"
             ],
             [
              0.8888888888888888,
              "#fdca26"
             ],
             [
              1,
              "#f0f921"
             ]
            ],
            "type": "heatmap"
           }
          ],
          "heatmapgl": [
           {
            "colorbar": {
             "outlinewidth": 0,
             "ticks": ""
            },
            "colorscale": [
             [
              0,
              "#0d0887"
             ],
             [
              0.1111111111111111,
              "#46039f"
             ],
             [
              0.2222222222222222,
              "#7201a8"
             ],
             [
              0.3333333333333333,
              "#9c179e"
             ],
             [
              0.4444444444444444,
              "#bd3786"
             ],
             [
              0.5555555555555556,
              "#d8576b"
             ],
             [
              0.6666666666666666,
              "#ed7953"
             ],
             [
              0.7777777777777778,
              "#fb9f3a"
             ],
             [
              0.8888888888888888,
              "#fdca26"
             ],
             [
              1,
              "#f0f921"
             ]
            ],
            "type": "heatmapgl"
           }
          ],
          "histogram": [
           {
            "marker": {
             "pattern": {
              "fillmode": "overlay",
              "size": 10,
              "solidity": 0.2
             }
            },
            "type": "histogram"
           }
          ],
          "histogram2d": [
           {
            "colorbar": {
             "outlinewidth": 0,
             "ticks": ""
            },
            "colorscale": [
             [
              0,
              "#0d0887"
             ],
             [
              0.1111111111111111,
              "#46039f"
             ],
             [
              0.2222222222222222,
              "#7201a8"
             ],
             [
              0.3333333333333333,
              "#9c179e"
             ],
             [
              0.4444444444444444,
              "#bd3786"
             ],
             [
              0.5555555555555556,
              "#d8576b"
             ],
             [
              0.6666666666666666,
              "#ed7953"
             ],
             [
              0.7777777777777778,
              "#fb9f3a"
             ],
             [
              0.8888888888888888,
              "#fdca26"
             ],
             [
              1,
              "#f0f921"
             ]
            ],
            "type": "histogram2d"
           }
          ],
          "histogram2dcontour": [
           {
            "colorbar": {
             "outlinewidth": 0,
             "ticks": ""
            },
            "colorscale": [
             [
              0,
              "#0d0887"
             ],
             [
              0.1111111111111111,
              "#46039f"
             ],
             [
              0.2222222222222222,
              "#7201a8"
             ],
             [
              0.3333333333333333,
              "#9c179e"
             ],
             [
              0.4444444444444444,
              "#bd3786"
             ],
             [
              0.5555555555555556,
              "#d8576b"
             ],
             [
              0.6666666666666666,
              "#ed7953"
             ],
             [
              0.7777777777777778,
              "#fb9f3a"
             ],
             [
              0.8888888888888888,
              "#fdca26"
             ],
             [
              1,
              "#f0f921"
             ]
            ],
            "type": "histogram2dcontour"
           }
          ],
          "mesh3d": [
           {
            "colorbar": {
             "outlinewidth": 0,
             "ticks": ""
            },
            "type": "mesh3d"
           }
          ],
          "parcoords": [
           {
            "line": {
             "colorbar": {
              "outlinewidth": 0,
              "ticks": ""
             }
            },
            "type": "parcoords"
           }
          ],
          "pie": [
           {
            "automargin": true,
            "type": "pie"
           }
          ],
          "scatter": [
           {
            "fillpattern": {
             "fillmode": "overlay",
             "size": 10,
             "solidity": 0.2
            },
            "type": "scatter"
           }
          ],
          "scatter3d": [
           {
            "line": {
             "colorbar": {
              "outlinewidth": 0,
              "ticks": ""
             }
            },
            "marker": {
             "colorbar": {
              "outlinewidth": 0,
              "ticks": ""
             }
            },
            "type": "scatter3d"
           }
          ],
          "scattercarpet": [
           {
            "marker": {
             "colorbar": {
              "outlinewidth": 0,
              "ticks": ""
             }
            },
            "type": "scattercarpet"
           }
          ],
          "scattergeo": [
           {
            "marker": {
             "colorbar": {
              "outlinewidth": 0,
              "ticks": ""
             }
            },
            "type": "scattergeo"
           }
          ],
          "scattergl": [
           {
            "marker": {
             "colorbar": {
              "outlinewidth": 0,
              "ticks": ""
             }
            },
            "type": "scattergl"
           }
          ],
          "scattermapbox": [
           {
            "marker": {
             "colorbar": {
              "outlinewidth": 0,
              "ticks": ""
             }
            },
            "type": "scattermapbox"
           }
          ],
          "scatterpolar": [
           {
            "marker": {
             "colorbar": {
              "outlinewidth": 0,
              "ticks": ""
             }
            },
            "type": "scatterpolar"
           }
          ],
          "scatterpolargl": [
           {
            "marker": {
             "colorbar": {
              "outlinewidth": 0,
              "ticks": ""
             }
            },
            "type": "scatterpolargl"
           }
          ],
          "scatterternary": [
           {
            "marker": {
             "colorbar": {
              "outlinewidth": 0,
              "ticks": ""
             }
            },
            "type": "scatterternary"
           }
          ],
          "surface": [
           {
            "colorbar": {
             "outlinewidth": 0,
             "ticks": ""
            },
            "colorscale": [
             [
              0,
              "#0d0887"
             ],
             [
              0.1111111111111111,
              "#46039f"
             ],
             [
              0.2222222222222222,
              "#7201a8"
             ],
             [
              0.3333333333333333,
              "#9c179e"
             ],
             [
              0.4444444444444444,
              "#bd3786"
             ],
             [
              0.5555555555555556,
              "#d8576b"
             ],
             [
              0.6666666666666666,
              "#ed7953"
             ],
             [
              0.7777777777777778,
              "#fb9f3a"
             ],
             [
              0.8888888888888888,
              "#fdca26"
             ],
             [
              1,
              "#f0f921"
             ]
            ],
            "type": "surface"
           }
          ],
          "table": [
           {
            "cells": {
             "fill": {
              "color": "#EBF0F8"
             },
             "line": {
              "color": "white"
             }
            },
            "header": {
             "fill": {
              "color": "#C8D4E3"
             },
             "line": {
              "color": "white"
             }
            },
            "type": "table"
           }
          ]
         },
         "layout": {
          "annotationdefaults": {
           "arrowcolor": "#2a3f5f",
           "arrowhead": 0,
           "arrowwidth": 1
          },
          "autotypenumbers": "strict",
          "coloraxis": {
           "colorbar": {
            "outlinewidth": 0,
            "ticks": ""
           }
          },
          "colorscale": {
           "diverging": [
            [
             0,
             "#8e0152"
            ],
            [
             0.1,
             "#c51b7d"
            ],
            [
             0.2,
             "#de77ae"
            ],
            [
             0.3,
             "#f1b6da"
            ],
            [
             0.4,
             "#fde0ef"
            ],
            [
             0.5,
             "#f7f7f7"
            ],
            [
             0.6,
             "#e6f5d0"
            ],
            [
             0.7,
             "#b8e186"
            ],
            [
             0.8,
             "#7fbc41"
            ],
            [
             0.9,
             "#4d9221"
            ],
            [
             1,
             "#276419"
            ]
           ],
           "sequential": [
            [
             0,
             "#0d0887"
            ],
            [
             0.1111111111111111,
             "#46039f"
            ],
            [
             0.2222222222222222,
             "#7201a8"
            ],
            [
             0.3333333333333333,
             "#9c179e"
            ],
            [
             0.4444444444444444,
             "#bd3786"
            ],
            [
             0.5555555555555556,
             "#d8576b"
            ],
            [
             0.6666666666666666,
             "#ed7953"
            ],
            [
             0.7777777777777778,
             "#fb9f3a"
            ],
            [
             0.8888888888888888,
             "#fdca26"
            ],
            [
             1,
             "#f0f921"
            ]
           ],
           "sequentialminus": [
            [
             0,
             "#0d0887"
            ],
            [
             0.1111111111111111,
             "#46039f"
            ],
            [
             0.2222222222222222,
             "#7201a8"
            ],
            [
             0.3333333333333333,
             "#9c179e"
            ],
            [
             0.4444444444444444,
             "#bd3786"
            ],
            [
             0.5555555555555556,
             "#d8576b"
            ],
            [
             0.6666666666666666,
             "#ed7953"
            ],
            [
             0.7777777777777778,
             "#fb9f3a"
            ],
            [
             0.8888888888888888,
             "#fdca26"
            ],
            [
             1,
             "#f0f921"
            ]
           ]
          },
          "colorway": [
           "#636efa",
           "#EF553B",
           "#00cc96",
           "#ab63fa",
           "#FFA15A",
           "#19d3f3",
           "#FF6692",
           "#B6E880",
           "#FF97FF",
           "#FECB52"
          ],
          "font": {
           "color": "#2a3f5f"
          },
          "geo": {
           "bgcolor": "white",
           "lakecolor": "white",
           "landcolor": "#E5ECF6",
           "showlakes": true,
           "showland": true,
           "subunitcolor": "white"
          },
          "hoverlabel": {
           "align": "left"
          },
          "hovermode": "closest",
          "mapbox": {
           "style": "light"
          },
          "paper_bgcolor": "white",
          "plot_bgcolor": "#E5ECF6",
          "polar": {
           "angularaxis": {
            "gridcolor": "white",
            "linecolor": "white",
            "ticks": ""
           },
           "bgcolor": "#E5ECF6",
           "radialaxis": {
            "gridcolor": "white",
            "linecolor": "white",
            "ticks": ""
           }
          },
          "scene": {
           "xaxis": {
            "backgroundcolor": "#E5ECF6",
            "gridcolor": "white",
            "gridwidth": 2,
            "linecolor": "white",
            "showbackground": true,
            "ticks": "",
            "zerolinecolor": "white"
           },
           "yaxis": {
            "backgroundcolor": "#E5ECF6",
            "gridcolor": "white",
            "gridwidth": 2,
            "linecolor": "white",
            "showbackground": true,
            "ticks": "",
            "zerolinecolor": "white"
           },
           "zaxis": {
            "backgroundcolor": "#E5ECF6",
            "gridcolor": "white",
            "gridwidth": 2,
            "linecolor": "white",
            "showbackground": true,
            "ticks": "",
            "zerolinecolor": "white"
           }
          },
          "shapedefaults": {
           "line": {
            "color": "#2a3f5f"
           }
          },
          "ternary": {
           "aaxis": {
            "gridcolor": "white",
            "linecolor": "white",
            "ticks": ""
           },
           "baxis": {
            "gridcolor": "white",
            "linecolor": "white",
            "ticks": ""
           },
           "bgcolor": "#E5ECF6",
           "caxis": {
            "gridcolor": "white",
            "linecolor": "white",
            "ticks": ""
           }
          },
          "title": {
           "x": 0.05
          },
          "xaxis": {
           "automargin": true,
           "gridcolor": "white",
           "linecolor": "white",
           "ticks": "",
           "title": {
            "standoff": 15
           },
           "zerolinecolor": "white",
           "zerolinewidth": 2
          },
          "yaxis": {
           "automargin": true,
           "gridcolor": "white",
           "linecolor": "white",
           "ticks": "",
           "title": {
            "standoff": 15
           },
           "zerolinecolor": "white",
           "zerolinewidth": 2
          }
         }
        },
        "title": {
         "text": "Run Start Time"
        },
        "xaxis": {
         "anchor": "y",
         "domain": [
          0,
          1
         ],
         "title": {
          "text": "start_time"
         }
        },
        "yaxis": {
         "anchor": "x",
         "domain": [
          0,
          1
         ]
        }
       }
      }
     },
     "metadata": {},
     "output_type": "display_data"
    }
   ],
   "source": [
    "px.strip(\n",
    "    runs,\n",
    "    x=\"start_time\",\n",
    "    color=\"experiment_id\",\n",
    "    hover_name=\"run_name\",\n",
    "    hover_data=runs.columns,\n",
    "    title=\"Run Start Time\",\n",
    ")"
   ]
  },
  {
   "cell_type": "code",
   "execution_count": 14,
   "metadata": {},
   "outputs": [
    {
     "data": {
      "application/vnd.plotly.v1+json": {
       "config": {
        "plotlyServerURL": "https://plot.ly"
       },
       "data": [
        {
         "alignmentgroup": "True",
         "boxpoints": "all",
         "customdata": [
          [
           "file:///home/fmind/mlops-python-package/mlruns/451770521480793486/92d0973c64dc419cacb89efe2df006a8/artifacts",
           "2024-12-13T21:30:22.859000",
           "451770521480793486",
           "active",
           "92d0973c64dc419cacb89efe2df006a8",
           "Explanations",
           "92d0973c64dc419cacb89efe2df006a8",
           "2024-12-13T21:29:52.698000",
           "FINISHED",
           "fmind",
           {},
           {
            "conf_file": "confs/explanations.yaml"
           },
           {
            "mlflow.gitRepoURL": "git@github.com:fmind/mlops-python-package",
            "mlflow.project.backend": "local",
            "mlflow.project.entryPoint": "main",
            "mlflow.project.env": "virtualenv",
            "mlflow.runName": "Explanations",
            "mlflow.source.git.commit": "5e7c0b8c7b49c29802893c9821ae8546e45952b0",
            "mlflow.source.git.repoURL": "git@github.com:fmind/mlops-python-package",
            "mlflow.source.name": "file:///home/fmind/mlops-python-package",
            "mlflow.source.type": "PROJECT",
            "mlflow.user": "fmind"
           },
           "fmind",
           "file:///home/fmind/mlops-python-package",
           "PROJECT",
           "main",
           "5e7c0b8c7b49c29802893c9821ae8546e45952b0",
           "git@github.com:fmind/mlops-python-package",
           "git@github.com:fmind/mlops-python-package",
           "Explanations",
           "virtualenv",
           "local",
           null,
           null,
           null,
           null,
           null
          ],
          [
           "file:///home/fmind/mlops-python-package/mlruns/451770521480793486/b93a8935f9844745bec8dd796a0a8a73/artifacts",
           "2024-12-12T21:16:43.849000",
           "451770521480793486",
           "active",
           "b93a8935f9844745bec8dd796a0a8a73",
           "Explanations",
           "b93a8935f9844745bec8dd796a0a8a73",
           "2024-12-12T21:16:10.389000",
           "FINISHED",
           "fmind",
           {},
           {
            "conf_file": "confs/explanations.yaml"
           },
           {
            "mlflow.gitRepoURL": "git@github.com:fmind/mlops-python-package",
            "mlflow.project.backend": "local",
            "mlflow.project.entryPoint": "main",
            "mlflow.project.env": "virtualenv",
            "mlflow.runName": "Explanations",
            "mlflow.source.git.commit": "5e7c0b8c7b49c29802893c9821ae8546e45952b0",
            "mlflow.source.git.repoURL": "git@github.com:fmind/mlops-python-package",
            "mlflow.source.name": "file:///home/fmind/mlops-python-package",
            "mlflow.source.type": "PROJECT",
            "mlflow.user": "fmind"
           },
           "fmind",
           "file:///home/fmind/mlops-python-package",
           "PROJECT",
           "main",
           "5e7c0b8c7b49c29802893c9821ae8546e45952b0",
           "git@github.com:fmind/mlops-python-package",
           "git@github.com:fmind/mlops-python-package",
           "Explanations",
           "virtualenv",
           "local",
           null,
           null,
           null,
           null,
           null
          ]
         ],
         "fillcolor": "rgba(255,255,255,0)",
         "hoveron": "points",
         "hovertemplate": "<b>%{hovertext}</b><br><br>run_name=%{customdata[5]}<br>run_time_secs=%{x}<br>artifact_uri=%{customdata[0]}<br>end_time=%{customdata[1]}<br>experiment_id=%{customdata[2]}<br>lifecycle_stage=%{customdata[3]}<br>run_id=%{customdata[4]}<br>run_uuid=%{customdata[6]}<br>start_time=%{customdata[7]}<br>status=%{customdata[8]}<br>user_id=%{customdata[9]}<br>metrics=%{customdata[10]}<br>params=%{customdata[11]}<br>tags=%{customdata[12]}<br>mlflow.user=%{customdata[13]}<br>mlflow.source.name=%{customdata[14]}<br>mlflow.source.type=%{customdata[15]}<br>mlflow.project.entryPoint=%{customdata[16]}<br>mlflow.source.git.commit=%{customdata[17]}<br>mlflow.source.git.repoURL=%{customdata[18]}<br>mlflow.gitRepoURL=%{customdata[19]}<br>mlflow.runName=%{customdata[20]}<br>mlflow.project.env=%{customdata[21]}<br>mlflow.project.backend=%{customdata[22]}<br>estimator_name=%{customdata[23]}<br>estimator_class=%{customdata[24]}<br>mlflow.log-model.history=%{customdata[25]}<br>mlflow.autologging=%{customdata[26]}<br>mlflow.parentRunId=%{customdata[27]}<extra></extra>",
         "hovertext": [
          "92d0973c64dc419cacb89efe2df006a8",
          "b93a8935f9844745bec8dd796a0a8a73"
         ],
         "legendgroup": "Explanations",
         "line": {
          "color": "rgba(255,255,255,0)"
         },
         "marker": {
          "color": "#636efa"
         },
         "name": "Explanations",
         "offsetgroup": "Explanations",
         "orientation": "h",
         "pointpos": 0,
         "showlegend": true,
         "type": "box",
         "x": [
          30.161,
          33.46
         ],
         "x0": " ",
         "xaxis": "x",
         "y0": " ",
         "yaxis": "y"
        },
        {
         "alignmentgroup": "True",
         "boxpoints": "all",
         "customdata": [
          [
           "file:///home/fmind/mlops-python-package/mlruns/451770521480793486/855a19513f6d4282a217ef920a0d69f5/artifacts",
           "2024-12-13T21:29:50.751000",
           "451770521480793486",
           "active",
           "855a19513f6d4282a217ef920a0d69f5",
           "Evaluations",
           "855a19513f6d4282a217ef920a0d69f5",
           "2024-12-13T21:29:45.813000",
           "FINISHED",
           "fmind",
           {
            "example_count": 13903,
            "max_error": 4294967295,
            "mean_absolute_error": 2044457567.3205063,
            "mean_absolute_percentage_error": 55189262.03890929,
            "mean_on_target": 174.63914263108683,
            "mean_squared_error": 296.66338200388407,
            "r2_score": 0.9893562621162568,
            "root_mean_squared_error": 17.223918892165166,
            "sum_on_target": 2428008
           },
           {
            "conf_file": "confs/evaluations.yaml"
           },
           {
            "mlflow.gitRepoURL": "git@github.com:fmind/mlops-python-package",
            "mlflow.project.backend": "local",
            "mlflow.project.entryPoint": "main",
            "mlflow.project.env": "virtualenv",
            "mlflow.runName": "Evaluations",
            "mlflow.source.git.commit": "5e7c0b8c7b49c29802893c9821ae8546e45952b0",
            "mlflow.source.git.repoURL": "git@github.com:fmind/mlops-python-package",
            "mlflow.source.name": "file:///home/fmind/mlops-python-package",
            "mlflow.source.type": "PROJECT",
            "mlflow.user": "fmind"
           },
           "fmind",
           "file:///home/fmind/mlops-python-package",
           "PROJECT",
           "main",
           "5e7c0b8c7b49c29802893c9821ae8546e45952b0",
           "git@github.com:fmind/mlops-python-package",
           "git@github.com:fmind/mlops-python-package",
           "Evaluations",
           "virtualenv",
           "local",
           null,
           null,
           null,
           null,
           null
          ],
          [
           "file:///home/fmind/mlops-python-package/mlruns/451770521480793486/f2b3bf2f37334c35b362c594f4378f27/artifacts",
           "2024-12-12T21:16:08.320000",
           "451770521480793486",
           "active",
           "f2b3bf2f37334c35b362c594f4378f27",
           "Evaluations",
           "f2b3bf2f37334c35b362c594f4378f27",
           "2024-12-12T21:16:02.437000",
           "FINISHED",
           "fmind",
           {
            "example_count": 13903,
            "max_error": 4294967295,
            "mean_absolute_error": 2044457567.3205063,
            "mean_absolute_percentage_error": 55189262.03890929,
            "mean_on_target": 174.63914263108683,
            "mean_squared_error": 296.66338200388407,
            "r2_score": 0.9893562621162568,
            "root_mean_squared_error": 17.223918892165166,
            "sum_on_target": 2428008
           },
           {
            "conf_file": "confs/evaluations.yaml"
           },
           {
            "mlflow.gitRepoURL": "git@github.com:fmind/mlops-python-package",
            "mlflow.project.backend": "local",
            "mlflow.project.entryPoint": "main",
            "mlflow.project.env": "virtualenv",
            "mlflow.runName": "Evaluations",
            "mlflow.source.git.commit": "5e7c0b8c7b49c29802893c9821ae8546e45952b0",
            "mlflow.source.git.repoURL": "git@github.com:fmind/mlops-python-package",
            "mlflow.source.name": "file:///home/fmind/mlops-python-package",
            "mlflow.source.type": "PROJECT",
            "mlflow.user": "fmind"
           },
           "fmind",
           "file:///home/fmind/mlops-python-package",
           "PROJECT",
           "main",
           "5e7c0b8c7b49c29802893c9821ae8546e45952b0",
           "git@github.com:fmind/mlops-python-package",
           "git@github.com:fmind/mlops-python-package",
           "Evaluations",
           "virtualenv",
           "local",
           null,
           null,
           null,
           null,
           null
          ]
         ],
         "fillcolor": "rgba(255,255,255,0)",
         "hoveron": "points",
         "hovertemplate": "<b>%{hovertext}</b><br><br>run_name=%{customdata[5]}<br>run_time_secs=%{x}<br>artifact_uri=%{customdata[0]}<br>end_time=%{customdata[1]}<br>experiment_id=%{customdata[2]}<br>lifecycle_stage=%{customdata[3]}<br>run_id=%{customdata[4]}<br>run_uuid=%{customdata[6]}<br>start_time=%{customdata[7]}<br>status=%{customdata[8]}<br>user_id=%{customdata[9]}<br>metrics=%{customdata[10]}<br>params=%{customdata[11]}<br>tags=%{customdata[12]}<br>mlflow.user=%{customdata[13]}<br>mlflow.source.name=%{customdata[14]}<br>mlflow.source.type=%{customdata[15]}<br>mlflow.project.entryPoint=%{customdata[16]}<br>mlflow.source.git.commit=%{customdata[17]}<br>mlflow.source.git.repoURL=%{customdata[18]}<br>mlflow.gitRepoURL=%{customdata[19]}<br>mlflow.runName=%{customdata[20]}<br>mlflow.project.env=%{customdata[21]}<br>mlflow.project.backend=%{customdata[22]}<br>estimator_name=%{customdata[23]}<br>estimator_class=%{customdata[24]}<br>mlflow.log-model.history=%{customdata[25]}<br>mlflow.autologging=%{customdata[26]}<br>mlflow.parentRunId=%{customdata[27]}<extra></extra>",
         "hovertext": [
          "855a19513f6d4282a217ef920a0d69f5",
          "f2b3bf2f37334c35b362c594f4378f27"
         ],
         "legendgroup": "Evaluations",
         "line": {
          "color": "rgba(255,255,255,0)"
         },
         "marker": {
          "color": "#EF553B"
         },
         "name": "Evaluations",
         "offsetgroup": "Evaluations",
         "orientation": "h",
         "pointpos": 0,
         "showlegend": true,
         "type": "box",
         "x": [
          4.938,
          5.883
         ],
         "x0": " ",
         "xaxis": "x",
         "y0": " ",
         "yaxis": "y"
        },
        {
         "alignmentgroup": "True",
         "boxpoints": "all",
         "customdata": [
          [
           "file:///home/fmind/mlops-python-package/mlruns/451770521480793486/48f318dd0eed4c05b4bd5823f7d352f6/artifacts",
           "2024-12-13T21:29:43.951000",
           "451770521480793486",
           "active",
           "48f318dd0eed4c05b4bd5823f7d352f6",
           "Inference",
           "48f318dd0eed4c05b4bd5823f7d352f6",
           "2024-12-13T21:29:39.639000",
           "FINISHED",
           "fmind",
           {},
           {
            "conf_file": "confs/inference.yaml"
           },
           {
            "mlflow.gitRepoURL": "git@github.com:fmind/mlops-python-package",
            "mlflow.project.backend": "local",
            "mlflow.project.entryPoint": "main",
            "mlflow.project.env": "virtualenv",
            "mlflow.runName": "Inference",
            "mlflow.source.git.commit": "5e7c0b8c7b49c29802893c9821ae8546e45952b0",
            "mlflow.source.git.repoURL": "git@github.com:fmind/mlops-python-package",
            "mlflow.source.name": "file:///home/fmind/mlops-python-package",
            "mlflow.source.type": "PROJECT",
            "mlflow.user": "fmind"
           },
           "fmind",
           "file:///home/fmind/mlops-python-package",
           "PROJECT",
           "main",
           "5e7c0b8c7b49c29802893c9821ae8546e45952b0",
           "git@github.com:fmind/mlops-python-package",
           "git@github.com:fmind/mlops-python-package",
           "Inference",
           "virtualenv",
           "local",
           null,
           null,
           null,
           null,
           null
          ],
          [
           "file:///home/fmind/mlops-python-package/mlruns/451770521480793486/1b6dd4593a654170be21ec38a29c78e7/artifacts",
           "2024-12-12T21:16:00.091000",
           "451770521480793486",
           "active",
           "1b6dd4593a654170be21ec38a29c78e7",
           "Inference",
           "1b6dd4593a654170be21ec38a29c78e7",
           "2024-12-12T21:15:55.056000",
           "FINISHED",
           "fmind",
           {},
           {
            "conf_file": "confs/inference.yaml"
           },
           {
            "mlflow.gitRepoURL": "git@github.com:fmind/mlops-python-package",
            "mlflow.project.backend": "local",
            "mlflow.project.entryPoint": "main",
            "mlflow.project.env": "virtualenv",
            "mlflow.runName": "Inference",
            "mlflow.source.git.commit": "5e7c0b8c7b49c29802893c9821ae8546e45952b0",
            "mlflow.source.git.repoURL": "git@github.com:fmind/mlops-python-package",
            "mlflow.source.name": "file:///home/fmind/mlops-python-package",
            "mlflow.source.type": "PROJECT",
            "mlflow.user": "fmind"
           },
           "fmind",
           "file:///home/fmind/mlops-python-package",
           "PROJECT",
           "main",
           "5e7c0b8c7b49c29802893c9821ae8546e45952b0",
           "git@github.com:fmind/mlops-python-package",
           "git@github.com:fmind/mlops-python-package",
           "Inference",
           "virtualenv",
           "local",
           null,
           null,
           null,
           null,
           null
          ]
         ],
         "fillcolor": "rgba(255,255,255,0)",
         "hoveron": "points",
         "hovertemplate": "<b>%{hovertext}</b><br><br>run_name=%{customdata[5]}<br>run_time_secs=%{x}<br>artifact_uri=%{customdata[0]}<br>end_time=%{customdata[1]}<br>experiment_id=%{customdata[2]}<br>lifecycle_stage=%{customdata[3]}<br>run_id=%{customdata[4]}<br>run_uuid=%{customdata[6]}<br>start_time=%{customdata[7]}<br>status=%{customdata[8]}<br>user_id=%{customdata[9]}<br>metrics=%{customdata[10]}<br>params=%{customdata[11]}<br>tags=%{customdata[12]}<br>mlflow.user=%{customdata[13]}<br>mlflow.source.name=%{customdata[14]}<br>mlflow.source.type=%{customdata[15]}<br>mlflow.project.entryPoint=%{customdata[16]}<br>mlflow.source.git.commit=%{customdata[17]}<br>mlflow.source.git.repoURL=%{customdata[18]}<br>mlflow.gitRepoURL=%{customdata[19]}<br>mlflow.runName=%{customdata[20]}<br>mlflow.project.env=%{customdata[21]}<br>mlflow.project.backend=%{customdata[22]}<br>estimator_name=%{customdata[23]}<br>estimator_class=%{customdata[24]}<br>mlflow.log-model.history=%{customdata[25]}<br>mlflow.autologging=%{customdata[26]}<br>mlflow.parentRunId=%{customdata[27]}<extra></extra>",
         "hovertext": [
          "48f318dd0eed4c05b4bd5823f7d352f6",
          "1b6dd4593a654170be21ec38a29c78e7"
         ],
         "legendgroup": "Inference",
         "line": {
          "color": "rgba(255,255,255,0)"
         },
         "marker": {
          "color": "#00cc96"
         },
         "name": "Inference",
         "offsetgroup": "Inference",
         "orientation": "h",
         "pointpos": 0,
         "showlegend": true,
         "type": "box",
         "x": [
          4.312,
          5.035
         ],
         "x0": " ",
         "xaxis": "x",
         "y0": " ",
         "yaxis": "y"
        },
        {
         "alignmentgroup": "True",
         "boxpoints": "all",
         "customdata": [
          [
           "file:///home/fmind/mlops-python-package/mlruns/451770521480793486/05a8c27ae65a40008ae4962ad13691cf/artifacts",
           "2024-12-13T21:29:37.770000",
           "451770521480793486",
           "active",
           "05a8c27ae65a40008ae4962ad13691cf",
           "Promotion",
           "05a8c27ae65a40008ae4962ad13691cf",
           "2024-12-13T21:29:34.124000",
           "FINISHED",
           "fmind",
           {},
           {
            "conf_file": "confs/promotion.yaml"
           },
           {
            "mlflow.gitRepoURL": "git@github.com:fmind/mlops-python-package",
            "mlflow.project.backend": "local",
            "mlflow.project.entryPoint": "main",
            "mlflow.project.env": "virtualenv",
            "mlflow.runName": "Promotion",
            "mlflow.source.git.commit": "5e7c0b8c7b49c29802893c9821ae8546e45952b0",
            "mlflow.source.git.repoURL": "git@github.com:fmind/mlops-python-package",
            "mlflow.source.name": "file:///home/fmind/mlops-python-package",
            "mlflow.source.type": "PROJECT",
            "mlflow.user": "fmind"
           },
           "fmind",
           "file:///home/fmind/mlops-python-package",
           "PROJECT",
           "main",
           "5e7c0b8c7b49c29802893c9821ae8546e45952b0",
           "git@github.com:fmind/mlops-python-package",
           "git@github.com:fmind/mlops-python-package",
           "Promotion",
           "virtualenv",
           "local",
           null,
           null,
           null,
           null,
           null
          ],
          [
           "file:///home/fmind/mlops-python-package/mlruns/451770521480793486/cfcc7f0fb7c141b2b4781eefff9a6081/artifacts",
           "2024-12-12T21:15:52.759000",
           "451770521480793486",
           "active",
           "cfcc7f0fb7c141b2b4781eefff9a6081",
           "Promotion",
           "cfcc7f0fb7c141b2b4781eefff9a6081",
           "2024-12-12T21:15:48.003000",
           "FINISHED",
           "fmind",
           {},
           {
            "conf_file": "confs/promotion.yaml"
           },
           {
            "mlflow.gitRepoURL": "git@github.com:fmind/mlops-python-package",
            "mlflow.project.backend": "local",
            "mlflow.project.entryPoint": "main",
            "mlflow.project.env": "virtualenv",
            "mlflow.runName": "Promotion",
            "mlflow.source.git.commit": "5e7c0b8c7b49c29802893c9821ae8546e45952b0",
            "mlflow.source.git.repoURL": "git@github.com:fmind/mlops-python-package",
            "mlflow.source.name": "file:///home/fmind/mlops-python-package",
            "mlflow.source.type": "PROJECT",
            "mlflow.user": "fmind"
           },
           "fmind",
           "file:///home/fmind/mlops-python-package",
           "PROJECT",
           "main",
           "5e7c0b8c7b49c29802893c9821ae8546e45952b0",
           "git@github.com:fmind/mlops-python-package",
           "git@github.com:fmind/mlops-python-package",
           "Promotion",
           "virtualenv",
           "local",
           null,
           null,
           null,
           null,
           null
          ]
         ],
         "fillcolor": "rgba(255,255,255,0)",
         "hoveron": "points",
         "hovertemplate": "<b>%{hovertext}</b><br><br>run_name=%{customdata[5]}<br>run_time_secs=%{x}<br>artifact_uri=%{customdata[0]}<br>end_time=%{customdata[1]}<br>experiment_id=%{customdata[2]}<br>lifecycle_stage=%{customdata[3]}<br>run_id=%{customdata[4]}<br>run_uuid=%{customdata[6]}<br>start_time=%{customdata[7]}<br>status=%{customdata[8]}<br>user_id=%{customdata[9]}<br>metrics=%{customdata[10]}<br>params=%{customdata[11]}<br>tags=%{customdata[12]}<br>mlflow.user=%{customdata[13]}<br>mlflow.source.name=%{customdata[14]}<br>mlflow.source.type=%{customdata[15]}<br>mlflow.project.entryPoint=%{customdata[16]}<br>mlflow.source.git.commit=%{customdata[17]}<br>mlflow.source.git.repoURL=%{customdata[18]}<br>mlflow.gitRepoURL=%{customdata[19]}<br>mlflow.runName=%{customdata[20]}<br>mlflow.project.env=%{customdata[21]}<br>mlflow.project.backend=%{customdata[22]}<br>estimator_name=%{customdata[23]}<br>estimator_class=%{customdata[24]}<br>mlflow.log-model.history=%{customdata[25]}<br>mlflow.autologging=%{customdata[26]}<br>mlflow.parentRunId=%{customdata[27]}<extra></extra>",
         "hovertext": [
          "05a8c27ae65a40008ae4962ad13691cf",
          "cfcc7f0fb7c141b2b4781eefff9a6081"
         ],
         "legendgroup": "Promotion",
         "line": {
          "color": "rgba(255,255,255,0)"
         },
         "marker": {
          "color": "#ab63fa"
         },
         "name": "Promotion",
         "offsetgroup": "Promotion",
         "orientation": "h",
         "pointpos": 0,
         "showlegend": true,
         "type": "box",
         "x": [
          3.646,
          4.756
         ],
         "x0": " ",
         "xaxis": "x",
         "y0": " ",
         "yaxis": "y"
        },
        {
         "alignmentgroup": "True",
         "boxpoints": "all",
         "customdata": [
          [
           "file:///home/fmind/mlops-python-package/mlruns/451770521480793486/ac1ad3a71ca1438f930cf61cdaf4dda2/artifacts",
           "2024-12-13T21:29:31.698000",
           "451770521480793486",
           "active",
           "ac1ad3a71ca1438f930cf61cdaf4dda2",
           "Training",
           "ac1ad3a71ca1438f930cf61cdaf4dda2",
           "2024-12-13T21:29:08.647000",
           "FINISHED",
           "fmind",
           {
            "mean_squared_error": -1786.7527777777777,
            "system/cpu_utilization_percentage": 0,
            "system/disk_available_megabytes": 14473.2,
            "system/disk_usage_megabytes": 101021.7,
            "system/disk_usage_percentage": 87.5,
            "system/network_receive_megabytes": 0,
            "system/network_transmit_megabytes": 0,
            "system/system_memory_usage_megabytes": 4633.6,
            "system/system_memory_usage_percentage": 30.7,
            "training_mean_absolute_error": 6.8051192198812736,
            "training_mean_squared_error": 124.51054615575788,
            "training_r2_score": 0.9948851411922456,
            "training_root_mean_squared_error": 11.158429376742852,
            "training_score": 0.9948851411922456
           },
           {
            "conf_file": "confs/training.yaml",
            "memory": "None",
            "regressor": "RandomForestRegressor(max_depth=20, n_estimators=200, random_state=42)",
            "regressor__bootstrap": "True",
            "regressor__ccp_alpha": "0.0",
            "regressor__criterion": "squared_error",
            "regressor__max_depth": "20",
            "regressor__max_features": "1.0",
            "regressor__max_leaf_nodes": "None",
            "regressor__max_samples": "None",
            "regressor__min_impurity_decrease": "0.0",
            "regressor__min_samples_leaf": "1",
            "regressor__min_samples_split": "2",
            "regressor__min_weight_fraction_leaf": "0.0",
            "regressor__monotonic_cst": "None",
            "regressor__n_estimators": "200",
            "regressor__n_jobs": "None",
            "regressor__oob_score": "False",
            "regressor__random_state": "42",
            "regressor__verbose": "0",
            "regressor__warm_start": "False",
            "steps": "[('transformer', ColumnTransformer(transformers=[('categoricals',\n                                 OneHotEncoder(handle_unknown='ignore',\n                                               sparse_output=False),\n                                 ['season', 'weathersit']),\n                                ('numericals', 'passthrough',\n                                 ['yr', 'mnth', 'hr', 'holiday', 'weekday',\n                                  'workingday', 'temp', 'atemp', 'hum',\n                                  'windspeed', 'casual'])])), ('regressor', RandomForestRegressor(max_depth=20, n_estimators=200, random_state=42))]",
            "transformer": "ColumnTransformer(transformers=[('categoricals',\n                                 OneHotEncoder(handle_unknown='ignore',\n                                               sparse_output=False),\n                                 ['season', 'weathersit']),\n                                ('numericals', 'passthrough',\n                                 ['yr', 'mnth', 'hr', 'holiday', 'weekday',\n                                  'workingday', 'temp', 'atemp', 'hum',\n                                  'windspeed', 'casual'])])",
            "transformer__categoricals": "OneHotEncoder(handle_unknown='ignore', sparse_output=False)",
            "transformer__categoricals__categories": "auto",
            "transformer__categoricals__drop": "None",
            "transformer__categoricals__dtype": "<class 'numpy.float64'>",
            "transformer__categoricals__feature_name_combiner": "concat",
            "transformer__categoricals__handle_unknown": "ignore",
            "transformer__categoricals__max_categories": "None",
            "transformer__categoricals__min_frequency": "None",
            "transformer__categoricals__sparse_output": "False",
            "transformer__force_int_remainder_cols": "True",
            "transformer__n_jobs": "None",
            "transformer__numericals": "passthrough",
            "transformer__remainder": "drop",
            "transformer__sparse_threshold": "0.3",
            "transformer__transformer_weights": "None",
            "transformer__transformers": "[('categoricals', OneHotEncoder(handle_unknown='ignore', sparse_output=False), ['season', 'weathersit']), ('numericals', 'passthrough', ['yr', 'mnth', 'hr', 'holiday', 'weekday', 'workingday', 'temp', 'atemp', 'hum', 'windspeed', 'casual'])]",
            "transformer__verbose": "False",
            "transformer__verbose_feature_names_out": "True",
            "verbose": "False"
           },
           {
            "estimator_class": "sklearn.pipeline.Pipeline",
            "estimator_name": "Pipeline",
            "mlflow.gitRepoURL": "git@github.com:fmind/mlops-python-package",
            "mlflow.log-model.history": "[{\"run_id\": \"ac1ad3a71ca1438f930cf61cdaf4dda2\", \"artifact_path\": \"model\", \"utc_time_created\": \"2024-12-13 21:29:20.506337\", \"model_uuid\": \"c5766fb689b4467d801a544963fff164\", \"flavors\": {\"python_function\": {\"model_path\": \"model.pkl\", \"predict_fn\": \"predict\", \"loader_module\": \"mlflow.sklearn\", \"python_version\": \"3.12.7\", \"env\": {\"conda\": \"conda.yaml\", \"virtualenv\": \"python_env.yaml\"}}, \"sklearn\": {\"pickled_model\": \"model.pkl\", \"sklearn_version\": \"1.5.2\", \"serialization_format\": \"cloudpickle\", \"code\": null}}}, {\"run_id\": \"ac1ad3a71ca1438f930cf61cdaf4dda2\", \"artifact_path\": \"model\", \"utc_time_created\": \"2024-12-13 21:29:24.749297\", \"model_uuid\": \"d6869a0c970d4ed09d65cf72c604fe4b\", \"flavors\": {\"python_function\": {\"streamable\": false, \"cloudpickle_version\": \"3.1.0\", \"python_model\": \"python_model.pkl\", \"loader_module\": \"mlflow.pyfunc.model\", \"python_version\": \"3.12.7\", \"env\": {\"conda\": \"conda.yaml\", \"virtualenv\": \"python_env.yaml\"}, \"code\": null}}}]",
            "mlflow.project.backend": "local",
            "mlflow.project.entryPoint": "main",
            "mlflow.project.env": "virtualenv",
            "mlflow.runName": "Training",
            "mlflow.source.git.commit": "5e7c0b8c7b49c29802893c9821ae8546e45952b0",
            "mlflow.source.git.repoURL": "git@github.com:fmind/mlops-python-package",
            "mlflow.source.name": "file:///home/fmind/mlops-python-package",
            "mlflow.source.type": "PROJECT",
            "mlflow.user": "fmind"
           },
           "fmind",
           "file:///home/fmind/mlops-python-package",
           "PROJECT",
           "main",
           "5e7c0b8c7b49c29802893c9821ae8546e45952b0",
           "git@github.com:fmind/mlops-python-package",
           "git@github.com:fmind/mlops-python-package",
           "Training",
           "virtualenv",
           "local",
           "Pipeline",
           "sklearn.pipeline.Pipeline",
           "[{\"run_id\": \"ac1ad3a71ca1438f930cf61cdaf4dda2\", \"artifact_path\": \"model\", \"utc_time_created\": \"2024-12-13 21:29:20.506337\", \"model_uuid\": \"c5766fb689b4467d801a544963fff164\", \"flavors\": {\"python_function\": {\"model_path\": \"model.pkl\", \"predict_fn\": \"predict\", \"loader_module\": \"mlflow.sklearn\", \"python_version\": \"3.12.7\", \"env\": {\"conda\": \"conda.yaml\", \"virtualenv\": \"python_env.yaml\"}}, \"sklearn\": {\"pickled_model\": \"model.pkl\", \"sklearn_version\": \"1.5.2\", \"serialization_format\": \"cloudpickle\", \"code\": null}}}, {\"run_id\": \"ac1ad3a71ca1438f930cf61cdaf4dda2\", \"artifact_path\": \"model\", \"utc_time_created\": \"2024-12-13 21:29:24.749297\", \"model_uuid\": \"d6869a0c970d4ed09d65cf72c604fe4b\", \"flavors\": {\"python_function\": {\"streamable\": false, \"cloudpickle_version\": \"3.1.0\", \"python_model\": \"python_model.pkl\", \"loader_module\": \"mlflow.pyfunc.model\", \"python_version\": \"3.12.7\", \"env\": {\"conda\": \"conda.yaml\", \"virtualenv\": \"python_env.yaml\"}, \"code\": null}}}]",
           null,
           null
          ],
          [
           "file:///home/fmind/mlops-python-package/mlruns/451770521480793486/797710899d04491e8b9e91394c59ccd9/artifacts",
           "2024-12-12T21:15:45.193000",
           "451770521480793486",
           "active",
           "797710899d04491e8b9e91394c59ccd9",
           "Training",
           "797710899d04491e8b9e91394c59ccd9",
           "2024-12-12T21:15:16.386000",
           "FINISHED",
           "fmind",
           {
            "mean_squared_error": -1786.7527777777777,
            "system/cpu_utilization_percentage": 13.9,
            "system/disk_available_megabytes": 15157.1,
            "system/disk_usage_megabytes": 100333.4,
            "system/disk_usage_percentage": 86.9,
            "system/network_receive_megabytes": 0.014109999999999623,
            "system/network_transmit_megabytes": 0,
            "system/system_memory_usage_megabytes": 4962.9,
            "system/system_memory_usage_percentage": 32.9,
            "training_mean_absolute_error": 6.8051192198812736,
            "training_mean_squared_error": 124.51054615575788,
            "training_r2_score": 0.9948851411922456,
            "training_root_mean_squared_error": 11.158429376742852,
            "training_score": 0.9948851411922456
           },
           {
            "conf_file": "confs/training.yaml",
            "memory": "None",
            "regressor": "RandomForestRegressor(max_depth=20, n_estimators=200, random_state=42)",
            "regressor__bootstrap": "True",
            "regressor__ccp_alpha": "0.0",
            "regressor__criterion": "squared_error",
            "regressor__max_depth": "20",
            "regressor__max_features": "1.0",
            "regressor__max_leaf_nodes": "None",
            "regressor__max_samples": "None",
            "regressor__min_impurity_decrease": "0.0",
            "regressor__min_samples_leaf": "1",
            "regressor__min_samples_split": "2",
            "regressor__min_weight_fraction_leaf": "0.0",
            "regressor__monotonic_cst": "None",
            "regressor__n_estimators": "200",
            "regressor__n_jobs": "None",
            "regressor__oob_score": "False",
            "regressor__random_state": "42",
            "regressor__verbose": "0",
            "regressor__warm_start": "False",
            "steps": "[('transformer', ColumnTransformer(transformers=[('categoricals',\n                                 OneHotEncoder(handle_unknown='ignore',\n                                               sparse_output=False),\n                                 ['season', 'weathersit']),\n                                ('numericals', 'passthrough',\n                                 ['yr', 'mnth', 'hr', 'holiday', 'weekday',\n                                  'workingday', 'temp', 'atemp', 'hum',\n                                  'windspeed', 'casual'])])), ('regressor', RandomForestRegressor(max_depth=20, n_estimators=200, random_state=42))]",
            "transformer": "ColumnTransformer(transformers=[('categoricals',\n                                 OneHotEncoder(handle_unknown='ignore',\n                                               sparse_output=False),\n                                 ['season', 'weathersit']),\n                                ('numericals', 'passthrough',\n                                 ['yr', 'mnth', 'hr', 'holiday', 'weekday',\n                                  'workingday', 'temp', 'atemp', 'hum',\n                                  'windspeed', 'casual'])])",
            "transformer__categoricals": "OneHotEncoder(handle_unknown='ignore', sparse_output=False)",
            "transformer__categoricals__categories": "auto",
            "transformer__categoricals__drop": "None",
            "transformer__categoricals__dtype": "<class 'numpy.float64'>",
            "transformer__categoricals__feature_name_combiner": "concat",
            "transformer__categoricals__handle_unknown": "ignore",
            "transformer__categoricals__max_categories": "None",
            "transformer__categoricals__min_frequency": "None",
            "transformer__categoricals__sparse_output": "False",
            "transformer__force_int_remainder_cols": "True",
            "transformer__n_jobs": "None",
            "transformer__numericals": "passthrough",
            "transformer__remainder": "drop",
            "transformer__sparse_threshold": "0.3",
            "transformer__transformer_weights": "None",
            "transformer__transformers": "[('categoricals', OneHotEncoder(handle_unknown='ignore', sparse_output=False), ['season', 'weathersit']), ('numericals', 'passthrough', ['yr', 'mnth', 'hr', 'holiday', 'weekday', 'workingday', 'temp', 'atemp', 'hum', 'windspeed', 'casual'])]",
            "transformer__verbose": "False",
            "transformer__verbose_feature_names_out": "True",
            "verbose": "False"
           },
           {
            "estimator_class": "sklearn.pipeline.Pipeline",
            "estimator_name": "Pipeline",
            "mlflow.gitRepoURL": "git@github.com:fmind/mlops-python-package",
            "mlflow.log-model.history": "[{\"run_id\": \"797710899d04491e8b9e91394c59ccd9\", \"artifact_path\": \"model\", \"utc_time_created\": \"2024-12-12 21:15:29.891094\", \"model_uuid\": \"877c83b49a57483690581eac11e3117b\", \"flavors\": {\"python_function\": {\"model_path\": \"model.pkl\", \"predict_fn\": \"predict\", \"loader_module\": \"mlflow.sklearn\", \"python_version\": \"3.12.7\", \"env\": {\"conda\": \"conda.yaml\", \"virtualenv\": \"python_env.yaml\"}}, \"sklearn\": {\"pickled_model\": \"model.pkl\", \"sklearn_version\": \"1.5.2\", \"serialization_format\": \"cloudpickle\", \"code\": null}}}, {\"run_id\": \"797710899d04491e8b9e91394c59ccd9\", \"artifact_path\": \"model\", \"utc_time_created\": \"2024-12-12 21:15:34.802679\", \"model_uuid\": \"c78c06c609274cb9b0c9123b3456258a\", \"flavors\": {\"python_function\": {\"streamable\": false, \"cloudpickle_version\": \"3.1.0\", \"python_model\": \"python_model.pkl\", \"loader_module\": \"mlflow.pyfunc.model\", \"python_version\": \"3.12.7\", \"env\": {\"conda\": \"conda.yaml\", \"virtualenv\": \"python_env.yaml\"}, \"code\": null}}}]",
            "mlflow.project.backend": "local",
            "mlflow.project.entryPoint": "main",
            "mlflow.project.env": "virtualenv",
            "mlflow.runName": "Training",
            "mlflow.source.git.commit": "5e7c0b8c7b49c29802893c9821ae8546e45952b0",
            "mlflow.source.git.repoURL": "git@github.com:fmind/mlops-python-package",
            "mlflow.source.name": "file:///home/fmind/mlops-python-package",
            "mlflow.source.type": "PROJECT",
            "mlflow.user": "fmind"
           },
           "fmind",
           "file:///home/fmind/mlops-python-package",
           "PROJECT",
           "main",
           "5e7c0b8c7b49c29802893c9821ae8546e45952b0",
           "git@github.com:fmind/mlops-python-package",
           "git@github.com:fmind/mlops-python-package",
           "Training",
           "virtualenv",
           "local",
           "Pipeline",
           "sklearn.pipeline.Pipeline",
           "[{\"run_id\": \"797710899d04491e8b9e91394c59ccd9\", \"artifact_path\": \"model\", \"utc_time_created\": \"2024-12-12 21:15:29.891094\", \"model_uuid\": \"877c83b49a57483690581eac11e3117b\", \"flavors\": {\"python_function\": {\"model_path\": \"model.pkl\", \"predict_fn\": \"predict\", \"loader_module\": \"mlflow.sklearn\", \"python_version\": \"3.12.7\", \"env\": {\"conda\": \"conda.yaml\", \"virtualenv\": \"python_env.yaml\"}}, \"sklearn\": {\"pickled_model\": \"model.pkl\", \"sklearn_version\": \"1.5.2\", \"serialization_format\": \"cloudpickle\", \"code\": null}}}, {\"run_id\": \"797710899d04491e8b9e91394c59ccd9\", \"artifact_path\": \"model\", \"utc_time_created\": \"2024-12-12 21:15:34.802679\", \"model_uuid\": \"c78c06c609274cb9b0c9123b3456258a\", \"flavors\": {\"python_function\": {\"streamable\": false, \"cloudpickle_version\": \"3.1.0\", \"python_model\": \"python_model.pkl\", \"loader_module\": \"mlflow.pyfunc.model\", \"python_version\": \"3.12.7\", \"env\": {\"conda\": \"conda.yaml\", \"virtualenv\": \"python_env.yaml\"}, \"code\": null}}}]",
           null,
           null
          ]
         ],
         "fillcolor": "rgba(255,255,255,0)",
         "hoveron": "points",
         "hovertemplate": "<b>%{hovertext}</b><br><br>run_name=%{customdata[5]}<br>run_time_secs=%{x}<br>artifact_uri=%{customdata[0]}<br>end_time=%{customdata[1]}<br>experiment_id=%{customdata[2]}<br>lifecycle_stage=%{customdata[3]}<br>run_id=%{customdata[4]}<br>run_uuid=%{customdata[6]}<br>start_time=%{customdata[7]}<br>status=%{customdata[8]}<br>user_id=%{customdata[9]}<br>metrics=%{customdata[10]}<br>params=%{customdata[11]}<br>tags=%{customdata[12]}<br>mlflow.user=%{customdata[13]}<br>mlflow.source.name=%{customdata[14]}<br>mlflow.source.type=%{customdata[15]}<br>mlflow.project.entryPoint=%{customdata[16]}<br>mlflow.source.git.commit=%{customdata[17]}<br>mlflow.source.git.repoURL=%{customdata[18]}<br>mlflow.gitRepoURL=%{customdata[19]}<br>mlflow.runName=%{customdata[20]}<br>mlflow.project.env=%{customdata[21]}<br>mlflow.project.backend=%{customdata[22]}<br>estimator_name=%{customdata[23]}<br>estimator_class=%{customdata[24]}<br>mlflow.log-model.history=%{customdata[25]}<br>mlflow.autologging=%{customdata[26]}<br>mlflow.parentRunId=%{customdata[27]}<extra></extra>",
         "hovertext": [
          "ac1ad3a71ca1438f930cf61cdaf4dda2",
          "797710899d04491e8b9e91394c59ccd9"
         ],
         "legendgroup": "Training",
         "line": {
          "color": "rgba(255,255,255,0)"
         },
         "marker": {
          "color": "#FFA15A"
         },
         "name": "Training",
         "offsetgroup": "Training",
         "orientation": "h",
         "pointpos": 0,
         "showlegend": true,
         "type": "box",
         "x": [
          23.051,
          28.807
         ],
         "x0": " ",
         "xaxis": "x",
         "y0": " ",
         "yaxis": "y"
        },
        {
         "alignmentgroup": "True",
         "boxpoints": "all",
         "customdata": [
          [
           "file:///home/fmind/mlops-python-package/mlruns/451770521480793486/0dea01ed478c44e094187a66e64d6fd3/artifacts",
           "2024-12-13T21:29:06.705000",
           "451770521480793486",
           "active",
           "0dea01ed478c44e094187a66e64d6fd3",
           "Tuning",
           "0dea01ed478c44e094187a66e64d6fd3",
           "2024-12-13T21:28:20.597000",
           "FINISHED",
           "fmind",
           {
            "best_cv_score": -5517.252604166667,
            "system/cpu_utilization_percentage": 32.7,
            "system/disk_available_megabytes": 14477.4,
            "system/disk_usage_megabytes": 101031.6,
            "system/disk_usage_percentage": 87.5,
            "system/network_receive_megabytes": 1.3911820000000148,
            "system/network_transmit_megabytes": 0.5366739999999997,
            "system/system_memory_usage_megabytes": 3524.9,
            "system/system_memory_usage_percentage": 23.4,
            "training_score": -1951.0630079838884
           },
           {
            "best_max_depth": "7",
            "conf_file": "confs/tuning.yaml",
            "cv": "KIND='TimeSeriesSplitter' gap=0 n_splits=4 test_size=1440",
            "error_score": "raise",
            "estimator": "KIND='BaselineSklearnModel' max_depth=20 n_estimators=200 random_state=42",
            "n_jobs": "None",
            "param_grid": "{'max_depth': [3, 5, 7]}",
            "pre_dispatch": "2*n_jobs",
            "refit": "True",
            "return_train_score": "False",
            "scoring": "<bound method Metric.scorer of SklearnMetric(KIND='SklearnMetric', name='mean_squared_error', greater_is_better=False)>",
            "verbose": "3"
           },
           {
            "estimator_class": "sklearn.model_selection._search.GridSearchCV",
            "estimator_name": "GridSearchCV",
            "mlflow.gitRepoURL": "git@github.com:fmind/mlops-python-package",
            "mlflow.log-model.history": "[{\"run_id\": \"0dea01ed478c44e094187a66e64d6fd3\", \"artifact_path\": \"model\", \"utc_time_created\": \"2024-12-13 21:28:51.664691\", \"model_uuid\": \"9be480ca5e234af5988dc10b51520109\", \"flavors\": {\"python_function\": {\"model_path\": \"model.pkl\", \"predict_fn\": \"predict\", \"loader_module\": \"mlflow.sklearn\", \"python_version\": \"3.12.7\", \"env\": {\"conda\": \"conda.yaml\", \"virtualenv\": \"python_env.yaml\"}}, \"sklearn\": {\"pickled_model\": \"model.pkl\", \"sklearn_version\": \"1.5.2\", \"serialization_format\": \"cloudpickle\", \"code\": null}}}, {\"run_id\": \"0dea01ed478c44e094187a66e64d6fd3\", \"artifact_path\": \"best_estimator\", \"utc_time_created\": \"2024-12-13 21:29:01.248602\", \"model_uuid\": \"a30a719a7ca048b5ad5506a1e06b6b2f\", \"flavors\": {\"python_function\": {\"model_path\": \"model.pkl\", \"predict_fn\": \"predict\", \"loader_module\": \"mlflow.sklearn\", \"python_version\": \"3.12.7\", \"env\": {\"conda\": \"conda.yaml\", \"virtualenv\": \"python_env.yaml\"}}, \"sklearn\": {\"pickled_model\": \"model.pkl\", \"sklearn_version\": \"1.5.2\", \"serialization_format\": \"cloudpickle\", \"code\": null}}}]",
            "mlflow.project.backend": "local",
            "mlflow.project.entryPoint": "main",
            "mlflow.project.env": "virtualenv",
            "mlflow.runName": "Tuning",
            "mlflow.source.git.commit": "5e7c0b8c7b49c29802893c9821ae8546e45952b0",
            "mlflow.source.git.repoURL": "git@github.com:fmind/mlops-python-package",
            "mlflow.source.name": "file:///home/fmind/mlops-python-package",
            "mlflow.source.type": "PROJECT",
            "mlflow.user": "fmind"
           },
           "fmind",
           "file:///home/fmind/mlops-python-package",
           "PROJECT",
           "main",
           "5e7c0b8c7b49c29802893c9821ae8546e45952b0",
           "git@github.com:fmind/mlops-python-package",
           "git@github.com:fmind/mlops-python-package",
           "Tuning",
           "virtualenv",
           "local",
           "GridSearchCV",
           "sklearn.model_selection._search.GridSearchCV",
           "[{\"run_id\": \"0dea01ed478c44e094187a66e64d6fd3\", \"artifact_path\": \"model\", \"utc_time_created\": \"2024-12-13 21:28:51.664691\", \"model_uuid\": \"9be480ca5e234af5988dc10b51520109\", \"flavors\": {\"python_function\": {\"model_path\": \"model.pkl\", \"predict_fn\": \"predict\", \"loader_module\": \"mlflow.sklearn\", \"python_version\": \"3.12.7\", \"env\": {\"conda\": \"conda.yaml\", \"virtualenv\": \"python_env.yaml\"}}, \"sklearn\": {\"pickled_model\": \"model.pkl\", \"sklearn_version\": \"1.5.2\", \"serialization_format\": \"cloudpickle\", \"code\": null}}}, {\"run_id\": \"0dea01ed478c44e094187a66e64d6fd3\", \"artifact_path\": \"best_estimator\", \"utc_time_created\": \"2024-12-13 21:29:01.248602\", \"model_uuid\": \"a30a719a7ca048b5ad5506a1e06b6b2f\", \"flavors\": {\"python_function\": {\"model_path\": \"model.pkl\", \"predict_fn\": \"predict\", \"loader_module\": \"mlflow.sklearn\", \"python_version\": \"3.12.7\", \"env\": {\"conda\": \"conda.yaml\", \"virtualenv\": \"python_env.yaml\"}}, \"sklearn\": {\"pickled_model\": \"model.pkl\", \"sklearn_version\": \"1.5.2\", \"serialization_format\": \"cloudpickle\", \"code\": null}}}]",
           null,
           null
          ],
          [
           "file:///home/fmind/mlops-python-package/mlruns/451770521480793486/41808f5b32074c5f8dddccdaa4221684/artifacts",
           "2024-12-12T21:15:13.555000",
           "451770521480793486",
           "active",
           "41808f5b32074c5f8dddccdaa4221684",
           "Tuning",
           "41808f5b32074c5f8dddccdaa4221684",
           "2024-12-12T21:13:28.811000",
           "FINISHED",
           "fmind",
           {
            "best_cv_score": -5517.252604166667,
            "system/cpu_utilization_percentage": 13.9,
            "system/disk_available_megabytes": 15172.3,
            "system/disk_usage_megabytes": 100317.7,
            "system/disk_usage_percentage": 86.9,
            "system/network_receive_megabytes": 0.0561379999999998,
            "system/network_transmit_megabytes": 0.005031999999999925,
            "system/system_memory_usage_megabytes": 4646.3,
            "system/system_memory_usage_percentage": 30.8,
            "training_score": -1951.0630079838884
           },
           {
            "best_max_depth": "7",
            "conf_file": "confs/tuning.yaml",
            "cv": "KIND='TimeSeriesSplitter' gap=0 n_splits=4 test_size=1440",
            "error_score": "raise",
            "estimator": "KIND='BaselineSklearnModel' max_depth=20 n_estimators=200 random_state=42",
            "n_jobs": "None",
            "param_grid": "{'max_depth': [3, 5, 7]}",
            "pre_dispatch": "2*n_jobs",
            "refit": "True",
            "return_train_score": "False",
            "scoring": "<bound method Metric.scorer of SklearnMetric(KIND='SklearnMetric', name='mean_squared_error', greater_is_better=False)>",
            "verbose": "3"
           },
           {
            "estimator_class": "sklearn.model_selection._search.GridSearchCV",
            "estimator_name": "GridSearchCV",
            "mlflow.gitRepoURL": "git@github.com:fmind/mlops-python-package",
            "mlflow.log-model.history": "[{\"run_id\": \"41808f5b32074c5f8dddccdaa4221684\", \"artifact_path\": \"model\", \"utc_time_created\": \"2024-12-12 21:15:03.536059\", \"model_uuid\": \"aa1690180a414c58a2c9598fa6099393\", \"flavors\": {\"python_function\": {\"model_path\": \"model.pkl\", \"predict_fn\": \"predict\", \"loader_module\": \"mlflow.sklearn\", \"python_version\": \"3.12.7\", \"env\": {\"conda\": \"conda.yaml\", \"virtualenv\": \"python_env.yaml\"}}, \"sklearn\": {\"pickled_model\": \"model.pkl\", \"sklearn_version\": \"1.5.2\", \"serialization_format\": \"cloudpickle\", \"code\": null}}}, {\"run_id\": \"41808f5b32074c5f8dddccdaa4221684\", \"artifact_path\": \"best_estimator\", \"utc_time_created\": \"2024-12-12 21:15:08.639146\", \"model_uuid\": \"657186289da24155bbdc03abf97c540b\", \"flavors\": {\"python_function\": {\"model_path\": \"model.pkl\", \"predict_fn\": \"predict\", \"loader_module\": \"mlflow.sklearn\", \"python_version\": \"3.12.7\", \"env\": {\"conda\": \"conda.yaml\", \"virtualenv\": \"python_env.yaml\"}}, \"sklearn\": {\"pickled_model\": \"model.pkl\", \"sklearn_version\": \"1.5.2\", \"serialization_format\": \"cloudpickle\", \"code\": null}}}]",
            "mlflow.project.backend": "local",
            "mlflow.project.entryPoint": "main",
            "mlflow.project.env": "virtualenv",
            "mlflow.runName": "Tuning",
            "mlflow.source.git.commit": "5e7c0b8c7b49c29802893c9821ae8546e45952b0",
            "mlflow.source.git.repoURL": "git@github.com:fmind/mlops-python-package",
            "mlflow.source.name": "file:///home/fmind/mlops-python-package",
            "mlflow.source.type": "PROJECT",
            "mlflow.user": "fmind"
           },
           "fmind",
           "file:///home/fmind/mlops-python-package",
           "PROJECT",
           "main",
           "5e7c0b8c7b49c29802893c9821ae8546e45952b0",
           "git@github.com:fmind/mlops-python-package",
           "git@github.com:fmind/mlops-python-package",
           "Tuning",
           "virtualenv",
           "local",
           "GridSearchCV",
           "sklearn.model_selection._search.GridSearchCV",
           "[{\"run_id\": \"41808f5b32074c5f8dddccdaa4221684\", \"artifact_path\": \"model\", \"utc_time_created\": \"2024-12-12 21:15:03.536059\", \"model_uuid\": \"aa1690180a414c58a2c9598fa6099393\", \"flavors\": {\"python_function\": {\"model_path\": \"model.pkl\", \"predict_fn\": \"predict\", \"loader_module\": \"mlflow.sklearn\", \"python_version\": \"3.12.7\", \"env\": {\"conda\": \"conda.yaml\", \"virtualenv\": \"python_env.yaml\"}}, \"sklearn\": {\"pickled_model\": \"model.pkl\", \"sklearn_version\": \"1.5.2\", \"serialization_format\": \"cloudpickle\", \"code\": null}}}, {\"run_id\": \"41808f5b32074c5f8dddccdaa4221684\", \"artifact_path\": \"best_estimator\", \"utc_time_created\": \"2024-12-12 21:15:08.639146\", \"model_uuid\": \"657186289da24155bbdc03abf97c540b\", \"flavors\": {\"python_function\": {\"model_path\": \"model.pkl\", \"predict_fn\": \"predict\", \"loader_module\": \"mlflow.sklearn\", \"python_version\": \"3.12.7\", \"env\": {\"conda\": \"conda.yaml\", \"virtualenv\": \"python_env.yaml\"}}, \"sklearn\": {\"pickled_model\": \"model.pkl\", \"sklearn_version\": \"1.5.2\", \"serialization_format\": \"cloudpickle\", \"code\": null}}}]",
           null,
           null
          ],
          [
           "file:///home/fmind/mlops-python-package/mlruns/451770521480793486/b4d8d557f5d94a24b035d6e77c765857/artifacts",
           "2024-12-12T21:12:59.320000",
           "451770521480793486",
           "active",
           "b4d8d557f5d94a24b035d6e77c765857",
           "Tuning",
           "b4d8d557f5d94a24b035d6e77c765857",
           "2024-12-12T21:12:58.940000",
           "FAILED",
           "fmind",
           {},
           {
            "conf_file": "confs/tuning.yaml"
           },
           {
            "mlflow.gitRepoURL": "git@github.com:fmind/mlops-python-package",
            "mlflow.project.backend": "local",
            "mlflow.project.entryPoint": "main",
            "mlflow.project.env": "virtualenv",
            "mlflow.runName": "Tuning",
            "mlflow.source.git.commit": "5e7c0b8c7b49c29802893c9821ae8546e45952b0",
            "mlflow.source.git.repoURL": "git@github.com:fmind/mlops-python-package",
            "mlflow.source.name": "file:///home/fmind/mlops-python-package",
            "mlflow.source.type": "PROJECT",
            "mlflow.user": "fmind"
           },
           "fmind",
           "file:///home/fmind/mlops-python-package",
           "PROJECT",
           "main",
           "5e7c0b8c7b49c29802893c9821ae8546e45952b0",
           "git@github.com:fmind/mlops-python-package",
           "git@github.com:fmind/mlops-python-package",
           "Tuning",
           "virtualenv",
           "local",
           null,
           null,
           null,
           null,
           null
          ]
         ],
         "fillcolor": "rgba(255,255,255,0)",
         "hoveron": "points",
         "hovertemplate": "<b>%{hovertext}</b><br><br>run_name=%{customdata[5]}<br>run_time_secs=%{x}<br>artifact_uri=%{customdata[0]}<br>end_time=%{customdata[1]}<br>experiment_id=%{customdata[2]}<br>lifecycle_stage=%{customdata[3]}<br>run_id=%{customdata[4]}<br>run_uuid=%{customdata[6]}<br>start_time=%{customdata[7]}<br>status=%{customdata[8]}<br>user_id=%{customdata[9]}<br>metrics=%{customdata[10]}<br>params=%{customdata[11]}<br>tags=%{customdata[12]}<br>mlflow.user=%{customdata[13]}<br>mlflow.source.name=%{customdata[14]}<br>mlflow.source.type=%{customdata[15]}<br>mlflow.project.entryPoint=%{customdata[16]}<br>mlflow.source.git.commit=%{customdata[17]}<br>mlflow.source.git.repoURL=%{customdata[18]}<br>mlflow.gitRepoURL=%{customdata[19]}<br>mlflow.runName=%{customdata[20]}<br>mlflow.project.env=%{customdata[21]}<br>mlflow.project.backend=%{customdata[22]}<br>estimator_name=%{customdata[23]}<br>estimator_class=%{customdata[24]}<br>mlflow.log-model.history=%{customdata[25]}<br>mlflow.autologging=%{customdata[26]}<br>mlflow.parentRunId=%{customdata[27]}<extra></extra>",
         "hovertext": [
          "0dea01ed478c44e094187a66e64d6fd3",
          "41808f5b32074c5f8dddccdaa4221684",
          "b4d8d557f5d94a24b035d6e77c765857"
         ],
         "legendgroup": "Tuning",
         "line": {
          "color": "rgba(255,255,255,0)"
         },
         "marker": {
          "color": "#19d3f3"
         },
         "name": "Tuning",
         "offsetgroup": "Tuning",
         "orientation": "h",
         "pointpos": 0,
         "showlegend": true,
         "type": "box",
         "x": [
          46.108,
          104.744,
          0.38
         ],
         "x0": " ",
         "xaxis": "x",
         "y0": " ",
         "yaxis": "y"
        },
        {
         "alignmentgroup": "True",
         "boxpoints": "all",
         "customdata": [
          [
           "file:///home/fmind/mlops-python-package/mlruns/451770521480793486/79124d00e3154ce99b08d7c7ea1cbbe6/artifacts",
           "2024-12-13T21:29:06.057000",
           "451770521480793486",
           "active",
           "79124d00e3154ce99b08d7c7ea1cbbe6",
           "grandiose-ape-36",
           "79124d00e3154ce99b08d7c7ea1cbbe6",
           "2024-12-13T21:28:20.597000",
           "FINISHED",
           "fmind",
           {
            "mean_fit_time": 2.5753661394119263,
            "mean_score_time": 0.055255353450775146,
            "mean_test_score": -5517.252604166667,
            "rank_test_score": 1,
            "std_fit_time": 0.6625575564971679,
            "std_score_time": 0.01109660600750438,
            "std_test_score": 1613.520146542553
           },
           {
            "max_depth": "7",
            "n_estimators": "200",
            "random_state": "42"
           },
           {
            "estimator_class": "bikes.core.models.BaselineSklearnModel",
            "estimator_name": "BaselineSklearnModel",
            "mlflow.autologging": "sklearn",
            "mlflow.parentRunId": "0dea01ed478c44e094187a66e64d6fd3",
            "mlflow.runName": "grandiose-ape-36",
            "mlflow.source.git.commit": "5e7c0b8c7b49c29802893c9821ae8546e45952b0",
            "mlflow.source.name": "/home/fmind/mlops-python-package/src/bikes/__main__.py",
            "mlflow.source.type": "LOCAL",
            "mlflow.user": "fmind"
           },
           "fmind",
           "/home/fmind/mlops-python-package/src/bikes/__main__.py",
           "LOCAL",
           null,
           "5e7c0b8c7b49c29802893c9821ae8546e45952b0",
           null,
           null,
           "grandiose-ape-36",
           null,
           null,
           "BaselineSklearnModel",
           "bikes.core.models.BaselineSklearnModel",
           null,
           "sklearn",
           "0dea01ed478c44e094187a66e64d6fd3"
          ]
         ],
         "fillcolor": "rgba(255,255,255,0)",
         "hoveron": "points",
         "hovertemplate": "<b>%{hovertext}</b><br><br>run_name=%{customdata[5]}<br>run_time_secs=%{x}<br>artifact_uri=%{customdata[0]}<br>end_time=%{customdata[1]}<br>experiment_id=%{customdata[2]}<br>lifecycle_stage=%{customdata[3]}<br>run_id=%{customdata[4]}<br>run_uuid=%{customdata[6]}<br>start_time=%{customdata[7]}<br>status=%{customdata[8]}<br>user_id=%{customdata[9]}<br>metrics=%{customdata[10]}<br>params=%{customdata[11]}<br>tags=%{customdata[12]}<br>mlflow.user=%{customdata[13]}<br>mlflow.source.name=%{customdata[14]}<br>mlflow.source.type=%{customdata[15]}<br>mlflow.project.entryPoint=%{customdata[16]}<br>mlflow.source.git.commit=%{customdata[17]}<br>mlflow.source.git.repoURL=%{customdata[18]}<br>mlflow.gitRepoURL=%{customdata[19]}<br>mlflow.runName=%{customdata[20]}<br>mlflow.project.env=%{customdata[21]}<br>mlflow.project.backend=%{customdata[22]}<br>estimator_name=%{customdata[23]}<br>estimator_class=%{customdata[24]}<br>mlflow.log-model.history=%{customdata[25]}<br>mlflow.autologging=%{customdata[26]}<br>mlflow.parentRunId=%{customdata[27]}<extra></extra>",
         "hovertext": [
          "79124d00e3154ce99b08d7c7ea1cbbe6"
         ],
         "legendgroup": "grandiose-ape-36",
         "line": {
          "color": "rgba(255,255,255,0)"
         },
         "marker": {
          "color": "#FF6692"
         },
         "name": "grandiose-ape-36",
         "offsetgroup": "grandiose-ape-36",
         "orientation": "h",
         "pointpos": 0,
         "showlegend": true,
         "type": "box",
         "x": [
          45.46
         ],
         "x0": " ",
         "xaxis": "x",
         "y0": " ",
         "yaxis": "y"
        },
        {
         "alignmentgroup": "True",
         "boxpoints": "all",
         "customdata": [
          [
           "file:///home/fmind/mlops-python-package/mlruns/451770521480793486/9140f254fae3497a9ddaf25d4c037e17/artifacts",
           "2024-12-13T21:29:06.057000",
           "451770521480793486",
           "active",
           "9140f254fae3497a9ddaf25d4c037e17",
           "skillful-trout-792",
           "9140f254fae3497a9ddaf25d4c037e17",
           "2024-12-13T21:28:20.597000",
           "FINISHED",
           "fmind",
           {
            "mean_fit_time": 1.020466387271881,
            "mean_score_time": 0.03910714387893677,
            "mean_test_score": -16644.957118055558,
            "rank_test_score": 3,
            "std_fit_time": 0.16778432404695146,
            "std_score_time": 0.00713338602919564,
            "std_test_score": 5315.459715152708
           },
           {
            "max_depth": "3",
            "n_estimators": "200",
            "random_state": "42"
           },
           {
            "estimator_class": "bikes.core.models.BaselineSklearnModel",
            "estimator_name": "BaselineSklearnModel",
            "mlflow.autologging": "sklearn",
            "mlflow.parentRunId": "0dea01ed478c44e094187a66e64d6fd3",
            "mlflow.runName": "skillful-trout-792",
            "mlflow.source.git.commit": "5e7c0b8c7b49c29802893c9821ae8546e45952b0",
            "mlflow.source.name": "/home/fmind/mlops-python-package/src/bikes/__main__.py",
            "mlflow.source.type": "LOCAL",
            "mlflow.user": "fmind"
           },
           "fmind",
           "/home/fmind/mlops-python-package/src/bikes/__main__.py",
           "LOCAL",
           null,
           "5e7c0b8c7b49c29802893c9821ae8546e45952b0",
           null,
           null,
           "skillful-trout-792",
           null,
           null,
           "BaselineSklearnModel",
           "bikes.core.models.BaselineSklearnModel",
           null,
           "sklearn",
           "0dea01ed478c44e094187a66e64d6fd3"
          ]
         ],
         "fillcolor": "rgba(255,255,255,0)",
         "hoveron": "points",
         "hovertemplate": "<b>%{hovertext}</b><br><br>run_name=%{customdata[5]}<br>run_time_secs=%{x}<br>artifact_uri=%{customdata[0]}<br>end_time=%{customdata[1]}<br>experiment_id=%{customdata[2]}<br>lifecycle_stage=%{customdata[3]}<br>run_id=%{customdata[4]}<br>run_uuid=%{customdata[6]}<br>start_time=%{customdata[7]}<br>status=%{customdata[8]}<br>user_id=%{customdata[9]}<br>metrics=%{customdata[10]}<br>params=%{customdata[11]}<br>tags=%{customdata[12]}<br>mlflow.user=%{customdata[13]}<br>mlflow.source.name=%{customdata[14]}<br>mlflow.source.type=%{customdata[15]}<br>mlflow.project.entryPoint=%{customdata[16]}<br>mlflow.source.git.commit=%{customdata[17]}<br>mlflow.source.git.repoURL=%{customdata[18]}<br>mlflow.gitRepoURL=%{customdata[19]}<br>mlflow.runName=%{customdata[20]}<br>mlflow.project.env=%{customdata[21]}<br>mlflow.project.backend=%{customdata[22]}<br>estimator_name=%{customdata[23]}<br>estimator_class=%{customdata[24]}<br>mlflow.log-model.history=%{customdata[25]}<br>mlflow.autologging=%{customdata[26]}<br>mlflow.parentRunId=%{customdata[27]}<extra></extra>",
         "hovertext": [
          "9140f254fae3497a9ddaf25d4c037e17"
         ],
         "legendgroup": "skillful-trout-792",
         "line": {
          "color": "rgba(255,255,255,0)"
         },
         "marker": {
          "color": "#B6E880"
         },
         "name": "skillful-trout-792",
         "offsetgroup": "skillful-trout-792",
         "orientation": "h",
         "pointpos": 0,
         "showlegend": true,
         "type": "box",
         "x": [
          45.46
         ],
         "x0": " ",
         "xaxis": "x",
         "y0": " ",
         "yaxis": "y"
        },
        {
         "alignmentgroup": "True",
         "boxpoints": "all",
         "customdata": [
          [
           "file:///home/fmind/mlops-python-package/mlruns/451770521480793486/ac382f5f1fb84516bbcd6c5183890987/artifacts",
           "2024-12-13T21:29:06.057000",
           "451770521480793486",
           "active",
           "ac382f5f1fb84516bbcd6c5183890987",
           "adorable-crane-156",
           "ac382f5f1fb84516bbcd6c5183890987",
           "2024-12-13T21:28:20.597000",
           "FINISHED",
           "fmind",
           {
            "mean_fit_time": 1.9187955260276794,
            "mean_score_time": 0.0433354377746582,
            "mean_test_score": -8287.860416666666,
            "rank_test_score": 2,
            "std_fit_time": 0.34773834085305333,
            "std_score_time": 0.006716265683045477,
            "std_test_score": 1045.7595024691313
           },
           {
            "max_depth": "5",
            "n_estimators": "200",
            "random_state": "42"
           },
           {
            "estimator_class": "bikes.core.models.BaselineSklearnModel",
            "estimator_name": "BaselineSklearnModel",
            "mlflow.autologging": "sklearn",
            "mlflow.parentRunId": "0dea01ed478c44e094187a66e64d6fd3",
            "mlflow.runName": "adorable-crane-156",
            "mlflow.source.git.commit": "5e7c0b8c7b49c29802893c9821ae8546e45952b0",
            "mlflow.source.name": "/home/fmind/mlops-python-package/src/bikes/__main__.py",
            "mlflow.source.type": "LOCAL",
            "mlflow.user": "fmind"
           },
           "fmind",
           "/home/fmind/mlops-python-package/src/bikes/__main__.py",
           "LOCAL",
           null,
           "5e7c0b8c7b49c29802893c9821ae8546e45952b0",
           null,
           null,
           "adorable-crane-156",
           null,
           null,
           "BaselineSklearnModel",
           "bikes.core.models.BaselineSklearnModel",
           null,
           "sklearn",
           "0dea01ed478c44e094187a66e64d6fd3"
          ]
         ],
         "fillcolor": "rgba(255,255,255,0)",
         "hoveron": "points",
         "hovertemplate": "<b>%{hovertext}</b><br><br>run_name=%{customdata[5]}<br>run_time_secs=%{x}<br>artifact_uri=%{customdata[0]}<br>end_time=%{customdata[1]}<br>experiment_id=%{customdata[2]}<br>lifecycle_stage=%{customdata[3]}<br>run_id=%{customdata[4]}<br>run_uuid=%{customdata[6]}<br>start_time=%{customdata[7]}<br>status=%{customdata[8]}<br>user_id=%{customdata[9]}<br>metrics=%{customdata[10]}<br>params=%{customdata[11]}<br>tags=%{customdata[12]}<br>mlflow.user=%{customdata[13]}<br>mlflow.source.name=%{customdata[14]}<br>mlflow.source.type=%{customdata[15]}<br>mlflow.project.entryPoint=%{customdata[16]}<br>mlflow.source.git.commit=%{customdata[17]}<br>mlflow.source.git.repoURL=%{customdata[18]}<br>mlflow.gitRepoURL=%{customdata[19]}<br>mlflow.runName=%{customdata[20]}<br>mlflow.project.env=%{customdata[21]}<br>mlflow.project.backend=%{customdata[22]}<br>estimator_name=%{customdata[23]}<br>estimator_class=%{customdata[24]}<br>mlflow.log-model.history=%{customdata[25]}<br>mlflow.autologging=%{customdata[26]}<br>mlflow.parentRunId=%{customdata[27]}<extra></extra>",
         "hovertext": [
          "ac382f5f1fb84516bbcd6c5183890987"
         ],
         "legendgroup": "adorable-crane-156",
         "line": {
          "color": "rgba(255,255,255,0)"
         },
         "marker": {
          "color": "#FF97FF"
         },
         "name": "adorable-crane-156",
         "offsetgroup": "adorable-crane-156",
         "orientation": "h",
         "pointpos": 0,
         "showlegend": true,
         "type": "box",
         "x": [
          45.46
         ],
         "x0": " ",
         "xaxis": "x",
         "y0": " ",
         "yaxis": "y"
        },
        {
         "alignmentgroup": "True",
         "boxpoints": "all",
         "customdata": [
          [
           "file:///home/fmind/mlops-python-package/mlruns/451770521480793486/1c4c425e915346fcbe97f728f378100d/artifacts",
           "2024-12-12T21:15:12.635000",
           "451770521480793486",
           "active",
           "1c4c425e915346fcbe97f728f378100d",
           "bedecked-snake-279",
           "1c4c425e915346fcbe97f728f378100d",
           "2024-12-12T21:13:28.811000",
           "FINISHED",
           "fmind",
           {
            "mean_fit_time": 2.3949788212776184,
            "mean_score_time": 0.04650747776031494,
            "mean_test_score": -5517.252604166667,
            "rank_test_score": 1,
            "std_fit_time": 0.3323838231985541,
            "std_score_time": 0.0013898028864495558,
            "std_test_score": 1613.520146542553
           },
           {
            "max_depth": "7",
            "n_estimators": "200",
            "random_state": "42"
           },
           {
            "estimator_class": "bikes.core.models.BaselineSklearnModel",
            "estimator_name": "BaselineSklearnModel",
            "mlflow.autologging": "sklearn",
            "mlflow.parentRunId": "41808f5b32074c5f8dddccdaa4221684",
            "mlflow.runName": "bedecked-snake-279",
            "mlflow.source.git.commit": "5e7c0b8c7b49c29802893c9821ae8546e45952b0",
            "mlflow.source.name": "/home/fmind/mlops-python-package/src/bikes/__main__.py",
            "mlflow.source.type": "LOCAL",
            "mlflow.user": "fmind"
           },
           "fmind",
           "/home/fmind/mlops-python-package/src/bikes/__main__.py",
           "LOCAL",
           null,
           "5e7c0b8c7b49c29802893c9821ae8546e45952b0",
           null,
           null,
           "bedecked-snake-279",
           null,
           null,
           "BaselineSklearnModel",
           "bikes.core.models.BaselineSklearnModel",
           null,
           "sklearn",
           "41808f5b32074c5f8dddccdaa4221684"
          ]
         ],
         "fillcolor": "rgba(255,255,255,0)",
         "hoveron": "points",
         "hovertemplate": "<b>%{hovertext}</b><br><br>run_name=%{customdata[5]}<br>run_time_secs=%{x}<br>artifact_uri=%{customdata[0]}<br>end_time=%{customdata[1]}<br>experiment_id=%{customdata[2]}<br>lifecycle_stage=%{customdata[3]}<br>run_id=%{customdata[4]}<br>run_uuid=%{customdata[6]}<br>start_time=%{customdata[7]}<br>status=%{customdata[8]}<br>user_id=%{customdata[9]}<br>metrics=%{customdata[10]}<br>params=%{customdata[11]}<br>tags=%{customdata[12]}<br>mlflow.user=%{customdata[13]}<br>mlflow.source.name=%{customdata[14]}<br>mlflow.source.type=%{customdata[15]}<br>mlflow.project.entryPoint=%{customdata[16]}<br>mlflow.source.git.commit=%{customdata[17]}<br>mlflow.source.git.repoURL=%{customdata[18]}<br>mlflow.gitRepoURL=%{customdata[19]}<br>mlflow.runName=%{customdata[20]}<br>mlflow.project.env=%{customdata[21]}<br>mlflow.project.backend=%{customdata[22]}<br>estimator_name=%{customdata[23]}<br>estimator_class=%{customdata[24]}<br>mlflow.log-model.history=%{customdata[25]}<br>mlflow.autologging=%{customdata[26]}<br>mlflow.parentRunId=%{customdata[27]}<extra></extra>",
         "hovertext": [
          "1c4c425e915346fcbe97f728f378100d"
         ],
         "legendgroup": "bedecked-snake-279",
         "line": {
          "color": "rgba(255,255,255,0)"
         },
         "marker": {
          "color": "#FECB52"
         },
         "name": "bedecked-snake-279",
         "offsetgroup": "bedecked-snake-279",
         "orientation": "h",
         "pointpos": 0,
         "showlegend": true,
         "type": "box",
         "x": [
          103.824
         ],
         "x0": " ",
         "xaxis": "x",
         "y0": " ",
         "yaxis": "y"
        },
        {
         "alignmentgroup": "True",
         "boxpoints": "all",
         "customdata": [
          [
           "file:///home/fmind/mlops-python-package/mlruns/451770521480793486/a15819213ad34dd9a6ed09d23d7f1f50/artifacts",
           "2024-12-12T21:15:12.635000",
           "451770521480793486",
           "active",
           "a15819213ad34dd9a6ed09d23d7f1f50",
           "colorful-mule-167",
           "a15819213ad34dd9a6ed09d23d7f1f50",
           "2024-12-12T21:13:28.811000",
           "FINISHED",
           "fmind",
           {
            "mean_fit_time": 1.118449330329895,
            "mean_score_time": 0.03912538290023804,
            "mean_test_score": -16644.957118055558,
            "rank_test_score": 3,
            "std_fit_time": 0.15970737568385646,
            "std_score_time": 0.0012380048739150742,
            "std_test_score": 5315.459715152708
           },
           {
            "max_depth": "3",
            "n_estimators": "200",
            "random_state": "42"
           },
           {
            "estimator_class": "bikes.core.models.BaselineSklearnModel",
            "estimator_name": "BaselineSklearnModel",
            "mlflow.autologging": "sklearn",
            "mlflow.parentRunId": "41808f5b32074c5f8dddccdaa4221684",
            "mlflow.runName": "colorful-mule-167",
            "mlflow.source.git.commit": "5e7c0b8c7b49c29802893c9821ae8546e45952b0",
            "mlflow.source.name": "/home/fmind/mlops-python-package/src/bikes/__main__.py",
            "mlflow.source.type": "LOCAL",
            "mlflow.user": "fmind"
           },
           "fmind",
           "/home/fmind/mlops-python-package/src/bikes/__main__.py",
           "LOCAL",
           null,
           "5e7c0b8c7b49c29802893c9821ae8546e45952b0",
           null,
           null,
           "colorful-mule-167",
           null,
           null,
           "BaselineSklearnModel",
           "bikes.core.models.BaselineSklearnModel",
           null,
           "sklearn",
           "41808f5b32074c5f8dddccdaa4221684"
          ]
         ],
         "fillcolor": "rgba(255,255,255,0)",
         "hoveron": "points",
         "hovertemplate": "<b>%{hovertext}</b><br><br>run_name=%{customdata[5]}<br>run_time_secs=%{x}<br>artifact_uri=%{customdata[0]}<br>end_time=%{customdata[1]}<br>experiment_id=%{customdata[2]}<br>lifecycle_stage=%{customdata[3]}<br>run_id=%{customdata[4]}<br>run_uuid=%{customdata[6]}<br>start_time=%{customdata[7]}<br>status=%{customdata[8]}<br>user_id=%{customdata[9]}<br>metrics=%{customdata[10]}<br>params=%{customdata[11]}<br>tags=%{customdata[12]}<br>mlflow.user=%{customdata[13]}<br>mlflow.source.name=%{customdata[14]}<br>mlflow.source.type=%{customdata[15]}<br>mlflow.project.entryPoint=%{customdata[16]}<br>mlflow.source.git.commit=%{customdata[17]}<br>mlflow.source.git.repoURL=%{customdata[18]}<br>mlflow.gitRepoURL=%{customdata[19]}<br>mlflow.runName=%{customdata[20]}<br>mlflow.project.env=%{customdata[21]}<br>mlflow.project.backend=%{customdata[22]}<br>estimator_name=%{customdata[23]}<br>estimator_class=%{customdata[24]}<br>mlflow.log-model.history=%{customdata[25]}<br>mlflow.autologging=%{customdata[26]}<br>mlflow.parentRunId=%{customdata[27]}<extra></extra>",
         "hovertext": [
          "a15819213ad34dd9a6ed09d23d7f1f50"
         ],
         "legendgroup": "colorful-mule-167",
         "line": {
          "color": "rgba(255,255,255,0)"
         },
         "marker": {
          "color": "#636efa"
         },
         "name": "colorful-mule-167",
         "offsetgroup": "colorful-mule-167",
         "orientation": "h",
         "pointpos": 0,
         "showlegend": true,
         "type": "box",
         "x": [
          103.824
         ],
         "x0": " ",
         "xaxis": "x",
         "y0": " ",
         "yaxis": "y"
        },
        {
         "alignmentgroup": "True",
         "boxpoints": "all",
         "customdata": [
          [
           "file:///home/fmind/mlops-python-package/mlruns/451770521480793486/cbc1f6a92cdf4a6fb03f60d8cd9fc6e5/artifacts",
           "2024-12-12T21:15:12.635000",
           "451770521480793486",
           "active",
           "cbc1f6a92cdf4a6fb03f60d8cd9fc6e5",
           "righteous-grub-422",
           "cbc1f6a92cdf4a6fb03f60d8cd9fc6e5",
           "2024-12-12T21:13:28.811000",
           "FINISHED",
           "fmind",
           {
            "mean_fit_time": 1.7803198099136353,
            "mean_score_time": 0.04240947961807251,
            "mean_test_score": -8287.860416666666,
            "rank_test_score": 2,
            "std_fit_time": 0.2563473143454279,
            "std_score_time": 0.0014697793935521128,
            "std_test_score": 1045.7595024691313
           },
           {
            "max_depth": "5",
            "n_estimators": "200",
            "random_state": "42"
           },
           {
            "estimator_class": "bikes.core.models.BaselineSklearnModel",
            "estimator_name": "BaselineSklearnModel",
            "mlflow.autologging": "sklearn",
            "mlflow.parentRunId": "41808f5b32074c5f8dddccdaa4221684",
            "mlflow.runName": "righteous-grub-422",
            "mlflow.source.git.commit": "5e7c0b8c7b49c29802893c9821ae8546e45952b0",
            "mlflow.source.name": "/home/fmind/mlops-python-package/src/bikes/__main__.py",
            "mlflow.source.type": "LOCAL",
            "mlflow.user": "fmind"
           },
           "fmind",
           "/home/fmind/mlops-python-package/src/bikes/__main__.py",
           "LOCAL",
           null,
           "5e7c0b8c7b49c29802893c9821ae8546e45952b0",
           null,
           null,
           "righteous-grub-422",
           null,
           null,
           "BaselineSklearnModel",
           "bikes.core.models.BaselineSklearnModel",
           null,
           "sklearn",
           "41808f5b32074c5f8dddccdaa4221684"
          ]
         ],
         "fillcolor": "rgba(255,255,255,0)",
         "hoveron": "points",
         "hovertemplate": "<b>%{hovertext}</b><br><br>run_name=%{customdata[5]}<br>run_time_secs=%{x}<br>artifact_uri=%{customdata[0]}<br>end_time=%{customdata[1]}<br>experiment_id=%{customdata[2]}<br>lifecycle_stage=%{customdata[3]}<br>run_id=%{customdata[4]}<br>run_uuid=%{customdata[6]}<br>start_time=%{customdata[7]}<br>status=%{customdata[8]}<br>user_id=%{customdata[9]}<br>metrics=%{customdata[10]}<br>params=%{customdata[11]}<br>tags=%{customdata[12]}<br>mlflow.user=%{customdata[13]}<br>mlflow.source.name=%{customdata[14]}<br>mlflow.source.type=%{customdata[15]}<br>mlflow.project.entryPoint=%{customdata[16]}<br>mlflow.source.git.commit=%{customdata[17]}<br>mlflow.source.git.repoURL=%{customdata[18]}<br>mlflow.gitRepoURL=%{customdata[19]}<br>mlflow.runName=%{customdata[20]}<br>mlflow.project.env=%{customdata[21]}<br>mlflow.project.backend=%{customdata[22]}<br>estimator_name=%{customdata[23]}<br>estimator_class=%{customdata[24]}<br>mlflow.log-model.history=%{customdata[25]}<br>mlflow.autologging=%{customdata[26]}<br>mlflow.parentRunId=%{customdata[27]}<extra></extra>",
         "hovertext": [
          "cbc1f6a92cdf4a6fb03f60d8cd9fc6e5"
         ],
         "legendgroup": "righteous-grub-422",
         "line": {
          "color": "rgba(255,255,255,0)"
         },
         "marker": {
          "color": "#EF553B"
         },
         "name": "righteous-grub-422",
         "offsetgroup": "righteous-grub-422",
         "orientation": "h",
         "pointpos": 0,
         "showlegend": true,
         "type": "box",
         "x": [
          103.824
         ],
         "x0": " ",
         "xaxis": "x",
         "y0": " ",
         "yaxis": "y"
        }
       ],
       "layout": {
        "boxmode": "group",
        "legend": {
         "title": {
          "text": "run_name"
         },
         "tracegroupgap": 0
        },
        "template": {
         "data": {
          "bar": [
           {
            "error_x": {
             "color": "#2a3f5f"
            },
            "error_y": {
             "color": "#2a3f5f"
            },
            "marker": {
             "line": {
              "color": "#E5ECF6",
              "width": 0.5
             },
             "pattern": {
              "fillmode": "overlay",
              "size": 10,
              "solidity": 0.2
             }
            },
            "type": "bar"
           }
          ],
          "barpolar": [
           {
            "marker": {
             "line": {
              "color": "#E5ECF6",
              "width": 0.5
             },
             "pattern": {
              "fillmode": "overlay",
              "size": 10,
              "solidity": 0.2
             }
            },
            "type": "barpolar"
           }
          ],
          "carpet": [
           {
            "aaxis": {
             "endlinecolor": "#2a3f5f",
             "gridcolor": "white",
             "linecolor": "white",
             "minorgridcolor": "white",
             "startlinecolor": "#2a3f5f"
            },
            "baxis": {
             "endlinecolor": "#2a3f5f",
             "gridcolor": "white",
             "linecolor": "white",
             "minorgridcolor": "white",
             "startlinecolor": "#2a3f5f"
            },
            "type": "carpet"
           }
          ],
          "choropleth": [
           {
            "colorbar": {
             "outlinewidth": 0,
             "ticks": ""
            },
            "type": "choropleth"
           }
          ],
          "contour": [
           {
            "colorbar": {
             "outlinewidth": 0,
             "ticks": ""
            },
            "colorscale": [
             [
              0,
              "#0d0887"
             ],
             [
              0.1111111111111111,
              "#46039f"
             ],
             [
              0.2222222222222222,
              "#7201a8"
             ],
             [
              0.3333333333333333,
              "#9c179e"
             ],
             [
              0.4444444444444444,
              "#bd3786"
             ],
             [
              0.5555555555555556,
              "#d8576b"
             ],
             [
              0.6666666666666666,
              "#ed7953"
             ],
             [
              0.7777777777777778,
              "#fb9f3a"
             ],
             [
              0.8888888888888888,
              "#fdca26"
             ],
             [
              1,
              "#f0f921"
             ]
            ],
            "type": "contour"
           }
          ],
          "contourcarpet": [
           {
            "colorbar": {
             "outlinewidth": 0,
             "ticks": ""
            },
            "type": "contourcarpet"
           }
          ],
          "heatmap": [
           {
            "colorbar": {
             "outlinewidth": 0,
             "ticks": ""
            },
            "colorscale": [
             [
              0,
              "#0d0887"
             ],
             [
              0.1111111111111111,
              "#46039f"
             ],
             [
              0.2222222222222222,
              "#7201a8"
             ],
             [
              0.3333333333333333,
              "#9c179e"
             ],
             [
              0.4444444444444444,
              "#bd3786"
             ],
             [
              0.5555555555555556,
              "#d8576b"
             ],
             [
              0.6666666666666666,
              "#ed7953"
             ],
             [
              0.7777777777777778,
              "#fb9f3a"
             ],
             [
              0.8888888888888888,
              "#fdca26"
             ],
             [
              1,
              "#f0f921"
             ]
            ],
            "type": "heatmap"
           }
          ],
          "heatmapgl": [
           {
            "colorbar": {
             "outlinewidth": 0,
             "ticks": ""
            },
            "colorscale": [
             [
              0,
              "#0d0887"
             ],
             [
              0.1111111111111111,
              "#46039f"
             ],
             [
              0.2222222222222222,
              "#7201a8"
             ],
             [
              0.3333333333333333,
              "#9c179e"
             ],
             [
              0.4444444444444444,
              "#bd3786"
             ],
             [
              0.5555555555555556,
              "#d8576b"
             ],
             [
              0.6666666666666666,
              "#ed7953"
             ],
             [
              0.7777777777777778,
              "#fb9f3a"
             ],
             [
              0.8888888888888888,
              "#fdca26"
             ],
             [
              1,
              "#f0f921"
             ]
            ],
            "type": "heatmapgl"
           }
          ],
          "histogram": [
           {
            "marker": {
             "pattern": {
              "fillmode": "overlay",
              "size": 10,
              "solidity": 0.2
             }
            },
            "type": "histogram"
           }
          ],
          "histogram2d": [
           {
            "colorbar": {
             "outlinewidth": 0,
             "ticks": ""
            },
            "colorscale": [
             [
              0,
              "#0d0887"
             ],
             [
              0.1111111111111111,
              "#46039f"
             ],
             [
              0.2222222222222222,
              "#7201a8"
             ],
             [
              0.3333333333333333,
              "#9c179e"
             ],
             [
              0.4444444444444444,
              "#bd3786"
             ],
             [
              0.5555555555555556,
              "#d8576b"
             ],
             [
              0.6666666666666666,
              "#ed7953"
             ],
             [
              0.7777777777777778,
              "#fb9f3a"
             ],
             [
              0.8888888888888888,
              "#fdca26"
             ],
             [
              1,
              "#f0f921"
             ]
            ],
            "type": "histogram2d"
           }
          ],
          "histogram2dcontour": [
           {
            "colorbar": {
             "outlinewidth": 0,
             "ticks": ""
            },
            "colorscale": [
             [
              0,
              "#0d0887"
             ],
             [
              0.1111111111111111,
              "#46039f"
             ],
             [
              0.2222222222222222,
              "#7201a8"
             ],
             [
              0.3333333333333333,
              "#9c179e"
             ],
             [
              0.4444444444444444,
              "#bd3786"
             ],
             [
              0.5555555555555556,
              "#d8576b"
             ],
             [
              0.6666666666666666,
              "#ed7953"
             ],
             [
              0.7777777777777778,
              "#fb9f3a"
             ],
             [
              0.8888888888888888,
              "#fdca26"
             ],
             [
              1,
              "#f0f921"
             ]
            ],
            "type": "histogram2dcontour"
           }
          ],
          "mesh3d": [
           {
            "colorbar": {
             "outlinewidth": 0,
             "ticks": ""
            },
            "type": "mesh3d"
           }
          ],
          "parcoords": [
           {
            "line": {
             "colorbar": {
              "outlinewidth": 0,
              "ticks": ""
             }
            },
            "type": "parcoords"
           }
          ],
          "pie": [
           {
            "automargin": true,
            "type": "pie"
           }
          ],
          "scatter": [
           {
            "fillpattern": {
             "fillmode": "overlay",
             "size": 10,
             "solidity": 0.2
            },
            "type": "scatter"
           }
          ],
          "scatter3d": [
           {
            "line": {
             "colorbar": {
              "outlinewidth": 0,
              "ticks": ""
             }
            },
            "marker": {
             "colorbar": {
              "outlinewidth": 0,
              "ticks": ""
             }
            },
            "type": "scatter3d"
           }
          ],
          "scattercarpet": [
           {
            "marker": {
             "colorbar": {
              "outlinewidth": 0,
              "ticks": ""
             }
            },
            "type": "scattercarpet"
           }
          ],
          "scattergeo": [
           {
            "marker": {
             "colorbar": {
              "outlinewidth": 0,
              "ticks": ""
             }
            },
            "type": "scattergeo"
           }
          ],
          "scattergl": [
           {
            "marker": {
             "colorbar": {
              "outlinewidth": 0,
              "ticks": ""
             }
            },
            "type": "scattergl"
           }
          ],
          "scattermapbox": [
           {
            "marker": {
             "colorbar": {
              "outlinewidth": 0,
              "ticks": ""
             }
            },
            "type": "scattermapbox"
           }
          ],
          "scatterpolar": [
           {
            "marker": {
             "colorbar": {
              "outlinewidth": 0,
              "ticks": ""
             }
            },
            "type": "scatterpolar"
           }
          ],
          "scatterpolargl": [
           {
            "marker": {
             "colorbar": {
              "outlinewidth": 0,
              "ticks": ""
             }
            },
            "type": "scatterpolargl"
           }
          ],
          "scatterternary": [
           {
            "marker": {
             "colorbar": {
              "outlinewidth": 0,
              "ticks": ""
             }
            },
            "type": "scatterternary"
           }
          ],
          "surface": [
           {
            "colorbar": {
             "outlinewidth": 0,
             "ticks": ""
            },
            "colorscale": [
             [
              0,
              "#0d0887"
             ],
             [
              0.1111111111111111,
              "#46039f"
             ],
             [
              0.2222222222222222,
              "#7201a8"
             ],
             [
              0.3333333333333333,
              "#9c179e"
             ],
             [
              0.4444444444444444,
              "#bd3786"
             ],
             [
              0.5555555555555556,
              "#d8576b"
             ],
             [
              0.6666666666666666,
              "#ed7953"
             ],
             [
              0.7777777777777778,
              "#fb9f3a"
             ],
             [
              0.8888888888888888,
              "#fdca26"
             ],
             [
              1,
              "#f0f921"
             ]
            ],
            "type": "surface"
           }
          ],
          "table": [
           {
            "cells": {
             "fill": {
              "color": "#EBF0F8"
             },
             "line": {
              "color": "white"
             }
            },
            "header": {
             "fill": {
              "color": "#C8D4E3"
             },
             "line": {
              "color": "white"
             }
            },
            "type": "table"
           }
          ]
         },
         "layout": {
          "annotationdefaults": {
           "arrowcolor": "#2a3f5f",
           "arrowhead": 0,
           "arrowwidth": 1
          },
          "autotypenumbers": "strict",
          "coloraxis": {
           "colorbar": {
            "outlinewidth": 0,
            "ticks": ""
           }
          },
          "colorscale": {
           "diverging": [
            [
             0,
             "#8e0152"
            ],
            [
             0.1,
             "#c51b7d"
            ],
            [
             0.2,
             "#de77ae"
            ],
            [
             0.3,
             "#f1b6da"
            ],
            [
             0.4,
             "#fde0ef"
            ],
            [
             0.5,
             "#f7f7f7"
            ],
            [
             0.6,
             "#e6f5d0"
            ],
            [
             0.7,
             "#b8e186"
            ],
            [
             0.8,
             "#7fbc41"
            ],
            [
             0.9,
             "#4d9221"
            ],
            [
             1,
             "#276419"
            ]
           ],
           "sequential": [
            [
             0,
             "#0d0887"
            ],
            [
             0.1111111111111111,
             "#46039f"
            ],
            [
             0.2222222222222222,
             "#7201a8"
            ],
            [
             0.3333333333333333,
             "#9c179e"
            ],
            [
             0.4444444444444444,
             "#bd3786"
            ],
            [
             0.5555555555555556,
             "#d8576b"
            ],
            [
             0.6666666666666666,
             "#ed7953"
            ],
            [
             0.7777777777777778,
             "#fb9f3a"
            ],
            [
             0.8888888888888888,
             "#fdca26"
            ],
            [
             1,
             "#f0f921"
            ]
           ],
           "sequentialminus": [
            [
             0,
             "#0d0887"
            ],
            [
             0.1111111111111111,
             "#46039f"
            ],
            [
             0.2222222222222222,
             "#7201a8"
            ],
            [
             0.3333333333333333,
             "#9c179e"
            ],
            [
             0.4444444444444444,
             "#bd3786"
            ],
            [
             0.5555555555555556,
             "#d8576b"
            ],
            [
             0.6666666666666666,
             "#ed7953"
            ],
            [
             0.7777777777777778,
             "#fb9f3a"
            ],
            [
             0.8888888888888888,
             "#fdca26"
            ],
            [
             1,
             "#f0f921"
            ]
           ]
          },
          "colorway": [
           "#636efa",
           "#EF553B",
           "#00cc96",
           "#ab63fa",
           "#FFA15A",
           "#19d3f3",
           "#FF6692",
           "#B6E880",
           "#FF97FF",
           "#FECB52"
          ],
          "font": {
           "color": "#2a3f5f"
          },
          "geo": {
           "bgcolor": "white",
           "lakecolor": "white",
           "landcolor": "#E5ECF6",
           "showlakes": true,
           "showland": true,
           "subunitcolor": "white"
          },
          "hoverlabel": {
           "align": "left"
          },
          "hovermode": "closest",
          "mapbox": {
           "style": "light"
          },
          "paper_bgcolor": "white",
          "plot_bgcolor": "#E5ECF6",
          "polar": {
           "angularaxis": {
            "gridcolor": "white",
            "linecolor": "white",
            "ticks": ""
           },
           "bgcolor": "#E5ECF6",
           "radialaxis": {
            "gridcolor": "white",
            "linecolor": "white",
            "ticks": ""
           }
          },
          "scene": {
           "xaxis": {
            "backgroundcolor": "#E5ECF6",
            "gridcolor": "white",
            "gridwidth": 2,
            "linecolor": "white",
            "showbackground": true,
            "ticks": "",
            "zerolinecolor": "white"
           },
           "yaxis": {
            "backgroundcolor": "#E5ECF6",
            "gridcolor": "white",
            "gridwidth": 2,
            "linecolor": "white",
            "showbackground": true,
            "ticks": "",
            "zerolinecolor": "white"
           },
           "zaxis": {
            "backgroundcolor": "#E5ECF6",
            "gridcolor": "white",
            "gridwidth": 2,
            "linecolor": "white",
            "showbackground": true,
            "ticks": "",
            "zerolinecolor": "white"
           }
          },
          "shapedefaults": {
           "line": {
            "color": "#2a3f5f"
           }
          },
          "ternary": {
           "aaxis": {
            "gridcolor": "white",
            "linecolor": "white",
            "ticks": ""
           },
           "baxis": {
            "gridcolor": "white",
            "linecolor": "white",
            "ticks": ""
           },
           "bgcolor": "#E5ECF6",
           "caxis": {
            "gridcolor": "white",
            "linecolor": "white",
            "ticks": ""
           }
          },
          "title": {
           "x": 0.05
          },
          "xaxis": {
           "automargin": true,
           "gridcolor": "white",
           "linecolor": "white",
           "ticks": "",
           "title": {
            "standoff": 15
           },
           "zerolinecolor": "white",
           "zerolinewidth": 2
          },
          "yaxis": {
           "automargin": true,
           "gridcolor": "white",
           "linecolor": "white",
           "ticks": "",
           "title": {
            "standoff": 15
           },
           "zerolinecolor": "white",
           "zerolinewidth": 2
          }
         }
        },
        "title": {
         "text": "Run Time"
        },
        "xaxis": {
         "anchor": "y",
         "domain": [
          0,
          1
         ],
         "title": {
          "text": "run_time_secs"
         }
        },
        "yaxis": {
         "anchor": "x",
         "domain": [
          0,
          1
         ]
        }
       }
      }
     },
     "metadata": {},
     "output_type": "display_data"
    }
   ],
   "source": [
    "px.strip(\n",
    "    runs,\n",
    "    x=\"run_time_secs\",\n",
    "    color=\"run_name\",\n",
    "    hover_name=\"run_id\",\n",
    "    hover_data=runs.columns,\n",
    "    title=\"Run Time\",\n",
    ")"
   ]
  },
  {
   "cell_type": "code",
   "execution_count": 15,
   "metadata": {},
   "outputs": [
    {
     "data": {
      "application/vnd.plotly.v1+json": {
       "config": {
        "plotlyServerURL": "https://plot.ly"
       },
       "data": [
        {
         "alignmentgroup": "True",
         "hovertemplate": "estimator_class=%{x}<br>count=%{y}<extra></extra>",
         "legendgroup": "",
         "marker": {
          "color": "#636efa",
          "pattern": {
           "shape": ""
          }
         },
         "name": "",
         "offsetgroup": "",
         "orientation": "v",
         "showlegend": false,
         "textposition": "auto",
         "type": "bar",
         "x": [
          null,
          null,
          null,
          null,
          "sklearn.pipeline.Pipeline",
          "sklearn.model_selection._search.GridSearchCV",
          "bikes.core.models.BaselineSklearnModel",
          "bikes.core.models.BaselineSklearnModel",
          "bikes.core.models.BaselineSklearnModel",
          null,
          null,
          null,
          null,
          "sklearn.pipeline.Pipeline",
          "bikes.core.models.BaselineSklearnModel",
          "sklearn.model_selection._search.GridSearchCV",
          "bikes.core.models.BaselineSklearnModel",
          "bikes.core.models.BaselineSklearnModel",
          null
         ],
         "xaxis": "x",
         "y": [
          1,
          1,
          1,
          1,
          1,
          1,
          1,
          1,
          1,
          1,
          1,
          1,
          1,
          1,
          1,
          1,
          1,
          1,
          1
         ],
         "yaxis": "y"
        }
       ],
       "layout": {
        "barmode": "relative",
        "legend": {
         "tracegroupgap": 0
        },
        "template": {
         "data": {
          "bar": [
           {
            "error_x": {
             "color": "#2a3f5f"
            },
            "error_y": {
             "color": "#2a3f5f"
            },
            "marker": {
             "line": {
              "color": "#E5ECF6",
              "width": 0.5
             },
             "pattern": {
              "fillmode": "overlay",
              "size": 10,
              "solidity": 0.2
             }
            },
            "type": "bar"
           }
          ],
          "barpolar": [
           {
            "marker": {
             "line": {
              "color": "#E5ECF6",
              "width": 0.5
             },
             "pattern": {
              "fillmode": "overlay",
              "size": 10,
              "solidity": 0.2
             }
            },
            "type": "barpolar"
           }
          ],
          "carpet": [
           {
            "aaxis": {
             "endlinecolor": "#2a3f5f",
             "gridcolor": "white",
             "linecolor": "white",
             "minorgridcolor": "white",
             "startlinecolor": "#2a3f5f"
            },
            "baxis": {
             "endlinecolor": "#2a3f5f",
             "gridcolor": "white",
             "linecolor": "white",
             "minorgridcolor": "white",
             "startlinecolor": "#2a3f5f"
            },
            "type": "carpet"
           }
          ],
          "choropleth": [
           {
            "colorbar": {
             "outlinewidth": 0,
             "ticks": ""
            },
            "type": "choropleth"
           }
          ],
          "contour": [
           {
            "colorbar": {
             "outlinewidth": 0,
             "ticks": ""
            },
            "colorscale": [
             [
              0,
              "#0d0887"
             ],
             [
              0.1111111111111111,
              "#46039f"
             ],
             [
              0.2222222222222222,
              "#7201a8"
             ],
             [
              0.3333333333333333,
              "#9c179e"
             ],
             [
              0.4444444444444444,
              "#bd3786"
             ],
             [
              0.5555555555555556,
              "#d8576b"
             ],
             [
              0.6666666666666666,
              "#ed7953"
             ],
             [
              0.7777777777777778,
              "#fb9f3a"
             ],
             [
              0.8888888888888888,
              "#fdca26"
             ],
             [
              1,
              "#f0f921"
             ]
            ],
            "type": "contour"
           }
          ],
          "contourcarpet": [
           {
            "colorbar": {
             "outlinewidth": 0,
             "ticks": ""
            },
            "type": "contourcarpet"
           }
          ],
          "heatmap": [
           {
            "colorbar": {
             "outlinewidth": 0,
             "ticks": ""
            },
            "colorscale": [
             [
              0,
              "#0d0887"
             ],
             [
              0.1111111111111111,
              "#46039f"
             ],
             [
              0.2222222222222222,
              "#7201a8"
             ],
             [
              0.3333333333333333,
              "#9c179e"
             ],
             [
              0.4444444444444444,
              "#bd3786"
             ],
             [
              0.5555555555555556,
              "#d8576b"
             ],
             [
              0.6666666666666666,
              "#ed7953"
             ],
             [
              0.7777777777777778,
              "#fb9f3a"
             ],
             [
              0.8888888888888888,
              "#fdca26"
             ],
             [
              1,
              "#f0f921"
             ]
            ],
            "type": "heatmap"
           }
          ],
          "heatmapgl": [
           {
            "colorbar": {
             "outlinewidth": 0,
             "ticks": ""
            },
            "colorscale": [
             [
              0,
              "#0d0887"
             ],
             [
              0.1111111111111111,
              "#46039f"
             ],
             [
              0.2222222222222222,
              "#7201a8"
             ],
             [
              0.3333333333333333,
              "#9c179e"
             ],
             [
              0.4444444444444444,
              "#bd3786"
             ],
             [
              0.5555555555555556,
              "#d8576b"
             ],
             [
              0.6666666666666666,
              "#ed7953"
             ],
             [
              0.7777777777777778,
              "#fb9f3a"
             ],
             [
              0.8888888888888888,
              "#fdca26"
             ],
             [
              1,
              "#f0f921"
             ]
            ],
            "type": "heatmapgl"
           }
          ],
          "histogram": [
           {
            "marker": {
             "pattern": {
              "fillmode": "overlay",
              "size": 10,
              "solidity": 0.2
             }
            },
            "type": "histogram"
           }
          ],
          "histogram2d": [
           {
            "colorbar": {
             "outlinewidth": 0,
             "ticks": ""
            },
            "colorscale": [
             [
              0,
              "#0d0887"
             ],
             [
              0.1111111111111111,
              "#46039f"
             ],
             [
              0.2222222222222222,
              "#7201a8"
             ],
             [
              0.3333333333333333,
              "#9c179e"
             ],
             [
              0.4444444444444444,
              "#bd3786"
             ],
             [
              0.5555555555555556,
              "#d8576b"
             ],
             [
              0.6666666666666666,
              "#ed7953"
             ],
             [
              0.7777777777777778,
              "#fb9f3a"
             ],
             [
              0.8888888888888888,
              "#fdca26"
             ],
             [
              1,
              "#f0f921"
             ]
            ],
            "type": "histogram2d"
           }
          ],
          "histogram2dcontour": [
           {
            "colorbar": {
             "outlinewidth": 0,
             "ticks": ""
            },
            "colorscale": [
             [
              0,
              "#0d0887"
             ],
             [
              0.1111111111111111,
              "#46039f"
             ],
             [
              0.2222222222222222,
              "#7201a8"
             ],
             [
              0.3333333333333333,
              "#9c179e"
             ],
             [
              0.4444444444444444,
              "#bd3786"
             ],
             [
              0.5555555555555556,
              "#d8576b"
             ],
             [
              0.6666666666666666,
              "#ed7953"
             ],
             [
              0.7777777777777778,
              "#fb9f3a"
             ],
             [
              0.8888888888888888,
              "#fdca26"
             ],
             [
              1,
              "#f0f921"
             ]
            ],
            "type": "histogram2dcontour"
           }
          ],
          "mesh3d": [
           {
            "colorbar": {
             "outlinewidth": 0,
             "ticks": ""
            },
            "type": "mesh3d"
           }
          ],
          "parcoords": [
           {
            "line": {
             "colorbar": {
              "outlinewidth": 0,
              "ticks": ""
             }
            },
            "type": "parcoords"
           }
          ],
          "pie": [
           {
            "automargin": true,
            "type": "pie"
           }
          ],
          "scatter": [
           {
            "fillpattern": {
             "fillmode": "overlay",
             "size": 10,
             "solidity": 0.2
            },
            "type": "scatter"
           }
          ],
          "scatter3d": [
           {
            "line": {
             "colorbar": {
              "outlinewidth": 0,
              "ticks": ""
             }
            },
            "marker": {
             "colorbar": {
              "outlinewidth": 0,
              "ticks": ""
             }
            },
            "type": "scatter3d"
           }
          ],
          "scattercarpet": [
           {
            "marker": {
             "colorbar": {
              "outlinewidth": 0,
              "ticks": ""
             }
            },
            "type": "scattercarpet"
           }
          ],
          "scattergeo": [
           {
            "marker": {
             "colorbar": {
              "outlinewidth": 0,
              "ticks": ""
             }
            },
            "type": "scattergeo"
           }
          ],
          "scattergl": [
           {
            "marker": {
             "colorbar": {
              "outlinewidth": 0,
              "ticks": ""
             }
            },
            "type": "scattergl"
           }
          ],
          "scattermapbox": [
           {
            "marker": {
             "colorbar": {
              "outlinewidth": 0,
              "ticks": ""
             }
            },
            "type": "scattermapbox"
           }
          ],
          "scatterpolar": [
           {
            "marker": {
             "colorbar": {
              "outlinewidth": 0,
              "ticks": ""
             }
            },
            "type": "scatterpolar"
           }
          ],
          "scatterpolargl": [
           {
            "marker": {
             "colorbar": {
              "outlinewidth": 0,
              "ticks": ""
             }
            },
            "type": "scatterpolargl"
           }
          ],
          "scatterternary": [
           {
            "marker": {
             "colorbar": {
              "outlinewidth": 0,
              "ticks": ""
             }
            },
            "type": "scatterternary"
           }
          ],
          "surface": [
           {
            "colorbar": {
             "outlinewidth": 0,
             "ticks": ""
            },
            "colorscale": [
             [
              0,
              "#0d0887"
             ],
             [
              0.1111111111111111,
              "#46039f"
             ],
             [
              0.2222222222222222,
              "#7201a8"
             ],
             [
              0.3333333333333333,
              "#9c179e"
             ],
             [
              0.4444444444444444,
              "#bd3786"
             ],
             [
              0.5555555555555556,
              "#d8576b"
             ],
             [
              0.6666666666666666,
              "#ed7953"
             ],
             [
              0.7777777777777778,
              "#fb9f3a"
             ],
             [
              0.8888888888888888,
              "#fdca26"
             ],
             [
              1,
              "#f0f921"
             ]
            ],
            "type": "surface"
           }
          ],
          "table": [
           {
            "cells": {
             "fill": {
              "color": "#EBF0F8"
             },
             "line": {
              "color": "white"
             }
            },
            "header": {
             "fill": {
              "color": "#C8D4E3"
             },
             "line": {
              "color": "white"
             }
            },
            "type": "table"
           }
          ]
         },
         "layout": {
          "annotationdefaults": {
           "arrowcolor": "#2a3f5f",
           "arrowhead": 0,
           "arrowwidth": 1
          },
          "autotypenumbers": "strict",
          "coloraxis": {
           "colorbar": {
            "outlinewidth": 0,
            "ticks": ""
           }
          },
          "colorscale": {
           "diverging": [
            [
             0,
             "#8e0152"
            ],
            [
             0.1,
             "#c51b7d"
            ],
            [
             0.2,
             "#de77ae"
            ],
            [
             0.3,
             "#f1b6da"
            ],
            [
             0.4,
             "#fde0ef"
            ],
            [
             0.5,
             "#f7f7f7"
            ],
            [
             0.6,
             "#e6f5d0"
            ],
            [
             0.7,
             "#b8e186"
            ],
            [
             0.8,
             "#7fbc41"
            ],
            [
             0.9,
             "#4d9221"
            ],
            [
             1,
             "#276419"
            ]
           ],
           "sequential": [
            [
             0,
             "#0d0887"
            ],
            [
             0.1111111111111111,
             "#46039f"
            ],
            [
             0.2222222222222222,
             "#7201a8"
            ],
            [
             0.3333333333333333,
             "#9c179e"
            ],
            [
             0.4444444444444444,
             "#bd3786"
            ],
            [
             0.5555555555555556,
             "#d8576b"
            ],
            [
             0.6666666666666666,
             "#ed7953"
            ],
            [
             0.7777777777777778,
             "#fb9f3a"
            ],
            [
             0.8888888888888888,
             "#fdca26"
            ],
            [
             1,
             "#f0f921"
            ]
           ],
           "sequentialminus": [
            [
             0,
             "#0d0887"
            ],
            [
             0.1111111111111111,
             "#46039f"
            ],
            [
             0.2222222222222222,
             "#7201a8"
            ],
            [
             0.3333333333333333,
             "#9c179e"
            ],
            [
             0.4444444444444444,
             "#bd3786"
            ],
            [
             0.5555555555555556,
             "#d8576b"
            ],
            [
             0.6666666666666666,
             "#ed7953"
            ],
            [
             0.7777777777777778,
             "#fb9f3a"
            ],
            [
             0.8888888888888888,
             "#fdca26"
            ],
            [
             1,
             "#f0f921"
            ]
           ]
          },
          "colorway": [
           "#636efa",
           "#EF553B",
           "#00cc96",
           "#ab63fa",
           "#FFA15A",
           "#19d3f3",
           "#FF6692",
           "#B6E880",
           "#FF97FF",
           "#FECB52"
          ],
          "font": {
           "color": "#2a3f5f"
          },
          "geo": {
           "bgcolor": "white",
           "lakecolor": "white",
           "landcolor": "#E5ECF6",
           "showlakes": true,
           "showland": true,
           "subunitcolor": "white"
          },
          "hoverlabel": {
           "align": "left"
          },
          "hovermode": "closest",
          "mapbox": {
           "style": "light"
          },
          "paper_bgcolor": "white",
          "plot_bgcolor": "#E5ECF6",
          "polar": {
           "angularaxis": {
            "gridcolor": "white",
            "linecolor": "white",
            "ticks": ""
           },
           "bgcolor": "#E5ECF6",
           "radialaxis": {
            "gridcolor": "white",
            "linecolor": "white",
            "ticks": ""
           }
          },
          "scene": {
           "xaxis": {
            "backgroundcolor": "#E5ECF6",
            "gridcolor": "white",
            "gridwidth": 2,
            "linecolor": "white",
            "showbackground": true,
            "ticks": "",
            "zerolinecolor": "white"
           },
           "yaxis": {
            "backgroundcolor": "#E5ECF6",
            "gridcolor": "white",
            "gridwidth": 2,
            "linecolor": "white",
            "showbackground": true,
            "ticks": "",
            "zerolinecolor": "white"
           },
           "zaxis": {
            "backgroundcolor": "#E5ECF6",
            "gridcolor": "white",
            "gridwidth": 2,
            "linecolor": "white",
            "showbackground": true,
            "ticks": "",
            "zerolinecolor": "white"
           }
          },
          "shapedefaults": {
           "line": {
            "color": "#2a3f5f"
           }
          },
          "ternary": {
           "aaxis": {
            "gridcolor": "white",
            "linecolor": "white",
            "ticks": ""
           },
           "baxis": {
            "gridcolor": "white",
            "linecolor": "white",
            "ticks": ""
           },
           "bgcolor": "#E5ECF6",
           "caxis": {
            "gridcolor": "white",
            "linecolor": "white",
            "ticks": ""
           }
          },
          "title": {
           "x": 0.05
          },
          "xaxis": {
           "automargin": true,
           "gridcolor": "white",
           "linecolor": "white",
           "ticks": "",
           "title": {
            "standoff": 15
           },
           "zerolinecolor": "white",
           "zerolinewidth": 2
          },
          "yaxis": {
           "automargin": true,
           "gridcolor": "white",
           "linecolor": "white",
           "ticks": "",
           "title": {
            "standoff": 15
           },
           "zerolinecolor": "white",
           "zerolinewidth": 2
          }
         }
        },
        "title": {
         "text": "Run Estimator Class Distribution"
        },
        "xaxis": {
         "anchor": "y",
         "domain": [
          0,
          1
         ],
         "title": {
          "text": "estimator_class"
         }
        },
        "yaxis": {
         "anchor": "x",
         "domain": [
          0,
          1
         ],
         "title": {
          "text": "count"
         }
        }
       }
      }
     },
     "metadata": {},
     "output_type": "display_data"
    }
   ],
   "source": [
    "px.bar(runs, x=\"estimator_class\", title=\"Run Estimator Class Distribution\")"
   ]
  }
 ],
 "metadata": {
  "kernelspec": {
   "display_name": ".venv",
   "language": "python",
   "name": "python3"
  },
  "language_info": {
   "codemirror_mode": {
    "name": "ipython",
    "version": 3
   },
   "file_extension": ".py",
   "mimetype": "text/x-python",
   "name": "python",
   "nbconvert_exporter": "python",
   "pygments_lexer": "ipython3",
   "version": "3.12.5"
  }
 },
 "nbformat": 4,
 "nbformat_minor": 2
}
