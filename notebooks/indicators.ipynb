{
 "cells": [
  {
   "cell_type": "markdown",
   "metadata": {},
   "source": [
    "**Compute Key-Performance Indicators (KPIs) from the MLflow server.**"
   ]
  },
  {
   "cell_type": "markdown",
   "metadata": {},
   "source": [
    "# IMPORTS"
   ]
  },
  {
   "cell_type": "code",
   "execution_count": 1,
   "metadata": {},
   "outputs": [],
   "source": [
    "import mlflow\n",
    "import plotly.express as px\n",
    "import polars as pl"
   ]
  },
  {
   "cell_type": "markdown",
   "metadata": {},
   "source": [
    "# OPTIONS"
   ]
  },
  {
   "cell_type": "code",
   "execution_count": 2,
   "metadata": {},
   "outputs": [
    {
     "data": {
      "text/plain": [
       "polars.config.Config"
      ]
     },
     "execution_count": 2,
     "metadata": {},
     "output_type": "execute_result"
    }
   ],
   "source": [
    "pl.Config.set_tbl_cols(n=-1)"
   ]
  },
  {
   "cell_type": "markdown",
   "metadata": {},
   "source": [
    "# CONFIGS"
   ]
  },
  {
   "cell_type": "code",
   "execution_count": 3,
   "metadata": {},
   "outputs": [],
   "source": [
    "MAX_RESULTS = 100\n",
    "TRACKING_URI = \"http://localhost:5000\"\n",
    "REGISTRY_URI = \"http://localhost:5000\""
   ]
  },
  {
   "cell_type": "markdown",
   "metadata": {},
   "source": [
    "# CLIENTS"
   ]
  },
  {
   "cell_type": "code",
   "execution_count": 4,
   "metadata": {},
   "outputs": [],
   "source": [
    "client = mlflow.tracking.MlflowClient(tracking_uri=TRACKING_URI, registry_uri=REGISTRY_URI)"
   ]
  },
  {
   "cell_type": "markdown",
   "metadata": {},
   "source": [
    "# INDICATORS"
   ]
  },
  {
   "cell_type": "code",
   "execution_count": 5,
   "metadata": {},
   "outputs": [
    {
     "data": {
      "text/html": [
       "<div><style>\n",
       ".dataframe > thead > tr,\n",
       ".dataframe > tbody > tr {\n",
       "  text-align: right;\n",
       "  white-space: pre-wrap;\n",
       "}\n",
       "</style>\n",
       "<small>shape: (1, 6)</small><table border=\"1\" class=\"dataframe\"><thead><tr><th>artifact_location</th><th>creation_time</th><th>experiment_id</th><th>last_update_time</th><th>lifecycle_stage</th><th>name</th></tr><tr><td>str</td><td>datetime[ms]</td><td>str</td><td>datetime[ms]</td><td>str</td><td>str</td></tr></thead><tbody><tr><td>&quot;file:///home/fmind/mlops-pytho…</td><td>2024-12-09 19:31:02.967</td><td>&quot;892046783494697990&quot;</td><td>2024-12-09 19:31:02.967</td><td>&quot;active&quot;</td><td>&quot;bikes&quot;</td></tr></tbody></table></div>"
      ],
      "text/plain": [
       "shape: (1, 6)\n",
       "┌──────────────────┬─────────────────┬─────────────────┬─────────────────┬─────────────────┬───────┐\n",
       "│ artifact_locatio ┆ creation_time   ┆ experiment_id   ┆ last_update_tim ┆ lifecycle_stage ┆ name  │\n",
       "│ n                ┆ ---             ┆ ---             ┆ e               ┆ ---             ┆ ---   │\n",
       "│ ---              ┆ datetime[ms]    ┆ str             ┆ ---             ┆ str             ┆ str   │\n",
       "│ str              ┆                 ┆                 ┆ datetime[ms]    ┆                 ┆       │\n",
       "╞══════════════════╪═════════════════╪═════════════════╪═════════════════╪═════════════════╪═══════╡\n",
       "│ file:///home/fmi ┆ 2024-12-09      ┆ 892046783494697 ┆ 2024-12-09      ┆ active          ┆ bikes │\n",
       "│ nd/mlops-pytho…  ┆ 19:31:02.967    ┆ 990             ┆ 19:31:02.967    ┆                 ┆       │\n",
       "└──────────────────┴─────────────────┴─────────────────┴─────────────────┴─────────────────┴───────┘"
      ]
     },
     "execution_count": 5,
     "metadata": {},
     "output_type": "execute_result"
    }
   ],
   "source": [
    "experiments = client.search_experiments(\n",
    "    view_type=mlflow.entities.ViewType.ALL, max_results=MAX_RESULTS, order_by=[\"creation_time DESC\"]\n",
    ")\n",
    "experiments = [dict(experiment) for experiment in experiments]\n",
    "experiments = (\n",
    "    pl.DataFrame(experiments)\n",
    "    .with_columns(\n",
    "        pl.from_epoch(\"creation_time\", time_unit=\"ms\"),\n",
    "        pl.from_epoch(\"last_update_time\", time_unit=\"ms\"),\n",
    "    )\n",
    "    .drop(\"tags\")\n",
    ")\n",
    "experiments"
   ]
  },
  {
   "cell_type": "code",
   "execution_count": 6,
   "metadata": {},
   "outputs": [
    {
     "data": {
      "text/html": [
       "<div><style>\n",
       ".dataframe > thead > tr,\n",
       ".dataframe > tbody > tr {\n",
       "  text-align: right;\n",
       "  white-space: pre-wrap;\n",
       "}\n",
       "</style>\n",
       "<small>shape: (29, 11)</small><table border=\"1\" class=\"dataframe\"><thead><tr><th>artifact_uri</th><th>end_time</th><th>experiment_id</th><th>lifecycle_stage</th><th>run_id</th><th>run_name</th><th>run_uuid</th><th>start_time</th><th>status</th><th>user_id</th><th>run_time</th></tr><tr><td>str</td><td>datetime[ms]</td><td>str</td><td>str</td><td>str</td><td>str</td><td>str</td><td>datetime[ms]</td><td>str</td><td>str</td><td>i64</td></tr></thead><tbody><tr><td>&quot;file:///home/fmind/mlops-pytho…</td><td>2024-12-09 21:26:50.094</td><td>&quot;892046783494697990&quot;</td><td>&quot;active&quot;</td><td>&quot;c21b823a68ba42b2b1ff98b2ae73c4…</td><td>&quot;Explanations&quot;</td><td>&quot;c21b823a68ba42b2b1ff98b2ae73c4…</td><td>2024-12-09 21:26:19.324</td><td>&quot;FINISHED&quot;</td><td>&quot;fmind&quot;</td><td>30770</td></tr><tr><td>&quot;file:///home/fmind/mlops-pytho…</td><td>2024-12-09 21:26:18.061</td><td>&quot;892046783494697990&quot;</td><td>&quot;active&quot;</td><td>&quot;9da0f31e36a9413eaab18149ace82c…</td><td>&quot;Evaluations&quot;</td><td>&quot;9da0f31e36a9413eaab18149ace82c…</td><td>2024-12-09 21:26:13.489</td><td>&quot;FINISHED&quot;</td><td>&quot;fmind&quot;</td><td>4572</td></tr><tr><td>&quot;file:///home/fmind/mlops-pytho…</td><td>2024-12-09 21:26:12.215</td><td>&quot;892046783494697990&quot;</td><td>&quot;active&quot;</td><td>&quot;8316d6855d17401b8358e88a48c159…</td><td>&quot;Inference&quot;</td><td>&quot;8316d6855d17401b8358e88a48c159…</td><td>2024-12-09 21:26:08.210</td><td>&quot;FINISHED&quot;</td><td>&quot;fmind&quot;</td><td>4005</td></tr><tr><td>&quot;file:///home/fmind/mlops-pytho…</td><td>2024-12-09 21:26:06.933</td><td>&quot;892046783494697990&quot;</td><td>&quot;active&quot;</td><td>&quot;b92f959ab1564eb897e2f66f7089f5…</td><td>&quot;Promotion&quot;</td><td>&quot;b92f959ab1564eb897e2f66f7089f5…</td><td>2024-12-09 21:26:03.382</td><td>&quot;FINISHED&quot;</td><td>&quot;fmind&quot;</td><td>3551</td></tr><tr><td>&quot;file:///home/fmind/mlops-pytho…</td><td>2024-12-09 21:26:01.071</td><td>&quot;892046783494697990&quot;</td><td>&quot;active&quot;</td><td>&quot;fc31f5b645204fdd9ef58fbbc0c105…</td><td>&quot;Training&quot;</td><td>&quot;fc31f5b645204fdd9ef58fbbc0c105…</td><td>2024-12-09 21:25:39.001</td><td>&quot;FINISHED&quot;</td><td>&quot;fmind&quot;</td><td>22070</td></tr><tr><td>&hellip;</td><td>&hellip;</td><td>&hellip;</td><td>&hellip;</td><td>&hellip;</td><td>&hellip;</td><td>&hellip;</td><td>&hellip;</td><td>&hellip;</td><td>&hellip;</td><td>&hellip;</td></tr><tr><td>&quot;file:///home/fmind/mlops-pytho…</td><td>2024-12-09 19:33:10.574</td><td>&quot;892046783494697990&quot;</td><td>&quot;active&quot;</td><td>&quot;ca4c7550ad354be9a2f10f7eade8d4…</td><td>&quot;Training&quot;</td><td>&quot;ca4c7550ad354be9a2f10f7eade8d4…</td><td>2024-12-09 19:32:47.406</td><td>&quot;FINISHED&quot;</td><td>&quot;fmind&quot;</td><td>23168</td></tr><tr><td>&quot;file:///home/fmind/mlops-pytho…</td><td>2024-12-09 19:32:45.039</td><td>&quot;892046783494697990&quot;</td><td>&quot;active&quot;</td><td>&quot;3c3f2883be0643b9800e8c161764bb…</td><td>&quot;resilient-doe-203&quot;</td><td>&quot;3c3f2883be0643b9800e8c161764bb…</td><td>2024-12-09 19:31:03.107</td><td>&quot;FINISHED&quot;</td><td>&quot;fmind&quot;</td><td>101932</td></tr><tr><td>&quot;file:///home/fmind/mlops-pytho…</td><td>2024-12-09 19:32:45.039</td><td>&quot;892046783494697990&quot;</td><td>&quot;active&quot;</td><td>&quot;846fb4b5ca654800b2cb0592c6c2e9…</td><td>&quot;unequaled-conch-92&quot;</td><td>&quot;846fb4b5ca654800b2cb0592c6c2e9…</td><td>2024-12-09 19:31:03.107</td><td>&quot;FINISHED&quot;</td><td>&quot;fmind&quot;</td><td>101932</td></tr><tr><td>&quot;file:///home/fmind/mlops-pytho…</td><td>2024-12-09 19:32:45.822</td><td>&quot;892046783494697990&quot;</td><td>&quot;active&quot;</td><td>&quot;d8d365de957c46098b7cf2e251b486…</td><td>&quot;Tuning&quot;</td><td>&quot;d8d365de957c46098b7cf2e251b486…</td><td>2024-12-09 19:31:03.107</td><td>&quot;FINISHED&quot;</td><td>&quot;fmind&quot;</td><td>102715</td></tr><tr><td>&quot;file:///home/fmind/mlops-pytho…</td><td>2024-12-09 19:32:45.039</td><td>&quot;892046783494697990&quot;</td><td>&quot;active&quot;</td><td>&quot;ed9728cf10d74fe6a053231b54e82e…</td><td>&quot;adventurous-fowl-590&quot;</td><td>&quot;ed9728cf10d74fe6a053231b54e82e…</td><td>2024-12-09 19:31:03.107</td><td>&quot;FINISHED&quot;</td><td>&quot;fmind&quot;</td><td>101932</td></tr></tbody></table></div>"
      ],
      "text/plain": [
       "shape: (29, 11)\n",
       "┌────────┬────────┬────────┬────────┬────────┬────────┬────────┬────────┬────────┬────────┬────────┐\n",
       "│ artifa ┆ end_ti ┆ experi ┆ lifecy ┆ run_id ┆ run_na ┆ run_uu ┆ start_ ┆ status ┆ user_i ┆ run_ti │\n",
       "│ ct_uri ┆ me     ┆ ment_i ┆ cle_st ┆ ---    ┆ me     ┆ id     ┆ time   ┆ ---    ┆ d      ┆ me     │\n",
       "│ ---    ┆ ---    ┆ d      ┆ age    ┆ str    ┆ ---    ┆ ---    ┆ ---    ┆ str    ┆ ---    ┆ ---    │\n",
       "│ str    ┆ dateti ┆ ---    ┆ ---    ┆        ┆ str    ┆ str    ┆ dateti ┆        ┆ str    ┆ i64    │\n",
       "│        ┆ me[ms] ┆ str    ┆ str    ┆        ┆        ┆        ┆ me[ms] ┆        ┆        ┆        │\n",
       "╞════════╪════════╪════════╪════════╪════════╪════════╪════════╪════════╪════════╪════════╪════════╡\n",
       "│ file:/ ┆ 2024-1 ┆ 892046 ┆ active ┆ c21b82 ┆ Explan ┆ c21b82 ┆ 2024-1 ┆ FINISH ┆ fmind  ┆ 30770  │\n",
       "│ //home ┆ 2-09   ┆ 783494 ┆        ┆ 3a68ba ┆ ations ┆ 3a68ba ┆ 2-09   ┆ ED     ┆        ┆        │\n",
       "│ /fmind ┆ 21:26: ┆ 697990 ┆        ┆ 42b2b1 ┆        ┆ 42b2b1 ┆ 21:26: ┆        ┆        ┆        │\n",
       "│ /mlops ┆ 50.094 ┆        ┆        ┆ ff98b2 ┆        ┆ ff98b2 ┆ 19.324 ┆        ┆        ┆        │\n",
       "│ -pytho ┆        ┆        ┆        ┆ ae73c4 ┆        ┆ ae73c4 ┆        ┆        ┆        ┆        │\n",
       "│ …      ┆        ┆        ┆        ┆ …      ┆        ┆ …      ┆        ┆        ┆        ┆        │\n",
       "│ file:/ ┆ 2024-1 ┆ 892046 ┆ active ┆ 9da0f3 ┆ Evalua ┆ 9da0f3 ┆ 2024-1 ┆ FINISH ┆ fmind  ┆ 4572   │\n",
       "│ //home ┆ 2-09   ┆ 783494 ┆        ┆ 1e36a9 ┆ tions  ┆ 1e36a9 ┆ 2-09   ┆ ED     ┆        ┆        │\n",
       "│ /fmind ┆ 21:26: ┆ 697990 ┆        ┆ 413eaa ┆        ┆ 413eaa ┆ 21:26: ┆        ┆        ┆        │\n",
       "│ /mlops ┆ 18.061 ┆        ┆        ┆ b18149 ┆        ┆ b18149 ┆ 13.489 ┆        ┆        ┆        │\n",
       "│ -pytho ┆        ┆        ┆        ┆ ace82c ┆        ┆ ace82c ┆        ┆        ┆        ┆        │\n",
       "│ …      ┆        ┆        ┆        ┆ …      ┆        ┆ …      ┆        ┆        ┆        ┆        │\n",
       "│ file:/ ┆ 2024-1 ┆ 892046 ┆ active ┆ 8316d6 ┆ Infere ┆ 8316d6 ┆ 2024-1 ┆ FINISH ┆ fmind  ┆ 4005   │\n",
       "│ //home ┆ 2-09   ┆ 783494 ┆        ┆ 855d17 ┆ nce    ┆ 855d17 ┆ 2-09   ┆ ED     ┆        ┆        │\n",
       "│ /fmind ┆ 21:26: ┆ 697990 ┆        ┆ 401b83 ┆        ┆ 401b83 ┆ 21:26: ┆        ┆        ┆        │\n",
       "│ /mlops ┆ 12.215 ┆        ┆        ┆ 58e88a ┆        ┆ 58e88a ┆ 08.210 ┆        ┆        ┆        │\n",
       "│ -pytho ┆        ┆        ┆        ┆ 48c159 ┆        ┆ 48c159 ┆        ┆        ┆        ┆        │\n",
       "│ …      ┆        ┆        ┆        ┆ …      ┆        ┆ …      ┆        ┆        ┆        ┆        │\n",
       "│ file:/ ┆ 2024-1 ┆ 892046 ┆ active ┆ b92f95 ┆ Promot ┆ b92f95 ┆ 2024-1 ┆ FINISH ┆ fmind  ┆ 3551   │\n",
       "│ //home ┆ 2-09   ┆ 783494 ┆        ┆ 9ab156 ┆ ion    ┆ 9ab156 ┆ 2-09   ┆ ED     ┆        ┆        │\n",
       "│ /fmind ┆ 21:26: ┆ 697990 ┆        ┆ 4eb897 ┆        ┆ 4eb897 ┆ 21:26: ┆        ┆        ┆        │\n",
       "│ /mlops ┆ 06.933 ┆        ┆        ┆ e2f66f ┆        ┆ e2f66f ┆ 03.382 ┆        ┆        ┆        │\n",
       "│ -pytho ┆        ┆        ┆        ┆ 7089f5 ┆        ┆ 7089f5 ┆        ┆        ┆        ┆        │\n",
       "│ …      ┆        ┆        ┆        ┆ …      ┆        ┆ …      ┆        ┆        ┆        ┆        │\n",
       "│ file:/ ┆ 2024-1 ┆ 892046 ┆ active ┆ fc31f5 ┆ Traini ┆ fc31f5 ┆ 2024-1 ┆ FINISH ┆ fmind  ┆ 22070  │\n",
       "│ //home ┆ 2-09   ┆ 783494 ┆        ┆ b64520 ┆ ng     ┆ b64520 ┆ 2-09   ┆ ED     ┆        ┆        │\n",
       "│ /fmind ┆ 21:26: ┆ 697990 ┆        ┆ 4fdd9e ┆        ┆ 4fdd9e ┆ 21:25: ┆        ┆        ┆        │\n",
       "│ /mlops ┆ 01.071 ┆        ┆        ┆ f58fbb ┆        ┆ f58fbb ┆ 39.001 ┆        ┆        ┆        │\n",
       "│ -pytho ┆        ┆        ┆        ┆ c0c105 ┆        ┆ c0c105 ┆        ┆        ┆        ┆        │\n",
       "│ …      ┆        ┆        ┆        ┆ …      ┆        ┆ …      ┆        ┆        ┆        ┆        │\n",
       "│ …      ┆ …      ┆ …      ┆ …      ┆ …      ┆ …      ┆ …      ┆ …      ┆ …      ┆ …      ┆ …      │\n",
       "│ file:/ ┆ 2024-1 ┆ 892046 ┆ active ┆ ca4c75 ┆ Traini ┆ ca4c75 ┆ 2024-1 ┆ FINISH ┆ fmind  ┆ 23168  │\n",
       "│ //home ┆ 2-09   ┆ 783494 ┆        ┆ 50ad35 ┆ ng     ┆ 50ad35 ┆ 2-09   ┆ ED     ┆        ┆        │\n",
       "│ /fmind ┆ 19:33: ┆ 697990 ┆        ┆ 4be9a2 ┆        ┆ 4be9a2 ┆ 19:32: ┆        ┆        ┆        │\n",
       "│ /mlops ┆ 10.574 ┆        ┆        ┆ f10f7e ┆        ┆ f10f7e ┆ 47.406 ┆        ┆        ┆        │\n",
       "│ -pytho ┆        ┆        ┆        ┆ ade8d4 ┆        ┆ ade8d4 ┆        ┆        ┆        ┆        │\n",
       "│ …      ┆        ┆        ┆        ┆ …      ┆        ┆ …      ┆        ┆        ┆        ┆        │\n",
       "│ file:/ ┆ 2024-1 ┆ 892046 ┆ active ┆ 3c3f28 ┆ resili ┆ 3c3f28 ┆ 2024-1 ┆ FINISH ┆ fmind  ┆ 101932 │\n",
       "│ //home ┆ 2-09   ┆ 783494 ┆        ┆ 83be06 ┆ ent-do ┆ 83be06 ┆ 2-09   ┆ ED     ┆        ┆        │\n",
       "│ /fmind ┆ 19:32: ┆ 697990 ┆        ┆ 43b980 ┆ e-203  ┆ 43b980 ┆ 19:31: ┆        ┆        ┆        │\n",
       "│ /mlops ┆ 45.039 ┆        ┆        ┆ 0e8c16 ┆        ┆ 0e8c16 ┆ 03.107 ┆        ┆        ┆        │\n",
       "│ -pytho ┆        ┆        ┆        ┆ 1764bb ┆        ┆ 1764bb ┆        ┆        ┆        ┆        │\n",
       "│ …      ┆        ┆        ┆        ┆ …      ┆        ┆ …      ┆        ┆        ┆        ┆        │\n",
       "│ file:/ ┆ 2024-1 ┆ 892046 ┆ active ┆ 846fb4 ┆ unequa ┆ 846fb4 ┆ 2024-1 ┆ FINISH ┆ fmind  ┆ 101932 │\n",
       "│ //home ┆ 2-09   ┆ 783494 ┆        ┆ b5ca65 ┆ led-co ┆ b5ca65 ┆ 2-09   ┆ ED     ┆        ┆        │\n",
       "│ /fmind ┆ 19:32: ┆ 697990 ┆        ┆ 4800b2 ┆ nch-92 ┆ 4800b2 ┆ 19:31: ┆        ┆        ┆        │\n",
       "│ /mlops ┆ 45.039 ┆        ┆        ┆ cb0592 ┆        ┆ cb0592 ┆ 03.107 ┆        ┆        ┆        │\n",
       "│ -pytho ┆        ┆        ┆        ┆ c6c2e9 ┆        ┆ c6c2e9 ┆        ┆        ┆        ┆        │\n",
       "│ …      ┆        ┆        ┆        ┆ …      ┆        ┆ …      ┆        ┆        ┆        ┆        │\n",
       "│ file:/ ┆ 2024-1 ┆ 892046 ┆ active ┆ d8d365 ┆ Tuning ┆ d8d365 ┆ 2024-1 ┆ FINISH ┆ fmind  ┆ 102715 │\n",
       "│ //home ┆ 2-09   ┆ 783494 ┆        ┆ de957c ┆        ┆ de957c ┆ 2-09   ┆ ED     ┆        ┆        │\n",
       "│ /fmind ┆ 19:32: ┆ 697990 ┆        ┆ 46098b ┆        ┆ 46098b ┆ 19:31: ┆        ┆        ┆        │\n",
       "│ /mlops ┆ 45.822 ┆        ┆        ┆ 7cf2e2 ┆        ┆ 7cf2e2 ┆ 03.107 ┆        ┆        ┆        │\n",
       "│ -pytho ┆        ┆        ┆        ┆ 51b486 ┆        ┆ 51b486 ┆        ┆        ┆        ┆        │\n",
       "│ …      ┆        ┆        ┆        ┆ …      ┆        ┆ …      ┆        ┆        ┆        ┆        │\n",
       "│ file:/ ┆ 2024-1 ┆ 892046 ┆ active ┆ ed9728 ┆ advent ┆ ed9728 ┆ 2024-1 ┆ FINISH ┆ fmind  ┆ 101932 │\n",
       "│ //home ┆ 2-09   ┆ 783494 ┆        ┆ cf10d7 ┆ urous- ┆ cf10d7 ┆ 2-09   ┆ ED     ┆        ┆        │\n",
       "│ /fmind ┆ 19:32: ┆ 697990 ┆        ┆ 4fe6a0 ┆ fowl-5 ┆ 4fe6a0 ┆ 19:31: ┆        ┆        ┆        │\n",
       "│ /mlops ┆ 45.039 ┆        ┆        ┆ 53231b ┆ 90     ┆ 53231b ┆ 03.107 ┆        ┆        ┆        │\n",
       "│ -pytho ┆        ┆        ┆        ┆ 54e82e ┆        ┆ 54e82e ┆        ┆        ┆        ┆        │\n",
       "│ …      ┆        ┆        ┆        ┆ …      ┆        ┆ …      ┆        ┆        ┆        ┆        │\n",
       "└────────┴────────┴────────┴────────┴────────┴────────┴────────┴────────┴────────┴────────┴────────┘"
      ]
     },
     "execution_count": 6,
     "metadata": {},
     "output_type": "execute_result"
    }
   ],
   "source": [
    "runs = client.search_runs(\n",
    "    experiment_ids=experiments[\"experiment_id\"].unique(),\n",
    "    run_view_type=mlflow.entities.ViewType.ALL,\n",
    "    max_results=MAX_RESULTS,\n",
    "    order_by=[\"created DESC\"],\n",
    ")\n",
    "runs = [dict(run.info) | dict(run.data) for run in runs]\n",
    "runs = (\n",
    "    pl.DataFrame(runs)\n",
    "    .with_columns(\n",
    "        pl.from_epoch(\"start_time\", time_unit=\"ms\"),\n",
    "        pl.from_epoch(\"end_time\", time_unit=\"ms\"),\n",
    "        (pl.col(\"end_time\") - pl.col(\"start_time\")).cast(pl.Int64).alias(\"run_time\"),\n",
    "    )\n",
    "    .drop(\"metrics\", \"params\", \"tags\")\n",
    ")\n",
    "runs"
   ]
  },
  {
   "cell_type": "code",
   "execution_count": 7,
   "metadata": {},
   "outputs": [
    {
     "data": {
      "text/html": [
       "<div><style>\n",
       ".dataframe > thead > tr,\n",
       ".dataframe > tbody > tr {\n",
       "  text-align: right;\n",
       "  white-space: pre-wrap;\n",
       "}\n",
       "</style>\n",
       "<small>shape: (1, 4)</small><table border=\"1\" class=\"dataframe\"><thead><tr><th>creation_timestamp</th><th>description</th><th>last_updated_timestamp</th><th>name</th></tr><tr><td>datetime[ms]</td><td>str</td><td>datetime[ms]</td><td>str</td></tr></thead><tbody><tr><td>2024-12-09 19:33:09.416</td><td>&quot;&quot;</td><td>2024-12-09 21:26:06.439</td><td>&quot;bikes&quot;</td></tr></tbody></table></div>"
      ],
      "text/plain": [
       "shape: (1, 4)\n",
       "┌─────────────────────────┬─────────────┬─────────────────────────┬───────┐\n",
       "│ creation_timestamp      ┆ description ┆ last_updated_timestamp  ┆ name  │\n",
       "│ ---                     ┆ ---         ┆ ---                     ┆ ---   │\n",
       "│ datetime[ms]            ┆ str         ┆ datetime[ms]            ┆ str   │\n",
       "╞═════════════════════════╪═════════════╪═════════════════════════╪═══════╡\n",
       "│ 2024-12-09 19:33:09.416 ┆             ┆ 2024-12-09 21:26:06.439 ┆ bikes │\n",
       "└─────────────────────────┴─────────────┴─────────────────────────┴───────┘"
      ]
     },
     "execution_count": 7,
     "metadata": {},
     "output_type": "execute_result"
    }
   ],
   "source": [
    "models_ = client.search_registered_models(\n",
    "    max_results=MAX_RESULTS, order_by=[\"creation_timestamp DESC\"]\n",
    ")\n",
    "models = []\n",
    "for model in models_:\n",
    "    model = dict(model)\n",
    "    model.pop(\"latest_versions\")\n",
    "    models.append(model)\n",
    "models = (\n",
    "    pl.DataFrame(models)\n",
    "    .with_columns(\n",
    "        pl.from_epoch(\"creation_timestamp\", time_unit=\"ms\"),\n",
    "        pl.from_epoch(\"last_updated_timestamp\", time_unit=\"ms\"),\n",
    "    )\n",
    "    .drop(\"aliases\", \"tags\")\n",
    ")\n",
    "models"
   ]
  },
  {
   "cell_type": "code",
   "execution_count": 8,
   "metadata": {},
   "outputs": [
    {
     "data": {
      "text/html": [
       "<div><style>\n",
       ".dataframe > thead > tr,\n",
       ".dataframe > tbody > tr {\n",
       "  text-align: right;\n",
       "  white-space: pre-wrap;\n",
       "}\n",
       "</style>\n",
       "<small>shape: (3, 12)</small><table border=\"1\" class=\"dataframe\"><thead><tr><th>creation_timestamp</th><th>current_stage</th><th>description</th><th>last_updated_timestamp</th><th>name</th><th>run_id</th><th>run_link</th><th>source</th><th>status</th><th>status_message</th><th>user_id</th><th>version</th></tr><tr><td>datetime[ms]</td><td>str</td><td>str</td><td>datetime[ms]</td><td>str</td><td>str</td><td>str</td><td>str</td><td>str</td><td>str</td><td>str</td><td>str</td></tr></thead><tbody><tr><td>2024-12-09 21:25:59.981</td><td>&quot;None&quot;</td><td>&quot;&quot;</td><td>2024-12-09 21:25:59.981</td><td>&quot;bikes&quot;</td><td>&quot;fc31f5b645204fdd9ef58fbbc0c105…</td><td>&quot;&quot;</td><td>&quot;file:///home/fmind/mlops-pytho…</td><td>&quot;READY&quot;</td><td>&quot;&quot;</td><td>&quot;&quot;</td><td>&quot;3&quot;</td></tr><tr><td>2024-12-09 20:15:47.252</td><td>&quot;None&quot;</td><td>&quot;&quot;</td><td>2024-12-09 20:15:47.252</td><td>&quot;bikes&quot;</td><td>&quot;abad34d51a2a4cffa328136540b455…</td><td>&quot;&quot;</td><td>&quot;file:///home/fmind/mlops-pytho…</td><td>&quot;READY&quot;</td><td>&quot;&quot;</td><td>&quot;&quot;</td><td>&quot;2&quot;</td></tr><tr><td>2024-12-09 19:33:09.426</td><td>&quot;None&quot;</td><td>&quot;&quot;</td><td>2024-12-09 19:33:09.426</td><td>&quot;bikes&quot;</td><td>&quot;ca4c7550ad354be9a2f10f7eade8d4…</td><td>&quot;&quot;</td><td>&quot;file:///home/fmind/mlops-pytho…</td><td>&quot;READY&quot;</td><td>&quot;&quot;</td><td>&quot;&quot;</td><td>&quot;1&quot;</td></tr></tbody></table></div>"
      ],
      "text/plain": [
       "shape: (3, 12)\n",
       "┌────────┬────────┬────────┬───────┬───────┬───────┬───────┬───────┬───────┬───────┬───────┬───────┐\n",
       "│ creati ┆ curren ┆ descri ┆ last_ ┆ name  ┆ run_i ┆ run_l ┆ sourc ┆ statu ┆ statu ┆ user_ ┆ versi │\n",
       "│ on_tim ┆ t_stag ┆ ption  ┆ updat ┆ ---   ┆ d     ┆ ink   ┆ e     ┆ s     ┆ s_mes ┆ id    ┆ on    │\n",
       "│ estamp ┆ e      ┆ ---    ┆ ed_ti ┆ str   ┆ ---   ┆ ---   ┆ ---   ┆ ---   ┆ sage  ┆ ---   ┆ ---   │\n",
       "│ ---    ┆ ---    ┆ str    ┆ mesta ┆       ┆ str   ┆ str   ┆ str   ┆ str   ┆ ---   ┆ str   ┆ str   │\n",
       "│ dateti ┆ str    ┆        ┆ mp    ┆       ┆       ┆       ┆       ┆       ┆ str   ┆       ┆       │\n",
       "│ me[ms] ┆        ┆        ┆ ---   ┆       ┆       ┆       ┆       ┆       ┆       ┆       ┆       │\n",
       "│        ┆        ┆        ┆ datet ┆       ┆       ┆       ┆       ┆       ┆       ┆       ┆       │\n",
       "│        ┆        ┆        ┆ ime[m ┆       ┆       ┆       ┆       ┆       ┆       ┆       ┆       │\n",
       "│        ┆        ┆        ┆ s]    ┆       ┆       ┆       ┆       ┆       ┆       ┆       ┆       │\n",
       "╞════════╪════════╪════════╪═══════╪═══════╪═══════╪═══════╪═══════╪═══════╪═══════╪═══════╪═══════╡\n",
       "│ 2024-1 ┆ None   ┆        ┆ 2024- ┆ bikes ┆ fc31f ┆       ┆ file: ┆ READY ┆       ┆       ┆ 3     │\n",
       "│ 2-09   ┆        ┆        ┆ 12-09 ┆       ┆ 5b645 ┆       ┆ ///ho ┆       ┆       ┆       ┆       │\n",
       "│ 21:25: ┆        ┆        ┆ 21:25 ┆       ┆ 204fd ┆       ┆ me/fm ┆       ┆       ┆       ┆       │\n",
       "│ 59.981 ┆        ┆        ┆ :59.9 ┆       ┆ d9ef5 ┆       ┆ ind/m ┆       ┆       ┆       ┆       │\n",
       "│        ┆        ┆        ┆ 81    ┆       ┆ 8fbbc ┆       ┆ lops- ┆       ┆       ┆       ┆       │\n",
       "│        ┆        ┆        ┆       ┆       ┆ 0c105 ┆       ┆ pytho ┆       ┆       ┆       ┆       │\n",
       "│        ┆        ┆        ┆       ┆       ┆ …     ┆       ┆ …     ┆       ┆       ┆       ┆       │\n",
       "│ 2024-1 ┆ None   ┆        ┆ 2024- ┆ bikes ┆ abad3 ┆       ┆ file: ┆ READY ┆       ┆       ┆ 2     │\n",
       "│ 2-09   ┆        ┆        ┆ 12-09 ┆       ┆ 4d51a ┆       ┆ ///ho ┆       ┆       ┆       ┆       │\n",
       "│ 20:15: ┆        ┆        ┆ 20:15 ┆       ┆ 2a4cf ┆       ┆ me/fm ┆       ┆       ┆       ┆       │\n",
       "│ 47.252 ┆        ┆        ┆ :47.2 ┆       ┆ fa328 ┆       ┆ ind/m ┆       ┆       ┆       ┆       │\n",
       "│        ┆        ┆        ┆ 52    ┆       ┆ 13654 ┆       ┆ lops- ┆       ┆       ┆       ┆       │\n",
       "│        ┆        ┆        ┆       ┆       ┆ 0b455 ┆       ┆ pytho ┆       ┆       ┆       ┆       │\n",
       "│        ┆        ┆        ┆       ┆       ┆ …     ┆       ┆ …     ┆       ┆       ┆       ┆       │\n",
       "│ 2024-1 ┆ None   ┆        ┆ 2024- ┆ bikes ┆ ca4c7 ┆       ┆ file: ┆ READY ┆       ┆       ┆ 1     │\n",
       "│ 2-09   ┆        ┆        ┆ 12-09 ┆       ┆ 550ad ┆       ┆ ///ho ┆       ┆       ┆       ┆       │\n",
       "│ 19:33: ┆        ┆        ┆ 19:33 ┆       ┆ 354be ┆       ┆ me/fm ┆       ┆       ┆       ┆       │\n",
       "│ 09.426 ┆        ┆        ┆ :09.4 ┆       ┆ 9a2f1 ┆       ┆ ind/m ┆       ┆       ┆       ┆       │\n",
       "│        ┆        ┆        ┆ 26    ┆       ┆ 0f7ea ┆       ┆ lops- ┆       ┆       ┆       ┆       │\n",
       "│        ┆        ┆        ┆       ┆       ┆ de8d4 ┆       ┆ pytho ┆       ┆       ┆       ┆       │\n",
       "│        ┆        ┆        ┆       ┆       ┆ …     ┆       ┆ …     ┆       ┆       ┆       ┆       │\n",
       "└────────┴────────┴────────┴───────┴───────┴───────┴───────┴───────┴───────┴───────┴───────┴───────┘"
      ]
     },
     "execution_count": 8,
     "metadata": {},
     "output_type": "execute_result"
    }
   ],
   "source": [
    "versions_ = client.search_model_versions(\n",
    "    max_results=MAX_RESULTS, order_by=[\"creation_timestamp DESC\"]\n",
    ")\n",
    "versions = []\n",
    "for version in versions_:\n",
    "    version = dict(version)\n",
    "    version.pop(\"aliases\")\n",
    "    versions.append(version)\n",
    "versions = (\n",
    "    pl.DataFrame(versions)\n",
    "    .with_columns(\n",
    "        pl.from_epoch(\"creation_timestamp\", time_unit=\"ms\"),\n",
    "        pl.from_epoch(\"last_updated_timestamp\", time_unit=\"ms\"),\n",
    "    )\n",
    "    .drop(\"tags\")\n",
    ")\n",
    "versions"
   ]
  },
  {
   "cell_type": "markdown",
   "metadata": {},
   "source": [
    "# DASHBOARDS"
   ]
  },
  {
   "cell_type": "code",
   "execution_count": 9,
   "metadata": {},
   "outputs": [
    {
     "data": {
      "application/vnd.plotly.v1+json": {
       "config": {
        "plotlyServerURL": "https://plot.ly"
       },
       "data": [
        {
         "alignmentgroup": "True",
         "boxpoints": "all",
         "customdata": [
          [
           "file:///home/fmind/mlops-python-package/mlruns/892046783494697990",
           "892046783494697990",
           "2024-12-09T19:31:02.967000",
           "active",
           "bikes"
          ]
         ],
         "fillcolor": "rgba(255,255,255,0)",
         "hoveron": "points",
         "hovertemplate": "<b>%{hovertext}</b><br><br>lifecycle_stage=%{customdata[3]}<br>creation_time=%{x}<br>artifact_location=%{customdata[0]}<br>experiment_id=%{customdata[1]}<br>last_update_time=%{customdata[2]}<br>name=%{customdata[4]}<extra></extra>",
         "hovertext": [
          "bikes"
         ],
         "legendgroup": "active",
         "line": {
          "color": "rgba(255,255,255,0)"
         },
         "marker": {
          "color": "#636efa"
         },
         "name": "active",
         "offsetgroup": "active",
         "orientation": "h",
         "pointpos": 0,
         "showlegend": true,
         "type": "box",
         "x": [
          "2024-12-09T19:31:02.967000"
         ],
         "x0": " ",
         "xaxis": "x",
         "y0": " ",
         "yaxis": "y"
        }
       ],
       "layout": {
        "boxmode": "group",
        "legend": {
         "title": {
          "text": "lifecycle_stage"
         },
         "tracegroupgap": 0
        },
        "template": {
         "data": {
          "bar": [
           {
            "error_x": {
             "color": "#2a3f5f"
            },
            "error_y": {
             "color": "#2a3f5f"
            },
            "marker": {
             "line": {
              "color": "#E5ECF6",
              "width": 0.5
             },
             "pattern": {
              "fillmode": "overlay",
              "size": 10,
              "solidity": 0.2
             }
            },
            "type": "bar"
           }
          ],
          "barpolar": [
           {
            "marker": {
             "line": {
              "color": "#E5ECF6",
              "width": 0.5
             },
             "pattern": {
              "fillmode": "overlay",
              "size": 10,
              "solidity": 0.2
             }
            },
            "type": "barpolar"
           }
          ],
          "carpet": [
           {
            "aaxis": {
             "endlinecolor": "#2a3f5f",
             "gridcolor": "white",
             "linecolor": "white",
             "minorgridcolor": "white",
             "startlinecolor": "#2a3f5f"
            },
            "baxis": {
             "endlinecolor": "#2a3f5f",
             "gridcolor": "white",
             "linecolor": "white",
             "minorgridcolor": "white",
             "startlinecolor": "#2a3f5f"
            },
            "type": "carpet"
           }
          ],
          "choropleth": [
           {
            "colorbar": {
             "outlinewidth": 0,
             "ticks": ""
            },
            "type": "choropleth"
           }
          ],
          "contour": [
           {
            "colorbar": {
             "outlinewidth": 0,
             "ticks": ""
            },
            "colorscale": [
             [
              0,
              "#0d0887"
             ],
             [
              0.1111111111111111,
              "#46039f"
             ],
             [
              0.2222222222222222,
              "#7201a8"
             ],
             [
              0.3333333333333333,
              "#9c179e"
             ],
             [
              0.4444444444444444,
              "#bd3786"
             ],
             [
              0.5555555555555556,
              "#d8576b"
             ],
             [
              0.6666666666666666,
              "#ed7953"
             ],
             [
              0.7777777777777778,
              "#fb9f3a"
             ],
             [
              0.8888888888888888,
              "#fdca26"
             ],
             [
              1,
              "#f0f921"
             ]
            ],
            "type": "contour"
           }
          ],
          "contourcarpet": [
           {
            "colorbar": {
             "outlinewidth": 0,
             "ticks": ""
            },
            "type": "contourcarpet"
           }
          ],
          "heatmap": [
           {
            "colorbar": {
             "outlinewidth": 0,
             "ticks": ""
            },
            "colorscale": [
             [
              0,
              "#0d0887"
             ],
             [
              0.1111111111111111,
              "#46039f"
             ],
             [
              0.2222222222222222,
              "#7201a8"
             ],
             [
              0.3333333333333333,
              "#9c179e"
             ],
             [
              0.4444444444444444,
              "#bd3786"
             ],
             [
              0.5555555555555556,
              "#d8576b"
             ],
             [
              0.6666666666666666,
              "#ed7953"
             ],
             [
              0.7777777777777778,
              "#fb9f3a"
             ],
             [
              0.8888888888888888,
              "#fdca26"
             ],
             [
              1,
              "#f0f921"
             ]
            ],
            "type": "heatmap"
           }
          ],
          "heatmapgl": [
           {
            "colorbar": {
             "outlinewidth": 0,
             "ticks": ""
            },
            "colorscale": [
             [
              0,
              "#0d0887"
             ],
             [
              0.1111111111111111,
              "#46039f"
             ],
             [
              0.2222222222222222,
              "#7201a8"
             ],
             [
              0.3333333333333333,
              "#9c179e"
             ],
             [
              0.4444444444444444,
              "#bd3786"
             ],
             [
              0.5555555555555556,
              "#d8576b"
             ],
             [
              0.6666666666666666,
              "#ed7953"
             ],
             [
              0.7777777777777778,
              "#fb9f3a"
             ],
             [
              0.8888888888888888,
              "#fdca26"
             ],
             [
              1,
              "#f0f921"
             ]
            ],
            "type": "heatmapgl"
           }
          ],
          "histogram": [
           {
            "marker": {
             "pattern": {
              "fillmode": "overlay",
              "size": 10,
              "solidity": 0.2
             }
            },
            "type": "histogram"
           }
          ],
          "histogram2d": [
           {
            "colorbar": {
             "outlinewidth": 0,
             "ticks": ""
            },
            "colorscale": [
             [
              0,
              "#0d0887"
             ],
             [
              0.1111111111111111,
              "#46039f"
             ],
             [
              0.2222222222222222,
              "#7201a8"
             ],
             [
              0.3333333333333333,
              "#9c179e"
             ],
             [
              0.4444444444444444,
              "#bd3786"
             ],
             [
              0.5555555555555556,
              "#d8576b"
             ],
             [
              0.6666666666666666,
              "#ed7953"
             ],
             [
              0.7777777777777778,
              "#fb9f3a"
             ],
             [
              0.8888888888888888,
              "#fdca26"
             ],
             [
              1,
              "#f0f921"
             ]
            ],
            "type": "histogram2d"
           }
          ],
          "histogram2dcontour": [
           {
            "colorbar": {
             "outlinewidth": 0,
             "ticks": ""
            },
            "colorscale": [
             [
              0,
              "#0d0887"
             ],
             [
              0.1111111111111111,
              "#46039f"
             ],
             [
              0.2222222222222222,
              "#7201a8"
             ],
             [
              0.3333333333333333,
              "#9c179e"
             ],
             [
              0.4444444444444444,
              "#bd3786"
             ],
             [
              0.5555555555555556,
              "#d8576b"
             ],
             [
              0.6666666666666666,
              "#ed7953"
             ],
             [
              0.7777777777777778,
              "#fb9f3a"
             ],
             [
              0.8888888888888888,
              "#fdca26"
             ],
             [
              1,
              "#f0f921"
             ]
            ],
            "type": "histogram2dcontour"
           }
          ],
          "mesh3d": [
           {
            "colorbar": {
             "outlinewidth": 0,
             "ticks": ""
            },
            "type": "mesh3d"
           }
          ],
          "parcoords": [
           {
            "line": {
             "colorbar": {
              "outlinewidth": 0,
              "ticks": ""
             }
            },
            "type": "parcoords"
           }
          ],
          "pie": [
           {
            "automargin": true,
            "type": "pie"
           }
          ],
          "scatter": [
           {
            "fillpattern": {
             "fillmode": "overlay",
             "size": 10,
             "solidity": 0.2
            },
            "type": "scatter"
           }
          ],
          "scatter3d": [
           {
            "line": {
             "colorbar": {
              "outlinewidth": 0,
              "ticks": ""
             }
            },
            "marker": {
             "colorbar": {
              "outlinewidth": 0,
              "ticks": ""
             }
            },
            "type": "scatter3d"
           }
          ],
          "scattercarpet": [
           {
            "marker": {
             "colorbar": {
              "outlinewidth": 0,
              "ticks": ""
             }
            },
            "type": "scattercarpet"
           }
          ],
          "scattergeo": [
           {
            "marker": {
             "colorbar": {
              "outlinewidth": 0,
              "ticks": ""
             }
            },
            "type": "scattergeo"
           }
          ],
          "scattergl": [
           {
            "marker": {
             "colorbar": {
              "outlinewidth": 0,
              "ticks": ""
             }
            },
            "type": "scattergl"
           }
          ],
          "scattermapbox": [
           {
            "marker": {
             "colorbar": {
              "outlinewidth": 0,
              "ticks": ""
             }
            },
            "type": "scattermapbox"
           }
          ],
          "scatterpolar": [
           {
            "marker": {
             "colorbar": {
              "outlinewidth": 0,
              "ticks": ""
             }
            },
            "type": "scatterpolar"
           }
          ],
          "scatterpolargl": [
           {
            "marker": {
             "colorbar": {
              "outlinewidth": 0,
              "ticks": ""
             }
            },
            "type": "scatterpolargl"
           }
          ],
          "scatterternary": [
           {
            "marker": {
             "colorbar": {
              "outlinewidth": 0,
              "ticks": ""
             }
            },
            "type": "scatterternary"
           }
          ],
          "surface": [
           {
            "colorbar": {
             "outlinewidth": 0,
             "ticks": ""
            },
            "colorscale": [
             [
              0,
              "#0d0887"
             ],
             [
              0.1111111111111111,
              "#46039f"
             ],
             [
              0.2222222222222222,
              "#7201a8"
             ],
             [
              0.3333333333333333,
              "#9c179e"
             ],
             [
              0.4444444444444444,
              "#bd3786"
             ],
             [
              0.5555555555555556,
              "#d8576b"
             ],
             [
              0.6666666666666666,
              "#ed7953"
             ],
             [
              0.7777777777777778,
              "#fb9f3a"
             ],
             [
              0.8888888888888888,
              "#fdca26"
             ],
             [
              1,
              "#f0f921"
             ]
            ],
            "type": "surface"
           }
          ],
          "table": [
           {
            "cells": {
             "fill": {
              "color": "#EBF0F8"
             },
             "line": {
              "color": "white"
             }
            },
            "header": {
             "fill": {
              "color": "#C8D4E3"
             },
             "line": {
              "color": "white"
             }
            },
            "type": "table"
           }
          ]
         },
         "layout": {
          "annotationdefaults": {
           "arrowcolor": "#2a3f5f",
           "arrowhead": 0,
           "arrowwidth": 1
          },
          "autotypenumbers": "strict",
          "coloraxis": {
           "colorbar": {
            "outlinewidth": 0,
            "ticks": ""
           }
          },
          "colorscale": {
           "diverging": [
            [
             0,
             "#8e0152"
            ],
            [
             0.1,
             "#c51b7d"
            ],
            [
             0.2,
             "#de77ae"
            ],
            [
             0.3,
             "#f1b6da"
            ],
            [
             0.4,
             "#fde0ef"
            ],
            [
             0.5,
             "#f7f7f7"
            ],
            [
             0.6,
             "#e6f5d0"
            ],
            [
             0.7,
             "#b8e186"
            ],
            [
             0.8,
             "#7fbc41"
            ],
            [
             0.9,
             "#4d9221"
            ],
            [
             1,
             "#276419"
            ]
           ],
           "sequential": [
            [
             0,
             "#0d0887"
            ],
            [
             0.1111111111111111,
             "#46039f"
            ],
            [
             0.2222222222222222,
             "#7201a8"
            ],
            [
             0.3333333333333333,
             "#9c179e"
            ],
            [
             0.4444444444444444,
             "#bd3786"
            ],
            [
             0.5555555555555556,
             "#d8576b"
            ],
            [
             0.6666666666666666,
             "#ed7953"
            ],
            [
             0.7777777777777778,
             "#fb9f3a"
            ],
            [
             0.8888888888888888,
             "#fdca26"
            ],
            [
             1,
             "#f0f921"
            ]
           ],
           "sequentialminus": [
            [
             0,
             "#0d0887"
            ],
            [
             0.1111111111111111,
             "#46039f"
            ],
            [
             0.2222222222222222,
             "#7201a8"
            ],
            [
             0.3333333333333333,
             "#9c179e"
            ],
            [
             0.4444444444444444,
             "#bd3786"
            ],
            [
             0.5555555555555556,
             "#d8576b"
            ],
            [
             0.6666666666666666,
             "#ed7953"
            ],
            [
             0.7777777777777778,
             "#fb9f3a"
            ],
            [
             0.8888888888888888,
             "#fdca26"
            ],
            [
             1,
             "#f0f921"
            ]
           ]
          },
          "colorway": [
           "#636efa",
           "#EF553B",
           "#00cc96",
           "#ab63fa",
           "#FFA15A",
           "#19d3f3",
           "#FF6692",
           "#B6E880",
           "#FF97FF",
           "#FECB52"
          ],
          "font": {
           "color": "#2a3f5f"
          },
          "geo": {
           "bgcolor": "white",
           "lakecolor": "white",
           "landcolor": "#E5ECF6",
           "showlakes": true,
           "showland": true,
           "subunitcolor": "white"
          },
          "hoverlabel": {
           "align": "left"
          },
          "hovermode": "closest",
          "mapbox": {
           "style": "light"
          },
          "paper_bgcolor": "white",
          "plot_bgcolor": "#E5ECF6",
          "polar": {
           "angularaxis": {
            "gridcolor": "white",
            "linecolor": "white",
            "ticks": ""
           },
           "bgcolor": "#E5ECF6",
           "radialaxis": {
            "gridcolor": "white",
            "linecolor": "white",
            "ticks": ""
           }
          },
          "scene": {
           "xaxis": {
            "backgroundcolor": "#E5ECF6",
            "gridcolor": "white",
            "gridwidth": 2,
            "linecolor": "white",
            "showbackground": true,
            "ticks": "",
            "zerolinecolor": "white"
           },
           "yaxis": {
            "backgroundcolor": "#E5ECF6",
            "gridcolor": "white",
            "gridwidth": 2,
            "linecolor": "white",
            "showbackground": true,
            "ticks": "",
            "zerolinecolor": "white"
           },
           "zaxis": {
            "backgroundcolor": "#E5ECF6",
            "gridcolor": "white",
            "gridwidth": 2,
            "linecolor": "white",
            "showbackground": true,
            "ticks": "",
            "zerolinecolor": "white"
           }
          },
          "shapedefaults": {
           "line": {
            "color": "#2a3f5f"
           }
          },
          "ternary": {
           "aaxis": {
            "gridcolor": "white",
            "linecolor": "white",
            "ticks": ""
           },
           "baxis": {
            "gridcolor": "white",
            "linecolor": "white",
            "ticks": ""
           },
           "bgcolor": "#E5ECF6",
           "caxis": {
            "gridcolor": "white",
            "linecolor": "white",
            "ticks": ""
           }
          },
          "title": {
           "x": 0.05
          },
          "xaxis": {
           "automargin": true,
           "gridcolor": "white",
           "linecolor": "white",
           "ticks": "",
           "title": {
            "standoff": 15
           },
           "zerolinecolor": "white",
           "zerolinewidth": 2
          },
          "yaxis": {
           "automargin": true,
           "gridcolor": "white",
           "linecolor": "white",
           "ticks": "",
           "title": {
            "standoff": 15
           },
           "zerolinecolor": "white",
           "zerolinewidth": 2
          }
         }
        },
        "title": {
         "text": "Experiment Creation Time"
        },
        "xaxis": {
         "anchor": "y",
         "domain": [
          0,
          1
         ],
         "title": {
          "text": "creation_time"
         }
        },
        "yaxis": {
         "anchor": "x",
         "domain": [
          0,
          1
         ]
        }
       }
      }
     },
     "metadata": {},
     "output_type": "display_data"
    }
   ],
   "source": [
    "px.strip(\n",
    "    experiments,\n",
    "    x=\"creation_time\",\n",
    "    color=\"lifecycle_stage\",\n",
    "    hover_name=\"name\",\n",
    "    hover_data=experiments.columns,\n",
    "    title=\"Experiment Creation Time\",\n",
    ")"
   ]
  },
  {
   "cell_type": "code",
   "execution_count": 10,
   "metadata": {},
   "outputs": [
    {
     "data": {
      "application/vnd.plotly.v1+json": {
       "config": {
        "plotlyServerURL": "https://plot.ly"
       },
       "data": [
        {
         "alignmentgroup": "True",
         "boxpoints": "all",
         "customdata": [
          [
           "",
           "2024-12-09T21:26:06.439000",
           "bikes"
          ]
         ],
         "fillcolor": "rgba(255,255,255,0)",
         "hoveron": "points",
         "hovertemplate": "<b>%{hovertext}</b><br><br>creation_timestamp=%{x}<br>description=%{customdata[0]}<br>last_updated_timestamp=%{customdata[1]}<br>name=%{customdata[2]}<extra></extra>",
         "hovertext": [
          "bikes"
         ],
         "legendgroup": "",
         "line": {
          "color": "rgba(255,255,255,0)"
         },
         "marker": {
          "color": "#636efa"
         },
         "name": "",
         "offsetgroup": "",
         "orientation": "h",
         "pointpos": 0,
         "showlegend": false,
         "type": "box",
         "x": [
          "2024-12-09T19:33:09.416000"
         ],
         "x0": " ",
         "xaxis": "x",
         "y0": " ",
         "yaxis": "y"
        }
       ],
       "layout": {
        "boxmode": "group",
        "legend": {
         "tracegroupgap": 0
        },
        "template": {
         "data": {
          "bar": [
           {
            "error_x": {
             "color": "#2a3f5f"
            },
            "error_y": {
             "color": "#2a3f5f"
            },
            "marker": {
             "line": {
              "color": "#E5ECF6",
              "width": 0.5
             },
             "pattern": {
              "fillmode": "overlay",
              "size": 10,
              "solidity": 0.2
             }
            },
            "type": "bar"
           }
          ],
          "barpolar": [
           {
            "marker": {
             "line": {
              "color": "#E5ECF6",
              "width": 0.5
             },
             "pattern": {
              "fillmode": "overlay",
              "size": 10,
              "solidity": 0.2
             }
            },
            "type": "barpolar"
           }
          ],
          "carpet": [
           {
            "aaxis": {
             "endlinecolor": "#2a3f5f",
             "gridcolor": "white",
             "linecolor": "white",
             "minorgridcolor": "white",
             "startlinecolor": "#2a3f5f"
            },
            "baxis": {
             "endlinecolor": "#2a3f5f",
             "gridcolor": "white",
             "linecolor": "white",
             "minorgridcolor": "white",
             "startlinecolor": "#2a3f5f"
            },
            "type": "carpet"
           }
          ],
          "choropleth": [
           {
            "colorbar": {
             "outlinewidth": 0,
             "ticks": ""
            },
            "type": "choropleth"
           }
          ],
          "contour": [
           {
            "colorbar": {
             "outlinewidth": 0,
             "ticks": ""
            },
            "colorscale": [
             [
              0,
              "#0d0887"
             ],
             [
              0.1111111111111111,
              "#46039f"
             ],
             [
              0.2222222222222222,
              "#7201a8"
             ],
             [
              0.3333333333333333,
              "#9c179e"
             ],
             [
              0.4444444444444444,
              "#bd3786"
             ],
             [
              0.5555555555555556,
              "#d8576b"
             ],
             [
              0.6666666666666666,
              "#ed7953"
             ],
             [
              0.7777777777777778,
              "#fb9f3a"
             ],
             [
              0.8888888888888888,
              "#fdca26"
             ],
             [
              1,
              "#f0f921"
             ]
            ],
            "type": "contour"
           }
          ],
          "contourcarpet": [
           {
            "colorbar": {
             "outlinewidth": 0,
             "ticks": ""
            },
            "type": "contourcarpet"
           }
          ],
          "heatmap": [
           {
            "colorbar": {
             "outlinewidth": 0,
             "ticks": ""
            },
            "colorscale": [
             [
              0,
              "#0d0887"
             ],
             [
              0.1111111111111111,
              "#46039f"
             ],
             [
              0.2222222222222222,
              "#7201a8"
             ],
             [
              0.3333333333333333,
              "#9c179e"
             ],
             [
              0.4444444444444444,
              "#bd3786"
             ],
             [
              0.5555555555555556,
              "#d8576b"
             ],
             [
              0.6666666666666666,
              "#ed7953"
             ],
             [
              0.7777777777777778,
              "#fb9f3a"
             ],
             [
              0.8888888888888888,
              "#fdca26"
             ],
             [
              1,
              "#f0f921"
             ]
            ],
            "type": "heatmap"
           }
          ],
          "heatmapgl": [
           {
            "colorbar": {
             "outlinewidth": 0,
             "ticks": ""
            },
            "colorscale": [
             [
              0,
              "#0d0887"
             ],
             [
              0.1111111111111111,
              "#46039f"
             ],
             [
              0.2222222222222222,
              "#7201a8"
             ],
             [
              0.3333333333333333,
              "#9c179e"
             ],
             [
              0.4444444444444444,
              "#bd3786"
             ],
             [
              0.5555555555555556,
              "#d8576b"
             ],
             [
              0.6666666666666666,
              "#ed7953"
             ],
             [
              0.7777777777777778,
              "#fb9f3a"
             ],
             [
              0.8888888888888888,
              "#fdca26"
             ],
             [
              1,
              "#f0f921"
             ]
            ],
            "type": "heatmapgl"
           }
          ],
          "histogram": [
           {
            "marker": {
             "pattern": {
              "fillmode": "overlay",
              "size": 10,
              "solidity": 0.2
             }
            },
            "type": "histogram"
           }
          ],
          "histogram2d": [
           {
            "colorbar": {
             "outlinewidth": 0,
             "ticks": ""
            },
            "colorscale": [
             [
              0,
              "#0d0887"
             ],
             [
              0.1111111111111111,
              "#46039f"
             ],
             [
              0.2222222222222222,
              "#7201a8"
             ],
             [
              0.3333333333333333,
              "#9c179e"
             ],
             [
              0.4444444444444444,
              "#bd3786"
             ],
             [
              0.5555555555555556,
              "#d8576b"
             ],
             [
              0.6666666666666666,
              "#ed7953"
             ],
             [
              0.7777777777777778,
              "#fb9f3a"
             ],
             [
              0.8888888888888888,
              "#fdca26"
             ],
             [
              1,
              "#f0f921"
             ]
            ],
            "type": "histogram2d"
           }
          ],
          "histogram2dcontour": [
           {
            "colorbar": {
             "outlinewidth": 0,
             "ticks": ""
            },
            "colorscale": [
             [
              0,
              "#0d0887"
             ],
             [
              0.1111111111111111,
              "#46039f"
             ],
             [
              0.2222222222222222,
              "#7201a8"
             ],
             [
              0.3333333333333333,
              "#9c179e"
             ],
             [
              0.4444444444444444,
              "#bd3786"
             ],
             [
              0.5555555555555556,
              "#d8576b"
             ],
             [
              0.6666666666666666,
              "#ed7953"
             ],
             [
              0.7777777777777778,
              "#fb9f3a"
             ],
             [
              0.8888888888888888,
              "#fdca26"
             ],
             [
              1,
              "#f0f921"
             ]
            ],
            "type": "histogram2dcontour"
           }
          ],
          "mesh3d": [
           {
            "colorbar": {
             "outlinewidth": 0,
             "ticks": ""
            },
            "type": "mesh3d"
           }
          ],
          "parcoords": [
           {
            "line": {
             "colorbar": {
              "outlinewidth": 0,
              "ticks": ""
             }
            },
            "type": "parcoords"
           }
          ],
          "pie": [
           {
            "automargin": true,
            "type": "pie"
           }
          ],
          "scatter": [
           {
            "fillpattern": {
             "fillmode": "overlay",
             "size": 10,
             "solidity": 0.2
            },
            "type": "scatter"
           }
          ],
          "scatter3d": [
           {
            "line": {
             "colorbar": {
              "outlinewidth": 0,
              "ticks": ""
             }
            },
            "marker": {
             "colorbar": {
              "outlinewidth": 0,
              "ticks": ""
             }
            },
            "type": "scatter3d"
           }
          ],
          "scattercarpet": [
           {
            "marker": {
             "colorbar": {
              "outlinewidth": 0,
              "ticks": ""
             }
            },
            "type": "scattercarpet"
           }
          ],
          "scattergeo": [
           {
            "marker": {
             "colorbar": {
              "outlinewidth": 0,
              "ticks": ""
             }
            },
            "type": "scattergeo"
           }
          ],
          "scattergl": [
           {
            "marker": {
             "colorbar": {
              "outlinewidth": 0,
              "ticks": ""
             }
            },
            "type": "scattergl"
           }
          ],
          "scattermapbox": [
           {
            "marker": {
             "colorbar": {
              "outlinewidth": 0,
              "ticks": ""
             }
            },
            "type": "scattermapbox"
           }
          ],
          "scatterpolar": [
           {
            "marker": {
             "colorbar": {
              "outlinewidth": 0,
              "ticks": ""
             }
            },
            "type": "scatterpolar"
           }
          ],
          "scatterpolargl": [
           {
            "marker": {
             "colorbar": {
              "outlinewidth": 0,
              "ticks": ""
             }
            },
            "type": "scatterpolargl"
           }
          ],
          "scatterternary": [
           {
            "marker": {
             "colorbar": {
              "outlinewidth": 0,
              "ticks": ""
             }
            },
            "type": "scatterternary"
           }
          ],
          "surface": [
           {
            "colorbar": {
             "outlinewidth": 0,
             "ticks": ""
            },
            "colorscale": [
             [
              0,
              "#0d0887"
             ],
             [
              0.1111111111111111,
              "#46039f"
             ],
             [
              0.2222222222222222,
              "#7201a8"
             ],
             [
              0.3333333333333333,
              "#9c179e"
             ],
             [
              0.4444444444444444,
              "#bd3786"
             ],
             [
              0.5555555555555556,
              "#d8576b"
             ],
             [
              0.6666666666666666,
              "#ed7953"
             ],
             [
              0.7777777777777778,
              "#fb9f3a"
             ],
             [
              0.8888888888888888,
              "#fdca26"
             ],
             [
              1,
              "#f0f921"
             ]
            ],
            "type": "surface"
           }
          ],
          "table": [
           {
            "cells": {
             "fill": {
              "color": "#EBF0F8"
             },
             "line": {
              "color": "white"
             }
            },
            "header": {
             "fill": {
              "color": "#C8D4E3"
             },
             "line": {
              "color": "white"
             }
            },
            "type": "table"
           }
          ]
         },
         "layout": {
          "annotationdefaults": {
           "arrowcolor": "#2a3f5f",
           "arrowhead": 0,
           "arrowwidth": 1
          },
          "autotypenumbers": "strict",
          "coloraxis": {
           "colorbar": {
            "outlinewidth": 0,
            "ticks": ""
           }
          },
          "colorscale": {
           "diverging": [
            [
             0,
             "#8e0152"
            ],
            [
             0.1,
             "#c51b7d"
            ],
            [
             0.2,
             "#de77ae"
            ],
            [
             0.3,
             "#f1b6da"
            ],
            [
             0.4,
             "#fde0ef"
            ],
            [
             0.5,
             "#f7f7f7"
            ],
            [
             0.6,
             "#e6f5d0"
            ],
            [
             0.7,
             "#b8e186"
            ],
            [
             0.8,
             "#7fbc41"
            ],
            [
             0.9,
             "#4d9221"
            ],
            [
             1,
             "#276419"
            ]
           ],
           "sequential": [
            [
             0,
             "#0d0887"
            ],
            [
             0.1111111111111111,
             "#46039f"
            ],
            [
             0.2222222222222222,
             "#7201a8"
            ],
            [
             0.3333333333333333,
             "#9c179e"
            ],
            [
             0.4444444444444444,
             "#bd3786"
            ],
            [
             0.5555555555555556,
             "#d8576b"
            ],
            [
             0.6666666666666666,
             "#ed7953"
            ],
            [
             0.7777777777777778,
             "#fb9f3a"
            ],
            [
             0.8888888888888888,
             "#fdca26"
            ],
            [
             1,
             "#f0f921"
            ]
           ],
           "sequentialminus": [
            [
             0,
             "#0d0887"
            ],
            [
             0.1111111111111111,
             "#46039f"
            ],
            [
             0.2222222222222222,
             "#7201a8"
            ],
            [
             0.3333333333333333,
             "#9c179e"
            ],
            [
             0.4444444444444444,
             "#bd3786"
            ],
            [
             0.5555555555555556,
             "#d8576b"
            ],
            [
             0.6666666666666666,
             "#ed7953"
            ],
            [
             0.7777777777777778,
             "#fb9f3a"
            ],
            [
             0.8888888888888888,
             "#fdca26"
            ],
            [
             1,
             "#f0f921"
            ]
           ]
          },
          "colorway": [
           "#636efa",
           "#EF553B",
           "#00cc96",
           "#ab63fa",
           "#FFA15A",
           "#19d3f3",
           "#FF6692",
           "#B6E880",
           "#FF97FF",
           "#FECB52"
          ],
          "font": {
           "color": "#2a3f5f"
          },
          "geo": {
           "bgcolor": "white",
           "lakecolor": "white",
           "landcolor": "#E5ECF6",
           "showlakes": true,
           "showland": true,
           "subunitcolor": "white"
          },
          "hoverlabel": {
           "align": "left"
          },
          "hovermode": "closest",
          "mapbox": {
           "style": "light"
          },
          "paper_bgcolor": "white",
          "plot_bgcolor": "#E5ECF6",
          "polar": {
           "angularaxis": {
            "gridcolor": "white",
            "linecolor": "white",
            "ticks": ""
           },
           "bgcolor": "#E5ECF6",
           "radialaxis": {
            "gridcolor": "white",
            "linecolor": "white",
            "ticks": ""
           }
          },
          "scene": {
           "xaxis": {
            "backgroundcolor": "#E5ECF6",
            "gridcolor": "white",
            "gridwidth": 2,
            "linecolor": "white",
            "showbackground": true,
            "ticks": "",
            "zerolinecolor": "white"
           },
           "yaxis": {
            "backgroundcolor": "#E5ECF6",
            "gridcolor": "white",
            "gridwidth": 2,
            "linecolor": "white",
            "showbackground": true,
            "ticks": "",
            "zerolinecolor": "white"
           },
           "zaxis": {
            "backgroundcolor": "#E5ECF6",
            "gridcolor": "white",
            "gridwidth": 2,
            "linecolor": "white",
            "showbackground": true,
            "ticks": "",
            "zerolinecolor": "white"
           }
          },
          "shapedefaults": {
           "line": {
            "color": "#2a3f5f"
           }
          },
          "ternary": {
           "aaxis": {
            "gridcolor": "white",
            "linecolor": "white",
            "ticks": ""
           },
           "baxis": {
            "gridcolor": "white",
            "linecolor": "white",
            "ticks": ""
           },
           "bgcolor": "#E5ECF6",
           "caxis": {
            "gridcolor": "white",
            "linecolor": "white",
            "ticks": ""
           }
          },
          "title": {
           "x": 0.05
          },
          "xaxis": {
           "automargin": true,
           "gridcolor": "white",
           "linecolor": "white",
           "ticks": "",
           "title": {
            "standoff": 15
           },
           "zerolinecolor": "white",
           "zerolinewidth": 2
          },
          "yaxis": {
           "automargin": true,
           "gridcolor": "white",
           "linecolor": "white",
           "ticks": "",
           "title": {
            "standoff": 15
           },
           "zerolinecolor": "white",
           "zerolinewidth": 2
          }
         }
        },
        "title": {
         "text": "Model Creation Timestamp"
        },
        "xaxis": {
         "anchor": "y",
         "domain": [
          0,
          1
         ],
         "title": {
          "text": "creation_timestamp"
         }
        },
        "yaxis": {
         "anchor": "x",
         "domain": [
          0,
          1
         ]
        }
       }
      }
     },
     "metadata": {},
     "output_type": "display_data"
    }
   ],
   "source": [
    "px.strip(\n",
    "    models,\n",
    "    x=\"creation_timestamp\",\n",
    "    hover_name=\"name\",\n",
    "    hover_data=models.columns,\n",
    "    title=\"Model Creation Timestamp\",\n",
    ")"
   ]
  },
  {
   "cell_type": "code",
   "execution_count": 11,
   "metadata": {},
   "outputs": [
    {
     "data": {
      "application/vnd.plotly.v1+json": {
       "config": {
        "plotlyServerURL": "https://plot.ly"
       },
       "data": [
        {
         "alignmentgroup": "True",
         "boxpoints": "all",
         "customdata": [
          [
           "",
           "2024-12-09T21:26:06.439000",
           "bikes"
          ]
         ],
         "fillcolor": "rgba(255,255,255,0)",
         "hoveron": "points",
         "hovertemplate": "<b>%{hovertext}</b><br><br>creation_timestamp=%{x}<br>description=%{customdata[0]}<br>last_updated_timestamp=%{customdata[1]}<br>name=%{customdata[2]}<extra></extra>",
         "hovertext": [
          "bikes"
         ],
         "legendgroup": "",
         "line": {
          "color": "rgba(255,255,255,0)"
         },
         "marker": {
          "color": "#636efa"
         },
         "name": "",
         "offsetgroup": "",
         "orientation": "h",
         "pointpos": 0,
         "showlegend": false,
         "type": "box",
         "x": [
          "2024-12-09T19:33:09.416000"
         ],
         "x0": " ",
         "xaxis": "x",
         "y0": " ",
         "yaxis": "y"
        }
       ],
       "layout": {
        "boxmode": "group",
        "legend": {
         "tracegroupgap": 0
        },
        "template": {
         "data": {
          "bar": [
           {
            "error_x": {
             "color": "#2a3f5f"
            },
            "error_y": {
             "color": "#2a3f5f"
            },
            "marker": {
             "line": {
              "color": "#E5ECF6",
              "width": 0.5
             },
             "pattern": {
              "fillmode": "overlay",
              "size": 10,
              "solidity": 0.2
             }
            },
            "type": "bar"
           }
          ],
          "barpolar": [
           {
            "marker": {
             "line": {
              "color": "#E5ECF6",
              "width": 0.5
             },
             "pattern": {
              "fillmode": "overlay",
              "size": 10,
              "solidity": 0.2
             }
            },
            "type": "barpolar"
           }
          ],
          "carpet": [
           {
            "aaxis": {
             "endlinecolor": "#2a3f5f",
             "gridcolor": "white",
             "linecolor": "white",
             "minorgridcolor": "white",
             "startlinecolor": "#2a3f5f"
            },
            "baxis": {
             "endlinecolor": "#2a3f5f",
             "gridcolor": "white",
             "linecolor": "white",
             "minorgridcolor": "white",
             "startlinecolor": "#2a3f5f"
            },
            "type": "carpet"
           }
          ],
          "choropleth": [
           {
            "colorbar": {
             "outlinewidth": 0,
             "ticks": ""
            },
            "type": "choropleth"
           }
          ],
          "contour": [
           {
            "colorbar": {
             "outlinewidth": 0,
             "ticks": ""
            },
            "colorscale": [
             [
              0,
              "#0d0887"
             ],
             [
              0.1111111111111111,
              "#46039f"
             ],
             [
              0.2222222222222222,
              "#7201a8"
             ],
             [
              0.3333333333333333,
              "#9c179e"
             ],
             [
              0.4444444444444444,
              "#bd3786"
             ],
             [
              0.5555555555555556,
              "#d8576b"
             ],
             [
              0.6666666666666666,
              "#ed7953"
             ],
             [
              0.7777777777777778,
              "#fb9f3a"
             ],
             [
              0.8888888888888888,
              "#fdca26"
             ],
             [
              1,
              "#f0f921"
             ]
            ],
            "type": "contour"
           }
          ],
          "contourcarpet": [
           {
            "colorbar": {
             "outlinewidth": 0,
             "ticks": ""
            },
            "type": "contourcarpet"
           }
          ],
          "heatmap": [
           {
            "colorbar": {
             "outlinewidth": 0,
             "ticks": ""
            },
            "colorscale": [
             [
              0,
              "#0d0887"
             ],
             [
              0.1111111111111111,
              "#46039f"
             ],
             [
              0.2222222222222222,
              "#7201a8"
             ],
             [
              0.3333333333333333,
              "#9c179e"
             ],
             [
              0.4444444444444444,
              "#bd3786"
             ],
             [
              0.5555555555555556,
              "#d8576b"
             ],
             [
              0.6666666666666666,
              "#ed7953"
             ],
             [
              0.7777777777777778,
              "#fb9f3a"
             ],
             [
              0.8888888888888888,
              "#fdca26"
             ],
             [
              1,
              "#f0f921"
             ]
            ],
            "type": "heatmap"
           }
          ],
          "heatmapgl": [
           {
            "colorbar": {
             "outlinewidth": 0,
             "ticks": ""
            },
            "colorscale": [
             [
              0,
              "#0d0887"
             ],
             [
              0.1111111111111111,
              "#46039f"
             ],
             [
              0.2222222222222222,
              "#7201a8"
             ],
             [
              0.3333333333333333,
              "#9c179e"
             ],
             [
              0.4444444444444444,
              "#bd3786"
             ],
             [
              0.5555555555555556,
              "#d8576b"
             ],
             [
              0.6666666666666666,
              "#ed7953"
             ],
             [
              0.7777777777777778,
              "#fb9f3a"
             ],
             [
              0.8888888888888888,
              "#fdca26"
             ],
             [
              1,
              "#f0f921"
             ]
            ],
            "type": "heatmapgl"
           }
          ],
          "histogram": [
           {
            "marker": {
             "pattern": {
              "fillmode": "overlay",
              "size": 10,
              "solidity": 0.2
             }
            },
            "type": "histogram"
           }
          ],
          "histogram2d": [
           {
            "colorbar": {
             "outlinewidth": 0,
             "ticks": ""
            },
            "colorscale": [
             [
              0,
              "#0d0887"
             ],
             [
              0.1111111111111111,
              "#46039f"
             ],
             [
              0.2222222222222222,
              "#7201a8"
             ],
             [
              0.3333333333333333,
              "#9c179e"
             ],
             [
              0.4444444444444444,
              "#bd3786"
             ],
             [
              0.5555555555555556,
              "#d8576b"
             ],
             [
              0.6666666666666666,
              "#ed7953"
             ],
             [
              0.7777777777777778,
              "#fb9f3a"
             ],
             [
              0.8888888888888888,
              "#fdca26"
             ],
             [
              1,
              "#f0f921"
             ]
            ],
            "type": "histogram2d"
           }
          ],
          "histogram2dcontour": [
           {
            "colorbar": {
             "outlinewidth": 0,
             "ticks": ""
            },
            "colorscale": [
             [
              0,
              "#0d0887"
             ],
             [
              0.1111111111111111,
              "#46039f"
             ],
             [
              0.2222222222222222,
              "#7201a8"
             ],
             [
              0.3333333333333333,
              "#9c179e"
             ],
             [
              0.4444444444444444,
              "#bd3786"
             ],
             [
              0.5555555555555556,
              "#d8576b"
             ],
             [
              0.6666666666666666,
              "#ed7953"
             ],
             [
              0.7777777777777778,
              "#fb9f3a"
             ],
             [
              0.8888888888888888,
              "#fdca26"
             ],
             [
              1,
              "#f0f921"
             ]
            ],
            "type": "histogram2dcontour"
           }
          ],
          "mesh3d": [
           {
            "colorbar": {
             "outlinewidth": 0,
             "ticks": ""
            },
            "type": "mesh3d"
           }
          ],
          "parcoords": [
           {
            "line": {
             "colorbar": {
              "outlinewidth": 0,
              "ticks": ""
             }
            },
            "type": "parcoords"
           }
          ],
          "pie": [
           {
            "automargin": true,
            "type": "pie"
           }
          ],
          "scatter": [
           {
            "fillpattern": {
             "fillmode": "overlay",
             "size": 10,
             "solidity": 0.2
            },
            "type": "scatter"
           }
          ],
          "scatter3d": [
           {
            "line": {
             "colorbar": {
              "outlinewidth": 0,
              "ticks": ""
             }
            },
            "marker": {
             "colorbar": {
              "outlinewidth": 0,
              "ticks": ""
             }
            },
            "type": "scatter3d"
           }
          ],
          "scattercarpet": [
           {
            "marker": {
             "colorbar": {
              "outlinewidth": 0,
              "ticks": ""
             }
            },
            "type": "scattercarpet"
           }
          ],
          "scattergeo": [
           {
            "marker": {
             "colorbar": {
              "outlinewidth": 0,
              "ticks": ""
             }
            },
            "type": "scattergeo"
           }
          ],
          "scattergl": [
           {
            "marker": {
             "colorbar": {
              "outlinewidth": 0,
              "ticks": ""
             }
            },
            "type": "scattergl"
           }
          ],
          "scattermapbox": [
           {
            "marker": {
             "colorbar": {
              "outlinewidth": 0,
              "ticks": ""
             }
            },
            "type": "scattermapbox"
           }
          ],
          "scatterpolar": [
           {
            "marker": {
             "colorbar": {
              "outlinewidth": 0,
              "ticks": ""
             }
            },
            "type": "scatterpolar"
           }
          ],
          "scatterpolargl": [
           {
            "marker": {
             "colorbar": {
              "outlinewidth": 0,
              "ticks": ""
             }
            },
            "type": "scatterpolargl"
           }
          ],
          "scatterternary": [
           {
            "marker": {
             "colorbar": {
              "outlinewidth": 0,
              "ticks": ""
             }
            },
            "type": "scatterternary"
           }
          ],
          "surface": [
           {
            "colorbar": {
             "outlinewidth": 0,
             "ticks": ""
            },
            "colorscale": [
             [
              0,
              "#0d0887"
             ],
             [
              0.1111111111111111,
              "#46039f"
             ],
             [
              0.2222222222222222,
              "#7201a8"
             ],
             [
              0.3333333333333333,
              "#9c179e"
             ],
             [
              0.4444444444444444,
              "#bd3786"
             ],
             [
              0.5555555555555556,
              "#d8576b"
             ],
             [
              0.6666666666666666,
              "#ed7953"
             ],
             [
              0.7777777777777778,
              "#fb9f3a"
             ],
             [
              0.8888888888888888,
              "#fdca26"
             ],
             [
              1,
              "#f0f921"
             ]
            ],
            "type": "surface"
           }
          ],
          "table": [
           {
            "cells": {
             "fill": {
              "color": "#EBF0F8"
             },
             "line": {
              "color": "white"
             }
            },
            "header": {
             "fill": {
              "color": "#C8D4E3"
             },
             "line": {
              "color": "white"
             }
            },
            "type": "table"
           }
          ]
         },
         "layout": {
          "annotationdefaults": {
           "arrowcolor": "#2a3f5f",
           "arrowhead": 0,
           "arrowwidth": 1
          },
          "autotypenumbers": "strict",
          "coloraxis": {
           "colorbar": {
            "outlinewidth": 0,
            "ticks": ""
           }
          },
          "colorscale": {
           "diverging": [
            [
             0,
             "#8e0152"
            ],
            [
             0.1,
             "#c51b7d"
            ],
            [
             0.2,
             "#de77ae"
            ],
            [
             0.3,
             "#f1b6da"
            ],
            [
             0.4,
             "#fde0ef"
            ],
            [
             0.5,
             "#f7f7f7"
            ],
            [
             0.6,
             "#e6f5d0"
            ],
            [
             0.7,
             "#b8e186"
            ],
            [
             0.8,
             "#7fbc41"
            ],
            [
             0.9,
             "#4d9221"
            ],
            [
             1,
             "#276419"
            ]
           ],
           "sequential": [
            [
             0,
             "#0d0887"
            ],
            [
             0.1111111111111111,
             "#46039f"
            ],
            [
             0.2222222222222222,
             "#7201a8"
            ],
            [
             0.3333333333333333,
             "#9c179e"
            ],
            [
             0.4444444444444444,
             "#bd3786"
            ],
            [
             0.5555555555555556,
             "#d8576b"
            ],
            [
             0.6666666666666666,
             "#ed7953"
            ],
            [
             0.7777777777777778,
             "#fb9f3a"
            ],
            [
             0.8888888888888888,
             "#fdca26"
            ],
            [
             1,
             "#f0f921"
            ]
           ],
           "sequentialminus": [
            [
             0,
             "#0d0887"
            ],
            [
             0.1111111111111111,
             "#46039f"
            ],
            [
             0.2222222222222222,
             "#7201a8"
            ],
            [
             0.3333333333333333,
             "#9c179e"
            ],
            [
             0.4444444444444444,
             "#bd3786"
            ],
            [
             0.5555555555555556,
             "#d8576b"
            ],
            [
             0.6666666666666666,
             "#ed7953"
            ],
            [
             0.7777777777777778,
             "#fb9f3a"
            ],
            [
             0.8888888888888888,
             "#fdca26"
            ],
            [
             1,
             "#f0f921"
            ]
           ]
          },
          "colorway": [
           "#636efa",
           "#EF553B",
           "#00cc96",
           "#ab63fa",
           "#FFA15A",
           "#19d3f3",
           "#FF6692",
           "#B6E880",
           "#FF97FF",
           "#FECB52"
          ],
          "font": {
           "color": "#2a3f5f"
          },
          "geo": {
           "bgcolor": "white",
           "lakecolor": "white",
           "landcolor": "#E5ECF6",
           "showlakes": true,
           "showland": true,
           "subunitcolor": "white"
          },
          "hoverlabel": {
           "align": "left"
          },
          "hovermode": "closest",
          "mapbox": {
           "style": "light"
          },
          "paper_bgcolor": "white",
          "plot_bgcolor": "#E5ECF6",
          "polar": {
           "angularaxis": {
            "gridcolor": "white",
            "linecolor": "white",
            "ticks": ""
           },
           "bgcolor": "#E5ECF6",
           "radialaxis": {
            "gridcolor": "white",
            "linecolor": "white",
            "ticks": ""
           }
          },
          "scene": {
           "xaxis": {
            "backgroundcolor": "#E5ECF6",
            "gridcolor": "white",
            "gridwidth": 2,
            "linecolor": "white",
            "showbackground": true,
            "ticks": "",
            "zerolinecolor": "white"
           },
           "yaxis": {
            "backgroundcolor": "#E5ECF6",
            "gridcolor": "white",
            "gridwidth": 2,
            "linecolor": "white",
            "showbackground": true,
            "ticks": "",
            "zerolinecolor": "white"
           },
           "zaxis": {
            "backgroundcolor": "#E5ECF6",
            "gridcolor": "white",
            "gridwidth": 2,
            "linecolor": "white",
            "showbackground": true,
            "ticks": "",
            "zerolinecolor": "white"
           }
          },
          "shapedefaults": {
           "line": {
            "color": "#2a3f5f"
           }
          },
          "ternary": {
           "aaxis": {
            "gridcolor": "white",
            "linecolor": "white",
            "ticks": ""
           },
           "baxis": {
            "gridcolor": "white",
            "linecolor": "white",
            "ticks": ""
           },
           "bgcolor": "#E5ECF6",
           "caxis": {
            "gridcolor": "white",
            "linecolor": "white",
            "ticks": ""
           }
          },
          "title": {
           "x": 0.05
          },
          "xaxis": {
           "automargin": true,
           "gridcolor": "white",
           "linecolor": "white",
           "ticks": "",
           "title": {
            "standoff": 15
           },
           "zerolinecolor": "white",
           "zerolinewidth": 2
          },
          "yaxis": {
           "automargin": true,
           "gridcolor": "white",
           "linecolor": "white",
           "ticks": "",
           "title": {
            "standoff": 15
           },
           "zerolinecolor": "white",
           "zerolinewidth": 2
          }
         }
        },
        "title": {
         "text": "Model Creation Timestamp"
        },
        "xaxis": {
         "anchor": "y",
         "domain": [
          0,
          1
         ],
         "title": {
          "text": "creation_timestamp"
         }
        },
        "yaxis": {
         "anchor": "x",
         "domain": [
          0,
          1
         ]
        }
       }
      }
     },
     "metadata": {},
     "output_type": "display_data"
    }
   ],
   "source": [
    "px.strip(\n",
    "    models,\n",
    "    x=\"creation_timestamp\",\n",
    "    hover_name=\"name\",\n",
    "    hover_data=models.columns,\n",
    "    title=\"Model Creation Timestamp\",\n",
    ")"
   ]
  },
  {
   "cell_type": "code",
   "execution_count": 12,
   "metadata": {},
   "outputs": [
    {
     "data": {
      "application/vnd.plotly.v1+json": {
       "config": {
        "plotlyServerURL": "https://plot.ly"
       },
       "data": [
        {
         "alignmentgroup": "True",
         "boxpoints": "all",
         "customdata": [
          [
           "None",
           "",
           "2024-12-09T21:25:59.981000",
           "bikes",
           "fc31f5b645204fdd9ef58fbbc0c105eb",
           "",
           "file:///home/fmind/mlops-python-package/mlruns/892046783494697990/fc31f5b645204fdd9ef58fbbc0c105eb/artifacts/model",
           "READY",
           "",
           "",
           "3"
          ],
          [
           "None",
           "",
           "2024-12-09T20:15:47.252000",
           "bikes",
           "abad34d51a2a4cffa328136540b455c0",
           "",
           "file:///home/fmind/mlops-python-package/mlruns/892046783494697990/abad34d51a2a4cffa328136540b455c0/artifacts/model",
           "READY",
           "",
           "",
           "2"
          ],
          [
           "None",
           "",
           "2024-12-09T19:33:09.426000",
           "bikes",
           "ca4c7550ad354be9a2f10f7eade8d47e",
           "",
           "file:///home/fmind/mlops-python-package/mlruns/892046783494697990/ca4c7550ad354be9a2f10f7eade8d47e/artifacts/model",
           "READY",
           "",
           "",
           "1"
          ]
         ],
         "fillcolor": "rgba(255,255,255,0)",
         "hoveron": "points",
         "hovertemplate": "<b>%{hovertext}</b><br><br>name=%{customdata[3]}<br>creation_timestamp=%{x}<br>current_stage=%{customdata[0]}<br>description=%{customdata[1]}<br>last_updated_timestamp=%{customdata[2]}<br>run_id=%{customdata[4]}<br>run_link=%{customdata[5]}<br>source=%{customdata[6]}<br>status=%{customdata[7]}<br>status_message=%{customdata[8]}<br>user_id=%{customdata[9]}<br>version=%{customdata[10]}<extra></extra>",
         "hovertext": [
          "bikes",
          "bikes",
          "bikes"
         ],
         "legendgroup": "bikes",
         "line": {
          "color": "rgba(255,255,255,0)"
         },
         "marker": {
          "color": "#636efa"
         },
         "name": "bikes",
         "offsetgroup": "bikes",
         "orientation": "h",
         "pointpos": 0,
         "showlegend": true,
         "type": "box",
         "x": [
          "2024-12-09T21:25:59.981000",
          "2024-12-09T20:15:47.252000",
          "2024-12-09T19:33:09.426000"
         ],
         "x0": " ",
         "xaxis": "x",
         "y0": " ",
         "yaxis": "y"
        }
       ],
       "layout": {
        "boxmode": "group",
        "legend": {
         "title": {
          "text": "name"
         },
         "tracegroupgap": 0
        },
        "template": {
         "data": {
          "bar": [
           {
            "error_x": {
             "color": "#2a3f5f"
            },
            "error_y": {
             "color": "#2a3f5f"
            },
            "marker": {
             "line": {
              "color": "#E5ECF6",
              "width": 0.5
             },
             "pattern": {
              "fillmode": "overlay",
              "size": 10,
              "solidity": 0.2
             }
            },
            "type": "bar"
           }
          ],
          "barpolar": [
           {
            "marker": {
             "line": {
              "color": "#E5ECF6",
              "width": 0.5
             },
             "pattern": {
              "fillmode": "overlay",
              "size": 10,
              "solidity": 0.2
             }
            },
            "type": "barpolar"
           }
          ],
          "carpet": [
           {
            "aaxis": {
             "endlinecolor": "#2a3f5f",
             "gridcolor": "white",
             "linecolor": "white",
             "minorgridcolor": "white",
             "startlinecolor": "#2a3f5f"
            },
            "baxis": {
             "endlinecolor": "#2a3f5f",
             "gridcolor": "white",
             "linecolor": "white",
             "minorgridcolor": "white",
             "startlinecolor": "#2a3f5f"
            },
            "type": "carpet"
           }
          ],
          "choropleth": [
           {
            "colorbar": {
             "outlinewidth": 0,
             "ticks": ""
            },
            "type": "choropleth"
           }
          ],
          "contour": [
           {
            "colorbar": {
             "outlinewidth": 0,
             "ticks": ""
            },
            "colorscale": [
             [
              0,
              "#0d0887"
             ],
             [
              0.1111111111111111,
              "#46039f"
             ],
             [
              0.2222222222222222,
              "#7201a8"
             ],
             [
              0.3333333333333333,
              "#9c179e"
             ],
             [
              0.4444444444444444,
              "#bd3786"
             ],
             [
              0.5555555555555556,
              "#d8576b"
             ],
             [
              0.6666666666666666,
              "#ed7953"
             ],
             [
              0.7777777777777778,
              "#fb9f3a"
             ],
             [
              0.8888888888888888,
              "#fdca26"
             ],
             [
              1,
              "#f0f921"
             ]
            ],
            "type": "contour"
           }
          ],
          "contourcarpet": [
           {
            "colorbar": {
             "outlinewidth": 0,
             "ticks": ""
            },
            "type": "contourcarpet"
           }
          ],
          "heatmap": [
           {
            "colorbar": {
             "outlinewidth": 0,
             "ticks": ""
            },
            "colorscale": [
             [
              0,
              "#0d0887"
             ],
             [
              0.1111111111111111,
              "#46039f"
             ],
             [
              0.2222222222222222,
              "#7201a8"
             ],
             [
              0.3333333333333333,
              "#9c179e"
             ],
             [
              0.4444444444444444,
              "#bd3786"
             ],
             [
              0.5555555555555556,
              "#d8576b"
             ],
             [
              0.6666666666666666,
              "#ed7953"
             ],
             [
              0.7777777777777778,
              "#fb9f3a"
             ],
             [
              0.8888888888888888,
              "#fdca26"
             ],
             [
              1,
              "#f0f921"
             ]
            ],
            "type": "heatmap"
           }
          ],
          "heatmapgl": [
           {
            "colorbar": {
             "outlinewidth": 0,
             "ticks": ""
            },
            "colorscale": [
             [
              0,
              "#0d0887"
             ],
             [
              0.1111111111111111,
              "#46039f"
             ],
             [
              0.2222222222222222,
              "#7201a8"
             ],
             [
              0.3333333333333333,
              "#9c179e"
             ],
             [
              0.4444444444444444,
              "#bd3786"
             ],
             [
              0.5555555555555556,
              "#d8576b"
             ],
             [
              0.6666666666666666,
              "#ed7953"
             ],
             [
              0.7777777777777778,
              "#fb9f3a"
             ],
             [
              0.8888888888888888,
              "#fdca26"
             ],
             [
              1,
              "#f0f921"
             ]
            ],
            "type": "heatmapgl"
           }
          ],
          "histogram": [
           {
            "marker": {
             "pattern": {
              "fillmode": "overlay",
              "size": 10,
              "solidity": 0.2
             }
            },
            "type": "histogram"
           }
          ],
          "histogram2d": [
           {
            "colorbar": {
             "outlinewidth": 0,
             "ticks": ""
            },
            "colorscale": [
             [
              0,
              "#0d0887"
             ],
             [
              0.1111111111111111,
              "#46039f"
             ],
             [
              0.2222222222222222,
              "#7201a8"
             ],
             [
              0.3333333333333333,
              "#9c179e"
             ],
             [
              0.4444444444444444,
              "#bd3786"
             ],
             [
              0.5555555555555556,
              "#d8576b"
             ],
             [
              0.6666666666666666,
              "#ed7953"
             ],
             [
              0.7777777777777778,
              "#fb9f3a"
             ],
             [
              0.8888888888888888,
              "#fdca26"
             ],
             [
              1,
              "#f0f921"
             ]
            ],
            "type": "histogram2d"
           }
          ],
          "histogram2dcontour": [
           {
            "colorbar": {
             "outlinewidth": 0,
             "ticks": ""
            },
            "colorscale": [
             [
              0,
              "#0d0887"
             ],
             [
              0.1111111111111111,
              "#46039f"
             ],
             [
              0.2222222222222222,
              "#7201a8"
             ],
             [
              0.3333333333333333,
              "#9c179e"
             ],
             [
              0.4444444444444444,
              "#bd3786"
             ],
             [
              0.5555555555555556,
              "#d8576b"
             ],
             [
              0.6666666666666666,
              "#ed7953"
             ],
             [
              0.7777777777777778,
              "#fb9f3a"
             ],
             [
              0.8888888888888888,
              "#fdca26"
             ],
             [
              1,
              "#f0f921"
             ]
            ],
            "type": "histogram2dcontour"
           }
          ],
          "mesh3d": [
           {
            "colorbar": {
             "outlinewidth": 0,
             "ticks": ""
            },
            "type": "mesh3d"
           }
          ],
          "parcoords": [
           {
            "line": {
             "colorbar": {
              "outlinewidth": 0,
              "ticks": ""
             }
            },
            "type": "parcoords"
           }
          ],
          "pie": [
           {
            "automargin": true,
            "type": "pie"
           }
          ],
          "scatter": [
           {
            "fillpattern": {
             "fillmode": "overlay",
             "size": 10,
             "solidity": 0.2
            },
            "type": "scatter"
           }
          ],
          "scatter3d": [
           {
            "line": {
             "colorbar": {
              "outlinewidth": 0,
              "ticks": ""
             }
            },
            "marker": {
             "colorbar": {
              "outlinewidth": 0,
              "ticks": ""
             }
            },
            "type": "scatter3d"
           }
          ],
          "scattercarpet": [
           {
            "marker": {
             "colorbar": {
              "outlinewidth": 0,
              "ticks": ""
             }
            },
            "type": "scattercarpet"
           }
          ],
          "scattergeo": [
           {
            "marker": {
             "colorbar": {
              "outlinewidth": 0,
              "ticks": ""
             }
            },
            "type": "scattergeo"
           }
          ],
          "scattergl": [
           {
            "marker": {
             "colorbar": {
              "outlinewidth": 0,
              "ticks": ""
             }
            },
            "type": "scattergl"
           }
          ],
          "scattermapbox": [
           {
            "marker": {
             "colorbar": {
              "outlinewidth": 0,
              "ticks": ""
             }
            },
            "type": "scattermapbox"
           }
          ],
          "scatterpolar": [
           {
            "marker": {
             "colorbar": {
              "outlinewidth": 0,
              "ticks": ""
             }
            },
            "type": "scatterpolar"
           }
          ],
          "scatterpolargl": [
           {
            "marker": {
             "colorbar": {
              "outlinewidth": 0,
              "ticks": ""
             }
            },
            "type": "scatterpolargl"
           }
          ],
          "scatterternary": [
           {
            "marker": {
             "colorbar": {
              "outlinewidth": 0,
              "ticks": ""
             }
            },
            "type": "scatterternary"
           }
          ],
          "surface": [
           {
            "colorbar": {
             "outlinewidth": 0,
             "ticks": ""
            },
            "colorscale": [
             [
              0,
              "#0d0887"
             ],
             [
              0.1111111111111111,
              "#46039f"
             ],
             [
              0.2222222222222222,
              "#7201a8"
             ],
             [
              0.3333333333333333,
              "#9c179e"
             ],
             [
              0.4444444444444444,
              "#bd3786"
             ],
             [
              0.5555555555555556,
              "#d8576b"
             ],
             [
              0.6666666666666666,
              "#ed7953"
             ],
             [
              0.7777777777777778,
              "#fb9f3a"
             ],
             [
              0.8888888888888888,
              "#fdca26"
             ],
             [
              1,
              "#f0f921"
             ]
            ],
            "type": "surface"
           }
          ],
          "table": [
           {
            "cells": {
             "fill": {
              "color": "#EBF0F8"
             },
             "line": {
              "color": "white"
             }
            },
            "header": {
             "fill": {
              "color": "#C8D4E3"
             },
             "line": {
              "color": "white"
             }
            },
            "type": "table"
           }
          ]
         },
         "layout": {
          "annotationdefaults": {
           "arrowcolor": "#2a3f5f",
           "arrowhead": 0,
           "arrowwidth": 1
          },
          "autotypenumbers": "strict",
          "coloraxis": {
           "colorbar": {
            "outlinewidth": 0,
            "ticks": ""
           }
          },
          "colorscale": {
           "diverging": [
            [
             0,
             "#8e0152"
            ],
            [
             0.1,
             "#c51b7d"
            ],
            [
             0.2,
             "#de77ae"
            ],
            [
             0.3,
             "#f1b6da"
            ],
            [
             0.4,
             "#fde0ef"
            ],
            [
             0.5,
             "#f7f7f7"
            ],
            [
             0.6,
             "#e6f5d0"
            ],
            [
             0.7,
             "#b8e186"
            ],
            [
             0.8,
             "#7fbc41"
            ],
            [
             0.9,
             "#4d9221"
            ],
            [
             1,
             "#276419"
            ]
           ],
           "sequential": [
            [
             0,
             "#0d0887"
            ],
            [
             0.1111111111111111,
             "#46039f"
            ],
            [
             0.2222222222222222,
             "#7201a8"
            ],
            [
             0.3333333333333333,
             "#9c179e"
            ],
            [
             0.4444444444444444,
             "#bd3786"
            ],
            [
             0.5555555555555556,
             "#d8576b"
            ],
            [
             0.6666666666666666,
             "#ed7953"
            ],
            [
             0.7777777777777778,
             "#fb9f3a"
            ],
            [
             0.8888888888888888,
             "#fdca26"
            ],
            [
             1,
             "#f0f921"
            ]
           ],
           "sequentialminus": [
            [
             0,
             "#0d0887"
            ],
            [
             0.1111111111111111,
             "#46039f"
            ],
            [
             0.2222222222222222,
             "#7201a8"
            ],
            [
             0.3333333333333333,
             "#9c179e"
            ],
            [
             0.4444444444444444,
             "#bd3786"
            ],
            [
             0.5555555555555556,
             "#d8576b"
            ],
            [
             0.6666666666666666,
             "#ed7953"
            ],
            [
             0.7777777777777778,
             "#fb9f3a"
            ],
            [
             0.8888888888888888,
             "#fdca26"
            ],
            [
             1,
             "#f0f921"
            ]
           ]
          },
          "colorway": [
           "#636efa",
           "#EF553B",
           "#00cc96",
           "#ab63fa",
           "#FFA15A",
           "#19d3f3",
           "#FF6692",
           "#B6E880",
           "#FF97FF",
           "#FECB52"
          ],
          "font": {
           "color": "#2a3f5f"
          },
          "geo": {
           "bgcolor": "white",
           "lakecolor": "white",
           "landcolor": "#E5ECF6",
           "showlakes": true,
           "showland": true,
           "subunitcolor": "white"
          },
          "hoverlabel": {
           "align": "left"
          },
          "hovermode": "closest",
          "mapbox": {
           "style": "light"
          },
          "paper_bgcolor": "white",
          "plot_bgcolor": "#E5ECF6",
          "polar": {
           "angularaxis": {
            "gridcolor": "white",
            "linecolor": "white",
            "ticks": ""
           },
           "bgcolor": "#E5ECF6",
           "radialaxis": {
            "gridcolor": "white",
            "linecolor": "white",
            "ticks": ""
           }
          },
          "scene": {
           "xaxis": {
            "backgroundcolor": "#E5ECF6",
            "gridcolor": "white",
            "gridwidth": 2,
            "linecolor": "white",
            "showbackground": true,
            "ticks": "",
            "zerolinecolor": "white"
           },
           "yaxis": {
            "backgroundcolor": "#E5ECF6",
            "gridcolor": "white",
            "gridwidth": 2,
            "linecolor": "white",
            "showbackground": true,
            "ticks": "",
            "zerolinecolor": "white"
           },
           "zaxis": {
            "backgroundcolor": "#E5ECF6",
            "gridcolor": "white",
            "gridwidth": 2,
            "linecolor": "white",
            "showbackground": true,
            "ticks": "",
            "zerolinecolor": "white"
           }
          },
          "shapedefaults": {
           "line": {
            "color": "#2a3f5f"
           }
          },
          "ternary": {
           "aaxis": {
            "gridcolor": "white",
            "linecolor": "white",
            "ticks": ""
           },
           "baxis": {
            "gridcolor": "white",
            "linecolor": "white",
            "ticks": ""
           },
           "bgcolor": "#E5ECF6",
           "caxis": {
            "gridcolor": "white",
            "linecolor": "white",
            "ticks": ""
           }
          },
          "title": {
           "x": 0.05
          },
          "xaxis": {
           "automargin": true,
           "gridcolor": "white",
           "linecolor": "white",
           "ticks": "",
           "title": {
            "standoff": 15
           },
           "zerolinecolor": "white",
           "zerolinewidth": 2
          },
          "yaxis": {
           "automargin": true,
           "gridcolor": "white",
           "linecolor": "white",
           "ticks": "",
           "title": {
            "standoff": 15
           },
           "zerolinecolor": "white",
           "zerolinewidth": 2
          }
         }
        },
        "title": {
         "text": "Version Creation Timestamp"
        },
        "xaxis": {
         "anchor": "y",
         "domain": [
          0,
          1
         ],
         "title": {
          "text": "creation_timestamp"
         }
        },
        "yaxis": {
         "anchor": "x",
         "domain": [
          0,
          1
         ]
        }
       }
      }
     },
     "metadata": {},
     "output_type": "display_data"
    }
   ],
   "source": [
    "px.strip(\n",
    "    versions,\n",
    "    x=\"creation_timestamp\",\n",
    "    color=\"name\",\n",
    "    hover_name=\"name\",\n",
    "    hover_data=versions.columns,\n",
    "    title=\"Version Creation Timestamp\",\n",
    ")"
   ]
  },
  {
   "cell_type": "code",
   "execution_count": 13,
   "metadata": {},
   "outputs": [
    {
     "data": {
      "application/vnd.plotly.v1+json": {
       "config": {
        "plotlyServerURL": "https://plot.ly"
       },
       "data": [
        {
         "alignmentgroup": "True",
         "boxpoints": "all",
         "customdata": [
          [
           "file:///home/fmind/mlops-python-package/mlruns/892046783494697990/c21b823a68ba42b2b1ff98b2ae73c424/artifacts",
           "2024-12-09T21:26:50.094000",
           "892046783494697990",
           "active",
           "c21b823a68ba42b2b1ff98b2ae73c424",
           "Explanations",
           "c21b823a68ba42b2b1ff98b2ae73c424",
           "FINISHED",
           "fmind",
           30770
          ],
          [
           "file:///home/fmind/mlops-python-package/mlruns/892046783494697990/9da0f31e36a9413eaab18149ace82c78/artifacts",
           "2024-12-09T21:26:18.061000",
           "892046783494697990",
           "active",
           "9da0f31e36a9413eaab18149ace82c78",
           "Evaluations",
           "9da0f31e36a9413eaab18149ace82c78",
           "FINISHED",
           "fmind",
           4572
          ],
          [
           "file:///home/fmind/mlops-python-package/mlruns/892046783494697990/8316d6855d17401b8358e88a48c159f0/artifacts",
           "2024-12-09T21:26:12.215000",
           "892046783494697990",
           "active",
           "8316d6855d17401b8358e88a48c159f0",
           "Inference",
           "8316d6855d17401b8358e88a48c159f0",
           "FINISHED",
           "fmind",
           4005
          ],
          [
           "file:///home/fmind/mlops-python-package/mlruns/892046783494697990/b92f959ab1564eb897e2f66f7089f573/artifacts",
           "2024-12-09T21:26:06.933000",
           "892046783494697990",
           "active",
           "b92f959ab1564eb897e2f66f7089f573",
           "Promotion",
           "b92f959ab1564eb897e2f66f7089f573",
           "FINISHED",
           "fmind",
           3551
          ],
          [
           "file:///home/fmind/mlops-python-package/mlruns/892046783494697990/fc31f5b645204fdd9ef58fbbc0c105eb/artifacts",
           "2024-12-09T21:26:01.071000",
           "892046783494697990",
           "active",
           "fc31f5b645204fdd9ef58fbbc0c105eb",
           "Training",
           "fc31f5b645204fdd9ef58fbbc0c105eb",
           "FINISHED",
           "fmind",
           22070
          ],
          [
           "file:///home/fmind/mlops-python-package/mlruns/892046783494697990/2d2ec19f48a040e4af90b20fdf7e6575/artifacts",
           "2024-12-09T21:25:36.982000",
           "892046783494697990",
           "active",
           "2d2ec19f48a040e4af90b20fdf7e6575",
           "angry-dog-423",
           "2d2ec19f48a040e4af90b20fdf7e6575",
           "FINISHED",
           "fmind",
           33410
          ],
          [
           "file:///home/fmind/mlops-python-package/mlruns/892046783494697990/352518f26eef4fa38bcd37c0e91c9f97/artifacts",
           "2024-12-09T21:25:36.982000",
           "892046783494697990",
           "active",
           "352518f26eef4fa38bcd37c0e91c9f97",
           "lyrical-snail-804",
           "352518f26eef4fa38bcd37c0e91c9f97",
           "FINISHED",
           "fmind",
           33410
          ],
          [
           "file:///home/fmind/mlops-python-package/mlruns/892046783494697990/5ded1a1700cc4e0ea786ed96cc15c410/artifacts",
           "2024-12-09T21:25:37.702000",
           "892046783494697990",
           "active",
           "5ded1a1700cc4e0ea786ed96cc15c410",
           "Tuning",
           "5ded1a1700cc4e0ea786ed96cc15c410",
           "FINISHED",
           "fmind",
           34130
          ],
          [
           "file:///home/fmind/mlops-python-package/mlruns/892046783494697990/eb21e4c57e3047dd9fbace349ddfc701/artifacts",
           "2024-12-09T21:25:36.982000",
           "892046783494697990",
           "active",
           "eb21e4c57e3047dd9fbace349ddfc701",
           "capable-asp-689",
           "eb21e4c57e3047dd9fbace349ddfc701",
           "FINISHED",
           "fmind",
           33410
          ],
          [
           "file:///home/fmind/mlops-python-package/mlruns/892046783494697990/f71527e645d24f579e571b6573912f32/artifacts",
           "2024-12-09T20:16:43.066000",
           "892046783494697990",
           "active",
           "f71527e645d24f579e571b6573912f32",
           "Explanations",
           "f71527e645d24f579e571b6573912f32",
           "FINISHED",
           "fmind",
           33233
          ],
          [
           "file:///home/fmind/mlops-python-package/mlruns/892046783494697990/f2823c6d05a545b793545d85b230d467/artifacts",
           "2024-12-09T20:16:08.336000",
           "892046783494697990",
           "active",
           "f2823c6d05a545b793545d85b230d467",
           "Evaluations",
           "f2823c6d05a545b793545d85b230d467",
           "FINISHED",
           "fmind",
           5407
          ],
          [
           "file:///home/fmind/mlops-python-package/mlruns/892046783494697990/d40bfd6d238b4e999a8b9eac47f9932a/artifacts",
           "2024-12-09T20:16:01.543000",
           "892046783494697990",
           "active",
           "d40bfd6d238b4e999a8b9eac47f9932a",
           "Inference",
           "d40bfd6d238b4e999a8b9eac47f9932a",
           "FINISHED",
           "fmind",
           4655
          ],
          [
           "file:///home/fmind/mlops-python-package/mlruns/892046783494697990/0a425df1a36947cc912cc0abdc4c9fe1/artifacts",
           "2024-12-09T20:15:55.295000",
           "892046783494697990",
           "active",
           "0a425df1a36947cc912cc0abdc4c9fe1",
           "Promotion",
           "0a425df1a36947cc912cc0abdc4c9fe1",
           "FINISHED",
           "fmind",
           4463
          ],
          [
           "file:///home/fmind/mlops-python-package/mlruns/892046783494697990/abad34d51a2a4cffa328136540b455c0/artifacts",
           "2024-12-09T20:15:48.530000",
           "892046783494697990",
           "active",
           "abad34d51a2a4cffa328136540b455c0",
           "Training",
           "abad34d51a2a4cffa328136540b455c0",
           "FINISHED",
           "fmind",
           25301
          ],
          [
           "file:///home/fmind/mlops-python-package/mlruns/892046783494697990/0f3fb536c019419ba34c04dfb4357f55/artifacts",
           "2024-12-09T20:15:20.354000",
           "892046783494697990",
           "active",
           "0f3fb536c019419ba34c04dfb4357f55",
           "youthful-carp-377",
           "0f3fb536c019419ba34c04dfb4357f55",
           "FINISHED",
           "fmind",
           225455
          ],
          [
           "file:///home/fmind/mlops-python-package/mlruns/892046783494697990/1460078c4b1a4e9eacc1284ef88fb01d/artifacts",
           "2024-12-09T20:15:20.354000",
           "892046783494697990",
           "active",
           "1460078c4b1a4e9eacc1284ef88fb01d",
           "enchanting-pig-738",
           "1460078c4b1a4e9eacc1284ef88fb01d",
           "FINISHED",
           "fmind",
           225455
          ],
          [
           "file:///home/fmind/mlops-python-package/mlruns/892046783494697990/2bb5da83357d443eb0346606326770ae/artifacts",
           "2024-12-09T20:15:21.479000",
           "892046783494697990",
           "active",
           "2bb5da83357d443eb0346606326770ae",
           "Tuning",
           "2bb5da83357d443eb0346606326770ae",
           "FINISHED",
           "fmind",
           226580
          ],
          [
           "file:///home/fmind/mlops-python-package/mlruns/892046783494697990/fe06e9a76b124cdb8d95a70d0e0807e1/artifacts",
           "2024-12-09T20:15:20.354000",
           "892046783494697990",
           "active",
           "fe06e9a76b124cdb8d95a70d0e0807e1",
           "youthful-shoat-928",
           "fe06e9a76b124cdb8d95a70d0e0807e1",
           "FINISHED",
           "fmind",
           225455
          ],
          [
           "file:///home/fmind/mlops-python-package/mlruns/892046783494697990/ecc6bbcc06a14ac4a853f18a85d2aa79/artifacts",
           "2024-12-09T19:41:30.872000",
           "892046783494697990",
           "active",
           "ecc6bbcc06a14ac4a853f18a85d2aa79",
           "Evaluations",
           "ecc6bbcc06a14ac4a853f18a85d2aa79",
           "FAILED",
           "fmind",
           4646
          ],
          [
           "file:///home/fmind/mlops-python-package/mlruns/892046783494697990/ba156f94df9e4c1eb8cb2852e36efeb0/artifacts",
           "2024-12-09T19:40:49.139000",
           "892046783494697990",
           "active",
           "ba156f94df9e4c1eb8cb2852e36efeb0",
           "Explanations",
           "ba156f94df9e4c1eb8cb2852e36efeb0",
           "FINISHED",
           "fmind",
           29178
          ],
          [
           "file:///home/fmind/mlops-python-package/mlruns/892046783494697990/4177ef56fb0e4e4eaa7f7c443c46fc16/artifacts",
           "2024-12-09T19:40:14.417000",
           "892046783494697990",
           "active",
           "4177ef56fb0e4e4eaa7f7c443c46fc16",
           "Evaluations",
           "4177ef56fb0e4e4eaa7f7c443c46fc16",
           "FAILED",
           "fmind",
           5218
          ],
          [
           "file:///home/fmind/mlops-python-package/mlruns/892046783494697990/f11653b8018e42f6825a2ac1c9443937/artifacts",
           "2024-12-09T19:33:26.711000",
           "892046783494697990",
           "active",
           "f11653b8018e42f6825a2ac1c9443937",
           "Evaluations",
           "f11653b8018e42f6825a2ac1c9443937",
           "FAILED",
           "fmind",
           4350
          ],
          [
           "file:///home/fmind/mlops-python-package/mlruns/892046783494697990/92f6f8fe787c4f489024a81181b7ab41/artifacts",
           "2024-12-09T19:33:20.732000",
           "892046783494697990",
           "active",
           "92f6f8fe787c4f489024a81181b7ab41",
           "Inference",
           "92f6f8fe787c4f489024a81181b7ab41",
           "FINISHED",
           "fmind",
           3944
          ],
          [
           "file:///home/fmind/mlops-python-package/mlruns/892046783494697990/88e2b857d3734cfe96ea207be49bba2f/artifacts",
           "2024-12-09T19:33:15.552000",
           "892046783494697990",
           "active",
           "88e2b857d3734cfe96ea207be49bba2f",
           "Promotion",
           "88e2b857d3734cfe96ea207be49bba2f",
           "FINISHED",
           "fmind",
           3294
          ],
          [
           "file:///home/fmind/mlops-python-package/mlruns/892046783494697990/ca4c7550ad354be9a2f10f7eade8d47e/artifacts",
           "2024-12-09T19:33:10.574000",
           "892046783494697990",
           "active",
           "ca4c7550ad354be9a2f10f7eade8d47e",
           "Training",
           "ca4c7550ad354be9a2f10f7eade8d47e",
           "FINISHED",
           "fmind",
           23168
          ],
          [
           "file:///home/fmind/mlops-python-package/mlruns/892046783494697990/3c3f2883be0643b9800e8c161764bb5f/artifacts",
           "2024-12-09T19:32:45.039000",
           "892046783494697990",
           "active",
           "3c3f2883be0643b9800e8c161764bb5f",
           "resilient-doe-203",
           "3c3f2883be0643b9800e8c161764bb5f",
           "FINISHED",
           "fmind",
           101932
          ],
          [
           "file:///home/fmind/mlops-python-package/mlruns/892046783494697990/846fb4b5ca654800b2cb0592c6c2e999/artifacts",
           "2024-12-09T19:32:45.039000",
           "892046783494697990",
           "active",
           "846fb4b5ca654800b2cb0592c6c2e999",
           "unequaled-conch-92",
           "846fb4b5ca654800b2cb0592c6c2e999",
           "FINISHED",
           "fmind",
           101932
          ],
          [
           "file:///home/fmind/mlops-python-package/mlruns/892046783494697990/d8d365de957c46098b7cf2e251b486fb/artifacts",
           "2024-12-09T19:32:45.822000",
           "892046783494697990",
           "active",
           "d8d365de957c46098b7cf2e251b486fb",
           "Tuning",
           "d8d365de957c46098b7cf2e251b486fb",
           "FINISHED",
           "fmind",
           102715
          ],
          [
           "file:///home/fmind/mlops-python-package/mlruns/892046783494697990/ed9728cf10d74fe6a053231b54e82e16/artifacts",
           "2024-12-09T19:32:45.039000",
           "892046783494697990",
           "active",
           "ed9728cf10d74fe6a053231b54e82e16",
           "adventurous-fowl-590",
           "ed9728cf10d74fe6a053231b54e82e16",
           "FINISHED",
           "fmind",
           101932
          ]
         ],
         "fillcolor": "rgba(255,255,255,0)",
         "hoveron": "points",
         "hovertemplate": "<b>%{hovertext}</b><br><br>experiment_id=%{customdata[2]}<br>start_time=%{x}<br>artifact_uri=%{customdata[0]}<br>end_time=%{customdata[1]}<br>lifecycle_stage=%{customdata[3]}<br>run_id=%{customdata[4]}<br>run_name=%{customdata[5]}<br>run_uuid=%{customdata[6]}<br>status=%{customdata[7]}<br>user_id=%{customdata[8]}<br>run_time=%{customdata[9]}<extra></extra>",
         "hovertext": [
          "Explanations",
          "Evaluations",
          "Inference",
          "Promotion",
          "Training",
          "angry-dog-423",
          "lyrical-snail-804",
          "Tuning",
          "capable-asp-689",
          "Explanations",
          "Evaluations",
          "Inference",
          "Promotion",
          "Training",
          "youthful-carp-377",
          "enchanting-pig-738",
          "Tuning",
          "youthful-shoat-928",
          "Evaluations",
          "Explanations",
          "Evaluations",
          "Evaluations",
          "Inference",
          "Promotion",
          "Training",
          "resilient-doe-203",
          "unequaled-conch-92",
          "Tuning",
          "adventurous-fowl-590"
         ],
         "legendgroup": "892046783494697990",
         "line": {
          "color": "rgba(255,255,255,0)"
         },
         "marker": {
          "color": "#636efa"
         },
         "name": "892046783494697990",
         "offsetgroup": "892046783494697990",
         "orientation": "h",
         "pointpos": 0,
         "showlegend": true,
         "type": "box",
         "x": [
          "2024-12-09T21:26:19.324000",
          "2024-12-09T21:26:13.489000",
          "2024-12-09T21:26:08.210000",
          "2024-12-09T21:26:03.382000",
          "2024-12-09T21:25:39.001000",
          "2024-12-09T21:25:03.572000",
          "2024-12-09T21:25:03.572000",
          "2024-12-09T21:25:03.572000",
          "2024-12-09T21:25:03.572000",
          "2024-12-09T20:16:09.833000",
          "2024-12-09T20:16:02.929000",
          "2024-12-09T20:15:56.888000",
          "2024-12-09T20:15:50.832000",
          "2024-12-09T20:15:23.229000",
          "2024-12-09T20:11:34.899000",
          "2024-12-09T20:11:34.899000",
          "2024-12-09T20:11:34.899000",
          "2024-12-09T20:11:34.899000",
          "2024-12-09T19:41:26.226000",
          "2024-12-09T19:40:19.961000",
          "2024-12-09T19:40:09.199000",
          "2024-12-09T19:33:22.361000",
          "2024-12-09T19:33:16.788000",
          "2024-12-09T19:33:12.258000",
          "2024-12-09T19:32:47.406000",
          "2024-12-09T19:31:03.107000",
          "2024-12-09T19:31:03.107000",
          "2024-12-09T19:31:03.107000",
          "2024-12-09T19:31:03.107000"
         ],
         "x0": " ",
         "xaxis": "x",
         "y0": " ",
         "yaxis": "y"
        }
       ],
       "layout": {
        "boxmode": "group",
        "legend": {
         "title": {
          "text": "experiment_id"
         },
         "tracegroupgap": 0
        },
        "template": {
         "data": {
          "bar": [
           {
            "error_x": {
             "color": "#2a3f5f"
            },
            "error_y": {
             "color": "#2a3f5f"
            },
            "marker": {
             "line": {
              "color": "#E5ECF6",
              "width": 0.5
             },
             "pattern": {
              "fillmode": "overlay",
              "size": 10,
              "solidity": 0.2
             }
            },
            "type": "bar"
           }
          ],
          "barpolar": [
           {
            "marker": {
             "line": {
              "color": "#E5ECF6",
              "width": 0.5
             },
             "pattern": {
              "fillmode": "overlay",
              "size": 10,
              "solidity": 0.2
             }
            },
            "type": "barpolar"
           }
          ],
          "carpet": [
           {
            "aaxis": {
             "endlinecolor": "#2a3f5f",
             "gridcolor": "white",
             "linecolor": "white",
             "minorgridcolor": "white",
             "startlinecolor": "#2a3f5f"
            },
            "baxis": {
             "endlinecolor": "#2a3f5f",
             "gridcolor": "white",
             "linecolor": "white",
             "minorgridcolor": "white",
             "startlinecolor": "#2a3f5f"
            },
            "type": "carpet"
           }
          ],
          "choropleth": [
           {
            "colorbar": {
             "outlinewidth": 0,
             "ticks": ""
            },
            "type": "choropleth"
           }
          ],
          "contour": [
           {
            "colorbar": {
             "outlinewidth": 0,
             "ticks": ""
            },
            "colorscale": [
             [
              0,
              "#0d0887"
             ],
             [
              0.1111111111111111,
              "#46039f"
             ],
             [
              0.2222222222222222,
              "#7201a8"
             ],
             [
              0.3333333333333333,
              "#9c179e"
             ],
             [
              0.4444444444444444,
              "#bd3786"
             ],
             [
              0.5555555555555556,
              "#d8576b"
             ],
             [
              0.6666666666666666,
              "#ed7953"
             ],
             [
              0.7777777777777778,
              "#fb9f3a"
             ],
             [
              0.8888888888888888,
              "#fdca26"
             ],
             [
              1,
              "#f0f921"
             ]
            ],
            "type": "contour"
           }
          ],
          "contourcarpet": [
           {
            "colorbar": {
             "outlinewidth": 0,
             "ticks": ""
            },
            "type": "contourcarpet"
           }
          ],
          "heatmap": [
           {
            "colorbar": {
             "outlinewidth": 0,
             "ticks": ""
            },
            "colorscale": [
             [
              0,
              "#0d0887"
             ],
             [
              0.1111111111111111,
              "#46039f"
             ],
             [
              0.2222222222222222,
              "#7201a8"
             ],
             [
              0.3333333333333333,
              "#9c179e"
             ],
             [
              0.4444444444444444,
              "#bd3786"
             ],
             [
              0.5555555555555556,
              "#d8576b"
             ],
             [
              0.6666666666666666,
              "#ed7953"
             ],
             [
              0.7777777777777778,
              "#fb9f3a"
             ],
             [
              0.8888888888888888,
              "#fdca26"
             ],
             [
              1,
              "#f0f921"
             ]
            ],
            "type": "heatmap"
           }
          ],
          "heatmapgl": [
           {
            "colorbar": {
             "outlinewidth": 0,
             "ticks": ""
            },
            "colorscale": [
             [
              0,
              "#0d0887"
             ],
             [
              0.1111111111111111,
              "#46039f"
             ],
             [
              0.2222222222222222,
              "#7201a8"
             ],
             [
              0.3333333333333333,
              "#9c179e"
             ],
             [
              0.4444444444444444,
              "#bd3786"
             ],
             [
              0.5555555555555556,
              "#d8576b"
             ],
             [
              0.6666666666666666,
              "#ed7953"
             ],
             [
              0.7777777777777778,
              "#fb9f3a"
             ],
             [
              0.8888888888888888,
              "#fdca26"
             ],
             [
              1,
              "#f0f921"
             ]
            ],
            "type": "heatmapgl"
           }
          ],
          "histogram": [
           {
            "marker": {
             "pattern": {
              "fillmode": "overlay",
              "size": 10,
              "solidity": 0.2
             }
            },
            "type": "histogram"
           }
          ],
          "histogram2d": [
           {
            "colorbar": {
             "outlinewidth": 0,
             "ticks": ""
            },
            "colorscale": [
             [
              0,
              "#0d0887"
             ],
             [
              0.1111111111111111,
              "#46039f"
             ],
             [
              0.2222222222222222,
              "#7201a8"
             ],
             [
              0.3333333333333333,
              "#9c179e"
             ],
             [
              0.4444444444444444,
              "#bd3786"
             ],
             [
              0.5555555555555556,
              "#d8576b"
             ],
             [
              0.6666666666666666,
              "#ed7953"
             ],
             [
              0.7777777777777778,
              "#fb9f3a"
             ],
             [
              0.8888888888888888,
              "#fdca26"
             ],
             [
              1,
              "#f0f921"
             ]
            ],
            "type": "histogram2d"
           }
          ],
          "histogram2dcontour": [
           {
            "colorbar": {
             "outlinewidth": 0,
             "ticks": ""
            },
            "colorscale": [
             [
              0,
              "#0d0887"
             ],
             [
              0.1111111111111111,
              "#46039f"
             ],
             [
              0.2222222222222222,
              "#7201a8"
             ],
             [
              0.3333333333333333,
              "#9c179e"
             ],
             [
              0.4444444444444444,
              "#bd3786"
             ],
             [
              0.5555555555555556,
              "#d8576b"
             ],
             [
              0.6666666666666666,
              "#ed7953"
             ],
             [
              0.7777777777777778,
              "#fb9f3a"
             ],
             [
              0.8888888888888888,
              "#fdca26"
             ],
             [
              1,
              "#f0f921"
             ]
            ],
            "type": "histogram2dcontour"
           }
          ],
          "mesh3d": [
           {
            "colorbar": {
             "outlinewidth": 0,
             "ticks": ""
            },
            "type": "mesh3d"
           }
          ],
          "parcoords": [
           {
            "line": {
             "colorbar": {
              "outlinewidth": 0,
              "ticks": ""
             }
            },
            "type": "parcoords"
           }
          ],
          "pie": [
           {
            "automargin": true,
            "type": "pie"
           }
          ],
          "scatter": [
           {
            "fillpattern": {
             "fillmode": "overlay",
             "size": 10,
             "solidity": 0.2
            },
            "type": "scatter"
           }
          ],
          "scatter3d": [
           {
            "line": {
             "colorbar": {
              "outlinewidth": 0,
              "ticks": ""
             }
            },
            "marker": {
             "colorbar": {
              "outlinewidth": 0,
              "ticks": ""
             }
            },
            "type": "scatter3d"
           }
          ],
          "scattercarpet": [
           {
            "marker": {
             "colorbar": {
              "outlinewidth": 0,
              "ticks": ""
             }
            },
            "type": "scattercarpet"
           }
          ],
          "scattergeo": [
           {
            "marker": {
             "colorbar": {
              "outlinewidth": 0,
              "ticks": ""
             }
            },
            "type": "scattergeo"
           }
          ],
          "scattergl": [
           {
            "marker": {
             "colorbar": {
              "outlinewidth": 0,
              "ticks": ""
             }
            },
            "type": "scattergl"
           }
          ],
          "scattermapbox": [
           {
            "marker": {
             "colorbar": {
              "outlinewidth": 0,
              "ticks": ""
             }
            },
            "type": "scattermapbox"
           }
          ],
          "scatterpolar": [
           {
            "marker": {
             "colorbar": {
              "outlinewidth": 0,
              "ticks": ""
             }
            },
            "type": "scatterpolar"
           }
          ],
          "scatterpolargl": [
           {
            "marker": {
             "colorbar": {
              "outlinewidth": 0,
              "ticks": ""
             }
            },
            "type": "scatterpolargl"
           }
          ],
          "scatterternary": [
           {
            "marker": {
             "colorbar": {
              "outlinewidth": 0,
              "ticks": ""
             }
            },
            "type": "scatterternary"
           }
          ],
          "surface": [
           {
            "colorbar": {
             "outlinewidth": 0,
             "ticks": ""
            },
            "colorscale": [
             [
              0,
              "#0d0887"
             ],
             [
              0.1111111111111111,
              "#46039f"
             ],
             [
              0.2222222222222222,
              "#7201a8"
             ],
             [
              0.3333333333333333,
              "#9c179e"
             ],
             [
              0.4444444444444444,
              "#bd3786"
             ],
             [
              0.5555555555555556,
              "#d8576b"
             ],
             [
              0.6666666666666666,
              "#ed7953"
             ],
             [
              0.7777777777777778,
              "#fb9f3a"
             ],
             [
              0.8888888888888888,
              "#fdca26"
             ],
             [
              1,
              "#f0f921"
             ]
            ],
            "type": "surface"
           }
          ],
          "table": [
           {
            "cells": {
             "fill": {
              "color": "#EBF0F8"
             },
             "line": {
              "color": "white"
             }
            },
            "header": {
             "fill": {
              "color": "#C8D4E3"
             },
             "line": {
              "color": "white"
             }
            },
            "type": "table"
           }
          ]
         },
         "layout": {
          "annotationdefaults": {
           "arrowcolor": "#2a3f5f",
           "arrowhead": 0,
           "arrowwidth": 1
          },
          "autotypenumbers": "strict",
          "coloraxis": {
           "colorbar": {
            "outlinewidth": 0,
            "ticks": ""
           }
          },
          "colorscale": {
           "diverging": [
            [
             0,
             "#8e0152"
            ],
            [
             0.1,
             "#c51b7d"
            ],
            [
             0.2,
             "#de77ae"
            ],
            [
             0.3,
             "#f1b6da"
            ],
            [
             0.4,
             "#fde0ef"
            ],
            [
             0.5,
             "#f7f7f7"
            ],
            [
             0.6,
             "#e6f5d0"
            ],
            [
             0.7,
             "#b8e186"
            ],
            [
             0.8,
             "#7fbc41"
            ],
            [
             0.9,
             "#4d9221"
            ],
            [
             1,
             "#276419"
            ]
           ],
           "sequential": [
            [
             0,
             "#0d0887"
            ],
            [
             0.1111111111111111,
             "#46039f"
            ],
            [
             0.2222222222222222,
             "#7201a8"
            ],
            [
             0.3333333333333333,
             "#9c179e"
            ],
            [
             0.4444444444444444,
             "#bd3786"
            ],
            [
             0.5555555555555556,
             "#d8576b"
            ],
            [
             0.6666666666666666,
             "#ed7953"
            ],
            [
             0.7777777777777778,
             "#fb9f3a"
            ],
            [
             0.8888888888888888,
             "#fdca26"
            ],
            [
             1,
             "#f0f921"
            ]
           ],
           "sequentialminus": [
            [
             0,
             "#0d0887"
            ],
            [
             0.1111111111111111,
             "#46039f"
            ],
            [
             0.2222222222222222,
             "#7201a8"
            ],
            [
             0.3333333333333333,
             "#9c179e"
            ],
            [
             0.4444444444444444,
             "#bd3786"
            ],
            [
             0.5555555555555556,
             "#d8576b"
            ],
            [
             0.6666666666666666,
             "#ed7953"
            ],
            [
             0.7777777777777778,
             "#fb9f3a"
            ],
            [
             0.8888888888888888,
             "#fdca26"
            ],
            [
             1,
             "#f0f921"
            ]
           ]
          },
          "colorway": [
           "#636efa",
           "#EF553B",
           "#00cc96",
           "#ab63fa",
           "#FFA15A",
           "#19d3f3",
           "#FF6692",
           "#B6E880",
           "#FF97FF",
           "#FECB52"
          ],
          "font": {
           "color": "#2a3f5f"
          },
          "geo": {
           "bgcolor": "white",
           "lakecolor": "white",
           "landcolor": "#E5ECF6",
           "showlakes": true,
           "showland": true,
           "subunitcolor": "white"
          },
          "hoverlabel": {
           "align": "left"
          },
          "hovermode": "closest",
          "mapbox": {
           "style": "light"
          },
          "paper_bgcolor": "white",
          "plot_bgcolor": "#E5ECF6",
          "polar": {
           "angularaxis": {
            "gridcolor": "white",
            "linecolor": "white",
            "ticks": ""
           },
           "bgcolor": "#E5ECF6",
           "radialaxis": {
            "gridcolor": "white",
            "linecolor": "white",
            "ticks": ""
           }
          },
          "scene": {
           "xaxis": {
            "backgroundcolor": "#E5ECF6",
            "gridcolor": "white",
            "gridwidth": 2,
            "linecolor": "white",
            "showbackground": true,
            "ticks": "",
            "zerolinecolor": "white"
           },
           "yaxis": {
            "backgroundcolor": "#E5ECF6",
            "gridcolor": "white",
            "gridwidth": 2,
            "linecolor": "white",
            "showbackground": true,
            "ticks": "",
            "zerolinecolor": "white"
           },
           "zaxis": {
            "backgroundcolor": "#E5ECF6",
            "gridcolor": "white",
            "gridwidth": 2,
            "linecolor": "white",
            "showbackground": true,
            "ticks": "",
            "zerolinecolor": "white"
           }
          },
          "shapedefaults": {
           "line": {
            "color": "#2a3f5f"
           }
          },
          "ternary": {
           "aaxis": {
            "gridcolor": "white",
            "linecolor": "white",
            "ticks": ""
           },
           "baxis": {
            "gridcolor": "white",
            "linecolor": "white",
            "ticks": ""
           },
           "bgcolor": "#E5ECF6",
           "caxis": {
            "gridcolor": "white",
            "linecolor": "white",
            "ticks": ""
           }
          },
          "title": {
           "x": 0.05
          },
          "xaxis": {
           "automargin": true,
           "gridcolor": "white",
           "linecolor": "white",
           "ticks": "",
           "title": {
            "standoff": 15
           },
           "zerolinecolor": "white",
           "zerolinewidth": 2
          },
          "yaxis": {
           "automargin": true,
           "gridcolor": "white",
           "linecolor": "white",
           "ticks": "",
           "title": {
            "standoff": 15
           },
           "zerolinecolor": "white",
           "zerolinewidth": 2
          }
         }
        },
        "title": {
         "text": "Run Start Time"
        },
        "xaxis": {
         "anchor": "y",
         "domain": [
          0,
          1
         ],
         "title": {
          "text": "start_time"
         }
        },
        "yaxis": {
         "anchor": "x",
         "domain": [
          0,
          1
         ]
        }
       }
      }
     },
     "metadata": {},
     "output_type": "display_data"
    }
   ],
   "source": [
    "px.strip(\n",
    "    runs,\n",
    "    x=\"start_time\",\n",
    "    color=\"experiment_id\",\n",
    "    hover_name=\"run_name\",\n",
    "    hover_data=runs.columns,\n",
    "    title=\"Run Start Time\",\n",
    ")"
   ]
  },
  {
   "cell_type": "code",
   "execution_count": 14,
   "metadata": {},
   "outputs": [
    {
     "data": {
      "application/vnd.plotly.v1+json": {
       "config": {
        "plotlyServerURL": "https://plot.ly"
       },
       "data": [
        {
         "alignmentgroup": "True",
         "boxpoints": "all",
         "customdata": [
          [
           "file:///home/fmind/mlops-python-package/mlruns/892046783494697990/c21b823a68ba42b2b1ff98b2ae73c424/artifacts",
           "2024-12-09T21:26:50.094000",
           "892046783494697990",
           "active",
           "c21b823a68ba42b2b1ff98b2ae73c424",
           "Explanations",
           "c21b823a68ba42b2b1ff98b2ae73c424",
           "2024-12-09T21:26:19.324000",
           "FINISHED",
           "fmind"
          ],
          [
           "file:///home/fmind/mlops-python-package/mlruns/892046783494697990/f71527e645d24f579e571b6573912f32/artifacts",
           "2024-12-09T20:16:43.066000",
           "892046783494697990",
           "active",
           "f71527e645d24f579e571b6573912f32",
           "Explanations",
           "f71527e645d24f579e571b6573912f32",
           "2024-12-09T20:16:09.833000",
           "FINISHED",
           "fmind"
          ],
          [
           "file:///home/fmind/mlops-python-package/mlruns/892046783494697990/ba156f94df9e4c1eb8cb2852e36efeb0/artifacts",
           "2024-12-09T19:40:49.139000",
           "892046783494697990",
           "active",
           "ba156f94df9e4c1eb8cb2852e36efeb0",
           "Explanations",
           "ba156f94df9e4c1eb8cb2852e36efeb0",
           "2024-12-09T19:40:19.961000",
           "FINISHED",
           "fmind"
          ]
         ],
         "fillcolor": "rgba(255,255,255,0)",
         "hoveron": "points",
         "hovertemplate": "<b>%{hovertext}</b><br><br>run_name=%{customdata[5]}<br>run_time=%{x}<br>artifact_uri=%{customdata[0]}<br>end_time=%{customdata[1]}<br>experiment_id=%{customdata[2]}<br>lifecycle_stage=%{customdata[3]}<br>run_id=%{customdata[4]}<br>run_uuid=%{customdata[6]}<br>start_time=%{customdata[7]}<br>status=%{customdata[8]}<br>user_id=%{customdata[9]}<extra></extra>",
         "hovertext": [
          "c21b823a68ba42b2b1ff98b2ae73c424",
          "f71527e645d24f579e571b6573912f32",
          "ba156f94df9e4c1eb8cb2852e36efeb0"
         ],
         "legendgroup": "Explanations",
         "line": {
          "color": "rgba(255,255,255,0)"
         },
         "marker": {
          "color": "#636efa"
         },
         "name": "Explanations",
         "offsetgroup": "Explanations",
         "orientation": "h",
         "pointpos": 0,
         "showlegend": true,
         "type": "box",
         "x": [
          30770,
          33233,
          29178
         ],
         "x0": " ",
         "xaxis": "x",
         "y0": " ",
         "yaxis": "y"
        },
        {
         "alignmentgroup": "True",
         "boxpoints": "all",
         "customdata": [
          [
           "file:///home/fmind/mlops-python-package/mlruns/892046783494697990/9da0f31e36a9413eaab18149ace82c78/artifacts",
           "2024-12-09T21:26:18.061000",
           "892046783494697990",
           "active",
           "9da0f31e36a9413eaab18149ace82c78",
           "Evaluations",
           "9da0f31e36a9413eaab18149ace82c78",
           "2024-12-09T21:26:13.489000",
           "FINISHED",
           "fmind"
          ],
          [
           "file:///home/fmind/mlops-python-package/mlruns/892046783494697990/f2823c6d05a545b793545d85b230d467/artifacts",
           "2024-12-09T20:16:08.336000",
           "892046783494697990",
           "active",
           "f2823c6d05a545b793545d85b230d467",
           "Evaluations",
           "f2823c6d05a545b793545d85b230d467",
           "2024-12-09T20:16:02.929000",
           "FINISHED",
           "fmind"
          ],
          [
           "file:///home/fmind/mlops-python-package/mlruns/892046783494697990/ecc6bbcc06a14ac4a853f18a85d2aa79/artifacts",
           "2024-12-09T19:41:30.872000",
           "892046783494697990",
           "active",
           "ecc6bbcc06a14ac4a853f18a85d2aa79",
           "Evaluations",
           "ecc6bbcc06a14ac4a853f18a85d2aa79",
           "2024-12-09T19:41:26.226000",
           "FAILED",
           "fmind"
          ],
          [
           "file:///home/fmind/mlops-python-package/mlruns/892046783494697990/4177ef56fb0e4e4eaa7f7c443c46fc16/artifacts",
           "2024-12-09T19:40:14.417000",
           "892046783494697990",
           "active",
           "4177ef56fb0e4e4eaa7f7c443c46fc16",
           "Evaluations",
           "4177ef56fb0e4e4eaa7f7c443c46fc16",
           "2024-12-09T19:40:09.199000",
           "FAILED",
           "fmind"
          ],
          [
           "file:///home/fmind/mlops-python-package/mlruns/892046783494697990/f11653b8018e42f6825a2ac1c9443937/artifacts",
           "2024-12-09T19:33:26.711000",
           "892046783494697990",
           "active",
           "f11653b8018e42f6825a2ac1c9443937",
           "Evaluations",
           "f11653b8018e42f6825a2ac1c9443937",
           "2024-12-09T19:33:22.361000",
           "FAILED",
           "fmind"
          ]
         ],
         "fillcolor": "rgba(255,255,255,0)",
         "hoveron": "points",
         "hovertemplate": "<b>%{hovertext}</b><br><br>run_name=%{customdata[5]}<br>run_time=%{x}<br>artifact_uri=%{customdata[0]}<br>end_time=%{customdata[1]}<br>experiment_id=%{customdata[2]}<br>lifecycle_stage=%{customdata[3]}<br>run_id=%{customdata[4]}<br>run_uuid=%{customdata[6]}<br>start_time=%{customdata[7]}<br>status=%{customdata[8]}<br>user_id=%{customdata[9]}<extra></extra>",
         "hovertext": [
          "9da0f31e36a9413eaab18149ace82c78",
          "f2823c6d05a545b793545d85b230d467",
          "ecc6bbcc06a14ac4a853f18a85d2aa79",
          "4177ef56fb0e4e4eaa7f7c443c46fc16",
          "f11653b8018e42f6825a2ac1c9443937"
         ],
         "legendgroup": "Evaluations",
         "line": {
          "color": "rgba(255,255,255,0)"
         },
         "marker": {
          "color": "#EF553B"
         },
         "name": "Evaluations",
         "offsetgroup": "Evaluations",
         "orientation": "h",
         "pointpos": 0,
         "showlegend": true,
         "type": "box",
         "x": [
          4572,
          5407,
          4646,
          5218,
          4350
         ],
         "x0": " ",
         "xaxis": "x",
         "y0": " ",
         "yaxis": "y"
        },
        {
         "alignmentgroup": "True",
         "boxpoints": "all",
         "customdata": [
          [
           "file:///home/fmind/mlops-python-package/mlruns/892046783494697990/8316d6855d17401b8358e88a48c159f0/artifacts",
           "2024-12-09T21:26:12.215000",
           "892046783494697990",
           "active",
           "8316d6855d17401b8358e88a48c159f0",
           "Inference",
           "8316d6855d17401b8358e88a48c159f0",
           "2024-12-09T21:26:08.210000",
           "FINISHED",
           "fmind"
          ],
          [
           "file:///home/fmind/mlops-python-package/mlruns/892046783494697990/d40bfd6d238b4e999a8b9eac47f9932a/artifacts",
           "2024-12-09T20:16:01.543000",
           "892046783494697990",
           "active",
           "d40bfd6d238b4e999a8b9eac47f9932a",
           "Inference",
           "d40bfd6d238b4e999a8b9eac47f9932a",
           "2024-12-09T20:15:56.888000",
           "FINISHED",
           "fmind"
          ],
          [
           "file:///home/fmind/mlops-python-package/mlruns/892046783494697990/92f6f8fe787c4f489024a81181b7ab41/artifacts",
           "2024-12-09T19:33:20.732000",
           "892046783494697990",
           "active",
           "92f6f8fe787c4f489024a81181b7ab41",
           "Inference",
           "92f6f8fe787c4f489024a81181b7ab41",
           "2024-12-09T19:33:16.788000",
           "FINISHED",
           "fmind"
          ]
         ],
         "fillcolor": "rgba(255,255,255,0)",
         "hoveron": "points",
         "hovertemplate": "<b>%{hovertext}</b><br><br>run_name=%{customdata[5]}<br>run_time=%{x}<br>artifact_uri=%{customdata[0]}<br>end_time=%{customdata[1]}<br>experiment_id=%{customdata[2]}<br>lifecycle_stage=%{customdata[3]}<br>run_id=%{customdata[4]}<br>run_uuid=%{customdata[6]}<br>start_time=%{customdata[7]}<br>status=%{customdata[8]}<br>user_id=%{customdata[9]}<extra></extra>",
         "hovertext": [
          "8316d6855d17401b8358e88a48c159f0",
          "d40bfd6d238b4e999a8b9eac47f9932a",
          "92f6f8fe787c4f489024a81181b7ab41"
         ],
         "legendgroup": "Inference",
         "line": {
          "color": "rgba(255,255,255,0)"
         },
         "marker": {
          "color": "#00cc96"
         },
         "name": "Inference",
         "offsetgroup": "Inference",
         "orientation": "h",
         "pointpos": 0,
         "showlegend": true,
         "type": "box",
         "x": [
          4005,
          4655,
          3944
         ],
         "x0": " ",
         "xaxis": "x",
         "y0": " ",
         "yaxis": "y"
        },
        {
         "alignmentgroup": "True",
         "boxpoints": "all",
         "customdata": [
          [
           "file:///home/fmind/mlops-python-package/mlruns/892046783494697990/b92f959ab1564eb897e2f66f7089f573/artifacts",
           "2024-12-09T21:26:06.933000",
           "892046783494697990",
           "active",
           "b92f959ab1564eb897e2f66f7089f573",
           "Promotion",
           "b92f959ab1564eb897e2f66f7089f573",
           "2024-12-09T21:26:03.382000",
           "FINISHED",
           "fmind"
          ],
          [
           "file:///home/fmind/mlops-python-package/mlruns/892046783494697990/0a425df1a36947cc912cc0abdc4c9fe1/artifacts",
           "2024-12-09T20:15:55.295000",
           "892046783494697990",
           "active",
           "0a425df1a36947cc912cc0abdc4c9fe1",
           "Promotion",
           "0a425df1a36947cc912cc0abdc4c9fe1",
           "2024-12-09T20:15:50.832000",
           "FINISHED",
           "fmind"
          ],
          [
           "file:///home/fmind/mlops-python-package/mlruns/892046783494697990/88e2b857d3734cfe96ea207be49bba2f/artifacts",
           "2024-12-09T19:33:15.552000",
           "892046783494697990",
           "active",
           "88e2b857d3734cfe96ea207be49bba2f",
           "Promotion",
           "88e2b857d3734cfe96ea207be49bba2f",
           "2024-12-09T19:33:12.258000",
           "FINISHED",
           "fmind"
          ]
         ],
         "fillcolor": "rgba(255,255,255,0)",
         "hoveron": "points",
         "hovertemplate": "<b>%{hovertext}</b><br><br>run_name=%{customdata[5]}<br>run_time=%{x}<br>artifact_uri=%{customdata[0]}<br>end_time=%{customdata[1]}<br>experiment_id=%{customdata[2]}<br>lifecycle_stage=%{customdata[3]}<br>run_id=%{customdata[4]}<br>run_uuid=%{customdata[6]}<br>start_time=%{customdata[7]}<br>status=%{customdata[8]}<br>user_id=%{customdata[9]}<extra></extra>",
         "hovertext": [
          "b92f959ab1564eb897e2f66f7089f573",
          "0a425df1a36947cc912cc0abdc4c9fe1",
          "88e2b857d3734cfe96ea207be49bba2f"
         ],
         "legendgroup": "Promotion",
         "line": {
          "color": "rgba(255,255,255,0)"
         },
         "marker": {
          "color": "#ab63fa"
         },
         "name": "Promotion",
         "offsetgroup": "Promotion",
         "orientation": "h",
         "pointpos": 0,
         "showlegend": true,
         "type": "box",
         "x": [
          3551,
          4463,
          3294
         ],
         "x0": " ",
         "xaxis": "x",
         "y0": " ",
         "yaxis": "y"
        },
        {
         "alignmentgroup": "True",
         "boxpoints": "all",
         "customdata": [
          [
           "file:///home/fmind/mlops-python-package/mlruns/892046783494697990/fc31f5b645204fdd9ef58fbbc0c105eb/artifacts",
           "2024-12-09T21:26:01.071000",
           "892046783494697990",
           "active",
           "fc31f5b645204fdd9ef58fbbc0c105eb",
           "Training",
           "fc31f5b645204fdd9ef58fbbc0c105eb",
           "2024-12-09T21:25:39.001000",
           "FINISHED",
           "fmind"
          ],
          [
           "file:///home/fmind/mlops-python-package/mlruns/892046783494697990/abad34d51a2a4cffa328136540b455c0/artifacts",
           "2024-12-09T20:15:48.530000",
           "892046783494697990",
           "active",
           "abad34d51a2a4cffa328136540b455c0",
           "Training",
           "abad34d51a2a4cffa328136540b455c0",
           "2024-12-09T20:15:23.229000",
           "FINISHED",
           "fmind"
          ],
          [
           "file:///home/fmind/mlops-python-package/mlruns/892046783494697990/ca4c7550ad354be9a2f10f7eade8d47e/artifacts",
           "2024-12-09T19:33:10.574000",
           "892046783494697990",
           "active",
           "ca4c7550ad354be9a2f10f7eade8d47e",
           "Training",
           "ca4c7550ad354be9a2f10f7eade8d47e",
           "2024-12-09T19:32:47.406000",
           "FINISHED",
           "fmind"
          ]
         ],
         "fillcolor": "rgba(255,255,255,0)",
         "hoveron": "points",
         "hovertemplate": "<b>%{hovertext}</b><br><br>run_name=%{customdata[5]}<br>run_time=%{x}<br>artifact_uri=%{customdata[0]}<br>end_time=%{customdata[1]}<br>experiment_id=%{customdata[2]}<br>lifecycle_stage=%{customdata[3]}<br>run_id=%{customdata[4]}<br>run_uuid=%{customdata[6]}<br>start_time=%{customdata[7]}<br>status=%{customdata[8]}<br>user_id=%{customdata[9]}<extra></extra>",
         "hovertext": [
          "fc31f5b645204fdd9ef58fbbc0c105eb",
          "abad34d51a2a4cffa328136540b455c0",
          "ca4c7550ad354be9a2f10f7eade8d47e"
         ],
         "legendgroup": "Training",
         "line": {
          "color": "rgba(255,255,255,0)"
         },
         "marker": {
          "color": "#FFA15A"
         },
         "name": "Training",
         "offsetgroup": "Training",
         "orientation": "h",
         "pointpos": 0,
         "showlegend": true,
         "type": "box",
         "x": [
          22070,
          25301,
          23168
         ],
         "x0": " ",
         "xaxis": "x",
         "y0": " ",
         "yaxis": "y"
        },
        {
         "alignmentgroup": "True",
         "boxpoints": "all",
         "customdata": [
          [
           "file:///home/fmind/mlops-python-package/mlruns/892046783494697990/2d2ec19f48a040e4af90b20fdf7e6575/artifacts",
           "2024-12-09T21:25:36.982000",
           "892046783494697990",
           "active",
           "2d2ec19f48a040e4af90b20fdf7e6575",
           "angry-dog-423",
           "2d2ec19f48a040e4af90b20fdf7e6575",
           "2024-12-09T21:25:03.572000",
           "FINISHED",
           "fmind"
          ]
         ],
         "fillcolor": "rgba(255,255,255,0)",
         "hoveron": "points",
         "hovertemplate": "<b>%{hovertext}</b><br><br>run_name=%{customdata[5]}<br>run_time=%{x}<br>artifact_uri=%{customdata[0]}<br>end_time=%{customdata[1]}<br>experiment_id=%{customdata[2]}<br>lifecycle_stage=%{customdata[3]}<br>run_id=%{customdata[4]}<br>run_uuid=%{customdata[6]}<br>start_time=%{customdata[7]}<br>status=%{customdata[8]}<br>user_id=%{customdata[9]}<extra></extra>",
         "hovertext": [
          "2d2ec19f48a040e4af90b20fdf7e6575"
         ],
         "legendgroup": "angry-dog-423",
         "line": {
          "color": "rgba(255,255,255,0)"
         },
         "marker": {
          "color": "#19d3f3"
         },
         "name": "angry-dog-423",
         "offsetgroup": "angry-dog-423",
         "orientation": "h",
         "pointpos": 0,
         "showlegend": true,
         "type": "box",
         "x": [
          33410
         ],
         "x0": " ",
         "xaxis": "x",
         "y0": " ",
         "yaxis": "y"
        },
        {
         "alignmentgroup": "True",
         "boxpoints": "all",
         "customdata": [
          [
           "file:///home/fmind/mlops-python-package/mlruns/892046783494697990/352518f26eef4fa38bcd37c0e91c9f97/artifacts",
           "2024-12-09T21:25:36.982000",
           "892046783494697990",
           "active",
           "352518f26eef4fa38bcd37c0e91c9f97",
           "lyrical-snail-804",
           "352518f26eef4fa38bcd37c0e91c9f97",
           "2024-12-09T21:25:03.572000",
           "FINISHED",
           "fmind"
          ]
         ],
         "fillcolor": "rgba(255,255,255,0)",
         "hoveron": "points",
         "hovertemplate": "<b>%{hovertext}</b><br><br>run_name=%{customdata[5]}<br>run_time=%{x}<br>artifact_uri=%{customdata[0]}<br>end_time=%{customdata[1]}<br>experiment_id=%{customdata[2]}<br>lifecycle_stage=%{customdata[3]}<br>run_id=%{customdata[4]}<br>run_uuid=%{customdata[6]}<br>start_time=%{customdata[7]}<br>status=%{customdata[8]}<br>user_id=%{customdata[9]}<extra></extra>",
         "hovertext": [
          "352518f26eef4fa38bcd37c0e91c9f97"
         ],
         "legendgroup": "lyrical-snail-804",
         "line": {
          "color": "rgba(255,255,255,0)"
         },
         "marker": {
          "color": "#FF6692"
         },
         "name": "lyrical-snail-804",
         "offsetgroup": "lyrical-snail-804",
         "orientation": "h",
         "pointpos": 0,
         "showlegend": true,
         "type": "box",
         "x": [
          33410
         ],
         "x0": " ",
         "xaxis": "x",
         "y0": " ",
         "yaxis": "y"
        },
        {
         "alignmentgroup": "True",
         "boxpoints": "all",
         "customdata": [
          [
           "file:///home/fmind/mlops-python-package/mlruns/892046783494697990/5ded1a1700cc4e0ea786ed96cc15c410/artifacts",
           "2024-12-09T21:25:37.702000",
           "892046783494697990",
           "active",
           "5ded1a1700cc4e0ea786ed96cc15c410",
           "Tuning",
           "5ded1a1700cc4e0ea786ed96cc15c410",
           "2024-12-09T21:25:03.572000",
           "FINISHED",
           "fmind"
          ],
          [
           "file:///home/fmind/mlops-python-package/mlruns/892046783494697990/2bb5da83357d443eb0346606326770ae/artifacts",
           "2024-12-09T20:15:21.479000",
           "892046783494697990",
           "active",
           "2bb5da83357d443eb0346606326770ae",
           "Tuning",
           "2bb5da83357d443eb0346606326770ae",
           "2024-12-09T20:11:34.899000",
           "FINISHED",
           "fmind"
          ],
          [
           "file:///home/fmind/mlops-python-package/mlruns/892046783494697990/d8d365de957c46098b7cf2e251b486fb/artifacts",
           "2024-12-09T19:32:45.822000",
           "892046783494697990",
           "active",
           "d8d365de957c46098b7cf2e251b486fb",
           "Tuning",
           "d8d365de957c46098b7cf2e251b486fb",
           "2024-12-09T19:31:03.107000",
           "FINISHED",
           "fmind"
          ]
         ],
         "fillcolor": "rgba(255,255,255,0)",
         "hoveron": "points",
         "hovertemplate": "<b>%{hovertext}</b><br><br>run_name=%{customdata[5]}<br>run_time=%{x}<br>artifact_uri=%{customdata[0]}<br>end_time=%{customdata[1]}<br>experiment_id=%{customdata[2]}<br>lifecycle_stage=%{customdata[3]}<br>run_id=%{customdata[4]}<br>run_uuid=%{customdata[6]}<br>start_time=%{customdata[7]}<br>status=%{customdata[8]}<br>user_id=%{customdata[9]}<extra></extra>",
         "hovertext": [
          "5ded1a1700cc4e0ea786ed96cc15c410",
          "2bb5da83357d443eb0346606326770ae",
          "d8d365de957c46098b7cf2e251b486fb"
         ],
         "legendgroup": "Tuning",
         "line": {
          "color": "rgba(255,255,255,0)"
         },
         "marker": {
          "color": "#B6E880"
         },
         "name": "Tuning",
         "offsetgroup": "Tuning",
         "orientation": "h",
         "pointpos": 0,
         "showlegend": true,
         "type": "box",
         "x": [
          34130,
          226580,
          102715
         ],
         "x0": " ",
         "xaxis": "x",
         "y0": " ",
         "yaxis": "y"
        },
        {
         "alignmentgroup": "True",
         "boxpoints": "all",
         "customdata": [
          [
           "file:///home/fmind/mlops-python-package/mlruns/892046783494697990/eb21e4c57e3047dd9fbace349ddfc701/artifacts",
           "2024-12-09T21:25:36.982000",
           "892046783494697990",
           "active",
           "eb21e4c57e3047dd9fbace349ddfc701",
           "capable-asp-689",
           "eb21e4c57e3047dd9fbace349ddfc701",
           "2024-12-09T21:25:03.572000",
           "FINISHED",
           "fmind"
          ]
         ],
         "fillcolor": "rgba(255,255,255,0)",
         "hoveron": "points",
         "hovertemplate": "<b>%{hovertext}</b><br><br>run_name=%{customdata[5]}<br>run_time=%{x}<br>artifact_uri=%{customdata[0]}<br>end_time=%{customdata[1]}<br>experiment_id=%{customdata[2]}<br>lifecycle_stage=%{customdata[3]}<br>run_id=%{customdata[4]}<br>run_uuid=%{customdata[6]}<br>start_time=%{customdata[7]}<br>status=%{customdata[8]}<br>user_id=%{customdata[9]}<extra></extra>",
         "hovertext": [
          "eb21e4c57e3047dd9fbace349ddfc701"
         ],
         "legendgroup": "capable-asp-689",
         "line": {
          "color": "rgba(255,255,255,0)"
         },
         "marker": {
          "color": "#FF97FF"
         },
         "name": "capable-asp-689",
         "offsetgroup": "capable-asp-689",
         "orientation": "h",
         "pointpos": 0,
         "showlegend": true,
         "type": "box",
         "x": [
          33410
         ],
         "x0": " ",
         "xaxis": "x",
         "y0": " ",
         "yaxis": "y"
        },
        {
         "alignmentgroup": "True",
         "boxpoints": "all",
         "customdata": [
          [
           "file:///home/fmind/mlops-python-package/mlruns/892046783494697990/0f3fb536c019419ba34c04dfb4357f55/artifacts",
           "2024-12-09T20:15:20.354000",
           "892046783494697990",
           "active",
           "0f3fb536c019419ba34c04dfb4357f55",
           "youthful-carp-377",
           "0f3fb536c019419ba34c04dfb4357f55",
           "2024-12-09T20:11:34.899000",
           "FINISHED",
           "fmind"
          ]
         ],
         "fillcolor": "rgba(255,255,255,0)",
         "hoveron": "points",
         "hovertemplate": "<b>%{hovertext}</b><br><br>run_name=%{customdata[5]}<br>run_time=%{x}<br>artifact_uri=%{customdata[0]}<br>end_time=%{customdata[1]}<br>experiment_id=%{customdata[2]}<br>lifecycle_stage=%{customdata[3]}<br>run_id=%{customdata[4]}<br>run_uuid=%{customdata[6]}<br>start_time=%{customdata[7]}<br>status=%{customdata[8]}<br>user_id=%{customdata[9]}<extra></extra>",
         "hovertext": [
          "0f3fb536c019419ba34c04dfb4357f55"
         ],
         "legendgroup": "youthful-carp-377",
         "line": {
          "color": "rgba(255,255,255,0)"
         },
         "marker": {
          "color": "#FECB52"
         },
         "name": "youthful-carp-377",
         "offsetgroup": "youthful-carp-377",
         "orientation": "h",
         "pointpos": 0,
         "showlegend": true,
         "type": "box",
         "x": [
          225455
         ],
         "x0": " ",
         "xaxis": "x",
         "y0": " ",
         "yaxis": "y"
        },
        {
         "alignmentgroup": "True",
         "boxpoints": "all",
         "customdata": [
          [
           "file:///home/fmind/mlops-python-package/mlruns/892046783494697990/1460078c4b1a4e9eacc1284ef88fb01d/artifacts",
           "2024-12-09T20:15:20.354000",
           "892046783494697990",
           "active",
           "1460078c4b1a4e9eacc1284ef88fb01d",
           "enchanting-pig-738",
           "1460078c4b1a4e9eacc1284ef88fb01d",
           "2024-12-09T20:11:34.899000",
           "FINISHED",
           "fmind"
          ]
         ],
         "fillcolor": "rgba(255,255,255,0)",
         "hoveron": "points",
         "hovertemplate": "<b>%{hovertext}</b><br><br>run_name=%{customdata[5]}<br>run_time=%{x}<br>artifact_uri=%{customdata[0]}<br>end_time=%{customdata[1]}<br>experiment_id=%{customdata[2]}<br>lifecycle_stage=%{customdata[3]}<br>run_id=%{customdata[4]}<br>run_uuid=%{customdata[6]}<br>start_time=%{customdata[7]}<br>status=%{customdata[8]}<br>user_id=%{customdata[9]}<extra></extra>",
         "hovertext": [
          "1460078c4b1a4e9eacc1284ef88fb01d"
         ],
         "legendgroup": "enchanting-pig-738",
         "line": {
          "color": "rgba(255,255,255,0)"
         },
         "marker": {
          "color": "#636efa"
         },
         "name": "enchanting-pig-738",
         "offsetgroup": "enchanting-pig-738",
         "orientation": "h",
         "pointpos": 0,
         "showlegend": true,
         "type": "box",
         "x": [
          225455
         ],
         "x0": " ",
         "xaxis": "x",
         "y0": " ",
         "yaxis": "y"
        },
        {
         "alignmentgroup": "True",
         "boxpoints": "all",
         "customdata": [
          [
           "file:///home/fmind/mlops-python-package/mlruns/892046783494697990/fe06e9a76b124cdb8d95a70d0e0807e1/artifacts",
           "2024-12-09T20:15:20.354000",
           "892046783494697990",
           "active",
           "fe06e9a76b124cdb8d95a70d0e0807e1",
           "youthful-shoat-928",
           "fe06e9a76b124cdb8d95a70d0e0807e1",
           "2024-12-09T20:11:34.899000",
           "FINISHED",
           "fmind"
          ]
         ],
         "fillcolor": "rgba(255,255,255,0)",
         "hoveron": "points",
         "hovertemplate": "<b>%{hovertext}</b><br><br>run_name=%{customdata[5]}<br>run_time=%{x}<br>artifact_uri=%{customdata[0]}<br>end_time=%{customdata[1]}<br>experiment_id=%{customdata[2]}<br>lifecycle_stage=%{customdata[3]}<br>run_id=%{customdata[4]}<br>run_uuid=%{customdata[6]}<br>start_time=%{customdata[7]}<br>status=%{customdata[8]}<br>user_id=%{customdata[9]}<extra></extra>",
         "hovertext": [
          "fe06e9a76b124cdb8d95a70d0e0807e1"
         ],
         "legendgroup": "youthful-shoat-928",
         "line": {
          "color": "rgba(255,255,255,0)"
         },
         "marker": {
          "color": "#EF553B"
         },
         "name": "youthful-shoat-928",
         "offsetgroup": "youthful-shoat-928",
         "orientation": "h",
         "pointpos": 0,
         "showlegend": true,
         "type": "box",
         "x": [
          225455
         ],
         "x0": " ",
         "xaxis": "x",
         "y0": " ",
         "yaxis": "y"
        },
        {
         "alignmentgroup": "True",
         "boxpoints": "all",
         "customdata": [
          [
           "file:///home/fmind/mlops-python-package/mlruns/892046783494697990/3c3f2883be0643b9800e8c161764bb5f/artifacts",
           "2024-12-09T19:32:45.039000",
           "892046783494697990",
           "active",
           "3c3f2883be0643b9800e8c161764bb5f",
           "resilient-doe-203",
           "3c3f2883be0643b9800e8c161764bb5f",
           "2024-12-09T19:31:03.107000",
           "FINISHED",
           "fmind"
          ]
         ],
         "fillcolor": "rgba(255,255,255,0)",
         "hoveron": "points",
         "hovertemplate": "<b>%{hovertext}</b><br><br>run_name=%{customdata[5]}<br>run_time=%{x}<br>artifact_uri=%{customdata[0]}<br>end_time=%{customdata[1]}<br>experiment_id=%{customdata[2]}<br>lifecycle_stage=%{customdata[3]}<br>run_id=%{customdata[4]}<br>run_uuid=%{customdata[6]}<br>start_time=%{customdata[7]}<br>status=%{customdata[8]}<br>user_id=%{customdata[9]}<extra></extra>",
         "hovertext": [
          "3c3f2883be0643b9800e8c161764bb5f"
         ],
         "legendgroup": "resilient-doe-203",
         "line": {
          "color": "rgba(255,255,255,0)"
         },
         "marker": {
          "color": "#00cc96"
         },
         "name": "resilient-doe-203",
         "offsetgroup": "resilient-doe-203",
         "orientation": "h",
         "pointpos": 0,
         "showlegend": true,
         "type": "box",
         "x": [
          101932
         ],
         "x0": " ",
         "xaxis": "x",
         "y0": " ",
         "yaxis": "y"
        },
        {
         "alignmentgroup": "True",
         "boxpoints": "all",
         "customdata": [
          [
           "file:///home/fmind/mlops-python-package/mlruns/892046783494697990/846fb4b5ca654800b2cb0592c6c2e999/artifacts",
           "2024-12-09T19:32:45.039000",
           "892046783494697990",
           "active",
           "846fb4b5ca654800b2cb0592c6c2e999",
           "unequaled-conch-92",
           "846fb4b5ca654800b2cb0592c6c2e999",
           "2024-12-09T19:31:03.107000",
           "FINISHED",
           "fmind"
          ]
         ],
         "fillcolor": "rgba(255,255,255,0)",
         "hoveron": "points",
         "hovertemplate": "<b>%{hovertext}</b><br><br>run_name=%{customdata[5]}<br>run_time=%{x}<br>artifact_uri=%{customdata[0]}<br>end_time=%{customdata[1]}<br>experiment_id=%{customdata[2]}<br>lifecycle_stage=%{customdata[3]}<br>run_id=%{customdata[4]}<br>run_uuid=%{customdata[6]}<br>start_time=%{customdata[7]}<br>status=%{customdata[8]}<br>user_id=%{customdata[9]}<extra></extra>",
         "hovertext": [
          "846fb4b5ca654800b2cb0592c6c2e999"
         ],
         "legendgroup": "unequaled-conch-92",
         "line": {
          "color": "rgba(255,255,255,0)"
         },
         "marker": {
          "color": "#ab63fa"
         },
         "name": "unequaled-conch-92",
         "offsetgroup": "unequaled-conch-92",
         "orientation": "h",
         "pointpos": 0,
         "showlegend": true,
         "type": "box",
         "x": [
          101932
         ],
         "x0": " ",
         "xaxis": "x",
         "y0": " ",
         "yaxis": "y"
        },
        {
         "alignmentgroup": "True",
         "boxpoints": "all",
         "customdata": [
          [
           "file:///home/fmind/mlops-python-package/mlruns/892046783494697990/ed9728cf10d74fe6a053231b54e82e16/artifacts",
           "2024-12-09T19:32:45.039000",
           "892046783494697990",
           "active",
           "ed9728cf10d74fe6a053231b54e82e16",
           "adventurous-fowl-590",
           "ed9728cf10d74fe6a053231b54e82e16",
           "2024-12-09T19:31:03.107000",
           "FINISHED",
           "fmind"
          ]
         ],
         "fillcolor": "rgba(255,255,255,0)",
         "hoveron": "points",
         "hovertemplate": "<b>%{hovertext}</b><br><br>run_name=%{customdata[5]}<br>run_time=%{x}<br>artifact_uri=%{customdata[0]}<br>end_time=%{customdata[1]}<br>experiment_id=%{customdata[2]}<br>lifecycle_stage=%{customdata[3]}<br>run_id=%{customdata[4]}<br>run_uuid=%{customdata[6]}<br>start_time=%{customdata[7]}<br>status=%{customdata[8]}<br>user_id=%{customdata[9]}<extra></extra>",
         "hovertext": [
          "ed9728cf10d74fe6a053231b54e82e16"
         ],
         "legendgroup": "adventurous-fowl-590",
         "line": {
          "color": "rgba(255,255,255,0)"
         },
         "marker": {
          "color": "#FFA15A"
         },
         "name": "adventurous-fowl-590",
         "offsetgroup": "adventurous-fowl-590",
         "orientation": "h",
         "pointpos": 0,
         "showlegend": true,
         "type": "box",
         "x": [
          101932
         ],
         "x0": " ",
         "xaxis": "x",
         "y0": " ",
         "yaxis": "y"
        }
       ],
       "layout": {
        "boxmode": "group",
        "legend": {
         "title": {
          "text": "run_name"
         },
         "tracegroupgap": 0
        },
        "template": {
         "data": {
          "bar": [
           {
            "error_x": {
             "color": "#2a3f5f"
            },
            "error_y": {
             "color": "#2a3f5f"
            },
            "marker": {
             "line": {
              "color": "#E5ECF6",
              "width": 0.5
             },
             "pattern": {
              "fillmode": "overlay",
              "size": 10,
              "solidity": 0.2
             }
            },
            "type": "bar"
           }
          ],
          "barpolar": [
           {
            "marker": {
             "line": {
              "color": "#E5ECF6",
              "width": 0.5
             },
             "pattern": {
              "fillmode": "overlay",
              "size": 10,
              "solidity": 0.2
             }
            },
            "type": "barpolar"
           }
          ],
          "carpet": [
           {
            "aaxis": {
             "endlinecolor": "#2a3f5f",
             "gridcolor": "white",
             "linecolor": "white",
             "minorgridcolor": "white",
             "startlinecolor": "#2a3f5f"
            },
            "baxis": {
             "endlinecolor": "#2a3f5f",
             "gridcolor": "white",
             "linecolor": "white",
             "minorgridcolor": "white",
             "startlinecolor": "#2a3f5f"
            },
            "type": "carpet"
           }
          ],
          "choropleth": [
           {
            "colorbar": {
             "outlinewidth": 0,
             "ticks": ""
            },
            "type": "choropleth"
           }
          ],
          "contour": [
           {
            "colorbar": {
             "outlinewidth": 0,
             "ticks": ""
            },
            "colorscale": [
             [
              0,
              "#0d0887"
             ],
             [
              0.1111111111111111,
              "#46039f"
             ],
             [
              0.2222222222222222,
              "#7201a8"
             ],
             [
              0.3333333333333333,
              "#9c179e"
             ],
             [
              0.4444444444444444,
              "#bd3786"
             ],
             [
              0.5555555555555556,
              "#d8576b"
             ],
             [
              0.6666666666666666,
              "#ed7953"
             ],
             [
              0.7777777777777778,
              "#fb9f3a"
             ],
             [
              0.8888888888888888,
              "#fdca26"
             ],
             [
              1,
              "#f0f921"
             ]
            ],
            "type": "contour"
           }
          ],
          "contourcarpet": [
           {
            "colorbar": {
             "outlinewidth": 0,
             "ticks": ""
            },
            "type": "contourcarpet"
           }
          ],
          "heatmap": [
           {
            "colorbar": {
             "outlinewidth": 0,
             "ticks": ""
            },
            "colorscale": [
             [
              0,
              "#0d0887"
             ],
             [
              0.1111111111111111,
              "#46039f"
             ],
             [
              0.2222222222222222,
              "#7201a8"
             ],
             [
              0.3333333333333333,
              "#9c179e"
             ],
             [
              0.4444444444444444,
              "#bd3786"
             ],
             [
              0.5555555555555556,
              "#d8576b"
             ],
             [
              0.6666666666666666,
              "#ed7953"
             ],
             [
              0.7777777777777778,
              "#fb9f3a"
             ],
             [
              0.8888888888888888,
              "#fdca26"
             ],
             [
              1,
              "#f0f921"
             ]
            ],
            "type": "heatmap"
           }
          ],
          "heatmapgl": [
           {
            "colorbar": {
             "outlinewidth": 0,
             "ticks": ""
            },
            "colorscale": [
             [
              0,
              "#0d0887"
             ],
             [
              0.1111111111111111,
              "#46039f"
             ],
             [
              0.2222222222222222,
              "#7201a8"
             ],
             [
              0.3333333333333333,
              "#9c179e"
             ],
             [
              0.4444444444444444,
              "#bd3786"
             ],
             [
              0.5555555555555556,
              "#d8576b"
             ],
             [
              0.6666666666666666,
              "#ed7953"
             ],
             [
              0.7777777777777778,
              "#fb9f3a"
             ],
             [
              0.8888888888888888,
              "#fdca26"
             ],
             [
              1,
              "#f0f921"
             ]
            ],
            "type": "heatmapgl"
           }
          ],
          "histogram": [
           {
            "marker": {
             "pattern": {
              "fillmode": "overlay",
              "size": 10,
              "solidity": 0.2
             }
            },
            "type": "histogram"
           }
          ],
          "histogram2d": [
           {
            "colorbar": {
             "outlinewidth": 0,
             "ticks": ""
            },
            "colorscale": [
             [
              0,
              "#0d0887"
             ],
             [
              0.1111111111111111,
              "#46039f"
             ],
             [
              0.2222222222222222,
              "#7201a8"
             ],
             [
              0.3333333333333333,
              "#9c179e"
             ],
             [
              0.4444444444444444,
              "#bd3786"
             ],
             [
              0.5555555555555556,
              "#d8576b"
             ],
             [
              0.6666666666666666,
              "#ed7953"
             ],
             [
              0.7777777777777778,
              "#fb9f3a"
             ],
             [
              0.8888888888888888,
              "#fdca26"
             ],
             [
              1,
              "#f0f921"
             ]
            ],
            "type": "histogram2d"
           }
          ],
          "histogram2dcontour": [
           {
            "colorbar": {
             "outlinewidth": 0,
             "ticks": ""
            },
            "colorscale": [
             [
              0,
              "#0d0887"
             ],
             [
              0.1111111111111111,
              "#46039f"
             ],
             [
              0.2222222222222222,
              "#7201a8"
             ],
             [
              0.3333333333333333,
              "#9c179e"
             ],
             [
              0.4444444444444444,
              "#bd3786"
             ],
             [
              0.5555555555555556,
              "#d8576b"
             ],
             [
              0.6666666666666666,
              "#ed7953"
             ],
             [
              0.7777777777777778,
              "#fb9f3a"
             ],
             [
              0.8888888888888888,
              "#fdca26"
             ],
             [
              1,
              "#f0f921"
             ]
            ],
            "type": "histogram2dcontour"
           }
          ],
          "mesh3d": [
           {
            "colorbar": {
             "outlinewidth": 0,
             "ticks": ""
            },
            "type": "mesh3d"
           }
          ],
          "parcoords": [
           {
            "line": {
             "colorbar": {
              "outlinewidth": 0,
              "ticks": ""
             }
            },
            "type": "parcoords"
           }
          ],
          "pie": [
           {
            "automargin": true,
            "type": "pie"
           }
          ],
          "scatter": [
           {
            "fillpattern": {
             "fillmode": "overlay",
             "size": 10,
             "solidity": 0.2
            },
            "type": "scatter"
           }
          ],
          "scatter3d": [
           {
            "line": {
             "colorbar": {
              "outlinewidth": 0,
              "ticks": ""
             }
            },
            "marker": {
             "colorbar": {
              "outlinewidth": 0,
              "ticks": ""
             }
            },
            "type": "scatter3d"
           }
          ],
          "scattercarpet": [
           {
            "marker": {
             "colorbar": {
              "outlinewidth": 0,
              "ticks": ""
             }
            },
            "type": "scattercarpet"
           }
          ],
          "scattergeo": [
           {
            "marker": {
             "colorbar": {
              "outlinewidth": 0,
              "ticks": ""
             }
            },
            "type": "scattergeo"
           }
          ],
          "scattergl": [
           {
            "marker": {
             "colorbar": {
              "outlinewidth": 0,
              "ticks": ""
             }
            },
            "type": "scattergl"
           }
          ],
          "scattermapbox": [
           {
            "marker": {
             "colorbar": {
              "outlinewidth": 0,
              "ticks": ""
             }
            },
            "type": "scattermapbox"
           }
          ],
          "scatterpolar": [
           {
            "marker": {
             "colorbar": {
              "outlinewidth": 0,
              "ticks": ""
             }
            },
            "type": "scatterpolar"
           }
          ],
          "scatterpolargl": [
           {
            "marker": {
             "colorbar": {
              "outlinewidth": 0,
              "ticks": ""
             }
            },
            "type": "scatterpolargl"
           }
          ],
          "scatterternary": [
           {
            "marker": {
             "colorbar": {
              "outlinewidth": 0,
              "ticks": ""
             }
            },
            "type": "scatterternary"
           }
          ],
          "surface": [
           {
            "colorbar": {
             "outlinewidth": 0,
             "ticks": ""
            },
            "colorscale": [
             [
              0,
              "#0d0887"
             ],
             [
              0.1111111111111111,
              "#46039f"
             ],
             [
              0.2222222222222222,
              "#7201a8"
             ],
             [
              0.3333333333333333,
              "#9c179e"
             ],
             [
              0.4444444444444444,
              "#bd3786"
             ],
             [
              0.5555555555555556,
              "#d8576b"
             ],
             [
              0.6666666666666666,
              "#ed7953"
             ],
             [
              0.7777777777777778,
              "#fb9f3a"
             ],
             [
              0.8888888888888888,
              "#fdca26"
             ],
             [
              1,
              "#f0f921"
             ]
            ],
            "type": "surface"
           }
          ],
          "table": [
           {
            "cells": {
             "fill": {
              "color": "#EBF0F8"
             },
             "line": {
              "color": "white"
             }
            },
            "header": {
             "fill": {
              "color": "#C8D4E3"
             },
             "line": {
              "color": "white"
             }
            },
            "type": "table"
           }
          ]
         },
         "layout": {
          "annotationdefaults": {
           "arrowcolor": "#2a3f5f",
           "arrowhead": 0,
           "arrowwidth": 1
          },
          "autotypenumbers": "strict",
          "coloraxis": {
           "colorbar": {
            "outlinewidth": 0,
            "ticks": ""
           }
          },
          "colorscale": {
           "diverging": [
            [
             0,
             "#8e0152"
            ],
            [
             0.1,
             "#c51b7d"
            ],
            [
             0.2,
             "#de77ae"
            ],
            [
             0.3,
             "#f1b6da"
            ],
            [
             0.4,
             "#fde0ef"
            ],
            [
             0.5,
             "#f7f7f7"
            ],
            [
             0.6,
             "#e6f5d0"
            ],
            [
             0.7,
             "#b8e186"
            ],
            [
             0.8,
             "#7fbc41"
            ],
            [
             0.9,
             "#4d9221"
            ],
            [
             1,
             "#276419"
            ]
           ],
           "sequential": [
            [
             0,
             "#0d0887"
            ],
            [
             0.1111111111111111,
             "#46039f"
            ],
            [
             0.2222222222222222,
             "#7201a8"
            ],
            [
             0.3333333333333333,
             "#9c179e"
            ],
            [
             0.4444444444444444,
             "#bd3786"
            ],
            [
             0.5555555555555556,
             "#d8576b"
            ],
            [
             0.6666666666666666,
             "#ed7953"
            ],
            [
             0.7777777777777778,
             "#fb9f3a"
            ],
            [
             0.8888888888888888,
             "#fdca26"
            ],
            [
             1,
             "#f0f921"
            ]
           ],
           "sequentialminus": [
            [
             0,
             "#0d0887"
            ],
            [
             0.1111111111111111,
             "#46039f"
            ],
            [
             0.2222222222222222,
             "#7201a8"
            ],
            [
             0.3333333333333333,
             "#9c179e"
            ],
            [
             0.4444444444444444,
             "#bd3786"
            ],
            [
             0.5555555555555556,
             "#d8576b"
            ],
            [
             0.6666666666666666,
             "#ed7953"
            ],
            [
             0.7777777777777778,
             "#fb9f3a"
            ],
            [
             0.8888888888888888,
             "#fdca26"
            ],
            [
             1,
             "#f0f921"
            ]
           ]
          },
          "colorway": [
           "#636efa",
           "#EF553B",
           "#00cc96",
           "#ab63fa",
           "#FFA15A",
           "#19d3f3",
           "#FF6692",
           "#B6E880",
           "#FF97FF",
           "#FECB52"
          ],
          "font": {
           "color": "#2a3f5f"
          },
          "geo": {
           "bgcolor": "white",
           "lakecolor": "white",
           "landcolor": "#E5ECF6",
           "showlakes": true,
           "showland": true,
           "subunitcolor": "white"
          },
          "hoverlabel": {
           "align": "left"
          },
          "hovermode": "closest",
          "mapbox": {
           "style": "light"
          },
          "paper_bgcolor": "white",
          "plot_bgcolor": "#E5ECF6",
          "polar": {
           "angularaxis": {
            "gridcolor": "white",
            "linecolor": "white",
            "ticks": ""
           },
           "bgcolor": "#E5ECF6",
           "radialaxis": {
            "gridcolor": "white",
            "linecolor": "white",
            "ticks": ""
           }
          },
          "scene": {
           "xaxis": {
            "backgroundcolor": "#E5ECF6",
            "gridcolor": "white",
            "gridwidth": 2,
            "linecolor": "white",
            "showbackground": true,
            "ticks": "",
            "zerolinecolor": "white"
           },
           "yaxis": {
            "backgroundcolor": "#E5ECF6",
            "gridcolor": "white",
            "gridwidth": 2,
            "linecolor": "white",
            "showbackground": true,
            "ticks": "",
            "zerolinecolor": "white"
           },
           "zaxis": {
            "backgroundcolor": "#E5ECF6",
            "gridcolor": "white",
            "gridwidth": 2,
            "linecolor": "white",
            "showbackground": true,
            "ticks": "",
            "zerolinecolor": "white"
           }
          },
          "shapedefaults": {
           "line": {
            "color": "#2a3f5f"
           }
          },
          "ternary": {
           "aaxis": {
            "gridcolor": "white",
            "linecolor": "white",
            "ticks": ""
           },
           "baxis": {
            "gridcolor": "white",
            "linecolor": "white",
            "ticks": ""
           },
           "bgcolor": "#E5ECF6",
           "caxis": {
            "gridcolor": "white",
            "linecolor": "white",
            "ticks": ""
           }
          },
          "title": {
           "x": 0.05
          },
          "xaxis": {
           "automargin": true,
           "gridcolor": "white",
           "linecolor": "white",
           "ticks": "",
           "title": {
            "standoff": 15
           },
           "zerolinecolor": "white",
           "zerolinewidth": 2
          },
          "yaxis": {
           "automargin": true,
           "gridcolor": "white",
           "linecolor": "white",
           "ticks": "",
           "title": {
            "standoff": 15
           },
           "zerolinecolor": "white",
           "zerolinewidth": 2
          }
         }
        },
        "title": {
         "text": "Run Time"
        },
        "xaxis": {
         "anchor": "y",
         "domain": [
          0,
          1
         ],
         "title": {
          "text": "run_time"
         }
        },
        "yaxis": {
         "anchor": "x",
         "domain": [
          0,
          1
         ]
        }
       }
      }
     },
     "metadata": {},
     "output_type": "display_data"
    }
   ],
   "source": [
    "px.strip(\n",
    "    runs,\n",
    "    x=\"run_time\",\n",
    "    color=\"run_name\",\n",
    "    hover_name=\"run_id\",\n",
    "    hover_data=runs.columns,\n",
    "    title=\"Run Time\",\n",
    ")"
   ]
  }
 ],
 "metadata": {
  "kernelspec": {
   "display_name": ".venv",
   "language": "python",
   "name": "python3"
  },
  "language_info": {
   "codemirror_mode": {
    "name": "ipython",
    "version": 3
   },
   "file_extension": ".py",
   "mimetype": "text/x-python",
   "name": "python",
   "nbconvert_exporter": "python",
   "pygments_lexer": "ipython3",
   "version": "3.12.5"
  }
 },
 "nbformat": 4,
 "nbformat_minor": 2
}
